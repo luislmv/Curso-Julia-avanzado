{
 "cells": [
  {
   "cell_type": "markdown",
   "metadata": {},
   "source": [
    "# Tópicos avanzados de programación con Julia"
   ]
  },
  {
   "cell_type": "markdown",
   "metadata": {},
   "source": [
    "## _Lenguajes y Errores_"
   ]
  },
  {
   "cell_type": "markdown",
   "metadata": {},
   "source": [
    " "
   ]
  },
  {
   "cell_type": "markdown",
   "metadata": {},
   "source": [
    "### Temario para cubrir el objetivo 2"
   ]
  },
  {
   "cell_type": "markdown",
   "metadata": {},
   "source": [
    "__Tratamiento de errores mediante la depuración, el testing y buenas prácticas de programación.__\n",
    "- Lenguajes formales, naturales y metalenguajes.\n",
    "  - Lenguajes.\n",
    "  - Lenguajes Naturales.\n",
    "  - Lenguajes formales.\n",
    "  - Metalenguajes.\n",
    "  - Traducción y codificación de un lenguaje formal a otro.\n",
    "  \n",
    "- Tipos de errores en programación.\n",
    "  - Errores de sintaxis.\n",
    "  - Errores en tiempo de ejecución.\n",
    "  - Errores semánticos.\n",
    "    - Errores semánticos relacionados con la implementación del programa.\n",
    "    - Errores en el planteamiento del modelo.\n",
    "      - Mapeo de Lorenz.\n",
    "      - Fenómeno de Gibbs.\n",
    "    - Errores numéricos en general.\n",
    "    - Errores derivados de la aproximación del método numérico.\n",
    "    - Errores numéricos debidos a la aritmética finita.\n",
    "      - Errores al realizar operaciones aritméticas.\n",
    "      - Modelos teóricos que no aplican debido a la aritmética finita.\n",
    "      - Acumulación de errores de redondeo.\n",
    "      - Más precisión."
   ]
  },
  {
   "cell_type": "markdown",
   "metadata": {},
   "source": [
    "#### Errores de sintaxis"
   ]
  },
  {
   "cell_type": "markdown",
   "metadata": {},
   "source": [
    "### Lenguajes formales, naturales y metalenguajes"
   ]
  },
  {
   "cell_type": "markdown",
   "metadata": {},
   "source": [
    "#### Lenguajes"
   ]
  },
  {
   "cell_type": "markdown",
   "metadata": {},
   "source": [
    "- Un __símbolo__ es un objeto indivisible.\n",
    "  - «_a_», «_A_» ..., «_z_», «_Z_», «_0_», ..., «_9_», «_,_», «_;_», «_._», «_:_», «𝄞»,..., etc.\n",
    "- Un __alfabeto__ $S$ es un conjunto de __símbolos__ $\\{s_i\\}_{i\\in I}$, que puede ser __finito__ o __infinito__.\n",
    "  - Para fines prácticos será __finito__:\n",
    "    -  $S = \\{s_1 , s_2 , \\dots , s_n\\}$\n",
    "- Una __cadena__ o __palabra__ $x$ es una sucesión __finita__ de __símbolos__, de un __alfabeto__ __finito__.\n",
    " -  La longitud de una cadena $x = x_1 x_2 \\dots x_k$ es el número de símbolos «$k$» que la constituyen. La denotaremos por $l(x)=k$.\n",
    "   - La cadena de longitud cero es la cadena vacía. Esta es una cadena especial y la denotaremos por $e$.\n",
    "- $S^*$ es el conjunto de todas las __cadenas__ sobre un __alfabeto__ $S$.\n",
    "  - $S^n = \\{x\\in S^* | l(x) = n\\}$ es el conjunto de todas las cadenas de longitud $n$.\n",
    "    - Si $|S|=k$ $\\implies$ $|S^n|= k^n$\n",
    "  - $S^*=    \\bigcup S^n$ $\\implies$ $S^*$ es numerable.\n",
    "  - Sea $\\circ\\colon S^*\\times S^*\\to S^*$, $x\\circ y=xy$. A la operación $\\circ$ se le llama __concatenación__, __yuxtaposición__ o producto de cadenas.\n",
    "    - $(S^*, \\circ, e)$ es un semigrupo (semigrupo libre).\n",
    "    - $S^*=\\langle S\\rangle$. El conjunto de todas las palabras $S^*$, es el conjunto finitamente generado por el subconjunto __alfabeto__ $S$ con la operación __concatenación__ $\\circ$.\n",
    "    \n",
    "- $L\\subseteq S^*$ es un __lenguaje__.\n",
    "- O más general, $L$ es un lenguaje si existe $f\\colon L\\to S^*$.\n",
    "\n",
    "__Ejemplo de lenguajes__\n",
    "1. El español. Donde $S$ es el alfabeto tradicional, unión el resto de símbolos usados, unión el espacio en blanco y el salto de linea.\n",
    "- En general cualquier idioma, norma, dialecto o jerga es un lenguaje según la definición anterior.\n",
    "- Los grupos libres $(S^*, \\circ, e)$ (cada palabra tiene un inverso).\n",
    "  - La edición de texto (caso particular de una máquina de Turing) puede modelarse como una sucesión de operaciones en el grupo libre generado por todos los caracteres que se pueden escribir. Donde borrar un símbolo es equivalente a concatenarlo con su inverso.\n",
    "- El conjunto «$\\{ 1011, 01, 0011\\}$» es un lenguaje de 3 palabras en $S=\\{0, 1\\}$.\n",
    "- El lenguaje matemático.\n",
    "- La musica (las partituras).\n",
    "- Las fórmulas químicas.\n",
    "- Los pseudocódigos.\n",
    "- UML (en particular los diagramas de actividad o de flujo).\n",
    "- $\\TeX$, $\\LaTeX$ y __HTML__\n",
    "- Los lenguajes de máquina y de programación.\n",
    "\n",
    "Debido a que un lenguaje puede tener una cardinalidad muy grande o incluso infinita, en ocasiones es necesario determinarlo mediante alguna regla de pertenencia (empleando el axioma de esquema de comprensión).\n",
    "- La __sintaxis__ de un lenguaje es el conjunto de reglas que conforman la propiedad de selección. De ese modo podemos saber si una palabra formada con elementos de $S^*$ pertenece o no a $L$.\n",
    "\n",
    "Dado que un lenguaje se crea para comunicar algo, es necesario saber cual es el significado de cada elemento.\n",
    "- La __semántica__ de un lenguaje es el estudio del significado de sus palabras."
   ]
  },
  {
   "cell_type": "markdown",
   "metadata": {},
   "source": [
    "#### Lenguajes Naturales"
   ]
  },
  {
   "cell_type": "markdown",
   "metadata": {},
   "source": [
    "- Son lenguajes que surgen de manera espontánea.\n",
    "- Los dos primeros ejemplos son lenguajes naturales.\n",
    "- La sintaxis está en constante cambio y en ocasiones es confusa.\n",
    "  - Las reglas de pertenencia son poco claras. Es decir, es difícil o imposible determinar todos los elementos de $L\\subseteq S^*$, aunque $S^*$ si esté bien determinado.\n",
    "  - Cuando una palabra que no pertenece al lenguaje, es aceptada por un número significativo de personas, entonces su uso se regulariza y pasa a pertenecer al lenguaje.\n",
    "- La semántica es ambigua. \n",
    "  - Una palabra puede tener distintos significados, dependiendo del contexto o de la región que la utiliza.\n",
    "  - Una palabra puede tener un significado distinto al significado literal (metáforas o lenguaje figurado).\n",
    "  - Dado a que suelen ser muy imprecisos, en ocasiones es necesario aumentar el tamaño de la palabra, para eliminar ambigüedades. Esto los hace bastante extensos para transmitir una idea."
   ]
  },
  {
   "cell_type": "markdown",
   "metadata": {},
   "source": [
    "#### Lenguajes formales"
   ]
  },
  {
   "cell_type": "markdown",
   "metadata": {},
   "source": [
    "- Son lenguajes construidos artificialmente.\n",
    "- Todos los ejemplos del tres en adelante, son lenguajes formales.\n",
    "- Su sintaxis es clara.\n",
    "  - Siempre es posible determinar si una palabra pertenece o no al lenguaje.\n",
    "- La semántica es determinista.\n",
    "  - El significado de las palabras es preciso (o esa es la idea).\n",
    "  - El significado es literal.\n",
    "  - Debido a que no hay ambigüedades (se trata de que no hayan), suelen ser muy densos o crípticos."
   ]
  },
  {
   "cell_type": "markdown",
   "metadata": {},
   "source": [
    "#### Metalenguajes"
   ]
  },
  {
   "cell_type": "markdown",
   "metadata": {},
   "source": [
    "El metalenguaje es un lenguaje que se usa para hablar de otro lenguaje (lenguaje objeto).\n",
    "Se puede ver como una extensión del lenguaje objeto.\n",
    "\n",
    "__Ejemplo:__\n",
    "1. Cadenas compuestas por varios idiomas:\n",
    "\n",
    "  - «Nos vemos mañana, bye»\n",
    "\n",
    "- Cuando usas un idioma para describir otro idioma.\n",
    "  - Se puede usar el mismo idioma para describirse a si mismo. En ese caso el lenguaje objeto coincide con el metalenguaje.\n",
    "  \n",
    "- Un «script» comentado es un metalenguaje.\n",
    "```julia\n",
    "println(\"Hola\") #Imprime la palabra «Hola».\n",
    "```\n",
    "- En las matemáticas, casi siempre se emplea un metalenguaje.\n",
    "Por ejemplo para definir sucesiones convergentes $\\{a_n\\}_{n\\in\\mathbb N}$ en un espacio métrico $(X, d)$:\n",
    "\n",
    "Si existe un $l\\in X$ tal que $\\forall_{\\epsilon>0}\\exists_{N\\in\\mathbb N}$, tal que si $N\\le n$, entonces $d(a_n,l)<\\epsilon$\n",
    "\n",
    "En el lenguaje formal matemático sería:\n",
    "\n",
    "$\\exists_{l\\in X}\\forall_{\\epsilon>0}\\exists_{N\\in\\mathbb N}[\\forall_{n\\ge N}\\implies d(a_n,l)<\\epsilon]$\n",
    "\n",
    "Incluso en ese caso, necesitas de algún otro lenguaje para presentar al espacio métrico, y escribir el nombre de la definición.\n",
    "\n",
    "5. La fórmula del agua es $H_2O$.\n",
    "- Todo este notebook es un metalenguaje que incorpora varios lenguajes objetos."
   ]
  },
  {
   "cell_type": "markdown",
   "metadata": {},
   "source": [
    "#### Traducción y codificación de un lenguaje formal a otro"
   ]
  },
  {
   "cell_type": "markdown",
   "metadata": {},
   "source": [
    "1. Dado dos lenguajes, $L_1$ y $L_2$. Una _traducción_ de $L_1$ a $L_2$ es una función de $f\\colon L_1\\to L_2$.\n",
    "  - Un script o «palabra» de Julia se traduce a una palabra en lenguaje binario.\n",
    "  - Una traducción no necesariamente es biyectiva.\n",
    "    - Un lenguaje puede no abarcar todas las instrucciones posibles en binario.\n",
    "    - Pueden existir dos palabras de $L_1$ que se traduzcan a una misma palabra en $L_2$.\n",
    "\n",
    "__Ejemplo__\n",
    "\n",
    "  `x=\"hola\"; println(x)` y `saludo=\"hola\"; println(saludo)` se traducen de la misma manera a binario.\n",
    "  \n",
    "2. Si $f$ es biyectiva, entonces se le llama función de codificación o simplemente _codificación_.\n",
    "  - A los lenguajes formales que tienen una función de codificación se les llama códigos.\n",
    "    - Si el alfabeto tiene $n$ símbolos entonces  es un código $n-ario$.\n",
    "    - Es posible convertir a un lenguaje formal en un código si trabajamos en el cociente de ese lenguaje con alguna relación de equivalencia.\n",
    "      - En el ejemplo anterior «$x\\sim y$, si son nombres de variables»."
   ]
  },
  {
   "cell_type": "markdown",
   "metadata": {},
   "source": [
    "### Tipos de errores en programación"
   ]
  },
  {
   "cell_type": "markdown",
   "metadata": {},
   "source": [
    "Los errores se pueden clasificar en tres grandes grupos:\n",
    "\n",
    "1. Errores de sintaxis.\n",
    "- Errores en tiempo de ejecución.\n",
    "- Errores semánticos."
   ]
  },
  {
   "cell_type": "markdown",
   "metadata": {},
   "source": [
    "#### Errores de sintaxis"
   ]
  },
  {
   "cell_type": "markdown",
   "metadata": {},
   "source": [
    "1. Al utilizar un símbolo que no pertenezca al alfabeto del lenguaje."
   ]
  },
  {
   "cell_type": "markdown",
   "metadata": {},
   "source": [
    "La palabra «El perr🌝 duerme» es un error de sintaxis en el español, ya que «🌝», no pertenece al alfabeto.\n",
    "\n",
    "Para lenguajes como `Julia`, esto no es un problema, ya que aceptan cualquier caracter unicode. En este caso $|S|\\le2^{32}$, ya que los caracteres unicode ocupan entre uno y cuatro Bytes. Por tanto sólo pueden haber como máximo $2^{32}$ caracteres unicode.\n",
    "\n",
    "Esta palabra pertenece a Julia:"
   ]
  },
  {
   "cell_type": "code",
   "execution_count": null,
   "metadata": {},
   "outputs": [],
   "source": [
    "☕ = \"una tasa de café\"\n",
    "🌝 = \"feliz\"\n",
    "string(\"tomar \", ☕, \" me pone \", 🌝)"
   ]
  },
  {
   "cell_type": "markdown",
   "metadata": {},
   "source": [
    "En lenguajes como `C` (al menos en el estándar _ANSI_ ), no podría emplear los símbolos ☕ o 🌝, para definir variables, ya que estos no están en su alfabeto."
   ]
  },
  {
   "cell_type": "markdown",
   "metadata": {},
   "source": [
    "2. Al utilizar una palabra que no existe en el lenguaje, aunque cada símbolo esté en el alfabeto.\n",
    "\n",
    "  - La palabra «eL perro duerme» no pertenece al español.\n",
    "\n",
    "  - ¿Las palabras «español», y «espannol» pertenece al español?\n",
    "\n",
    "  - Las siguientes palabras no pertenecen a Julia:"
   ]
  },
  {
   "cell_type": "code",
   "execution_count": null,
   "metadata": {},
   "outputs": [],
   "source": [
    "☕ = \"una tasa de café\n",
    "🌝 = \"feliz\"\n",
    "string(\"tomar \", ☕, \" me pone \", 🌝)"
   ]
  },
  {
   "cell_type": "code",
   "execution_count": null,
   "metadata": {},
   "outputs": [],
   "source": [
    "x=1\n",
    "if x<=1\n",
    "    println(\"Es menor a uno\") #Esto no es python 🌝."
   ]
  },
  {
   "cell_type": "markdown",
   "metadata": {},
   "source": [
    "Los errores de sintaxis son reportados por el compilador o el intérprete. En la mayoría de los casos el error está presente en alguna linea anterior a la que indica el intérprete. Muchas veces esto ocurre en la linea inmediata anterior.\n",
    "\n",
    "Los errores de sintaxis se descubren cuando el intérprete o el compilador, traduce el «script» a binario. \n",
    "\n",
    "Los errores de sintaxis disminuyen con la práctica del programador.\n",
    "\n",
    "En la mayoría de los casos se debe a:\n",
    "- La falta de un cierre «end», «\"» «)», «]», «}»"
   ]
  },
  {
   "cell_type": "markdown",
   "metadata": {},
   "source": [
    "- Uso de palabras reservadas par nombre de variables:"
   ]
  },
  {
   "cell_type": "code",
   "execution_count": null,
   "metadata": {},
   "outputs": [],
   "source": [
    "if=1"
   ]
  },
  {
   "cell_type": "markdown",
   "metadata": {},
   "source": [
    "- Uso del nombre de una función para nombre de variable:"
   ]
  },
  {
   "cell_type": "code",
   "execution_count": null,
   "metadata": {},
   "outputs": [],
   "source": [
    "cos=2 #Si ya se usó el coseno esto dará error, en caso contrario no."
   ]
  },
  {
   "cell_type": "code",
   "execution_count": null,
   "metadata": {},
   "outputs": [],
   "source": [
    "cos(1) #Si se usó «cos» para nombrar una variable esto dará error."
   ]
  },
  {
   "cell_type": "markdown",
   "metadata": {},
   "source": [
    "- Uso de «=» en lugar de «==» en una comprobación."
   ]
  },
  {
   "cell_type": "code",
   "execution_count": null,
   "metadata": {},
   "outputs": [],
   "source": [
    "x=1\n",
    "if x=1 #Esto es una asignación, no una comprobación.\n",
    "    println(\"Es igual a uno\")\n",
    "end"
   ]
  },
  {
   "cell_type": "markdown",
   "metadata": {},
   "source": [
    "#### Errores en tiempo de ejecución"
   ]
  },
  {
   "cell_type": "markdown",
   "metadata": {},
   "source": [
    "Los errores en tiempo de ejecución se presentan si algo falla mientras se ejecuta el programa. La mayoría de los mensajes de error en tiempo de ejecución indican dónde ocurrió el error y qué funciones se estaban ejecutando."
   ]
  },
  {
   "cell_type": "markdown",
   "metadata": {},
   "source": [
    "Alguno de los errores en tiempo de ejecución más comunes:\n",
    "- Si no se cumplen las condiciones para la entrada de un programa o función."
   ]
  },
  {
   "cell_type": "code",
   "execution_count": null,
   "metadata": {},
   "outputs": [],
   "source": [
    "function CombLineal(x,y)#y no puede ser cero.\n",
    "    a=x÷y\n",
    "    b=x%y\n",
    "    s=string(x,\"=\",a,\"⋅\",y,\"+\",b)\n",
    "    println(s)\n",
    "end"
   ]
  },
  {
   "cell_type": "code",
   "execution_count": null,
   "metadata": {},
   "outputs": [],
   "source": [
    "CombLineal(5,2)#Perfecto."
   ]
  },
  {
   "cell_type": "code",
   "execution_count": null,
   "metadata": {},
   "outputs": [],
   "source": [
    "CombLineal(5,0) #El operador «÷» no admite que el segundo operando sea 0."
   ]
  },
  {
   "cell_type": "code",
   "execution_count": null,
   "metadata": {},
   "outputs": [],
   "source": [
    "0.0/0.0 #En Julia no es un error, pero sin duda da problemas."
   ]
  },
  {
   "cell_type": "code",
   "execution_count": null,
   "metadata": {},
   "outputs": [],
   "source": [
    "1.0/0.0 #Igual que el anterior."
   ]
  },
  {
   "cell_type": "markdown",
   "metadata": {},
   "source": [
    "En Julia, los errores anteriores serían considerados errores semánticos, más que errores en tiempo de ejecución.\n",
    "En otros lenguajes como Python, se consideran errores de ejecución, ya que levantan excepciones."
   ]
  },
  {
   "cell_type": "markdown",
   "metadata": {},
   "source": [
    "- Llamada a una variable que no se ha declarado."
   ]
  },
  {
   "cell_type": "code",
   "execution_count": null,
   "metadata": {},
   "outputs": [],
   "source": [
    "existencia = 10\n",
    "function Venta(vendido::Bool, exist::Int64)\n",
    "   if vendido\n",
    "        local_exist = exist - 1 #Lugar incorrecto par definir variable local.\n",
    "        println(\"Se vendió un producto\")\n",
    "    end\n",
    "    return local_exist\n",
    "end"
   ]
  },
  {
   "cell_type": "code",
   "execution_count": null,
   "metadata": {},
   "outputs": [],
   "source": [
    "existencia = Venta(true, existencia)"
   ]
  },
  {
   "cell_type": "code",
   "execution_count": null,
   "metadata": {},
   "outputs": [],
   "source": [
    "#En este caso local_exist, no está definida.\n",
    "existencia = Venta(false, existencia)"
   ]
  },
  {
   "cell_type": "markdown",
   "metadata": {},
   "source": [
    "- Bucle infinito."
   ]
  },
  {
   "cell_type": "code",
   "execution_count": null,
   "metadata": {},
   "outputs": [],
   "source": [
    "function Contador(a)\n",
    "    i=a\n",
    "    s=string(\"El último es \", i)\n",
    "    while i != 10\n",
    "        i+=1\n",
    "        s=string(\"El último es \", i)\n",
    "    end\n",
    "    println(s)\n",
    "end"
   ]
  },
  {
   "cell_type": "code",
   "execution_count": null,
   "metadata": {},
   "outputs": [],
   "source": [
    "Contador(2)\n",
    "Contador(10)"
   ]
  },
  {
   "cell_type": "code",
   "execution_count": null,
   "metadata": {},
   "outputs": [],
   "source": [
    "Contador(12) #bucle infinito."
   ]
  },
  {
   "cell_type": "markdown",
   "metadata": {},
   "source": [
    "- Recursión infinita."
   ]
  },
  {
   "cell_type": "code",
   "execution_count": null,
   "metadata": {},
   "outputs": [],
   "source": [
    "function factorial(n)\n",
    "    fact=n\n",
    "    if fact == 0 || fact == 1\n",
    "        return 1\n",
    "    end\n",
    "    fact*=factorial(fact-1)\n",
    "end"
   ]
  },
  {
   "cell_type": "code",
   "execution_count": null,
   "metadata": {},
   "outputs": [],
   "source": [
    "factorial(5)"
   ]
  },
  {
   "cell_type": "code",
   "execution_count": null,
   "metadata": {},
   "outputs": [],
   "source": [
    "factorial(0)"
   ]
  },
  {
   "cell_type": "code",
   "execution_count": null,
   "metadata": {},
   "outputs": [],
   "source": [
    "factorial(5.0) #Funciona."
   ]
  },
  {
   "cell_type": "code",
   "execution_count": null,
   "metadata": {},
   "outputs": [],
   "source": [
    "factorial(5.1) #La recursión es infinita."
   ]
  },
  {
   "cell_type": "code",
   "execution_count": null,
   "metadata": {},
   "outputs": [],
   "source": [
    "factorial(-5) #Igualmente."
   ]
  },
  {
   "cell_type": "markdown",
   "metadata": {},
   "source": [
    "- Acceso fuera de los límites de indexación."
   ]
  },
  {
   "cell_type": "code",
   "execution_count": null,
   "metadata": {},
   "outputs": [],
   "source": [
    "arreglo=[1,2,3]"
   ]
  },
  {
   "cell_type": "code",
   "execution_count": null,
   "metadata": {},
   "outputs": [],
   "source": [
    "arreglo[1]"
   ]
  },
  {
   "cell_type": "code",
   "execution_count": null,
   "metadata": {},
   "outputs": [],
   "source": [
    "arreglo[0] #fuera de rango."
   ]
  },
  {
   "cell_type": "code",
   "execution_count": null,
   "metadata": {},
   "outputs": [],
   "source": [
    "arreglo[4] #Igualmente."
   ]
  },
  {
   "cell_type": "markdown",
   "metadata": {},
   "source": [
    "#### Errores semánticos"
   ]
  },
  {
   "cell_type": "markdown",
   "metadata": {},
   "source": [
    "Los errores semánticos ocurren cuando la palabra pertenece al lenguaje, pero tiene un significado distinto al que nosotros creemos que tiene. Dicho de otra forma. Un error semántico es aquel que ocurre sin levantar una excepción, pero provoca un resultado distinto al que nosotros esperamos.\n",
    "\n",
    "Los errores semánticos son los más complejos de identificar y corregir, ya que el intérprete no te indica que existe. La forma de identificarlos es realizar pruebas e identificar si el resultado es el deseado o no.\n",
    "\n",
    "Los errores semánticos pueden ser de naturaleza muy variada. En general se pueden clasificar en dos grupos:\n",
    "\n",
    "1. Errores semanticos relacionados con la implementación del programa.\n",
    "- Errores semánticos independientes a la implementación del programa.\n",
    "  - Errores en el planteamiento del modelo.\n",
    "  - Errores numéricos.\n",
    "    - Errores numéricos derivados de la aproximación del método numérico.\n",
    "    - Errores numéricos debidos a la aritmética finita\n",
    "\n",
    "\n",
    "En las secciones siguientes se mostrarán algunos casos particulares de interés para nosotros."
   ]
  },
  {
   "cell_type": "markdown",
   "metadata": {},
   "source": [
    "##### Errores semánticos relacionados con la implementación del programa"
   ]
  },
  {
   "cell_type": "markdown",
   "metadata": {},
   "source": [
    "En algunos casos son fáciles de detectar. Sólo con hacer algunos casos de pruebas, se puede ver rápidamente que el programa no devuelve el resultado esperado.\n",
    "\n",
    "En otros el error puede ser más sutil. Puede funcionar aparentemente de forma correcta, e incluso puede que devuelva el resultado deseado, y aún así estar mal implementado.\n",
    "\n",
    "Veamos el siguiente ejemplo:\n",
    "\n",
    "Sea un sistema de ecuaciones diferenciales ordinarias\n",
    "$$\n",
    "\\left\\{\n",
    "\\begin{array}{ll}\n",
    "    \\frac{dx_1}{dt} = f_{x_1}(x_1,x_2, \\cdots, x_n, t)\\\\\n",
    "    \\frac{dx_2}{dt} = f_{x_2}(x_1,x_2, \\cdots, x_n, t)\\\\\n",
    "    \\vdots\\\\\n",
    "    \\frac{dx_n}{dt} = f_{x_n}(x_1,x_2, \\cdots, x_n, t)\\\\\n",
    "\\end{array} \n",
    "\\right.\n",
    "$$\n",
    "\n",
    "El sistema anterior es equivalente a $\\frac{d\\mathbf{r}}{dt} = \\mathbf{f}(\\mathbf{r},t)$, con $\\mathbf{r}\\in\\mathbb R^n$ y $\\mathbf{f}\\colon A\\subseteq\\mathbb R^{n+1}\\to\\mathbb R^{n}$\n",
    "\n",
    "Supongamos que queremos integrar el sistema en el intervalo $t\\in [a, b]$ y $\\mathbf{r}(a)=\\mathbf{r}_a$\n",
    "\n",
    "Por Taylor:\n",
    "$$\\mathbf{r}(t+h)=\\mathbf{r}(t)+h\\frac{d\\mathbf{r}}{dt}+O(h^2)=\\mathbf{r}(t)+h\\mathbf{f}(x,t)+O(h^{2})$$\n",
    "\n",
    "Esto conduce al método de Euler\n",
    "\n",
    "$$\n",
    "\\mathbf{r}(t+h)=\\mathbf{r}(t)+h\\mathbf{f}(x,t)+O(h^2)\n",
    "$$\n",
    "\n",
    "Se puede demostrar que el método RK4 es equivalente a usar los primeros cinco términos del desarrollo de Taylor de \\mathbf{r}.\n",
    "\n",
    "Una de las formas más comunes de RK4 (existen una cantidad no numerable de variaciones de RK4) es la siguiente:\n",
    "\n",
    "$$\n",
    "\\left\\{\n",
    "\\begin{array}{ll}\n",
    "    \\mathbf{k_1}=h\\mathbf{f}(\\mathbf{r},t)\\\\\n",
    "    \\mathbf{k_2}=h\\mathbf{f}(\\mathbf{r}+0.5\\mathbf{k_1},t+0.5h)\\\\\n",
    "    \\mathbf{k_3}=h\\mathbf{f}(\\mathbf{r+}0.5\\mathbf{k_2},t+0.5h)\\\\\n",
    "    \\mathbf{k_4}=h\\mathbf{f}(\\mathbf{r}+\\mathbf{k_3},t+h)\n",
    "\\end{array} \n",
    "\\right.\n",
    "$$\n",
    "\n",
    "$$\n",
    "\\mathbf{r(t+h)}=\\mathbf{r}(t)+\\frac{(\\mathbf{k_1+2k_2+2k_3+k_4)}}{6.}+O(h^5)\n",
    "$$\n",
    "\n",
    "El código siguiente es una implementación del método RK4 en Python. Esta implementación tiene un error que hace que se tenga una precisión igual a la del método de Euler.\n",
    "\n",
    "```python\n",
    "def RK4(f,a,b,N,x_0,v_0):\n",
    "    #RK4 para un sistema de dos ecuaciones diferenciales ordinarias.\n",
    "    h = (b-a)/N\n",
    "    lista_t=arange(a,b,h)\n",
    "    lista_x = []\n",
    "    lista_v = []\n",
    "    r = array([x_0,v_0],float)#Condiciones iniciales.\n",
    "    for t in lista_t:\n",
    "        k1=h*f(r,t)\n",
    "        k2=h*f(r+0.5*k1,t+0.5*h)\n",
    "        k3=h*f(r+0.5*k2,t+0.5*h)\n",
    "        k4=h*f(r+k3,t+h)\n",
    "        r+=(k1+2*k2+2*k3+k4)/6.0\n",
    "        lista_x.append(r[0])\n",
    "        lista_v.append(r[1])\n",
    "    return [lista_t, lista_x, lista_v]\n",
    "```"
   ]
  },
  {
   "cell_type": "markdown",
   "metadata": {},
   "source": [
    "<tr>\n",
    "    <td> <img src=\"img/rk4-1.png\" width=\"100%\"/> </td>\n",
    "    <td> <img src=\"img/rk4-2.png\" width=\"100%\"/> </td>\n",
    "</tr>"
   ]
  },
  {
   "cell_type": "markdown",
   "metadata": {},
   "source": [
    "En la próxima plática hablaremos más sobre este tema."
   ]
  },
  {
   "cell_type": "markdown",
   "metadata": {},
   "source": [
    "##### Errores en el planteamiento del modelo"
   ]
  },
  {
   "cell_type": "markdown",
   "metadata": {},
   "source": [
    "###### Mapeo de Lorenz"
   ]
  },
  {
   "cell_type": "markdown",
   "metadata": {},
   "source": [
    "Al discretizar un sistema dinámico continuo (convertirlo en un sistema de ecuaciones en diferencias), el nuevo sistema dinámico (_discreto_ ) puede comportarse de manera distinta. Un ejemplo de lo anterior es la logística.\n",
    "\n",
    "El siguiente sistema propuesto por Lorenz, fue famoso por acuñar el nombre de «caos computacional».\n",
    "\n",
    "$$\n",
    "\\left\\{\n",
    "\\begin{array}{ll}\n",
    "    \\frac{dx}{dt} = x-y-x^3\\\\\n",
    "    \\frac{dy}{dt} = x-x^2y\n",
    "\\end{array} \n",
    "\\right.\n",
    "$$\n",
    "\n",
    "¿Que ocurre al integrarlo mediante Euler?"
   ]
  },
  {
   "cell_type": "markdown",
   "metadata": {},
   "source": [
    "### <span style=\"color:red\">CÓDIGO PYTHON</span>."
   ]
  },
  {
   "cell_type": "code",
   "execution_count": null,
   "metadata": {},
   "outputs": [],
   "source": [
    "from pylab import *\n",
    "from numpy import*\n",
    "\n",
    "#Método de Euler para sistemas de dos ecuaciones.\n",
    "#«f» función a integrar en el intervalo temporal [«a», «b»].\n",
    "#«N» número de intervalos en que se dividirá [«a», «b»].\n",
    "#«x_0» y «v_0» son las condiciones iniciales.\n",
    "def Euler(f,a,b,N,x_0,v_0):\n",
    "    h = (b-a)/N\n",
    "    lista_t=arange(a,b,h) #Lista con tiempo discreto.\n",
    "    lista_x = []\n",
    "    lista_v = []\n",
    "    r = array([x_0,v_0],float)#Condiciones iniciales.\n",
    "    for t in lista_t:\n",
    "        lista_x.append(r[0]) #Órbita de x.\n",
    "        lista_v.append(r[1]) #Órbita de v.\n",
    "        r+=h*f(r,t+h)\n",
    "    return [lista_t, lista_x, lista_v]\n",
    "    \n",
    "def f(r,t):\n",
    "    x=r[0]\n",
    "    y=r[1]\n",
    "    fx=x-y-x**3\n",
    "    fy=x-x**2*y\n",
    "    return array([fx,fy],float)\n",
    "\n",
    "def graficar(solu):\n",
    "    fig1,(ax1, ax2) = plt.subplots(nrows=1,ncols=2, figsize=(10, 4))\n",
    "    ax1.plot(solu[0], solu[1], label='x')\n",
    "    ax1.plot(solu[0], solu[2], label='y')\n",
    "    ax1.set_xlabel('t')\n",
    "    ax1.set_ylabel('Órbitas de $x$ y $y$')\n",
    "    ax1.set_title('Discretizado por Euler')\n",
    "    ax1.legend()\n",
    "    ax2.plot(solu[1], solu[2])\n",
    "    ax2.set_xlabel('x')\n",
    "    ax2.set_ylabel('y')\n",
    "    ax2.set_title('Espacio de fase')\n",
    "    show()"
   ]
  },
  {
   "cell_type": "markdown",
   "metadata": {},
   "source": [
    "Con $t\\in[0,100]$, $N=3000$ y $(x_0, y_0)=(0.1,0.0)$:"
   ]
  },
  {
   "cell_type": "code",
   "execution_count": null,
   "metadata": {},
   "outputs": [],
   "source": [
    "solu=Euler(f,0,100,3000,0.1,0.0)\n",
    "graficar(solu)"
   ]
  },
  {
   "cell_type": "markdown",
   "metadata": {},
   "source": [
    "Con $t\\in[0,100]$, $N=300$ y $(x_0, y_0)=(0.1,0.0)$:"
   ]
  },
  {
   "cell_type": "code",
   "execution_count": null,
   "metadata": {},
   "outputs": [],
   "source": [
    "solu=Euler(f,0,100,300,0.1,0.0)\n",
    "graficar(solu)"
   ]
  },
  {
   "cell_type": "markdown",
   "metadata": {},
   "source": [
    "Con $t\\in[0,100]$, $N=170$ y $(x_0, y_0)=(0.1,0.0)$:"
   ]
  },
  {
   "cell_type": "code",
   "execution_count": null,
   "metadata": {},
   "outputs": [],
   "source": [
    "solu=Euler(f,0,100,170,0.1,0.0)\n",
    "graficar(solu)"
   ]
  },
  {
   "cell_type": "markdown",
   "metadata": {},
   "source": [
    "Otra forma de expresar el sistema discretizado es:\n",
    "$$\n",
    "\\left\\{\n",
    "\\begin{array}{ll}\n",
    "    x_{n+1} = x_n+h(x_n-y_n-x_n^3)\\\\\n",
    "    y_{n+1} = y_n+h(x_n-x_n^2y_n)\n",
    "\\end{array} \n",
    "\\right.\n",
    "$$\n",
    "\n",
    "Donde $h=x_{n+1}-x_n=\\frac{(b-a)}{N}$, $t\\in[a, b]$, $N$ es el número de iteraciones y $(x_0,y_0)$ es el punto inicial.\n",
    "\n",
    "Nosotros estamos acostumbrados a expresar el sistema de esta manera:\n",
    "\n",
    "Sea la familia de funciones $f_h\\colon\\mathbb R^2 \\to \\mathbb R^2$, $f_h(x,y)=\\left(x+h(x-y-x^3), y+h(x-x^2y)\\right)$\n",
    "\n",
    "Se observa que el sistema es estructuralmente inestable respecto al parámetro h.\n",
    "\n",
    "Al resolver un sistema de ecuaciones diferenciales por métodos numéricos, lo que se está haciendo es sustituir el sistema dinámico continuo por uno discreto, que suponemos, tiene el mismo comportamiento."
   ]
  },
  {
   "cell_type": "markdown",
   "metadata": {},
   "source": [
    "###### Fenómeno de Gibbs"
   ]
  },
  {
   "cell_type": "markdown",
   "metadata": {},
   "source": [
    "Aunque una función se pueda desarrollar en series trigonométricas Fourier, existen problemas en las discontinuidades de salto."
   ]
  },
  {
   "cell_type": "code",
   "execution_count": null,
   "metadata": {},
   "outputs": [],
   "source": [
    "using Plots\n",
    "Salto(x)=x<0 ? -1 : 1 #función salto o escalón.\n",
    "    \n",
    "# Suma parcial de la serie de Fourier de la función salto.\n",
    "function SaltoFourier(x::Float64, n::Int64)\n",
    "    suma=0.0\n",
    "    for i in 1:n\n",
    "       suma+=sin((2*i-1)*x)/(2*i-1)\n",
    "    end\n",
    "    return 4.0*suma/π\n",
    "end"
   ]
  },
  {
   "cell_type": "code",
   "execution_count": null,
   "metadata": {},
   "outputs": [],
   "source": [
    "n=20\n",
    "plot(-π:0.001:π, x -> SaltoFourier(x,n))\n",
    "plot!(-π:0.001:π, Salto)"
   ]
  },
  {
   "cell_type": "code",
   "execution_count": null,
   "metadata": {},
   "outputs": [],
   "source": [
    "n=1000\n",
    "plot(-π:0.001:π, x -> SaltoFourier(x,n))\n",
    "plot!(-π:0.001:π, Salto)"
   ]
  },
  {
   "cell_type": "markdown",
   "metadata": {},
   "source": [
    "En los puntos de discontinuidad, la gráficas no convergen al promedio de los límites laterales. En esos puntos, la gráfica converge a un segmento de longitud:\n",
    "\n",
    "$$\n",
    "L=\\frac{2}{\\pi}|f(a+)-f(a-)|\\int \\limits_{0}^{\\pi} \\frac{\\sin(t)}{t}dt\n",
    "$$\n",
    "\n",
    "Centrado en el punto $\\left(a, \\frac{f(a+)+f(a-)}{2}\\right)$, donde $a$ es el punto de discontinuidad."
   ]
  },
  {
   "cell_type": "markdown",
   "metadata": {},
   "source": [
    "Se puede modificar la serie de Fourier para que la gráfica converja adecuadamente. La idea es sustituir las sumas parciales, por los promedios de todas las sumas parciales, desde la primera hasta la última. Este método se conoce como suma de Féjer, y además de solucionar el problema anterior, hace que se necesiten condiciones más débiles para que las series de Fourier (modificadas por Féjer) converjan."
   ]
  },
  {
   "cell_type": "code",
   "execution_count": null,
   "metadata": {},
   "outputs": [],
   "source": [
    "#Suma parcial de Féjer para la función salto.\n",
    "function SaltoFejer(x::Float64, n::Int64)\n",
    "    suma=0.0\n",
    "    for i in 1:n\n",
    "        suma+=(1-(2*i-1)/(2*n))*sin((2*i-1)*x)/(2*i-1)\n",
    "    end\n",
    "    return 4.0*suma/π\n",
    "end"
   ]
  },
  {
   "cell_type": "code",
   "execution_count": null,
   "metadata": {},
   "outputs": [],
   "source": [
    "n=20\n",
    "plot(-π:0.001:π, x -> SaltoFejer(x,n))\n",
    "plot!(-π:0.001:π, Salto)"
   ]
  },
  {
   "cell_type": "code",
   "execution_count": null,
   "metadata": {},
   "outputs": [],
   "source": [
    "n=1000\n",
    "plot(-π:0.001:π, x -> SaltoFejer(x,n))\n",
    "plot!(-π:0.001:π, Salto)"
   ]
  },
  {
   "cell_type": "markdown",
   "metadata": {},
   "source": [
    "Adjunto el artículo donde saqué el ejemplo."
   ]
  },
  {
   "cell_type": "markdown",
   "metadata": {},
   "source": [
    "##### Errores numéricos en general"
   ]
  },
  {
   "cell_type": "markdown",
   "metadata": {},
   "source": [
    "Sea $x_{t}$ el valor teórico o verdadero de alguna número y $x_{a}$ el valor aproximado. \n",
    "\n",
    "El error absoluto está definido por:\n",
    "\n",
    "$$err(x_{a})=|x_{t}-x_{a}|$$\n",
    "\n",
    "El error relativo es: \n",
    "$$err_r(x_{a})=\\frac{|x_{t}-x_{a}|}{x_{t}}$$\n",
    "\n",
    "El error porcentual es:\n",
    "$$err_p(x_{a})=err_r(x_{a})(100\\%)$$\n",
    "\n",
    "En la mayoría de los casos los que realmente importan son los errores relativos. En eso se basa el punto flotante (trata de mantener el mismo error relativo).\n",
    "\n",
    "Al ejecutar funciones u operaciones con valores aproximados, sus errores se propagan. Si se ejecutan un número considerable de operaciones con valores aproximados, el resultado puede distar bastante del esperado.\n",
    "\n",
    "Si $z=f(x,y)$ es diferenciable y las variables $x$, $y$ son independientes $\\implies$ $err(z_a)=\\sqrt{f_x^2dx^2+f_y^2dy^2}$, donde $dx=err(x_a)$, $dy=err(y_a)$ y las derivadas se evalúan en $(x_a, y_a)$.\n",
    "\n",
    "Si las variables son dependientes, entonces hay que considerar la covarianza. [Aquí](https://es.wikipedia.org/wiki/Propagaci%C3%B3n_de_errores) se muestra como quedaría la expresión."
   ]
  },
  {
   "cell_type": "markdown",
   "metadata": {},
   "source": [
    "##### Errores derivados de la aproximación del método numérico"
   ]
  },
  {
   "cell_type": "markdown",
   "metadata": {},
   "source": [
    "En la mayoría de los casos, los métodos numéricos son aproximaciones polinomiales (Taylor) de una función (derivada, integral, ...).\n",
    "\n",
    "- En cada paso del método de Newton-Raphson, el cero de $f$ se aproxima mediante los dos primeros términos del desarrollo en serie de Taylor de $f$. El error que se comente en cada paso es $O(h^2)$, donde $h=err(x_a)$ y $x_a$ es la aproximación del cero de $f$ en ese paso. Si el punto inicial está en la cuenca de atracción del sistema dinámico discreto, entonces $h\\to 0$ a medida que recorremos la órbita $\\implies$ $f(x_a)\\to 0$ también.\n",
    "\n",
    "- Lo mismo ocurre con los métodos de integración de funciones y de ecuaciones diferenciales.\n",
    "  - En cada iteración del método de Euler, el error es $O(h^2)$ y el error global (el error propagado al final) es $O(h)$.\n",
    "  - El error local (en cada paso) del método RK4 es $O(h^5)$ y el error global es $O(h^4)$.\n",
    "  - Verlet tiene un error local de $O(h^3)$ y un error global de $O(h^2)$. Sin embargo tiene una propiedad interesante. Conserva la energía del sistema dinámico continuo original. Es por eso que durante mucho tiempo se usó para modelar la mecánica de cuerpos celestes (para que conservaran la órbita)."
   ]
  },
  {
   "cell_type": "markdown",
   "metadata": {},
   "source": [
    "<img src=\"img/c.png\" width=\"60%\"/>\n",
    "<img src=\"img/c-2.png\" width=\"60%\"/>"
   ]
  },
  {
   "cell_type": "markdown",
   "metadata": {},
   "source": [
    "##### Errores numéricos debidos a la aritmética finita"
   ]
  },
  {
   "cell_type": "markdown",
   "metadata": {},
   "source": [
    "Debido a que contamos con un número finito de valores para representar a los reales, la precisión es limitada. Además, al realizar varias operaciones aritméticas consecutivas, los errores de redondeo se van acumulando. En la próxima plática hablaremos más sobre este tema.\n",
    "\n",
    "Ahora veamos algunos ejemplos."
   ]
  },
  {
   "cell_type": "markdown",
   "metadata": {},
   "source": [
    "###### Errores al realizar operaciones aritméticas"
   ]
  },
  {
   "cell_type": "markdown",
   "metadata": {},
   "source": [
    "Algunos ejemplos donde falla la aritmética es al restar dos números muy cercanos. También al dividir uno grande por uno pequeño y viceversa. En ocasiones se pueden atenuar el error, haciendo alguna manipulación algebraica."
   ]
  },
  {
   "cell_type": "code",
   "execution_count": null,
   "metadata": {},
   "outputs": [],
   "source": [
    "x=5.7e14\n",
    "y1=log(x+1)-log(x)\n",
    "y2=log((x+1)/x)\n",
    "\n",
    "x=big\"5.7e14\"\n",
    "y3=log(x+1)-log(x)\n",
    "\n",
    "println(y1, \"\\n\", y2, \"\\n\", y3)"
   ]
  },
  {
   "cell_type": "code",
   "execution_count": null,
   "metadata": {},
   "outputs": [],
   "source": [
    "x=5.7e14\n",
    "y1=√(x^2+1)-x\n",
    "y2=1/(√(x^2+1)+x)\n",
    "\n",
    "x=big\"5.7e14\"\n",
    "y3=√(x^2+1)-x\n",
    "\n",
    "println(y1, \"\\n\", y2, \"\\n\", y3)"
   ]
  },
  {
   "cell_type": "code",
   "execution_count": null,
   "metadata": {},
   "outputs": [],
   "source": [
    "π/4.0"
   ]
  },
  {
   "cell_type": "markdown",
   "metadata": {},
   "source": [
    "###### Modelos teóricos que no aplican debido a la aritmética finita"
   ]
  },
  {
   "cell_type": "markdown",
   "metadata": {},
   "source": [
    "Muchos modelos teóricos asumen que las funciones son suficientemente bien comportadas. El problema es que la aritmética finita impiden ese buen comportamiento.\n",
    "\n",
    "En la interpolación, podemos encontrar un ejemplo donde esto ocurre.\n",
    "\n",
    "El fenómeno es independiente del método usado. Yo voy a emplear uno de los mejores.\n",
    "\n",
    "Sean $(x_j,f_j)$ (nodos) con $j=0,1,\\dots n$ puntos distintos.\n",
    "\n",
    "El método de interpolación baricéntrica, está dado por la siguiente expresión.\n",
    "\n",
    "$$p(x)=\\frac{\\sum_{j=0}^n\\frac{w_j}{x-x_j}f_j}{\\sum_{j=0}^n\\frac{w_j}{x-x_j}}, w_j=\\frac{1}{\\prod_{k=0,k\\neq j}^{n}(x_j-x_k)}$$\n",
    "\n",
    "Si particionamos el intervalo $[a, b]$ con $n+1$ puntos equidistantes, obtenemos después de simplificar los factores independientes de $j$:\n",
    "\n",
    "$$w_j=(-1)^j\\binom{n}{j}$$"
   ]
  },
  {
   "cell_type": "code",
   "execution_count": 6,
   "metadata": {},
   "outputs": [
    {
     "data": {
      "text/plain": [
       "Runge (generic function with 1 method)"
      ]
     },
     "execution_count": 6,
     "metadata": {},
     "output_type": "execute_result"
    }
   ],
   "source": [
    "using Plots\n",
    "function InterpBaric(x::Float64, f::Function, a::Float64, b::Float64,n::Int64)\n",
    "    suma_num, suma_den = 0.0, 0.0 #Almacenan las sumas del numerador y del denominador.\n",
    "    #Se crea la lista de los puntos equidistantes.\n",
    "    xj=range(a, length=n+1, stop=b)\n",
    "    fj=f.(xj)\n",
    "    \n",
    "    if x in xj\n",
    "       return f(x) #Para que el algoritmo funcione bien, x no puede estar en xj.\n",
    "    end\n",
    "    \n",
    "    #Se realiza la interpolación baricéntrica.\n",
    "    for j in 0:n\n",
    "        wj=(-1)^j*binomial(n,j)\n",
    "        suma_num+=wj*fj[j+1]/(x-xj[j+1])\n",
    "        suma_den+=wj/(x-xj[j+1])\n",
    "    end\n",
    "    return suma_num/suma_den\n",
    "end\n",
    "\n",
    "Runge(x)=1.0/(1.0+x^2)"
   ]
  },
  {
   "cell_type": "code",
   "execution_count": null,
   "metadata": {
    "scrolled": false
   },
   "outputs": [],
   "source": [
    "a, b, n = -5.0, 5.0, 10\n",
    "#Se crea la lista equidistante de puntos para graficar.\n",
    "xp=range(a, length=n+1, stop=b)\n",
    "yp=Runge.(xp)\n",
    "plot(a:0.001:b, x -> InterpBaric(x, Runge, a, b, n))\n",
    "plot!(a:0.001:b,Runge)\n",
    "plot!(xp, yp, seriestype=:scatter)"
   ]
  },
  {
   "cell_type": "code",
   "execution_count": null,
   "metadata": {},
   "outputs": [],
   "source": [
    "a, b, n = -5.0, 5.0, 20\n",
    "#Se crea la lista equidistante de puntos para graficar.\n",
    "xp=range(a, length=n+1, stop=b)\n",
    "yp=Runge.(xp)\n",
    "plot(a:0.001:b, x -> InterpBaric(x, Runge, a, b, n))\n",
    "plot!(a:0.001:b,Runge)\n",
    "plot!(xp, yp, seriestype=:scatter)"
   ]
  },
  {
   "cell_type": "code",
   "execution_count": null,
   "metadata": {},
   "outputs": [],
   "source": [
    "a, b, n = -0.5, 0.5, 10\n",
    "#Se crea la lista equidistante de puntos para graficar.\n",
    "xp=range(a, length=n+1, stop=b)\n",
    "yp=Runge.(xp)\n",
    "plot(a:0.001:b, x -> InterpBaric(x, Runge, a, b, n))\n",
    "plot!(a:0.001:b,Runge)\n",
    "plot!(xp, yp, seriestype=:scatter)"
   ]
  },
  {
   "cell_type": "code",
   "execution_count": null,
   "metadata": {},
   "outputs": [],
   "source": [
    "a, b, n = -0.5, 0.5, 65\n",
    "#Se crea la lista equidistante de puntos para graficar.\n",
    "xp=range(a, length=n+1, stop=b)\n",
    "yp=Runge.(xp)\n",
    "plot(a:0.001:b, x -> InterpBaric(x, Runge, a, b, n))\n",
    "plot!(a:0.001:b,Runge)\n",
    "plot!(xp, yp, seriestype=:scatter)"
   ]
  },
  {
   "cell_type": "markdown",
   "metadata": {},
   "source": [
    "El problema es que se necesita que la función sea demasiado suave y los errores aritméticos lo impiden.\n",
    "\n",
    "No obstante existe una manera de combatir el problema. Se trata de seleccionar una distribución de nodos que contrarreste los efectos. Una manera es tomar una de las distribuciones de Chebyshev.\n",
    "\n",
    "Se puede particionar $[-1, 1]$ en los puntos:\n",
    "$$x_j=\\cos\\left(\\frac{j\\pi}{n}\\right), \\quad j=0,\\dots, n$$\n",
    "\n",
    "Es fácil transformarlos a un intervalo arbitrario $[a, b]$\n",
    "\n",
    "$$x_j'=\\frac{(b-a)x_j+a+b}{2}$$\n",
    "\n",
    "Al sustituir en $w_j$ y eliminar los factores comunes, se obtiene:\n",
    "\n",
    "$$w_j=(-1)^j\\delta_j, \\quad\\delta_j=\\begin{cases} 1/2,& j=0\\text{ o }j=n,\\\\ 1,& \\text{para los demás casos}\\end{cases}$$"
   ]
  },
  {
   "cell_type": "code",
   "execution_count": null,
   "metadata": {},
   "outputs": [],
   "source": [
    "function InterpBaricCheb(x::Float64, f::Function, a::Float64, b::Float64,n::Int64)\n",
    "    suma_num, suma_den = 0.0, 0.0 #Almacenan las sumas del numerador y del denominador.\n",
    "    #Se crea la lista de puntos distribuidos según Chebyshev.\n",
    "    xj=[]\n",
    "    \n",
    "    for j in 0:n\n",
    "        xj_aux=cos((j*π)/n) #En [-1, 1]\n",
    "        xj_aux=((b-a)*xj_aux+a+b)*0.5 #En [a, b].\n",
    "        push!(xj, xj_aux)\n",
    "    end\n",
    "    \n",
    "    fj=f.(xj)\n",
    "    \n",
    "    if x in xj\n",
    "        return f(x) #Para que el algoritmo funcione bien, x no puede estar en xj.\n",
    "    end\n",
    "    \n",
    "    δ(i) = (i == 0)||(i == n) ? 0.5 : 1.0\n",
    "    \n",
    "    #Se realiza la interpolación baricéntrica.\n",
    "    for j in 0:n\n",
    "        wj=(-1)^j*δ(j)\n",
    "        suma_num+=wj*fj[j+1]/(x-xj[j+1])\n",
    "        suma_den+=wj/(x-xj[j+1])\n",
    "    end\n",
    "    return suma_num/suma_den\n",
    "end"
   ]
  },
  {
   "cell_type": "code",
   "execution_count": null,
   "metadata": {},
   "outputs": [],
   "source": [
    "a, b, n = -5.0, 5.0, 10\n",
    "#Se crea la lista (Chebyshev) de puntos para graficar.\n",
    "xp=[]\n",
    "for j in 0:n\n",
    "    xp_aux=cos((j*π)/n)\n",
    "    xp_aux=((b-a)*xp_aux+a+b)*0.5\n",
    "    push!(xp, xp_aux)\n",
    "end\n",
    "yp=Runge.(xp)\n",
    "plot(a:0.001:b, x -> InterpBaricCheb(x, Runge, a, b,n))\n",
    "plot!(a:0.001:b,Runge)\n",
    "plot!(xp, yp, seriestype=:scatter)"
   ]
  },
  {
   "cell_type": "code",
   "execution_count": null,
   "metadata": {},
   "outputs": [],
   "source": [
    "a, b, n = -5.0, 5.0, 20\n",
    "#Se crea la lista (Chebyshev) de puntos para graficar.\n",
    "xp=[]\n",
    "for j in 0:n\n",
    "    xp_aux=cos((j*π)/n)\n",
    "    xp_aux=((b-a)*xp_aux+a+b)*0.5\n",
    "    push!(xp, xp_aux)\n",
    "end\n",
    "yp=Runge.(xp)\n",
    "plot(a:0.001:b, x -> InterpBaricCheb(x, Runge, a, b,n))\n",
    "plot!(a:0.001:b,Runge)\n",
    "plot!(xp, yp, seriestype=:scatter)"
   ]
  },
  {
   "cell_type": "code",
   "execution_count": null,
   "metadata": {},
   "outputs": [],
   "source": [
    "#Se crea la lista (Chebyshev) de puntos para graficar.\n",
    "xp=[]\n",
    "a, b, n = -5.0, 5.0, 65\n",
    "for j in 0:n\n",
    "    xp_aux=cos((j*π)/n)\n",
    "    xp_aux=((b-a)*xp_aux+a+b)*0.5\n",
    "    push!(xp, xp_aux)\n",
    "end\n",
    "yp=Runge.(xp)\n",
    "plot(a:0.001:b, x -> InterpBaricCheb(x, Runge, a, b,n))\n",
    "plot!(a:0.001:b,Runge)\n",
    "plot!(xp, yp, seriestype=:scatter)"
   ]
  },
  {
   "cell_type": "markdown",
   "metadata": {},
   "source": [
    "Adjunto un artículo bastante interesante sobre este tema."
   ]
  },
  {
   "cell_type": "markdown",
   "metadata": {},
   "source": [
    "###### Acumulación de errores de redondeo"
   ]
  },
  {
   "cell_type": "markdown",
   "metadata": {},
   "source": [
    "En ocasiones no es posible mejorar más el resultado aunque el modelo teórico sea más preciso.\n",
    "\n",
    "<img src=\"img/comp.png\" width=\"60%\"/>\n",
    "\n",
    "Los errores aritméticos se empiezan a acumular al aumentar el número de pasos.\n",
    "\n",
    "RK4 es el que mejor resiste, pero aún así termina empeorando si disminuimos demasiado h.\n",
    "\n",
    "Este es el comportamiento en el intervalo bueno.\n",
    "<img src=\"img/comp-2.png\" width=\"60%\"/>\n",
    "\n",
    "<img src=\"img/comp-3.png\" width=\"60%\"/>"
   ]
  },
  {
   "cell_type": "markdown",
   "metadata": {},
   "source": [
    "###### Más precisión"
   ]
  },
  {
   "cell_type": "markdown",
   "metadata": {},
   "source": [
    "- Se puede aumentar la precisión de forma «ilimitada» (hasta que se acabe la memoria __RAM__) usando [BigFloat](https://docs.julialang.org/en/v1/base/numbers/#BigFloats-and-BigInts).\n",
    "- Además existen las librerías [Decimals.jl](https://github.com/JuliaMath/Decimals.jl) y [DecFP.jl](https://github.com/JuliaMath/DecFP.jl), para trabajar con más precisión."
   ]
  },
  {
   "cell_type": "code",
   "execution_count": null,
   "metadata": {},
   "outputs": [],
   "source": []
  }
 ],
 "metadata": {
  "kernelspec": {
   "display_name": "Julia 1.5.2",
   "language": "julia",
   "name": "julia-1.5"
  },
  "language_info": {
   "file_extension": ".jl",
   "mimetype": "application/julia",
   "name": "julia",
   "version": "1.5.2"
  }
 },
 "nbformat": 4,
 "nbformat_minor": 4
}
