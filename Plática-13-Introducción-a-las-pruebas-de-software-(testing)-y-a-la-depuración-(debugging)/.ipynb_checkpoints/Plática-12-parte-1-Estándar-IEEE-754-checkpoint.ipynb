{
 "cells": [
  {
   "cell_type": "markdown",
   "metadata": {},
   "source": [
    "# Tópicos avanzados de programación con Julia"
   ]
  },
  {
   "cell_type": "markdown",
   "metadata": {},
   "source": [
    "## _Lenguajes y Errores_"
   ]
  },
  {
   "cell_type": "markdown",
   "metadata": {},
   "source": [
    " "
   ]
  },
  {
   "cell_type": "markdown",
   "metadata": {},
   "source": [
    "### Temario para cubrir el objetivo 2"
   ]
  },
  {
   "cell_type": "markdown",
   "metadata": {},
   "source": [
    "__Tratamiento de errores mediante la depuración, el testing y buenas prácticas de programación.__\n",
    "- Lenguajes formales, naturales y metalenguajes.\n",
    "  - Lenguajes.\n",
    "  - Lenguajes Naturales.\n",
    "  - Lenguajes formales.\n",
    "  - Metalenguajes.\n",
    "  - Traducción y codificación de un lenguaje formal a otro.\n",
    "  \n",
    "- Tipos de errores en programación.\n",
    "  - Errores de sintaxis.\n",
    "  - Errores en tiempo de ejecución.\n",
    "  - Errores semánticos.\n",
    "    - Errores en el planteamiento del modelo (¡La vacas esféricas,!).\n",
    "    - Errores numéricos derivados de la aproximación del método numérico.\n",
    "    - Errores numéricos de la aritmética finita."
   ]
  },
  {
   "cell_type": "markdown",
   "metadata": {},
   "source": [
    "###### Representación de reales en el estándar IEEE 754"
   ]
  },
  {
   "cell_type": "markdown",
   "metadata": {},
   "source": [
    "Los equipos de cómputo no trabajan con reales, sino en un campo discreto que se puede representar como $\\mathbb R/\\sim$. \n",
    "\n",
    "Donde $x\\sim y$ si tienen la misma representación binaria (excepto el cero que tiene dos representaciones binarias).\n",
    "\n",
    "La representación binaria tiene una cantidad finita de guarismos para almacenar la información. \n",
    "\n",
    "Por ejemplo, `Float64` cuenta con 64 guarismos que pueden tomar los valores 0 o 1.\n",
    "\n",
    "Es por eso que $\\mathbb R/\\sim$ no sólo es discreto, sino finito.\n",
    "\n",
    "El error semántico consiste en suponer que los cálculos se realizan en $\\mathbb R$, y no en el cociente finito $\\mathbb R/\\sim$.\n",
    "\n",
    "Por ejemplo $0.0\\sim 1.0\\cdot 10^{-324}$, ya que:"
   ]
  },
  {
   "cell_type": "code",
   "execution_count": 3,
   "metadata": {},
   "outputs": [
    {
     "name": "stdout",
     "output_type": "stream",
     "text": [
      "0000000000000000000000000000000000000000000000000000000000000000\n",
      "0000000000000000000000000000000000000000000000000000000000000000\n"
     ]
    }
   ],
   "source": [
    "println(bitstring(0.0))\n",
    "println(bitstring(1.0e-324))"
   ]
  },
  {
   "cell_type": "markdown",
   "metadata": {},
   "source": [
    "¿Cómo se representan los números`Float64`?"
   ]
  },
  {
   "cell_type": "markdown",
   "metadata": {},
   "source": [
    "<img src=\"img/f.svg\" width=\"100%\"/>\n",
    "\n",
    "Hay una explicación muy buena en [este](https://www.wextensible.com/temas/javascript-number/precision.html) sitio."
   ]
  },
  {
   "cell_type": "code",
   "execution_count": 125,
   "metadata": {},
   "outputs": [
    {
     "data": {
      "text/plain": [
       "PuntoFlot64bin (generic function with 1 method)"
      ]
     },
     "execution_count": 125,
     "metadata": {},
     "output_type": "execute_result"
    }
   ],
   "source": [
    "function EntABin(x::Int)\n",
    "    bin_ent=[]\n",
    "    xaux=x\n",
    "    dr=(xaux,0)\n",
    "    while xaux > 1\n",
    "        dr=divrem(xaux,2)\n",
    "        push!(bin_ent, Int8(dr[2]))\n",
    "        xaux=dr[1]\n",
    "    end\n",
    "    push!(bin_ent, Int8(dr[1]))\n",
    "    reverse(bin_ent)\n",
    "end\n",
    "\n",
    "function MantBin(x::Float64, n::Int)\n",
    "    bin_mant=[]\n",
    "    xaux=BigFloat(string(x))%big\"1.0\"\n",
    "    for i in 1:n\n",
    "        xaux*=big\"2.0\"\n",
    "        dr=divrem(xaux, big\"1.0\")\n",
    "        push!(bin_mant, Int8(dr[1]))\n",
    "        xaux=dr[2]\n",
    "    end\n",
    "    return bin_mant\n",
    "end\n",
    "\n",
    "function PuntoFijoBin(x::Float64, n_e::Int, n_m::Int)\n",
    "    xaux=BigFloat(string(x))\n",
    "    bin_ent, bin_mant = [], []\n",
    "\n",
    "    parte_ent = xaux ÷ big\"1.0\"\n",
    "    #append!(bin_ent,EntABin(Int64(abs(parte_ent)))\n",
    "    bin_ent=EntABin(Int(abs(parte_ent)))\n",
    "    n_be = length(bin_ent)\n",
    "    \n",
    "    # n_be debe ser menor a n_e porque falta el signo.\n",
    "    if n_be >= n_e\n",
    "       println(\"La parte entera es demasicado grande.\") \n",
    "    end\n",
    "    \n",
    "    #Completamos los ceros faltantes\n",
    "    while n_be < n_e-1\n",
    "        pushfirst!(bin_ent, 0)\n",
    "        n_be = length(bin_ent)\n",
    "    end\n",
    "    \n",
    "    #Añadimos el signo.\n",
    "    if string(x)[1]=='-'\n",
    "        pushfirst!(bin_ent, 1)\n",
    "    else\n",
    "        pushfirst!(bin_ent, 0)\n",
    "    end\n",
    "    \n",
    "    #Obtenemos la mantisa.\n",
    "    bin_mant=MantBin(abs(x), n_m)\n",
    "    \n",
    "    return [bin_ent, bin_mant]\n",
    "end\n",
    "\n",
    "function ImprimirPF(x::Float64, n_e::Int, n_m::Int)\n",
    "    bin=PuntoFijoBin(x, n_e, n_m)\n",
    "    parte_ent=join(string.(bin[1]))\n",
    "    parte_frac=join(string.(bin[2]))\n",
    "    printstyled(parte_ent[1]; color = :blue)\n",
    "    printstyled(parte_ent[2:end]; color = :green)\n",
    "    printstyled(parte_frac,\"\\n\"; color = :red)\n",
    "end\n",
    "\n",
    "function ExpABin(x::Int)\n",
    "    bin_exp=EntABin(x+1023)\n",
    "    N=11-length(bin_exp)\n",
    "    if N>0\n",
    "        bin_exp = reverse(bin_exp)\n",
    "        for i in 1:N\n",
    "            push!(bin_exp, Int8(0))\n",
    "            println(bin_exp)\n",
    "        end\n",
    "        bin_exp = reverse(bin_exp)\n",
    "    end\n",
    "    return bin_exp\n",
    "end\n",
    "\n",
    "\n",
    "function ExpFlot64(x::Float64)\n",
    "    E_min, E_max = -1022, 1023\n",
    "    a, b = E_min, E_max\n",
    "    \n",
    "    #Se atienden los casos extremos.\n",
    "    if x<2.0^E_min\n",
    "        return [ExpABin(E_min - 1), E_min - 1] # Esto devuelve una areglo con 11 ceros para los números denormalizados.\n",
    "    elseif x==2.0^E_min \n",
    "        return [ExpABin(E_min), E_min] #Si es el menor número normalizado representable.\n",
    "    elseif Inf>x>=2.0^E_max\n",
    "        return [ExpABin(E_max), E_max] #Este es el arreglo del exponente mas grande antes de Inf.\n",
    "    elseif isinf(x) || isnan(x)\n",
    "        return [ExpABin(E_max+1), E_max+1] #Inf y NaN tienen el mismo exponente, 11 unos.\n",
    "    end\n",
    "    \n",
    "    while b != a+1\n",
    "        c=(a+b)÷2\n",
    "        exp_c = 2.0^c\n",
    "        if exp_c == x\n",
    "            return [ExpABin(c), c]\n",
    "        end\n",
    "        2.0^a < x < exp_c ? b=c : a=c\n",
    "    end\n",
    "    return [ExpABin(a), a]\n",
    "end\n",
    "\n",
    "function PuntoFlot64bin(x::Float64)\n",
    "    bin=zeros(Int8, 64)\n",
    "    E_nin, E_max = -1022, 1023\n",
    "    mant_ent, mant_frac = [], []\n",
    "    #Añadimos el signo.\n",
    "    if string(x)[1]=='-'\n",
    "        bin[1]=1\n",
    "    end\n",
    "    \n",
    "    #Los casos especiales Inf y NaN.\n",
    "    if isinf(x)\n",
    "        bin[2:12].=1\n",
    "        return bin\n",
    "    elseif isnan(x)\n",
    "        bin[1:13].=1\n",
    "        return bin\n",
    "    end\n",
    "    \n",
    "    expo = ExpFlot64(abs(x))\n",
    "    dif = divrem(abs(BigFloat(string(x))/big\"2.0\"^expo[2]),1.0)\n",
    "\n",
    "    mant_frac = MantBin(Float64(dif[2]), 52)\n",
    "    return join(string.([bin[1]; expo[1]; mant_frac]))\n",
    "end"
   ]
  },
  {
   "cell_type": "code",
   "execution_count": 40,
   "metadata": {},
   "outputs": [
    {
     "data": {
      "text/plain": [
       "2-element Array{Array{Any,1},1}:\n",
       " [0, 0, 0, 0, 0]\n",
       " [0, 1, 0, 0, 0, 0, 0, 0, 0, 0]"
      ]
     },
     "execution_count": 40,
     "metadata": {},
     "output_type": "execute_result"
    }
   ],
   "source": [
    "a=PuntoFijoBin(2.0^-2,5,10)"
   ]
  },
  {
   "cell_type": "code",
   "execution_count": 38,
   "metadata": {},
   "outputs": [
    {
     "name": "stdout",
     "output_type": "stream",
     "text": [
      "\u001b[34m0\u001b[39m\u001b[32m1110\u001b[39m\u001b[31m0100110011\u001b[39m\n"
     ]
    }
   ],
   "source": [
    "ImprimirPF(1.43e1,5,10)"
   ]
  },
  {
   "cell_type": "code",
   "execution_count": 39,
   "metadata": {},
   "outputs": [
    {
     "name": "stdout",
     "output_type": "stream",
     "text": [
      "\u001b[34m0\u001b[39m\u001b[32m0000\u001b[39m\u001b[31m0100110011\u001b[39m\n"
     ]
    }
   ],
   "source": [
    "ImprimirPF(0.3,5,10)"
   ]
  },
  {
   "cell_type": "code",
   "execution_count": 106,
   "metadata": {},
   "outputs": [
    {
     "data": {
      "text/plain": [
       "1.125"
      ]
     },
     "execution_count": 106,
     "metadata": {},
     "output_type": "execute_result"
    }
   ],
   "source": [
    "9.0/2.0^3"
   ]
  },
  {
   "cell_type": "code",
   "execution_count": 126,
   "metadata": {},
   "outputs": [
    {
     "data": {
      "text/plain": [
       "\"1100000000100010011001100110011001100110011001100110011001100110\""
      ]
     },
     "execution_count": 126,
     "metadata": {},
     "output_type": "execute_result"
    }
   ],
   "source": [
    "PuntoFlot64bin(-9.2)"
   ]
  },
  {
   "cell_type": "code",
   "execution_count": 119,
   "metadata": {},
   "outputs": [
    {
     "data": {
      "text/plain": [
       "\"1100000000100010011001100110011001100110011001100110011001100110\""
      ]
     },
     "execution_count": 119,
     "metadata": {},
     "output_type": "execute_result"
    }
   ],
   "source": [
    "bitstring(-9.2)"
   ]
  },
  {
   "cell_type": "code",
   "execution_count": 127,
   "metadata": {},
   "outputs": [
    {
     "data": {
      "text/plain": [
       "true"
      ]
     },
     "execution_count": 127,
     "metadata": {},
     "output_type": "execute_result"
    }
   ],
   "source": [
    "bitstring(-9.2)==PuntoFlot64bin(-9.2)"
   ]
  },
  {
   "cell_type": "code",
   "execution_count": 59,
   "metadata": {},
   "outputs": [
    {
     "data": {
      "text/plain": [
       "4.40999999999999999999999999999999999999999999999999999999999999999999999999995"
      ]
     },
     "execution_count": 59,
     "metadata": {},
     "output_type": "execute_result"
    }
   ],
   "source": [
    "a=big\"2.1\" * big\"2.1\""
   ]
  },
  {
   "cell_type": "code",
   "execution_count": 49,
   "metadata": {},
   "outputs": [
    {
     "name": "stdout",
     "output_type": "stream",
     "text": [
      "10.64800000000000299999999999999999999999999999999999999999999999999999999999994\n"
     ]
    }
   ],
   "source": [
    "println(a)"
   ]
  },
  {
   "cell_type": "code",
   "execution_count": 23,
   "metadata": {},
   "outputs": [
    {
     "name": "stderr",
     "output_type": "stream",
     "text": [
      "\u001b[32m\u001b[1m   Updating\u001b[22m\u001b[39m registry at `~/.julia/registries/General`\n"
     ]
    },
    {
     "name": "stdout",
     "output_type": "stream",
     "text": [
      "\u001b[?25l    "
     ]
    },
    {
     "name": "stderr",
     "output_type": "stream",
     "text": [
      "\u001b[32m\u001b[1m   Updating\u001b[22m\u001b[39m git-repo `https://github.com/JuliaRegistries/General.git`\n"
     ]
    },
    {
     "name": "stdout",
     "output_type": "stream",
     "text": [
      "\u001b[2K\u001b[?25h[1mFetching:\u001b[22m\u001b[39m [========================================>]  99.9 %\u001b[36m\u001b[1mFetching:\u001b[22m\u001b[39m [==========>                              ]  23.7 %                       ]  40.7 % [========================>                ]  57.8 %\u001b[36m\u001b[1mFetching:\u001b[22m\u001b[39m [=============================>           ]  71.1 %    ]  88.1 %"
     ]
    },
    {
     "name": "stderr",
     "output_type": "stream",
     "text": [
      "\u001b[32m\u001b[1m  Resolving\u001b[22m\u001b[39m package versions...\n",
      "\u001b[32m\u001b[1m  Installed\u001b[22m\u001b[39m Decimals ─ v0.4.1\n",
      "\u001b[32m\u001b[1mUpdating\u001b[22m\u001b[39m `~/.julia/environments/v1.5/Project.toml`\n",
      " \u001b[90m [abce61dc] \u001b[39m\u001b[92m+ Decimals v0.4.1\u001b[39m\n",
      "\u001b[32m\u001b[1mUpdating\u001b[22m\u001b[39m `~/.julia/environments/v1.5/Manifest.toml`\n",
      " \u001b[90m [abce61dc] \u001b[39m\u001b[92m+ Decimals v0.4.1\u001b[39m\n"
     ]
    }
   ],
   "source": [
    "using Pkg\n",
    "Pkg.add(\"Decimals\")"
   ]
  },
  {
   "cell_type": "code",
   "execution_count": 49,
   "metadata": {},
   "outputs": [
    {
     "data": {
      "text/plain": [
       "FMant (generic function with 1 method)"
      ]
     },
     "execution_count": 49,
     "metadata": {},
     "output_type": "execute_result"
    }
   ],
   "source": [
    "using Decimals\n",
    "function Binario(x)\n",
    "    bin = bitstring(x)\n",
    "    printstyled(bin[1]; color = :blue)\n",
    "    printstyled(bin[2]; color = :light_green)\n",
    "    printstyled(bin[3:12]; color = :green)\n",
    "    printstyled(bin[13:end],\"\\n\"; color = :red)\n",
    "end\n",
    "\n",
    "function BinarioExpP(x)\n",
    "    bin = bitstring(x)\n",
    "    printstyled(bin[2]; color = :light_green)\n",
    "    printstyled(bin[3:12]; color = :green)\n",
    "end\n",
    "\n",
    "function BinarioExp(x)\n",
    "    bin = bitstring(x)\n",
    "    return bin[2:12]\n",
    "end\n",
    "\n",
    "function BinFloat(x)\n",
    "    reinterpret(Float64, parse(Int, x, base=2))\n",
    "end\n",
    "\n",
    "function FExp(s)\n",
    "    x=[parse(Int, i) for i in s] #Convierte el tring a array de enteros.\n",
    "    exp=-1023\n",
    "    n=length(x)\n",
    "    for i in 1:n\n",
    "        exp+=x[i]*2^(n-i)\n",
    "    end\n",
    "    exp\n",
    "end\n",
    "\n",
    "FParteExp(s)=2.0^FExp(s)\n",
    "\n",
    "function FMant(s)\n",
    "    x=[parse(Int, i) for i in s] #Convierte el tring a array de enteros.\n",
    "    mant=BigFloat(\"0.0\")\n",
    "    n=length(x)\n",
    "    for i in 1:n\n",
    "        mant+=x[i]*BigFloat(\"0.5\")^i\n",
    "    end\n",
    "    Float64(mant)\n",
    "end"
   ]
  },
  {
   "cell_type": "code",
   "execution_count": 163,
   "metadata": {},
   "outputs": [
    {
     "name": "stdout",
     "output_type": "stream",
     "text": [
      "\u001b[92m1\u001b[39m\u001b[32m1111111111\u001b[39m1024\n"
     ]
    },
    {
     "data": {
      "text/plain": [
       "Inf"
      ]
     },
     "execution_count": 163,
     "metadata": {},
     "output_type": "execute_result"
    }
   ],
   "source": [
    "x=Inf\n",
    "e=BinarioExp(x)\n",
    "BinarioExpP(x)\n",
    "println(FExp(e))\n",
    "FParteExp(e)\n"
   ]
  },
  {
   "cell_type": "code",
   "execution_count": 179,
   "metadata": {},
   "outputs": [
    {
     "data": {
      "text/plain": [
       "0.50"
      ]
     },
     "execution_count": 179,
     "metadata": {},
     "output_type": "execute_result"
    }
   ],
   "source": [
    "FMant(\"1000\")"
   ]
  },
  {
   "cell_type": "code",
   "execution_count": 83,
   "metadata": {},
   "outputs": [
    {
     "name": "stdout",
     "output_type": "stream",
     "text": [
      "0001111110111110011101101100100010110100001110010110\n",
      "\u001b[34m0\u001b[39m\u001b[92m0\u001b[39m\u001b[32m1111111111\u001b[39m\u001b[31m0001111110111110011101101100100010110100001110010110\u001b[39m\n"
     ]
    },
    {
     "data": {
      "text/plain": [
       "0.12400000000000011"
      ]
     },
     "execution_count": 83,
     "metadata": {},
     "output_type": "execute_result"
    }
   ],
   "source": [
    "x=1.124\n",
    "bin = bitstring(x)\n",
    "s=bin[13:end]\n",
    "println(s)\n",
    "Binario(x)\n",
    "FMant(s)"
   ]
  },
  {
   "cell_type": "code",
   "execution_count": 50,
   "metadata": {},
   "outputs": [
    {
     "data": {
      "text/plain": [
       "1.124"
      ]
     },
     "execution_count": 50,
     "metadata": {},
     "output_type": "execute_result"
    }
   ],
   "source": [
    "BinFloat(bin)"
   ]
  },
  {
   "cell_type": "code",
   "execution_count": 48,
   "metadata": {},
   "outputs": [
    {
     "data": {
      "text/plain": [
       "2.220446049250313e-16"
      ]
     },
     "execution_count": 48,
     "metadata": {},
     "output_type": "execute_result"
    }
   ],
   "source": [
    "eps(1.0)"
   ]
  },
  {
   "cell_type": "code",
   "execution_count": 85,
   "metadata": {},
   "outputs": [
    {
     "data": {
      "text/plain": [
       "\"0001111110111110011101101100100010110100001110010110\""
      ]
     },
     "execution_count": 85,
     "metadata": {},
     "output_type": "execute_result"
    }
   ],
   "source": [
    "bitstring(1.12400000000000011)[13:end]"
   ]
  },
  {
   "cell_type": "code",
   "execution_count": 82,
   "metadata": {},
   "outputs": [
    {
     "data": {
      "text/plain": [
       "true"
      ]
     },
     "execution_count": 82,
     "metadata": {},
     "output_type": "execute_result"
    }
   ],
   "source": [
    "1.12400000000000011==1.124"
   ]
  },
  {
   "cell_type": "code",
   "execution_count": 22,
   "metadata": {},
   "outputs": [
    {
     "data": {
      "text/plain": [
       "1.387778780781445675529539585113525390625e-17"
      ]
     },
     "execution_count": 22,
     "metadata": {},
     "output_type": "execute_result"
    }
   ],
   "source": [
    "big\"2.0\"^-56"
   ]
  },
  {
   "cell_type": "code",
   "execution_count": 17,
   "metadata": {},
   "outputs": [
    {
     "data": {
      "text/plain": [
       "2.000000000000000000000000000000000000000000000000000000000010000000000000000015"
      ]
     },
     "execution_count": 17,
     "metadata": {},
     "output_type": "execute_result"
    }
   ],
   "source": [
    "big\"2.00000000000000000000000000000000000000000000000000000000001\""
   ]
  },
  {
   "cell_type": "code",
   "execution_count": 53,
   "metadata": {},
   "outputs": [
    {
     "name": "stdout",
     "output_type": "stream",
     "text": [
      "\u001b[92m1\u001b[39m\u001b[32m0000000000\u001b[39m"
     ]
    }
   ],
   "source": [
    "BinarioExpP(2.0^1)"
   ]
  },
  {
   "cell_type": "code",
   "execution_count": 26,
   "metadata": {},
   "outputs": [
    {
     "name": "stdout",
     "output_type": "stream",
     "text": [
      "\u001b[92m1\u001b[39m\u001b[32m1111111110\u001b[39m"
     ]
    }
   ],
   "source": [
    "Exponente(2.0^1023)"
   ]
  },
  {
   "cell_type": "code",
   "execution_count": 30,
   "metadata": {},
   "outputs": [
    {
     "data": {
      "text/plain": [
       "2048"
      ]
     },
     "execution_count": 30,
     "metadata": {},
     "output_type": "execute_result"
    }
   ],
   "source": [
    "2^11"
   ]
  },
  {
   "cell_type": "code",
   "execution_count": 85,
   "metadata": {},
   "outputs": [
    {
     "name": "stdout",
     "output_type": "stream",
     "text": [
      "\u001b[92m0\u001b[39m\u001b[32m1111111111\u001b[39m"
     ]
    }
   ],
   "source": [
    "Exponente(2.0^0)"
   ]
  },
  {
   "cell_type": "code",
   "execution_count": 86,
   "metadata": {},
   "outputs": [
    {
     "name": "stdout",
     "output_type": "stream",
     "text": [
      "\u001b[92m1\u001b[39m\u001b[32m0000000000\u001b[39m"
     ]
    }
   ],
   "source": [
    "Exponente(2.0^1)"
   ]
  },
  {
   "cell_type": "code",
   "execution_count": 87,
   "metadata": {},
   "outputs": [
    {
     "name": "stdout",
     "output_type": "stream",
     "text": [
      "\u001b[92m1\u001b[39m\u001b[32m0000000001\u001b[39m"
     ]
    }
   ],
   "source": [
    "Exponente(2.0^2)"
   ]
  },
  {
   "cell_type": "code",
   "execution_count": 88,
   "metadata": {},
   "outputs": [
    {
     "name": "stdout",
     "output_type": "stream",
     "text": [
      "\u001b[92m1\u001b[39m\u001b[32m1111111111\u001b[39m"
     ]
    }
   ],
   "source": [
    "Exponente(Inf)"
   ]
  },
  {
   "cell_type": "code",
   "execution_count": 64,
   "metadata": {},
   "outputs": [
    {
     "name": "stdout",
     "output_type": "stream",
     "text": [
      "±2.2250738585072014e-308\n",
      "eps: 5.0e-324\n",
      "\u001b[34m0\u001b[39m\u001b[92m0\u001b[39m\u001b[32m0000000001\u001b[39m\u001b[31m0000000000000000000000000000000000000000000000000000\u001b[39m\n",
      "\u001b[34m1\u001b[39m\u001b[92m0\u001b[39m\u001b[32m0000000001\u001b[39m\u001b[31m0000000000000000000000000000000000000000000000000000\u001b[39m\n"
     ]
    }
   ],
   "source": [
    "#El más pequeño (valor absoluto) que conserva el error relativo.\n",
    "x = 2.2250738585072014e-308\n",
    "println(\"±\", x)\n",
    "println(\"eps: \", eps(x))\n",
    "Binario(x)\n",
    "Binario(-x)"
   ]
  },
  {
   "cell_type": "code",
   "execution_count": 62,
   "metadata": {},
   "outputs": [
    {
     "name": "stdout",
     "output_type": "stream",
     "text": [
      "±1.1125369292536007e-308\n",
      "eps: 5.0e-324\n",
      "\u001b[34m0\u001b[39m\u001b[92m0\u001b[39m\u001b[32m0000000000\u001b[39m\u001b[31m1000000000000000000000000000000000000000000000000000\u001b[39m\n",
      "\u001b[34m1\u001b[39m\u001b[92m0\u001b[39m\u001b[32m0000000000\u001b[39m\u001b[31m1000000000000000000000000000000000000000000000000000\u001b[39m\n"
     ]
    }
   ],
   "source": [
    "#Puedo crear números más pequeños, pero sacrificando precisión.\n",
    "x = 1.1125369292536007e-308\n",
    "println(\"±\", x)\n",
    "println(\"eps: \", eps(x))\n",
    "Binario(x)\n",
    "Binario(-x)"
   ]
  },
  {
   "cell_type": "code",
   "execution_count": 61,
   "metadata": {},
   "outputs": [
    {
     "name": "stdout",
     "output_type": "stream",
     "text": [
      "±5.0e-324\n",
      "eps: 5.0e-324\n",
      "\u001b[34m0\u001b[39m\u001b[92m0\u001b[39m\u001b[32m0000000000\u001b[39m\u001b[31m0000000000000000000000000000000000000000000000000001\u001b[39m\n",
      "\u001b[34m1\u001b[39m\u001b[92m0\u001b[39m\u001b[32m0000000000\u001b[39m\u001b[31m0000000000000000000000000000000000000000000000000001\u001b[39m\n"
     ]
    }
   ],
   "source": [
    "#Es el número más pequño (valor absoluto no cero) que puedo escribir, pero no sin cifras decimales.\n",
    "x = 5.0e-324\n",
    "println(\"±\", x)\n",
    "println(\"eps: \", eps(x))\n",
    "Binario(x)\n",
    "Binario(-x)"
   ]
  },
  {
   "cell_type": "code",
   "execution_count": 65,
   "metadata": {},
   "outputs": [
    {
     "name": "stdout",
     "output_type": "stream",
     "text": [
      "±0.0\n",
      "eps: 5.0e-324\n",
      "\u001b[34m0\u001b[39m\u001b[92m0\u001b[39m\u001b[32m0000000000\u001b[39m\u001b[31m0000000000000000000000000000000000000000000000000000\u001b[39m\n",
      "\u001b[34m1\u001b[39m\u001b[92m0\u001b[39m\u001b[32m0000000000\u001b[39m\u001b[31m0000000000000000000000000000000000000000000000000000\u001b[39m\n"
     ]
    }
   ],
   "source": [
    "#El cero tiene dos representaciones.\n",
    "x = 0.0\n",
    "println(\"±\", x)\n",
    "println(\"eps: \", eps(x))\n",
    "Binario(x)\n",
    "Binario(-x)"
   ]
  },
  {
   "cell_type": "code",
   "execution_count": 67,
   "metadata": {},
   "outputs": [
    {
     "name": "stdout",
     "output_type": "stream",
     "text": [
      "±2.2250738585072014e-308\n",
      "eps: 5.0e-324\n",
      "\u001b[34m0\u001b[39m\u001b[92m0\u001b[39m\u001b[32m0000000001\u001b[39m\u001b[31m0000000000000000000000000000000000000000000000000000\u001b[39m\n",
      "\u001b[34m1\u001b[39m\u001b[92m0\u001b[39m\u001b[32m0000000001\u001b[39m\u001b[31m0000000000000000000000000000000000000000000000000000\u001b[39m\n"
     ]
    }
   ],
   "source": [
    "#Volvemos al más pequeño (valor absoluto) que conserva el error relativo.\n",
    "x = 2.2250738585072014e-308\n",
    "eps(x)\n",
    "println(\"±\", x)\n",
    "println(\"eps: \", eps(x))\n",
    "Binario(x)\n",
    "Binario(-x)"
   ]
  },
  {
   "cell_type": "code",
   "execution_count": 66,
   "metadata": {},
   "outputs": [
    {
     "name": "stdout",
     "output_type": "stream",
     "text": [
      "±4.450147717014403e-308\n",
      "eps: 1.0e-323\n",
      "\u001b[34m0\u001b[39m\u001b[92m0\u001b[39m\u001b[32m0000000010\u001b[39m\u001b[31m0000000000000000000000000000000000000000000000000000\u001b[39m\n",
      "\u001b[34m1\u001b[39m\u001b[92m0\u001b[39m\u001b[32m0000000010\u001b[39m\u001b[31m0000000000000000000000000000000000000000000000000000\u001b[39m\n"
     ]
    }
   ],
   "source": [
    "x = 4.450147717014403e-308\n",
    "println(\"±\", x)\n",
    "println(\"eps: \", eps(x))\n",
    "Binario(x)\n",
    "Binario(-x)"
   ]
  },
  {
   "cell_type": "code",
   "execution_count": 55,
   "metadata": {},
   "outputs": [
    {
     "name": "stdout",
     "output_type": "stream",
     "text": [
      "±8.900295434028806e-308\n",
      "eps: 2.0e-323\n",
      "\u001b[34m0\u001b[39m\u001b[92m0\u001b[39m\u001b[32m0000000011\u001b[39m\u001b[31m0000000000000000000000000000000000000000000000000000\u001b[39m\n",
      "\u001b[34m1\u001b[39m\u001b[92m0\u001b[39m\u001b[32m0000000011\u001b[39m\u001b[31m0000000000000000000000000000000000000000000000000000\u001b[39m\n"
     ]
    }
   ],
   "source": [
    "x=8.900295434028806e-308\n",
    "println(\"±\",x)\n",
    "println(\"eps: \", eps(x))\n",
    "Binario(x)\n",
    "Binario(-x)"
   ]
  },
  {
   "cell_type": "code",
   "execution_count": 56,
   "metadata": {},
   "outputs": [
    {
     "name": "stdout",
     "output_type": "stream",
     "text": [
      "±1.0\n",
      "eps: 2.220446049250313e-16\n",
      "\u001b[34m0\u001b[39m\u001b[92m0\u001b[39m\u001b[32m1111111111\u001b[39m\u001b[31m0000000000000000000000000000000000000000000000000000\u001b[39m\n",
      "\u001b[34m1\u001b[39m\u001b[92m0\u001b[39m\u001b[32m1111111111\u001b[39m\u001b[31m0000000000000000000000000000000000000000000000000000\u001b[39m\n"
     ]
    }
   ],
   "source": [
    "x=1.0\n",
    "println(\"±\",x)\n",
    "println(\"eps: \", eps(x))\n",
    "Binario(x)\n",
    "Binario(-x)"
   ]
  },
  {
   "cell_type": "code",
   "execution_count": 57,
   "metadata": {},
   "outputs": [
    {
     "name": "stdout",
     "output_type": "stream",
     "text": [
      "±2.0\n",
      "eps: 4.440892098500626e-16\n",
      "\u001b[34m0\u001b[39m\u001b[92m1\u001b[39m\u001b[32m0000000000\u001b[39m\u001b[31m0000000000000000000000000000000000000000000000000000\u001b[39m\n",
      "\u001b[34m1\u001b[39m\u001b[92m1\u001b[39m\u001b[32m0000000000\u001b[39m\u001b[31m0000000000000000000000000000000000000000000000000000\u001b[39m\n"
     ]
    }
   ],
   "source": [
    "x=2.0\n",
    "println(\"±\",x)\n",
    "println(\"eps: \", eps(x))\n",
    "Binario(x)\n",
    "Binario(-x)"
   ]
  },
  {
   "cell_type": "code",
   "execution_count": 58,
   "metadata": {},
   "outputs": [
    {
     "name": "stdout",
     "output_type": "stream",
     "text": [
      "±4.0\n",
      "eps: 8.881784197001252e-16\n",
      "\u001b[34m0\u001b[39m\u001b[92m1\u001b[39m\u001b[32m0000000001\u001b[39m\u001b[31m0000000000000000000000000000000000000000000000000000\u001b[39m\n",
      "\u001b[34m1\u001b[39m\u001b[92m1\u001b[39m\u001b[32m0000000001\u001b[39m\u001b[31m0000000000000000000000000000000000000000000000000000\u001b[39m\n"
     ]
    }
   ],
   "source": [
    "x=4.0\n",
    "println(\"±\",x)\n",
    "println(\"eps: \", eps(x))\n",
    "Binario(x)\n",
    "Binario(-x)"
   ]
  },
  {
   "cell_type": "code",
   "execution_count": 59,
   "metadata": {},
   "outputs": [
    {
     "name": "stdout",
     "output_type": "stream",
     "text": [
      "±8.0\n",
      "eps: 1.7763568394002505e-15\n",
      "\u001b[34m0\u001b[39m\u001b[92m1\u001b[39m\u001b[32m0000000010\u001b[39m\u001b[31m0000000000000000000000000000000000000000000000000000\u001b[39m\n",
      "\u001b[34m1\u001b[39m\u001b[92m1\u001b[39m\u001b[32m0000000010\u001b[39m\u001b[31m0000000000000000000000000000000000000000000000000000\u001b[39m\n"
     ]
    }
   ],
   "source": [
    "x=8.0\n",
    "println(\"±\",x)\n",
    "println(\"eps: \", eps(x))\n",
    "Binario(x)\n",
    "Binario(-x)"
   ]
  },
  {
   "cell_type": "code",
   "execution_count": 60,
   "metadata": {},
   "outputs": [
    {
     "name": "stdout",
     "output_type": "stream",
     "text": [
      "±16.0\n",
      "eps: 3.552713678800501e-15\n",
      "\u001b[34m0\u001b[39m\u001b[92m1\u001b[39m\u001b[32m0000000011\u001b[39m\u001b[31m0000000000000000000000000000000000000000000000000000\u001b[39m\n",
      "\u001b[34m1\u001b[39m\u001b[92m1\u001b[39m\u001b[32m0000000011\u001b[39m\u001b[31m0000000000000000000000000000000000000000000000000000\u001b[39m\n"
     ]
    }
   ],
   "source": [
    "x=16.0\n",
    "println(\"±\",x)\n",
    "println(\"eps: \", eps(x))\n",
    "Binario(x)\n",
    "Binario(-x)"
   ]
  },
  {
   "cell_type": "code",
   "execution_count": 68,
   "metadata": {},
   "outputs": [
    {
     "name": "stdout",
     "output_type": "stream",
     "text": [
      "±8.98846567431158e307\n",
      "eps: 1.99584030953472e292\n",
      "\u001b[34m0\u001b[39m\u001b[92m1\u001b[39m\u001b[32m1111111110\u001b[39m\u001b[31m0000000000000000000000000000000000000000000000000000\u001b[39m\n",
      "\u001b[34m1\u001b[39m\u001b[92m1\u001b[39m\u001b[32m1111111110\u001b[39m\u001b[31m0000000000000000000000000000000000000000000000000000\u001b[39m\n"
     ]
    }
   ],
   "source": [
    "x = 8.98846567431158e+307\n",
    "println(\"±\", x)\n",
    "println(\"eps: \", eps(x))\n",
    "Binario(x)\n",
    "Binario(-x)"
   ]
  },
  {
   "cell_type": "code",
   "execution_count": 70,
   "metadata": {
    "scrolled": true
   },
   "outputs": [
    {
     "name": "stdout",
     "output_type": "stream",
     "text": [
      "Este es el máximo antes de Inf\n",
      "\n",
      "±1.7976931348623157e308\n",
      "eps: 1.99584030953472e292\n",
      "\u001b[34m0\u001b[39m\u001b[92m1\u001b[39m\u001b[32m1111111110\u001b[39m\u001b[31m1111111111111111111111111111111111111111111111111111\u001b[39m\n",
      "\u001b[34m0\u001b[39m\u001b[92m1\u001b[39m\u001b[32m1111111110\u001b[39m\u001b[31m1111111111111111111111111111111111111111111111111111\u001b[39m\n",
      "\n",
      "A partir de aquí es Inf\n",
      "\n",
      "±Inf\n",
      "eps: NaN\n",
      "\u001b[34m0\u001b[39m\u001b[92m1\u001b[39m\u001b[32m1111111111\u001b[39m\u001b[31m0000000000000000000000000000000000000000000000000000\u001b[39m\n",
      "\u001b[34m1\u001b[39m\u001b[92m1\u001b[39m\u001b[32m1111111111\u001b[39m\u001b[31m0000000000000000000000000000000000000000000000000000\u001b[39m\n",
      "±Inf\n",
      "eps: NaN\n",
      "\u001b[34m0\u001b[39m\u001b[92m1\u001b[39m\u001b[32m1111111111\u001b[39m\u001b[31m0000000000000000000000000000000000000000000000000000\u001b[39m\n",
      "\u001b[34m1\u001b[39m\u001b[92m1\u001b[39m\u001b[32m1111111111\u001b[39m\u001b[31m0000000000000000000000000000000000000000000000000000\u001b[39m\n"
     ]
    }
   ],
   "source": [
    "println(\"Este es el máximo antes de Inf\\n\")\n",
    "x = 1.7976931348623157e+308\n",
    "println(\"±\",x)\n",
    "println(\"eps: \", eps(x))\n",
    "Binario(x)\n",
    "Binario(-x)\n",
    "\n",
    "println(\"\\nA partir de aquí es Inf\\n\")\n",
    "x = 8.98846567431158e+307*2\n",
    "println(\"±\", x)\n",
    "println(\"eps: \", eps(x))\n",
    "Binario(x)\n",
    "Binario(-x)\n",
    "\n",
    "x = Inf\n",
    "println(\"±\", x)\n",
    "println(\"eps: \",  eps(x))\n",
    "Binario(x)\n",
    "Binario(-x)"
   ]
  },
  {
   "cell_type": "code",
   "execution_count": 71,
   "metadata": {
    "scrolled": false
   },
   "outputs": [
    {
     "name": "stdout",
     "output_type": "stream",
     "text": [
      "±NaN\n",
      "eps: NaN\n",
      "\u001b[34m0\u001b[39m\u001b[92m1\u001b[39m\u001b[32m1111111111\u001b[39m\u001b[31m1000000000000000000000000000000000000000000000000000\u001b[39m\n",
      "\u001b[34m1\u001b[39m\u001b[92m1\u001b[39m\u001b[32m1111111111\u001b[39m\u001b[31m1000000000000000000000000000000000000000000000000000\u001b[39m\n"
     ]
    }
   ],
   "source": [
    "x = NaN\n",
    "println(\"±\", x)\n",
    "println(\"eps: \",  eps(x))\n",
    "Binario(x)\n",
    "Binario(-x)"
   ]
  },
  {
   "cell_type": "code",
   "execution_count": 3,
   "metadata": {},
   "outputs": [
    {
     "data": {
      "text/plain": [
       "\"0111111111101111111111111111111111111111111111111111111111111111\""
      ]
     },
     "execution_count": 3,
     "metadata": {},
     "output_type": "execute_result"
    }
   ],
   "source": [
    "s=\"0111111111101111111111111111111111111111111111111111111111111111\""
   ]
  },
  {
   "cell_type": "code",
   "execution_count": 5,
   "metadata": {},
   "outputs": [
    {
     "data": {
      "text/plain": [
       "1.1111111110111111e62"
      ]
     },
     "execution_count": 5,
     "metadata": {},
     "output_type": "execute_result"
    }
   ],
   "source": [
    "parse(Float64, s)"
   ]
  },
  {
   "cell_type": "code",
   "execution_count": 8,
   "metadata": {},
   "outputs": [
    {
     "data": {
      "text/plain": [
       "1.7976931348623157e308"
      ]
     },
     "execution_count": 8,
     "metadata": {},
     "output_type": "execute_result"
    }
   ],
   "source": [
    "reinterpret(Float64, parse(Int, s, base=2))"
   ]
  },
  {
   "cell_type": "code",
   "execution_count": 285,
   "metadata": {},
   "outputs": [
    {
     "data": {
      "text/plain": [
       "FlotanteIEEE (generic function with 1 method)"
      ]
     },
     "execution_count": 285,
     "metadata": {},
     "output_type": "execute_result"
    }
   ],
   "source": [
    "function ExpABin(x::Int)\n",
    "    bin_exp=[]\n",
    "    xaux=x+1023\n",
    "    dr=(xaux,0)#Para x=-1023 y -1022\n",
    "    while xaux > 1\n",
    "        dr=divrem(xaux,2)\n",
    "        push!(bin_exp, Int8(dr[2]))\n",
    "        xaux=dr[1]\n",
    "    end\n",
    "    push!(bin_exp, Int8(dr[1]))\n",
    "    \n",
    "    N=11-length(bin_exp)\n",
    "    if N>0\n",
    "        for i in 1:N\n",
    "            push!(bin_exp, Int8(0))\n",
    "        end\n",
    "    end\n",
    "    return reverse(bin_exp)\n",
    "end\n",
    "\n",
    "function ExpIEEE(x::Float64)\n",
    "    E_min, E_max = -1022, 1023\n",
    "    a, b = E_min, E_max\n",
    "    \n",
    "    #Se atienden los casos extremos.\n",
    "    if x<2.0^E_min\n",
    "        return ExpABin(E_min - 1) # Esto devuelve una areglo con 11 ceros para los números denormalizados.\n",
    "    elseif x==2.0^E_min \n",
    "        return ExpABin(E_min) #Si es el menor número normalizado representable.\n",
    "    elseif Inf>x>=2.0^E_max\n",
    "        return ExpABin(E_max) #Este es el arreglo del exponente mas grande antes de Inf.\n",
    "    elseif isinf(x) || isnan(x)\n",
    "        return ExpABin(E_max+1) #Inf y NaN tienen el mismo exponente, 11 unos.\n",
    "    end\n",
    "    \n",
    "    while b != a+1\n",
    "        c=(a+b)÷2\n",
    "        exp_c = 2.0^c\n",
    "        if exp_c == x\n",
    "            return ExpABin(c)\n",
    "        end\n",
    "        2.0^a < x < exp_c ? b=c : a=c\n",
    "    end\n",
    "    return ExpABin(a)\n",
    "end\n",
    "\n",
    "function MantIEEE(x::Float64)\n",
    "    bin_mant=[]\n",
    "    xaux=BigFloat(string(x))%big\"1.0\"\n",
    "    for i in 1:52\n",
    "        xaux*=big\"2.0\"\n",
    "        dr=divrem(xaux, big\"1.0\")\n",
    "        push!(bin_mant, Int8(dr[1]))\n",
    "        if i==4\n",
    "            println(xaux)\n",
    "        end\n",
    "        xaux=dr[2]\n",
    "    end\n",
    "    return bin_mant\n",
    "end\n",
    "\n",
    "function FlotanteIEEE(x::Float64)\n",
    "    bin=zeros(Int8, 64)\n",
    "    E_nin, E_max = -1022, 1023\n",
    "    \n",
    "    #Añadimos el signo.\n",
    "    if string(x)[1]=='-'\n",
    "        bin[1]=1\n",
    "    end\n",
    "    \n",
    "    #Los casos especiales Inf y NaN.\n",
    "    if isinf(x)\n",
    "        bin[2:12].=1\n",
    "        return bin\n",
    "    elseif isnan(x)\n",
    "        bin[1:13].=1\n",
    "        return bin\n",
    "    end\n",
    "    return join(string.([bin[1]; ExpIEEE(x); MantIEEE(x)]))\n",
    "end"
   ]
  },
  {
   "cell_type": "code",
   "execution_count": 243,
   "metadata": {},
   "outputs": [
    {
     "data": {
      "text/plain": [
       "true"
      ]
     },
     "execution_count": 243,
     "metadata": {},
     "output_type": "execute_result"
    }
   ],
   "source": [
    "-0.0==0.0"
   ]
  },
  {
   "cell_type": "code",
   "execution_count": 252,
   "metadata": {},
   "outputs": [
    {
     "data": {
      "text/plain": [
       "1.0"
      ]
     },
     "execution_count": 252,
     "metadata": {},
     "output_type": "execute_result"
    }
   ],
   "source": [
    "y=-1.0\n",
    "x=-y"
   ]
  },
  {
   "cell_type": "code",
   "execution_count": 253,
   "metadata": {},
   "outputs": [
    {
     "data": {
      "text/plain": [
       "false"
      ]
     },
     "execution_count": 253,
     "metadata": {},
     "output_type": "execute_result"
    }
   ],
   "source": [
    "string(x)[1]=='-'"
   ]
  },
  {
   "cell_type": "code",
   "execution_count": 255,
   "metadata": {},
   "outputs": [
    {
     "name": "stdout",
     "output_type": "stream",
     "text": [
      "\u001b[34m1\u001b[39m\u001b[92m0\u001b[39m\u001b[32m0000000000\u001b[39m\u001b[31m0000000000000000000000000000000000000000000000000000\u001b[39m\n"
     ]
    }
   ],
   "source": [
    "Binario(-0.0)"
   ]
  },
  {
   "cell_type": "code",
   "execution_count": 239,
   "metadata": {},
   "outputs": [
    {
     "name": "stdout",
     "output_type": "stream",
     "text": [
      "\u001b[34m0\u001b[39m\u001b[92m1\u001b[39m\u001b[32m0000000010\u001b[39m\u001b[31m0010011001100110011001100110011001100110011001100110\u001b[39m\n"
     ]
    }
   ],
   "source": [
    "Binario(9.1999999999999993)"
   ]
  },
  {
   "cell_type": "markdown",
   "metadata": {},
   "source": [
    "println(FlotanteIEEE(012))\n",
    "println(bitstring(9.2))"
   ]
  },
  {
   "cell_type": "code",
   "execution_count": null,
   "metadata": {},
   "outputs": [],
   "source": [
    "println(FlotanteIEEE(012))\n",
    "println(bitstring(9.2))"
   ]
  },
  {
   "cell_type": "code",
   "execution_count": null,
   "metadata": {},
   "outputs": [],
   "source": [
    "println(FlotanteIEEE(012))\n",
    "println(bitstring(9.2))"
   ]
  },
  {
   "cell_type": "code",
   "execution_count": null,
   "metadata": {},
   "outputs": [],
   "source": [
    "println(FlotanteIEEE(012))\n",
    "println(bitstring(9.2))"
   ]
  },
  {
   "cell_type": "code",
   "execution_count": null,
   "metadata": {},
   "outputs": [],
   "source": [
    "println(FlotanteIEEE(012))\n",
    "println(bitstring(9.2))"
   ]
  },
  {
   "cell_type": "code",
   "execution_count": 303,
   "metadata": {},
   "outputs": [
    {
     "name": "stdout",
     "output_type": "stream",
     "text": [
      "\u001b[34m0\u001b[39m\u001b[92m1\u001b[39m\u001b[32m0000000010\u001b[39m\u001b[31m0000011001100110011001100110011001100110011001100110\u001b[39m\n"
     ]
    }
   ],
   "source": [
    "Binario(8.2)"
   ]
  },
  {
   "cell_type": "code",
   "execution_count": 302,
   "metadata": {},
   "outputs": [
    {
     "name": "stdout",
     "output_type": "stream",
     "text": [
      "1.199999999999999999999999999999999999999999999999999999999999999999999999999558\n"
     ]
    },
    {
     "data": {
      "text/plain": [
       "\"0100000000100011001100110011001100110011001100110011001100110011\""
      ]
     },
     "execution_count": 302,
     "metadata": {},
     "output_type": "execute_result"
    }
   ],
   "source": [
    "FlotanteIEEE(8.2)"
   ]
  },
  {
   "cell_type": "code",
   "execution_count": 206,
   "metadata": {},
   "outputs": [
    {
     "name": "stdout",
     "output_type": "stream",
     "text": [
      "\u001b[34m0\u001b[39m\u001b[92m1\u001b[39m\u001b[32m0000000010\u001b[39m\u001b[31m0010011001100110011001100110011001100110011001100110\u001b[39m\n"
     ]
    }
   ],
   "source": [
    "Binario(9.0.09999999999999964)"
   ]
  },
  {
   "cell_type": "code",
   "execution_count": null,
   "metadata": {},
   "outputs": [],
   "source": [
    "FlotanteIEEE(012))"
   ]
  },
  {
   "cell_type": "code",
   "execution_count": 287,
   "metadata": {},
   "outputs": [
    {
     "data": {
      "text/plain": [
       "0.4"
      ]
     },
     "execution_count": 287,
     "metadata": {},
     "output_type": "execute_result"
    }
   ],
   "source": [
    "0.2*2"
   ]
  },
  {
   "cell_type": "code",
   "execution_count": 288,
   "metadata": {},
   "outputs": [
    {
     "data": {
      "text/plain": [
       "0.8"
      ]
     },
     "execution_count": 288,
     "metadata": {},
     "output_type": "execute_result"
    }
   ],
   "source": [
    "0.4*2"
   ]
  },
  {
   "cell_type": "code",
   "execution_count": 289,
   "metadata": {},
   "outputs": [
    {
     "data": {
      "text/plain": [
       "1.6"
      ]
     },
     "execution_count": 289,
     "metadata": {},
     "output_type": "execute_result"
    }
   ],
   "source": [
    "0.8*2"
   ]
  },
  {
   "cell_type": "code",
   "execution_count": 293,
   "metadata": {},
   "outputs": [
    {
     "ename": "LoadError",
     "evalue": "UndefVarError: bin not defined",
     "output_type": "error",
     "traceback": [
      "UndefVarError: bin not defined",
      "",
      "Stacktrace:",
      " [1] top-level scope at In[293]:1",
      " [2] include_string(::Function, ::Module, ::String, ::String) at ./loading.jl:1091"
     ]
    }
   ],
   "source": [
    "bin(9.2)"
   ]
  },
  {
   "cell_type": "code",
   "execution_count": 286,
   "metadata": {},
   "outputs": [
    {
     "name": "stdout",
     "output_type": "stream",
     "text": [
      "1.199999999999999999999999999999999999999999999999999999999999999999999999999558\n"
     ]
    },
    {
     "data": {
      "text/plain": [
       "52-element Array{Any,1}:\n",
       " 0\n",
       " 0\n",
       " 1\n",
       " 1\n",
       " 0\n",
       " 0\n",
       " 1\n",
       " 1\n",
       " 0\n",
       " 0\n",
       " 1\n",
       " 1\n",
       " 0\n",
       " ⋮\n",
       " 0\n",
       " 0\n",
       " 1\n",
       " 1\n",
       " 0\n",
       " 0\n",
       " 1\n",
       " 1\n",
       " 0\n",
       " 0\n",
       " 1\n",
       " 1"
      ]
     },
     "execution_count": 286,
     "metadata": {},
     "output_type": "execute_result"
    }
   ],
   "source": [
    "MantIEEE(9.2)"
   ]
  },
  {
   "cell_type": "code",
   "execution_count": null,
   "metadata": {},
   "outputs": [],
   "source": []
  },
  {
   "cell_type": "code",
   "execution_count": 228,
   "metadata": {},
   "outputs": [
    {
     "data": {
      "text/plain": [
       "9.199999999999999999999999999999999999999999999999999999999999999999999999999972"
      ]
     },
     "execution_count": 228,
     "metadata": {},
     "output_type": "execute_result"
    }
   ],
   "source": [
    "big\"9.2\""
   ]
  },
  {
   "cell_type": "code",
   "execution_count": 148,
   "metadata": {},
   "outputs": [
    {
     "name": "stdout",
     "output_type": "stream",
     "text": [
      "\u001b[92m1\u001b[39m\u001b[32m1111111110\u001b[39m"
     ]
    }
   ],
   "source": [
    "BinarioExpP(2.0^1023)"
   ]
  },
  {
   "cell_type": "code",
   "execution_count": 201,
   "metadata": {},
   "outputs": [
    {
     "name": "stdout",
     "output_type": "stream",
     "text": [
      "\u001b[92m1\u001b[39m\u001b[32m1111111111\u001b[39m"
     ]
    },
    {
     "data": {
      "text/plain": [
       "11-element Array{Any,1}:\n",
       " 1\n",
       " 1\n",
       " 1\n",
       " 1\n",
       " 1\n",
       " 1\n",
       " 1\n",
       " 1\n",
       " 1\n",
       " 1\n",
       " 1"
      ]
     },
     "execution_count": 201,
     "metadata": {},
     "output_type": "execute_result"
    }
   ],
   "source": [
    "x=NaN\n",
    "BinarioExpP(x)\n",
    "ExpIEEE(x)"
   ]
  },
  {
   "cell_type": "code",
   "execution_count": 189,
   "metadata": {},
   "outputs": [
    {
     "data": {
      "text/plain": [
       "65536"
      ]
     },
     "execution_count": 189,
     "metadata": {},
     "output_type": "execute_result"
    }
   ],
   "source": [
    "2^16"
   ]
  },
  {
   "cell_type": "code",
   "execution_count": 186,
   "metadata": {},
   "outputs": [
    {
     "name": "stdout",
     "output_type": "stream",
     "text": [
      "\u001b[92m1\u001b[39m\u001b[32m1111111110\u001b[39m"
     ]
    },
    {
     "data": {
      "text/plain": [
       "11-element Array{Any,1}:\n",
       " 1\n",
       " 1\n",
       " 1\n",
       " 1\n",
       " 1\n",
       " 1\n",
       " 1\n",
       " 1\n",
       " 1\n",
       " 1\n",
       " 0"
      ]
     },
     "execution_count": 186,
     "metadata": {},
     "output_type": "execute_result"
    }
   ],
   "source": [
    "x=1023\n",
    "\n",
    "BinarioExpP(2.0^x)\n",
    "ExpABin(x)"
   ]
  },
  {
   "cell_type": "code",
   "execution_count": 163,
   "metadata": {},
   "outputs": [
    {
     "data": {
      "text/plain": [
       "1022"
      ]
     },
     "execution_count": 163,
     "metadata": {},
     "output_type": "execute_result"
    }
   ],
   "source": [
    "x=0.0\n",
    "E_min, E_max = -1022, 1023\n",
    "a, b = E_min, E_max\n",
    "while b != a+1\n",
    "    c=(a+b)÷2\n",
    "    exp_c = 2.0^c\n",
    "    if exp_c == x\n",
    "         c\n",
    "    end\n",
    "    2.0^a < x < exp_c ? b=c : a=c\n",
    "end\n",
    "a"
   ]
  },
  {
   "cell_type": "code",
   "execution_count": 92,
   "metadata": {},
   "outputs": [
    {
     "data": {
      "text/plain": [
       "-1022"
      ]
     },
     "execution_count": 92,
     "metadata": {},
     "output_type": "execute_result"
    }
   ],
   "source": [
    "#Usar para depurar\n",
    "x=47.3\n",
    "E_min, E_max = -1022, 1023\n",
    "a, b = E_min, E_max\n",
    "while b == a+1\n",
    "    c=(a+b)÷2\n",
    "    exp_c = 2.0^c\n",
    "    if exp_c == x\n",
    "        println(\"coinciden\")\n",
    "    end\n",
    "    2.0^a < x < exp_c ? b=c : a=c\n",
    "end\n",
    "a"
   ]
  },
  {
   "cell_type": "code",
   "execution_count": 18,
   "metadata": {},
   "outputs": [
    {
     "data": {
      "text/plain": [
       "2-element Array{Int64,1}:\n",
       " 2\n",
       " 2"
      ]
     },
     "execution_count": 18,
     "metadata": {},
     "output_type": "execute_result"
    }
   ],
   "source": [
    "a=[1,2]\n",
    "a[end-1]+=1\n",
    "a"
   ]
  },
  {
   "cell_type": "code",
   "execution_count": 17,
   "metadata": {},
   "outputs": [
    {
     "data": {
      "text/plain": [
       "0.09999999999999964"
      ]
     },
     "execution_count": 17,
     "metadata": {},
     "output_type": "execute_result"
    }
   ],
   "source": [
    "9.1-9.0"
   ]
  },
  {
   "cell_type": "code",
   "execution_count": 86,
   "metadata": {},
   "outputs": [
    {
     "data": {
      "text/plain": [
       "(9.0, 0.09999999999999964)"
      ]
     },
     "execution_count": 86,
     "metadata": {},
     "output_type": "execute_result"
    }
   ],
   "source": [
    "divrem(9.1,1.0)"
   ]
  },
  {
   "cell_type": "code",
   "execution_count": 87,
   "metadata": {},
   "outputs": [
    {
     "data": {
      "text/plain": [
       "false"
      ]
     },
     "execution_count": 87,
     "metadata": {},
     "output_type": "execute_result"
    }
   ],
   "source": [
    "0.1==0.09999999999999964"
   ]
  },
  {
   "cell_type": "code",
   "execution_count": 208,
   "metadata": {},
   "outputs": [
    {
     "data": {
      "text/plain": [
       "\"0100000000100010001100110011001100110011001100110011001100110011\""
      ]
     },
     "execution_count": 208,
     "metadata": {},
     "output_type": "execute_result"
    }
   ],
   "source": [
    "bitstring(9.09999999999999964)"
   ]
  },
  {
   "cell_type": "code",
   "execution_count": 207,
   "metadata": {},
   "outputs": [
    {
     "data": {
      "text/plain": [
       "\"0100000000100010001100110011001100110011001100110011001100110011\""
      ]
     },
     "execution_count": 207,
     "metadata": {},
     "output_type": "execute_result"
    }
   ],
   "source": [
    "bitstring(9.1)"
   ]
  },
  {
   "cell_type": "code",
   "execution_count": 54,
   "metadata": {},
   "outputs": [
    {
     "name": "stdout",
     "output_type": "stream",
     "text": [
      "No\n"
     ]
    }
   ],
   "source": [
    "x=NaN\n",
    "if isinf(x)\n",
    "        println(\"si\")\n",
    "elseif isnan(x)\n",
    "    println(\"No\")\n",
    "end"
   ]
  },
  {
   "cell_type": "code",
   "execution_count": 42,
   "metadata": {},
   "outputs": [
    {
     "data": {
      "text/plain": [
       "false"
      ]
     },
     "execution_count": 42,
     "metadata": {},
     "output_type": "execute_result"
    }
   ],
   "source": [
    "x=NaN\n",
    "x == NaN"
   ]
  },
  {
   "cell_type": "code",
   "execution_count": 24,
   "metadata": {},
   "outputs": [
    {
     "data": {
      "text/plain": [
       "6-element Array{Int8,1}:\n",
       " 0\n",
       " 0\n",
       " 1\n",
       " 1\n",
       " 0\n",
       " 0"
      ]
     },
     "execution_count": 24,
     "metadata": {},
     "output_type": "execute_result"
    }
   ],
   "source": [
    "a=zeros(Int8, 6)\n",
    "a[3:4].=1\n",
    "a"
   ]
  },
  {
   "cell_type": "code",
   "execution_count": null,
   "metadata": {},
   "outputs": [],
   "source": [
    "a=Array{Float64}(undef, 3)\n",
    "a[1]=1\n",
    "a"
   ]
  },
  {
   "cell_type": "code",
   "execution_count": 11,
   "metadata": {},
   "outputs": [],
   "source": [
    "from pylab import *\n",
    "from numpy import*\n",
    "import sys\n",
    "\n",
    "def f(r,t):\n",
    "    m, k, c, l = 1, 1, 1, 1\n",
    "    x=r[0]\n",
    "    v=r[1]\n",
    "    fx=v\n",
    "    fv=(c/(x**2)-k*(x-l))/m\n",
    "    return array([fx,fv],float)\n",
    "\n",
    "def Euler(f,a,b,N,x_0,v_0):\n",
    "    #Calculamos por RK4.\n",
    "    h = (b-a)/N\n",
    "    lista_t=arange(a,b,h)\n",
    "    lista_x = []\n",
    "    lista_v = []\n",
    "    r = array([x_0,v_0],float)#Condiciones iniciales.\n",
    "    for t in lista_t:\n",
    "        lista_x.append(r[0])\n",
    "        lista_v.append(r[1])\n",
    "        r+=h*f(r,t+h)\n",
    "    return [lista_t, lista_x, lista_v]\n",
    "\n",
    "def RK4(f,a,b,N,x_0,v_0):\n",
    "    #Calculamos por RK4.\n",
    "    h = (b-a)/N\n",
    "    lista_t=arange(a,b,h)\n",
    "    lista_x = []\n",
    "    lista_v = []\n",
    "    r = array([x_0,v_0],float)#Condiciones iniciales.\n",
    "    for t in lista_t:\n",
    "        k1=h*f(r,t)\n",
    "        k2=h*f(r+0.5*k1,t+0.5*h)\n",
    "        k3=h*f(r+0.5*k2,t+0.5*h)\n",
    "        k4=h*f(r+k3,t+h)\n",
    "        r+=(k1+2*k2+2*k3+k4)/float(6)\n",
    "        lista_x.append(r[0])\n",
    "        lista_v.append(r[1])\n",
    "    return [lista_t, lista_x, lista_v]\n",
    "\n",
    "def convMetod(f, fmetd, a, b, Nlist,x0,v0, Nref=1000, fmetodref=RK4):\n",
    "#Se resuelve con fmetd, la ecuación diferencial con los parámetros\n",
    "#f, x0, v0, a y b, para cada N en Nlist. Y se comparan con el resultado\n",
    "#obtnido por fmetodref con los mismos parámetros de entrada \n",
    "#f, x0, v0, a y b, pero en este caso se usa N=Nref. Luego se devuelve\n",
    "#una N-ada con las normas infinito de las diferencias (las comparaciones)\n",
    "#para cada N en Nlist. Para que esto funcione bien es necesario que\n",
    "#las N en Nlist sean divisores de Nref.\n",
    "    err=[]#Almacena la lista de las normas infinito de las diferencias entre las soluciones.\n",
    "    for N in Nlist:\n",
    "        if(Nref%N):#Esto es para asegurarnos de comparar las x para un mismo t.\n",
    "            sys.exit('%i no divide a %i' %(N, Nref))\n",
    "        fac=Nref//N #Es el factor de escala para poder conectar las x con un mismo t.\n",
    "        errN=[]#Almacena las diferencias de las x obtenidas por los dos métodos para un mismo t.\n",
    "        x=fmetd(f,a,b,N,x0,v0)[1]\n",
    "        xref=fmetodref(f,a,b,Nref,x0,v0)[1]\n",
    "        for i in range(len(x)):\n",
    "            errN.append(abs(x[i]-xref[i*fac]))\n",
    "        err.append(max(errN))#Añadimos la norma infinito para cada N.\n",
    "    return err"
   ]
  },
  {
   "cell_type": "code",
   "execution_count": 12,
   "metadata": {},
   "outputs": [
    {
     "data": {
      "image/png": "[encoded data removed]",
      "text/plain": [
       "<Figure size 432x288 with 1 Axes>"
      ]
     },
     "metadata": {
      "needs_background": "light"
     },
     "output_type": "display_data"
    }
   ],
   "source": [
    "Nl=[100, 200, 250, 400, 500, 1000, 2000, 2500, 5000, 10000]\n",
    "\n",
    "errEuler=convMetod(f, Euler, 0, 10, Nl, 1,0, 100000, Euler)\n",
    "errRK4=convMetod(f, RK4, 0, 10, Nl, 1,0, 100000, RK4)"
   ]
  },
  {
   "cell_type": "code",
   "execution_count": 15,
   "metadata": {},
   "outputs": [],
   "source": [
    "%matplotlib notebook"
   ]
  },
  {
   "cell_type": "code",
   "execution_count": 17,
   "metadata": {},
   "outputs": [
    {
     "data": {
      "application/javascript": [
       "/* Put everything inside the global mpl namespace */\n",
       "window.mpl = {};\n",
       "\n",
       "\n",
       "mpl.get_websocket_type = function() {\n",
       "    if (typeof(WebSocket) !== 'undefined') {\n",
       "        return WebSocket;\n",
       "    } else if (typeof(MozWebSocket) !== 'undefined') {\n",
       "        return MozWebSocket;\n",
       "    } else {\n",
       "        alert('Your browser does not have WebSocket support. ' +\n",
       "              'Please try Chrome, Safari or Firefox ≥ 6. ' +\n",
       "              'Firefox 4 and 5 are also supported but you ' +\n",
       "              'have to enable WebSockets in about:config.');\n",
       "    };\n",
       "}\n",
       "\n",
       "mpl.figure = function(figure_id, websocket, ondownload, parent_element) {\n",
       "    this.id = figure_id;\n",
       "\n",
       "    this.ws = websocket;\n",
       "\n",
       "    this.supports_binary = (this.ws.binaryType != undefined);\n",
       "\n",
       "    if (!this.supports_binary) {\n",
       "        var warnings = document.getElementById(\"mpl-warnings\");\n",
       "        if (warnings) {\n",
       "            warnings.style.display = 'block';\n",
       "            warnings.textContent = (\n",
       "                \"This browser does not support binary websocket messages. \" +\n",
       "                    \"Performance may be slow.\");\n",
       "        }\n",
       "    }\n",
       "\n",
       "    this.imageObj = new Image();\n",
       "\n",
       "    this.context = undefined;\n",
       "    this.message = undefined;\n",
       "    this.canvas = undefined;\n",
       "    this.rubberband_canvas = undefined;\n",
       "    this.rubberband_context = undefined;\n",
       "    this.format_dropdown = undefined;\n",
       "\n",
       "    this.image_mode = 'full';\n",
       "\n",
       "    this.root = $('<div/>');\n",
       "    this._root_extra_style(this.root)\n",
       "    this.root.attr('style', 'display: inline-block');\n",
       "\n",
       "    $(parent_element).append(this.root);\n",
       "\n",
       "    this._init_header(this);\n",
       "    this._init_canvas(this);\n",
       "    this._init_toolbar(this);\n",
       "\n",
       "    var fig = this;\n",
       "\n",
       "    this.waiting = false;\n",
       "\n",
       "    this.ws.onopen =  function () {\n",
       "            fig.send_message(\"supports_binary\", {value: fig.supports_binary});\n",
       "            fig.send_message(\"send_image_mode\", {});\n",
       "            if (mpl.ratio != 1) {\n",
       "                fig.send_message(\"set_dpi_ratio\", {'dpi_ratio': mpl.ratio});\n",
       "            }\n",
       "            fig.send_message(\"refresh\", {});\n",
       "        }\n",
       "\n",
       "    this.imageObj.onload = function() {\n",
       "            if (fig.image_mode == 'full') {\n",
       "                // Full images could contain transparency (where diff images\n",
       "                // almost always do), so we need to clear the canvas so that\n",
       "                // there is no ghosting.\n",
       "                fig.context.clearRect(0, 0, fig.canvas.width, fig.canvas.height);\n",
       "            }\n",
       "            fig.context.drawImage(fig.imageObj, 0, 0);\n",
       "        };\n",
       "\n",
       "    this.imageObj.onunload = function() {\n",
       "        fig.ws.close();\n",
       "    }\n",
       "\n",
       "    this.ws.onmessage = this._make_on_message_function(this);\n",
       "\n",
       "    this.ondownload = ondownload;\n",
       "}\n",
       "\n",
       "mpl.figure.prototype._init_header = function() {\n",
       "    var titlebar = $(\n",
       "        '<div class=\"ui-dialog-titlebar ui-widget-header ui-corner-all ' +\n",
       "        'ui-helper-clearfix\"/>');\n",
       "    var titletext = $(\n",
       "        '<div class=\"ui-dialog-title\" style=\"width: 100%; ' +\n",
       "        'text-align: center; padding: 3px;\"/>');\n",
       "    titlebar.append(titletext)\n",
       "    this.root.append(titlebar);\n",
       "    this.header = titletext[0];\n",
       "}\n",
       "\n",
       "\n",
       "\n",
       "mpl.figure.prototype._canvas_extra_style = function(canvas_div) {\n",
       "\n",
       "}\n",
       "\n",
       "\n",
       "mpl.figure.prototype._root_extra_style = function(canvas_div) {\n",
       "\n",
       "}\n",
       "\n",
       "mpl.figure.prototype._init_canvas = function() {\n",
       "    var fig = this;\n",
       "\n",
       "    var canvas_div = $('<div/>');\n",
       "\n",
       "    canvas_div.attr('style', 'position: relative; clear: both; outline: 0');\n",
       "\n",
       "    function canvas_keyboard_event(event) {\n",
       "        return fig.key_event(event, event['data']);\n",
       "    }\n",
       "\n",
       "    canvas_div.keydown('key_press', canvas_keyboard_event);\n",
       "    canvas_div.keyup('key_release', canvas_keyboard_event);\n",
       "    this.canvas_div = canvas_div\n",
       "    this._canvas_extra_style(canvas_div)\n",
       "    this.root.append(canvas_div);\n",
       "\n",
       "    var canvas = $('<canvas/>');\n",
       "    canvas.addClass('mpl-canvas');\n",
       "    canvas.attr('style', \"left: 0; top: 0; z-index: 0; outline: 0\")\n",
       "\n",
       "    this.canvas = canvas[0];\n",
       "    this.context = canvas[0].getContext(\"2d\");\n",
       "\n",
       "    var backingStore = this.context.backingStorePixelRatio ||\n",
       "\tthis.context.webkitBackingStorePixelRatio ||\n",
       "\tthis.context.mozBackingStorePixelRatio ||\n",
       "\tthis.context.msBackingStorePixelRatio ||\n",
       "\tthis.context.oBackingStorePixelRatio ||\n",
       "\tthis.context.backingStorePixelRatio || 1;\n",
       "\n",
       "    mpl.ratio = (window.devicePixelRatio || 1) / backingStore;\n",
       "\n",
       "    var rubberband = $('<canvas/>');\n",
       "    rubberband.attr('style', \"position: absolute; left: 0; top: 0; z-index: 1;\")\n",
       "\n",
       "    var pass_mouse_events = true;\n",
       "\n",
       "    canvas_div.resizable({\n",
       "        start: function(event, ui) {\n",
       "            pass_mouse_events = false;\n",
       "        },\n",
       "        resize: function(event, ui) {\n",
       "            fig.request_resize(ui.size.width, ui.size.height);\n",
       "        },\n",
       "        stop: function(event, ui) {\n",
       "            pass_mouse_events = true;\n",
       "            fig.request_resize(ui.size.width, ui.size.height);\n",
       "        },\n",
       "    });\n",
       "\n",
       "    function mouse_event_fn(event) {\n",
       "        if (pass_mouse_events)\n",
       "            return fig.mouse_event(event, event['data']);\n",
       "    }\n",
       "\n",
       "    rubberband.mousedown('button_press', mouse_event_fn);\n",
       "    rubberband.mouseup('button_release', mouse_event_fn);\n",
       "    // Throttle sequential mouse events to 1 every 20ms.\n",
       "    rubberband.mousemove('motion_notify', mouse_event_fn);\n",
       "\n",
       "    rubberband.mouseenter('figure_enter', mouse_event_fn);\n",
       "    rubberband.mouseleave('figure_leave', mouse_event_fn);\n",
       "\n",
       "    canvas_div.on(\"wheel\", function (event) {\n",
       "        event = event.originalEvent;\n",
       "        event['data'] = 'scroll'\n",
       "        if (event.deltaY < 0) {\n",
       "            event.step = 1;\n",
       "        } else {\n",
       "            event.step = -1;\n",
       "        }\n",
       "        mouse_event_fn(event);\n",
       "    });\n",
       "\n",
       "    canvas_div.append(canvas);\n",
       "    canvas_div.append(rubberband);\n",
       "\n",
       "    this.rubberband = rubberband;\n",
       "    this.rubberband_canvas = rubberband[0];\n",
       "    this.rubberband_context = rubberband[0].getContext(\"2d\");\n",
       "    this.rubberband_context.strokeStyle = \"#000000\";\n",
       "\n",
       "    this._resize_canvas = function(width, height) {\n",
       "        // Keep the size of the canvas, canvas container, and rubber band\n",
       "        // canvas in synch.\n",
       "        canvas_div.css('width', width)\n",
       "        canvas_div.css('height', height)\n",
       "\n",
       "        canvas.attr('width', width * mpl.ratio);\n",
       "        canvas.attr('height', height * mpl.ratio);\n",
       "        canvas.attr('style', 'width: ' + width + 'px; height: ' + height + 'px;');\n",
       "\n",
       "        rubberband.attr('width', width);\n",
       "        rubberband.attr('height', height);\n",
       "    }\n",
       "\n",
       "    // Set the figure to an initial 600x600px, this will subsequently be updated\n",
       "    // upon first draw.\n",
       "    this._resize_canvas(600, 600);\n",
       "\n",
       "    // Disable right mouse context menu.\n",
       "    $(this.rubberband_canvas).bind(\"contextmenu\",function(e){\n",
       "        return false;\n",
       "    });\n",
       "\n",
       "    function set_focus () {\n",
       "        canvas.focus();\n",
       "        canvas_div.focus();\n",
       "    }\n",
       "\n",
       "    window.setTimeout(set_focus, 100);\n",
       "}\n",
       "\n",
       "mpl.figure.prototype._init_toolbar = function() {\n",
       "    var fig = this;\n",
       "\n",
       "    var nav_element = $('<div/>');\n",
       "    nav_element.attr('style', 'width: 100%');\n",
       "    this.root.append(nav_element);\n",
       "\n",
       "    // Define a callback function for later on.\n",
       "    function toolbar_event(event) {\n",
       "        return fig.toolbar_button_onclick(event['data']);\n",
       "    }\n",
       "    function toolbar_mouse_event(event) {\n",
       "        return fig.toolbar_button_onmouseover(event['data']);\n",
       "    }\n",
       "\n",
       "    for(var toolbar_ind in mpl.toolbar_items) {\n",
       "        var name = mpl.toolbar_items[toolbar_ind][0];\n",
       "        var tooltip = mpl.toolbar_items[toolbar_ind][1];\n",
       "        var image = mpl.toolbar_items[toolbar_ind][2];\n",
       "        var method_name = mpl.toolbar_items[toolbar_ind][3];\n",
       "\n",
       "        if (!name) {\n",
       "            // put a spacer in here.\n",
       "            continue;\n",
       "        }\n",
       "        var button = $('<button/>');\n",
       "        button.addClass('ui-button ui-widget ui-state-default ui-corner-all ' +\n",
       "                        'ui-button-icon-only');\n",
       "        button.attr('role', 'button');\n",
       "        button.attr('aria-disabled', 'false');\n",
       "        button.click(method_name, toolbar_event);\n",
       "        button.mouseover(tooltip, toolbar_mouse_event);\n",
       "\n",
       "        var icon_img = $('<span/>');\n",
       "        icon_img.addClass('ui-button-icon-primary ui-icon');\n",
       "        icon_img.addClass(image);\n",
       "        icon_img.addClass('ui-corner-all');\n",
       "\n",
       "        var tooltip_span = $('<span/>');\n",
       "        tooltip_span.addClass('ui-button-text');\n",
       "        tooltip_span.html(tooltip);\n",
       "\n",
       "        button.append(icon_img);\n",
       "        button.append(tooltip_span);\n",
       "\n",
       "        nav_element.append(button);\n",
       "    }\n",
       "\n",
       "    var fmt_picker_span = $('<span/>');\n",
       "\n",
       "    var fmt_picker = $('<select/>');\n",
       "    fmt_picker.addClass('mpl-toolbar-option ui-widget ui-widget-content');\n",
       "    fmt_picker_span.append(fmt_picker);\n",
       "    nav_element.append(fmt_picker_span);\n",
       "    this.format_dropdown = fmt_picker[0];\n",
       "\n",
       "    for (var ind in mpl.extensions) {\n",
       "        var fmt = mpl.extensions[ind];\n",
       "        var option = $(\n",
       "            '<option/>', {selected: fmt === mpl.default_extension}).html(fmt);\n",
       "        fmt_picker.append(option);\n",
       "    }\n",
       "\n",
       "    // Add hover states to the ui-buttons\n",
       "    $( \".ui-button\" ).hover(\n",
       "        function() { $(this).addClass(\"ui-state-hover\");},\n",
       "        function() { $(this).removeClass(\"ui-state-hover\");}\n",
       "    );\n",
       "\n",
       "    var status_bar = $('<span class=\"mpl-message\"/>');\n",
       "    nav_element.append(status_bar);\n",
       "    this.message = status_bar[0];\n",
       "}\n",
       "\n",
       "mpl.figure.prototype.request_resize = function(x_pixels, y_pixels) {\n",
       "    // Request matplotlib to resize the figure. Matplotlib will then trigger a resize in the client,\n",
       "    // which will in turn request a refresh of the image.\n",
       "    this.send_message('resize', {'width': x_pixels, 'height': y_pixels});\n",
       "}\n",
       "\n",
       "mpl.figure.prototype.send_message = function(type, properties) {\n",
       "    properties['type'] = type;\n",
       "    properties['figure_id'] = this.id;\n",
       "    this.ws.send(JSON.stringify(properties));\n",
       "}\n",
       "\n",
       "mpl.figure.prototype.send_draw_message = function() {\n",
       "    if (!this.waiting) {\n",
       "        this.waiting = true;\n",
       "        this.ws.send(JSON.stringify({type: \"draw\", figure_id: this.id}));\n",
       "    }\n",
       "}\n",
       "\n",
       "\n",
       "mpl.figure.prototype.handle_save = function(fig, msg) {\n",
       "    var format_dropdown = fig.format_dropdown;\n",
       "    var format = format_dropdown.options[format_dropdown.selectedIndex].value;\n",
       "    fig.ondownload(fig, format);\n",
       "}\n",
       "\n",
       "\n",
       "mpl.figure.prototype.handle_resize = function(fig, msg) {\n",
       "    var size = msg['size'];\n",
       "    if (size[0] != fig.canvas.width || size[1] != fig.canvas.height) {\n",
       "        fig._resize_canvas(size[0], size[1]);\n",
       "        fig.send_message(\"refresh\", {});\n",
       "    };\n",
       "}\n",
       "\n",
       "mpl.figure.prototype.handle_rubberband = function(fig, msg) {\n",
       "    var x0 = msg['x0'] / mpl.ratio;\n",
       "    var y0 = (fig.canvas.height - msg['y0']) / mpl.ratio;\n",
       "    var x1 = msg['x1'] / mpl.ratio;\n",
       "    var y1 = (fig.canvas.height - msg['y1']) / mpl.ratio;\n",
       "    x0 = Math.floor(x0) + 0.5;\n",
       "    y0 = Math.floor(y0) + 0.5;\n",
       "    x1 = Math.floor(x1) + 0.5;\n",
       "    y1 = Math.floor(y1) + 0.5;\n",
       "    var min_x = Math.min(x0, x1);\n",
       "    var min_y = Math.min(y0, y1);\n",
       "    var width = Math.abs(x1 - x0);\n",
       "    var height = Math.abs(y1 - y0);\n",
       "\n",
       "    fig.rubberband_context.clearRect(\n",
       "        0, 0, fig.canvas.width / mpl.ratio, fig.canvas.height / mpl.ratio);\n",
       "\n",
       "    fig.rubberband_context.strokeRect(min_x, min_y, width, height);\n",
       "}\n",
       "\n",
       "mpl.figure.prototype.handle_figure_label = function(fig, msg) {\n",
       "    // Updates the figure title.\n",
       "    fig.header.textContent = msg['label'];\n",
       "}\n",
       "\n",
       "mpl.figure.prototype.handle_cursor = function(fig, msg) {\n",
       "    var cursor = msg['cursor'];\n",
       "    switch(cursor)\n",
       "    {\n",
       "    case 0:\n",
       "        cursor = 'pointer';\n",
       "        break;\n",
       "    case 1:\n",
       "        cursor = 'default';\n",
       "        break;\n",
       "    case 2:\n",
       "        cursor = 'crosshair';\n",
       "        break;\n",
       "    case 3:\n",
       "        cursor = 'move';\n",
       "        break;\n",
       "    }\n",
       "    fig.rubberband_canvas.style.cursor = cursor;\n",
       "}\n",
       "\n",
       "mpl.figure.prototype.handle_message = function(fig, msg) {\n",
       "    fig.message.textContent = msg['message'];\n",
       "}\n",
       "\n",
       "mpl.figure.prototype.handle_draw = function(fig, msg) {\n",
       "    // Request the server to send over a new figure.\n",
       "    fig.send_draw_message();\n",
       "}\n",
       "\n",
       "mpl.figure.prototype.handle_image_mode = function(fig, msg) {\n",
       "    fig.image_mode = msg['mode'];\n",
       "}\n",
       "\n",
       "mpl.figure.prototype.updated_canvas_event = function() {\n",
       "    // Called whenever the canvas gets updated.\n",
       "    this.send_message(\"ack\", {});\n",
       "}\n",
       "\n",
       "// A function to construct a web socket function for onmessage handling.\n",
       "// Called in the figure constructor.\n",
       "mpl.figure.prototype._make_on_message_function = function(fig) {\n",
       "    return function socket_on_message(evt) {\n",
       "        if (evt.data instanceof Blob) {\n",
       "            /* FIXME: We get \"Resource interpreted as Image but\n",
       "             * transferred with MIME type text/plain:\" errors on\n",
       "             * Chrome.  But how to set the MIME type?  It doesn't seem\n",
       "             * to be part of the websocket stream */\n",
       "            evt.data.type = \"image/png\";\n",
       "\n",
       "            /* Free the memory for the previous frames */\n",
       "            if (fig.imageObj.src) {\n",
       "                (window.URL || window.webkitURL).revokeObjectURL(\n",
       "                    fig.imageObj.src);\n",
       "            }\n",
       "\n",
       "            fig.imageObj.src = (window.URL || window.webkitURL).createObjectURL(\n",
       "                evt.data);\n",
       "            fig.updated_canvas_event();\n",
       "            fig.waiting = false;\n",
       "            return;\n",
       "        }\n",
       "        else if (typeof evt.data === 'string' && evt.data.slice(0, 21) == \"data:image/png;base64\") {\n",
       "            fig.imageObj.src = evt.data;\n",
       "            fig.updated_canvas_event();\n",
       "            fig.waiting = false;\n",
       "            return;\n",
       "        }\n",
       "\n",
       "        var msg = JSON.parse(evt.data);\n",
       "        var msg_type = msg['type'];\n",
       "\n",
       "        // Call the  \"handle_{type}\" callback, which takes\n",
       "        // the figure and JSON message as its only arguments.\n",
       "        try {\n",
       "            var callback = fig[\"handle_\" + msg_type];\n",
       "        } catch (e) {\n",
       "            console.log(\"No handler for the '\" + msg_type + \"' message type: \", msg);\n",
       "            return;\n",
       "        }\n",
       "\n",
       "        if (callback) {\n",
       "            try {\n",
       "                // console.log(\"Handling '\" + msg_type + \"' message: \", msg);\n",
       "                callback(fig, msg);\n",
       "            } catch (e) {\n",
       "                console.log(\"Exception inside the 'handler_\" + msg_type + \"' callback:\", e, e.stack, msg);\n",
       "            }\n",
       "        }\n",
       "    };\n",
       "}\n",
       "\n",
       "// from http://stackoverflow.com/questions/1114465/getting-mouse-location-in-canvas\n",
       "mpl.findpos = function(e) {\n",
       "    //this section is from http://www.quirksmode.org/js/events_properties.html\n",
       "    var targ;\n",
       "    if (!e)\n",
       "        e = window.event;\n",
       "    if (e.target)\n",
       "        targ = e.target;\n",
       "    else if (e.srcElement)\n",
       "        targ = e.srcElement;\n",
       "    if (targ.nodeType == 3) // defeat Safari bug\n",
       "        targ = targ.parentNode;\n",
       "\n",
       "    // jQuery normalizes the pageX and pageY\n",
       "    // pageX,Y are the mouse positions relative to the document\n",
       "    // offset() returns the position of the element relative to the document\n",
       "    var x = e.pageX - $(targ).offset().left;\n",
       "    var y = e.pageY - $(targ).offset().top;\n",
       "\n",
       "    return {\"x\": x, \"y\": y};\n",
       "};\n",
       "\n",
       "/*\n",
       " * return a copy of an object with only non-object keys\n",
       " * we need this to avoid circular references\n",
       " * http://stackoverflow.com/a/24161582/3208463\n",
       " */\n",
       "function simpleKeys (original) {\n",
       "  return Object.keys(original).reduce(function (obj, key) {\n",
       "    if (typeof original[key] !== 'object')\n",
       "        obj[key] = original[key]\n",
       "    return obj;\n",
       "  }, {});\n",
       "}\n",
       "\n",
       "mpl.figure.prototype.mouse_event = function(event, name) {\n",
       "    var canvas_pos = mpl.findpos(event)\n",
       "\n",
       "    if (name === 'button_press')\n",
       "    {\n",
       "        this.canvas.focus();\n",
       "        this.canvas_div.focus();\n",
       "    }\n",
       "\n",
       "    var x = canvas_pos.x * mpl.ratio;\n",
       "    var y = canvas_pos.y * mpl.ratio;\n",
       "\n",
       "    this.send_message(name, {x: x, y: y, button: event.button,\n",
       "                             step: event.step,\n",
       "                             guiEvent: simpleKeys(event)});\n",
       "\n",
       "    /* This prevents the web browser from automatically changing to\n",
       "     * the text insertion cursor when the button is pressed.  We want\n",
       "     * to control all of the cursor setting manually through the\n",
       "     * 'cursor' event from matplotlib */\n",
       "    event.preventDefault();\n",
       "    return false;\n",
       "}\n",
       "\n",
       "mpl.figure.prototype._key_event_extra = function(event, name) {\n",
       "    // Handle any extra behaviour associated with a key event\n",
       "}\n",
       "\n",
       "mpl.figure.prototype.key_event = function(event, name) {\n",
       "\n",
       "    // Prevent repeat events\n",
       "    if (name == 'key_press')\n",
       "    {\n",
       "        if (event.which === this._key)\n",
       "            return;\n",
       "        else\n",
       "            this._key = event.which;\n",
       "    }\n",
       "    if (name == 'key_release')\n",
       "        this._key = null;\n",
       "\n",
       "    var value = '';\n",
       "    if (event.ctrlKey && event.which != 17)\n",
       "        value += \"ctrl+\";\n",
       "    if (event.altKey && event.which != 18)\n",
       "        value += \"alt+\";\n",
       "    if (event.shiftKey && event.which != 16)\n",
       "        value += \"shift+\";\n",
       "\n",
       "    value += 'k';\n",
       "    value += event.which.toString();\n",
       "\n",
       "    this._key_event_extra(event, name);\n",
       "\n",
       "    this.send_message(name, {key: value,\n",
       "                             guiEvent: simpleKeys(event)});\n",
       "    return false;\n",
       "}\n",
       "\n",
       "mpl.figure.prototype.toolbar_button_onclick = function(name) {\n",
       "    if (name == 'download') {\n",
       "        this.handle_save(this, null);\n",
       "    } else {\n",
       "        this.send_message(\"toolbar_button\", {name: name});\n",
       "    }\n",
       "};\n",
       "\n",
       "mpl.figure.prototype.toolbar_button_onmouseover = function(tooltip) {\n",
       "    this.message.textContent = tooltip;\n",
       "};\n",
       "mpl.toolbar_items = [[\"Home\", \"Reset original view\", \"fa fa-home icon-home\", \"home\"], [\"Back\", \"Back to previous view\", \"fa fa-arrow-left icon-arrow-left\", \"back\"], [\"Forward\", \"Forward to next view\", \"fa fa-arrow-right icon-arrow-right\", \"forward\"], [\"\", \"\", \"\", \"\"], [\"Pan\", \"Pan axes with left mouse, zoom with right\", \"fa fa-arrows icon-move\", \"pan\"], [\"Zoom\", \"Zoom to rectangle\", \"fa fa-square-o icon-check-empty\", \"zoom\"], [\"\", \"\", \"\", \"\"], [\"Download\", \"Download plot\", \"fa fa-floppy-o icon-save\", \"download\"]];\n",
       "\n",
       "mpl.extensions = [\"eps\", \"jpeg\", \"pdf\", \"png\", \"ps\", \"raw\", \"svg\", \"tif\"];\n",
       "\n",
       "mpl.default_extension = \"png\";var comm_websocket_adapter = function(comm) {\n",
       "    // Create a \"websocket\"-like object which calls the given IPython comm\n",
       "    // object with the appropriate methods. Currently this is a non binary\n",
       "    // socket, so there is still some room for performance tuning.\n",
       "    var ws = {};\n",
       "\n",
       "    ws.close = function() {\n",
       "        comm.close()\n",
       "    };\n",
       "    ws.send = function(m) {\n",
       "        //console.log('sending', m);\n",
       "        comm.send(m);\n",
       "    };\n",
       "    // Register the callback with on_msg.\n",
       "    comm.on_msg(function(msg) {\n",
       "        //console.log('receiving', msg['content']['data'], msg);\n",
       "        // Pass the mpl event to the overridden (by mpl) onmessage function.\n",
       "        ws.onmessage(msg['content']['data'])\n",
       "    });\n",
       "    return ws;\n",
       "}\n",
       "\n",
       "mpl.mpl_figure_comm = function(comm, msg) {\n",
       "    // This is the function which gets called when the mpl process\n",
       "    // starts-up an IPython Comm through the \"matplotlib\" channel.\n",
       "\n",
       "    var id = msg.content.data.id;\n",
       "    // Get hold of the div created by the display call when the Comm\n",
       "    // socket was opened in Python.\n",
       "    var element = $(\"#\" + id);\n",
       "    var ws_proxy = comm_websocket_adapter(comm)\n",
       "\n",
       "    function ondownload(figure, format) {\n",
       "        window.open(figure.imageObj.src);\n",
       "    }\n",
       "\n",
       "    var fig = new mpl.figure(id, ws_proxy,\n",
       "                           ondownload,\n",
       "                           element.get(0));\n",
       "\n",
       "    // Call onopen now - mpl needs it, as it is assuming we've passed it a real\n",
       "    // web socket which is closed, not our websocket->open comm proxy.\n",
       "    ws_proxy.onopen();\n",
       "\n",
       "    fig.parent_element = element.get(0);\n",
       "    fig.cell_info = mpl.find_output_cell(\"<div id='\" + id + \"'></div>\");\n",
       "    if (!fig.cell_info) {\n",
       "        console.error(\"Failed to find cell for figure\", id, fig);\n",
       "        return;\n",
       "    }\n",
       "\n",
       "    var output_index = fig.cell_info[2]\n",
       "    var cell = fig.cell_info[0];\n",
       "\n",
       "};\n",
       "\n",
       "mpl.figure.prototype.handle_close = function(fig, msg) {\n",
       "    var width = fig.canvas.width/mpl.ratio\n",
       "    fig.root.unbind('remove')\n",
       "\n",
       "    // Update the output cell to use the data from the current canvas.\n",
       "    fig.push_to_output();\n",
       "    var dataURL = fig.canvas.toDataURL();\n",
       "    // Re-enable the keyboard manager in IPython - without this line, in FF,\n",
       "    // the notebook keyboard shortcuts fail.\n",
       "    IPython.keyboard_manager.enable()\n",
       "    $(fig.parent_element).html('<img src=\"' + dataURL + '\" width=\"' + width + '\">');\n",
       "    fig.close_ws(fig, msg);\n",
       "}\n",
       "\n",
       "mpl.figure.prototype.close_ws = function(fig, msg){\n",
       "    fig.send_message('closing', msg);\n",
       "    // fig.ws.close()\n",
       "}\n",
       "\n",
       "mpl.figure.prototype.push_to_output = function(remove_interactive) {\n",
       "    // Turn the data on the canvas into data in the output cell.\n",
       "    var width = this.canvas.width/mpl.ratio\n",
       "    var dataURL = this.canvas.toDataURL();\n",
       "    this.cell_info[1]['text/html'] = '<img src=\"' + dataURL + '\" width=\"' + width + '\">';\n",
       "}\n",
       "\n",
       "mpl.figure.prototype.updated_canvas_event = function() {\n",
       "    // Tell IPython that the notebook contents must change.\n",
       "    IPython.notebook.set_dirty(true);\n",
       "    this.send_message(\"ack\", {});\n",
       "    var fig = this;\n",
       "    // Wait a second, then push the new image to the DOM so\n",
       "    // that it is saved nicely (might be nice to debounce this).\n",
       "    setTimeout(function () { fig.push_to_output() }, 1000);\n",
       "}\n",
       "\n",
       "mpl.figure.prototype._init_toolbar = function() {\n",
       "    var fig = this;\n",
       "\n",
       "    var nav_element = $('<div/>');\n",
       "    nav_element.attr('style', 'width: 100%');\n",
       "    this.root.append(nav_element);\n",
       "\n",
       "    // Define a callback function for later on.\n",
       "    function toolbar_event(event) {\n",
       "        return fig.toolbar_button_onclick(event['data']);\n",
       "    }\n",
       "    function toolbar_mouse_event(event) {\n",
       "        return fig.toolbar_button_onmouseover(event['data']);\n",
       "    }\n",
       "\n",
       "    for(var toolbar_ind in mpl.toolbar_items){\n",
       "        var name = mpl.toolbar_items[toolbar_ind][0];\n",
       "        var tooltip = mpl.toolbar_items[toolbar_ind][1];\n",
       "        var image = mpl.toolbar_items[toolbar_ind][2];\n",
       "        var method_name = mpl.toolbar_items[toolbar_ind][3];\n",
       "\n",
       "        if (!name) { continue; };\n",
       "\n",
       "        var button = $('<button class=\"btn btn-default\" href=\"#\" title=\"' + name + '\"><i class=\"fa ' + image + ' fa-lg\"></i></button>');\n",
       "        button.click(method_name, toolbar_event);\n",
       "        button.mouseover(tooltip, toolbar_mouse_event);\n",
       "        nav_element.append(button);\n",
       "    }\n",
       "\n",
       "    // Add the status bar.\n",
       "    var status_bar = $('<span class=\"mpl-message\" style=\"text-align:right; float: right;\"/>');\n",
       "    nav_element.append(status_bar);\n",
       "    this.message = status_bar[0];\n",
       "\n",
       "    // Add the close button to the window.\n",
       "    var buttongrp = $('<div class=\"btn-group inline pull-right\"></div>');\n",
       "    var button = $('<button class=\"btn btn-mini btn-primary\" href=\"#\" title=\"Stop Interaction\"><i class=\"fa fa-power-off icon-remove icon-large\"></i></button>');\n",
       "    button.click(function (evt) { fig.handle_close(fig, {}); } );\n",
       "    button.mouseover('Stop Interaction', toolbar_mouse_event);\n",
       "    buttongrp.append(button);\n",
       "    var titlebar = this.root.find($('.ui-dialog-titlebar'));\n",
       "    titlebar.prepend(buttongrp);\n",
       "}\n",
       "\n",
       "mpl.figure.prototype._root_extra_style = function(el){\n",
       "    var fig = this\n",
       "    el.on(\"remove\", function(){\n",
       "\tfig.close_ws(fig, {});\n",
       "    });\n",
       "}\n",
       "\n",
       "mpl.figure.prototype._canvas_extra_style = function(el){\n",
       "    // this is important to make the div 'focusable\n",
       "    el.attr('tabindex', 0)\n",
       "    // reach out to IPython and tell the keyboard manager to turn it's self\n",
       "    // off when our div gets focus\n",
       "\n",
       "    // location in version 3\n",
       "    if (IPython.notebook.keyboard_manager) {\n",
       "        IPython.notebook.keyboard_manager.register_events(el);\n",
       "    }\n",
       "    else {\n",
       "        // location in version 2\n",
       "        IPython.keyboard_manager.register_events(el);\n",
       "    }\n",
       "\n",
       "}\n",
       "\n",
       "mpl.figure.prototype._key_event_extra = function(event, name) {\n",
       "    var manager = IPython.notebook.keyboard_manager;\n",
       "    if (!manager)\n",
       "        manager = IPython.keyboard_manager;\n",
       "\n",
       "    // Check for shift+enter\n",
       "    if (event.shiftKey && event.which == 13) {\n",
       "        this.canvas_div.blur();\n",
       "        // select the cell after this one\n",
       "        var index = IPython.notebook.find_cell_index(this.cell_info[0]);\n",
       "        IPython.notebook.select(index + 1);\n",
       "    }\n",
       "}\n",
       "\n",
       "mpl.figure.prototype.handle_save = function(fig, msg) {\n",
       "    fig.ondownload(fig, null);\n",
       "}\n",
       "\n",
       "\n",
       "mpl.find_output_cell = function(html_output) {\n",
       "    // Return the cell and output element which can be found *uniquely* in the notebook.\n",
       "    // Note - this is a bit hacky, but it is done because the \"notebook_saving.Notebook\"\n",
       "    // IPython event is triggered only after the cells have been serialised, which for\n",
       "    // our purposes (turning an active figure into a static one), is too late.\n",
       "    var cells = IPython.notebook.get_cells();\n",
       "    var ncells = cells.length;\n",
       "    for (var i=0; i<ncells; i++) {\n",
       "        var cell = cells[i];\n",
       "        if (cell.cell_type === 'code'){\n",
       "            for (var j=0; j<cell.output_area.outputs.length; j++) {\n",
       "                var data = cell.output_area.outputs[j];\n",
       "                if (data.data) {\n",
       "                    // IPython >= 3 moved mimebundle to data attribute of output\n",
       "                    data = data.data;\n",
       "                }\n",
       "                if (data['text/html'] == html_output) {\n",
       "                    return [cell, data, j];\n",
       "                }\n",
       "            }\n",
       "        }\n",
       "    }\n",
       "}\n",
       "\n",
       "// Register the function which deals with the matplotlib target/channel.\n",
       "// The kernel may be null if the page has been refreshed.\n",
       "if (IPython.notebook.kernel != null) {\n",
       "    IPython.notebook.kernel.comm_manager.register_target('matplotlib', mpl.mpl_figure_comm);\n",
       "}\n"
      ],
      "text/plain": [
       "<IPython.core.display.Javascript object>"
      ]
     },
     "metadata": {},
     "output_type": "display_data"
    },
    {
     "data": {
      "text/html": [
       "<img src=\"data:image/png;base64,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\" width=\"640\">"
      ],
      "text/plain": [
       "<IPython.core.display.HTML object>"
      ]
     },
     "metadata": {},
     "output_type": "display_data"
    }
   ],
   "source": [
    "plot(Nl, errEuler,label='Euler')\n",
    "plot(Nl, errRK4,label='RK4')\n",
    "xlabel('N')\n",
    "ylabel('error(N)')\n",
    "title('Comparación de la velocidad de convergencia.')\n",
    "legend(loc='best')\n",
    "grid()\n",
    "show()"
   ]
  },
  {
   "cell_type": "code",
   "execution_count": 18,
   "metadata": {},
   "outputs": [
    {
     "data": {
      "application/javascript": [
       "/* Put everything inside the global mpl namespace */\n",
       "window.mpl = {};\n",
       "\n",
       "\n",
       "mpl.get_websocket_type = function() {\n",
       "    if (typeof(WebSocket) !== 'undefined') {\n",
       "        return WebSocket;\n",
       "    } else if (typeof(MozWebSocket) !== 'undefined') {\n",
       "        return MozWebSocket;\n",
       "    } else {\n",
       "        alert('Your browser does not have WebSocket support. ' +\n",
       "              'Please try Chrome, Safari or Firefox ≥ 6. ' +\n",
       "              'Firefox 4 and 5 are also supported but you ' +\n",
       "              'have to enable WebSockets in about:config.');\n",
       "    };\n",
       "}\n",
       "\n",
       "mpl.figure = function(figure_id, websocket, ondownload, parent_element) {\n",
       "    this.id = figure_id;\n",
       "\n",
       "    this.ws = websocket;\n",
       "\n",
       "    this.supports_binary = (this.ws.binaryType != undefined);\n",
       "\n",
       "    if (!this.supports_binary) {\n",
       "        var warnings = document.getElementById(\"mpl-warnings\");\n",
       "        if (warnings) {\n",
       "            warnings.style.display = 'block';\n",
       "            warnings.textContent = (\n",
       "                \"This browser does not support binary websocket messages. \" +\n",
       "                    \"Performance may be slow.\");\n",
       "        }\n",
       "    }\n",
       "\n",
       "    this.imageObj = new Image();\n",
       "\n",
       "    this.context = undefined;\n",
       "    this.message = undefined;\n",
       "    this.canvas = undefined;\n",
       "    this.rubberband_canvas = undefined;\n",
       "    this.rubberband_context = undefined;\n",
       "    this.format_dropdown = undefined;\n",
       "\n",
       "    this.image_mode = 'full';\n",
       "\n",
       "    this.root = $('<div/>');\n",
       "    this._root_extra_style(this.root)\n",
       "    this.root.attr('style', 'display: inline-block');\n",
       "\n",
       "    $(parent_element).append(this.root);\n",
       "\n",
       "    this._init_header(this);\n",
       "    this._init_canvas(this);\n",
       "    this._init_toolbar(this);\n",
       "\n",
       "    var fig = this;\n",
       "\n",
       "    this.waiting = false;\n",
       "\n",
       "    this.ws.onopen =  function () {\n",
       "            fig.send_message(\"supports_binary\", {value: fig.supports_binary});\n",
       "            fig.send_message(\"send_image_mode\", {});\n",
       "            if (mpl.ratio != 1) {\n",
       "                fig.send_message(\"set_dpi_ratio\", {'dpi_ratio': mpl.ratio});\n",
       "            }\n",
       "            fig.send_message(\"refresh\", {});\n",
       "        }\n",
       "\n",
       "    this.imageObj.onload = function() {\n",
       "            if (fig.image_mode == 'full') {\n",
       "                // Full images could contain transparency (where diff images\n",
       "                // almost always do), so we need to clear the canvas so that\n",
       "                // there is no ghosting.\n",
       "                fig.context.clearRect(0, 0, fig.canvas.width, fig.canvas.height);\n",
       "            }\n",
       "            fig.context.drawImage(fig.imageObj, 0, 0);\n",
       "        };\n",
       "\n",
       "    this.imageObj.onunload = function() {\n",
       "        fig.ws.close();\n",
       "    }\n",
       "\n",
       "    this.ws.onmessage = this._make_on_message_function(this);\n",
       "\n",
       "    this.ondownload = ondownload;\n",
       "}\n",
       "\n",
       "mpl.figure.prototype._init_header = function() {\n",
       "    var titlebar = $(\n",
       "        '<div class=\"ui-dialog-titlebar ui-widget-header ui-corner-all ' +\n",
       "        'ui-helper-clearfix\"/>');\n",
       "    var titletext = $(\n",
       "        '<div class=\"ui-dialog-title\" style=\"width: 100%; ' +\n",
       "        'text-align: center; padding: 3px;\"/>');\n",
       "    titlebar.append(titletext)\n",
       "    this.root.append(titlebar);\n",
       "    this.header = titletext[0];\n",
       "}\n",
       "\n",
       "\n",
       "\n",
       "mpl.figure.prototype._canvas_extra_style = function(canvas_div) {\n",
       "\n",
       "}\n",
       "\n",
       "\n",
       "mpl.figure.prototype._root_extra_style = function(canvas_div) {\n",
       "\n",
       "}\n",
       "\n",
       "mpl.figure.prototype._init_canvas = function() {\n",
       "    var fig = this;\n",
       "\n",
       "    var canvas_div = $('<div/>');\n",
       "\n",
       "    canvas_div.attr('style', 'position: relative; clear: both; outline: 0');\n",
       "\n",
       "    function canvas_keyboard_event(event) {\n",
       "        return fig.key_event(event, event['data']);\n",
       "    }\n",
       "\n",
       "    canvas_div.keydown('key_press', canvas_keyboard_event);\n",
       "    canvas_div.keyup('key_release', canvas_keyboard_event);\n",
       "    this.canvas_div = canvas_div\n",
       "    this._canvas_extra_style(canvas_div)\n",
       "    this.root.append(canvas_div);\n",
       "\n",
       "    var canvas = $('<canvas/>');\n",
       "    canvas.addClass('mpl-canvas');\n",
       "    canvas.attr('style', \"left: 0; top: 0; z-index: 0; outline: 0\")\n",
       "\n",
       "    this.canvas = canvas[0];\n",
       "    this.context = canvas[0].getContext(\"2d\");\n",
       "\n",
       "    var backingStore = this.context.backingStorePixelRatio ||\n",
       "\tthis.context.webkitBackingStorePixelRatio ||\n",
       "\tthis.context.mozBackingStorePixelRatio ||\n",
       "\tthis.context.msBackingStorePixelRatio ||\n",
       "\tthis.context.oBackingStorePixelRatio ||\n",
       "\tthis.context.backingStorePixelRatio || 1;\n",
       "\n",
       "    mpl.ratio = (window.devicePixelRatio || 1) / backingStore;\n",
       "\n",
       "    var rubberband = $('<canvas/>');\n",
       "    rubberband.attr('style', \"position: absolute; left: 0; top: 0; z-index: 1;\")\n",
       "\n",
       "    var pass_mouse_events = true;\n",
       "\n",
       "    canvas_div.resizable({\n",
       "        start: function(event, ui) {\n",
       "            pass_mouse_events = false;\n",
       "        },\n",
       "        resize: function(event, ui) {\n",
       "            fig.request_resize(ui.size.width, ui.size.height);\n",
       "        },\n",
       "        stop: function(event, ui) {\n",
       "            pass_mouse_events = true;\n",
       "            fig.request_resize(ui.size.width, ui.size.height);\n",
       "        },\n",
       "    });\n",
       "\n",
       "    function mouse_event_fn(event) {\n",
       "        if (pass_mouse_events)\n",
       "            return fig.mouse_event(event, event['data']);\n",
       "    }\n",
       "\n",
       "    rubberband.mousedown('button_press', mouse_event_fn);\n",
       "    rubberband.mouseup('button_release', mouse_event_fn);\n",
       "    // Throttle sequential mouse events to 1 every 20ms.\n",
       "    rubberband.mousemove('motion_notify', mouse_event_fn);\n",
       "\n",
       "    rubberband.mouseenter('figure_enter', mouse_event_fn);\n",
       "    rubberband.mouseleave('figure_leave', mouse_event_fn);\n",
       "\n",
       "    canvas_div.on(\"wheel\", function (event) {\n",
       "        event = event.originalEvent;\n",
       "        event['data'] = 'scroll'\n",
       "        if (event.deltaY < 0) {\n",
       "            event.step = 1;\n",
       "        } else {\n",
       "            event.step = -1;\n",
       "        }\n",
       "        mouse_event_fn(event);\n",
       "    });\n",
       "\n",
       "    canvas_div.append(canvas);\n",
       "    canvas_div.append(rubberband);\n",
       "\n",
       "    this.rubberband = rubberband;\n",
       "    this.rubberband_canvas = rubberband[0];\n",
       "    this.rubberband_context = rubberband[0].getContext(\"2d\");\n",
       "    this.rubberband_context.strokeStyle = \"#000000\";\n",
       "\n",
       "    this._resize_canvas = function(width, height) {\n",
       "        // Keep the size of the canvas, canvas container, and rubber band\n",
       "        // canvas in synch.\n",
       "        canvas_div.css('width', width)\n",
       "        canvas_div.css('height', height)\n",
       "\n",
       "        canvas.attr('width', width * mpl.ratio);\n",
       "        canvas.attr('height', height * mpl.ratio);\n",
       "        canvas.attr('style', 'width: ' + width + 'px; height: ' + height + 'px;');\n",
       "\n",
       "        rubberband.attr('width', width);\n",
       "        rubberband.attr('height', height);\n",
       "    }\n",
       "\n",
       "    // Set the figure to an initial 600x600px, this will subsequently be updated\n",
       "    // upon first draw.\n",
       "    this._resize_canvas(600, 600);\n",
       "\n",
       "    // Disable right mouse context menu.\n",
       "    $(this.rubberband_canvas).bind(\"contextmenu\",function(e){\n",
       "        return false;\n",
       "    });\n",
       "\n",
       "    function set_focus () {\n",
       "        canvas.focus();\n",
       "        canvas_div.focus();\n",
       "    }\n",
       "\n",
       "    window.setTimeout(set_focus, 100);\n",
       "}\n",
       "\n",
       "mpl.figure.prototype._init_toolbar = function() {\n",
       "    var fig = this;\n",
       "\n",
       "    var nav_element = $('<div/>');\n",
       "    nav_element.attr('style', 'width: 100%');\n",
       "    this.root.append(nav_element);\n",
       "\n",
       "    // Define a callback function for later on.\n",
       "    function toolbar_event(event) {\n",
       "        return fig.toolbar_button_onclick(event['data']);\n",
       "    }\n",
       "    function toolbar_mouse_event(event) {\n",
       "        return fig.toolbar_button_onmouseover(event['data']);\n",
       "    }\n",
       "\n",
       "    for(var toolbar_ind in mpl.toolbar_items) {\n",
       "        var name = mpl.toolbar_items[toolbar_ind][0];\n",
       "        var tooltip = mpl.toolbar_items[toolbar_ind][1];\n",
       "        var image = mpl.toolbar_items[toolbar_ind][2];\n",
       "        var method_name = mpl.toolbar_items[toolbar_ind][3];\n",
       "\n",
       "        if (!name) {\n",
       "            // put a spacer in here.\n",
       "            continue;\n",
       "        }\n",
       "        var button = $('<button/>');\n",
       "        button.addClass('ui-button ui-widget ui-state-default ui-corner-all ' +\n",
       "                        'ui-button-icon-only');\n",
       "        button.attr('role', 'button');\n",
       "        button.attr('aria-disabled', 'false');\n",
       "        button.click(method_name, toolbar_event);\n",
       "        button.mouseover(tooltip, toolbar_mouse_event);\n",
       "\n",
       "        var icon_img = $('<span/>');\n",
       "        icon_img.addClass('ui-button-icon-primary ui-icon');\n",
       "        icon_img.addClass(image);\n",
       "        icon_img.addClass('ui-corner-all');\n",
       "\n",
       "        var tooltip_span = $('<span/>');\n",
       "        tooltip_span.addClass('ui-button-text');\n",
       "        tooltip_span.html(tooltip);\n",
       "\n",
       "        button.append(icon_img);\n",
       "        button.append(tooltip_span);\n",
       "\n",
       "        nav_element.append(button);\n",
       "    }\n",
       "\n",
       "    var fmt_picker_span = $('<span/>');\n",
       "\n",
       "    var fmt_picker = $('<select/>');\n",
       "    fmt_picker.addClass('mpl-toolbar-option ui-widget ui-widget-content');\n",
       "    fmt_picker_span.append(fmt_picker);\n",
       "    nav_element.append(fmt_picker_span);\n",
       "    this.format_dropdown = fmt_picker[0];\n",
       "\n",
       "    for (var ind in mpl.extensions) {\n",
       "        var fmt = mpl.extensions[ind];\n",
       "        var option = $(\n",
       "            '<option/>', {selected: fmt === mpl.default_extension}).html(fmt);\n",
       "        fmt_picker.append(option);\n",
       "    }\n",
       "\n",
       "    // Add hover states to the ui-buttons\n",
       "    $( \".ui-button\" ).hover(\n",
       "        function() { $(this).addClass(\"ui-state-hover\");},\n",
       "        function() { $(this).removeClass(\"ui-state-hover\");}\n",
       "    );\n",
       "\n",
       "    var status_bar = $('<span class=\"mpl-message\"/>');\n",
       "    nav_element.append(status_bar);\n",
       "    this.message = status_bar[0];\n",
       "}\n",
       "\n",
       "mpl.figure.prototype.request_resize = function(x_pixels, y_pixels) {\n",
       "    // Request matplotlib to resize the figure. Matplotlib will then trigger a resize in the client,\n",
       "    // which will in turn request a refresh of the image.\n",
       "    this.send_message('resize', {'width': x_pixels, 'height': y_pixels});\n",
       "}\n",
       "\n",
       "mpl.figure.prototype.send_message = function(type, properties) {\n",
       "    properties['type'] = type;\n",
       "    properties['figure_id'] = this.id;\n",
       "    this.ws.send(JSON.stringify(properties));\n",
       "}\n",
       "\n",
       "mpl.figure.prototype.send_draw_message = function() {\n",
       "    if (!this.waiting) {\n",
       "        this.waiting = true;\n",
       "        this.ws.send(JSON.stringify({type: \"draw\", figure_id: this.id}));\n",
       "    }\n",
       "}\n",
       "\n",
       "\n",
       "mpl.figure.prototype.handle_save = function(fig, msg) {\n",
       "    var format_dropdown = fig.format_dropdown;\n",
       "    var format = format_dropdown.options[format_dropdown.selectedIndex].value;\n",
       "    fig.ondownload(fig, format);\n",
       "}\n",
       "\n",
       "\n",
       "mpl.figure.prototype.handle_resize = function(fig, msg) {\n",
       "    var size = msg['size'];\n",
       "    if (size[0] != fig.canvas.width || size[1] != fig.canvas.height) {\n",
       "        fig._resize_canvas(size[0], size[1]);\n",
       "        fig.send_message(\"refresh\", {});\n",
       "    };\n",
       "}\n",
       "\n",
       "mpl.figure.prototype.handle_rubberband = function(fig, msg) {\n",
       "    var x0 = msg['x0'] / mpl.ratio;\n",
       "    var y0 = (fig.canvas.height - msg['y0']) / mpl.ratio;\n",
       "    var x1 = msg['x1'] / mpl.ratio;\n",
       "    var y1 = (fig.canvas.height - msg['y1']) / mpl.ratio;\n",
       "    x0 = Math.floor(x0) + 0.5;\n",
       "    y0 = Math.floor(y0) + 0.5;\n",
       "    x1 = Math.floor(x1) + 0.5;\n",
       "    y1 = Math.floor(y1) + 0.5;\n",
       "    var min_x = Math.min(x0, x1);\n",
       "    var min_y = Math.min(y0, y1);\n",
       "    var width = Math.abs(x1 - x0);\n",
       "    var height = Math.abs(y1 - y0);\n",
       "\n",
       "    fig.rubberband_context.clearRect(\n",
       "        0, 0, fig.canvas.width / mpl.ratio, fig.canvas.height / mpl.ratio);\n",
       "\n",
       "    fig.rubberband_context.strokeRect(min_x, min_y, width, height);\n",
       "}\n",
       "\n",
       "mpl.figure.prototype.handle_figure_label = function(fig, msg) {\n",
       "    // Updates the figure title.\n",
       "    fig.header.textContent = msg['label'];\n",
       "}\n",
       "\n",
       "mpl.figure.prototype.handle_cursor = function(fig, msg) {\n",
       "    var cursor = msg['cursor'];\n",
       "    switch(cursor)\n",
       "    {\n",
       "    case 0:\n",
       "        cursor = 'pointer';\n",
       "        break;\n",
       "    case 1:\n",
       "        cursor = 'default';\n",
       "        break;\n",
       "    case 2:\n",
       "        cursor = 'crosshair';\n",
       "        break;\n",
       "    case 3:\n",
       "        cursor = 'move';\n",
       "        break;\n",
       "    }\n",
       "    fig.rubberband_canvas.style.cursor = cursor;\n",
       "}\n",
       "\n",
       "mpl.figure.prototype.handle_message = function(fig, msg) {\n",
       "    fig.message.textContent = msg['message'];\n",
       "}\n",
       "\n",
       "mpl.figure.prototype.handle_draw = function(fig, msg) {\n",
       "    // Request the server to send over a new figure.\n",
       "    fig.send_draw_message();\n",
       "}\n",
       "\n",
       "mpl.figure.prototype.handle_image_mode = function(fig, msg) {\n",
       "    fig.image_mode = msg['mode'];\n",
       "}\n",
       "\n",
       "mpl.figure.prototype.updated_canvas_event = function() {\n",
       "    // Called whenever the canvas gets updated.\n",
       "    this.send_message(\"ack\", {});\n",
       "}\n",
       "\n",
       "// A function to construct a web socket function for onmessage handling.\n",
       "// Called in the figure constructor.\n",
       "mpl.figure.prototype._make_on_message_function = function(fig) {\n",
       "    return function socket_on_message(evt) {\n",
       "        if (evt.data instanceof Blob) {\n",
       "            /* FIXME: We get \"Resource interpreted as Image but\n",
       "             * transferred with MIME type text/plain:\" errors on\n",
       "             * Chrome.  But how to set the MIME type?  It doesn't seem\n",
       "             * to be part of the websocket stream */\n",
       "            evt.data.type = \"image/png\";\n",
       "\n",
       "            /* Free the memory for the previous frames */\n",
       "            if (fig.imageObj.src) {\n",
       "                (window.URL || window.webkitURL).revokeObjectURL(\n",
       "                    fig.imageObj.src);\n",
       "            }\n",
       "\n",
       "            fig.imageObj.src = (window.URL || window.webkitURL).createObjectURL(\n",
       "                evt.data);\n",
       "            fig.updated_canvas_event();\n",
       "            fig.waiting = false;\n",
       "            return;\n",
       "        }\n",
       "        else if (typeof evt.data === 'string' && evt.data.slice(0, 21) == \"data:image/png;base64\") {\n",
       "            fig.imageObj.src = evt.data;\n",
       "            fig.updated_canvas_event();\n",
       "            fig.waiting = false;\n",
       "            return;\n",
       "        }\n",
       "\n",
       "        var msg = JSON.parse(evt.data);\n",
       "        var msg_type = msg['type'];\n",
       "\n",
       "        // Call the  \"handle_{type}\" callback, which takes\n",
       "        // the figure and JSON message as its only arguments.\n",
       "        try {\n",
       "            var callback = fig[\"handle_\" + msg_type];\n",
       "        } catch (e) {\n",
       "            console.log(\"No handler for the '\" + msg_type + \"' message type: \", msg);\n",
       "            return;\n",
       "        }\n",
       "\n",
       "        if (callback) {\n",
       "            try {\n",
       "                // console.log(\"Handling '\" + msg_type + \"' message: \", msg);\n",
       "                callback(fig, msg);\n",
       "            } catch (e) {\n",
       "                console.log(\"Exception inside the 'handler_\" + msg_type + \"' callback:\", e, e.stack, msg);\n",
       "            }\n",
       "        }\n",
       "    };\n",
       "}\n",
       "\n",
       "// from http://stackoverflow.com/questions/1114465/getting-mouse-location-in-canvas\n",
       "mpl.findpos = function(e) {\n",
       "    //this section is from http://www.quirksmode.org/js/events_properties.html\n",
       "    var targ;\n",
       "    if (!e)\n",
       "        e = window.event;\n",
       "    if (e.target)\n",
       "        targ = e.target;\n",
       "    else if (e.srcElement)\n",
       "        targ = e.srcElement;\n",
       "    if (targ.nodeType == 3) // defeat Safari bug\n",
       "        targ = targ.parentNode;\n",
       "\n",
       "    // jQuery normalizes the pageX and pageY\n",
       "    // pageX,Y are the mouse positions relative to the document\n",
       "    // offset() returns the position of the element relative to the document\n",
       "    var x = e.pageX - $(targ).offset().left;\n",
       "    var y = e.pageY - $(targ).offset().top;\n",
       "\n",
       "    return {\"x\": x, \"y\": y};\n",
       "};\n",
       "\n",
       "/*\n",
       " * return a copy of an object with only non-object keys\n",
       " * we need this to avoid circular references\n",
       " * http://stackoverflow.com/a/24161582/3208463\n",
       " */\n",
       "function simpleKeys (original) {\n",
       "  return Object.keys(original).reduce(function (obj, key) {\n",
       "    if (typeof original[key] !== 'object')\n",
       "        obj[key] = original[key]\n",
       "    return obj;\n",
       "  }, {});\n",
       "}\n",
       "\n",
       "mpl.figure.prototype.mouse_event = function(event, name) {\n",
       "    var canvas_pos = mpl.findpos(event)\n",
       "\n",
       "    if (name === 'button_press')\n",
       "    {\n",
       "        this.canvas.focus();\n",
       "        this.canvas_div.focus();\n",
       "    }\n",
       "\n",
       "    var x = canvas_pos.x * mpl.ratio;\n",
       "    var y = canvas_pos.y * mpl.ratio;\n",
       "\n",
       "    this.send_message(name, {x: x, y: y, button: event.button,\n",
       "                             step: event.step,\n",
       "                             guiEvent: simpleKeys(event)});\n",
       "\n",
       "    /* This prevents the web browser from automatically changing to\n",
       "     * the text insertion cursor when the button is pressed.  We want\n",
       "     * to control all of the cursor setting manually through the\n",
       "     * 'cursor' event from matplotlib */\n",
       "    event.preventDefault();\n",
       "    return false;\n",
       "}\n",
       "\n",
       "mpl.figure.prototype._key_event_extra = function(event, name) {\n",
       "    // Handle any extra behaviour associated with a key event\n",
       "}\n",
       "\n",
       "mpl.figure.prototype.key_event = function(event, name) {\n",
       "\n",
       "    // Prevent repeat events\n",
       "    if (name == 'key_press')\n",
       "    {\n",
       "        if (event.which === this._key)\n",
       "            return;\n",
       "        else\n",
       "            this._key = event.which;\n",
       "    }\n",
       "    if (name == 'key_release')\n",
       "        this._key = null;\n",
       "\n",
       "    var value = '';\n",
       "    if (event.ctrlKey && event.which != 17)\n",
       "        value += \"ctrl+\";\n",
       "    if (event.altKey && event.which != 18)\n",
       "        value += \"alt+\";\n",
       "    if (event.shiftKey && event.which != 16)\n",
       "        value += \"shift+\";\n",
       "\n",
       "    value += 'k';\n",
       "    value += event.which.toString();\n",
       "\n",
       "    this._key_event_extra(event, name);\n",
       "\n",
       "    this.send_message(name, {key: value,\n",
       "                             guiEvent: simpleKeys(event)});\n",
       "    return false;\n",
       "}\n",
       "\n",
       "mpl.figure.prototype.toolbar_button_onclick = function(name) {\n",
       "    if (name == 'download') {\n",
       "        this.handle_save(this, null);\n",
       "    } else {\n",
       "        this.send_message(\"toolbar_button\", {name: name});\n",
       "    }\n",
       "};\n",
       "\n",
       "mpl.figure.prototype.toolbar_button_onmouseover = function(tooltip) {\n",
       "    this.message.textContent = tooltip;\n",
       "};\n",
       "mpl.toolbar_items = [[\"Home\", \"Reset original view\", \"fa fa-home icon-home\", \"home\"], [\"Back\", \"Back to previous view\", \"fa fa-arrow-left icon-arrow-left\", \"back\"], [\"Forward\", \"Forward to next view\", \"fa fa-arrow-right icon-arrow-right\", \"forward\"], [\"\", \"\", \"\", \"\"], [\"Pan\", \"Pan axes with left mouse, zoom with right\", \"fa fa-arrows icon-move\", \"pan\"], [\"Zoom\", \"Zoom to rectangle\", \"fa fa-square-o icon-check-empty\", \"zoom\"], [\"\", \"\", \"\", \"\"], [\"Download\", \"Download plot\", \"fa fa-floppy-o icon-save\", \"download\"]];\n",
       "\n",
       "mpl.extensions = [\"eps\", \"jpeg\", \"pdf\", \"png\", \"ps\", \"raw\", \"svg\", \"tif\"];\n",
       "\n",
       "mpl.default_extension = \"png\";var comm_websocket_adapter = function(comm) {\n",
       "    // Create a \"websocket\"-like object which calls the given IPython comm\n",
       "    // object with the appropriate methods. Currently this is a non binary\n",
       "    // socket, so there is still some room for performance tuning.\n",
       "    var ws = {};\n",
       "\n",
       "    ws.close = function() {\n",
       "        comm.close()\n",
       "    };\n",
       "    ws.send = function(m) {\n",
       "        //console.log('sending', m);\n",
       "        comm.send(m);\n",
       "    };\n",
       "    // Register the callback with on_msg.\n",
       "    comm.on_msg(function(msg) {\n",
       "        //console.log('receiving', msg['content']['data'], msg);\n",
       "        // Pass the mpl event to the overridden (by mpl) onmessage function.\n",
       "        ws.onmessage(msg['content']['data'])\n",
       "    });\n",
       "    return ws;\n",
       "}\n",
       "\n",
       "mpl.mpl_figure_comm = function(comm, msg) {\n",
       "    // This is the function which gets called when the mpl process\n",
       "    // starts-up an IPython Comm through the \"matplotlib\" channel.\n",
       "\n",
       "    var id = msg.content.data.id;\n",
       "    // Get hold of the div created by the display call when the Comm\n",
       "    // socket was opened in Python.\n",
       "    var element = $(\"#\" + id);\n",
       "    var ws_proxy = comm_websocket_adapter(comm)\n",
       "\n",
       "    function ondownload(figure, format) {\n",
       "        window.open(figure.imageObj.src);\n",
       "    }\n",
       "\n",
       "    var fig = new mpl.figure(id, ws_proxy,\n",
       "                           ondownload,\n",
       "                           element.get(0));\n",
       "\n",
       "    // Call onopen now - mpl needs it, as it is assuming we've passed it a real\n",
       "    // web socket which is closed, not our websocket->open comm proxy.\n",
       "    ws_proxy.onopen();\n",
       "\n",
       "    fig.parent_element = element.get(0);\n",
       "    fig.cell_info = mpl.find_output_cell(\"<div id='\" + id + \"'></div>\");\n",
       "    if (!fig.cell_info) {\n",
       "        console.error(\"Failed to find cell for figure\", id, fig);\n",
       "        return;\n",
       "    }\n",
       "\n",
       "    var output_index = fig.cell_info[2]\n",
       "    var cell = fig.cell_info[0];\n",
       "\n",
       "};\n",
       "\n",
       "mpl.figure.prototype.handle_close = function(fig, msg) {\n",
       "    var width = fig.canvas.width/mpl.ratio\n",
       "    fig.root.unbind('remove')\n",
       "\n",
       "    // Update the output cell to use the data from the current canvas.\n",
       "    fig.push_to_output();\n",
       "    var dataURL = fig.canvas.toDataURL();\n",
       "    // Re-enable the keyboard manager in IPython - without this line, in FF,\n",
       "    // the notebook keyboard shortcuts fail.\n",
       "    IPython.keyboard_manager.enable()\n",
       "    $(fig.parent_element).html('<img src=\"' + dataURL + '\" width=\"' + width + '\">');\n",
       "    fig.close_ws(fig, msg);\n",
       "}\n",
       "\n",
       "mpl.figure.prototype.close_ws = function(fig, msg){\n",
       "    fig.send_message('closing', msg);\n",
       "    // fig.ws.close()\n",
       "}\n",
       "\n",
       "mpl.figure.prototype.push_to_output = function(remove_interactive) {\n",
       "    // Turn the data on the canvas into data in the output cell.\n",
       "    var width = this.canvas.width/mpl.ratio\n",
       "    var dataURL = this.canvas.toDataURL();\n",
       "    this.cell_info[1]['text/html'] = '<img src=\"' + dataURL + '\" width=\"' + width + '\">';\n",
       "}\n",
       "\n",
       "mpl.figure.prototype.updated_canvas_event = function() {\n",
       "    // Tell IPython that the notebook contents must change.\n",
       "    IPython.notebook.set_dirty(true);\n",
       "    this.send_message(\"ack\", {});\n",
       "    var fig = this;\n",
       "    // Wait a second, then push the new image to the DOM so\n",
       "    // that it is saved nicely (might be nice to debounce this).\n",
       "    setTimeout(function () { fig.push_to_output() }, 1000);\n",
       "}\n",
       "\n",
       "mpl.figure.prototype._init_toolbar = function() {\n",
       "    var fig = this;\n",
       "\n",
       "    var nav_element = $('<div/>');\n",
       "    nav_element.attr('style', 'width: 100%');\n",
       "    this.root.append(nav_element);\n",
       "\n",
       "    // Define a callback function for later on.\n",
       "    function toolbar_event(event) {\n",
       "        return fig.toolbar_button_onclick(event['data']);\n",
       "    }\n",
       "    function toolbar_mouse_event(event) {\n",
       "        return fig.toolbar_button_onmouseover(event['data']);\n",
       "    }\n",
       "\n",
       "    for(var toolbar_ind in mpl.toolbar_items){\n",
       "        var name = mpl.toolbar_items[toolbar_ind][0];\n",
       "        var tooltip = mpl.toolbar_items[toolbar_ind][1];\n",
       "        var image = mpl.toolbar_items[toolbar_ind][2];\n",
       "        var method_name = mpl.toolbar_items[toolbar_ind][3];\n",
       "\n",
       "        if (!name) { continue; };\n",
       "\n",
       "        var button = $('<button class=\"btn btn-default\" href=\"#\" title=\"' + name + '\"><i class=\"fa ' + image + ' fa-lg\"></i></button>');\n",
       "        button.click(method_name, toolbar_event);\n",
       "        button.mouseover(tooltip, toolbar_mouse_event);\n",
       "        nav_element.append(button);\n",
       "    }\n",
       "\n",
       "    // Add the status bar.\n",
       "    var status_bar = $('<span class=\"mpl-message\" style=\"text-align:right; float: right;\"/>');\n",
       "    nav_element.append(status_bar);\n",
       "    this.message = status_bar[0];\n",
       "\n",
       "    // Add the close button to the window.\n",
       "    var buttongrp = $('<div class=\"btn-group inline pull-right\"></div>');\n",
       "    var button = $('<button class=\"btn btn-mini btn-primary\" href=\"#\" title=\"Stop Interaction\"><i class=\"fa fa-power-off icon-remove icon-large\"></i></button>');\n",
       "    button.click(function (evt) { fig.handle_close(fig, {}); } );\n",
       "    button.mouseover('Stop Interaction', toolbar_mouse_event);\n",
       "    buttongrp.append(button);\n",
       "    var titlebar = this.root.find($('.ui-dialog-titlebar'));\n",
       "    titlebar.prepend(buttongrp);\n",
       "}\n",
       "\n",
       "mpl.figure.prototype._root_extra_style = function(el){\n",
       "    var fig = this\n",
       "    el.on(\"remove\", function(){\n",
       "\tfig.close_ws(fig, {});\n",
       "    });\n",
       "}\n",
       "\n",
       "mpl.figure.prototype._canvas_extra_style = function(el){\n",
       "    // this is important to make the div 'focusable\n",
       "    el.attr('tabindex', 0)\n",
       "    // reach out to IPython and tell the keyboard manager to turn it's self\n",
       "    // off when our div gets focus\n",
       "\n",
       "    // location in version 3\n",
       "    if (IPython.notebook.keyboard_manager) {\n",
       "        IPython.notebook.keyboard_manager.register_events(el);\n",
       "    }\n",
       "    else {\n",
       "        // location in version 2\n",
       "        IPython.keyboard_manager.register_events(el);\n",
       "    }\n",
       "\n",
       "}\n",
       "\n",
       "mpl.figure.prototype._key_event_extra = function(event, name) {\n",
       "    var manager = IPython.notebook.keyboard_manager;\n",
       "    if (!manager)\n",
       "        manager = IPython.keyboard_manager;\n",
       "\n",
       "    // Check for shift+enter\n",
       "    if (event.shiftKey && event.which == 13) {\n",
       "        this.canvas_div.blur();\n",
       "        // select the cell after this one\n",
       "        var index = IPython.notebook.find_cell_index(this.cell_info[0]);\n",
       "        IPython.notebook.select(index + 1);\n",
       "    }\n",
       "}\n",
       "\n",
       "mpl.figure.prototype.handle_save = function(fig, msg) {\n",
       "    fig.ondownload(fig, null);\n",
       "}\n",
       "\n",
       "\n",
       "mpl.find_output_cell = function(html_output) {\n",
       "    // Return the cell and output element which can be found *uniquely* in the notebook.\n",
       "    // Note - this is a bit hacky, but it is done because the \"notebook_saving.Notebook\"\n",
       "    // IPython event is triggered only after the cells have been serialised, which for\n",
       "    // our purposes (turning an active figure into a static one), is too late.\n",
       "    var cells = IPython.notebook.get_cells();\n",
       "    var ncells = cells.length;\n",
       "    for (var i=0; i<ncells; i++) {\n",
       "        var cell = cells[i];\n",
       "        if (cell.cell_type === 'code'){\n",
       "            for (var j=0; j<cell.output_area.outputs.length; j++) {\n",
       "                var data = cell.output_area.outputs[j];\n",
       "                if (data.data) {\n",
       "                    // IPython >= 3 moved mimebundle to data attribute of output\n",
       "                    data = data.data;\n",
       "                }\n",
       "                if (data['text/html'] == html_output) {\n",
       "                    return [cell, data, j];\n",
       "                }\n",
       "            }\n",
       "        }\n",
       "    }\n",
       "}\n",
       "\n",
       "// Register the function which deals with the matplotlib target/channel.\n",
       "// The kernel may be null if the page has been refreshed.\n",
       "if (IPython.notebook.kernel != null) {\n",
       "    IPython.notebook.kernel.comm_manager.register_target('matplotlib', mpl.mpl_figure_comm);\n",
       "}\n"
      ],
      "text/plain": [
       "<IPython.core.display.Javascript object>"
      ]
     },
     "metadata": {},
     "output_type": "display_data"
    },
    {
     "data": {
      "text/html": [
       "<img src=\"data:image/png;base64,iVBORw0KGgoAAAANSUhEUgAABgAAAASACAYAAAA5wYaaAAAgAElEQVR4nOzdd3wU1f7/8U1oQUGaUlWkKEhTQYogTZAiIr2joKhXL6J4QREbKgQIVQiCiHRUQFSaiJSAoNKUqmIElKJSQg2kJ/v5/cE3+9uZbTPbsnv29Xw8zuNxr5yZObOZPTtz3nNmLAIAAAAAAAAAAJRjyesGAAAAAAAAAAAA/yMAAAAAAAAAAABAQQQAAAAAAAAAAAAoiAAAAAAAAAAAAAAFEQAAAAAAAAAAAKAgAgAAAAAAAAAAABREAAAAAAAAAAAAgIIIAAAAAAAAAAAAUBABAAAAAAAAAAAACiIAAAAAAAAAAABAQQQAAAAAAAAAAAAoiAAAAAAAAAAAAAAFEQAAAAAAAAAAAKAgAgAAAAAAAAAAABREAAAAAAAAAAAAgIIIAAAAAAAAAAAAUBABAAAAAAAAAAAACiIAAAAAAAAAAABAQQQAAAAAAAAAAAAoiAAAAAAAAAAAAAAFEQAAAAAAAAAAAKAgAgAAAAAAAAAAABREAAAAAAAAAAAAgIIIAAAAAAAAAAAAUBABAAAAAAAAAAAACiIAAAAAAAAAAABAQQQAAAAAAAAAAAAoiAAAAAAAAAAAAAAFEQAAAAAAAAAAAKAgAgAAAAAAAAAAABREAAAAAAAAAAAAgIIIAAAAAAAAAAAAUBABAAAAAAAAAAAACiIAAAAAAAAAAABAQQQAAAAAAAAAAAAoiAAAAAAAAAAAAAAFEQAAAAAAAAAAAKAgAgAAAAAAAAAAABREAAAAAAAAAAAAgIIIAAAAAAAAAAAAUBABAAAAAAAAAAAACiIAAAAAAAAAAABAQQQAAAAAAAAAAAAoiAAAAAAAAAAAAAAFEQAAAAAAAAAAAKAgAgAAAAAAAAAAABREAAAAAAAAAAAAgIIIAAAAAAAAAAAAUBABAAAAAAAAAAAACiIAAAAAAAAAAABAQQQAAAAAAAAAAAAoiAAAAAAAAAAAAAAFEQAAAAAAAAAAAKAgAgAAAAAAAAAAABREAAAAAAAAAAAAgIIIAAAAAAAAAAAAUBABAAAAAAAAAAAACiIAAAAAAAAAAABAQQQAAAAAAAAAAAAoiAAAAAAAAAAAAAAFEQAAAAAAAAAAAKAgAgAAAAAAAAAAABREAAAAAAAAAAAAgIIIAAAAAAAAAAAAUBABAAAAAAAAAAAACiIAAAAAAAAAAABAQQQAAAAAAAAAAAAoiAAAAAAAAAAAAAAFEQAAAAAAAAAAAKAgAgAAAAAAAAAAABREAAAAAAAAAAAAgIIIAAAAAAAAAAAAUBABAAAAAAAAAAAACiIAAAAAAAAAAABAQQQAAAAAAAAAAAAoiAAAAAAAAAAAAAAFEQAAAAAAAAAAAKAgAgAAAAAAAAAAABREAAAAAAAAAAAAgIIIAAAAAAAAAAAAUBABAAAAAAAAAAAACiIAAAAAAAAAAABAQQQAAAAAAAAAAAAoiAAAAAAAAAAAAAAFEQAAAIA8debMGSldurRYLBaxWCzSoEEDSU1NzetmAQAAAAAQ9ggAAABAnrFardKmTRvb4P/tt98up0+fzutmAQAAAACgBAIAAPDgypUrsmXLFpk7d65MmDBBRo8eLdOmTZNFixbJ999/z53KiCi5A/UWi0UGDBjg8/ri4uJs6ytatKgcOHDA90aGsebNm9s+j4oVK+Z1c0ybP3++5hjZsmVLXjcp4oT7MWTEX3/9pTnORo0aFZDtjBo1SrOdv/76KyDbCbRQ3Y8tW7Zo2jV//vy8bhIAxYRq/wcAwUYAAABOXLt2TWbMmCEPPPCAREdHa04c9SV//vzSqFEjmTFjhly4cCGvmw4ElD8DgN27d0uBAgXEYrFIvnz5ZO3atf5pZBgL98FbAoC8F+7HkBEEAOaE6n4QAAAItFDt/wAg2AgAAEBn7ty5cvPNN7sd9HdVChcuLK+//rokJyfn9W4AAeGvACA5OVmqVKliW9e0adP818gwFu6DtwQAeS/cjyEjCADMCdX9IAAAEGih2v8BQLARAADA/0lNTZXu3bs7HdiPjo6W2rVry8MPPyx9+vSRDh06SN26daVo0aJO67dp0yavdwcICH8FAP3797et5/nnn/dfA8NcuA/eEgDkvXA/howgADAnVPeDAABAoIVq/wcAwUYAAAAikp6eLi1atHAYyK9evbosXLhQkpKSnC6XkZEh3377rTz11FOSP39+23LNmzcP7g4AQeKPAGDhwoWasCwrK8u/jQxj4T54SwCQ98L9GDKCAMCcUN0PAgAAgRaq/R8ABBsBAACIyAsvvKA5OYyKipJx48aZGphMTEyUTp06EQAAblitVpk0aZKMGjVK3n33Xbly5UpeNymkhPvgLQFA3gv3YyiUqDJwFKr7QQAAAAAQHAQAACLeypUrHQb/FyxY4PX6Jk+eLK1atfJjCwFEinAfvCUAyHvhfgyFklAdODcrVPeDAAAAACA4CAAARLScnBypXLmy5gL0hRde8Hm9x44d80PrAESacB+8JQDIe+F+DIWSUB04NytU94MAAAAAIDgIAABEtBUrVmguPsuXLy/Xrl0Lejv2798vS5YskSlTpsj48eNl3rx5smXLFsnIyPDrdnJycmT79u2yYMECGTdunLz//vuyefNmj486slqtsnv3bvnwww8lNjZWpk2bJl9//bWkpaX5rW3p6emyceNG+fjjj2XcuHHy0UcfyZYtWyQ7O9un9Z47d04SEhJk9uzZEhcXJ2PHjpVZs2bJqlWr5Ny5c35q/f+XnZ0t27dvl8WLF8uECRNkwoQJsnXr1pBpY2JioixbtkxmzJghY8aMkSlTpshnn30mhw4dkpycHL9uy5krV67I2rVrZfbs2TJ27FiJj4+X5cuXy4kTJ/y+rYsXL8rq1avlgw8+kHHjxsmcOXNk9+7dYrVa/b4tT5KTk2XVqlUSHx8vcXFxsnjxYtm1a5dDPX8M3v7555+yfPlymTFjhsTGxsqHH34oa9euDcrjlnwJAK5duyY7d+6UhQsXyuTJk2XMmDESHx8vS5culaNHjwau0SHg6tWrsn79elv/N3XqVPn000/lyJEjptfl6zGUmZkpW7dulXnz5klcXJxMnjxZFi9eLHv37jW9LlesVqvs379fPv30U5k+fbqMGTNGpk6dKitWrJDExES/bceV7Oxs2bJli3z00Ucybtw4+fjjj2Xjxo2Snp6uqefLwHkw+vVg7Ie3Dhw4IAsXLpTx48fLBx98IKtWrZLz589r6vgjAEhPT5eEhASZP3++xMXFyaRJk2Tx4sVy4MABP+2Jd06cOCErVqyQWbNmSWxsrEyaNEkWLVokP/30k9fvvYnU30+z/NmfenLo0CFZtmyZvP/++xIbGyuffPKJ2/qZmZmyadMmmT17ttvvrD9cuHBBVq9ebTtepk+fLsuXL5e///7b79vas2ePLF68WMaPHy/Tpk2TFStWOHzfvZWSkiIbN26U+fPny4QJE2TcuHEya9Ys2bRpk1y4cMEv23Dl0qVLsn37dpk7d65MnDhRYmNj5YMPPpAVK1bIqVOnArptAPA3AgAAEc1+oMRiscjbb78dtG2npqZKbGys3HrrrQ4vH84tRYoUkYEDB5o6yXT2ktbMzEyJi4uT2267zel2ypcvL0uXLnW6vgULFsgdd9zhdLmiRYvKpEmTDA0cu3ppY3JysgwfPlxKlSrldBulS5eWuLg4U0HAnj175H//+5/UqFHD5WebWxo0aCBffvml4XW72o+0tDQZOXKklC1b1mEbnTp1Cmob9S5duiRvvfWWy79/brn55pvlySeflN27d7tcl7Pjy4g9e/ZIu3btpECBAi63X7t2bfnkk08MDzC4GtT6999/pX///hITE+N0O7feeqssXLjQcNt9ceHCBXn66aelcOHCTtty5513ysyZM2377O3gbUZGhkybNk2qVavm8vMtUKCAdOzYUQ4dOhSgvTUfABw/flzGjx8vTZo0cXts5H4eU6dOldTUVL+3e968eZptTZs2zfQ6Nm7cqFnH8OHDPS7z/fffS9u2baVgwYIu97tatWqycOFCw98Lb4+hf/75R55++mm56aabXLalfPny8u6770pKSorh9dr7999/ZciQIVK6dGm3f+sKFSrIkCFD5PDhw07X4+1LgLOysiQuLs7l9kuVKiXDhw+X5ORkETE/cB6sfj3Q++GLVatWyd133+20XQULFpRevXrZAj1fAoBDhw5J9+7d5YYbbnD5Gd96660ydepUyczMDNDeaqWmpsrkyZPlrrvucvu3v+mmm6RHjx6yadMmQ+sNt99PlfrTihUr2pa1f7/XvHnzpGbNmg7rL1asmNP1pKWlyRtvvCElSpRw2q6SJUvK8OHDbb9vvnxn165dK02aNJHo6GiXn0PdunVlzZo1htdpv6z9ud+iRYtcft+jo6Old+/ecvLkScPbsZeQkCAPP/yw279ndHS0NGjQQOLj4+Xq1atO12P2s/ztt9/krbfeknr16rn9DC0Wi9SoUUPmzZvndagHAMFEAAAgYqWkpEj+/PmDdlFs79dff3U5qO6sFC5cWJYsWWJo3fqT9KtXr0qLFi0MbWfcuHG29WRlZUm/fv0MLffUU095vJhyNmBz8uRJtwOW9qVRo0Zy+fJlj/u/efNmw5+rfendu7ehgUVn+3H8+HGpU6eOy3XrA4BAt9Hel19+KcWLFze1nXvuucfl+lxdBLpitVrllVdekaioKMPbb968uVy8eNHjup1d1G3dutXj4GJueemll8x8lKbt379fypQpY6gtnTp1koyMDK8Gbw8cOCBVqlQx/Pnmy5dPpk6dGpB9NhMAZGdnmzou7I/P48eP+7XdV69elRtvvNG2jbp165pex+OPP65pp7ugJT09Xfr3729qv1u2bGmoD/TmGFq+fLnbgVR9ue2220zfYf3BBx+4DMKM9p25vAkALl26JI0aNTK03WrVqsnJkydNDRwFq18P9H54y2q1yvPPP2+oXUWLFpVNmzZ5FQDk5OTI8OHDPQ7M2Zc6deoE5K5ne9u3b5fy5cub+tu7GizOFa6/nyr1p/oAID09XXr06GHqb/r3339L9erVDbXr3nvv9fo7e/HiRWnTpo3p/sfIbGP7ZQYMGCAZGRkOfyNXpVy5cvLrr7963EauK1euSMeOHU3th8Vika+++srp+sx8lseOHTO9XYvFIg899FDAZyMAgK8IAABELP3FerCelbx//34pWbKkw8ljpUqVpGPHjtKjRw+pV6+ewwVfVFSUzJ492+P67Zd54oknpEOHDrb/X6RIEWndurX06dNH2rZtK0WLFnXYRu6A3aBBg2z/vWDBgtK0aVPp3bu3dOzYUW6++WaH9nu6cNcP2IwYMUJq165t+/+FChWS5s2bS+/evaVt27ZO75Jq1KiRx8cO6e8aK1CggNSpU0c6dOggffv2le7du0vjxo2dDnb16tXL4+frbD/uu+8+2/+PiYmx7UeHDh2kUqVKDoNYgW5jrqlTpzodOChbtqy0adNG+vbtK507d5b7779fChUqZPt3fwYA9seR/fHUrFkz6d27t7Rr187p8VSrVi2Pgxj6i7p169Zp7l6+9dZb5dFHH5W+fftKy5Ytnd7RuHjxYsOfpxmJiYlyyy23OGyvSpUq0qlTJ+nRo4fmuLFYLPLMM8+YHrz97rvvnN6xXaVKFenYsaP07dvX5ffJPvDzFzMBQFZWlkP/U7lyZWnbtq306tVLevfuLa1bt3Z6fFStWtV2d7O/mBlw0jMz4JWcnCwPPvigwz4VK1ZMHnroIendu7d07tzZ6YDRfffd53Gw2OwxtGDBAqeDqffdd590795dOnXq5DRgKlasmOzZs8fQ5/Pyyy87LG+xWOSOO+6Qdu3aSd++feWxxx6TOnXqSL58+Wz/7q8AIC0tTRo2bOiw/VKlSkm7du2kd+/e0qxZM82dprVr15YRI0Zo6rsbOApGvx6M/fDWiy++6NAud7/rRYsWlQ8//FBT39N5RHZ2tnTr1s1hOzfccIM0bdpUevbsKd26dZN7773X4bfv9ttvlzNnzvh9v0WuB2jO7lIuUaKEtGrVSnr37i1du3Z1+Pt7CgDC+fdTlf5UHwA899xzmt+sunXrSteuXaVbt25y3333SfHixTXLX7hwQe68806HbZcuXVrat28vvXv3lhYtWmg+30aNGskbb7xh6jv7zz//OL0T/5ZbbrGd7z322GOa/ckt7du39ziT177+gAED5Omnn9b0dY0bN5aePXtKly5dpGrVqg7bqFGjhqGg4fTp005nUOXLl0/q168vnTt3lj59+kibNm0cAjd/BABHjhxx2G716tXlkUcekT59+kjPnj2lefPmUqxYMYc2NmnSxOfHlgJAIBEAAIhYsbGxmhO3bt26BXybaWlpDifoVapUcToN/NixY9KuXTuHi2lPd13a18+987tgwYISFxfnMHh+9epVGTBggGaZhg0byrJly2wXN6+++qrDXVKZmZkOAwrlypVze+KrH7DJbVtUVJS89NJLDtvIyMiQ+Ph4h8GS1157ze3+b9y4UYoVKyZDhgyRzZs3u5z6n5KSIrNnz3Z49NDy5cvdrl+/H0WKFLF9xrGxsU7fIaG/WznQbRQRWb9+vcOgXrNmzeSHH35wOlsjPT1dVq9eLV27dnV7sa2/CHRnwYIFmvq5f+tLly5p6mVlZcnHH3/sMJDdu3dvt+vXX9Tlfk61a9eWhIQEh/oXLlyQnj17apYpX7683y/YrFarNG7c2OF7vnnzZoe6iYmJ0rJlS4fvhcXiefD2n3/+cQgZevXqJb/99ptD3ezsbJk7d67mM86XL598//33/tptETEfAOTPn1+6d+8uy5Ytc3k3Zk5Ojqxfv15q1aqlWfd///tfv7ZdHwobeeRELv2xPn36dJd1+/bt63BsrFixwukAzN69ex3u9n7uuefctsVMAHD48GGHu/Jbt24tf/zxh0PdrVu3OjzapGrVqh7fm/PRRx85DJR07txZDh486LT+1atX5bPPPpPWrVtL586dndYxGwDof6+KFi0qs2fPduh7L168KC+88IKtnj448xQABLpfD8Z+eGP9+vVO+3pnv+szZ860De7q2+UpAHj99dc19UuXLi3z5s1zOrB49OhRzQ0QFsv1gU5/O3DggMN3qE6dOrJu3Tqnvy3Z2dmyefNmGThwoNxyyy0u1xvuv5+q9Kf2A+a553sWi0X69+/v9PGc+u+WPggpVaqUfPLJJw6f29WrV+XNN9+0BaD6/sHddzY7O1uaNWumqV+vXj3ZuHGj0/pbtmxxCETGjx/v9nNwdqxER0fLyJEjHY5JkeuPIdLPPp05c6bbbTjbj6JFi0psbKzTbYhc/56PHTtWbr31Vr8FADExMfLkk0/KmjVrXAZEmZmZsmzZMrn99ts1654wYYLbfQSAvEQAACBiDR48WHPS9vrrrwd8m6NHj3YYPDl79qzL+jk5OQ5TjRs3bux2G/qBlujoaPn6669d1rdarQ4XRLkn7XPmzHG7Lf2deOvWrXNZVz9gk1smTpzodhvffvut5rm3+fPnd/tC0AsXLrh8DqgziYmJmgutBg0auK3vbD88fcbBbmNKSorDNP7Bgwcbfsmvu7sk7dfpLgC4evWqw8XflClT3G53586dDoHPhg0bXNbXX9RZLNfvnHN3Z3hOTo40adJEs4yZv50R+sGLypUru/1Ms7Ky5JFHHnHYF0+Dt/plJk+e7LFt+/fv19xZ6elYMstMAGC1Wk29vPLatWuavqpw4cJ+nXJvtVo1gz1ly5Y1HA7ZhzgFChSQpKQkp/WWL1/u0J97msmQnp4urVq1si0TFRXl9nEKZgIA+/VaLBbp0qWL231OSkpyeGybu9/OU6dOOdw5HBcX57ZN9lx9b8wEAEeOHNE87i8mJka2bdvmdrtjx451+nvlbuAo0P16sPbDrJycHIcZIp5+17ds2aKZdZZb3AUAO3fu1ITad911l5w+fdpj25544gnD5ylmWa1WzUzG3O+Q0Re6ujq+Vfj9VKU/dXbH/IgRIwztx+7duzXLFStWzGXwmUt//mDkOzthwgRN3W7dunm82/7SpUuaUP2GG25w+9JefXuioqJk2bJlbrfx7bffapapX7++2/oTJ07U1C9btqzs37/f7TK5MjMzXc56MRMApKSkuDzenDl79qxmxkOFChV4HwCAkEUAACBi9enTx+tBCW9kZWVppqtGRUXJjz/+6HG55ORkh2mu7h67oD9JHzJkiMdtLF261GE5V3de2tuxY4dmmVdffdVlXWcD5y1atPC4DRGRYcOGaZZ75ZVXDC1n1PTp0w1fHDjbDyOfcTDb+P7772vqtmzZ0vAL7zyxX6+7AGDGjBmauu3atTO0/kmTJmmW69Chg8u6+ou6QoUKGRrY0l+UujtuvXH//fdr1u/pRbgi1wdW9QM+7gZv9+/fr6nbr18/w+3TH0tG+iGjzL4E2KyDBw9q1m/mpaFGvPnmm5r1GxksPHHihOZxI126dHFZ1/6xT8WLF5dz584ZateZM2c0g3vPPvusy7pGA4BffvlFs69lypQx9Ezs3bt3awZiS5Uq5fLRbEOHDjXcZ5hhJgAYPny4pu4777xjaBvOHivi7zvnzfTrobofa9eu9ep3Xf+IE0/f586dO9vq5c+f3+lMJ2fS0tKkQoUKtmXbtGljaDkjVq5cqWl/9erV/fKSclV+P1XoT/UBwL333ms4yHjyySc1y37wwQeGluvevbvh72x6erqULVvWVq9KlSoeH5WZ68CBA5rPeuzYsS7r6tvzn//8x9A2HnjgAdsy0dHRLmeM6fcjKirK6axJbwT6HSirV68O6HkPAPgLAQCAiKV/vM6HH34Y0O3pL5rMTEXXD+i6e/maNxf6586dc1jO052FItfv8LK/m7ht27Yu6zobOHf26CNnzp8/r5kFUL58eUPLGXXixAlNu5YuXeqyrn4/oqKigvLyaDNtrFmzpqau0TuojDA6mGd/0WexWGTXrl2G1p+Zmal5rE1UVJTLu7z1F3WPP/64oW1kZWVp7j51d9yalZiYqGnTgw8+aHjZkSNHapZ1N3j77LPPauoeO3bM8HbS0tI0gx9vvPGG4WU9CXQAICJSqVIl2/o9Pb7BLP3zf408m33MmDGaZVauXOm03o8//qip9/bbb5tqm/1gUoUKFVzWMxoA6I83MyG4/WCsxeL82cvZ2dmax5IULFjQ7Yw3M8wEAPYBeuHChQ2/O0L/mx2IgSMz/Xqo7of+Zgqjv+tXrlxxmB3iKgD4+++/NaHTE088YaqN7777rm3ZAgUKSEpKiqnlXdE/YmjVqlV+Wa8qv58q9Kf6AGDhwoWG1p+Tk6Pp/0qWLOnysWB6e/bsMfyd/fTTTzX15s2bZ2gbuexnWzRp0sRlPX17jJ5z6Gc+79ixw2m9zz//XFPPXfBjVqADgMzMTM13wtPjlAAgrxAAAIhY+gDAyAt2faE/AV20aJHhZc+ePau5S8fdNFr7bdx1112Gt2H/QuAbb7zR8B1O9tPf3T07Xj9gc/PNNxt+JI2I49/LzKNDRK6HFdeuXZN///1X/vrrL005evSoZt3u7qzU70edOnVMtSPQbdSHOZ6mXJtlv25XAUB6errmYqhy5cqmtvHf//5Xsx1XjxjQf6c++eQTw9uwD0ncHbdmmXl2sZ7+rn53g7f2U87vu+8+0+20HyQ2eseuEf4KANLS0uTs2bNy/Phxh++C/QwLf7Y9l/0jLmJiYjzeFW//XPxbbrnF5SCPfmDL0/tc9PSfrf7dIrmMBgD29SwWi5w8edJwW/SP3nA2K0v/+IsePXoYXr8nRgOA48ePa+p17drV8Days7NNPYfbFX/066GwH67ccccdXv+u64MkVwHAkiVLNPXMDrRv2bJFs/zWrVtNLe+MPuAqU6aMX94no9rvZ7j3p/oAwOhj5/QzrMzOftI/W97Vd9b+ZbxRUVGGZnHZsz8OChUq5PLxVfZtufPOOw2vXz+wv3r1aqf1jB633vBXAJCSkiJnzpxxel5iP3th4MCBfms7APgTAQCAiKW/ay3QL2569NFHNdtLTEw0tXzlypVtyxYoUMDlhab9Nh577DHD67efIm9mUNv+4q5q1aou6+kHbMzedf3WW29plv/yyy89LvP999/LCy+8IPfff7/DS/rcFXczLPT7YfZOxEC3cc2aNZp6//vf/3xqn56RC9qffvpJU69Pnz6mtrFo0SLN8u+9957TevqLur179xrehv1Let0dt2a9+OKLmja5utvNmezsbM0x4Grw9uzZs5ptdO3a1eFi1FOx749uv/12P+299wHAH3/8Ie+88440b95cSpYsafh7cM899/it7bn0L6396KOPXNbV34Xqru9o3769rV6+fPnkyJEjpv5m+nDJ2Ys6RYwHAPYvtCxXrpzhz0dE5OTJk5q2PPTQQw514uPjNXXMhGGeGA0AvvzyS029cePGmdrOww8/7NXAkb/79bzaD08uXrzo0+96bGysZnlXAcDzzz+vqbdt2zZT351NmzZpljd7l7Qzhw4dcuiH/UG1389w70/tAwAzv5X6O/OnTZtmeFkRx3DM1Xf27rvvttUpX7686XMBfZDy559/Ot2OfR0z1xYbNmzQLLtkyRKn9erVq2er402Q4Y63AcD+/fvl1VdflcaNG2tukvJUOnXq5Le2A4A/EQAAiFj6u00C/RLghg0bak5uzdwlJ6K92LFYXN+FZF/H6JRuEe1FTtOmTQ0vZ3SwST9g89///tfwNkREFi5cqFne3SObfvvtN2natKnhk3V9efLJJw3vx7Bhw0ztR6DbOGfOHE09Ty9yNst+3a4CgG+++UZTz+zU/F27dmmWd/WOBf1FnZnH4Jh5UaoZvXr10rTJ6DOJc9lfzLtq188//+z1ceOsFClSxA97fp3ZAODSpUsyaNAgzQwnM6VSpUp+a3uuKywS7qcAACAASURBVFeuaAZt3T0W4bnnntO0Z9++fS7r6l8W6mtZsWKF0+0YObbT09M162rWrJmpz0hENJ9R7dq1Hf5d/4z3jRs3mt6GK0YDgFmzZmnqLV++3NR29APPngaOAtWvB3s/jDp8+LBmvWZ/15ctW6ZZ3lUA0LFjR79+dyZNmuTzvm/cuFGzTn89Sk21389w70/tz43r1atn6PMRcQxAjdy0Ym/IkCGGvrNmBqaNlJ9++snpduzrmLm20M++cfUdt78Jyd0jmbxhNgA4deqUQwBjprRs2dKv7QcAfyEAABCx9He9dOvWLaDbq1atmm1b3gy49e7dW9Peo0ePOq1nX8fMlGP7i5zmzZsbXs7bAOC1114zvA0Rx5ftuXrG5s8//ywlSpTw6QLI3edmdODJnUC2cfz48Zp6n3/+uen2uWOkDZ999pmmntnBlt9//12zfP/+/Z3W82Vad6ACgLZt22ra5Go6vSuNGjXy2C79wJM/ir+YCQAuXryoeYmjN8Wffzt7+hliR44ccaiTnp6u+R57mjllP8Dhj7JgwQKn2zFybJ8+fVqzrkcffdT0Z2T/yINbb73V4d/1g3nuXl5vltF+eNy4cZp669evN7Wd1157zXAfE8h+PZj7YcaOHTs06zX7u75+/XrN8q4GB+1nGvqjGH2BsjtLly7VrHPixIk+r1NEzd/PcO5PvT031l9jmA1A9QGqs79PVlaWXz8Di8X147GM9FPOGA0A7N8HUrNmTcPrN8LMsf7XX385PPbJbDFznABAMBEAAIhY+inhd9xxR0C3Zx8AFC1a1PTy+juLwz0AGDlypOFtiIh89dVXmuWdBQAZGRma58daLBYpXbq0DBs2TFatWiW//vqrXLx4UdLS0hyWNfq5+RoABLqN+gDA1V1t3jLSBv0AxuTJk01tQ39XaSgMYBjlawBgP1PIVbvWrVvn94t+fzETAAwcOFBTNyYmRp544glZvHix7Nu3T86ePSspKSkOs6UC9bezpx+YfOuttxzq6J+DP2XKFLfrLF26tF//Zq4GUrwJADp27Gj2I5IyZcrYljcSALi6s9Qb3gYA3377rantjBgxwlAfE+h+PVj7YZY+ADD7u66/293VMd2gQQO/fne8Ce719AGAP2YViKj5+xnO/am358YTJkzQrH/dunWGlxURGT58uMe/T2pqql8/A4vF9W+2kX7KGW8CgFq1ahlevxFmjnX7lyJbLBa56aab5Pnnn5fPP/9cDh48KOfPn5fU1FSxWq2a5bw9TgAgmAgAAESsa9euSf78+TUneq5eAuYPefEIoFAOAALxCKDFixdr6rRo0UKuXLnicd3JycmGPzdfA4BAt1H/vN2PP/7YVPs8MdKGvHqEQSgEAMF4BNDOnTt9OgYDyWgAcPLkSc1jf8qXLy+///67oW3UrVs3IH87ezk5OZo7TCtWrOhwwW//HoX8+fPLmTNn3K6zevXqAW+3SOg8Auj111/XbGPTpk2mt+FKqD0CKND9eqQ/Aqhdu3aa71pWVpYfWu8b/bPN33zzTb+sV8Xfz3DuT709N9Y/jtHMS5ZFRAYNGmTo72PfDwdy4NnoObKe0QCgfPnytjrOAmVfGD3Wt2/frqlXq1Yt+ffffw1tw/7dRQQAAEIVAQCAiNasWbOgDaTpXwL8xx9/mFq+SpUqtmWNvgQ4lAOAQLwE2P4xSdHR0XLixAlD6/7jjz8Mf26+BgCBbuPq1as19bx9R4ErRtqgf4lh3759TW1DP5hm9CWGoRAABOMlwPpj0OznG0hGA4APP/xQU8/ViwGdsR8oCOTAj/6uaft9OXv2rCZANvIIHftjLjo62vTsEKO8eQlw+fLlTW3j1KlTms/G2UuAp0+frqkTHx9vdldcMtoPB+vluYHu10P1JcAXLlzw6Xfd6EuABwwY4NP5UyAcPHhQ0yZ/PUZS1d/PcO1PvT03/vbbbzX7a/Y9Y/aPA3T397Fvn9l+3Ayj58h6RgMA+2A/OjraUIBqlNFjXf+otO+//97Q+tPS0iQ6Otqr4wQAgokAAEBE0085rlChgly7di0g29KfgC5evNjwsufOndPcLVu/fn2Xdb09SQ92AHDzzTebmgVhfwegxWJxOsBy//332/7dzDNEFy1aZPhz8zUACHQb9cdKgwYNTLXPEyNtSE9Pl4IFC9rqValSxdQ2Bg8erNnO119/7bReKAYACxYs0LRp+vTphpfdv3+/Zll37bJ//nq5cuUc7qbMK0YDAP3jDZKSkgyt/+TJk4Y/I1/p724eOHCg7d+mTJmi+Tcjj9rSD4B98803AWm30WPbvp7FYpFTp04Z3sbnn3+uWfaVV15xqLNnzx5NnZ49e3qzO04Z7YePHz+uqde1a1fD28jOzpZSpUoZ6mMC3a8Haz+8cccdd3j9u65/0aarwUH9DIhZs2b5qfXey87OlptuusnWprJly5qe2emMqr+f4dqfentufPHiRc25mLuXH+slJydrHonj7u+jn3V4+PBhw9sxw+g5sp7RAEB/3Jp9ZJI7Ro/17t272+qYeVfbtm3bNOsnAAAQqggAAES07OxsqVSpkubE7cUXX/R5vceOHXP4b/q7gcy8dHHatGmG2+jtSXqwAwCLxfgjIc6fPy8FChSwLefqLqc777zTVueBBx4wvA/657YHMgAIRhtr1aqlqXvw4EFTbXTHaBseeOABTV2jz//OysrSPNs3KipKzp8/77RuKAYAiYmJmjY9+OCDhpcdOXKkZll37erXr19QBj/MMhoAPPPMM5p6GRkZhtavfxZ6IAMAEe2zx4sUKSIpKSkiInLvvffa/nvJkiUNtV//8uZevXoFpM1Gj2398WbmGeZdunTRLOtsRlZ2drYUL17cVqdQoUKGgx5PzPTD9jNGChcuLMnJyYa2of/NdtfHBKNfD8Z+eEP/glejv+tXrlxxGOR0NTh45MgRTb2GDRv6rf2+0M/sXL16tV/Wq+rvZzj2p748291+v6KioiQxMdHQcrNnzzb8ndU/amjEiBGm2miU0X5Kz2gAsGLFCk09MyGnJ0aPdfuZUuXKlTO8/v/85z+a9RMAAAhVBAAAIp5+an10dLSpu/P1pkyZIq1atXL475mZmVKuXDnNdvbs2eNxfdeuXZNbb71V08bdu3e7rO/tSXpeBAAtWrQwtI1hw4ZplnN2t6mISP369W11brnlFkN3423dulVzl5anz83XACAYbdQ/eqN169Z+u0PcaBvi4+M1dR977DFD6586dapmuUceecRl3VAMAES0dwNbLO5fhJsrKSlJM1jqqV36Z9XWqVNHUlNT/bcTXjIaALzyyiuaeocOHfK47qSkJIcXPwY6AJg5c6Zme4sXL3Z49MfgwYMNrSs7O1vzotioqCjZvn2739ts9Ng+dOiQZj8qVKggV69e9bj+n3/+WfO4g1KlSrk89v73v/9ptvHUU095u1saZvph/WyTd955x9A2HnzwQcODcMHo14OxH95Yu3atV7/rb7zxhkO7XA0Oioi0atVKU9fMY8MCRf/IvZo1azp90bNZqv5+hmN/6ksAMGPGDM2+tW/f3uO52MWLFzUz/Dz9fa5cuSIlSpSw1bvhhhsC8ogso/2UntEAICMjQxNyRkdHy9atW/3SdqPHeo8ePWx18uXLJ5cuXfK47t9//13z6EZvjhMACBYCAAAQxxfkRUVFycSJE10+Z9+ZxMRE6dSpk9uTv3fffVeznbvvvtvl3Vki11+cZv9sYYvFIo0aNXLbDm9P0vMiALBYLDJx4kS369+wYYPm7v/8+fPLkSNHnNZ96qmnNOteuHCh23UfOXLEIVzx9Ln5GgAEo40pKSlSpkwZTf0XX3zRcAjg7uV7RtuQnJwsxYoV09T/4IMP3G539+7dmueSWywWWb9+vcv6oRoA6AfBK1eu7PYzzcrKkg4dOjj8jT21q3Xr1pr6nTp1MvUIM6vVKmvWrJGzZ88aXsYTowGA/tEnTz75pNv1pqSkyEMPPWT6M/LVxYsXpVChQrbttW7d2iGQdBfI6i1ZskSz7C233CJ79+411aYjR464DZXMHNstW7bUtKd3795uB6/Pnz+veVG1xWKR1157zWX9U6dOOQyOTJ482dMu2rj63pjph48cOaJ5vnhMTIzHgcKxY8c6/b1y1ccEo18Pxn54IycnRypXrmzqd33Lli2a71VucRcA6EPPwoULy4YNG0y19d9//3X5SBxvWK1WqVOnjqZd3bt3N/w8elfHt6q/n+HYn/oSACQnJ2sGtS2W6y/KdvUS66SkJIdn/xv5+4wZM0ZT984775Q///zTVFv37dvn9qYko/2UntEAQERk0qRJmrrlypUzdHOAyPWbrC5evOj034we6++9956m3rvvvut2m+fOnZPatWs7/K08HSf68yQCAwDBQgAAAHL9BU5NmzZ1OImrUaOGLF682OUgfWZmpmzYsEEGDRqkuTB3dTKXmpoq1apV02yjWrVqTu9y+fPPP+WRRx7R1C1YsKDs27fP7b54e5Ie7AAg927nqKgoGTp0qFy+fFlTPyMjQ2bMmCE33HCD4cGmdevWOQwQzJs3zyHIyczMlIULF9ruJr755psNf26+BgDBaKPI9cc+2N+la7FYpGXLlvLjjz86rZ+eni5r1qyRbt26Sd26dV2u10wb5s6dq6kfHR0tw4cPd/hbZ2Vlybx58xwGPDw9MzxUA4CcnByHRzhUrVpVEhISHOr+8ccfmoFt+1kAntp16tQph6Dnrrvukk8++cTlAFROTo4cOHBA3nnnHdvdk/58ZrDRACApKcnhu/3yyy87fazJtm3bbI9SiIqK0jzPPNABgIj2rsDo6GgpWbKk5jfCrL59+2r2u1ChQjJy5Ej5+++/XS5z9uxZmT9/vnTo0EGio6PdPubBzLH966+/OjyGpX379k4fY/fdd985/H5VrlzZ46wB/SMqLJbrL0x1NbBz7do1Wbp0qbRu3Vo6d+7stI7Zflj/vPCiRYvKRx99JJmZmZp6Fy9elCFDhjj9PrrrY4LVrwd6P7z1zTffaNbv6nc9MzNTZs6caRuo1rfL3eCgiMjrr7/u8Jvy/PPPu73j+dKlS7Js2TLp2bOnFCxY0O+Pijl48KBDyHXffffJ+vXrnYZp2dnZkpCQIAMHDpTSpUu7XK+qv5/h1p/6EgCIiKxatcqh/6tVq5bMmDFD9uzZI4mJibJt2zZ5++23bf1BwYIF5bHHHjP898nKynJ4p0uxYsVk/PjxcuHCBZfLnThxQmbMmCHNmjUTi8X9uzXM9FP2zAQA2dnZDvtx0003yfjx4x2O+1zHjh2TsWPHym233SZfffWV0zpGj/VffvlFMysrOjpa4uLiHM6ncnJyZNWqVbbgMyYmRhO+EQAACFUEAADwf65du+bwXGP7k8A6depImzZtpG/fvvLoo49KvXr1pGjRok7rt2/f3uV29u7d63DRa7Fcf9Fbp06dpGfPnlK/fn2HRwNERUXJzJkzPe6HtyfpwQ4ARowYITVr1tRctLVs2VL69Okj7dq100xpzi0NGzb0OL0+90LGvpQtW1Y6duwoffv2lTZt2mg+/+joaIdp/IEMAILRxlxTpkxxOI4slut3VbVt21b69u0rXbp0kfr162vuyrvnnntcrtNsGwYMGOCw/UKFCkmLFi2kT58+0r59e4dBMIvl+uwYdxeuIqEbAIhcnxHkbL+qVKkinTt3lh49ekjdunU1/zZo0CDT7dqxY4dmACW3xMTEyAMPPCBdu3aVfv36SceOHaVBgwZy4403OtTNiwBAROStt95yaEuRIkWkdevWtjbffvvtmn8fPnx4wP92evpHnNiXuLg40+tLTU11eJxJbrnrrrukQ4cO0q9fP+nWrZs89NBDDneQ5vafrpj9fObOnev096ZevXrSo0cP6dy5s1StWtWhDTfddJPs2rXL0D4PHTrU6f5WqlRJHnnkEenXr5906tRJ7rnnHk2Y3qlTJ6frM9sPp6WlScOGDR22X6pUKWnfvr306dNHWrRooXn5aq1atRwG3N31McHo14OxH9568cUXnfb19r/r9n1VkSJFHF7u6ykAyMnJkf79+zs9lipWrCjt27eXvn37So8ePeThhx/WvKA4twTiWfHLli3TfOa5pWTJktK6dWvp06ePdOvWTRo3bqzpg4sVK+Z2vSr+foZbf+prACAiEhcX53KfnZX4+HiHv8/x48fdbuPcuXNyzz33OKwr9/rlsccek379+kmXLl2kefPmcssttzjUzesAQOT6LB39LDOL5frs3wYNGkjXrl2lT58+0rZtW6lQoYKmjq8BgIjI448/7rDtEiVKSPv27aVfv37yyCOPONx4MWPGDFPHCQEAgLxCAAAAOrNnz9bcYWqm3HjjjfLOO+/YXmzmysGDBx0GttyVmJgYj48UyOXtSXqwA4BRo0bJ8ePHnQ4sOSuNGjUy9DzOM2fOSPXq1Q2ts0CBAraLEaOfmz8CgEC30d6yZctcBlWuij8DAKvVKi+//LLTIMJVefDBBz0OXoiEdgAgcn1Kvf5C0VV59NFHJSMjw6t2/fnnn1KvXj2v+qyYmBi/DgaaCQCys7Ole/fuhtv67LPPSk5OTtADgOzsbKfPZM6XL5/8888/Xq9z2LBhki9fPq/+buPGjXO5bm8+n88++8zhLmZ3pUKFCqYftfH+++87feyLu+KvAEDk+p3gzgbPnZWqVavK8ePHTfUxwerXA70f3rJarfLcc88ZateNN94oGzZsMD04mGvixImmj6Xc8txzz/l930Wuv9PBaH+fWzwFACr+foZbf+qPAEBEZN68eU5vbNF/Lz799FMREXn11Vc1/+bucaG5UlJSXAZknkpUVJRt286Y7adyefMdv3TpkrRr1870PvgjAEhJSZEmTZoY3ubo0aNFxNxxQgAAIK8QAACAE1evXpXp06dLw4YNPV54FShQQBo3biwzZ840NECdKyUlRUaPHu30bqTcUqRIERkwYICcOHHC8Hq9PUnPiwBAROTy5csydOhQlxdGpUuXlvHjx7t8ZqozycnJMmTIEJcDWgULFpQuXbrI/v37bcsY/dz8EQAEuo1658+fl+HDh3scnChTpow8++yzmm3qeduGXbt2SZs2bTR39+pLzZo1ZeHChYbfVRDqAYCIyIULF2TQoEEu/85VqlSRadOm2R4V4W27rFarfPHFF9K0aVO3n7HFcn2QoX379jJr1ixTfZYRZgKA3HZPmzbN6YBQbnnggQfkiy++sC0T7ABAxPFF5BaLRdq1a+fzehMTE+Wpp55yOovDvkRFRck999wjI0aM8PhMZG8/n7///lsGDRrkNjAsV66cjBo1ytS7JuydOHFCnnnmGY8DYRUrVpRhw4a5fN+Lt/1wVlaWjB8/3uFl0rmlRIkSmkfXmO1jgtWvB3o/fLFy5Uqnd/BaLNfPl7p16yaJiYki4t3gYK5//vlHhg4d6rbvyC3VqlWTIUOGyI4dOwK019ddu3ZNxowZozmfclaKFy8u/fr1k23bthlar2q/n+HUn/orABC5/uihCRMmSJMmTaRMmTJSsGBBqVChgjRu3FgmTJigeSfEs88+q2mzmXPgn3/+WXr06OHwTgh9yZcvnzRq1Ejeffddj+8M8KafEvHtO75u3Tpp1qyZ22AnX7580qRJE5k9e7bLm6/MHuuZmZny9ttvOzxWy36bDz/8sOb8hgAAQDggAAAADy5fviwJCQny8ccfy/jx42X06NHy/vvvy6JFi+SHH37w+EgaI/bt2yeLFi2SyZMny7hx4+Tjjz+WhIQEycjI8MMehAZPAzbp6emyYcMGmTNnjowdO1Zmz54tCQkJpl7ErJecnCxff/21TJs2TWJjY2X27Nmydu1aly8KywvBbKPVapV9+/bJkiVLZOrUqTJ69GiZOnWqLF++XH799VfDAwe+uHz5sqxevVpmzZolsbGxMm3aNFm6dGlAB6RCQXJysqxcuVKmT58u48ePl0WLFsnOnTsD8pknJyfL+vXrZe7cuTJhwgSJjY2V6dOny/Lly+XQoUMOzwsPBZmZmfL999/LzJkzJTY2VuLj42XFihWmX2QYrnJycuTnn3+WJUuWyLRp02T06NEyefJkmTdvnmzfvj2ofVZmZqZs2bJF5s6dK+PHj5dJkybJokWL5Oeff/bb8ZqdnS07duyQhQsXyqRJk2TMmDEybdo0+eqrr+To0aN+2YY7WVlZkpCQIB9++KGMHTtW5syZIxs2bDD88lZPgtWvB3o/fLFv3z6ZP3++jBs3TmbMmCErV66UpKSkgGzr119/lc8++0zi4+Nl9OjRMnHiRJkzZ44kJCT49SXnZhw+fFg+++wzmT59uu37/Mknn8i+ffu8Pq+J1N9Ps0KpP/WW/SPFSpYs6dU6srKy5IcffpBFixbJ1KlTZcyYMTJ16lRZtGiR7Nq1y+P7W0LFpUuXZM2aNTJ79mwZO3asxMXF2a4R/H0Tg73U1FTZtGmTxMfHy5gxY2TmzJmycuVKOX36dMC2CQCBRAAAAAgKf905DwAAAKgoNTVVc/d+q1at8rpJAAAFEAAAAIKCAAAAAABwbe7cuZrz5ZEjR+Z1kwAACiAAAAAEBQEAAAAA4FxSUpLDey08vacAAAAjCAAAAEFBAAAAAIBIMnDgQNmwYYPHekePHpVatWrxglgAQEAQAAAAgoIAAAAAAJGkZs2aYrFY5M4775SRI0fKypUrZd++fXLkyBH56aef5NNPP5XHH39cChQooDlPLly4sBw+fDivmw8AUAQBAAAgKAgAAAAAEElyAwAzJSYmRr744ou8bjoAQCEEAACAoCAAAAAAQCRp1qyZqcH/+++/X3bu3JnXzQYAKIYAAAAQFAQAAAAAiCRWq1V27Ngho0ePlkcffVSqV68uxYoVk/z580tMTIyUL19e6tevLy+//LJs3Lgxr5sLAFAUAQAAAAAAAAAAAAoiAAAAAAAAAAAAQEEEAAAAAAAAAAAAKIgAAAAAAAAAAAAABREAAAAAAAAAAACgIAIAAAAAAAAAAAAURAAAAAAAAAAAAICCCAAAAAAAAAAAAFAQAQAAAAAAAAAAAAoiAAAAAAAAAAAAQEEEAIhYZcqUkUKFCkmRIkWkRo0aFAqFQqFQKBQKhUKhUCgUSlBKkSJFpFChQlKmTJm8HiKD4ggAELEKFSokFouFQqFQKBQKhUKhUCgUCoVCyZNSqFChvB4ig+IIABCxihQpYuto8zr19WepWLGi3HbbbVKxYsU8bwuFQqFQKBR1C+ccFAqFQqFQglFUPefIvTG1SJEieT1EBsURACBi1ahRQywWi9SoUSOvm+JXmzdvlpUrV8rmzZvzuikAAEBhnHMAAIBgUPWcQ9VxKYQeAgBELFU7WlV/GAEAQGjhnAMAAASDquccqo5LIfQQACBiqdrRqvrDCAAAQgvnHAAAIBhUPedQdVwKoYcAABFL1Y5W1R9GAAAQWjjnAAAAwaDqOYeq41IIPQQAiFiqdrSq/jACAIDQwjkHAAAIBlXPOVQdl0LoIQCA8iwWi9uiWker6g8jAAAILZxzAACAYFD1nIMAAMFCAADlEQAAAAD4H+ccAAAgGFQ95yAAQLAQACBiqdrRqvrDCAAAQgvnHAAAIBhUPedQdVwKoYcAABFL1Y5W1R9GAAAQWjjnAAAAwaDqOYeq41IIPQQAiFiqdrSq/jACAIDQwjkHAAAIBlXPOVQdl0LoIQBAxFK1o1X1hxEAAIQWzjkAAEAwqHrOoeq4FEIPAQAilqodrao/jAAAILRwzgEAAIJB1XMOVcelEHoIABCxVO1oVf1hBAAAoYVzDgAAEAyqnnOoOi6F0EMAgIilaker6g8jAAAILZxzAID6cnJyJDMzU9LT0ymUPCsJCQmyZs0aSUhIyLM2ZGZmSk5Ojl+/X6qOSyH0EAAgYqna0XIxDgAAgoFzDgBQU3Z2tly+fFlOnjwphw8flt9++41CydOyc+dO+fHHH2Xnzp152o7Dhw/LyZMn5fLly5Kdne3zd03VcSmEHgIARCxVO1ouxgEAQDBwzgEA6klNTZXff/89zwd8KRT7snfvXvnpp59k7969ed6W3PL7779LamqqT983VcelEHoIABCxVO1ouRgHAADBwDkHAKiFwX9KqJZDhw7ZSl63xb74GgKoOi6F0EMAgIilakfLxTgAAAgGzjkAQB3Z2dkOg//Hjh2TpKQkSUlJkbS0tDx/Djwlcsv58+fl3Llzcv78+TzZflpamqSkpEhSUpIcO3bMIQTw9nFAqo5LIfQQACBiqdrRcjEOAACCgXMOAFDH5cuXNYOap0+fFqvVmtfNAkRE5MqVK3Lp0iW5cuVKXjdFrFarnD59WvN9uXz5slfrUnVcCqGHAAARS9WOlotxAAAQDJxzAIA6Tp48qbnzn8F/hJJQCgBErocA9jMBTp486dV6VB2XQughAEDEUrWj5WIcAAAEA+ccAKCGnJwcOXz4sG0wMykpKa+bBGiEWgAgIpKUlGT7zhw+fFhycnJMr0PVcSmEHgIARCxVO1ouxgEAQDBwzgEAasjMzNQ8ziQlJSWvmwRohGIAkJKSovneZGZmml6HquNSCD0EAIhYqna0XIwDAIBg4JwDANSQnp6uGchMS0vL6yYBGqEYAKSlpWm+N+np6abXoeq4FEIPAQCUZ7FY3BbVOlouxgEAQDBwzgEAatAHAN4MZAKBFIoBgD++NwQACBYCACiPAAAAAMD/OOcAADUQACDUEQAAviEAQMRStaPlYhwAAAQD5xwAoAYCAIQ6AgDANwQAiFiqdrRcjAMAgGDgnAMA1EAAgFBHAAD4hgAAEUvVjpaLcQAAEAyccwCAGggAEOoIAADfEAAgYqna0XIxDgAAgoFzDgBQAwEAAm3AgAG29zDOnz/f9PIEAIBvCAAQsVTtaLkYBwAAwcA5BwCogQAgvDVv3tw2uG62JzpM4gAAIABJREFUDBgwIChtJABwTtVxKYQeAgBELFU7Wi7GAQBAMHDOAQBqIAAIbwQAeYMAAOGEAAARS9WOlotxAAAQDJxzAIAaCADCm30AUL9+fRk8eLDhsnjx4qC0kQDAOVXHpRB6CAAQsVTtaLkYBwAAwcA5BwCogQAgvNkHAKNGjcrr5jhFAOCcquNSCD0EAIhYqna0XIwDAIBg4JwDANRAABDeCADyBgEAwgkBACKWqh0tF+MAACAYOOcAADUQAIQ3AoC8QQCAcEIAgIilYkeblpkt3aask/glXIwDAIDAIgAAADUQAIQ3fwcA9i8JNrv9LVu2OK3jTQCwadMm+c9//iM1atSQ4sWLS8GCBaVs2bLSpk0biY+Pl9TUVK/2Zf/+/fLiiy9KzZo1pUSJEmKxWKRTp06G2mSPAADhhAAAEUvFjnb8N4el4oi1UmnEGhn84XpJz8rO6yYBAABFEQAAgBoIAMKbagHAyZMnpUWLFpp2OCvly5eXbdu2mdqXUaNGSb58+RzWRQAA1REAIGKp1tHuP3lJKr22ViqO+P/l4Slb5cCpS3ndNAAAoCACAABQAwFAeFMpAPjtt9+kXLlytrpRUVFy3333Sa9evWTAgAHStm1bKVq0qO3fCxUqJAkJCYb2ZcKECbb/XaVKFenTp48MGjRIWrVqJd27dze0r/YIABBOCAAQsVTqaNOzsqX15K2awf/cUnnk1xL3zWFmAwAAAL8iAAAANRAAhDdVAoCUlBS5++67bfVat24tiYmJIqJ9B8CVK1fkueees9UrV66cXL582eO+5M+fX4oVKyZfffWVQz1vjnkCAIQTAgBELJU62n8upUr797c5DQByS+vJW2XfSWYDAAAA/yAAAAA1EACEN/sB+Pr168vgwYMNlwsXLjisL68CgPfee89Wp127dpKVlWX7N2cvAX7iiSds9cePH+90nfb7EhUVJd99952hfTKCAADhhAAAEUu1jjYzO0fe3/iHVH7NdQhQ6bW1Mm7dYUnLZDYAAADwDQEAAKiBACC82Q/Amy1//fWXw/ryIgDIzMyU0qVLi8VikejoaDl+/Ljm350FAP/8849ERUWJxWKR2rVrO92u/b707NnT0P4YRQCAcEIAgIilakc7f+VGafLeGrezAVpN3ip7T1zM66YCAIAwRgAAAGrwZiDT3fUmZW0Q/mr/nwoBwI8//mj79yZNmjj8u7MAQERsjwyKioqSS5ccn3hgvy9ffvmlof0xigAA4YQAABFL1Y528+bN8sWXK+Wlj9ZL1de/djsbYOy635gNAAAAvEIAAABqIABQJwAI13cATJ482fbv1apVc3hU0TPPPCNPP/20PPPMM5r/bv/C4F9++cXtvpw4ccLMx+ARAQDCCQEAIpaqHa39xfhv/16RDtPdvxvgoUlb5GdmAwAAAJMIAABADQQABAD28iIAGDZsmNezGHLL9u3b3e5LamqqmY/BIwIAhBMCACjP04+Eah2t/mI8MztH4jf/4Xk2wNfMBgAAAMYRAACAGggACADs5UUA8PTTT/scADjbttl9MYMAAOGEAADKi/QAINfh055nA7SctEV+Os5sAAAA4BkBAACogQCAAMCe2UHzpk2b+hwAvPTSS7Z/Hzp0qMO/u3oHgCcEAMB1BACIWKp2tO4uxjOzc2RGwhG3swHueG2tjFn7K7MBAACAWwQAAKAGfwxkIu/4OwDInz+/bX1ZWVke69epU8fnAGDs2LG2f+/QoYPDvxMAAL4hAEDEUrWjNXIx/vvpZOkYv939bICJW+Sn4xeC2HIAABBOCAAAQA0EAOHN3wFAiRIlbOs7c+aM27oZGRkSExPjcwCwefNm278XKVLE4RgkAAB8QwCAiKVqR2v0YjwrO0c+2HJE7nx9ndvZAKPX/CqpGcwGAAAAWgQAAKAGAoDw5u8AoG7durb1rV+/3m3dzz//3ONz+EU8BwDp6elSvHhxW534+HjNvxMAAL4hAEDEUrWjNXsx/seZZHnMw2yAFhO3yJ6/mA0AAAD+PwIAAFADAUB483cA8Nxzz9nW17t3b5f1rly5IlWqVPFLACAi8s4779jqFC1aVA4ePKjZlrsAwNVMBQIA4DoCAEQsVTtaby7Gs7JzZOaWox5nA7zHbAAAAPB/CAAAQA0EAOHN3wHAtm3bNAPn+rvxRUQOHz4s9erVE4vFIoUKFfJLAHD16lWpWbOmrd5NN90kH330kWRkZDgNAM6fPy9z5syRunXryrBhw5yukwAAuI4AABFL1Y7Wl4vxP84ky2Mzvnc7G6D5hATZzWwAAAAiHgEAAKiBACC82QcA9evXl8GDBxsur7zyitN1dujQQTN4Xr16dRk4cKA8+eST0rhxY4mOjhaLxSIDBw7UbN+XAEBE5NixY1KpUiXNtosVKyatW7eWxx9/XJ544gnp2rWr3H333bY2WCwWAgDAAwIARCxVO1pfL8azsnPkw61H5c433M8GeGf1L8wGAAAgghEAAIAaCADCm/0AvNlSrFgxp+u8cOGC3H///W6XfeqppyQ9Pd2vAUDutnv06CFRUVGG9qF48eKyYMECp+siAACuIwBAxFK1o/XXxfiRs8nSycNsgGYTEmTXn8wGAAAgEhEAAIAaCADCWyACABGRzMxMmTlzpjRt2lRKliwpBQsWlIoVK0r37t1lw4YNTrfvjwAg16FDh+T111+Xxo0bS9myZaVgwYISExMjZcuWlQcffFBefPFFWb16taSlpblcBwEAcB0BACKWqh2tPy/Gs3OsMvs7z7MBRq36RVIysvzQegAAEC4IAABADQQACHWeXgKcFwgAEE4IABCxVO1oA3ExfuTsVenygefZADuPnffbNgEAQGgjAAAANRAAINQRAAC+IQBAxFK1ow3UxXh2jlU++u6Y3OVmNkDFEcwGAAAgUhAAAIAaCAAQ6ggAAN8QACBiqdrRBvpi/Oi5q9J15g9uQ4CmcQny41FmAwAAoDICAABQAwEAQh0BAOAbAgBELFU72mBcjGfnWGXONs+zAd5aeUiupTMbAAAAFREAAIAaCAAQ6ggAAN8QACBiqdrRBvNi/Ni5q9LNw2yAB+M2yw9HkwLeFgAAEFwEAACgBgIAhDoCAMA3BACIWKp2tMG+GM/OscrH2/+Uam+6nw3w5lfMBgAAQCUEAACgBgIAhDoCAMA3BACIWKp2tHl1Mf5n0jXpPsv9bIAm4zfLD0eYDQAAgAoIAABADQQACHUEAIBvCAAQsVTtaPPyYjwnxypzDcwGeOOrg3KV2QAAAIQ1AgAAUAMBAEIdAQDgGwIARCxVO9pQuBj/K+ma9Jj1o9sQoPG4zfI9swEAAAhboXDOAQDwHQEAQh0BAOAbAgBELFU72lC5GM/Jscr87/+U6m9+4zYIGPklswEAAAhHoXLOAQDwDQEAQh0BAOAbAgBELFU72lC7GD9+/pr0+NDzbIDtfzAbAACAcBJq5xwAAO8QACDUEQAAviEAQMRStaMNxYvxnByrLPjhL4+zAV774qAkp2XmdXMBAIABoXjOAQAwjwAAoY4AAPANAQAilqodbShfjJ84nyI9PcwGeGDsJvku8VxeNxUAAHgQyuccAADjCAAQ6ggAAN8QACBiqdrRhvrFeE6OVRb++Jfc/Zb72QAjVhyQK8wGAAAgZIX6OQcAwBgCAIQ6AgDANwQAiFiqdrThcjF+4nyK9JrtfjZAo7GbZCuzAQAACEnhcs4BAHCPAAChjgAA8A0BACKWqh1tOF2M5+RYZdGO4x5nA7z6ObMBAAAINeF0zgEAcI0AAKGOAADwDQEAlGexWNwW1TracLwYP3khRXrP3uFxNkDC72fzuqkAAOD/hOM5BwDAEQEAQh0BAOAbAgAojwAgPOTkWGXxjuNSw8NsgOHL98vlVGYDAACQ18L1nAMAoEUAgFBHAAD4hgAAEUvVjjbcL8ZPXkiRvnPczwZoGLtJEg4zGwAAgLwU7uccAIDrCAAQ6ggAAN8QACBiqdrRqnAxbrVaZclOz7MBhjEbAACAPKPCOQcAgAAAoY8AAPANAQAilqodrUoX46cupki/OTvdhgANYjfK5sNn8rqpAABEHJXOOQAgkhEAINQRAAC+IQBAxFK1o1XtYtxqtcqnu05IzbfXuw0C/rdsv1xOYTYAAADBoto5BwBEKgIAhDoCAMA3BACIWKp2tKpejP99KVX6f+x+NkD9MRtl02/MBgAAIBhUPecAgEhDAIBQRwAA+IYAABFL1Y5W5Ytxq9UqnxmYDfDy0n3MBgAAIMBUPucAgEhCAIBQRwAA+IYAABFL1Y42Ei7G/76UKo/P3eVxNsDGX5kNAABAoETCOQcARAICgPDWvHlzsVgsLkuRIkXktttuk3bt2klsbKz8/fffhtY7atQo2zqaN29uaJmLFy9K/fr1bctFR0fLvHnzTO3P0KFDNe2vWLEiAQDgIwIARCxVO9pIuRi3Wq2ydPcJqeVhNsDQpfvkUkpGXjcXAADlRMo5BwCojgAgvHkKAPSlQIEC8u6774rVanW7XrMBQFJSktx77722ZfLlyyeffPKJqX3ZtWuXREdHEwAAfkYAgIilakcbaRfj/1xKlSc8zAa4f8xG2cBsAAAA/CrSzjkAQFUEAOHNPgCoX7++DB48WFP69+8vtWvXdggCXn75ZbfrNRMAnD59WmrWrKkJGVasWGFqPzIzM522kwAA8B0BACKWqh1tJF6MW61WWbbnpNQa5X42wEuf7ZWL15gNAACAP0TiOQcAqIgAILzZBwCjRo1yWe+H/8fencdXVd/5H09tq1Ot01ZntOOMoijSWlxatFqtVexYq7VOp+3U1taxM9bWbWoXp+yiAlrEBQVUFBcWcUEFIRsEwr7vYYmQCIQQIAkkgezJvef9+4Nf74jKPTfbOd/7Oa/n43H+kXvjJ32Uz/dzPm/PvUuW6PTTTz9iub5q1aqjvj7VAGD37t0699xzE6897rjjNHPmzDb/HkOHDk38jFtuuYUAAOhEBACILKuNNso343tqGvTrl5M/DdB7aJ5yN+0Nu1QAANJelGcOALCEACC9pRoASNLatWv1qU99KvH6O+6446ivTSUA2Llzp7p375543ec+9znNnj27zb9DYWGhjjvuOGVkZOiXv/ylXnnlFQIAoBMRACCyrDbaqN+Me56nqatLfZ8G+J8pPA0AAEBHRH3mAAArCADSW1sCAEm6+uqrE6/v2bPnUV/nFwAUFxfrjDPOOOLLhufPn9/m+j3P0xVXXKGMjAx96UtfUnl5OQEA0MkIABBZVhstN+OH7a1p1H+9stLnaYDZytnI0wAAALQHMwcA2EAAkN7aGgD88Y9/TLz+xBNPPOrrkgUAhYWFOu200xJ//oUvfEFLly5tV/1jx45N/Jzx48dLEgEA0MkIABBZVhstN+P/x/M8vb26VOf7PA1w75S1OsDTAAAAtAkzBwDYQACQ3toaAAwYMOCIL+s9mqMFAAUFBTrllFMSf3bSSSdp9erV7aq9tLRUJ554ojIyMnTllVfK8zxJBABAZyMAQGRZbbTcjH/cvoON+u+UngbYE3apAACkDWYOALCBACC9tTUA+PWvf514/T//8z8f9XWfFACsXbtWJ598cuKfn3LKKdqwYUO7a7/xxhuVkZGhY489Vlu2bEn8cwIAoHMRACCyrDZabsY/med5emeN/9MA97y2RvtrGXgBAPDDzAEANhAApLe2BACtra06/fTTE6//yU9+ctTXfjQAWL58ub74xS8m/tlpp512xNK+rV5//fXEzxo8ePARf0YAAHQuAgBEltVGy814cuUHG3X7q8mfBvjGw7OVVcDTAAAAJMPMAQA2EACkt7YEAA8++GDitRkZGZo1a9ZRX/vhAOBf/uVfEh/Vk5GRoTPOOENFRUXtrnn//v2JjxHq0aPHx/4/RwAAdC4CAESW1UbLzbg/z/M0be1uXfDgrKRBwN2TeRoAAICjYeYAABvatcgc8vdcya4A+QUABw8e1IIFC/Tzn//8iOX/H/7wh6Q/98MBwIev4447TsXFxR2q+dZbb038vPz8/I/9OQEA0LkIABBZVhstN+OpO/w0wKqkIcDXH56tzA08DQAAwEcxcwCADQQAdgKAVK6TTz5ZI0aM8P25RwsAMjIydOuttyoej7er3lmzZiV+zm233faJryEAADoXAQAiy2qj5Wa8bTzP0/R1u3XhQ8mfBrhr8mpV8jQAAAAJzBwAYAMBQHQCgE9/+tMaP358Sj/3wwHA5ZdfnvjC3r9dv/nNb+R5Xptqraur05lnnpkIIiorKz/xdQQAQOciAEBkWW203Iy3T/mhRt0xwf9pgJkbyto85AAAYBEzBwDYQABgJwC45JJLdM899ySu2267TX369NFxxx13xPJ+wIABvj/3o18C3NTUpO9973tH/Jx77rmnTbXed999ife++uqrR30dAQDQuQgAEFlWGy034+2X6tMAd05arYpDPA0AAIg2Zg4AsIEAwE4AcLQvAd67d69+8YtfHLG8f+ONN5L+3I8GAJLU0NCgq6+++oif8+c//zmlOtesWaNjjjlGGRkZ6tOnT9LXEgAAnYsAAJFltdFyM95xFYea9NuJyZ8GuOihWXpvPU8DAACii5kDAGzojEUmwpNKACBJ8Xhc1113XeK1J510kqqqqo76+k8KAKTDH+NzxRVXHBECDBw40LfODy/1zz77bF166aVHvbp375547bHHHquLL744cWVmZrblf54uQwCAdEIAgMiy2mi5Ge8cnudpxvoyXeTzNMBvJ65S+aHGsMsFACBwzBwAYAMBQHpLNQCQpNLSUp1wwgmJ199///1Hfe3RAgBJOnjwoC655JIjQoChQ4cm/Xd/OADoyPXKK6+k+L9M1yIAQDohAEBkWW203Ix3ropDTfrdxNVJQ4ALH5ql6et28zQAACBSmDkAwAYCgPTWlgBAkgYOHJh4/d/93d9p7969n/i6ZAGAJFVVVemiiy46Yjk/cuTIo/57CQA+zupeCu4hAEBkWW203Ix3Ps/zNHNDmb7+8OykQcAdE3gaAAAQHcwcAGADAUB6a2sAUFVVpRNPPDHxnj/96U+f+Dq/AECSKisr9bWvfe2IBf3o0aM78NscxncAAJ2LAACRZbXRcjPedSprm3TX5ORPA1zw4CxNW8vTAAAA+5g5AMAGAoD01tYAQJIGDBiQeM/xxx+vysrKj70mlQBAkvbt26eePXsmXvupT31KL7zwQjt/m8MIAIDORQCAyLLaaLkZ73qZG/b4Pg1w+6urVH6QpwEAAHYxcwCADQQA6a09AcD+/fv1+c9/PvG+/v37f+w1qQYAkrR79+4jvrj3mGOO0YQJE9rx2xxGAAB0LgIARJbVRsvNeDD21zbp7tfW+D4N8O7aUp4GAACYxMwBADYQAKS39gQAktS3b9/E+0488URVVVUd8edtCQAkaefOnTrjjDMS7/n0pz+tN998s42/zWEEAEDnIgBAZFlttNyMByurYI++4fs0wErt42kAAIAxzBwAYAMBQHprbwBQUVGhE0444ajvbWsAIEnFxcU67bTTEu/7zGc+o2nTpqX+y/x/BABA5yIAQGRZbbTcjAdvf22T7vF5GuD8Ibl6ezVPAwAA7GDmAAAbCADSW3sDAEm6//77E+/94he/eMSCvT0BgCS9//77OvXUUxPvPfbYY5WVldWmuggAgM5FAIDIstpouRkPT3bBHvUemvxpgP9+hacBAAA2MHMAgA0EAHAdAQDQMQQAMO9vqfHRLmuNlpvxcB2oa9a9U9b6Pg0wlacBAABpjpkDAGwgAIDrCACAjiEAgHkEAAhDzkb/pwF+/fIK7a3haQAAQHpi5gAAGwgA4DoCAKBjCAAQWVYbLTfj7qiqa9bvX0/+NECvIbl6a9UungYAAKQdZg4AsIEAAK4jAAA6hgAAkWW10XIz7p7cTXvVe2he0iDgtpdXaE9NQ9ilAgCQMmYOALCBAACuIwAAOoYAAJFltdFyM+6mqrpm3ef3NMADuXpzJU8DAADSAzMHANhAAADXEQAAHUMAgMiy2mi5GXfbrE17dfGw5E8D/OdLK1RWzdMAAAC3MXMAgA0EAHAdAQDQMQQAiCyrjZabcfdV1zfrD2+s830a4I2VJTwNAABwFjMHANhAAADXEQAAHUMAgMiy2mi5GU8fszfv830a4Ffjl2s3TwMAABzEzAEANhAAwHUEAEDHEAAgsqw2Wm7G00t1fbP++GbypwG+9kCuXl/B0wAAALcwcwCADQQAcB0BANAxBACILKuNlpvx9DRnyz59czhPAwAA0gczBwDYQAAA1xEAAB1DAIDIstpouRlPXzX1LfrzW+t9nwZ4bTlPAwAAwsfMAQA2EADAdQQAQMcQACCyrDZabsbTX35hue/TAL98cblKq+rDLhUAEGHMHABgAwEAXEcAAHQMAQAiy2qj5WbchpqGFt3v8zTAeYNzNHn5Tp4GAACEgpkDAGwgAIDrCACAjiEAQGRZbbTcjNuS/365Lh0+J2kQcMuLy7TrAE8DAACCxcwBADZ8dJHZ2NgYdknAEVwMABobGwkAkDYIABBZVhstN+P2HGxs0f9O9X8aYNKynYrHeRoAABAMZg4AsKG1tfWIRWZtbW3YJQFHcDEAOHTo0BF/b1pbW9v8M6zupeAeAgBEltVGy824XfPeL9dljyR/GuAXL/A0AAAgGMwcAGCD53naunVrYpFZVlYWdknAEVwMAMrKyhJ/Z7Zu3dquj+a1upeCewgAEFlWGy0347YdbGxR37c3JA0Bvjo4RxOX7uBpAABAl2LmAAA79u3bl1hmFhYWOrVoBVwLAA4ePKjCwsLE35l9+/a16+dY3UvBPQQAiCyrjZab8WiYv7VC3/J5GuDn43gaAADQdZg5AMCOj36e+ZYtW1RSUqIDBw6ovr5ejY2Nampq4uIK5dq/f78qKiq0f//+UP79jY2Nqq+v14EDB1RSUvKxvytNTe374myreym4hwAAkWW10XIzHh0HG1vU7x3/pwEm8DQAAKALMHMAgC0VFRUfW2xycblwbdy4MXGFXctHr4qKinb/nbO6l4J7CAAQWVYbLTfj0bMghacBfvb8Uu3cXxd2qQAAQ5g5AMCe6urqIz7ahIvLhWvt2rVavXq11q5dG3otf7sKCwtVU1PTob9vVvdScA8BACLLaqPlZjyaDjW2qN87BUlDgK8MytEri7fzNAAAoFMwcwCATX/7yJWdO3eGvmTl4tqyZYuWL1+upUuXavny5aHXsnPnzsRHEXWU1b0U3EMAgMiy2mi5GY+2Rdsqdfmjc5MGAf/x/FLtqORpAABAxzBzAIB98XhcLS0toX8GPFe0r/z8fM2cOVP5+fmh1dDS0qJ4PN6pf7+s7qXgHgIARJbVRsvNOGqbWjXg3eRPA/QclK2XeRoAANABzBwAACAIVmcOq3spuIcAAJFltdFaPRjRdouLUnga4DmeBgAAtA8zBwAACILVmcPqXgruIQBAZFlttFYPRrRPbVOrBk7zfxpg/CKeBgAAtA0zBwAACILVmcPqXgruIQBAZFlttFYPRnTMkqJKXfHX5E8D/PS5JdrO0wAAgBQxcwAAgCBYnTms7qXgHgIARJbVRmv1YETH1TW1atC0jUlDgHMHZuvFhR8oxtMAAAAfzBwAACAIVmcOq3spuIcAAJFltdFaPRjReZYUV+rbI5I/DfDjZ5fog4rasEsFADiMmQMAAATB6sxhdS8F9xAAILKsNlqrByM6V11Tqx6YztMAAID2Y+YAAABBsDpzWN1LwT0EAIgsq43W6sGIrrG0eL+uHJGfNAj497GLVczTAACAj2DmAAAAQbA6c1jdS8E9BACILKuN1urBiK5T39yqIe9t8n0aYNyCYp4GAAAkMHMAAIAgWJ05rO6l4B4CAESW1UZr9WBE11v2gf/TAD8au1hF5TwNAABg5gAAAMGwOnNY3UvBPQQAiCyrjdbqwYhgpPI0QI+B2Xp+Pk8DAEDUMXMAAIAgWJ05rO6l4B4CAESW1UZr9WBEsJZ/sF/feSz50wD/NmaxisoPhV0qACAkzBwAACAIVmcOq3spuIcAAJFltdFaPRgRvIbmmB6asVln9kv+NMBz84vVGouHXS4AIGDMHAAAIAhWZw6reym4hwAAkWW10Vo9GBGelTsO6CqfpwFuGrNY2/bxNAAARAkzBwAACILVmcPqXgruIQBAZFlttFYPRoSroTmmh2f6PA0wIFtj5xXxNAAARAQzBwAACILVmcPqXgruIQBAZFlttFYPRrhh1Y4DunrkvORPA4xepK08DQAA5jFzAACAIFidOazupeAeAgBEltVGa/VghDsammMamsLTAGPyeRoAACxj5gAAAEGwOnNY3UvBPQQAiCyrjdbqwQj3rN55QH18ngb44ehF2rLnYNilAgC6ADMHAAAIgtWZw+peCu4hAEBkWW20Vg9GuKmxJabhWVuSPg3QvX+Whry3STUNLWGXCwDoRMwcAAAgCFZnDqt7KbiHAACRZbXRWj0Y4bbVO6vU5/HkTwN8/eHZen1FieJxL+xyAQCdgJkDAAAEwerMYXUvBfcQACCyrDZaqwcj3NfYEtMjWVt0VpKnAf72JcHrdlWHXS4AoIOYOQAAQBCszhxW91JwDwEAIstqo7V6MCJ9rCmp0jU+TwN065up+99ar4pDTWGXCwBoJ2YOAAAQBKszh9W9FNxDAIDIstporR6MSC9NrTGNnVekrwzKSRoC9HogV+MXbVdLLB52yQCANmLmAAAAQbA6c1jdS8E9BACILKuN1urBiPS0p6ZB905Z6/s0wLVPzteSosqwywUAtAEzBwAACILVmcPqXgruIQBAZFlttFYPRqS3ZR/s13VPLfANAu6avFq7qxvCLhcAkAJmDgAAEASrM4fVvRTcQwCAyLLaaK0ejEh/rbG4Xl2yQ+cPyU0aAvQclK2n52xTY0tLgfNlAAAgAElEQVQs7JIBAEkwcwAAgCBYnTms7qXgHgIAmJeRkZH0stZorR6MsGN/bZP6vbNBZ/ZL/jTAt0fM1ezN++R5XtglAwA+ATMHAAAIgtWZgwAAQSEAgHkEAICbNpRW60djF/t+LNB/vrRCH1TUhl0uAOAjmDkAAEAQrM4cBAAICgEAIstqo7V6MMKmeNzT1NWl6j00L2kIcM6ALD2SvUW1Ta1hlwwA+P+YOQAAQBCszhxW91JwDwEAIstqo7V6MMK2g40tenjmZp3dPytpEHDJsDxNW7ubjwUCAAcwcwAAgCBYnTms7qXgHgIARJbVRmv1YEQ0bNt3SLe8uMz3Y4F++twSbSqrCbtcAIg0Zg4AABAEqzOH1b0U3EMAgMiy2mitHoyIDs/zlF2wR5c/OjdpCHBWv0wNnFag6vrmsEsGgEhi5gAAAEGwOnNY3UvBPQQAiCyrjdbqwYjoaWiO6YnZW9VjYHbSIODCh2Zp0rKdisX5WCAACBIzBwAACILVmcPqXgruIQBAZFlttFYPRkTXrgP1umPCKt+PBbrh6YVateNA2OUCQGQwcwAAgCBYnTms7qXgHgIARJbVRmv1YAQWbK1Qn8fn+QYBf3hjncoPNoZdLgCYx8wBAACCYHXmsLqXgnsIABBZVhut1YMRkKTm1rjGLSjWeYNzkoYA5w3O0fPzi9XcGg+7ZAAwi5kDAAAEwerMYXUvBfcQACCyrDZaqwcj8GHlBxv1xzfW+T4N0OfxeVqwtSLscgHAJGYOAAAQBKszh9W9FNxDAIDIstporR6MwCdZteOAbnh6oW8QcMeEVdp1oD7scgHAFGYOAAAQBKszh9W9FNxDAIDIstporR6MwNHE4p4mL9+pCx+alTQEOHdgtp6YvVUNzbGwSwYAE5g5AABAEKzOHFb3UnAPAQAiy2qjtXowAn6q65s1aNpGndUv+dMAlz86V9kFe+R5XtglA0BaY+YAAABBsDpzWN1LwT0EAIgsq43W6sEIpGpTWY1++twS348FuuXFZdq271DY5QJA2mLmAAAAQbA6c1jdS8E9BACILKuN1urBCLSF53matna3LhmWlzQEOLt/lh6euVkHG1vCLhkA0g4zBwAACILVmcPqXgruIQBAZFlttFYPRqA9apta9Uj2Fp0zICtpENB7aJ6mri5VPM7HAgFAqpg5AABAEKzOHFb3UnAPAQAiy2qjtXowAh1RXFGr/3xphe/HAv1o7GIVlNaEXS4ApAVmDgAAEASrM4fVvRTcQwCAyLLaaK0ejEBHeZ6n2Zv36coR+UlDgDP7ZarfOxu0v7Yp7JIBwGnMHAAAIAhWZw6reym4hwAAkWW10Vo9GIHO0tgS0zNztqnnoOykQcD5Q3L16pIdao3Fwy4ZAJzEzAEAAIJgdeawupeCewgAEFlWG63VgxHobLurG3T35DW+Hwt03VMLtPyD/WGXCwDOYeYAAABBsDpzWN1LwT0EAIgsq43W6sEIdJUlRZW69sn5vkHAvVPWak9NQ9jlAoAzmDkAAEAQrM4cVvdScA8BACLLaqO1ejACXaklFtdLi7ar1wO5SUOArw7O0Zj8IjW2xMIuGQBCx8wBAACCYHXmsLqXgnsIABBZVhut1YMRCEJlbZP+d+p636cBLn90rmasL5PneWGXDAChYeYAAABBsDpzWN1LwT0EAIgsq43W6sEIBGltSZVuGr3INwj497GLtaakKuxyASAUzBwAACAIVmcOq3spuIcAAJFltdFaPRiBoMXjnt5YWaJvPDzbNwj4nylrVVpVH3bJABAoZg4AABAEqzOH1b0U3EMAgMiy2mitHoxAWGoaWjTkvU3q3j8raQjQY2C2RuQU6lBjS9glA0AgmDkAAEAQrM4cVvdScA8BACLLaqO1ejACYdu275Bue3mF79MAvYfO1mvLS9Qai4ddMgB0KWYOAAAQBKszh9W9FNxDAIDIstporR6MgCvmb63QtU/O9w0CvvfkAi3YWhF2uQDQZZg5AABAEKzOHFb3UnAPAQAiy2qjtXowAi5pjcX12vIS9R7q//0At728Qtv2HQq7ZADodMwcAAAgCFZnDqt7KbiHAACRZbXRWj0YARcdamzRiJxC9RiYnTQE6N4/SwOnFWh/bVPYJQNAp2HmAAAAQbA6c1jdS8E9BACILKuN1urBCListKpe905Z6/s0QK8HcvX8/GI1tcbCLhkAOoyZAwAABMHqzGF1LwX3EAAgsqw2WqsHI5AOVu+s0o/GLvYNAr49Yq4yN+yR53lhlwwA7cbMAQAAgmB15rC6l4J7CAAQWVYbrdWDEUgXnudpxvoyXf7oXN8g4MfPLtG6XdVhlwwA7cLMAQAAgmB15rC6l4J7CAAQWVYbrdWDEUg3jS0xPTuvWF97INc3CPj962u1u7oh7JIBoE2YOQAAQBCszhxW91JwDwEAIstqo7V6MALpqrK2SQPeLdBZ/ZKHAOcOzNZjuYWqbWoNu2QASAkzBwAACILVmcPqXgruIQBAZFlttFYPRiDdvb/3kG59aYXv0wC9h+bp9RUlisX5fgAAbmPmAAAAQbA6c1jdS8E9BACILKuN1urBCFgx7/1y/esT832DgOueWqBF2yrDLhcAjoqZAwAABMHqzGF1LwX3EAAgsqw2WqsHI2BJayyuSct26hsPz/YNAv7rlZUqKj8UdskA8DHMHAAAIAhWZw6reym4hwAAkWW10Vo9GAGLDja26NHsQvUYkJ00BOjeP0uDp2/UgbrmsEsGgARmDgAAEASrM4fVvRTcQwCAyLLaaK0ejIBluw7U657X1vg+DdBrSK5eWPCBmlpjYZcMAMwcAAAgEFZnDqt7KbiHAACRZbXRWj0YgShYvfOAbhqz2DcIuHJEvrIL9sjz+KJgAOFh5gAAAEGwOnNY3UvBPQQAiCyrjdbqwQhERTzuafq63br80bm+QcBPn1ui9buqwy4ZQEQxcwAAgCBYnTms7qXgHgIARJbVRmv1YASiprElpjH5RTpvcI5vEPCHN9aprLoh7JIBRAwzBwAACILVmcPqXgruIQBAZFlttFYPRiCqKg41qd87BTqrX/IQoOegbD0x633VNbWGXTKAiGDmAAAAQbA6c1jdS8E9BACILKuN1urBCERd4d6D+tX45b5PA1w8LE9vrtylWJzvBwDQtZg5AABAEKzOHFb3UnAPAQAiy2qjtXowApA8z1N+YbmueXyebxDw/VELtaSoMuySARjGzAEAAIJgdeawupeCewgAEFlWG63VgxHA/2mJxTVx6Q59/eHZvkHA7a+uVHFFbdglAzCImQMAAATB6sxhdS8F9xAAILKsNlqrByOAj6tpaNEjWVvUY0B20hDg7P5ZGvLeJlXVNYddMgBDmDkAAEAQrM4cVvdScA8BACLLaqO1ejACOLqd++t01+TVvk8DnD8kVy8u/EDNrfGwSwZgADMHAAAIgtWZw+peCu4hAEBkWW20Vg9GAP5W7jigm0Yv8g0CvvNYvnI27pXn8UXBANqPmQMAAATB6sxhdS8F9xAAILKsNlqrByOA1MTjnqat3a3LHpnjGwT8x/NLVVBaE3bJANIUMwcAAAiC1ZnD6l4K7iEAQGRZbbRWD0YAbdPQHNPoudv01cE5vkHAH99cpz01DWGXDCDNMHMAAIAgWJ05rO6l4B4CAESW1UZr9WAE0D7lBxvV9+0NOrNf8hCg56BsPTF7q+qaWsMuGUCaYOYAAABBsDpzWN1LwT0EAIgsq43W6sEIoGM2lx3ULS8u830a4JJheXpz1S7F43w/AIDkmDkAAEAQrM4cVvdScA8BACLLaqO1ejAC6DjP8zRnyz71eXyebxBww9MLtaS4MuySATiMmQMAAATB6sxhdS8F9xAAILKsNlqrByOAztMSi+vVJTt04UOzfIOA30xYpQ8qasMuGYCDmDkAAEAQrM4cVvdScA8BACLLaqO1ejAC6Hw19S0alrlZ5wzIShoCnN0/Sw/O2KTq+uawSwbgEGYOAAAQBKszh9W9FNxDAIDIstporR6MALrOzv11unPSat+nAS54cJbGL9qu5tZ42CUDcAAzBwAACILVmcPqXgruIQBAZFlttFYPRgBdb/kH+3XjM4t8g4CrR87TrE175Xl8UTAQZcwcAAAgCFZnDqt7KbiHAACRZbXRWj0YAQQjHvf0zppSXTp8jm8QcPO4pdq4uybskgGEhJkDAAAEwerMYXUvBfcQACCyrDZaqwcjgGA1NMf09Jxt+sqgnKQhwJn9MvXnt9Zrb01j2CUDCBgzBwAACILVmcPqXgruIQBAZFlttFYPRgDh2HewUfe/tV5n9kv+NMBXBuXoqbytqm9uDbtkAAFh5gAAAEGwOnNY3UvBPQQAiCyrjdbqwQggXBt31+jn45b5fizQpcPn6O3VpYrH+X4AwDpmDgAAEASrM4fVvRTcQwCAyLLaaK0ejADC53meZm/ep6tHzvMNAn7wzEIt+2B/2CUD6ELMHAAAIAhWZw6reym4hwAAkWW10Vo9GAG4o7k1rpcXb9cFD87yDQJ+O3GVtlfWhV0ygC7AzAEAAIJgdeawupeCewgAELi9e/dq0qRJuu+++3TFFVfo+OOPV0ZGhrp16xZoHVYbrdWDEYB7quub9fDMzTq7f1bSEOCcAVl6eOZm1dS3hF0ygE7EzAEAAIJgdeawupeCewgAELinnnpKGRkZH7sIADqH1YMRgLu2V9bptxNX+T4NcOFDs/Ty4u1qicXDLhlAJ2DmAAAAQbA6c1jdS8E9BAAI3EsvvaTvfve76tu3r9566y2NGjWKAKATWT0YAbhvafF+3fD0Qt8goM/IeZq9eZ88jy8KBtIZMwcAAAiC1ZnD6l4K7iEAQOimTp1KANCJrB6MANJDPO5p6upSfXN4nm8Q8PNxy7SprCbskgG0EzMHAAAIgtWZw+peCu4hAEDoCAA6l9WDEUB6qW9u1VN5W/WVQTlJQ4Az+2Xqf6euV/nBxrBLBtBGzBwAACAIVmcOq3spuIcAwAGxWEwbNmzQ+PHjdeedd6p379767Gc/m/hs/KuuuqrdP7u5uVkTJ07U9ddfrzPOOEPHHXecvvzlL+tb3/qWRo4cqcrKys77RdqJAKBzWT0YAaSnvTWN+vNb63Vmv+RPA3x1cI6enrNNDc2xsEsGkCJmDgAAEASrM4fVvRTcQwAQsmnTpun444//xC/F7WgAUFhYqK9//etJf/Ypp5yirKyszv2l2ogAoHNZPRgBpLeNu2v0s+eX+n4s0KXD5+idNaWKx/l+AMB1zBwAACAIVmcOq3spuIcAIGSvvPJK0gV9ewOA0tJSnXbaaYmf8alPfUpXXXWVbr/9dv3whz/U5z73ucSfffazn9WcOXM6/5dLEQFA57J6MAJIf57nKXfTXl31WL5vEPDD0Yu0YvuBsEsGkAQzBwAACILVmcPqXgruIQAI2d8CgFNPPVU33nijHnroIWVnZ+u+++7rUADwne98J/H+bt26acOGDUf8eWVlpb773e8mXnPSSSepurq6k36rtiEA6FxWD0YAdjS3xjV+0XadPyTXNwi4c9Jq7dxfF3bJAD4BMwcAAAiC1ZnD6l4K7iEACNnevXtVUlLysX8+ZMiQdgcAWVlZifcee+yxKigo+MTX1dXVqXv37onX9u/f/xNf9+Fa2nqVlpb61ksA0LmsHowA7Kmqa9aDMzbp7P5ZSUOAcwZkaVjmZtU0tIRdMoAPYeYAAABBsDpzWN1LwT0EAI7qSABwww03JN57xx13JH3t5MmTj3gKoLW19WOvefTRR/WFL3yhXVdZWZlvvQQAncvqwQjArg8qavWbCat8nwa46KFZenXJDrXE4mGXDEDMHAAAIBhWZw6reym4hwDAUe0NAGpra3Xccccl3rt06dKkr29qatKJJ56YeH0YzZQAoHNZPRgB2LekqFLXj1roGwT0eXye5mzZJ8/ji4KBMDFzAACAIFidOazupeAeAgBHtTcAmDVrVuJ9J5xwwif+F/0fde211ybeM3DgwA5U3T4EAJ3L6sEIIBpicU9vrtqlS4bl+QYBv3xxubbsORh2yUBkMXMAAIAgWJ05rO6l4B4CAEe1NwAYNWpU4n2XXXZZSu/p27dv4j0//vGP21lx+xEAdC6rByOAaKlratUTs7eq56DspCHAmf0y1fftDSo/1Bh2yUDkMHMAAIAgWJ05rO6l4B4CAEe1NwC46667Eu+7+eabU3rP2LFjE+8Jo+kQAHQuqwcjgGjaU9OgP76xzvdpgK8OztHoudvU2BILu2QgMpg5AABAEKzOHFb3UnAPAYCj2hsA/OxnP0u87/e//31K73nnnXcS7/nyl7/czopTt2vXLp188smJ62/fQXDMMccc8c/vvffeLq3DaqO1ejACiLYNpdX6j+eW+gYB33pkjqat3a14nO8HALoaMwcAAAiC1ZnD6l4K7iEAcFR7A4Abbrgh8b6+ffum9J7s7OzEez7/+c+3s+LU7dixI/HvS3bddtttbf7ZY8aM0XnnnZfS9bcvS+7WrZvmzp1r5poxY4amT5+uGTNmhF4LFxcXV2dec+bM0WNTZuuSB7N8g4Crh2fp+bdnh14zF5fli5mDi4uLi4uLK4jL6szRrVs3AgAEggDAUe0NAK655prE+wYPHpzSe+bOnZt4z6c//el2VuyGD//vlup1+umna/r06VxcXFxcaXK9/e503ffse/rKgJm+QcC/PTZD498Iv2YuLi4uLi4uLi4uLq4PX6effjoBAAJBAOAoy08AdCWeALCbjHNxcXF99JqeM0f/PTZHZ/VLHgKc3S9Tv3suVzNz54ReMxeXpYuZg4uLi4uLiyuIy+rMwRMACAoBgKMsfweAK6x+1trcuTY/Gw8AjqaovFa3v7rS92mACx+apfGLtquplS8KBjoDMwcAAAiC1ZnD6l4K7iEAcFR7A4C77ror8b6bb745pfeMHTs28Z4oNR2rjdbqwQgAfhYXVeq6pxb4BgHfHjFX760v44uCgQ5i5gAAAEGwOnNY3UvBPQQAjmpvADBq1KjE+y677LKU3tO3b9/Ee3784x+3s+L0Y7XRWj0YASAVsbinN1aWqPfQPN8g4IejF2lp8f6wSwbSFjMHAAAIgtWZw+peCu4hAHBUewOAWbNmJd53wgknqLW11fc91157beI9AwcO7EDV6cVqo7V6MAJAW9Q2terxWe/r3IHZvkHAf72yUlv3HQq7ZCDtMHMAAIAgWJ05rO6l4B4CAEe1NwCora1NfLltRkaGli1blvT1TU1NOvHEExOvt9ZMk7HaaK0ejADQHmXVDfrTm+t1ps8XBZ/VL1N/mbpBe2sawy4ZSBvMHAAAIAhWZw6reym4hwDAUe0NACTphhtuSLz3d7/7XdLXTpkyJfHaL33pSyk9MWCF1UZr9WAEgI7YXHZQt760wvdpgJ6DsjUy930damwJu2TAecwcAAAgCFZnDqt7KbiHAMBRHQkAMjMzE+899thjtWnTpk98XX19vc4555zEa/v169cJlacPq43W6sEIAJ1h4bYKXT9qoW8Q8PWHZ+vVJTvU3BoPu2TAWcwcAAAgCFZnDqt7KbiHAMBRHQkAJOnKK69MvP/MM89UQUHBEX++f//+Iz77/6STTlJ1dXUnVZ8erDZaqwcjAHSWeNzTtLW7dfmjc32DgKsey1dWwR55nhd22YBzmDkAAEAQrM4cVvdScA8BgAOuv/56XXjhhUdcp5566hFf5vvRP7/wwgtVVlZ21J9ZWlqqf/qnf0r8jGOOOUZ9+vTR7bffrptuuknHH3984s8+85nPaM6cOQH+xm6w2mitHowA0NkaW2J6YcEHOn9Irm8Q8G9jFmvF9gNhlww4hZkDAAAEwerMYXUvBfcQADigW7duiWV8W64dO3Yk/bmFhYW66KKLkv6Mf/zHf1RmZmYwv2hI/P53tNZorR6MANBVquubNSxzs3oMyPYNAn4zYZWKymvDLhlwAjMHAAAIgtWZgwAAQSEAcEBXBQCS1NzcrAkTJuj73/++Tj/9dB177LE65ZRTdNlll2nEiBGqrKzs+l8wZAQAAIBU7DpQrz+8sc43BOjeP0v93y1Q+aHGsEsGQsXMAQAAgmB15iAAQFAIABBZVhut1YMRAIKycXeNbnlxmW8Q8NXBOXpy9lbVNrWGXTIQCmYOAAAQBKszh9W9FNxDAIDIstporR6MABAkz/M0f2uFrntqgW8Q0HtoniYt26mWWDzssoFAMXMAAIAgWJ05rO6l4B4CAESW1UZr9WAEgDDE4p6mri7VZY/M8Q0C+jw+T7mb9srzvLDLBgLBzAEAAIJgdeawupeCewgAEFlWG63VgxEAwtTYEtOz84rV64Fc3yDgJ88u0eqdVWGXDHQ5Zg4AABAEqzOH1b0U3EMAgMiy2mitHowA4IIDdc16aMZmnTMgyzcIuHPSan1QURt2yUCXYeYAAABBsDpzWN1LwT0EAIgsq43W6sEIAC4p2V+ve6es9Q0Bzu6fpcHTN6qytinskoFOx8wBAACCYHXmsLqXgnsIABBZVhut1YMRAFy0fle1fvb8Ut8g4LzBOXp6zjbVN7eGXTLQaZg5AABAEKzOHFb3UnAPAQAiy2qjtXowAoCrPM/T3MJ9uvbJ+b5BwCXD8jRlRYlaY/GwywY6jJkDAAAEwerMYXUvBfcQACCyrDZaqwcjALguFvf0xsoSfXN4nm8Q8N0n5itv8z55nhd22UC7MXMAAIAgWJ05rO6l4B4CAESW1UZr9WAEgHRR39yq0XO36WsP5PoGAT97fqnW7aoOu2SgXZg5AABAEKzOHFb3UnAPAQAiy2qjtXowAkC6qaxt0gPTN+rs/lm+QcA9r63Rzv11YZcMtAkzBwAACILVmcPqXgruIQBAZFlttFYPRgBIV9sr63T35DW+IcA5A7L04IxNOlDXHHbJQEqYOQAAQBCszhxW91JwDwEAzMvIyEh6WWu0Vg9GAEh3a0qq9NPnlvgGAb0eyNWY/CI1NMfCLhlIipkDAAAEwerMQQCAoBAAwDwCAACAKzzP0+zN+3TN4/N8g4BLh8/Rm6t2KRbni4LhJmYOAAAQBKszBwEAgkIAgMiy2mitHowAYElrLK7Xlpeo99A83yDge08uUP775fI8ggC4hZkDAAAEwerMYXUvBfcQACCyrDZaqwcjAFhU19SqUXnb9NXBOb5BwC9eWKaC0pqwSwYSmDkAAEAQrM4cVvdScA8BACLLaqO1ejACgGUVh5o0cFqBuvfP8g0Cfv/6Wu06UB92yQAzBwAACITVmcPqXgruIQBAZFlttFYPRgCIguKKWv124irfEKDHgGw9PHOzDtQ1h10yIoyZAwAABMHqzGF1LwX3EAAgsqw2WqsHIwBEyaodB/TvYxf7BgG9HsjVM3O2qa6pNeySEUHMHAAAIAhWZw6reym4hwAAkWW10Vo9GAEgajzPU87GPbp65DzfIKD30DxNWLpDza3xsMtGhDBzAACAIFidOazupeAeAgBEltVGa/VgBICoaonFNXHpDn3j4dm+QcCVI/I1fd1uxeNe2GUjApg5AABAEKzOHFb3UnAPAQAiy2qjtXowAkDU1Ta16olZ7+srg3J8g4Dvj1qo/PfL5XkEAeg6zBwAACAIVmcOq3spuIcAAJFltdFaPRgBAIeVH2zUoGkbdXb/LN8g4GfPL9WakqqwS4ZRzBwAACAIVmcOq3spuIcAAJFltdFaPRgBAEfaUVmn/5my1jcE6NY3U3dMWKWi8kNhlwxjmDkAAEAQrM4cVvdScA8BACLLaqO1ejACAD7Zxt01uvWlFb4hwFn9MnX/W+tVVt0QdskwgpkDAAAEwerMYXUvBfcQACCyrDZaqwcjACC5JcWVumnMYt8goMfAbA3L3KyquuawS0aaY+YAAABBsDpzWN1LwT0EAIgsq43W6sEIAPDneZ5yNu7VNY/P8w0Cej2Qq9Fzt6m+uTXsspGmmDkAAEAQrM4cVvdScA8BACLLaqO1ejACAFLXGovrzZW7dNkjc3yDgN5D8zRx6Q41t8bDLhtphpkDAAAEwerMYXUvBfcQAMC8jIyMpJe1Rmv1YAQAtF1jS0zjFhTrggdn+QYBV47I1/R1uxWPe2GXjTTBzAEAAIJgdeYgAEBQCABgHgEAACDqahpa9Fhuob4yKMc3CLh+1ELNe79cnkcQgOSYOQAAQBCszhwEAAgKAQAiy2qjtXowAgA6rvxgowZOK9DZ/bN8g4CfPb9Ua0qqwi4ZDmPmAAAAQbA6c1jdS8E9BACILKuN1urBCADoPDsq63TvlLW+IUC3vpm6Y8IqFZUfCrtkOIiZAwAABMHqzGF1LwX3EAAgsqw2WqsHIwCg823cXaNbX1rhGwKc1S9T97+1XmXVDWGXDIcwcwAAgCBYnTms7qXgHgIARJbVRmv1YAQAdJ0lxZW6acxi3yCgx8BsDcvcrKq65rBLhgOYOQAAQBCszhxW91JwDwEAIstqo7V6MAIAupbnecrZuFfXPD7PNwjo9UCuRs/dpvrm1rDLRoiYOQAAQBCszhxW91JwDwEAIstko63ZrcJJf9F7775t7mAEAASjNRbXGytLdOnwOb5BQO+heZq4dIeaW+Nhl40QWL0ZBwAAbrE6c5jcS8FJBACILJONduYfpSF/r/rh3VU4ua8Uawm7IgBAmmpsiWncgmJd8OAs3yDgyhH5mr5ut+JxL+yyESCrN+MAAMAtVmcOk3spOIkAAJFlrtFW75IeOlka8vf/dz3VS1ozgSAAANBuNQ0teiy3UD0HZfsGAdePWqh575fL8wgCosDqzTgAAHCL1ZnD3F4KziIAQGSZa7Qz7jty+f/ha9QF0tpJUozPagYAtE/5wUYNnFags/tn+QYBN49bqjUlVWGXjC5m9WYcAAC4xerMYW4vBWcRACCyTDXauv3Sw/9w9AAgEQRcKK17jSAAANBuOyrrdO+UteJALw0AACAASURBVL4hQLe+mfrtxFUqKj8UdsnoIlZvxgEAgFuszhym9lJwGgEAIstcoy1bJ712s38IMOTvpacvktZNIQgAALTbxt01uvWlFb4hwFn9MvW/U9errLoh7JLRyazejAMAALdYnTnM7aXgLAIARJbVRrty+jjtfeLK1IKAZ74hrX9DisfCLhsAkKaWFFfqpjGLfYOAHgOzNSxzs6rqmsMuGZ3E6s04AABwi9WZw+peCu4hAEBkWW20fzsYV057Tpr0kxSDgN7ShrcIAgAA7eJ5nnI27lGfx+f5BgG9HsjV6LnbVN/MU2jpzurNOAAAcIvVmcPqXgruIQBAZFlttB87GHetlCb+e2pBwOhLpIKpUjwe7i8BAEhLrbG43lhZokuHz/ENAnoPzdPEpTvUEuPMSVdWb8YBAIBbrM4cVvdScA8BACLLaqM96sG4a4U04d9SCwLGfFPa+A5BAACgXRpbYhq3oFgXPDjLNwj4zmP5mr5ut+JxL+yy0UZWb8YBAIBbrM4cVvdScA8BACLLaqP1PRhLlkkTbkotCBh7mbRpGkEAAKBdahpaNCKnUD0HZfsGAdePWqh575fL8wgC0oXVm3EAAOAWqzOH1b0U3EMAAPMyMjKSXtYabcoH484l0qs3phYEPHu5tPk9ggAAQLuUH2zUgHcL1L1/lm8QcPO4pVpTUhV2yUiB1ZtxAADgFqszBwEAgkIAAPMIAHzsWCS98oMUg4ArpC0zJf7rTABAO2yvrNM9r63xDQG69c3UbyeuUlH5obBLRhJWb8YBAIBbrM4cBAAICgEAIstqo233wbh9gfTS91MLAp77tlSYRRAAAGiXjbtr9Kvxy31DgLP6Zep/p65XWXVD2CXjE1i9GQcAAG6xOnNY3UvBPQQAiCyrjbZDB6PnSR/Mk8Z/L7Ug4PnvSO/nEAQAANplSVGlbhqz2DcI6DEwW8OztqiqrjnskvEhVm/GAQCAW6zOHFb3UnAPAQAiy2qj7ZSD0fOk4rnSi/+aWhAw7mpp6yyCAABAm3mep5yNe9Tn8Xm+QUCvB3I1Jr9I9c2tYZcN2b0ZBwAAbrE6c1jdS8E9BACILKuNtlMPRs+TivKkF65JLQh44RppWx5BAACgzVpjcb2+okSXDp/jGwRcPCxPE5ftVEuML6cPk9WbcQAA4BarM4fVvRTcQwCAyLLaaLvkYPQ8advsw/+lfypBwIvflYrmEAQAANqssSWm5+cX64IHZ/kGAd95LF/vrS9TPM55EwarN+MAAMAtVmcOq3spuIcAAJFltdF26cHoeYc/6mfcVakFAeOvlYrzCQIAAG1W09CiETmF6jko2zcIuOHphZq/tUIe502grN6MAwAAt1idOazupeAeAgBEltVGG8jB6HmHv/z3+StTCwJeuu7wlwuzmAEAtFH5wUYNeLdA3ftn+QYBN49bqrUlVWGXHBlWb8YBAIBbrM4cVvdScA8BACLLaqMN9GD0PKkwS3ru26kFAS9fL21f2PV1AQDM2V5Zp3teW+MbAnTrm6nfTlylovJDYZdsntWbcQAA4BarM4fVvRTcQwCAyLLaaEM5GD1P2jJTevaK1IKAV34g7VgcXH0AADMKSmv0q/HLfUOAs/pl6i9TN6isuiHsks2yejMOAADcYnXmsLqXgnsIABBZVhttqAdjPC5tfk8a+63UgoBXb5R2Lg2+TgBA2ltSVKmbRi/yDQJ6DMzW8KwtqqprDrtkc6zejAMAALdYnTms7qXgHgIARJbVRuvEwRiPS5umSWMuTS0ImHCTVLI8vHoBAGnJ8zxlF+xRn8fn+QYBvR7I1Zj8ItU3t4ZdthlOzBwAAMA8qzOH1b0U3EMAgMiy2midOhjjcWnjO9KYb6YWBEz8kbRrZdhVAwDSTGssrtdXlOjS4XN8g4CLh+Vp4rKdaonFwy477Tk1cwAAALOszhxW91JwDwEAIstqo3XyYIzHpIKp0uiLUwsCJv1YKl0VdtUAgDTT2BLT8/OLdcGDs3yDgO88lq/31pcpHvfCLjttOTlzAAAAc6zOHFb3UnAPAQAiy2qjdfpgjMekDW9Jz/ROMQj4ibR7ddhVAwDSTE1Di0bkFKrnoGzfIOCGpxdq/tYKeR5BQFs5PXMAAAAzrM4cVvdScA8BACLLaqNNi4MxHpPWvyE9/fXUgoDJ/yGVrQ27agBAmtl3sFED3i1Q9/5ZvkHAz8ct09qSqrBLTitpMXMAAIC0Z3XmsLqXgnsIABBZVhttWh2MsVZp3RTp6YtSCwJeu1kqWxd21QCANLO9sk73vLbGNwTo1jdTv5u4WkXltWGXnBbSauYAAABpy+rMYXUvBfcQACCyrDbatDwYY63S2snSqAtSCwKm/ELasyHsqgEAaaagtEa/Gr/cNwQ4q1+m/jJ1g/bUNIRdstPScuYAAABpx+rMYXUvBfcQACCyrDbatD4YYy3SmonSU+enFgS8fou0d2PYVQMA0sySokrdNHqRbxDQY2C2hmdtUXV9c9glOymtZw4AAJA2rM4cVvdScA8BACLLaqM1cTDGWqTVr0pP9kotCHjjV9K+TWFXDQBII57nKbtgj/qMnOcbBPQakqsx+UWqb24Nu2ynmJg5AACA86zOHFb3UnAPAQAiy2qjNXUwtjZLq16WnvxaakHAm/8plW8Ju2oAQBppjcU1ZUWJvjk8zzcIuHhYniYu26mWWDzssp1gauYAAADOsjpzWN1LwT0EADAvIyMj6WWt0Zo8GFubpVUvSU+cl0IQ8AXprV9L5YVhVw0ASCONLTE9N79Y5w/J9Q0CvvNYvt5bX6Z43Au77FCZnDkAAIBzrM4cBAAICgEAzCMAMKS1SVr5ovTEV1MLAqb+t1SxNeyqAQBppKa+RX/NKVTPQdm+QcANTy/U/K0V8rxoBgGmZw4AAOAMqzMHAQCCQgCAyLLaaK0ejEdobZJWvCA93tM/CHjwi9Lbv5Eqi8KuGgCQRvYdbFT/dwvUvX+WbxDw83HLtLakKuySAxeJmQMAAITO6sxhdS8F9xAAILKsNlqrB+MnammUlj8vjTw3tSDgnd9K+4vDrhoAkEa2V9bp7tfW+IYA3fpm6ncTV6uovDbskgMTqZkDAACExurMYXUvBfcQACCyrDZaqwdjUi0N0rJnpZE9UggCviS9e6d04IOwqwYApJGC0hr9avxy3xDgrH6Z+svUDdpT0xB2yV0ukjMHAAAInNWZw+peCu4hAEBkWW20Vg/GlDTXS0vHSI+dnVoQMO1u6cD2sKsGAKSRxUWVumn0It8goMfAbA3P2qLq+uawS+4ykZ45AABAYKzOHFb3UnAPAQAiy2qjtXowtklzvbTkGWlEd/8g4KGTpOn3SFU7w64aAJAmPM9TVsEe9Rk5zzcI6DUkV2Pyi1Tf3Bp22Z2OmQMAAATB6sxhdS8F9xAAILKsNlqrB2O7NNdJi0dJI85KLQh4738IAgAAKWuNxTVlRYm+OTzPNwi4eFieJi3bqZZYPOyyOw0zBwAACILVmcPqXgruIQBAZFlttFYPxg5pqpUWPSn99cwUgoCTpRm/l6p3hV01ACBNNLbE9Nz8Yp0/JNc3CLjqsXzNWF+meNwLu+wOY+YAAABBsDpzWN1LwT0EAIgsq43W6sHYKZoOSQsfl/7aLbUgYOYfpJrSsKsGAKSJmvoW/TWnUD0HZfsGAT94ZqEWbK2Q56VvEMDMAQAAgmB15rC6l4J7CAAQWVYbrdWDsVM1HpQWPCY9eoZ/EPDwP0iZf5JqdoddNQAgTew72Kj+7xaoe/8s3yDg5+OWad2u6rBLbhdmDgAAEASrM4fVvRTcQwCAyLLaaK0ejF2isUaaP0J69PTUgoCs+6WDe8KuGgCQJj6oqNXdr63xDQG69c3UnZNWq6i8NuyS24SZAwAABMHqzGF1LwX3EAAgsqw2WqsHY5dqqJbmPSo9kkoQ8I9S9l+kQ3vDrhoAkCY2lFbrV+OX+4YAZ/XLVN+3N2hPTUPYJaeEmQMAAATB6sxhdS8F9xAAILKsNlqrB2MgGqql/OHSI//iHwQMPUXK6Scd2hd21QCANLG4qFI/HL3INwg4d2C2Hsnaour65rBLToqZAwAABMHqzGF1LwX3EAAgsqw2WqsHY6DqD0hzh0rD/zmFIOBUKXeAVFsedtUAgDTgeZ6yCvaoz8h5vkFAryG5GpNfpPrm1rDL/kTMHAAAIAhWZw6reym4hwAAkWW10Vo9GENRf0Ca85A0/LTUgoBZA6XairCrBgCkgdZYXFNWlOibw/N8g4CLh+Vp0rKdaonFwy77CMwcAAAgCFZnDqt7KbiHAACRZbXRWj0YQ1W3X8obIg37J/8gYNiXpdmDD78HAAAfDc0xPTe/WOcPyfUNAq56LF8z1pcpHvfCLlsSMwcAAAiG1ZnD6l4K7iEAQGRZbbRWD0Yn1FUeXu4P+3IKQcA/HQ4N6g+EXTUAIA3U1LforzmF6jko2zcI+MEzC7Vga4U8L9wggJkDAAAEwerMYXUvBfcQACCyrDZaqwejU2orDn/cz9BT/YOA4acd/hghggAAQAr2HWxU/3cL1L1/lm8Q8IsXlmn9rurQamXmAAAAQbA6c1jdS8E9BACILKuN1urB6KTa8sNfAJxSEPDPh79YuKEq7KoBAGngg4pa3T15jW8I0K1vpu6ctFrFFbWB18jMAQAAgmB15rC6l4J7CAAQWVYbrdWD0WmH9kk5/aShp/gHAY/8i5Q/XGoI77/YBACkjw2l1frli8t9Q4Du/bPU9+0N2lPTEFhtzBwAACAIVmcOq3spuIcAAJFltdFaPRjTwqG9UvZfpIf/MYUg4HRp3qNSY03YVQMA0sCibZW68ZlFvkHAuQOz9UjWFlXXN3d5TcwcAAAgCFZnDqt7KbiHAACRZbXRWj0Y08rBMinrfunhf/APAh49XZo/Qmo8GHbVAADHeZ6nzA17dPXIeb5BQK8huRqTX6SG5liX1cPMAQAAgmB15rC6l4J7CAAQWVYbrdWDMS3V7JYy/5RiEHCGtOAxggAAgK+WWFyvLS/RN4fn+QYBlwzL06RlO9USi3d6HcwcAAAgCFZnDqt7KbiHAACRZbXRWj0Y01pNqTTzj9JDJ/sHAX/tJi18XGo6FHbVAADHNTTH9Oy8Yp0/JNc3CLjqsXzNWF+meNzrtH8/MwcAAAiC1ZnD6l4K7iEAQGRZbbRWD0YTqndJM+5LMQg4U1r0pNRUG3bVAADH1dS36NHsQp07MNs3CPjBMwu1YGuFPK/jQQAzBwAACILVmcPqXgruIQCAeRkZGUkva43W6sFoSnWJ9N7/SA+d5B8EjDhLWjxKaq4Lu2oAgOP21jSq3zsF6t4/yzcI+MULy7R+V3WH/n3MHAAAIAhWZw4CAASFAADmEQDAWVU7pOn3SA9+yT8IeOxsackzUnN92FUDABz3QUWt7p68xjcE6NY3U3dOWq3iivY9bcbMAQAAgmB15iAAQFAIABBZVhut1YPRtAPbpWl3tyEIGE0QAADwtaG0Wr98cblvCNC9f5b6vr1Be2oa2vTzmTkAAEAQrM4cVvdScA8BACLLaqO1ejBGwv5i6d07pQe/6B8EjOwhLR0rtbRtWQMAiJ5F2yp14zOLfIOAcwdm65GsLaqub07p5zJzAACAIFidOazupeAeAgBEltVGa/VgjJT9xdI7v00xCDhXWvac1NIYdtUAAId5nqfMDXt09ch5vkFAryG5GpNfpIbmWNKfycwBAACCYHXmsLqXgnsIABBZVhut1YMxkiq3SW//JrUg4PGe0vJxBAEAgKRaYnG9trxElwzL8w0CLhmWp8nLd6olFv/En8XMAQAAgmB15rC6l4J7CAAQWVYbrdWDMdIqtkpT/1sa8oUUgoCvSCtekFqbwq4aAOCwhuaYnp1XrPOH5PoGAVePnKeZG8oUj3tH/AxmDgAAEASrM4fVvRTcQwCAyLLaaK0ejJBUXii99evUgoAnzpNWjpdaU/scZwBANNXUt+jR7EKdOzDbNwi48ZlFWritIvFeZg4AABAEqzOH1b0U3EMAgMiy2mitHoz4kPIt0pv/6R8CDPl76cmvSateJggAACS1t6ZR/d4pUPf+Wb5BwC0vLtP6XdXMHAAAIBBWZw6reym4hwAAkWW10Vo9GPEJ9m2S3vhVakHAU72k1a9KsZawqwYAOKy4olZ3T17jGwJ065upnzyZrXGvM3MAAICuZXXPYXUvBfcQACCyrDZaqwcjkthbIL1+S4pBwPnSmokEAQCApNbvqtYtLy7zDQHO6jtTtz6To7LqhrBLBgAARlndc1jdS8E9BACILKuN1urBiBTs2SBN+UVqQcCoC6S1k6VYa9hVAwActmhbpW58ZpFvENBjYLYenrlZ+2v5EnoAANC5rO45rO6l4B4CAESW1UZr9WBEG5Stk167ObUg4OmLpHVTCAIAAEcVj3vK3LBHV4+c5xsEnDc4R0/Mel8HG3nSDAAAdA6rew6reym4hwAAkWW10Vo9GNEOu9dIr/0sxSDg69L6N6R4LOyqAQCOaonF9dryEl0yLM83CLjgwVl6bn6xGpo5VwAAQMdY3XNY3UvBPQQAiCyrjdbqwYgO2L1amvzT1IKAZ3pLG94iCAAAHFVDc0zPzivWVwf6f1HwJcPyNHHZTjW3xsMuGwAApCmrew6reym4hwAAkWW10Vo9GNEJSldJk36cWhAw+hKpYCpBAADgqGbkztFvnpmhHv39g4Bvj5ird9aUKhb3wi4bAACkGat7Dqt7KbiHAACRZbXRWj0Y0Yl2rZAm/ii1IGDMN6WN70hx/stNAMCR/jZzvJs9R0Pe26QeA7J9g4B/fWK+cjbulecRBAAAgNRY3XNY3UvBPQQAiCyrjdbqwYguULJMmnBTikHApdKmdwkCAAAJH505Sqvqdf9b63VWP/8nAm4avUiLtlUSBAAAAF9W9xxW91JwDwEAIstqo7V6MKIL7VwivXpjakHA2G9Jm6cTBAAAjjpzFJXX6u7Ja3xDgG59M/Xzccu0emdVSL8BAABIB1b3HFb3UnAPAQAiy2qjtXowIgA7Fkmv/CC1IODZK6QtMyT+y00AiCy/mWPj7hrd9vKKlIKA219dqS17Dgb8GwAAgHRgdc9hdS8F9xAAILKsNlqrByMCtH2B9NL3UwsCnrtCKswkCACACEp15lix/YB++twS3xDgzH6Z+v3ra7Wjsi6g3wAAAKQDq3sOq3spuIcAAJFltdFaPRgRMM+TPpgvvXRdakHA81dK72cTBABAhLRl5vA8T/nvl+uGpxf6BgHd+2ep3zsF2lPTEMBvAQAAXGd1z2F1LwX3EAAgsqw2WqsHI0LieVJxvjT+2tSCgHFXSVtzCQIAIALaM3PE454yN+xRn8fn+QYBPQZma+jMzdpf29SFvwUAAHCd1T2H1b0U3EMAgMiy2mitHowImedJRXOkF7+bWhDwQh9p22yCAAAwrCMzR2ssrjdX7dLlj871DQLOG5yjJ2Zv1aHGli74LQAAgOus7jms7qXgHgIARJbVRmv1YIQjPE/alnd4wZ9SEHCNVJRHEAAABnXGzNHUGtMri7er99DZvkHAhQ/N0rgFxWpsiXXibwEAAFxndc9hdS8F9xAAILKsNlqrByMc43nS1lmHP/InlSBg/LVS8VyCAAAwpDNnjrqmVo3JL1KvIbm+QcA3h+dp0rKdaonFO+G3AAAArrO657C6l4J7CAAQWVYbrdWDEY7yPOn9nMNfApxKEPDSdYe/XJggAADSXlfMHDX1LRqRU6ivDMrxDQKuHJGvd9eWKhbnTAEAwDKrew6reym4hwAAkWW10Vo9GOE4z5MKs6Tnvp1aEPDy9dKORWFXDQDogK6cOcoPNeqB6Rt1zoAs3yDge08u0KxNe+URLgMAYJLVPYfVvRTcQwCAyLLaaK0ejEgTnidtmSk9e0VqQcArP5B2Lgm7agBAOwQxc+w6UK8/v7VeZ/VLHgJ065upm8Ys1uKiyi6rBQAAhMPqnsPqXgruIQBAZFlttFYPRqSZeFza/J409lupBQGv/lAqWRZ21QCANghy5igqP6S7Jq/2DQG69c3UL15YpjUlVV1eEwAACIbVPYfVvRTcQwCAyLLaaK0ejEhT8bi0aZo05tLUgoAJ/ybtWvH/2Lvv8CjrrP/jmXFxRV0RWWwrBkTRBSysrov6rHXVta1uda37KOq6Rbf/CKD0jggIWKiKCAqLtCQkEHov0nvvIYSQQkKSycz9+f3Bz/xEMfcQktz3nHm/ruv7x2NmMid7Xc/3HM4nmfG6agBAFLyYOdbuy9Pzw5dGFQS89NFybcrMr7HaAABA9bC657C6l4L/EAAgblm9aK02RsS4SERa919p4I+jCwI+/pW0b4XXVQMAKuDlzLFkxxH9+t2FriFAw6Rk/W3sSu0+UljjNQIAgKphdc9hdS8F/yEAQNyyetFabYwwIhKW1o6X3rk5uiBg9G+k/V94XTUA4BS8njkcx9GsTVl6qP881yCgcZsUtfl8rTLzij2pFQAAVJ7XM0d1sbqXgv8QACBuWb1orTZGGBMJS2s+kwa0iC4I+OR30oFVXlcNAPgKv8wckYijqWsO6J4+s12DgCbtUtU1eYNyCks9rRkAAETPLzNHVbO6l4L/EADAvISEhAqPtYvWamOEUeEyadUYqf+N0QUBY56SDq7xumoAgPw3c5SFI/ps2V7d1j3DNQho1j5N/WZsUUFxyOuyAQCAC7/NHFWFAAA1hQAA5hEAADEgXCatHC31vyG6IGDs01LmOq+rBoC45teZozgU1vD5O/WjztNdg4CbOqVryNwdKg6FvS4bAAB8C7/OHGeKAAA1hQAAccvqRWu1MSJOhEPSF6Okfs2jCwI+fVY6tMHrqgEgLvl95igsKdPAmVvVvEOaaxBwa7cZGr1kt0LhiNdlAwCAr/H7zFFZVvdS8B8CAMQtqxet1caIOFNWKq0YKb3dLIogoI407g9S1iavqwaAuBIrM0duUal6pG7StW+kugYBd/aepUmr9isScbwuGwAA/D+xMnOcLqt7KfgPAQDiltWL1mpjRJwqK5WWD5f6No0uCBj/gnR4s9dVA0BciLWZIyu/WG9OWqer26a4BgEP9pur6RsOyXEIAgAA8FqszRzRsrqXgv+YDQAcx9GyZcs0cOBAtWrVSvfee6+aNm2qxMREJSYmqmnTprrvvvvUqlUrDRw4UMuWLWPAjzNWL1qrjRFxrqxEWjZUeuu66IKA/74kZW/zumoAMC1WZ469OUX652er1Sip4hAgsXWyHh+0QAu3ZXtdMgAAcS1WZw43VvdS8B9TAYDjOEpLS9Ozzz6revXqKRgMntapV6+enn32WU2bNk2RCO//aZ3Vi9ZqYwQkSaFiackH0lvXugcBHS+UJrwiHdnuddUAYFKszxxbDxXo1Y9XuIYAia2T9fTQxVq556jXJQMAEJdifeb4Nlb3UvAfEwFAXl6eevXqpSuvvLJ8mR8IBCp1vnx+gwYN1KtXL+Xl5Xn946GaWL1orTZG4CShYmnxe1Kfa6IIAupKn78q5ezwumoAMMXKzLFmX66eHbYkqiDg5Y+Wa3NmgdclAwAQV6zMHF9ndS8F/4npAKCoqEhdu3ZV3bp1v7H4P+uss3T99dfrmWeeUdeuXTVy5EhNnTpVGRkZmjFjhqZOnaoRI0aoS5cueuaZZ3T99dfrrLPO+kYYULduXXXt2lVFRUVe/7ioYlYvWquNETil0HFp0WCp99XRBQGT/iwd3eV11QBggrWZY9H2I/rVuwtdQ4CGScn6+6ertPtIodclAwAQF6zNHF+yupeC/8RsADB27FhdccUVJy3969atq+eff14TJ05Ubm7uaX/P3NxcTZw4Uc8//7zq1q17UhBwxRVXaOzYsdXwk8ArVi9aq40RqFBpkbTwHanXVe5BQKeLpMl/lY7u9rpqAIhpFmcOx3E0c9Mh/bz/PNcgoHGbFLX9fK0y84q9LhsAANMszhyS3b0U/CdmA4Cv/qb+bbfdptGjR6ukpKTKvn9JSYk+/vhj3X777Sf9VQHssHrRWm2MQFRKC6UF/aVejaIIAupJU16Xcvd6XTUAxCTLM0ck4mjK6gO6u89s1yCgSbtUdUvZqKOFpV6XDQCASVZnDqt7KfhPTAcA9913n+bOnVvtrzV37lzdd999CgaD1f5aqDlWL1qrjRE4LSXHpHl9pZ6J0QUBU/8h5e33umoAiCnxMHOUhSMau3SPWnbPcA0CmrVPU/8ZW3WspMzrsgEAMMXqzGF1LwX/idkAIC0trcZfMz09vcZfE9XH6kVrtTEClVJSIM3tI/W40j0I6Px9KflfUv4Br6sGgJgQTzNHcSisYfN3qkXn6a5BQIvO0zV03g4Vh8Jelw0AgAlWZw6reyn4T8wGAMCZsnrRWm2MwBkpzpfm9JJ6NIgiCKgvpfxHyj/oddUA4GvxOHMcKynTOxlb1bx9mmsQ8JNuGfpkyR6FwhGvywYAIKZZnTms7qXgPwQAiFtWL1qrjRGoEsdzpdk9pO5RBAFdLpamJUkFh7yuGgB8KZ5njtyiUnVP3ahr30h1DQLu6j1Lk1btVyTieF02AAAxyerMYXUvBf8hAEDcsnrRWm2MQJU6nivN6iZ1vyKKIOASKa2tdCzL66oBwFeYOaRD+cV6Y+I6NW6T4hoEPNhvrmZsOCTHIQgAAOB0WJ05rO6l4D8EAIhbVi9aq40RqBZFOVJGZ6nb5e5BQNdLpfR2UmG211UDgC8wc/x/e44U6R+frVLDpIpDgMTWyXpi8AIt3E4vAQAgWlZnDqt7KfgPAQDiltWL1mpjBKpVUY40o6PU9bIogoDLpOntpcIjXlcNAJ5i5vimLYcK9MdRK1xDgMTWyXp22BKt3pvrdckAAPie1ZnD6l4K/hPTAUCnTp2q/cAuqxet1cYI1IjCIyeW+10vdQ8Cul0uZXQ6ER4AQBxi5vh2T/a2vAAAIABJREFUq/fm6tlhS6IKAl4ZtVxbDhV4XTIAAL5ldeawupeC/8R0ABAIBBQMBqv1wC6rF63VxgjUqGOHT7zdT5dLoggCfiDN7CIdP+p11QBQo5g53C3cnq1fDl7gGgI0TErWPz5dpT1HirwuGQAA37E6c1jdS8F/Yj4AqM5DAGCb1YvWamMEPHEs68QHAHe52D0I6H6FNKv7iQ8YBoA4wMwRHcdxlLHxkB7sN9c1CGjcJkXtJq5VVn6x12UDAOAbVmcOq3sp+E9MBwBPPvmkfv/731fZueWWW8oX/wQA9lm9aK02RsBTBYekaUnRBQE9GkhzeknF+V5XDQDVipnj9EQijiat2q+7es9yDQKufSNV3VM36mhhqddlAwDgOaszh9W9FPwnpgOAqrJ37169/PLLqlWrVvlb/wQCAX3nO9/xujRUI6sXrdXGCPhC/kEp5T9S5+9HEQRcKc3tLZXwvs4AbGLmqJxQOKIxS/foJ90yXIOA5u3TNCBjq46VlHldNgAAnrE6c1jdS8F/4joAyMrK0uuvv65zzjnnpMV/IBDQL3/5S61fv97rElGNrF60Vhsj4Ct5+6Xkf0YXBPRsKM3rK5Uc87pqAKhSzBxnpjgU1tB5O9Si83TXIKBF5+kaOm+HikNhr8sGAKDGWZ05rO6l4D9xGQAcPXpUrVu31vnnn3/S0j8QCOihhx7SF1984XWJqAFWL1qrjRHwpbx90tS/S53quQcBvRpJC/pLpYVeVw0AVYKZo2ocKylT/xlb1ax9mmsQ0LJ7hsYu3aOycMTrsgEAqDFWZw6reyn4T1wFAAUFBerYsaPq1KnzjcX/3XffrYULF3pdImqQ1YvWamMEfC13jzT5NanTRe5BQO/G0sKBUmmR11UDwBlh5qhaRwtL1T1lo5q0S3UNAu7uM1uTVx9QJOJ4XTYAANXO6sxhdS8F/4mLAOD48ePq2bOn6tWr943Ff8uWLZWRkeF1ifCA1YvWamMEYsLRXdKkP0sd60YRBFwtLRoshY57XTUAVAozR/U4lF+sdhPXqnGbFNcg4MF+c5Wx8ZAchyAAAGCX1ZnD6l4K/mM6ACgtLdWAAQN06aWXfmPx36JFC02dOtXrEuEhqxet1cYIxJScHdLEP0kdL3QPAvo0kZa8L4WKva4aAE4LM0f12nOkSP/4dJUaJlUcAiS2Ttav3l2oxTuOeF0yAADVwurMYXUvBf8xGQCEw2F98MEHatCgwTcW/02bNtW4ceO8LhE+YPWitdoYgZh0ZLs04ZXogoC3rpOWDpHKSryuGgCiwsxRMzZnFujlj5a7hgCJrZP17LAlWrMv1+uSAQCoUlZnDqt7KfiPqQDAcRyNGjVKjRs3VjAYPGn537hxY40aNYo/j0U5qxet1cYIxLTsrdJ/X5I61HEPAvo2lZYNk8pKva4aACrEzFGzVu3N1TNDl0QVBPxx1AptPVTgdckAAFQJqzOH1b0U/MdMADB+/Hg1bdr0G4v/Bg0a6IMPPlBZWZnXJcJnrF60VhsjYMLhzdL4F6ILAt5uJq0YKYVDXlcNAKfEzOGNhduy9figBa4hQKOkZP3js1Xam8OHzgMAYpvVmcPqXgr+E/MBwNSpU9WiRYtvLP4vvfRSDRgwQKWl/AYlTs3qRWu1MQKmZG2UPnvePQTocIHUr7n0xSiCAAC+w8zhHcdxNH3DIT3w9lzXIODqtil6c9I6ZeXzWTMAgNhkdeawupeC/8R0AHDbbbd9Y/Ffr1499erVS8ePH/e6PPic1YvWamMETMpcJ336THRBQP8bpJWjpTB/0QbAH5g5vBeJOJq0ar/u7D3LNQi49o1U9UjdpNwifkEKABBbrM4cVvdS8J+YDgACgUD58j8YDOq2227T+PHjlZ6eXmUHdlm9aK02RsC0g2uksU9HFwQMuElaPZYgAIDnmDn8IxSO6JMle/STbhmuQUDz9ml6J2OrCkvoIwCA2GB15rC6l4L/mAgAquucddZZXv+IqEZWL1qrjRGICwdWSZ88GV0Q8M6PpDXjpEjY66oBxClmDv8pDoU1ZO4O3dQp3TUI+FHn6Ro+f6eKQ/QRAIC/WZ05rO6l4D+mAoAv3waoqk4wGPT6R0Q1snrRWm2MQFzZv0Ia/ZvogoCBP5bWjpciEa+rBhBnmDn8q6A4pH4ztqhZ+zTXIOC27hn6dNkelYXpIwAAf7I6c1jdS8F/YjoASExMVMOGDav1wC6rF63VxgjEpX3LpY9/FV0QMOgn0vrPCQIA1BhmDv/LKSxVt5SNatIu1TUIuKfPbE1ZfUCRiON12QAAnMTqzGF1LwX/iekAADgTVi9aq40RiGt7l0ofPR5dEDD4NmnDZIIAANWOmSN2ZOYVq+3na9W4TYprEPBQ/3matSlLjkMQAADwB6szh9W9FPyHAABxy+pFa7UxApC0e5H04aPRBQHv3iFtnCqxwAFQTZg5Ys+u7EL9bexKNUyqOARIbJ2sX7+7UEt2HPG6ZAAAzM4cVvdS8B8CAMQtqxet1cYI4Ct2LZBGPhJdEPD+T6XNqQQBAKocM0fs2pSZr5c+Wu4aAiS2TtZzw5dq7b48r0sGAMQxqzOH1b0U/IcAAHHL6kVrtTECOIWdc6XhP48uCPjgLmlLGkEAgCrDzBH7Vu45qqeGLI4qCHj14xXallXgdckAgDhkdeawupeC/xAAIG5ZvWitNkYA38JxpB2zpWH3RxcEDLlH2jqDIADAGWPmsGPBtmz9YtAC1xCgUVKy/jVutfbmFHldMgAgjlidOazupeA/MRsAlJSUxMVrovpYvWitNkYALhxH2pYhDb0vuiBg6M+k7TMJAgBUGjOHLY7jKH19pu5/e45rEHB12xS1n7ROWQXFXpcNAIgDVmcOq3sp+E/MBgANGjTQiBEjFIlEqv21IpGIhg4dqiuuuKLaXws1x+pFa7UxAoiS40hbp0sf3B1dEDDsgRN/QUAQAOA0MXPYFI44mrhyv37aa5ZrEHDdG9PUc9om5RWFvC4bAGCY1ZnD6l4K/hOzAUAgEFAwGFSjRo00aNAgHTt2rMpfo6CgQO+8844aNmyoYDCoYDBY5a8B71i9aK02RgCnyXFOvOf/+z+NLggY8ZC0a77XVQOIIcwctoXCEX28eLd+3HWGaxDQvEOaBs3apsKSMq/LBgAYZHXmsLqXgv/EbADwyCOPKBAIlAcB3/ve9/Tiiy8qPT1dZWWVHzzLysqUlpamF154Qeeff76CwWD56zz22GNV+BPAa1YvWquNEUAlOY60KUV6747ogoCRj0i7F3pdNYAYwMwRH4pDYX0wd7tu7JTuGgTc3GW6RizYqZKysNdlAwAMsTpzWN1LwX9iNgCQpOTkZDVr1uykICAYDKpOnTp65JFH1KNHD6WkpGjHjh2nfP/+kpISbd++XSkpKerevbsefvhh1alTp/z7fPl9mzVrppSUFA9+QlQnqxet1cYI4Aw5jrRxivTu7dEFAR8+Ju1Z7HXVAHyMmSO+FBSH9Pb0LWr65jTXIOD2HjP12bK9KgtX/9u1AgDsszpzWN1LwX9iOgCQTnxY1ccff6zrr7++fGH/1TDgq+f8889X/fr1dfHFF5f/dv/Xz1e/xw033KBPPvlEDu+LbJLVi9ZqYwRQRSIRacMkaXDL6IKAUU9Ie5d5XTUAH2LmiE9HjpWoa/IGXdMu1TUIuOet2Upec1CRCP+eAgBUntWZw+peCv4T8wHAV2VkZOipp57Sueeee9Ii/3TOueeeq6efftrcpRLPEhISKjzWLlqrjRFAFYtEpHUTpEG3RhcEfPxraf8Kr6sG4CPMHPHtYN5xJU1Yq6vapLgGAQ8PmKdZm7P4xSoAQKVYnTkIAFBTTAUAXyoqKtKUKVP02muv6dZbb1Xt2rUrXPj/5Cc/0WuvvaYpU6aoqKjI6/JRxQgAAKACkbC0drz0zs3RBQGjfysdWOl11QB8gJkDkrQru1Cvj12phkkVhwCJrZP1m/cWaunOHK9LBgDEGKszBwEAaorJAOBUMjMztXr1ai1cuFALFy7U6tWrdejQIa/LgoesXrRWGyOAahYJS2s+kwa0iC4IGPN76eBqr6sG4CFmDnzVxoP5avXhctcQILF1sp4fvlTr9ud5XTIAIEZYnTms7qXgP3ETAABfZ/WitdoYAdSQcJm0aozU/8bogoCxT0uZ67yuGoAHmDlwKit2H9WTHyyKKgj48+gvtC3rmNclAwB8zurMYXUvBf8hAEDcsnrRWm2MAGpYuExaOVrqd310QcCnz0qHNnhdNYAaxMyBb+M4juZvzdYvBs53DQEaJSXr3+NWa99R3ooVAHBqVmcOq3sp+I/JAKBFixZq0aKFbr/9doVCIa/LgU9ZvWitNkYAHgmHpC8+kt5uHkUQUEca9wcpa5PXVQOoAcwccOM4jtLWZ+r+t+e4BgHXtE1Vh8nrdbigxOuyAQA+Y3XmsLqXgv+YDACCwaCCwaAeffRRr0uBj1m9aK02RgAeKyuVlo+Q3m4WXRAw/kXp8BavqwZQjZg5EK1wxNHnK/fpf3rNdA0CrntjmnqnbVJeEb/IBQA4werMYXUvBf8xGQDUr19fwWBQr7zyitelwMesXrRWGyMAnygrkZYNk/r+0D0I6Hih9N+XpOxtXlcNoBowc+B0lZZFNGrxbv246wzXIOD6DmkaNGubikrLvC4bAOAxqzOH1b0U/MdkANCiRQsFg0E9+eSTXpcCH7N60VptjAB8pqxEWjpEeuva6IKAz/8oHdnuddUAqhAzByrreGlY78/Zrhs7pbsGATd3maGRC3aqpCzsddkAAI9YnTms7qXgPyYDgHbt2ikQCKhBgwZelwIfs3rRWm2MAHwqVCwtfk/qc00UQUBdaeKfpZydXlcNoAowc+BM5ReH1Hf6FjV9c5prEHB7j5n6bPlelYUjXpcNAKhhVmcOq3sp+I/JAGDHjh2qXbu2gsGghg8f7nU58CmrF63VxgjA50LHpUWDpd5XuwcBnS6SJv1FOrrb66oBnAFmDlSVI8dK1GXqBl3TLtU1CLj3rdlKWXtQkYjjddkAgBpideawupeC/5gMACTpgw8+UCAQ0DnnnKOxY8d6XQ58yOpFa7UxAogRpUXSwnekXldFFwRMeV3K3et11QAqgZkDVe1A7nElTVijq9qkuAYBj7wzT7M3Z8lxCAIAwDqrM4fVvRT8x2QAsGfPHu3Zs0d9+vRRrVq1FAwG1bJlS/Xv31/z58/X5s2byx/jdmCX1YvWamMEEGNKC6X5/aSeDaMIAupJU/8h5e33umoAp4GZA9VlZ3ahXhuz0jUESGydrN++t0jLduV4XTIAoBpZnTms7qXgPyYDgEAgoGAwWH6+/n9He8466yyvfxRUI6sXrdXGCCBGlRRI896Seia6BwGdvy8l/0vKP+B11QCiwMyB6rbhQL5eHLksqiDgDyOWat3+PK9LBgBUA6szh9W9FPzHdABwqiDgdE4wGPT6R0E1snrRWm2MAGJccb40t7fU48oogoD6Uur/kQoyva4aQAWYOVBTVuzO0e/eXxRVEPDnT77Q9sPHvC4ZAFCFrM4cVvdS8B+TAUBiYqIaNmxYJQd2Wb1orTZGAEYU50mze0rdG7gHAV0ulqa1kY5leV01gFNg5kBNchxH87Ye1mMD57uGAI2SkvXvcau172iR12UDAKqA1ZnD6l4K/mMyAACiYfWitdoYARhzPFea1U3qfkUUQcAlUlpb6dhhr6sG8BXMHPCC4ziati5TP+s7xzUIuKZtqjpMXq/DBSVelw0AOANWZw6reyn4DwEA4pbVi9ZqYwRgVFGONLOL1O0H7kFA10ul6W9KhUe8rhqAmDngrXDE0X9X7NMdPWe6BgHXvTFNvdM2Ka8o5HXZAIBKsDpzWN1LwX8IABC3rF60VhsjAOOKcqQZHaWul7kHAd0uP/HYohyvqwbiGjMH/KC0LKJRi3bplq4zXIOA6zukadCsbSosKfO6bADAabA6c1jdS8F/CAAQt6xetFYbI4A4UXhEmt7+xG/7uwYBP5AyOhMEAB5h5oCfHC8N670523Vjp3TXIODmLtM1YsFOlZSFvS4bABAFqzOH1b0U/CfuAoDMzEytW7dOixYt0rp165SZmel1SfCI1YvWamMEEGeOHZbS2514/3+3IKD7FSc+T+B4rtdVA3GFmQN+lF8cUt/pW9T0zWmuQcDtPWbqs2V7VRaOeF02AKACVmcOq3sp+E9cBADz58/X008/rcsvv1zBYPAb5/LLL9czzzyj+fPne10qapDVi9ZqYwQQpwoOSdPaSF0ujiIIaCDN7ikV53ldNRAXmDngZ0eOlajL1A26pl2qaxBwT5/ZmrrmgCIRx+uyAQCnYHXmsLqXgv+YDgCOHDmixx9/vHzRHwgEvvV8+ZgnnnhCR47w4YLxwOpFa7UxAohzBZlSamupc333IKDHldKc3lJxvtdVA6YxcyAWHMw7rqQJa3VVmxTXIOCh/vM0a1OWHIcgAAD8xOrMYXUvBf8xGwBkZ2fruuuuO+Xiv3bt2vr+97+v2rVrnzIIuO666wgB4oDVi9ZqYwQASVL+ASnl31Ln77sHAT0TpXlvSSUFXlcNmMTMgViyM7tQr49dqYZJFYcAia2T9et3F2rJDv49CAB+YXXmsLqXgv+YDQAeeOCB8oV+IBDQww8/rM8//1xZWVknPe7w4cOaOHGiHnvssZP+EuDBBx/0qHLUFKsXrdXGCAAnydsnTf2H1KleFEFAQ2n+21JpoddVA6YwcyAWbTyYr1YfLncNARJbJ+u54Uu1dh9vKwcAXrM6c1jdS8F/TAYAM2bMKF/mn3feeZo4cWJUz0tOTtb5559f/twZM2ZUc6XwktWL1mpjBIBTyt0rTfmb1Oki9yCg11XSwnek0iKvqwZMYOZALPtiz1H9/oPFUQUBr368QlsP8ddkAOAVqzOH1b0U/MdkANCqVavyJf6YMWNO67mffvpp+XNffPHFaqoQfmD1orXaGAGgQkd3S5P/KnWs6x4E9L5aWjRICh33umogpjFzwIIF27L1i0ELXEOARknJ+udnq7U3hxAZAGqa1ZnD6l4K/mMyALj22msVCAR0zTXXVOr5TZo0USAQUJMmTaq4MviJ1YvWamMEgKjk7JQm/jm6IKBPE2nxe1Ko2OuqgZjEzAErHMdR+vpM3f/2HNcg4Oq2KXpj4jpl5dM7AKCmWJ05rO6l4D8mA4ALLrhAwWBQzz33XKWe/9xzzykQCOiCCy6o4srgJ1YvWquNEQBOy5Ht0uevSh0vdA8C3rpOWjpEKivxumogpjBzwJpwxNHElfv1016zXIOAa99IVffUjTpaWOp12QBgntWZw+peCv5jMgCoXbu2gsGgWrVqVannf/kWQrVr167iyuAnVi9aq40RACole5s04eXogoC+TaXlw6UyljlANJg5YFUoHNHoJbt1a7cZrkFA8/ZpGpCxVcdKyrwuGwDMsjpzWN1LwX9MBgCJiYkKBoNq2bJlpZ5/2223KRAIKDExsWoLg69YvWitNkYAOCOHt0jjX5Q61HEPAt5uLq34UAqHvK4a8DVmDlhXHApryNwduqlTumsQ0KLzdA2dt0PFobDXZQOAOVZnDqt7KfiPyQDgiSeeKP8g35UrV57Wc1evXq1gMKhgMKjHH3+8miqEH1i9aK02RgCoElkbpXF/cA8BOlwg9bte+mIUQQDwLZg5EC8KikPqN2OLmrVPcw0CWnbP0JilexQKR7wuGwDMsDpzWN1LwX9MBgAjRowoDwCaNGmi/fv3R/W8gwcP6rrrrit/7siRI6u3UHjK6kVrtTECQJU6tF769NnogoD+N0qrPpHCvL0D8FXMHIg3OYWl6payUU3apboGAXf1nqVJq/YrEnG8LhsAYp7VmcPqXgr+YzIAKCsrU+PGjRUMBhUIBHTRRRepf//+Onr06Ckfn5ubq4EDB6p+/frlv/1/9dVXq6yMf+hbZvWitdoYAaBaZK6Vxj4dXRAwoIW0+lMpwts7ABIzB+JXZl6x2n6+Vo3bpLgGAQ/2m6sZGw7JcQgCAKCyrM4cVvdS8B+TAYAkLVmyROedd155CBAMBvWd73xHzZs31yOPPKLf/e53euSRR3T99derVq1a5Y8LBAI6//zztXTpUq9/BFQzqxet1cYIANXqwCrpkyejCwIG3iKtHU8QgLjHzIF4t+dIkf7x6So1TKo4BEhsnawnBi/Qwu3ZXpcMADHJ6sxhdS8F/zEbAEjS3LlzdcUVV5Qv9r8MAr5+vvr1K664QvPmzfO6dNQAqxet1cYIADVi/wpp9G+iCwIG3SqtmyBFeJ9nxCdmDuCEzZkFemXUctcQILF1sp4ZukSr9uZ6XTIAxBSrM4fVvRT8x3QAIJ14e5/27dvrsssuO2nR//Vz2WWXqUOHDsrNZRiLF1YvWquNEQBq1L7l0qhfRhcEDG4pbZhEEIC4w8wBnGzV3lw9O2xJVEHAyx8t1+bMAq9LBoCYYHXmsLqXgv+YDwC+auPGjfrkk0/Uv39/de3aVf3799cnn3yijRs3el0aPGD1orXaGAHAE3uXSh89Hl0Q8O7t0sapEu/zjDjBzAGc2sLt2Xpi8ALXEKBhUrL+/ukq7T5S6HXJAOBrVmcOq3sp+I/JAGDy5MnlJxQKeV0OfMrqRWu1MQKAp3Yvkj58NLog4L3/kTanEgTAPGYO4Ns5jqOMjYf0YL+5rkFA4zYpavP5WmXmFXtdNgD4ktWZw+peCv5jMgD48r3++X8gVMTqRWu1MQKAL+ycJ414KLog4IO7pC3pBAEwi5kDcBeJOJq8+oDu6j3LNQho0i5VXZM3KKew1OuyAcBXrM4cVvdS8B+TAUDt2rUVDAb17LPPel0KfMzqRWu1MQKAbziOtGOONOyB6IKAIfdK22YQBMAcZg4geqFwRGOX7lHL7hmuQUCz9ml6e/oWFRTz1+wAINmdOazupeA/JgOAq666SsFgUC+99JLXpcDHrF60VhsjAPiO40jbZ0pDfxZdEDD0ZyceTxAAI5g5gNNXHApr2PydatF5umsQcFOndH0wd7uKQ2GvywYAT1mdOazupeA/JgOAxx9/XIFAQHfffbfXpcDHrF60VhsjAPiW40hbZ0hD7okuCBj+oLRzrtdVA2eMmQOovGMlZXonY6uat09zDQJ+0i1DY5buUVk44nXZAOAJqzOH1b0U/MdkAPDpp58qEAjo7LPP1t69e70uBz5l9aK12hgBwPccR9qSJr1/Z3RBwIiHpV3zva4aqDRmDuDM5RaVqkfqJl37RqprEHB3n9masvqAIhH+kgxAfLE6c1jdS8F/TAYAkUhEP/3pTxUIBHTvvfeqpKTE65LgQ1YvWquNEQBihuNIm1Kk9+6ILgj48FFp9yKvqwZOGzMHUHWy8ov15qR1urptimsQ8PCAeZq1OUsObykHIE5YnTms7qXgPyYDAEk6ePCgbrnlFgWDQd10001KT0/3uiT4jNWL1mpjBICY4zjSxinSu7dHFwR89Li0d6nXVQNRY+YAqt7enCL987PVapRUcQiQ2DpZv31vkZbvyvG6ZACodlZnDqt7KfiPyQDghRde0AsvvKCnnnpKtWrVUjAYVDAYVL169XTffffp97//ffljKjovvvii1z8KqpHVi9ZqYwSAmBWJSOsnSoN+El0Q8PGvpH0rvK4acMXMAVSfLYcK9Mqo5a4hQGLrZL04cpk2HMj3umQAqDZWZw6reyn4j8kAIBAIlC/9vzyBQOCU/93twC6rF63VxggAMS8Skdb9Vxr44+iCgNG/lQ6s9Lpq4FsxcwDVb9XeXD09dLFrCNAwKVmvjVmpXdmFXpcMAFXO6sxhdS8F/zEbAFTFIQCwzepFa7UxAoAZkbC0drz0zs3RBQFjfi8dXO111cA3MHMANWf+1mz9YuB81yCgcZsUtf18rQ7lF3tdMgBUGaszh9W9FPzHZADw4YcfVtmBXVYvWquNEQDMiYSl1Z9KA26KLggY+7SUuc7rqoFyzBxAzXIcR9PWHdR9fee4BgHXvpGq7qkblVtU6nXZAHDGrM4cVvdS8B+TAQAQDasXrdXGCABmhcukVZ9I/W+ILgj47Dnp0AavqwaYOQCPhCOOxi3fq9t7zHQNApp3SNPAmVtVWFLmddkAUGlWZw6reyn4j8kAYM2aNeUnHA57XQ58yupFa7UxAoB54ZD0xSipX/MogoA60rj/lQ5v9rpqxDFmDsBbJWVhjViwUz/qPN01CLi5y3SNXLBTJWX8+xhA7LE6c1jdS8F/TAYAX75/f6NGjbwuBT5m9aK12hgBIG6UlUorRkpvN4suCPjvS1L2Nq+rRhxi5gD84VhJmQZkbFXz9mmuQcAdPWfqvyv2KRxxvC4bAKJmdeawupeC/5gMAM4++2wFg0E99dRTXpcCH7N60VptjAAQd8pKpWXDpL4/dA8COl4off5H6ch2r6tGHGHmAPzlaGGpuqVsVJN2qa5BwP1vz1Ha+kw5DkEAAP+zOnNY3UvBf0wGAFdeeaWCwaBeeeUVr0uBj1m9aK02RgCIW2Ul0tIh0lvXRhEE1JUm/Vk6usvrqhEHmDkAf8rMK1bShLW6qk2KaxDw+KAFWrgt2+uSAaBCVmcOq3sp+I/JAOCBBx5QIBDQgw8+6HUp8DGrF63VxggAcS9ULC1+T+pzjXsQ0OkiacrrUu5er6uGYcwcgL/tzC7UX8esdA0BElsn65mhS7R6b67XJQPAKVmdOazupeA/JgOAYcOGKRAI6Nxzz1VOTo7X5cCnrF60VhsjAOD/CR2XFg2SejeOIgioJ039h5S33+uqYRAzBxAb1h/I0/+OWBpVEPDHUSu0LavA65IB4CRWZw6reyn4j8kAoLi4WM2aNVMwGNSTTz7pdTnwKasXrdXGCAD4mtJCaUF/qWdD9yCg8/ellP9IBZleVw1DmDmA2LJ0Z45+895C1xCgUVKy/jV7KdF0AAAgAElEQVRutfYdLfK6ZACQZHfmsLqXgv+YDAAkadOmTUpMTFQwGNRDDz2kLVu2eF0SfMbqRWu1MQIAvkVJgTTvLanHle5BQJeLpWltpGNZXlcNA5g5gNjjOI5mbcrSz/vPcw0Crmmbqg6T1yv7WInXZQOIc1ZnDqt7KfiPyQCgU6dO6tSpk1577TXVqlVLwWBQwWBQN910k1q1aqWkpKTyx7gd2GX1orXaGAEALorzpTm9pR4NoggCLpHS35AK+eBHVB4zBxC7IhFHk1bt1529Z7kGAT98c5r6pm9WfnHI67IBxCmrM4fVvRT8x2QAEAgEypf+X55T/bdoDuyyetFabYwAgCgdz5VmdZe6X+EeBHS9TJrRQSriM5Nw+pg5gNgXCkc0eslu3dpthmsQcGOndH0wd7uKQ2GvywYQZ6zOHFb3UvAfswFAVRwCANusXrRWGyMA4DQV5UgZnaVul7sHAd1+IM3sIh0/6nXViCHMHIAdxaGw3p+zXTd2SncNAn7SLUOfLNmjUDjiddkA4oTVmcPqXgr+YzIA6NixY5Ud2GX1orXaGAEAlVR4RJreXup6qXsQ0P0KaXYPqTjP66oRA5g5AHvyi0N6K32zfvjmNNcg4O4+szV59QFFIo7XZQMwzurMYXUvBf8xGQAA0bB60VptjACAM3TssJTW9sT7/7sFAT0aSHN7n/iAYeBbMHMAdh0uKFGHyet1TdtU1yDgof7zNGtTlhyHIABA9bA6c1jdS8F/CAAQt6xetFYbIwCgihQckqYlSZ3ruwcBPROleX2lkmNeVw0fYuYA7Nt3tEj/GrdajZIqDgESWyfrN+8t1LJdfKYMgKpndeawupeC/xAAIG5ZvWitNkYAQBXLPyil/Fvq/H33IKBXI2nBAKm0yOuq4SPMHED82HqoQK+MWu4aAiS2TtYLI5dpw4F8r0sGYIjVmcPqXgr+ExcBQHFxsSZOnKh//etf+t3vfqf7779f99577zce5ziOioqKVFRUpFAo5EGl8WHz5s3q27evHnjgAV166aWqVauWLrjgAt1yyy3q1KmTjh6tmQ8gtHrRWm2MAIBqkrdPmvp3qVM99yCg99XSosFS6LjXVcMHmDmA+LNqb66eHro4qiDgtTErtSu70OuSARhgdeawupeC/5gPAPr06aP69esrGAyWn0AgoGAw+I3HHjlyROedd56CwaBuu+02D6q1b/v27UpISCg/l19+uW655Rb94Ac/KP9vl112mdauXVvttVi9aK02RgBANcvdI01+Tep0kXsQ0KeJtOR9KVTsddXwEDMHEL8WbMvWLwbOdw0BGrdJUZvP1+pQPv0CQOVZnTms7qXgP2YDgFAopIcffvikpf9Xz6kCAEn6y1/+Uv71bdu21XDV9m3btk0XX3yxOnfurB07dpz0tQULFigxMVEJCQm66qqrVFJSUq21WL1orTZGAEANydkpTfyz1LGuexDw1nXSsqFSWfX2bPgTMwcQ3xzH0bR1mbqv7xzXIKBJu1R1T9mo3KJSr8sGEIOszhxW91LwH7MBQKtWrcqX/bVr19arr76qcePG6YknnqgwAFi8eHH51wcMGFDDVdtXXFyswsJv/zPQhQsXlv8lwOTJk6u1FqsXrdXGCACoYUe2SxNekTpe6B4EvN1MWjFSCvMWivGEmQOAJIUjjsav2Kfbe8x0DQKat0/TwJlbVVhS5nXZAGKI1ZnD6l4K/mMyAFixYkX5b/43aNBAmzZtKv/aX//61woDAEmqW7eugsGgfvOb39REufiaOnXqKCEhQT179qzW17F60VptjAAAj2Rvlf7bSupQxz0I6He9tPJjKcxiJx4wcwD4qpKysEYu2Kmbu0x3DQJu7jJdIxfsVElZ2OuyAcQAqzOH1b0U/MdkAPDVt/GZM2fOSV+LJgC49957FQgE1KxZs+ouVZIUDoe1Zs0aDRs2TK+++qpuvvlm1apVq/w34e+6665Kf+/S0lKNGjVKDz30kK688kp997vf1aWXXqrbbrtNffr0UXZ2dtX9IFUgHA7r3HPPVUJCggYOHFitr2X1orXaGAEAHsvaJI37g3sI0OECqf+N0qoxBAHGMXMAOJXCkjINnLlVzdunuQYBt/eYqfEr9ikccbwuG4CPWZ05rO6l4D8mA4CmTZsqEAjohhtu+MbXogkAnnvuOQUCAV144YXVWaYkaeLEieUL7287lQ0ANm3apBYtWlT4vS+++GKlpKRU7Q91BsaPH19eW3V/ELDVi9ZqYwQA+ETmOunTZ6ILAt75kbRmnBThNzwtYuYAUJGjhaXqnrJRTdqlugYBP+s7R9PWZcpxCAIAfJPVmcPqXgr+YzIAuPDCCxUMBvWHP/zhG1+LJgB49dVXFQgEVKtWrWqs8oSRI0dWuKCvbACwb98+XX755eXfIxAI6K677lKrVq302GOPqXbt2uVfq1WrljIyMqr+hztNR48e1ZVXXqmEhAQ99thj1f56Vi9aq40RAOAzB1dLY34fXRAw8MfSuglSJOJ11ahCzBwAopGZV6w2n6/VVW1SXIOAXwxaoAXb/PVX6gC8Z3XmsLqXgv+YDADOOeccBYNB/fGPf/zG16IJAJ5++mkFAgHVrVu3OsuU9P8DgEsuuUSPPvqoOnXqpNTUVP3tb387owDgzjvvLH9+YmKi1qxZc9LXs7Ozdd9995U/5qKLLlJubm4V/VSnLxQK6f7771dCQoLq16+vAwcOVPtrWr1orTZGAIBP7f9CGv3b6IKAwS2lDZMIAoxg5gBwOnZlF+q1MStdQ4DE1sl6euhird7r3b9PAfiL1ZnD6l4K/mMyAGjQoIGCweApf4s8mgDghhtuUCAQUJMmTaqzTElSZmam9uzZ843/3qFDh0oHACkpKeXPPfvss7/1rXQKCwt11VVXlT+2TZs2p3zcV2s53bNv3z7XeiORiJ588kklJCToe9/7npYsWXJaP29lWb1orTZGAIDP7VsujfpldEHAu3dIm5Il3uohpjFzAKiMDQfy9cLIZVEFAa+MWq6thwq8LhmAx6zOHFb3UvAfkwHA/fffr0AgoPr166us7OQPn3MLADZv3qxgMKhgMKhnnnmmJso9pTMJAB5++OHy57788ssVPnb06NEn/RXA1//3kqQePXqoTp06lTpuv8kfiUT0hz/8QQkJCTrvvPM0b9680/pZz4TVi9ZqYwQAxIg9i6UPH4suCHj/TmlLGkFAjGLmAHAmlu3K0W/fW+QaAjRKSta/xq3WvqNFXpcMwCNWZw6reyn4j8kAoG/fvuVL/iFDhpz0NbcA4NFHHy3/+qhRo2qi3FOqbABw7Ngxffe73y1/7qJFiyp8fElJib73ve+VP74mL1PHcfTSSy8pISFB5557rmbPnl1jry3ZvWitNkYAQIzZtUAa8XB0QcCQe6StMwgCYgwzB4Az5TiOZm3O0kP957kGAde0TVWHyeuVfazE67IB1DCrM4fVvRT8x2QAkJOTU/5BwBdccIEWLFhQ/rVvCwBKS0vVqlWr8q9dccUVCoVCNV16ucoGAOnp6eXPO++88075G/1f9+V77yckJKhdu3ZnUPXp+dOf/qSEhATVrl3bkw8htnrRWm2MAIAY5DjSjjnSsAeiCwKG/kzaPosgIEYwcwCoKpGIo8mrD+iu3rNcg4AfvjlNb6VvVn6xd/9eB1CzrM4cVvdS8B+TAYAkDRo0qHyZX6tWLb3yyiuaOXOmnn/++fL/fuzYMX3xxRfq3r27rrzySgWDwfKvjR8/3tP6KxsA9O/fv/x5LVu2jOo5rVu3Ln/Or371q0pWfHpee+01JSQk6JxzztH06dNr5DW/zupFa7UxAgBimONI22dKQ++LLggY/nNpZ829LSAqh5kDQFULhSP6ZMke3dpthmsQcGOndL0/Z7uKQ2GvywZQzazOHFb3UvAfswGAJP39738vX+h/9QQCgQr/e4cOHbwuvdIBwJe/VZ+QkKAnn3wyqucMHjy4/Dk1cen85z//KV/+p6enV/vrfRurF63VxggAMMBxpK3TpQ/uii4IGPmItHuh11XjWzBzAKguxaGwPpi7XTd2SncNAm7tNkOjl+xWKBzxumwA1cTqzGF1LwX/MR0ASNLw4cNVt27dUy79v/xvX566devqww8/9LpkSZUPAH73u9+VP+/111+P6jkTJkwof86ll15ayYqjs2jRovLXuvjii3XHHXd86xk+fHi11mL1orXaGAEAhjiOtDlVeu9/ogsCPnpc2rvU66rxNcwcAKpbfnFIfdM364dvTnMNAu7qPUuTVu1XJMLbyAHWWJ05rO6l4D/mAwDpxAfjDhgwQA8++KAuuOCCk5b+55xzju6880717t1b+fn5XpdarrIBwMMPP1z+vNatW0f1nNTU1PLnnH/++ZWsODqzZ88ufy23U5m/xBg0aJCaNm0a1fnyw5ITExM1c+ZMM2fKlCmaNGmSpkyZ4nktHA6Hw+FUeDIytOaz7irofUNUQcCR/ndp2cT3vK+bo5kzmTk4HE7NnYmpGWo1eJoaJ1UcAiS2Ttb/dE1Rv0+nKyMjw/O6ORxO1RyrM0diYiIBAGpEXAQAX1dYWKgDBw4oLy/P61K+VWUDgHvvvbf8eW+++WZUz5k5c2b5c84666xKVuwPX/3fLdrToEEDTZo0icPhcDgcjldn4udaOrKt8nv8MKogILPvnZo9pr/3dXM4HA6nRs+Izybpt29NUcPWU12DgHu6TlXfUd7XzOFwON92GjRoQACAGhGXAUAssPoXANWNvwCwm4xzOBwOJw5OxnStG9tRhT2jCwIOv3O/lk4e5n3dcXqYOTgcjldn1OQZ+lXfVNcQILF1sh7rk6qRE2d4XjOHw6n8sTpz8BcAqCkEAD5l9TMA/MTqe63NnGnzvfEAAHEkEpbWfCYNaBHdZwR89px0aIPXVccdZg4AXlu9N1fPDF0SVRDw1zErtTO70OuSAVSC1ZnD6l4K/kMA4FOVDQD+9Kc/lT/vySefjOo5gwcPLn9OPF06Vi9aq40RABCHwmXSqk+k/tF8RkAdadz/Soc3e1113GDmAOAXC7dl6xeDFriGAFe1SVHShLXKzCv2umQAp8HqzGF1LwX/IQDwqcoGAP379y9/XsuWLaN6TuvWrcuf86tf/aqSFcceqxet1cYIAIhj4ZD0xUfS282jCwL++5KUvc3rqs1j5gDgJ47jKG19pn7Wd45rENCkXaq6pWzU0cJSr8sGEAWrM4fVvRT8hwDApyobAKSnp5c/77zzzlNZWZnrc+6///7y57Rr1+4Mqo4tVi9aq40RAACVlUrLh0t9o/iMgI4XSp+/KuXs8Lpqs5g5APhROOLovyv26fYeM12DgObt0/ROxlYVlrj/uxmAd6zOHFb3UvAfAgCfqmwAcOzYsfIPt01ISNDixYsrfHxJSYm+973vlT/e2mVaEasXrdXGCABAubISaekQ6a1rowgC6kqT/iwd3eV11eYwcwDws5KysEYu2Kmbu0x3DQJu7jJdIxbsVElZ2OuyAZyC1ZnD6l4K/kMA4FOVDQAk6eGHHy5/7h//+McKHztmzJjyx9atWzeqvxiwwupFa7UxAgDwDaFiafF7Up9r3IOAThdJU16Xcvd6XbUZzBwAYkFhSZkGztyq5u3TXIOA23vM1LjlexWOOF6XDeArrM4cVvdS8B8CAJ86kwAgOTm5/Llnn3221q9ff8rHFRUV6eqrry5/bFJSUhVUHjusXrRWGyMAAN+qtEhaOFDqdVUUQUA9KfmfUt5+r6uOecwcAGJJblGpuqduVJN2qa5BwH1952jauoNyHIIAwA+szhxW91LwHwIAnzqTAECSfvrTn5Y/v2HDhlq7du1JXz9y5MhJ7/1/0UUXKTc3t4qqjw1WL1qrjREAAFelhdL8flLPhu5BQOf6Usp/pIJMr6uOWcwcAGLRofxitf18rRq3SXENAn4xcL4WbMv2umQg7lmdOazupeA/BAA+8NBDD+nGG2886VxyySUnfZjv179+44036sCBA9/6Pfft26fLLrus/HsEg0Hdc889atWqlX7xi1/o3HPPLf/ad77zHWVkZNTgT+wPVi9aq40RAIColRRI896SelzpHgR0uVia1kY6luV11TGHmQNALNuVXajXx65Uw6SKQ4DE1sl6euhirdobX78wB/iJ1ZnD6l4K/kMA4AOJiYnly/jTObt27arw+27atEk33XRThd+jfv36Sk5Orpkf1GesXrRWGyMAAKetOF+a00vq3iCKIOASKf0NqZDf9IwWMwcACzYezNeLI5e5hgCJrZP18kfLteVQgdclA3HH6sxhdS8F/yEA8IHqCgAkqbS0VB999JF+/vOfq0GDBjr77LN18cUXq2XLlurVq5eys+3/I9ftf0drF63VxggAQKUdz5VmdZO6/cA9COh6mTSjo1SU43XVvsfMAcCS5bty9Nv3FrmGAI2SkvXPz1Zrb06R1yUDccPqzEEAgJpCAADzCAAAAICkE0v9jM5St8vdg4BuP5BmdpGOH/W6at9i5gBgjeM4mrU5Sw/1n+caBFzdNkUdJq/X4YISr8sGzLM6cxAAoKYQACBuWb1orTZGAACqTOERaXp7qeul7kFA9wbS7B5ScZ7XVfsOMwcAqyIRR1NWH9DdfWa7BgE/fHOa+qRtVn5xyOuyAbOszhxW91LwHwIAxC2rF63VxggAQJU7dlhKa3vig4DdgoAeDaS5vU98wDAkMXMAsC8UjmjM0j36SbcM1yDgho7pem/Odh0vDXtdNmCO1ZnD6l4K/kMAgLhl9aK12hgBAKg2BZlSamupc333IKBnojT/bankmNdVe46ZA0C8KA6FNWTuDt3UKd01CLi12wyNXrJboXDE67IBM6zOHFb3UvAfAgDELasXrdXGCABAtcs/IKX8W+r8ffcgoNdV0oIBUmn8fggkMweAeFNQHFLf6VvU9M1prkHAXb1nadKq/YpEHK/LBmKe1ZnD6l4K/kMAgLhl9aK12hgBAKgxefukqX+XOtVzDwJ6Xy0tGiyFjntddY1j5gAQr7KPlajjlPW6pm2qaxDw8/7zNHPTITkOQQBQWVZnDqt7KfgPAQDiltWL1mpjBACgxh3dLU3+q9SxrnsQ0KeJtOQDKVTsddU1hpkDQLzbd7RI/x63Wo2SKg4BElsn69fvLtTSnTlelwzEJKszh9W9FPyHAABxy+pFa7UxAgDgmZyd0sQ/SR0vdA8C+v5QWjZUKivxuupqx8wBACdsyyrQqx+vcA0BElsn6w8jlmr9gTyvSwZiitWZw+peCv5DAIC4ZfWitdoYAQDw3JHt0oRXogsC3m4mrRgphUNeV11tmDkA4GRr9uXq2WFLogoC/vLJF9qZXeh1yUBMsDpzWN1LwX8IABC3rF60VhsjAAC+cXiLNP5FqUMd9yCg3/XSyo+lcJnXVVc5Zg4AOLWF27L1i0ELXEOAq9qkKGnCWmXmxc/bxwGVYXXmsLqXgv8QACBuWb1orTZGAAB8J2uj9Nnz7iFAhwukATdJq8eaCgKYOQDg2zmOo/T1mbr/7TmuQUCTdqnqlrJRRwtLvS4b8CWrM4fVvRT8hwAAccvqRWu1MQIA4FuZ66RPn4kuCHjnR9KacVIk7HXVZ4yZAwDchSOOJnyxT3f0nOkaBDRvn6YBGVtVWGInLAaqgtWZw+peCv5DAIC4ZfWitdoYAQDwvYOrpTG/jy4IGPhjad0EKRLxuupKY+YAgOiVlkX04cJdurnLDNcg4Eedp2v4/J0qKYv9sBioClZnDqt7KfgPAQDMS0hIqPBYu2itNkYAAGLG/i+k0b+JLggY3FLaMDkmgwBmDgA4fUWlZRo0a5uad0hzDQJu7zFTny3fq7Jw7PUIoCpZnTkIAFBTCABgHgEAAADwxN5l0qgnogsC3rtD2pQsOY7XVUeNmQMAKi+3qFQ9Ujfp2jdSXYOAe9+ardS1B+XEUI8AqpLVmYMAADWFAABxy+pFa7UxAgAQs/Yslj58LLog4P07pS1pMREEMHMAwJk7lF+sdhPXqnGbFNcg4LGB8zV/a7bXJQM1zurMYXUvBf8hAEDcsnrRWm2MAADEvF3zpREPRRcEDLlH2jbD10EAMwcAVJ3dRwr1+tiVaphUcQiQ2DpZTw1ZrJV7jnpdMlBjrM4cVvdS8B8CAMQtqxet1cYIAIAJjiPtmCMNeyC6IGDY/dL2Wb4MApg5AKDqbTyYrxdHLnMNARJbJ+vlj5Zry6ECr0sGqp3VmcPqXgr+QwCAuGX1orXaGAEAMMVxpG0Z0pB7owsCRjx04i8IfISZAwCqz/JdOfrt+4tcQ4CGScn6x2ertDenyOuSgWpjdeawupeC/xAAIG5ZvWitNkYAAExyHGlLuvTBXdEFASMfkXYv8rpqScwcAFDdHMfR7M1ZenjAPNcg4Oq2KWo/aZ0OF5R4XTZQ5azOHFb3UvAfAgDELasXrdXGCACAaY4jbU6V3rsjuiDgo8elvUs9LZmZAwBqRiTiaOqaA7qnz2zXIOC6N6apd9om5R0PeV02UGWszhxW91LwHwIAxC2rF63VxggAQFxwHGnjFGnwbdEFAR//Wtq/wpNSmTkAoGaVhSMau3SPWnbPcA0CbuiYrndnb9fx0rDXZQNnzOrMYXUvBf8hAEDcsnrRWm2MAADElUhEWv+5NOjW6IKAT34nHVhVoyUycwCAN4pDYQ2dt0M3dUp3DQJ+3HWGPl68W6FwxOuygUqzOnNY3UvBfwgAELesXrRWGyMAAHEpEpbWjpfeuTm6IGDs01Lm2hopjZkDALxVUBxS3+lb1PTNaa5BwJ29Z2nSqv2KRByvywZOm9WZw+peCv5DAIC4ZfWitdoYAQCIa5GwtPpTacBN0QUBnz0nHdpQrSUxcwCAPxw5VqJOUzbomraprkHAg/3mKmPjITkOQQBih9WZw+peCv5DAIC4ZfWitdoYAQCApHCZtHK01O/6KIKAOtL4F6TDm6ulFGYOAPCX/bnH9Z/xq9UoqeIQILF1sn797kIt2XHE65KBqFidOazupeA/BACIW1YvWquNEQAAfEU4JH3xkfR28+iCgP++JGVvq9ISmDkAwJ+2ZR3Tn0avcA0BElsn6/nhS7Vuf57XJQMVsjpzWN1LwX8IABC3rF60VhsjAAA4hbJSaflwqe8P3YOAjhdKn78q5eyokpdm5gAAf1u7L0/PDlsSVRDwl0++0M7sQq9LBk7J6sxhdS8F/yEAQNyyetFabYwAAKACZSXS0iHSW9dGEQTUlSb9RTq6+4xekpkDAGLDou1H9MTgBa4hwFVtUpQ0YY0O5h33umTgJFZnDqt7KfgPAQDMS0hIqPBYu2itNkYAABCF0HFp8btS76vdg4BOF0lTXpdy91bqpZg5ACB2OI6j9PWZuv/tOa5BwDXtUtU1eYNyCku9LhuQZHfmIABATSEAgHkEAAAAIO6UFkkLB0q9rooiCKgnJf9Tyj9wWi/BzAEAsScccTThi326o+dM1yCgWfs09Z+xVcdKyrwuG3HO6sxBAICaQgCAuGX1orXaGAEAQCWUFkrz+0k9G7oHAZ3rS6n/RyrIjOpbM3MAQOwqLYvoo0W7dHOXGa5BwI86T9dHi3YpFI54XTbilNWZw+peCv5DAIC4ZfWitdoYAQDAGSgpkOb2kXpc6R4EdLlYmtZGOpZV4bdk5gCA2FdUWqZBs7apeYc01yDgrt6zlLL2oBzH8bpsxBmrM4fVvRT8hwAAccvqRWu1MQIAgCpQnCfN6SV1bxBFEHCJlP6GVJh9ym/FzAEAduQVhdRz2iZd+0aqaxDw+KAFWrozx+uSEUeszhxW91LwHwIAxC2rF63VxggAAKrQ8VxpVjep2w/cg4Cul0kzOkpFJy97mDkAwJ6s/GK9MXGdGrdJcQ0CWn24XNuyCrwuGXHA6sxhdS8F/yEAQNyyetFabYwAAKAaFOVIGZ1OLPndgoBuP5BmdpWOH5XEzAEAlu05UqTXx650DQEaJSUracIaHcov9rpkGGZ15rC6l4L/EAAgblm9aK02RgAAUI0Kj0jT35S6XuoeBHRvIM3uqTnpU5g5AMC4tfvy9NSQxa5BwHVvTNNb6ZtVUBzyumQYZHXPYXUvBf8hAEDcsnrRWm2MAACgBhzLktLanvggYJcgINTlcm18/0XNSU/2umoAQDVyHEezN2fpwX5zXYOAH3Wero8W7VIoHPG6bBhidc9hdS8F/yEAQNyyetFabYwAAKAGFWRKqa2lzvVdg4DSLj+Q5veTSgu9rhoAUI3CEUfjV+xTy+4ZrkHA3X1mK2XtQTmO43XZMMDqnsPqXgr+QwCAuGX1orXaGAEAgAfyD0jJ/5I6f9/9rYF6N5YWDZJCx72uGgBQjYpDYb03Z7uad0hzDQKeGLxAS3fmuH9ToAJW9xxW91LwHwIAxC2rF63VxggAADyUu1ea8jepUz33IOCta6WlQ6SyEq+rBgBUo6OFpeo8dYOuaZvqGgS0+nC5tmUVeF0yYpTVPYfVvRT8hwAAccvqRWu1MQIAAB84ulua/FepY133IKBvU2n5CCnMB0ICgGV7c4r0+tiVriFAo6RkJU1Yq6z8Yq9LRoyxuuewupeC/xAAIG5ZvWitNkYAAOAjOTt08N3H5XSo4x4E9LteWjlaCpd5XTUAoBqt3Zenp4Ysdg0Crntjmvqmb9axEvoComN1z2F1LwX/IQBA3LJ60VptjAAAwF9mzpypjE/fU+agR6VogoB3fiStGSdFwl6XDgCoJo7jaPbmLD3Yb65rEPCjztP10aJdCoUjXpcNn7O657C6l4L/EAAgblm9aK02RgAA4C8nzRxZG6XPnnMPATpcIA26VVr/uRRh4QMAVoUjjsav2KeW3TNcg4C7+8xWytqDchzH67LhU1b3HFb3UvAfAgDELasXrdXGCAAA/OWUM8fBNdKY30cXBLx7h7QpWWLhAwBmFYfCenf2di64F4oAACAASURBVDXvkOYaBDwxeIGW7szxumT4kNU9h9W9FPyHAABxy+pFa7UxAgAAf6lw5ti/Qvr419EFAR/cJW2dThAAAIYdLSxV56kbdE3bVNcgoNWHy7Utq8DrkuEjVvccVvdS8B8CAJiXkJBQ4bF20VptjAAAwF+imjn2LJE+fCy6IGDoz6TtswgCAMCwvTlFen3sStcQoFFSspImrFVWfrHXJcMHrO45CABQUwgAYB4BAAAAQNU7rZlj13xp+M+jCwJGPCTtWlD9PwCA/8venYdXXZ75H0+ntsy0VhAXrC3FBVt1sFbpVOyitVat2naq7Yza/n7tTNXu2l9nU9AWCAIKAm7gvoCKCooKhB0jikQNxRKLgIAsETBAWEwg2znfz++PTHNJq3wPycl57nM/79d1ff9pOeRJrsv7+eT+kBwgmKrqnbrsnorUIuD462dq1OwVqmtsCX1kBOR1z0EBgEKhAEC0vA5arxcjAACwZb8zR5K0/gv/e8/OrQgY/11pwyud+0kAAIJJkkTlK2p03pgFqUXAqaVzNH7RWjVneAP5GHndc3jdS8EeCgBEy+ug9XoxAgAAW9qdOZJEWjlbuuuM3IqAh78vvf3HzvkkAADBZbKJJi+uVr9h81KLgK+PLFdZ1SYl/Lq4qHjdc3jdS8EeCgBEy+ug9XoxAgAAWzqcOZJEemOaNO7LuRUBEy+TNr+e308CAGBGQ3NG48pXq8/AWalFwPfGLtQrb9WGPjIKxOuew+teCvZQACBaXget14sRAADYkrfMkc1Kf54i3f5PuRUBT/xYqlmen08CAGDO9vomlU5bpuMGzEgtAq4YX6lVNe+GPjI6mdc9h9e9FOyhAEC0vA5arxcjAACwJe+ZI5uRlj4h3XpKDkVAV+nJK6Stq/LzsQEA5myo3a2rH1uSWgIcfe10XftUlWp2NYQ+MjqJ1z2H170U7KEAQLS8DlqvFyMAALCl0zJHpkVa8og05qT0ImDQwdLTv5S2r83vGQAAZlRV79Rl91SkFgHHXz9To2avUF1jS+gjI8+87jm87qVgDwUAouV10Hq9GAEAgC2dnjlamqTKB6RRJ6YXAYO7S1OvlnZWd85ZAABBJUmi8hU1Om/MgtQi4NTSORq/aK2aM9nQx0aeeN1zeN1LwR4KAETL66D1ejECAABbCpY5Whqll++WRn42vQgoPVSa/p/Srk2deyYAQBCZbKLJi6vVb9i81CLg6yPLNaNqk5IkCX1sdJDXPYfXvRTsoQBAtLwOWq8XIwAAsKXgmaN5j/TS7dJNx6QXAUMOl2b2l+q2FOZsAICCamjOaFz5avUZOCu1CPje2IV65a3a0EdGB3jdc3jdS8EeCgBEy+ug9XoxAgAAW4JljsY66cXR0o290ouAG46Q5vxB2s3iBwA82l7fpNJpy3TcgBmpRcAV4yu1qubd0EdGO3jdc3jdS8EeCgBEy+ug9XoxAgAAW4JnjoZd0vM3ScN6phcBQ4+U5g+R9uwIc1YAQKfaULtbVz+2JLUEOPra6br2qSrV7GoIfWTsh+CZo5N43UvBHgoARMvroPV6MQIAAFvMZI4921uX+0OPTC8ChvVsLQ0adoU9MwCgU1RV79Rl91SkFgHHXz9To+asVF1jS+gjIwdmMkeeed1LwR4KAETL66D1ejECAABbzGWO+m2tv+7nhiPSi4Abe7X+GqGm+tCnBgDkWZIkKl9Ro/PGLEgtAvoOmaMJi9aqOZMNfWzsg7nMkSde91KwhwIA0fI6aL1ejAAAwBazmaOupvUNgIccnl4E3HRM6xsLN+8JfWoAQJ5lsokmL65Wv2HzUouAr48s14yqTUqSJPSx8T7MZo4O8rqXgj0UAIiW10Hr9WIEAAC2mM8cuzZJ0/9TKj00vQgY+Vnp5bullsbQpwYA5FlDc0bjylerz8BZqUXA98Yu1KtreeN4a8xnjnbyupeCPRQAiJbXQev1YgQAALYUTebYsUGaerU0uHt6ETDqBKnyfqmlKfSpAQB5tr2+SaXTlqn3gLLUIuCK8ZVaVVMX+sj4X0WTOfaT170U7KEAQLS8DlqvFyMAALCl6DJH7VvS07+UBnVLLwLG9JGWPCxleHNIAPBmQ+1uXf3YktQS4Jj+Zbr2qSrV7GoIfeToFV3myJHXvRTsoQBAtLwOWq8XIwAAsKVoM8fWVdKTV0gDu6YXAbeeIi19QspmQp8aAJBnVdU7ddk9FalFwPHXz9SoOStV10gpHErRZo4UXvdSsIcCANHyOmi9XowAAMCWos8cNculJ36cXgIMPEi6/Z+k15+SstnQpwYA5FGSJCpfUaPzxixILQL6DpmjCYvWqjnDXVBoRZ85PoDXvRTsoQCAeyUlJft8vA1arxcjAACwxU3m2FwlTbwstyJg3JelN6ZJSRL61ACAPMpkE02q3KB+w+alFgFfH1muGVWblHAXFIybzPFXKABQKBQAcI8CAAAAIP/cZY6NS6RHfpBbEXDXGdLK2RQBAOBMQ3NG48pXq8/AWalFwPfGLtSra2tDHzkK7jLH/6IAQKFQACBaXget14sRAADY4jZzbHhFGv/d3IqAe8+WVs+nCAAAZ7bXN6l02jL1HlCWWgRcMb5Sq2rqQh/ZNa+Zw+teCvZQACBaXget14sRAADY4j5zrF0oPXB+bkXA/d+S1r4Y+sQAgDzbULtbVz+2JLUEOKZ/mfpPqVLNrobQR3bJa+bwupeCPRQAiJbXQev1YgQAALZEkTmSRFpTLt37zdyKgIe+I61/OfSpAQB5VlW9U5fdU5FaBBx//UyNmrNSdY0toY/sitfM4XUvBXsoABAtr4PW68UIAABsiSpzJIn05hzp7jNzKwIevlh6e3HoUwMA8ihJEpWvqNF5YxakFgF9h8zRhEVr1ZzJhj62C14zh9e9FOyhAEC0vA5arxcjAACwJcrMkSTS8unSuC/nVgRMvFTatDT0qQEAeZTJJppUuUH9hs1LLQK+PrJcM6o2KeG9YjrEa+bwupeCPRQAiJbXQev1YgQAALZEnTmyWenPT0t3fCm3IuDx/yPVvBH61ACAPGpozmhc+Wr1GTgrtQi4aOxCvbq2NvSRi5bXzOF1LwV7KAAQLa+D1uvFCAAAbCFzSMpmpKWTpFtPyaEI6CpN/qm09c3QpwYA5NH2+iaVTlum3gPKUouAK8ZXalVNXegjFx2vmcPrXgr2UAAgWl4HrdeLEQAA2ELmeI9Mi/Tao9KYk9KLgEHdpCm/kGrXhD41ACCPNtTu1lUTl6SWAMf0L1P/KVWq2dUQ+shFw2vm8LqXgj0UAIiW10Hr9WIEAAC2kDneR6ZZWvygNOrE9CJgcHfp2d9IO9aHPjUAII+qqnfqsnsqUouA46+fqVFzVqqusSX0kc3zmjm87qVgDwUAouV10Hq9GAEAgC1kjn1oaZReuUca+dkcioBDpOn/Ie3aGPrUAIA8SZJE5StqdN6YBalFQN8hczRh0Vo1Z7Khj22W18zhdS8FeygAEC2vg9brxQgAAGwhc+SgeY+0aKw04tj0IqD0MGnmtdK774Q+NQAgTzLZRJMqN6jfsHmpRcDXR5ZrRtUmJUkS+tjmeM0cXvdSsIcCANHyOmi9XowAAMAWMsd+aKqXXhwj3XhUehEwpIc0+3qpflvoUwMA8qShOaNx5avVZ+Cs1CLgorEL9era2tBHNsVr5vC6l4I9FACIltdB6/ViBAAAtpA52qHxXen5EdLwnulFwNAjpXml0p7toU8NAMiT7fVNKp22TL0HlKUWAVeOr9SqmrrQRzbBa+bwupeCPRQAiJbXQev1YgQAALaQOTpgzw7puaHS0E+lFwHDPi2VD5cadoY+NQAgTzbU7tZVE5eklgDH9C9T/ylVqtnVEPrIQXnNHF73UrCHAgDR8jpovV6MAADAFjJHHuyuleYOlG44Ir0IGP4Z6YWbpUb+NSgAeFFVvVOX3l2RWgQcf/1MjZqzUnWNLaGPHITXzOF1LwV7KAAQLa+D1uvFCAAAbCFz5FHdFmnWAGnI4elFwE3HSC/dJjXtDn1qAEAeJEmi51bU6LwxC1KLgL5D5mhCxTo1Z7Khj11QXjOH170U7KEAQLS8DlqvFyMAALCFzNEJ3t0slf23VHpoehEw8jip4k6pOe5fCwEAXmSyiSZVblC/YfNSi4CzRpZr5uublCRJ6GMXhNfM4XUvBXsoABAtr4PW68UIAABsIXN0op3V0tTfSoO7pxcBo06QXr1PamkKfWoAQB40NGc0rny1+vxhVmoRcNHYhXp1bW3oI3c6r5nD614K9lAAIFpeB63XixEAANhC5iiA7eukZ34lDTo4vQgY00f64wQpE+fvhwYAb7bXN6l02jL1HlCWWgRcOb5Sq2r8vkeM18zhdS8FeygAEC2vg9brxQgAAGwhcxTQttXSU1dKA7umFwG3fkH60+NSNhP61ACAPNhQu1tXTVySWgIc079M/adUqeZdf78azmvm8LqXgj0UAIiW10Hr9WIEAAC2kDkC2LJCmvST9BJg4EHS7V+UXn9Sysb1RpEA4FVV9U5dendFahFwwu9natSclapr9PMTYV4zh9e9FOyhAEC0vA5arxcjAACwhcwR0ObXpcd+mFsRMPZ06Y2pUiRvFAkAniVJoudW1Oi8MQtSi4C+Q+ZoQsU6NWeKvwj2mjm87qVgDwUAouV10Hq9GAEAgC1kDgM2LpEe+ZfcioA7vyqtmEkRAAAOZLKJJlVuUL9h81KLgLNGlmvm65uUFPH895o5vO6lYA8FAKLlddB6vRgBAIAtZA5DNrwqjf/n3IqAe74hrZpHEQAADjQ0ZzSufLX6/GFWahFw0diFqlxbG/rI7eI1c3jdS8EeCgBEy+ug9XoxAgAAW8gcBq17SXrggtyKgPvPk956IfSJAQB5UFvfpMFTl6n3gLLUIuDK8ZVaVVMX+sj7xWvm8LqXgj0UAHCvpKRkn4+3Qev1YgQAALaQOYxKEmnN89J95+RWBDz0bWl9RehTAwDyYP223bpq4pLUEuCY/mXqP6VKNe82hD5yTrxmDgoAFAoFANyjAAAAAMg/ModxSSK9OVe6+8zcioAJF0nVi0OfGgCQB1XVO3Xp3RWpRcAJv5+p0XNWqq6xJfSR98lr5qAAQKFQACBaXget14sRAADYQuYoEkkiLS+Txn0ltyLg0UukTUtDnxoA0EFJkui5FTU6d/SC1CKg75A5mlCxTs2ZbOhjvy+vmcPrXgr2UAAgWl4HrdeLEQAA2ELmKDLZrLTsGemO03IrAh7/kfTOstCnBgB0UCabaFLlBvUbNi+1CDhrZLlmvr5JibE3iveaObzupWAPBQCi5XXQer0YAQCALWSOIpXNSFWTpdtOzaEI6CpN/ndp65uhTw0A6KCG5ozGla9Wnz/MSi0CLhq7UJVra0MfuY3XzOF1LwV7KAAQLa+D1uvFCAAAbCFzFLlMi/TaROmWz6cXAYO6SVN+LtWuCX1qAEAH1dY3afDUZeo9oCy1CLhyfKVW1dSFPrLbzOF1LwV7KAAQLa+D1uvFCAAAbCFzOJFplhY/JI3+xxyKgIOlZ34t7Vgf+tQAgA5av223rpq4JLUEOKZ/mfpPqVLNuw3Bzuo1c3jdS8EeCgBEy+ug9XoxAgAAW8gczrQ0Sq/cI938ufQiYPAh0rTfSbs2hj41AKCDllbv0KV3V6QWASf8fqZGz1mpusaWgp/Ra+bwupeCPRQAiJbXQev1YgQAALaQOZxqbpAqxkkjeqcXAaWHSTOukd59J/SpAQAdkCSJnltRo3NHL0gtAvoOmaMJFevUnMkW7HxeM4fXvRTsoQBAtLwOWq8XIwAAsIXM4VxTvbTwFunGo9KLgCE9pNnXSfVbQ58aANABmWyiSZUbdNrQealFwFkjyzXz9c1KkqTTz+U1c3jdS8EeCgBEy+ug9XoxAgAAW8gckWh8V1owQhreM70IuOGT0rzB0u7a0KcGAHRAQ3NGY8tXqc8fZqUWARePe0mVazt37nvNHF73UrCHAgDR8jpovV6MAADAFjJHZBp2Ss8Nk4Z9Or0IGPbp1j/bsDP0qQEAHVBb36TBU5ep94Cy1CLgyvGVWlVT1ynn8Jo5vO6lYA8FAKLlddB6vRgBAIAtZI5I7a6V5g5q/df+aUXA8M9IC0ZKjZ2zEAIAFMb6bbt11cQlqSXAMf3LNGBKlWrebcjrx/eaObzupWAPBQCi5XXQer0YAQCALWSOyNVvbf29/0N6pBcBNx0tLbxVatod+tQAgA5YWr1Dl95dkVoEnPD7mRo9Z6XqGlvy8nG9Zg6veynYQwGAaHkdtF4vRgAAYAuZA5KkdzdLM/5HKj00vQgY0VuqGCc15/dfhgIACidJEj23okbnjl6QWgT0HTJHEyrWqTmT7dDH9Jo5vO6lYA8FAKLlddB6vRgBAIAtZA7sZefb0rT/Jw0+JL0IuPl46dV7pZam0KcGALRTJptoUuUGnTZ0XmoRcNbIcs18fbOSJGnXx/KaObzupWAPBQCi5XXQer0YAQCALWQOvK/t66Rnfi0NOji9CBj9j9Lih6RMc+hTAwDaqaE5o7Hlq9TnD7NSi4CLx72kyrW1+/0xvGYOr3sp2EMBgGh5HbReL0YAAGALmQP7tG219NTPpEHd0ouAW06WXpsoZTOhTw0AaKfa+iYNnrpMvQeUpRYBV46v1Kqa3N8g3mvm8LqXgj0UAIiW10Hr9WIEAAC2kDmQky0rpUn/Jg3sml4E3NZXqposZTv2u6IBAOGs37ZbV01ckloCHNO/TAOmVKnm3fT3hfGaObzupWAPBQCi5XXQer0YAQCALWQO7Jd3/iw9/qP0EmDgQdIdp0nLnqEIAIAitrR6hy69uyK1CDjh9zM1es5K1Te2fODf5TVzeN1LwR4KAETL66D1ejECAABbyBxol01/kh7919yKgDu/Iq2YIbXzTSMBAGElSaLnVtTo3NELUouAvkPm6uGKdWrO/G356zVzeN1LwR4KAETL66D1ejECAABbyBzokOpKacJFuRUB95wlrZpLEQAARSqTTTSpcoNOGzovtQg4a2S5Zr6+Wcl7Zr7XzOF1LwV7KAAQLa+D1uvFCAAAbCFzIC/WLZIevDC3IuC+c6U1z4c+MQCgnRqaMxpbvkp9/jArtQi4eNxLqlxbK8lv5vC6l4I9FACIltdB6/ViBAAAtpA5kFdvLWhd8OdSBDx4YWtxAAAoSrX1TRo8dZl6DyhLLQJ+NqFSj0yd6zJzeN1LwR4KAETL66Dlm3EAAFAIZA7kXZJIq+a1/sqfXIqACd9r/VVCAICitH7bbl01cUlqCXD0tdP1w9FTNWXGvNBHziuveynYQwGAaHkdtHwzDgAACoHMgU6TJNKKmdKdX82tCHjkX6SNr4U+NQCgnZZW79Cld1ekFgGfHTBdo+esVH1jS+gj54XXvRTsoQBAtLwOWr4ZBwAAhUDmQKdLEmnZs9LYfrkVAY//SHpnWehTAwDaIUkSPbeiRueOXpBaBIwtXxX6uHnhdS8FeygAEC2vg5ZvxgEAQCGQOVAw2az0+pPS7V/MoQjoKj15ubTVx3IIAGKTySZ6onKDThs6732X/1+8YS4/AQDsJwoARMvroOWbcQAAUAhkDhRcNiP96THplpPTi4BBB0tP/0ravi70qQEA7dDQnNHY8lXq84dZexUAj768PvTR8sbrXgr2UAAgWl4HLd+MAwCAQiBzIJhMs/TH8dLoPulFwOBDpGm/k3ZtDH1qAEA71NY36YqxM3XMtdPUr7RMLZls6CPljde9FOyhAEC0vA5avhkHAACFQOZAcC1N0qv3Sjcfn14ElB4mzewv1W0JfWoAwH6aP3++7nv8Gd07ZW7oo+SV170U7KEAQLS8Dlq+GQcAAIVA5oAZzQ1SxThpxLHpRcANR0hzB0m7a0OfGgCQI6+Zw+teCvZQACBaXget14sRAADYQuaAOU310oujpeGfSS8Chn1aKh8uNewKfWoAQAqvmcPrXgr2UAAgWl4HrdeLEQAA2ELmgFkNO1uX+8M+nV4E3NirtTRoqg99agDAB/CaObzupWAPBQDcKykp2efjbdB6vRgBAIAtZA6Yt7tWmjuw9df+pBUBI45t/TVCzQ2hTw0A+CteMwcFAAqFAgDuUQAAAADkH5kDRaOupvUNgEsPSy8Cbj5eqry/9Q2GAQAmeM0cFAAoFAoARMvroPV6MQIAAFvIHCg6uzZK034nDT4kvQgYc5L02qNSpiX0qQEgel4zh9e9FOyhAEC0vA5arxcjAACwhcyBorV9rfT0r6RB3dKLgNv6SlWTpWw29KkBIFpeM4fXvRTsoQBAtLwOWq8XIwAAsIXMgaK3dZX05OXSwK7pRcDY06U3pklJEvrUABAdr5nD614K9lAAIFpeB63XixEAANhC5oAb7yyTHv9Regkw8CDp7jOlN+dSBABAAXnNHF73UrCHAgDR8jpovV6MAADAFjIH3Nm4RHrkB7kVAfedK731QugTA0AUvGYOr3sp2EMBgGh5HbReL0YAAGALmQNurX9ZeujbuRUBD31b2vBK6BMDgGteM4fXvRTsoQBAtLwOWq8XIwAAsIXMAffeWiDdd05uRcAjP5A2vhb6xADgktfM4XUvBXsoABAtr4PW68UIAABsIXMgCknS+jv/7zojtyLg8R+1vqcAACBvvGYOr3sp2EMBgGh5HbReL0YAAGALmQNRSRLpjWnS2H45FAFdpScvl7atDn1qAHDBa+bwupeCPRQAiJbXQev1YgQAALaQORClbFaqmizddmp6ETDoYOmZX0nb14U+NQAUNa+Zw+teCvZQACBaXget14sRAADYQuZA1DIt0pJHpDF90ouAwYdI0/9D2rUx9KkBoCh5zRxe91KwhwIA0fI6aL1ejAAAwBYyByCppUl69T7p5uPTi4DSw6SZ/aW6LaFPDQBFxWvm8LqXgj0UAIiW10Hr9WIEAAC2kDmA92hukCrGSSOOTS8CbvikNHeQtLs29KkBoCh4zRxe91KwhwIA0fI6aL1ejAAAwBYyB/A+muqlF0dLwz+TXgQM+7RUfqPUsCv0qQHANK+Zw+teCvZQACBaXget14sRAADYQuYA9qFhp1Q+vHXJn1YE3NirtTRoqg99agAwyWvm8LqXgj0UAIiW10Hr9WIEAAC2kDmAHOyuleYOlG44Ir0IGHFs668Ram4IfWoAMMVr5vC6l4I9FACIltdB6/ViBAAAtpA5gP1QV9P6BsClh6UXATcfL1Xe3/oGwwAAt5nD614K9lAAIFpeB63XixEAANhC5gDaYddGadrvpMGHpBcBY06SXpsoZTOhTw0AQXnNHF73UrCHAgDR8jpovV6MAADAFjIH0AHb10pP/0oa1C29CLjjS9KyZ6UkCX1qAAjCa+bwupeCPRQAiJbXQev1YgQAALaQOYA82LpKevJyaWDX9CLgrjOkVXMpAgBEx2vm8LqXgj0UAIiW10Hr9WIEAAC2kDmAPHpnmfT4j9JLgIEHSQ+cL61bFPrEAFAwXjOH170U7KEAQLS8DlqvFyMAALCFzAF0go1LpIe/n1sR8MgPpE1/Cn1iAOh0XjOH170U7KEAQLS8DlqvFyMAALCFzAF0ovUVrf/SP5ci4IkfS1tWhj4xAHQar5nD614K9lAAIFpeB63XixEAANhC5gA6WZJIq+a1/u7/tBJgULfWNxXesT70qQEg77xmDq97KdhDAYBoeR20Xi9GAABgC5kDKJAkkZY9K93+T+lFwOBDpLL/kt59J/SpASBvvGYOr3sp2EMBgGh5HbReL0YAAGALmQMosGxGem2iNOak9CJgSA9p7kBpd23oUwNAh3nNHF73UrCHAgDR8jpovV6MAADAFjIHEEhLk/TqvdLIz6YXAcM+LT0/Qmp8N/SpAaDdvGYOr3sp2EMBgGh5HbReL0YAAGALmQMIrGm3tPAW6cZe6UXATcdIi8ZKzQ2hTw0A+81r5vC6l4I9FACIltdB6/ViBAAAtpA5ACMadkrPDZOGHpleBIw6QVr8oJRpDn1qAMiZ18zhdS8FeygAEC2vg9brxQgAAGwhcwDG1G+TZg2QhhyeXgTc+gWparKUzYY+NQCk8po5vO6lYA8FAKLlddB6vRgBAIAtZA7AqF0bpWn/TxrcPb0IGHu6tLxMSpLQpwaAD+Q1c3jdS8EeCgBEy+ug9XoxAgAAW8gcgHG1a6SnrpQGdk0vAu75hrTm+dAnBoD35TVzeN1LwR4KAETL66D1ejECAABbyBxAkXhnmfTYD9NLgIEHSQ99W9rwaugTA8BevGYOr3sp2EMBgGh5HbReL0YAAGALmQMoMm8vlsb/c25FwMRLpXf+HPrEACDJb+bwupeCPRQAiJbXQev1YgQAALaQOYAi9dYL0n3n5FAEdJWevFzatjr0iQFEzmvm8LqXgj0UAIiW10Hr9WIEAAC2kDmAIpYk0spZ0rivpBcBgw6Wnr1K2lkd+tQAIuU1c3jdS8EeCgBEy+ug9XoxAgAAW8gcgAPZrPT6U9Jtp6YXAaWHSTP7S/VbQ58aQGS8Zg6veynYQwGAaHkdtF4vRgAAYAuZA3Ak0yL9cYI06sT0ImDokdL8IdKeHaFPDSASXjOH170U7KEAQLS8DlqvFyMAALCFzAE41NIovXyXNOLY9CJg+GekF0dLTfWhTw3AOa+Zw+teCvZQACBaXget14sRAADYQuYAHGuql164WRreM70IGHmc9PLdreUBAHQCr5nD614K9lAAIFpeB63XixEAANhC5gAisGeHNK9UuuGT6UXA6D7Skkdaf50QAOSR18zhdS8FeygAEC2vg9brxQgAAGwhcwARqauRZlwjlR6aXgTc/kXpz1Na32AYAPLAa+bwupeCPRQAiJbXQev1YgQAALaQOYAI7dggPfsbadDB6UXAnV+V3pwjJUnoUwMocl4zh9e9FOyhAEC0vA5arxcjAACwhcwB8O54WwAAIABJREFURGzrKmnyv6eXAAMPku4/T1q7MPSJARQxr5nD614K9lAAIFpeB63XixEAANhC5gCgzVXSo5fkVgRMuEjauCT0iQEUIa+Zw+teCvZQACBaXget14sRAADYQuYA0GbDK9KDF+ZWBDz+I6lmeegTAygiXjOH170U7KEAgHslJSX7fLwNWq8XIwAAsIXMAWAvSSKtfk66++vpJcCgbtKUn0vb14Y+NYAi4DVzUACgUCgA4B4FAAAAQP6ROQC8rySR3pgm3XFaehEw+BBp2u+kXZtCnxqAYV4zBwUACoUCANHyOmi9XowAAMAWMgeAfcpmpKVPSLd8Pr0IGHK4NPt6aXdt6FMDMMhr5vC6l4I9FACIltdB6/ViBAAAtpA5AOQk0yxV3i/dfHx6ETD0U1L5cKlhV+hTAzDEa+bwupeCPRQAiJbXQev1YgQAALaQOQDsl+Y90ku3SzcelV4E3HiU9NJtra8BED2vmcPrXgr2UAAgWl4HrdeLEQAA2ELmANAuDbuk8hulYZ9OLwJu/pz06n2tP0UAIFpeM4fXvRTsoQBAtLwOWq8XIwAAsIXMAaBDdtdKc34vDemRXgTc8nnpT4+3vq8AgOh4zRxe91KwhwIA0fI6aL1ejAAAwBYyB4C82LVJmv4f0uBD0ouAO06T3pgqJUnoUwMoIK+Zw+teCvZQACBaXget14sRAADYQuYAkFfb10pTfiEN6pZeBNz9dWn1fIoAIBJeM4fXvRTsoQBAtLwOWq8XIwAAsIXMAaBT1CyXHv8/6SXAwIOkBy+U1r8c+sQAOpnXzOF1LwV7KAAQLa+D1uvFCAAAbCFzAOhUG5dID1+cWxHwyL9Im5aGPjGATuI1c3jdS8EeCgBEy+ug9XoxAgAAW8gcAApi7ULp/vNyKwIm/Zu09c3QJwaQZ14zh9e9FOyhAEC0vA5arxcjAACwhcwBoGCSRHpzrnTnV9NLgEHdpGd+Je1YH/rUAPLEa+bwupeCPRQAiJbXQev1YgQAALaQOQAUXDYr/flp6fYvphcBpYdKM/5HqqsJfWoAHeQ1c3jdS8EeCgBEy+ug9XoxAgAAW8gcAILJtEivPSqN7pNeBNxwhDR3kLRne+hTA2gnr5nD614K9lAAIFpeB63XixEAANhC5gAQXEuj9Mo90sjj0ouAYT2lBSOlxrrQpwawn7xmDq97KdhDAYBoeR20Xi9GAABgC5kDgBlNu6UXx0jDP5NeBIw4VqoYJzU3hD41gBx5zRxe91KwhwIA0fI6aL1ejAAAwBYyBwBzGnZK82+Qhh6ZXgSMOlH64/jWXycEwDSvmcPrXgr2UAAgWl4HrdeLEQAA2ELmAGBW/VZp1gCp9LD0IuDWU6Sqya1vMAzAJK+Zw+teCvZQACBaXget14sRAADYQuYAYN7Ot6WpV0uDDk4vAsZ9WVoxU0qS0KcG8Fe8Zg6veynYQwGAaHkdtF4vRgAAYAuZA0DR2LZaevIKaWDX9CLg3rOltxaEPjGA9/CaObzupWAPBQCi5XXQer0YAQCALWQOAEXnnT9LEy9LLwEGHiSN/65UvTj0iQHIb+bwupeCPRQAiJbXQev1YgQAALaQOQAUrepK6aHv5FYEPPZD6Z1loU8MRM1r5vC6l4I9FACIltdB6/ViBAAAtpA5ABS9Nc+3/sqf1CKga+uvEKpdE/rEQJS8Zg6veynYQwGAaHkdtF4vRgAAYAuZA4ALSSKtmCGNPT29CBjcXZr6W2nXxtCnBqLiNXN43UvBHgoARMvroPV6MQIAAFvIHABcyWalqsnSrV9ILwJKD5NmDZDqt4Y+NRAFr5nD614K9lAAIFpeB63XixEAANhC5gDgUqZZWvyQNOqE9CJg6JHSc0Olhp2hTw245jVzeN1LwR4KAETL66D1ejECAABbyBwAXGtukCrGSTcdk14E3NhLenGM1LQ79KkBl7xmDq97KdhDAYBoeR20Xi9GAABgC5kDQBQa66QFI6RhPdOLgJHHSa/cI7U0hT414IrXzOF1LwV7KAAQLa+D1uvFCAAAbCFzAIjK7lpp7iDphiPSi4AxfaTXHpWymdCnBlzwmjm87qVgDwUAouV10Hq9GAEAgC1kDgBRevcdqey/pcGHpBcBt/+TtOwZKUlCnxooal4zh9e9FOyhAEC0vA5arxcjAACwhcwBIGo71kvP/Eoa1C29CLjrDOnNuRQBQDt5zRxe91KwhwIA0fI6aL1ejAAAwBYyBwBI2rJSmvST9BJg4EHS/d+S1r0U+sRA0fGaObzupWAPBQCi5XXQer0YAQCALWQOAHiPTX+SHvmX3IqAh78vbXwt9ImBouE1c3jdS8EeCgBEy+ug9XoxAgAAW8gcAPA+1ldID5yfWxHwxP+VtqwIfWLAPK+Zw+teCvZQACBaXget14sRAADYQuYAgA+QJNKqedLdZ6aXAIO6SU//Utq+LvSpAbO8Zg6veynYQwGAaHkdtF4vRgAAYAuZAwBSJIn0xlTpji+lFwGDD5Gm/6f07ubQpwbM8Zo5vO6lYA8FAKLlddB6vRgBAIAtZA4AyFE2I/3pMWnMSelFwJAe0pw/SLtrQ58aMMNr5vC6l4I9FACIltdB6/ViBAAAtpA5AGA/tTRJr94njfxsehEw7NPS8zdJje+GPjUQnNfM4XUvBXsoABAtr4PW68UIAABsIXMAQDs175EW3irdeFR6EXDT0dKiO6TmhtCnBoLxmjm87qVgDwUAouV10Hq9GAEAgC1kDgDooIZdUvlwaein0ouAm4+XKh+QMs2hTw0UnNfM4XUvBXsoABAtr4PW68UIAABsIXMAQJ7Ub5NmXycNOTy9CLjlZGnpJCmbDX1qoGC8Zg6veynYQwGAaHkdtF4vRgAAYAuZAwDybNcmadrvpMHd04uAsf2k5dOlJAl9aqDTec0cXvdSsIcCANHyOmi9XowAAMAWMgcAdJLat6SnfiYN7JpeBNxzlrSmPPSJgU7lNXN43UvBHgoARMvroPV6MQIAAFvIHADQyWrekB77YXoJMPAg6cELpQ2vhD4x0Cm8Zg6veynYQwGAaHkdtF4vRgAAYAuZAwAK5O3F0oTv5VYEPHqJtPn10CcG8spr5vC6l4I9FACIltdB6/ViBAAAtpA5AKDA3npBuu+c3IqAyf8ubV0V+sRAXnjNHF73UrCHAgDR8jpovV6MAADAFjIHAASQJNLK2dKdX0kvAQYdLD37G2lndehTAx3iNXN43UvBHgoARMvroPV6MQIAAFvIHAAQUDYrvf6UdNup6UVA6aHSjGukui2hTw20i9fM4XUvBXsoABAtr4PW68UIAABsIXMAgAGZFmnJw9Lof0wvAm74pDSvVNqzI/Spgf3iNXN43UvBHgoARMvroPV6MQIAAFvIHABgSEuj9PJd0ohj04uA4T2lF26WmupDnxrIidfM4XUvBXsoABAtr4PW68UIAABsIXMAgEFN9dILo1qX/GlFwIjeraVBS2PoUwP75DVzeN1LwR4KAETL66D1ejECAABbyBwAYNieHa2/7ueGT6YXAaP/UfrjhNZfJwQY5DVzeN1LwR4KAETL66D1ejECAABbyBwAUATqtkgzr219I+C0IuC2U1vfWDibDX1qYC9eM4fXvRTsoQBAtLwOWq8XIwAAsIXMAQBFZMcG6dnfSIMOTi8Cxn1FWjlLSpLQpwYk+c0cXvdSsIcCANHyOmi9XowAAMAWMgcAFKFtq6XJP00vAQYeJN13jrT2xdAnBtxmDq97KdhDAYBoeR20Xi9GAABgC5kDAIrY5irp0UtyKwImfE/a9KfQJ0bEvGYOr3sp2EMBgGh5HbReL0YAAGALmQMAHNjwqvTghbkVAU9eIW1fF/rEiJDXzOF1LwV7KAAQLa+D1uvFCAAAbCFzAIAja8qle85KLwFKD5Vm9pd214Y+MSLiNXN43UvBHgoARMvroPV6MQIAAFvIHADgTJJIy6dLY/ulFwHDekovjJKa94Q+NSLgNXN43UvBHgoARMvroPV6MQIAAFvIHADgVDYjLZ0k3fL59CLg5uOlP05ofQ3QSbxmDq97KdhDAYBoeR20Xi9GAABgC5kDAJxraZJevku66ej0IuCO06QVM1t/igDIM6+Zw+teCvZQACBaXget14sRAADYQuYAgEg07JLmD5FuOCK9CHjgfKm6MvSJ4YzXzOF1LwV7KAAQLa+D1uvFCAAAbCFzAEBk3t0sTb1aGnRwehHwxP+Vtq0OfWI44TVzeN1LwR4KAETL66D1ejECAABbyBwAEKktK6XHfpheAgzuLk3/D6muJvSJUeS8Zg6veynYQwGAaHkdtF4vRgAAYAuZAwAit75Cuu+c9CJg6JFS+XCpsS70iVGkvGYOr3sp2EMBgIKaPn26fv3rX6tfv3761Kc+pS5duuhjH/uYPve5z+kXv/iFli9fXrCzeB20Xi9GAABgC5kDAKAkkd6YJt3+xfQiYERv6dV7pUxz6FOjyHjNHF73UrCHAgAFdfbZZ6ukpEQHHHCAevbsqS9+8Ys69thjdcABB6ikpEQf+chH9OijjxbkLF4HrdeLEQAA2ELmAAC0ybRIlQ9II49LLwJuO1Va9kxreQDkwGvm8LqXgj0UACioCRMmaM6cOdqzZ89e//vbb7+tiy66SCUlJfr7v/97bdiwodPP4nXQer0YAQCALWQOAMDfaKqXnh8hDf1UehFw79nSupdCnxhFwGvm8LqXgj0UADCjsbFR3bp1U0lJie68885O/3heB63XixEAANhC5gAAfKD6rdKM/5EGH5JeBDx6iVRTuF8HjOLjNXN43UvBHgoAmHLqqaeqpKREN998c6d/LK+D1uvFCAAAbCFzAABS1a6RJv97egkwqJv0zK+lXRtDnxgGec0cXvdSsIcCILBMJqOlS5fqvvvu0y9+8Qv17dtXH/nIR1RSUqKSkhKdeeaZ7f67m5qaNGHCBJ1//vn6zGc+oy5duuiII47Q6aefrpEjR2rr1q35+0TyoKamRv/wD/+gkpISLViwoNM/ntdB6/ViBAAAtpA5AAA5e/uP0kPfTi8ChvSQ5g6SGnaGPjEM8Zo5vO6lYA8FQEBPP/20Pvaxj7Ut+9/vaW8BsHz5cp1yyin7/LsPP/xwlZWV5feTaoetW7eqrKxMJ598skpKSnTZZZcV5ON6HbReL0YAAGALmQMAsF+SRHpzrjTuy+lFwI1HSYvGSi2NoU8NA7xmDq97KdhDARDQgw8+uM8FfXsLgOrqah155JFtf8eHPvQhnXnmmbr88sv1ne98p+1f2ZeUlOgjH/mI5s2bl/9PLsXTTz/9N5/r0UcfrbvuuktJkhTkDF4HrdeLEQAA2ELmAAC0SzYjvTZRGnViehEwpo+0dJKUzYY+NQLymjm87qVgDwVAQH8pAHr06KFvf/vbGjx4sGbMmKHf/va3HSoAzjjjjLbX9+rVS0uXLt3r/9+6davOPvvstj/TvXt37dixI0+fVW5eeOEFfeUrX9Hpp5+uXr166cMf/nBbUbF8eWHe/MfroPV6MQIAAFvIHACADmlukBbeKg3vmV4E3PlVafVzoU+MQLxmDq97KdhDARDQ5s2btX79+r/53wcOHNjuAqCsrKzttR/96EdVVVX1vn+uvr5exxxzTNuf7d+///v+ufeeZX+f6urqnM+9adMm/fSnP1VJSYkOOuggrVu3br8+7/bwOmi9XowAAMAWMgcAIC/2bJdmXy+VHpZeBEz4nrRpafrfCVe8Zg6veynYQwFgUEcKgAsuuKDttVdeeeU+/+wjjzyy108BtLS0/M2fGT58uLp27dquZ+PGjft1dkk699xzczp7PngdtF4vRgAAYAuZAwCQVzs2SFN+IQ3sml4EPHWltL3z/+EgbPCaObzupWAPBYBB7S0A6urq1KVLl7bXLlq0aJ9/vrGxUZ/4xCfa/ryFQXr77berpKREp5xySqd/LK+D1uvFCAAAbCFzAAA6xebXpYe/n14ClB4qzRog7a4NfWJ0Mq+Zw+teCvZQABjU3gJg9uzZba/7+Mc//r7/ov+vnXPOOW2vue666zpw6vwYM2aMSkpK9PnPf77TP5bXQev1YgQAALaQOQAAneqtBdLdZ6YXAcN6Si+Olpr3hD4xOonXzOF1LwV7KAAMam8BcMstt7S9rl+/fjm95pprrml7zcUXX9zOE+dHkiT66le/qpKSEv3kJz/p9I/nddB6vRgBAIAtZA4AQKfLZqXXn5Ru+Xx6ETDqBGnJw1I2E/rUyDOvmcPrXgr2UAAY1N4C4Je//GXb6y655JKcXjN27Ni213T2wKmsrNR1112nFStW/M3/t379el122WUqKSnRhz/8YS1ZsqRTzyL5HbReL0YAAGALmQMAUDAtTdLLd0k3HZ1eBNxxmrRylpQkoU+NPPGaObzupWAPBYBB7S0A/vVf/7XtdVdffXVOr3nqqafaXnPEEUe088S5KS8vb/tYhxxyiE455RSddtppOvroo/WhD32o7VcXPf744516jr/wOmi9XowAAMAWMgcAoOAadknzh0g3HJFeBDxwgVRdGfrEyAOvmcPrXgr2UAAY1N4C4IILLmh73TXXXJPTa2bMmNH2mgMPPLCdJ87N9u3bdfvtt+v73/++PvvZz6pr16464IAD1L17d/Xr10/XX3+9qqurO/Qx7rjjDp144ok5PX95w+RevXpp/vz5bp6pU6fqmWee0dSpU4OfhYeHh4eHh8fvQ+bg4eHh4Qn1vDhjst6+8wfKDuyWWgTU3H6eFk1/OPiZedr/eM0cvXr1ogBAQVAAGNTeAuAb3/hG2+t+//vf5/Sa+fPnt73mwx/+cDtPbMd7v3a5Pj179tQzzzzDw8PDw8PDw8PDw8PDw8NTRM+8x8dp0+izUkuA7MCDteb2izVz8vjgZ+bh+cvTs2dPCgAUBAWAQV5/AqAQ+AkAv804Dw8PDw8Pj62HzMHDw8PDY+VZPOUO7Rj1pdQioKX0cK154Gd6fs704Gfmyf3xmjn4CQAUCgWAQV7fA8Aar79rbf58n78bDwAA2ELmAACYkiTSG9Ok2/qmvz/AiN7Sq/dKmebQp0YOvGYOr3sp2EMBYFB7C4Bf/vKXba+75JJLcnrN2LFj214T28DxOmi9XowAAMAWMgcAwKRMi1T5gDTyuPQi4LZTpWXPtpYHMMtr5vC6l4I9FAAGtbcAuOWWW9pe169fv5xec80117S95uKLL27niYuT10Hr9WIEAAC2kDkAAKY11UvPj5CGfiq9CLj3bGndS6FPjA/gNXN43UvBHgoAg9pbAMyePbvtdR//+MfV0tKS+ppzzjmn7TXXXXddB05dfLwOWq8XIwAAsIXMAQAoCvVbpbL/lgYfkl4EPHqJVLM89InxV7xmDq97KdhDAWBQewuAurq6tje2LSkpUUVFxT7/fGNjoz7xiU+0/XlvgzSN10Hr9WIEAAC2kDkAAEWldo006d/SS4BB3aRnfyPt2hj6xPhfXjOH170U7KEAMKi9BYAkXXDBBW2v/fnPf77PPztx4sS2P3vwwQfn9BMDnngdtF4vRgAAYAuZAwBQlN5eLD14YXoRMKSHNHeQ1LAz9Imj5zVzeN1LwR4KAIM6UgBMnz697bUf/ehH9ec///l9/9zu3bvVu3fvtj977bXX5uHkxcXroPV6MQIAAFvIHACAopUk0ptzpLGnpxcBNx4lLRortTSGPnW0vGYOr3sp2EMBYFBHCgBJ+trXvtb2+qOOOkpVVVV7/f/btm3b63f/d+/eXTt27MjT6YuH10Hr9WIEAAC2kDkAAEUvm5Fee1QadWJ6ETDmJGnpJCmbDX3q6HjNHF73UrCHAiCw888/XyeffPJeT48ePfZ6M9+//v9PPvlkbdz4wb+Lrrq6Wp/85Cfb/o6/+7u/01lnnaXLL79c3/3ud/Wxj32s7f874IADNG/evAJ+xnZ4HbReL0YAAGALmQMA4EZzg7TwFml4z/Qi4K6vSaufC33iqHjNHF73UrCHAiCwXr16tS3j9+dZu3btPv/e5cuX6wtf+MI+/47DDjtM06dPL8wnGlDa19LboPV6MQIAAFvIHAAAd3bXSrOvk0oPSy8CJnxP2rQ09Imj4DVzUACgUCgAAuusAkCSmpqaNH78eH3rW99Sz5499dGPflSHH364+vXrp5tuuklbt27t/E/QAAoAAACA/CNzAADc2rFBmvJzaWDXlCKgq/TUldKO9aFP7JrXzEEBgEKhAEC0vA5arxcjAACwhcwBAHBvc5X08MXpPw1Qeqg0a0DrTxAg77xmDq97KdhDAYBoeR20Xi9GAABgC5kDABCNNc9Ld52RXgQM6ym9OFpq3hP6xK54zRxe91KwhwIA0fI6aL1ejAAAwBYyBwAgKtmsVDVZuuXz6UXAqBOkJQ9L2UzoU7vgNXN43UvBHgoARMvroPV6MQIAAFvIHACAKLU0SRV3SjcdnV4EjO0nrZwlJUnoUxc1r5nD614K9lAAIFpeB63XixEAANhC5gAARK1hlzSvVBrSI70IeOACqXpx6BMXLa+Zw+teCvZQACBaXget14sRAADYQuYAAEDSrk3Ss1dJg7qlFwFP/Fjatjr0iYuO18zhdS8FeygAEC2vg9brxQgAAGwhcwAA8B5bVkgTL0svAQZ3l6b/p1S3JfSJi4bXzOF1LwV7KAAQLa+D1uvFCAAAbCFzAADwPtZXSPd+M70IGHqkVH6j1FgX+sTmec0cXvdSsIcCANHyOmi9XowAAMAWMgcAAB8gSaQ3pkq39U0vAkb0ll69T8o0hz61WV4zh9e9FOyhAEC0vA5arxcjAACwhcwBAECKTItU+YA08rj0IuC2U6Vlz7aWB9iL18zhdS8FeygAEC2vg9brxQgAAGwhcwAAkKOmeun5Ea2/9ietCLj3m9K6RaFPbIrXzOF1LwV7KAAQLa+D1uvFCAAAbCFzAACwn+q2SGX/3fpGwGlFwMRLW99YGG4zh9e9FOyhAIB7JSUl+3y8DVqvFyMAALCFzAEAQDvVrpEm/Vt6CTCom/Tsb6Rdm0KfOCivmYMCAIVCAQD3KAAAAADyj8wBAEAHvb1YevDC9CJgSA9p3mCpYWfoEwfhNXNQAKBQKAAQLa+D1uvFCAAAbCFzAACQB0kivTlHGnt6ehFw41FSxTippTH0qQvKa+bwupeCPRQAiJbXQev1YgQAALaQOQAAyKNsRnrtUWnUielFwJiTpKrJUjYb+tQF4TVzeN1LwR4KAETL66D1ejECAABbyBwAAHSC5j3Swluk4T3Ti4C7zpDWlIc+cafzmjm87qVgDwUAouV10Hq9GAEAgC1kDgAAOtHuWmn2dVLpYelFwISLpM1VoU/cabxmDq97KdhDAYBoeR20Xi9GAABgC5kDAIAC2LFemvJzaWDXlCKgq/TUz1r/vDNeM4fXvRTsoQBAtLwOWq8XIwAAsIXMAQBAAW2ukh6+OP2nAUoPlWYNaP0JAie8Zg6veynYQwGAaHkdtF4vRgAAYAuZAwCAANY83/q7/9OKgOE9pRfHtL6nQJHzmjm87qVgDwUAouV10Hq9GAEAgC1kDgAAAslmparJ0piT0ouAUSdISx6RspnQp243r5nD614K9lAAIFpeB63XixEAANhC5gAAILCWJqniTummo9OLgLGnSytnS0kS+tT7zWvm8LqXgj0UAIiW10Hr9WIEAAC2kDkAADCiYac0r1Qa0iO9CHjwQuntxaFPvF+8Zg6veynYQwGAaHkdtF4vRgAAYAuZAwAAY3Ztkp69ShrULb0ImPQTadvq0CfOidfM4XUvBXsoABAtr4PW68UIAABsIXMAAGDUlhXSxMvSS4DB3aWy/5LqtoQ+8T55zRxe91KwhwIA0fI6aL1ejAAAwBYyBwAAxq1bJN37zfQiYOiR0vM3SU31oU/8vrxmDq97KdhDAYBoeR20Xi9GAABgC5kDAIAikCTSG1Ol2/qmFwEjj5Mq75cyLaFPvRevmcPrXgr2UADAvZKSkn0+3gat14sRAADYQuYAAKCIZFpal/sjj0svAm7r21oaJEnoU0vymzkoAFAoFABwjwIAAAAg/8gcAAAUoab61l/3M/TI9CLgvnOk9RWhT+w2c1AAoFAoABAtr4PW68UIAABsIXMAAFDE6ra0vgHw4O7pRcDEy1rfWDgQr5nD614K9lAAIFpeB63XixEAANhC5gAAwIFtq6VJP0kvAQZ1k569Stq1qeBH9Jo5vO6lYA8FAKLlddB6vRgBAIAtZA4AABx5e7H04IXpRcCQHtK8UqlhV8GO5jVzeN1LwR4KAETL66D1ejECAABbyBwAADiTJNLK2dLYfulFwE1HSxV3Si1NnX4sr5nD614K9lAAIFpeB63XixEAANhC5gAAwKlsRlryiDTqhPQiYMxJUtVkKZvttON4zRxe91KwhwIA0fI6aL1ejAAAwBYyBwAAzjXvkV4cIw3rmV4E3HWGtKa8U47hNXN43UvBHgoARMvroPV6MQIAAFvIHAAARGJ3rTRrgFR6aHoRMOEiaXNVXj+818zhdS8FeygAEC2vg9brxQgAAGwhcwAAEJkd66WnfiYN7JpSBHSVpvy89c/ngdfM4XUvBXsoABAtr4PW68UIAABsIXMAABCpzVWt/9I/7acBSg9r/cmB3bUd+nBeM4fXvRTsoQBAtLwOWq8XIwAAsIXMAQBA5NaUS3d9Lb0IGN6z9b0Emve068N4zRxe91KwhwIA0fI6aL1ejAAAwBYyBwAAUDYrVU2WxpyUXgSMOlFa8oiUzezXh/CaObzupWAPBQCi5XXQer0YAQCALWQOAADQpqVRqhgn3XhUehEw9nRp5WwpSXL6q71mDq97KdhDAYBoeR20Xi9GAABgC5kDAAD8jYad0rzB0pAe6UXAgxdKby9O/Su9Zg6veynYQwGAaHkdtF4vRgAAYAuZAwAAfKBdG6VnfyMN6pZeBEz6iVT44tRBAAAWIElEQVS75gP/Kq+Zw+teCvZQACBaXget14sRAADYQuYAAACpapZLEy9NLwEGd5fK/kuq2/I3f4XXzOF1LwV7KAAQLa+D1uvFCAAAbCFzAACAnK1bJN37zfQiYOinpOdvkprq217qNXN43UvBHgoAuFdSUrLPx9ug9XoxAgAAW8gcAABgvySJ9MZU6bZT04uAkcdJlfdLmRa3mYMCAIVCAQD3KAAAAADyj8wBAADaJdMsvXqfNKJ3ehFwW18tfWKonnn6aXeZgwIAhUIBgGh5HbR8Mw4AAAqBzAEAADqksa711/0MPTK1CNg2oq8WT7kj9InzyuteCvZQACBaXgct34wDAIBCIHMAAIC8qNvS+gbAg7un/0TAxMukLStDnzgvvO6lYA8FAKLlddDyzTgAACgEMgcAAMirbaulJ36cXgL8cXzok+aF170U7KEAQLS8Dlq+GQcAAIVA5gAAAJ2ierH0wAXvv/y/40tSpiX0CfPC614K9lAAIFpeBy3fjAMAgEIgcwAAgE6TJNLK2dLYfnsXACtmhD5Z3njdS8EeCgBEy+ug5ZtxAABQCGQOAADQ6bIZLXv0Ou254SjtGNWvtRhwwuteCvZQACBaXgct34wDAIBCIHMAAIBCmD9/vqZOmaSFZU+EPkpeed1LwR4KAETL66Dlm3EAAFAIZA4AAFAIXjOH170U7KEAQLS8DlqvFyMAALCFzAEAAArBa+bwupeCPRQAiJbXQev1YgQAALaQOQAAQCF4zRxe91KwhwIA0fI6aL1ejAAAwBYyBwAAKASvmcPrXgr2UAAgWl4HrdeLEQAA2ELmAAAAheA1c3jdS8EeCgBEy+ug9XoxAgAAW8gcAACgELxmDq97KdhDAYBoeR20Xi9GAABgC5kDAAAUgtfM4XUvBXsoABAtr4PW68UIAABsIXMAAIBC8Jo5vO6lYA8FAKLlddB6vRgBAIAtZA4AAFAIXjOH170U7KEAQLS8DlqvFyMAALCFzAEAAArBa+bwupeCPRQAiJbXQev1YgQAALaQOQAAQCF4zRxe91KwhwIA0fI6aL1ejAAAwBYyBwAAKASvmcPrXgr2UAAgWl4HrdeLEQAA2ELmAAAAheA1c3jdS8EeCgC4V1JSss/H26D1ejECAABbyBwAAKAQvGYOCgAUCgUA3KMAAAAAyD8yBwAAKASvmYMCAIVCAYBoeR20Xi9GAABgC5kDAAAUgtfM4XUvBXsoABAtr4PW68UIAABsIXMAAIBC8Jo5vO6lYA8FAKLlddB6vRgBAIAtZA4AAFAIXjOH170U7KEAQLS8DlqvFyMAALCFzAEAAArBa+bwupeCPRQAiJbXQev1YgQAALaQOQAAQCF4zRxe91KwhwIA0fI6aL1ejAAAwBYyBwAAKASvmcPrXgr2UAAgWl4HrdeLEQAA2ELmAAAAheA1c3jdS8EeCgBEy+ug9XoxAgAAW8gcAACgELxmDq97KdhDAYBoeR20Xi9GAABgC5kDAAAUgtfM4XUvBXsoABAtr4PW68UIAABsIXMAAIBC8Jo5vO6lYA8FAKLlddB6vRgBAIAtZA4AAFAIXjOH170U7KEAQLS8DlqvFyMAALCFzAEAAArBa+bwupeCPRQAiJbXQev1YgQAALaQOQAAQCF4zRxe91KwhwIA0fI6aL1ejAAAwBYyBwAAKASvmcPrXgr2UAAgWl4HrdeLEQAA2ELmAAAAheA1c3jdS8EeCgBEy+ug9XoxAgAAW8gcAACgELxmDq97KdhDAYBoeR20Xi9GAABgC5kDAAAUgtfM4XUvBXsoABAtr4PW68UIAABsIXMAAIBC8Jo5vO6lYA8FAKLlddB6vRgBAIAtZA4AAFAIXjOH170U7KEAQLS8DlqvFyMAALCFzAEAAArBa+bwupeCPRQAiNaBBx6okpISdenSRSeeeKKbp1evXurZs6d69eoV/Cw8PDw8PDw8fh8yBw8PDw8PD08hHq+Zo0uXLiopKdGBBx4YekUG5ygAEK2/DFoeHh4eHh4eHh4eHh4eHh4eHp4QT5cuXUKvyOAcBQCi1aNHj71KgEK0u4X4WH/5nLz9ZANP8T2F/G+Lh699TF+PYvp8rJ019HnIHDw8nfOE/m875oevve+vRzF9PtbOGvo8hf74nf3xvGaOAw88UF26dFGPHj1Cr8jgHAUAoveXi8rLx/rL5XviifwOOYRVyP+2sDe+9nvz9vUops/H2llDn4fMAXSO0P9tx4yv/d68fT2K6fOxdtbQ5yn0x+/sj0fmADrGznQEAuGbcaBzhA69MeNrvzdvX49i+nysnTX0ecgcQOcI/d92zPja783b16OYPh9rZw19HgoAAO9lZzoCgfDNONA5QofemPG135u3r0cxfT7Wzhr6PGQOoHOE/m87Znzt9+bt61FMn4+1s4Y+DwUAgPeyMx2BQPhmHOgcoUNvzPja783b16OYPh9rZw19HjIH0DlC/7cdM772e/P29Simz8faWUOfhwIAwHvZmY5AIHwzDnSO0KE3Znzt9+bt61FMn4+1s4Y+D5kD6Byh/9uOGV/7vXn7ehTT52PtrKHPQwEA4L3sTEcAecHFCAAACoHMAQAACoHMAXQMBQDgDBcjAAAoBDIHAAAoBDIH0DEUAP+/vXsNzbL8Azh+mc7p1rRM3SzMQ1Eg1LKMFlbSwQ6iRkZKEA2ygxJlb2KFhdWroqJCo150oOgEERaopCSRlBVBYUgKZWamZatJqDUz/f1fedN63Nqe/Xt27/bzgQfyue/r9npeXT/3XRsUjIMRAKgEMwcAUAlmDugdAQAKxsEIAFSCmQMAqAQzB/SOAAAF42AEACrBzAEAVIKZA3pHAICCWbZsWSxZsiSWLVvW11sBAArMzAEAVIKZA3pHAAAAAAAAgAISAAAAAAAAoIAEAAAAAAAAKCABAAAAAAAACkgAAAAAAACAAhIAAAAAAACggAQAAAAAAAAoIAEAKLF58+Z4/PHH4/LLL4+GhoaoqqqKYcOGxZQpU+LBBx+Mtra2vt4iAFAAK1asiNtvvz2ampripJNOiurq6qipqYnTTz89FixYEJs2berrLQIABfX9999HXV1dpJQipRRbt27t6y3Bf0IAADr45ptvssMvpRQnnnhiTJkyJU466aTsvTFjxsSXX37Z11sFAPq5Sy+9NFJKMWjQoBg7dmxMmTIlTjnllBg0aFCklKKqqipeffXVvt4mAFBAV155ZYevfwgAFJUAAHTw9ddfx+jRo+Ohhx6KLVu2dLj24Ycfxrhx4yKlFBMnToz29vY+2iUAUAQvv/xyrFmzJn7//fcO7//www9xzTXXREophgwZEt9//30f7RAAKKIXXnghUkoxZ84cAYDCEwCADv7444/Yu3dvp9c/+uij7HB85513KrgzAOBo0t7eHscdd1yklOKZZ57p6+0AAAWxc+fOOO6442L8+PGxceNGAYDCEwCAHhs+fHiklOLhhx/u660AAAV29tlnR0opHnvssb7eCgBQEFdffXWklGL16tWxdetWAYDCEwCgD/z111+xYcOGeO6552LBggVxzjnnRFVVVXboTJs2rexn79+/P15++eW46qqr4uSTT47q6upoaGiI888/Px599NFobW3t9d5ramoipRRLly7t1bMAgP9Wf545du3aFUOHDo2UUnzwwQe9ehYA8N/qLzPHa6+9FimluOGGGyIiBACOCgIAVNjy5cuzL6B39ir3YNy0aVNMnjy5y2ePHj06Vq5cWfb+33zzzexZfhEwAORXf505WltbY+XKldHY2Bgppbj++uvL2iMAUBn9Zeb4+eefY+TIkTFy5MgsGggAHA0EAKiwF198scuDq9yDcfv27XHiiSdmzxgwYEBMmzYt5s+fH7Nmzcq+gy6lFFVVVfHee+/1+O9oa2uLk08+OVJKMWvWrB6vBwAqpz/NHMuXLy/Z24QJE+LZZ5+NQ4cOlfHpAYBK6S8zx9y5cyOlFK+88kr2ngDA0UAAgAo7fDDW19fHzJkz48EHH4xVq1bFokWLenUwXnTRRdn6cePGxYYNGzpcb21tjUsvvTS7Z8SIEbF79+5uP//PP/+M6dOnR0opRo0aFTt27OjxHgGAyulPM8e6deti6tSpcf7558e4ceNi4MCB2T/yN23a1OM9AgCV0x9mjsPfbHDFFVd0eF8A4GggAECF/fjjj7Ft27aS95csWVL2wbhy5cps7eDBgzv90Tx79+6NiRMnZvfee++93Xr+wYMHY968eZFSirq6uvjkk096tD8AoPL648xx2M6dO+Omm26KlFIMGzYsvvvuux6tBwAqJ+8zR1tbWzQ0NERtbW3JF/kFAI4GAgDkRG8OxhkzZmRrb7nlli7vfeWVVzrU8QMHDnR5/8GDB6O5uTlSSlFbWxvr1q3r0d4AgHzJ68xxJJdffnm3/i4AIH/yMnPMnz8/UkrxxBNPlKwVADgaCACQE+UejHv27Inq6ups7fr167u8v729Perq6rL7165d2+m9hw4diptvvjlSSlFTUxPvv/9+t/cFAORTHmeOzixdujRSSjF58uQerwUA+lZeZo7GxsbsxxnX19d3eI0cOTJbN3LkyKivr4/777+/nI8LuSUAQE6UezCuXr06W1dbW9ut7647/LP8U0qxePHiTu9buHBhpJRi6NChZf3SYAAgf/I4c3TmiSeeiJRSnHnmmT1eCwD0rbzMHIcDQHdfixYt6ulHhVwTACAnyj0Yn3zyyWxdU1NTt9a0tLRka+bMmXPEe+64445IKcWQIUNizZo13d4PAJBveZs5OnPo0KG44IILIqUUzc3NPVoLAPS9/jBz+BFAHA0EAMiJcg/Gw9+ln1KKefPmdWvN008/na2ZNGlSyfW77747++L/6tWru70XACD/8jJzfPbZZ7F48eLYvHlzybpt27bF9ddfHymlGDhwYHz++efd3icAkA95mTm6IgBwNBAAICfKPRjnzp2brbvzzju7teatt97K1jQ0NHS4tn79+uza6NGjY+rUqZ2+nn/++Z58RAAgB/Iyc7z//vvZtRNOOCEmT54c5513XkyYMCEGDBiQ/W//b7zxRk8+HgCQE3mZOboiAHA0EAAgJ8o9GGfMmJGta2lp6daaVatWZWuOPfbYDtf+/o/xf3stWbKkB58QAMiDvMwcbW1tsXTp0rj22mvjtNNOi+HDh8egQYNixIgR0dTUFPfdd19s3769Jx8NAMiRvMwcXREAOBoIAJAT5R6Ml1xySbauu7+pfu3atdmagQMHlrljAKA/MnMAAJVg5oB8EAAgJ/pDGQcA+j8zBwBQCWYOyAcBAHKiP/xsPACg/zNzAACVYOaAfBAAICfKPRgXLlyYrZs3b1631jz99NPZmkmTJpW5YwCgPzJzAACVYOaAfBAAICfKPRiffPLJbF1TU1O31rS0tGRr5syZU+aOAYD+yMwBAFSCmQPyQQCAnCj3YFy9enW2rra2Ng4cOPCva6ZPn56tWbx4cS92DQD0N2YOAKASzByQDwIA5ES5B+OePXuiuro6W/vxxx93eX97e3vU1dVl969du7aXOwcA+hMzBwBQCWYOyAcBAHKi3IMxImLGjBnZ2ttuu63Le1977bXs3uOPP75bJR0AKA4zBwBQCWYOyAcBAHKiNwfjihUrsrWDBw+OjRs3HvG+ffv2xamnnprde8899/wfdg4A9CdmDgCgEswckA8CAOREbw7GiIgLL7wwWz9+/Pj48ssvO1z/5ZdfOvxMvBEjRsTu3bv/T7sHAPoLMwcAUAlmDsgHAQD6wFVXXRWNjY0dXvX19R1+yc0/rzc2NsaOHTs6feb27dtjzJgx2TOOOeaYuPjii2P+/Pkxe/bsqKmpya4NGjQo3nvvvQp+YgCgL5g5AIBKMHNAfgkA0AfGjRuXHVI9eW3durXL527atCnOOuusLp8xatSoWLFiRWU+KADQp8wcAEAlmDkgvwQA6AP/1cEYEbF///546aWX4sorr4yxY8fG4MGDY/To0dHU1BSPPPJItLa2/vcfEADIBTMHAFAJZg7ILwEAAAAAAAAKSAAAAAAAAIACEgAAAAAAAKCABAAAAAAAACggAQAAAAAAAApIAAAAAAAAgAISAAAAAAAAoIAEAAAAAAAAKCABAAAAAAAACkgAAAAAAACAAhIAAAAAAACggAQAAAAAAAAoIAEAAAAAAAAKSAAAAAAAAIACEgAAAAAAAKCABAAAAAAAACggAQAAAAAAAApIAAAAAAAAgAISAAAAAAAAoIAEAAAAAAAAKCABAAAAAAAACkgAAAAAAACAAhIAAAAAAACggAQAAACgxLRp0yKllL3Gjh0b7e3t3Vrb0tKSrWtubv5vNwoAAHRKAAAAAEr8MwCklOKpp57q1loBAAAA8kEAAAAAShwpADQ0NMS+ffv+da0AAAAA+SAAAAAAJY4UAFJK8cgjj/zrWgEAAADyQQAAAABK/D0AnHfeedl/jxgxIn777bcu1woAAACQDwIAAABQ4u8BYNmyZXH66adnf37ggQe6XCsAAABAPggAAABAib8HgGeeeSZef/317M/Dhg2LX3/9tdO1AgAAAOSDAAAAAJT4ZwA4dOhQnHHGGdl7LS0tna4VAAAAIB8EAAAAoMQ/A0BExNtvv529V1NTEz/99NMR1woAAACQDwIAAABQ4kgBICLi3HPPzd5ftGjREdcKAAAAkA8CAAAAUKKzAPDuu+9m71dXV8f27dtL1goAAACQDwIAAABQorMAEBFx4YUXZtduvfXWkrUCAAAA5IMAAAAAlOgqAHzwwQfZtaqqqtiyZUuH6wIAAADkgwAAAACU6CoARERMnz49u37jjTd2uCYAAABAPggAAABAiX8LAJ9++ml2/ZhjjomvvvoquyYAAABAPggAAABAiX8LABERs2fPzu657rrrsvcFAAAAyAcBAAAAKNGdALBhw4YYMGBApJRiwIAB8cUXX0SEAAAAAHkhAAAAACW6EwAiIubOnZvdN3PmzIgQAAAAIC8EAAAAoER3A8DmzZtj4MCB2b2ffPKJAAAAADkhAAAAACW6GwAiIpqbm7N7L7vsMgEAAAByQgAAAABK9CQAfPvtt1FVVZXd39TUJAAAAEAOCAAAAECJngSAiIgFCxZk9//9JQAAAEDfEQAAAIASPQ0AP/zwQwwZMkQAAACAHBEAAACAEj0NABERd911lwAAAAA5IgAAAAAlygkAu3btitraWgEAAAByQgAAAAAAAIACEgAAAAAAAKCABAAAAAAAACggAQAAAAAAAApIAAAAAAAAgAISAAAAAAAAoIAEAAAAAAAAKCABAAAAAAAACkgAAAAAAACAAhIAAAAAAACggAQAAAAAAAAoIAEAAAAAAAAKSAAAAAAAAIACEgAAAAAAAKCABAAAAAAAACggAQAAAAAAAApIAAAAAAAAgAISAAAAAAAAoIAEAAAAAAAAKCABAAAAAAAACkgAAAAAAACAAhIAAAAAAACggAQAAAAAAAAoIAEAAAAAAAAKSAAAAAAAAIACEgAAAAAAAKCABAAAAAAAACggAQAAAAAAAApIAAAAAAAAgAL6H20COto5VZrSAAAAAElFTkSuQmCC\" width=\"640\">"
      ],
      "text/plain": [
       "<IPython.core.display.HTML object>"
      ]
     },
     "metadata": {},
     "output_type": "display_data"
    }
   ],
   "source": [
    "plot(Nl, errEuler,label='Euler')\n",
    "plot(Nl, errRK4,label='RK4')\n",
    "xlabel('N')\n",
    "ylabel('error(N)')\n",
    "xscale('log')\n",
    "yscale('log')\n",
    "title('Comparación de la velocidad de convergencia.')\n",
    "legend(loc='best')\n",
    "grid()\n",
    "show()"
   ]
  },
  {
   "cell_type": "code",
   "execution_count": null,
   "metadata": {},
   "outputs": [],
   "source": []
  }
 ],
 "metadata": {
  "kernelspec": {
   "display_name": "Python 3",
   "language": "python",
   "name": "python3"
  },
  "language_info": {
   "codemirror_mode": {
    "name": "ipython",
    "version": 3
   },
   "file_extension": ".py",
   "mimetype": "text/x-python",
   "name": "python",
   "nbconvert_exporter": "python",
   "pygments_lexer": "ipython3",
   "version": "3.8.3"
  }
 },
 "nbformat": 4,
 "nbformat_minor": 4
}
