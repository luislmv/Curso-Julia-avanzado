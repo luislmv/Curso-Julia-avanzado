{
 "cells": [
  {
   "cell_type": "markdown",
   "metadata": {},
   "source": [
    "# Tópicos avanzados de programación con Julia"
   ]
  },
  {
   "cell_type": "markdown",
   "metadata": {},
   "source": [
    "## _Presentación y Sistemas Operativos_\n",
    "\n"
   ]
  },
  {
   "cell_type": "markdown",
   "metadata": {},
   "source": [
    " "
   ]
  },
  {
   "cell_type": "markdown",
   "metadata": {},
   "source": [
    "## Presentación del taller"
   ]
  },
  {
   "cell_type": "markdown",
   "metadata": {},
   "source": [
    "### Objetivo General"
   ]
  },
  {
   "cell_type": "markdown",
   "metadata": {},
   "source": [
    "Crear una base sólida sobre la cual construir algoritmos robustos y eficientes para la librería de sistemas dinámicos en Julia."
   ]
  },
  {
   "cell_type": "markdown",
   "metadata": {},
   "source": [
    "### Objetivos Específicos"
   ]
  },
  {
   "cell_type": "markdown",
   "metadata": {},
   "source": [
    "1. Recomendaciones generales y buenas prácticas al crear el entorno de desarrollo.\n",
    "2. Tratamiento de errores mediante la depuración y buenas prácticas de programación.\n",
    "3. Mejora del rendimiento del código mediante la perfilación y el análisis de la complejidad del mismo.\n",
    "4. Mejora del rendimiento del código mediante la programación en paralelo."
   ]
  },
  {
   "cell_type": "markdown",
   "metadata": {},
   "source": [
    "### Temario para cubrir el objetivo 1"
   ]
  },
  {
   "cell_type": "markdown",
   "metadata": {},
   "source": [
    "__Recomendaciones generales y buenas prácticas al crear el entorno de desarrollo.__\n",
    "- Sistemas operativos.\n",
    "  - Definición, estructura y funciones de un sistema operativo.\n",
    "  - Sistemas de archivo.\n",
    "    - Sistema de archivos en Windows.\n",
    "    - Sistema virtual de archivos (VFS) en sistemas Nix.\n",
    "    - Estructura del VFS en GNU/Linux.\n",
    "  - El entorno de desarrollo en Windows.\n",
    "  - Arquitectura de sistemas operativos GNU/Linux.\n",
    "  - Particiones, formatos y recomendaciones para la instalación de Ubuntu.\n",
    "  - Intérprete de linea de comandos (CLI).\n",
    "    - Comandos.\n",
    "    - Intérpretes de comandos.\n",
    "      - El intérprete de comandos BASH.\n",
    "      - El prompt por defecto de BASH.\n",
    "      - Otros intérpretes.\n",
    "    - Terminales y pseudo terminales.\n",
    "    - Estructura de los comandos.\n",
    "    - Ejemplos de comandos.\n",
    "  - Administración básica de sistemas GNU/Linux.\n",
    "- Introducción a la automatización de tareas con BASH Scripting.\n",
    "- Mini proyecto de BASH Scripting (Instalador para el taller TAPJ).\n",
    "\n",
    "    "
   ]
  },
  {
   "cell_type": "markdown",
   "metadata": {},
   "source": [
    "## Sistemas Operativos"
   ]
  },
  {
   "cell_type": "markdown",
   "metadata": {},
   "source": [
    "### ¿Qué es un sistema operativo?"
   ]
  },
  {
   "cell_type": "markdown",
   "metadata": {},
   "source": [
    "- Programa o conjunto de programas que gestionan los recursos de hardware de un ordenador.\n",
    "- Intermediario entre la máquina y el humano."
   ]
  },
  {
   "cell_type": "markdown",
   "metadata": {},
   "source": [
    "### Estructura básica de un sistema operativo"
   ]
  },
  {
   "cell_type": "markdown",
   "metadata": {},
   "source": [
    "<img src=\"img/SO.svg\" width=\"50%\"/>"
   ]
  },
  {
   "cell_type": "markdown",
   "metadata": {},
   "source": [
    "### Funciones de un sistema operativo"
   ]
  },
  {
   "cell_type": "markdown",
   "metadata": {},
   "source": [
    "<img src=\"img/SO3.svg\" width=\"50%\"/>"
   ]
  },
  {
   "cell_type": "markdown",
   "metadata": {},
   "source": [
    "### Sistemas de archivo"
   ]
  },
  {
   "cell_type": "markdown",
   "metadata": {},
   "source": [
    "#### Sistema de archivos en Windows"
   ]
  },
  {
   "cell_type": "markdown",
   "metadata": {},
   "source": [
    "<img src=\"img/wfs.png\" width=\"30%\"/>"
   ]
  },
  {
   "cell_type": "markdown",
   "metadata": {},
   "source": [
    "En este artículo cuentan por qué Windows usa el caracter \\ para separar los directorios padres de lso directorios hijos.\n",
    "[Pueden ver el artículo aquí](https://www.muycomputer.com/2014/02/10/por-que-se-usa-la-barra-invertida-en-windows/)"
   ]
  },
  {
   "cell_type": "markdown",
   "metadata": {},
   "source": [
    "#### Sistema virtual de archivos (VFS) en sistemas Nix"
   ]
  },
  {
   "cell_type": "markdown",
   "metadata": {},
   "source": [
    "<img src=\"img/vfs.png\" width=\"70%\"/>"
   ]
  },
  {
   "cell_type": "markdown",
   "metadata": {},
   "source": [
    "#### Estructura del VFS en GNU/Linux"
   ]
  },
  {
   "cell_type": "markdown",
   "metadata": {},
   "source": [
    "- Se denomina Sistema Virtual de Archivos, porque prácticamente todo se simula como un archivo o un directorio.\n",
    "  - los archivos reales almacenados en el disco.\n",
    "  - Memorias usb, Teclado, Mause, Procesos en ejecución, etc.\n",
    "- Sólo algunos dispositivos como las interfaces de red, no se consideran archivos del VFS.\n",
    "- El sistema virtual de archivos tiene una estructura jerárquica absoluta. Todos los directorios dentro del VFS desienden del directorio raiz __/__ (No confundir con el directorio __/root__, que es el equivalenta a la carpeta \"__/home__\" del usuario __root__)."
   ]
  },
  {
   "cell_type": "markdown",
   "metadata": {},
   "source": [
    "Directorios | Descripción\n",
    "-- | --\n",
    "/|Directorio raíz principal del sistema de archivos virtual.\n",
    "/boot|Contiene una imagen del kernel, e información de arranque del sistema operativo.\n",
    "/dev|Dispositivos reconocidos por el sistema.\n",
    "/home|Directorios de los “usuarios comunes”.\n",
    "/media|Puntos de montajes para medios extraíbles.\n",
    "/root|Directorio home del superusuario.\n",
    "/etc|Directorio de archivos de configuración.\n",
    "/bin - /sbin|Binarios ejecutables.\n",
    "/opt|Contiene los programas que no se proporcionan en los repositorios oficiales dels sistema.\n",
    "/proc|Directorio que contiene los procesos en ejecución.\n",
    "/tmp|Archovos temporales.\n",
    "\n",
    "Pueden ver una descripción más detallada del VFS [aquí](https://es.wikipedia.org/wiki/Filesystem_Hierarchy_Standard#Especificando_los_directorios_definidos_por_FHS)."
   ]
  },
  {
   "cell_type": "markdown",
   "metadata": {},
   "source": [
    "### El entorno de desarrollo en Windows."
   ]
  },
  {
   "cell_type": "markdown",
   "metadata": {},
   "source": [
    "Descargar [Julia](https://julialang.org/downloads/), [Anaconda](https://www.anaconda.com/products/individual)/[Miniconda](https://docs.conda.io/en/latest/miniconda.html) y [Atom](https://atom.io/)\n"
   ]
  },
  {
   "cell_type": "markdown",
   "metadata": {},
   "source": [
    "Instalar todo es completamente intuitivo. Sólo hay que seguir los pasos y continuar."
   ]
  },
  {
   "cell_type": "markdown",
   "metadata": {},
   "source": [
    "Abrir Julia en algún terminal de Windows (PowerShell o cmd) y ejecuar las instrucciones:\n",
    "```\n",
    "using Pkg\n",
    "Pkg.add(\"IJulia\")\n",
    "```\n",
    "Con esto ya Jupyter debería de reconocer el kernel de Julia.\n",
    "Sólo falta configurar la variable de entorno PATH de Windows e instalar Juno en Atom para que este también conecte con Julia (explicación en directo).\n",
    "\n",
    "__(Opcional)__\n",
    "Finalmente se instala el subsistema de Linux para Windows (explicación en directo)\n",
    "\n",
    "Este subsistema permite instalar una distribución completa en Windows (De momento no hay soporte oficial para los entorno gráfico). Esto permite una gran [interoperatividad](https://docs.microsoft.com/es-es/windows/wsl/interop) entre ambos sistemas.\n",
    "\n",
    "Este subsistema ha causado mucha controvercia. Incluso algunos predicen una [posible convergencia](https://www.muycomputer.com/2020/09/28/windows-y-linux-convergencia/) entre Windows y Linux. Personalmente yo comparte más la opinión del autor de [este artículo](https://www.muylinux.com/2020/09/28/linux-windows-convergencia-escritorio/).\n",
    "\n",
    "__(Opcional)__\n",
    "Puedes crear una live usb que almacene los programas instalados y gurade la información personal con [YUMI](https://www.pendrivelinux.com/yumi-multiboot-usb-creator/).\n",
    "También admite instalar más de una distribución en la misma memoria usb.\n",
    "\n",
    "__(Opcional)__\n",
    "Se puede probar casi cualquier distribución en [este sitio](https://distrotest.net/)."
   ]
  },
  {
   "cell_type": "markdown",
   "metadata": {},
   "source": [
    "### Arquitectura de sistemas operativos GNU/Linux"
   ]
  },
  {
   "cell_type": "markdown",
   "metadata": {},
   "source": [
    "<img src=\"img/SO2.svg\" width=\"50%\"/>"
   ]
  },
  {
   "cell_type": "markdown",
   "metadata": {},
   "source": [
    "### Particiones, formatos y recomendaciones para la instalación de Ubuntu."
   ]
  },
  {
   "cell_type": "markdown",
   "metadata": {},
   "source": [
    "Particiones:\n",
    "- Tabla de particiones __mbr__ y __gpt__\n",
    "- Particiones primarias y extendidas\n",
    "- Nomenclatura en __/dev__\n",
    "- __sdXY__, __hdXY__"
   ]
  },
  {
   "cell_type": "markdown",
   "metadata": {},
   "source": [
    "Formatos o sistemas de archivos:\n",
    "- __Ext2__: Sistema de archivos por defecto para Linux.\n",
    "- __Ext3__: agregó al ext2:\n",
    "  - Journaling y consistencia de los datos.\n",
    "  - Compatibilidad hacia atrás (montaje como ext2).\n",
    "- __Ext4__: actualización del ext3 con:\n",
    "  - Mejor uso de CPU.\n",
    "  - Mejor rendimiento en operaciones de R/W.\n",
    "  - Compatibilidad hacia atrás.\n",
    " \n",
    "Otros filesystems\n",
    "\n",
    "- __JFS__ – Journaling FileSystem.\n",
    "  - IBM, transaccional, usado en servidores de alto rendimiento.\n",
    "- __ReiserFS__:\n",
    "  - Journalink, ideal para archivos pequeños (~4KiB).\n",
    "  - (cache de webserver, archivos de imagen, etc).\n",
    "- __BRTFS__ (b-tree FS, Butter-FS, Better-FS).\n",
    "  - Oracle, snapshots, alta integridad, CoW (copy-on-write).\n",
    "  - Multidispositivo, compresión, etc.\n"
   ]
  },
  {
   "cell_type": "markdown",
   "metadata": {},
   "source": [
    "Las recomendaciónes para el particionado durante la instalación, lo vamos va ver en directo."
   ]
  },
  {
   "cell_type": "markdown",
   "metadata": {},
   "source": [
    "### Intérprete de linea de comandos (CLI)"
   ]
  },
  {
   "cell_type": "markdown",
   "metadata": {},
   "source": [
    "<img src=\"img/CLI.svg\" width=\"40%\"/>"
   ]
  },
  {
   "cell_type": "markdown",
   "metadata": {},
   "source": [
    "#### Comandos"
   ]
  },
  {
   "cell_type": "markdown",
   "metadata": {},
   "source": [
    "Los comandos, en su mayor parte, no son realmente más que pequeños programas incorporados en el sistema operativo. Técnicamente, lo único que diferencia los comandos de los programas (o de los scripts) es que los comandos siempre están en carpetas muy concretas (__/bin__, __/usr/bin__, y en el caso de haber iniciado sesión como superusuario, __/sbin__), así que no es necesario especificar dónde se encuentran, ya que esos directoriso están incluidos en la variable global __PATH__ del sistema.\n",
    "\n",
    "Los directorios anteriores son parte del sistema y no deben modificarse manualmente.\n",
    "Para añadir comandos por nuestra cuenta (spripts o compilados por nosotros), el lugar correcto para colocarlos es __/usr/local/bin__, que tambén está incluido en la variable de entorno __PATH__. "
   ]
  },
  {
   "cell_type": "markdown",
   "metadata": {},
   "source": [
    "#### Intérpretes de comandos"
   ]
  },
  {
   "cell_type": "markdown",
   "metadata": {},
   "source": [
    "Es un conjunto de programas que proveen una interfas de usuario que nos permiten acceder a los recursos del sistema mediante comandos.\n",
    "El concepto de Command-Line Interface (CLI), es más que el intérprete. Se necesita de las terminales para completar la interfaz.\n",
    "- Terminales o pseudo terminales (El progrma con el que interacutamos. La capa más externa).\n",
    "- Terminal (El progrma que dibuja en pantalla)"
   ]
  },
  {
   "cell_type": "markdown",
   "metadata": {},
   "source": [
    "##### El intérprete de comandos BASH"
   ]
  },
  {
   "cell_type": "markdown",
   "metadata": {},
   "source": [
    "Por defecto las distribusiones GNU/Linux usan a GNU Bash o simplemente Bash (Bourne-again shell) como intérprete de linea de comandos."
   ]
  },
  {
   "cell_type": "markdown",
   "metadata": {},
   "source": [
    "En la variable glogal __SHELL__ se almacena el interprete de linea de comandos qpor defecto para el usuario actual."
   ]
  },
  {
   "cell_type": "code",
   "execution_count": 1,
   "metadata": {},
   "outputs": [
    {
     "name": "stdout",
     "output_type": "stream",
     "text": [
      "/bin/bash\n"
     ]
    }
   ],
   "source": [
    "echo $SHELL"
   ]
  },
  {
   "cell_type": "markdown",
   "metadata": {},
   "source": [
    "Muestra la shell que estamos usando en estos momentos."
   ]
  },
  {
   "cell_type": "code",
   "execution_count": null,
   "metadata": {},
   "outputs": [],
   "source": [
    "echo $0"
   ]
  },
  {
   "cell_type": "markdown",
   "metadata": {},
   "source": [
    "Podemos ver el listado de las shells que tenemos disponibles en el sistema."
   ]
  },
  {
   "cell_type": "code",
   "execution_count": null,
   "metadata": {},
   "outputs": [
    {
     "name": "stdout",
     "output_type": "stream",
     "text": [
      "[PEXP\\[\\]ECT_PROMPT>\n",
      "[PEXP\\[\\]ECT_PROMPT># /etc/shells: valid login shells\n",
      "/bin/sh\n",
      "/bin/bash\n",
      "/bin/rbash\n",
      "/bin/dash\n"
     ]
    }
   ],
   "source": [
    "cat /etc/shells"
   ]
  },
  {
   "cell_type": "markdown",
   "metadata": {},
   "source": [
    "##### El prompt por defecto de BASH"
   ]
  },
  {
   "cell_type": "markdown",
   "metadata": {},
   "source": [
    "<img src=\"img/prompt.png\" width=\"60%\"/>"
   ]
  },
  {
   "cell_type": "markdown",
   "metadata": {},
   "source": [
    "##### Otros intérpretes"
   ]
  },
  {
   "cell_type": "markdown",
   "metadata": {},
   "source": [
    "Existe una gran cantidad de shells. Podemos ver un listado bastante completo [aquí](https://es.wikipedia.org/wiki/Shell_de_Unix).\n",
    "\n",
    "Hacemos especial mensión a una de las mejores alternativas a Bash [ZSH](https://es.wikipedia.org/wiki/Zsh), por ser más configurable y emular a Bash cuando es necesario."
   ]
  },
  {
   "cell_type": "markdown",
   "metadata": {},
   "source": [
    "#### Terminales y pseudo terminales"
   ]
  },
  {
   "cell_type": "markdown",
   "metadata": {},
   "source": [
    "Tenemos (\"La caja\" donde se ejecutan los comandos) dos tipo:\n",
    "- Nativas o __tty__. __/dev/ttyN__ , N natural.\n",
    "  - Se usan cuando no estamos en un entorno gráfico.\n",
    "  - Anque hay muchas tty, sólo nos podemos conectar directamante de la 1 a la 6.\n",
    "- Emuladores de terminal o pseudo terminales __pts__.\n",
    "  - Se usan para conectarno remotamente o en ambientes gráficos. __/dev/pts/N__.\n",
    "  - Se usan mediante programas como gnome-terminal o konsole."
   ]
  },
  {
   "cell_type": "code",
   "execution_count": 5,
   "metadata": {
    "collapsed": true
   },
   "outputs": [
    {
     "name": "stdout",
     "output_type": "stream",
     "text": [
      "tty\n",
      "tty0\n",
      "tty1\n",
      "tty10\n",
      "tty11\n",
      "tty12\n",
      "tty13\n",
      "tty14\n",
      "tty15\n",
      "tty16\n",
      "tty17\n",
      "tty18\n",
      "tty19\n",
      "tty2\n",
      "tty20\n",
      "tty21\n",
      "tty22\n",
      "tty23\n",
      "tty24\n",
      "tty25\n",
      "tty26\n",
      "tty27\n",
      "tty28\n",
      "tty29\n",
      "tty3\n",
      "tty30\n",
      "tty31\n",
      "tty32\n",
      "tty33\n",
      "tty34\n",
      "tty35\n",
      "tty36\n",
      "tty37\n",
      "tty38\n",
      "tty39\n",
      "tty4\n",
      "tty40\n",
      "tty41\n",
      "tty42\n",
      "tty43\n",
      "tty44\n",
      "tty45\n",
      "tty46\n",
      "tty47\n",
      "tty48\n",
      "tty49\n",
      "tty5\n",
      "tty50\n",
      "tty51\n",
      "tty52\n",
      "tty53\n",
      "tty54\n",
      "tty55\n",
      "tty56\n",
      "tty57\n",
      "tty58\n",
      "tty59\n",
      "tty6\n",
      "tty60\n",
      "tty61\n",
      "tty62\n",
      "tty63\n",
      "tty7\n",
      "tty8\n",
      "tty9\n",
      "ttyprintk\n",
      "ttyS0\n",
      "ttyS1\n",
      "ttyS10\n",
      "ttyS11\n",
      "ttyS12\n",
      "ttyS13\n",
      "ttyS14\n",
      "ttyS15\n",
      "ttyS16\n",
      "ttyS17\n",
      "ttyS18\n",
      "ttyS19\n",
      "ttyS2\n",
      "ttyS20\n",
      "ttyS21\n",
      "ttyS22\n",
      "ttyS23\n",
      "ttyS24\n",
      "ttyS25\n",
      "ttyS26\n",
      "ttyS27\n",
      "ttyS28\n",
      "ttyS29\n",
      "ttyS3\n",
      "ttyS30\n",
      "ttyS31\n",
      "ttyS4\n",
      "ttyS5\n",
      "ttyS6\n",
      "ttyS7\n",
      "ttyS8\n",
      "ttyS9\n"
     ]
    }
   ],
   "source": [
    "ls /dev | grep tty*"
   ]
  },
  {
   "cell_type": "markdown",
   "metadata": {},
   "source": [
    "Podemos ver la terminal que estamos usando."
   ]
  },
  {
   "cell_type": "code",
   "execution_count": 10,
   "metadata": {},
   "outputs": [
    {
     "name": "stdout",
     "output_type": "stream",
     "text": [
      "/dev/pts/7\n"
     ]
    }
   ],
   "source": [
    "tty"
   ]
  },
  {
   "cell_type": "markdown",
   "metadata": {},
   "source": [
    "Para ver todas las terminales en uso, se puede usar:"
   ]
  },
  {
   "cell_type": "code",
   "execution_count": 11,
   "metadata": {},
   "outputs": [
    {
     "name": "stdout",
     "output_type": "stream",
     "text": [
      "luis     tty1         2020-10-02 07:10 (:0)\n",
      "luis     pts/0        2020-10-02 07:10 (:0)\n",
      "luis     pts/2        2020-10-02 07:10 (:0)\n",
      "luis     pts/1        2020-10-02 07:10 (:0)\n",
      "luis     pts/3        2020-10-02 07:10 (:0)\n",
      "luis     pts/4        2020-10-02 07:10 (:0)\n",
      "luis     pts/8        2020-10-02 11:24 (:0)\n"
     ]
    }
   ],
   "source": [
    "who"
   ]
  },
  {
   "cell_type": "markdown",
   "metadata": {
    "scrolled": true
   },
   "source": [
    "O también podemos ver las __pts__ en uso, mirando directamente en el directorio __/dev/pts__:"
   ]
  },
  {
   "cell_type": "code",
   "execution_count": 13,
   "metadata": {},
   "outputs": [
    {
     "name": "stdout",
     "output_type": "stream",
     "text": [
      "0  1  2  3  4  5  6  7  8  ptmx\n"
     ]
    }
   ],
   "source": [
    "ls /dev/pts"
   ]
  },
  {
   "cell_type": "markdown",
   "metadata": {},
   "source": [
    "Terminales (Los programas que pintan dentro de \"la caja\").\n",
    "\n",
    "La terminal que estamos usando actualmente, se puede ver y cambiar, leyendo y modificando la variable de ambiente __TERM__."
   ]
  },
  {
   "cell_type": "code",
   "execution_count": 14,
   "metadata": {},
   "outputs": [
    {
     "name": "stdout",
     "output_type": "stream",
     "text": [
      "dumb\n"
     ]
    }
   ],
   "source": [
    "echo $TERM"
   ]
  },
  {
   "cell_type": "markdown",
   "metadata": {},
   "source": [
    "Podemos ver el listado completo de todas las terminales en el sistema en los siguientes directorios:"
   ]
  },
  {
   "cell_type": "code",
   "execution_count": 15,
   "metadata": {
    "collapsed": true
   },
   "outputs": [
    {
     "name": "stdout",
     "output_type": "stream",
     "text": [
      "/lib/terminfo/a:\n",
      "ansi\n",
      "\n",
      "/lib/terminfo/c:\n",
      "cons25  cons25-debian  cygwin\n",
      "\n",
      "/lib/terminfo/d:\n",
      "dumb\n",
      "\n",
      "/lib/terminfo/E:\n",
      "Eterm  Eterm-color\n",
      "\n",
      "/lib/terminfo/h:\n",
      "hurd\n",
      "\n",
      "/lib/terminfo/l:\n",
      "linux\n",
      "\n",
      "/lib/terminfo/m:\n",
      "mach  mach-bold  mach-color  mach-gnu  mach-gnu-color\n",
      "\n",
      "/lib/terminfo/p:\n",
      "pcansi\n",
      "\n",
      "/lib/terminfo/r:\n",
      "rxvt  rxvt-basic  rxvt-m  rxvt-unicode  rxvt-unicode-256color\n",
      "\n",
      "/lib/terminfo/s:\n",
      "screen           screen-256color-bce  screen-s  screen.xterm-256color\n",
      "screen-256color  screen-bce           screen-w  sun\n",
      "\n",
      "/lib/terminfo/t:\n",
      "tmux  tmux-256color\n",
      "\n",
      "/lib/terminfo/v:\n",
      "vt100  vt102  vt220  vt52\n",
      "\n",
      "/lib/terminfo/w:\n",
      "wsvt25  wsvt25m\n",
      "\n",
      "/lib/terminfo/x:\n",
      "xterm           xterm-color   xterm-mono  xterm-r6     xterm-xfree86\n",
      "xterm-256color  xterm-debian  xterm-r5    xterm-vt220\n"
     ]
    }
   ],
   "source": [
    "ls /lib/terminfo/*"
   ]
  },
  {
   "cell_type": "markdown",
   "metadata": {},
   "source": [
    "Cada una de estas terminales tiene distintas características:\n",
    "- Distinta rofundidad de color, el número de columnas, etc.\n",
    "- Algunas sólo dibujan en blanco y negro.\n",
    "- Opciones epeciales para los ambientes gráficos, etc.\n",
    "\n",
    "Como veremos más adelante algunas terminales no funcionan bien en siertos casos y es necesario cambiarlas."
   ]
  },
  {
   "cell_type": "markdown",
   "metadata": {},
   "source": [
    "#### Estructura de los comando"
   ]
  },
  {
   "cell_type": "code",
   "execution_count": null,
   "metadata": {},
   "outputs": [],
   "source": []
  },
  {
   "cell_type": "markdown",
   "metadata": {},
   "source": [
    "#### Ejemplos de comandos"
   ]
  },
  {
   "cell_type": "markdown",
   "metadata": {},
   "source": [
    "__pwd__ imprime en pantalla el directorio actual"
   ]
  },
  {
   "cell_type": "code",
   "execution_count": 17,
   "metadata": {},
   "outputs": [
    {
     "name": "stdout",
     "output_type": "stream",
     "text": [
      "/home/luis/Proyecto-julia/Curso\n"
     ]
    }
   ],
   "source": [
    "pwd"
   ]
  },
  {
   "cell_type": "markdown",
   "metadata": {},
   "source": [
    "__echo__ imprime en pantalla una cadena de texto (puede ser la salida de un comando)"
   ]
  },
  {
   "cell_type": "code",
   "execution_count": 18,
   "metadata": {},
   "outputs": [
    {
     "name": "stdout",
     "output_type": "stream",
     "text": [
      "Hola talleristas\n"
     ]
    }
   ],
   "source": [
    "echo \"Hola talleristas\""
   ]
  },
  {
   "cell_type": "markdown",
   "metadata": {},
   "source": [
    "En este caso las comillas, no son de uso obligatorio."
   ]
  },
  {
   "cell_type": "code",
   "execution_count": 4,
   "metadata": {},
   "outputs": [
    {
     "name": "stdout",
     "output_type": "stream",
     "text": [
      "Hola talleristas\n"
     ]
    }
   ],
   "source": [
    "echo Hola talleristas"
   ]
  },
  {
   "cell_type": "markdown",
   "metadata": {},
   "source": [
    "__ls__ lista el contenido del directorio acual"
   ]
  },
  {
   "cell_type": "code",
   "execution_count": 6,
   "metadata": {
    "collapsed": true
   },
   "outputs": [
    {
     "name": "stdout",
     "output_type": "stream",
     "text": [
      " anaconda-icon.png\n",
      " Clase_2_Sistemas_y_primeros_comandos_bash.ipynb\n",
      " Clase-Julia.ipynb\n",
      " Comandos-Bash.ipynb\n",
      " Depuración.odt\n",
      " funciones.sh\n",
      "'Guión-Video1-(Instalación en Windows y recomendaciones generales)'\n",
      "'Guión-Video2-(Recomendaciones-Instalación-de-Linux)'\n",
      " icon\n",
      " img\n",
      " instalación-julia-y-anaconda-ubuntu\n",
      " install.sh\n",
      " Introducción-Juno.jl\n",
      " Julia-Avanzado\n",
      " prompt.xcf\n",
      " prueba2.sh\n",
      " prueba.jl\n",
      " prueba.sh\n",
      " salida\n",
      " Untitled.ipynb\n"
     ]
    }
   ],
   "source": [
    "ls"
   ]
  },
  {
   "cell_type": "markdown",
   "metadata": {},
   "source": [
    "Para mostrar el contenido de un directorio específico, hay que pasarlo como parámetro."
   ]
  },
  {
   "cell_type": "code",
   "execution_count": 10,
   "metadata": {
    "collapsed": true
   },
   "outputs": [
    {
     "name": "stdout",
     "output_type": "stream",
     "text": [
      "anki     mathematica         pyi-bindepend     pyside2-designer  WolframKernel\n",
      "f2py     Mathematica         pyi-grab_version  pyside2-lupdate\n",
      "f2py2    MathKernel          pyi-makespec      pyside2-rcc\n",
      "f2py2.7  mcc                 pyinstaller       pyside2-uic\n",
      "math     pyi-archive_viewer  pyi-set_version   wolfram\n"
     ]
    }
   ],
   "source": [
    "ls /usr/local/bin"
   ]
  },
  {
   "cell_type": "markdown",
   "metadata": {},
   "source": [
    "La opción __-a__ o __--all__, muestra todos los archivos, incluyendo los ocultos."
   ]
  },
  {
   "cell_type": "code",
   "execution_count": 28,
   "metadata": {
    "collapsed": true
   },
   "outputs": [
    {
     "name": "stdout",
     "output_type": "stream",
     "text": [
      ".      f2py2.7      mcc                 pyinstaller       pyside2-uic\n",
      "..     math         pyi-archive_viewer  pyi-set_version   wolfram\n",
      "anki   mathematica  pyi-bindepend       pyside2-designer  WolframKernel\n",
      "f2py   Mathematica  pyi-grab_version    pyside2-lupdate\n",
      "f2py2  MathKernel   pyi-makespec        pyside2-rcc\n"
     ]
    }
   ],
   "source": [
    "ls -a /usr/local/bin"
   ]
  },
  {
   "cell_type": "markdown",
   "metadata": {},
   "source": [
    "La opción __-l__ (ele) muestra información adicional."
   ]
  },
  {
   "cell_type": "code",
   "execution_count": 31,
   "metadata": {
    "collapsed": true
   },
   "outputs": [
    {
     "name": "stdout",
     "output_type": "stream",
     "text": [
      "total 56\n",
      "lrwxrwxrwx 1 root root  30 feb 21  2020 anki -> /usr/local/share/anki/bin/anki\n",
      "-rwxr-xr-x 1 root root 219 nov 18  2019 f2py\n",
      "-rwxr-xr-x 1 root root 219 nov 18  2019 f2py2\n",
      "-rwxr-xr-x 1 root root 219 nov 18  2019 f2py2.7\n",
      "lrwxrwxrwx 1 root root  52 mar 26 03:22 math -> /usr/local/Wolfram/Mathematica/12.1/Executables/math\n",
      "lrwxrwxrwx 1 root root  59 mar 26 03:22 mathematica -> /usr/local/Wolfram/Mathematica/12.1/Executables/mathematica\n",
      "lrwxrwxrwx 1 root root  59 mar 26 03:22 Mathematica -> /usr/local/Wolfram/Mathematica/12.1/Executables/Mathematica\n",
      "lrwxrwxrwx 1 root root  58 mar 26 03:22 MathKernel -> /usr/local/Wolfram/Mathematica/12.1/Executables/MathKernel\n",
      "lrwxrwxrwx 1 root root  51 mar 26 03:22 mcc -> /usr/local/Wolfram/Mathematica/12.1/Executables/mcc\n",
      "-rwxr-xr-x 1 root root 410 jul  3 19:10 pyi-archive_viewer\n",
      "-rwxr-xr-x 1 root root 400 jul  3 19:10 pyi-bindepend\n",
      "-rwxr-xr-x 1 root root 406 jul  3 19:10 pyi-grab_version\n",
      "-rwxr-xr-x 1 root root 398 jul  3 19:10 pyi-makespec\n",
      "-rwxr-xr-x 1 root root 396 jul  3 19:10 pyinstaller\n",
      "-rwxr-xr-x 1 root root 404 jul  3 19:10 pyi-set_version\n",
      "-rwxr-xr-x 1 root root 237 jul  2 17:58 pyside2-designer\n",
      "-rwxr-xr-x 1 root root 229 jul  2 17:58 pyside2-lupdate\n",
      "-rwxr-xr-x 1 root root 227 jul  2 17:58 pyside2-rcc\n",
      "-rwxr-xr-x 1 root root 227 jul  2 17:58 pyside2-uic\n",
      "lrwxrwxrwx 1 root root  55 mar 26 03:22 wolfram -> /usr/local/Wolfram/Mathematica/12.1/Executables/wolfram\n",
      "lrwxrwxrwx 1 root root  61 mar 26 03:22 WolframKernel -> /usr/local/Wolfram/Mathematica/12.1/Executables/WolframKernel\n"
     ]
    }
   ],
   "source": [
    "ls -l /usr/local/bin"
   ]
  },
  {
   "cell_type": "markdown",
   "metadata": {},
   "source": [
    "La opción __-h__ o __--human-readable__, se usa junto a la opción __-l__ para mostrar los tamaños de los archivos en unidades fásiles de comprender por las personas."
   ]
  },
  {
   "cell_type": "code",
   "execution_count": 30,
   "metadata": {
    "collapsed": true
   },
   "outputs": [
    {
     "name": "stdout",
     "output_type": "stream",
     "text": [
      "total 56K\n",
      "lrwxrwxrwx 1 root root  30 feb 21  2020 anki -> /usr/local/share/anki/bin/anki\n",
      "-rwxr-xr-x 1 root root 219 nov 18  2019 f2py\n",
      "-rwxr-xr-x 1 root root 219 nov 18  2019 f2py2\n",
      "-rwxr-xr-x 1 root root 219 nov 18  2019 f2py2.7\n",
      "lrwxrwxrwx 1 root root  52 mar 26 03:22 math -> /usr/local/Wolfram/Mathematica/12.1/Executables/math\n",
      "lrwxrwxrwx 1 root root  59 mar 26 03:22 mathematica -> /usr/local/Wolfram/Mathematica/12.1/Executables/mathematica\n",
      "lrwxrwxrwx 1 root root  59 mar 26 03:22 Mathematica -> /usr/local/Wolfram/Mathematica/12.1/Executables/Mathematica\n",
      "lrwxrwxrwx 1 root root  58 mar 26 03:22 MathKernel -> /usr/local/Wolfram/Mathematica/12.1/Executables/MathKernel\n",
      "lrwxrwxrwx 1 root root  51 mar 26 03:22 mcc -> /usr/local/Wolfram/Mathematica/12.1/Executables/mcc\n",
      "-rwxr-xr-x 1 root root 410 jul  3 19:10 pyi-archive_viewer\n",
      "-rwxr-xr-x 1 root root 400 jul  3 19:10 pyi-bindepend\n",
      "-rwxr-xr-x 1 root root 406 jul  3 19:10 pyi-grab_version\n",
      "-rwxr-xr-x 1 root root 398 jul  3 19:10 pyi-makespec\n",
      "-rwxr-xr-x 1 root root 396 jul  3 19:10 pyinstaller\n",
      "-rwxr-xr-x 1 root root 404 jul  3 19:10 pyi-set_version\n",
      "-rwxr-xr-x 1 root root 237 jul  2 17:58 pyside2-designer\n",
      "-rwxr-xr-x 1 root root 229 jul  2 17:58 pyside2-lupdate\n",
      "-rwxr-xr-x 1 root root 227 jul  2 17:58 pyside2-rcc\n",
      "-rwxr-xr-x 1 root root 227 jul  2 17:58 pyside2-uic\n",
      "lrwxrwxrwx 1 root root  55 mar 26 03:22 wolfram -> /usr/local/Wolfram/Mathematica/12.1/Executables/wolfram\n",
      "lrwxrwxrwx 1 root root  61 mar 26 03:22 WolframKernel -> /usr/local/Wolfram/Mathematica/12.1/Executables/WolframKernel\n"
     ]
    }
   ],
   "source": [
    "ls -l -h /usr/local/bin"
   ]
  },
  {
   "cell_type": "code",
   "execution_count": 15,
   "metadata": {
    "scrolled": true
   },
   "outputs": [
    {
     "name": "stdout",
     "output_type": "stream",
     "text": [
      "bash: cd: OLDPWD no está establecido\n"
     ]
    },
    {
     "ename": "",
     "evalue": "1",
     "output_type": "error",
     "traceback": []
    }
   ],
   "source": [
    "cd -"
   ]
  },
  {
   "cell_type": "code",
   "execution_count": 5,
   "metadata": {},
   "outputs": [
    {
     "name": "stdout",
     "output_type": "stream",
     "text": [
      " Adobe        anaconda3   google    smfp-common   tracker   Wolfram\n",
      "'Adobe AIR'   calibre     samsung   Temporal      Unity     zoom\n"
     ]
    }
   ],
   "source": [
    "ls /opt"
   ]
  },
  {
   "cell_type": "code",
   "execution_count": 10,
   "metadata": {},
   "outputs": [],
   "source": [
    "dolphin /home/luis/Descargas"
   ]
  },
  {
   "cell_type": "code",
   "execution_count": 13,
   "metadata": {},
   "outputs": [
    {
     "name": "stdout",
     "output_type": "stream",
     "text": [
      " Adobe        anaconda3   google    smfp-common   tracker   Wolfram\n",
      "'Adobe AIR'   calibre     samsung   Temporal      Unity     zoom\n"
     ]
    }
   ],
   "source": [
    "ls /opt"
   ]
  },
  {
   "cell_type": "markdown",
   "metadata": {},
   "source": [
    "Dentro de un entorno de escritorio (como GNOME, Plasma 5 o Xfce), xdg-open simplemente pasa los argumentos a la aplicación de apertura de archivos de ese entorno de escritorio (por ejemplo, gvfs-open, kde-open5 o exo-open)"
   ]
  },
  {
   "cell_type": "code",
   "execution_count": 19,
   "metadata": {},
   "outputs": [],
   "source": [
    "xdg-open img/vfs.png"
   ]
  },
  {
   "cell_type": "code",
   "execution_count": 22,
   "metadata": {},
   "outputs": [],
   "source": [
    "xdg-open https://julialang.org/"
   ]
  },
  {
   "cell_type": "code",
   "execution_count": null,
   "metadata": {},
   "outputs": [],
   "source": [
    "xdg-open /"
   ]
  },
  {
   "cell_type": "code",
   "execution_count": 4,
   "metadata": {},
   "outputs": [],
   "source": [
    "kde-open5 https://julialang.org/"
   ]
  },
  {
   "cell_type": "code",
   "execution_count": 5,
   "metadata": {},
   "outputs": [
    {
     "name": "stdout",
     "output_type": "stream",
     "text": [
      "bash: error sintáctico cerca del elemento inesperado `newline'\n"
     ]
    },
    {
     "ename": "",
     "evalue": "2",
     "output_type": "error",
     "traceback": []
    }
   ],
   "source": [
    "for"
   ]
  },
  {
   "cell_type": "code",
   "execution_count": null,
   "metadata": {},
   "outputs": [],
   "source": []
  }
 ],
 "metadata": {
  "kernelspec": {
   "display_name": "Bash",
   "language": "bash",
   "name": "bash"
  },
  "language_info": {
   "codemirror_mode": "shell",
   "file_extension": ".sh",
   "mimetype": "text/x-sh",
   "name": "bash"
  }
 },
 "nbformat": 4,
 "nbformat_minor": 4
}
