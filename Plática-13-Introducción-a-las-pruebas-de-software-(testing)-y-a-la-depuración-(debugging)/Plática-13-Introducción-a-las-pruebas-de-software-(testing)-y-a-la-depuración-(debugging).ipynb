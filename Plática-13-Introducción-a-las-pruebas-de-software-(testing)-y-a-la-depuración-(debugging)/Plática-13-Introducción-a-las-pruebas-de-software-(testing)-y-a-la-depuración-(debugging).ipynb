{
 "cells": [
  {
   "cell_type": "markdown",
   "metadata": {},
   "source": [
    "# Tópicos avanzados de programación con Julia"
   ]
  },
  {
   "cell_type": "markdown",
   "metadata": {},
   "source": [
    "## _Introducción a las pruebas de software (testing) y a la depuración (debugging)_"
   ]
  },
  {
   "cell_type": "markdown",
   "metadata": {},
   "source": [
    " "
   ]
  },
  {
   "cell_type": "markdown",
   "metadata": {},
   "source": [
    "### Temario para cubrir el objetivo 2"
   ]
  },
  {
   "cell_type": "markdown",
   "metadata": {},
   "source": [
    "__Tratamiento de errores mediante la depuración, el testing y buenas prácticas de programación.__\n",
    "- Pruebas de software y depuración.\n",
    "- Pruebas de software.\n",
    "  - Pruebas unitarias.\n",
    "    - Pruebas unitarias básicas.\n",
    "    - Conjunto de pruebas unitarias.\n",
    "      - Ejemplos.\n",
    "    - Test de un paquete.\n",
    "    - Desarrollo basado en pruebas.\n",
    "    - Diseño de pruebas unitarias.\n",
    "      - Particionado del conjunto de parámetros (clases de equivalencia).\n",
    "      - Parámetro en los extremos de las clases de equivalencia.\n",
    "  - Pruebas específicas de comportamiento.\n",
    " - Depuración."
   ]
  },
  {
   "cell_type": "markdown",
   "metadata": {},
   "source": [
    "## Pruebas de software y depuración"
   ]
  },
  {
   "cell_type": "markdown",
   "metadata": {},
   "source": [
    "Es la parte del desarrollo donde se detecta, localiza y corrigen los errores.\n",
    "\n",
    "- Es una actividad especializada que mezcla.\n",
    "  - Existen profecionales que se dedican exclusivamente a esta actividad.\n",
    "  - Algunos lo consideran una actividad artística.\n",
    "  - Algunos otros lo consideran una ciencia.\n",
    "  - Y otros consideran que es una variante de investigación criminal (a lo Sherlock).\n",
    "- Las pruebas de software, se encargan de detectar la existencia de errores.\n",
    "  - La no detección de errores, no significa que estos no existan.\n",
    "  - Mientras más grande y complejo es el software, más probabilidad hay de que tenga errores.\n",
    "    - De hecho existen métricas para calcular la densidad de errores en un código muy grande.\n",
    "- La depuración se encarga de la localización y corrección de los errores.\n",
    "  - Esta parte es más tecnica que creativa."
   ]
  },
  {
   "cell_type": "markdown",
   "metadata": {},
   "source": [
    "## Pruebas de software"
   ]
  },
  {
   "cell_type": "markdown",
   "metadata": {},
   "source": [
    "### Pruebas unitarias"
   ]
  },
  {
   "cell_type": "markdown",
   "metadata": {},
   "source": [
    "Julia cuanta con el paquete __Test__ para crear pruebas unitarias."
   ]
  },
  {
   "cell_type": "code",
   "execution_count": null,
   "metadata": {},
   "outputs": [],
   "source": [
    "using Test"
   ]
  },
  {
   "cell_type": "markdown",
   "metadata": {},
   "source": [
    "#### Pruebas unitarias básicas"
   ]
  },
  {
   "cell_type": "markdown",
   "metadata": {},
   "source": [
    "Para hacer una prueba se utiliza la etiqueta `@test` seguido de alguna expresión booleana."
   ]
  },
  {
   "cell_type": "code",
   "execution_count": null,
   "metadata": {},
   "outputs": [],
   "source": [
    "@test 1+1==2"
   ]
  },
  {
   "cell_type": "code",
   "execution_count": null,
   "metadata": {},
   "outputs": [],
   "source": [
    "@test [1, 2] + [2, 1] == [3, 3]"
   ]
  },
  {
   "cell_type": "code",
   "execution_count": null,
   "metadata": {},
   "outputs": [],
   "source": [
    "@test 9 < 10 || 10 < 9"
   ]
  },
  {
   "cell_type": "code",
   "execution_count": null,
   "metadata": {},
   "outputs": [],
   "source": [
    "@test iseven(10)"
   ]
  },
  {
   "cell_type": "code",
   "execution_count": null,
   "metadata": {},
   "outputs": [],
   "source": [
    "@test isapprox(π, 3.14, atol=0.01)"
   ]
  },
  {
   "cell_type": "markdown",
   "metadata": {},
   "source": [
    "Si no es una expresión booleana:"
   ]
  },
  {
   "cell_type": "code",
   "execution_count": null,
   "metadata": {},
   "outputs": [],
   "source": [
    "@test 1+1"
   ]
  },
  {
   "cell_type": "markdown",
   "metadata": {},
   "source": [
    "En caso de que no se cumpla:"
   ]
  },
  {
   "cell_type": "code",
   "execution_count": null,
   "metadata": {},
   "outputs": [],
   "source": [
    "@test 1+1==4"
   ]
  },
  {
   "cell_type": "code",
   "execution_count": null,
   "metadata": {},
   "outputs": [],
   "source": [
    "@test [1, 2] + [2, 2] == [3, 3]"
   ]
  },
  {
   "cell_type": "code",
   "execution_count": null,
   "metadata": {},
   "outputs": [],
   "source": [
    "@test 10 < 10 || 10 < 9"
   ]
  },
  {
   "cell_type": "code",
   "execution_count": null,
   "metadata": {},
   "outputs": [],
   "source": [
    "@test iseven(11)"
   ]
  },
  {
   "cell_type": "code",
   "execution_count": null,
   "metadata": {},
   "outputs": [],
   "source": [
    "@test isapprox(π, 3.14)"
   ]
  },
  {
   "cell_type": "code",
   "execution_count": null,
   "metadata": {},
   "outputs": [],
   "source": [
    "@test π ≈ 3.14"
   ]
  },
  {
   "cell_type": "markdown",
   "metadata": {},
   "source": [
    "Es importante recordar que no se está operando en $\\mathbb R$."
   ]
  },
  {
   "cell_type": "code",
   "execution_count": null,
   "metadata": {},
   "outputs": [],
   "source": [
    "@test 0.1 + 0.2 == 0.3"
   ]
  },
  {
   "cell_type": "code",
   "execution_count": null,
   "metadata": {},
   "outputs": [],
   "source": [
    "@test 0.1 + 0.2 ≈ 0.3"
   ]
  },
  {
   "cell_type": "code",
   "execution_count": null,
   "metadata": {},
   "outputs": [],
   "source": [
    "@test 1//10 + 1//5 == 3//10"
   ]
  },
  {
   "cell_type": "markdown",
   "metadata": {},
   "source": [
    "Una de las ventajas de usar __Test__ es que da más información cuando la prueba falla."
   ]
  },
  {
   "cell_type": "code",
   "execution_count": null,
   "metadata": {},
   "outputs": [],
   "source": [
    "[1, 2] + [2, 2] == [3, 3]"
   ]
  },
  {
   "cell_type": "code",
   "execution_count": null,
   "metadata": {},
   "outputs": [],
   "source": [
    "@test [1, 2] + [2, 2] == [3, 3]"
   ]
  },
  {
   "cell_type": "markdown",
   "metadata": {},
   "source": [
    "Otra ventaja es la flexibilidad. Se permiten evaluaciones como estas:\n",
    "\n",
    "`@test f(args...) key=val ...`"
   ]
  },
  {
   "cell_type": "code",
   "execution_count": null,
   "metadata": {},
   "outputs": [],
   "source": [
    "@test isapprox(π, 3.14, atol=0.01)"
   ]
  },
  {
   "cell_type": "code",
   "execution_count": null,
   "metadata": {},
   "outputs": [],
   "source": [
    "@test isapprox(π, 3.14) atol=0.01"
   ]
  },
  {
   "cell_type": "code",
   "execution_count": null,
   "metadata": {},
   "outputs": [],
   "source": [
    "@test π ≈ 3.14 atol=0.01"
   ]
  },
  {
   "cell_type": "code",
   "execution_count": null,
   "metadata": {},
   "outputs": [],
   "source": [
    "π ≈ 3.14 atol=0.01"
   ]
  },
  {
   "cell_type": "code",
   "execution_count": null,
   "metadata": {},
   "outputs": [],
   "source": [
    "isapprox(π, 3.14) atol=0.01"
   ]
  },
  {
   "cell_type": "markdown",
   "metadata": {},
   "source": [
    "Otra ventaja de usar __Test__, es que las pruebas se pueden agrupar en __conjuntos de pruebas__."
   ]
  },
  {
   "cell_type": "markdown",
   "metadata": {},
   "source": [
    "#### Conjunto de pruebas unitarias"
   ]
  },
  {
   "cell_type": "markdown",
   "metadata": {},
   "source": [
    "Los conjuntos de pruebas tienen una de estas tres estructuras:\n",
    "\n",
    "```julia\n",
    "# Tipo de bloque 1.\n",
    "@testset \"Descripción\" begin\n",
    "    # Bloque de pruebas.\n",
    "end\n",
    "\n",
    "# Tipo de bloque 2.\n",
    "@testset \"Descripción $var\" for var in (···)\n",
    "    # Bloque de pruebas.\n",
    "end\n",
    "\n",
    "# Tipo de bloque 3.\n",
    "@testset \"Descripción $var1, $var2\" for var1 in (···), var2 in (···) \n",
    "    # Bloque de pruebas.\n",
    "end\n",
    "```\n",
    "Estos conjuntos de prueba son del tipo `DefaultTestSet` que es un subtipo de `AbstractTestSet`.\n",
    "\n",
    "- Ejecuta todas las pruebas independientemente de que algún test falle u ocurra algún error en la ejecución de la prueba.\n",
    "- Después de ejecutar todas las pruebas, lanza una excepción si ha ocurrido algún fallo u error en algunas de las pruebas. Además devuelve un resumen de todas las pruebas realizadas."
   ]
  },
  {
   "cell_type": "markdown",
   "metadata": {},
   "source": [
    "##### Ejemplos"
   ]
  },
  {
   "cell_type": "code",
   "execution_count": null,
   "metadata": {},
   "outputs": [],
   "source": [
    "# Bloque de tipo 1.\n",
    "#Todos pasan.\n",
    "@testset \"ident. trig. simples\" begin\n",
    "    θ = 2/3*π\n",
    "    @test sin(-θ) ≈ -sin(θ)\n",
    "    @test cos(-θ) ≈ cos(θ)\n",
    "    @test sin(2θ) ≈ 2*sin(θ)*cos(θ)\n",
    "    @test cos(2θ) ≈ cos(θ)^2 - sin(θ)^2\n",
    "end;"
   ]
  },
  {
   "cell_type": "code",
   "execution_count": null,
   "metadata": {},
   "outputs": [],
   "source": [
    "#Algunos fallan.\n",
    "@testset \"ident. trig. simples\" begin\n",
    "    θ = 2/3*π\n",
    "    @test sin(-θ) == -sin(θ)\n",
    "    @test cos(-θ) == cos(θ)\n",
    "    @test sin(2θ) == 2*sin(θ)*cos(θ)\n",
    "    @test cos(2θ) == cos(θ)^2 - sin(θ)^2\n",
    "end;"
   ]
  },
  {
   "cell_type": "code",
   "execution_count": null,
   "metadata": {},
   "outputs": [],
   "source": [
    "# Fallos y un error.\n",
    "@testset \"ident. trig. simples\" begin\n",
    "    θ = 2/3*π\n",
    "    @test sin(-θ) == -sin(θ)\n",
    "    @test cos(-θ) == cos(θ)+() #Error\n",
    "    @test sin(2θ) == 2*sin(θ)*cos(θ)\n",
    "    @test cos(2θ) == cos(θ)^2 - sin(θ)^2\n",
    "end;"
   ]
  },
  {
   "cell_type": "code",
   "execution_count": null,
   "metadata": {},
   "outputs": [],
   "source": [
    "# Bloque de tipo 2.\n",
    "@testset \"ident. trig. simples $θ\" for θ in (1/2*π, π, 2/3*π)\n",
    "    @test sin(-θ) ≈ -sin(θ)\n",
    "    @test cos(-θ) ≈ cos(θ)\n",
    "    @test sin(2θ) ≈ 2*sin(θ)*cos(θ)\n",
    "    @test cos(2θ) ≈ cos(θ)^2 - sin(θ)^2\n",
    "end;"
   ]
  },
  {
   "cell_type": "code",
   "execution_count": null,
   "metadata": {},
   "outputs": [],
   "source": [
    "# La descripción es opcional.\n",
    "@testset for θ in (1/2*π, π, 2/3*π)\n",
    "    @test sin(-θ) ≈ -sin(θ)\n",
    "    @test cos(-θ) ≈ cos(θ)\n",
    "    @test sin(2θ) ≈ 2*sin(θ)*cos(θ)\n",
    "    @test cos(2θ) ≈ cos(θ)^2 - sin(θ)^2\n",
    "end;"
   ]
  },
  {
   "cell_type": "code",
   "execution_count": null,
   "metadata": {},
   "outputs": [],
   "source": [
    "#Algunos fallan.\n",
    "@testset \"ident. trig. simples $θ\" for θ in (1/2*π, π, 2/3*π)\n",
    "    @test sin(-θ) == -sin(θ)\n",
    "    @test cos(-θ) == cos(θ)\n",
    "    @test sin(2θ) == 2*sin(θ)*cos(θ)\n",
    "    @test cos(2θ) == cos(θ)^2 - sin(θ)^2\n",
    "end;"
   ]
  },
  {
   "cell_type": "code",
   "execution_count": null,
   "metadata": {},
   "outputs": [],
   "source": [
    "# Bloque de tipo 3.\n",
    "@testset \"ident. trig. suma $θ, $ϕ\" for θ in (1/2*π, π, 2/3*π), ϕ in (1/2*π, π, 2/3*π)\n",
    "    @test sin(θ+ϕ) ≈ sin(θ)*cos(ϕ)+cos(θ)*sin(ϕ)\n",
    "    @test cos(θ+ϕ) ≈ cos(θ)*cos(ϕ)-sin(θ)*sin(ϕ)\n",
    "    @test tan(θ+ϕ) ≈ (tan(θ)+tan(ϕ))/(1-tan(θ)*tan(ϕ))\n",
    "end;"
   ]
  },
  {
   "cell_type": "code",
   "execution_count": null,
   "metadata": {},
   "outputs": [],
   "source": [
    "@testset \"ident. trig. resta $θ, $ϕ\" for θ in (1/2*π, π, 2/3*π), ϕ in (1/2*π, π, 2/3*π)\n",
    "    @test sin(θ-ϕ) ≈ sin(θ)*cos(ϕ)-cos(θ)*sin(ϕ)\n",
    "    @test cos(θ-ϕ) ≈ cos(θ)*cos(ϕ)+sin(θ)*sin(ϕ)\n",
    "    @test tan(θ-ϕ) ≈ (tan(θ)-tan(ϕ))/(1+tan(θ)*tan(ϕ))\n",
    "end;"
   ]
  },
  {
   "cell_type": "code",
   "execution_count": null,
   "metadata": {},
   "outputs": [],
   "source": [
    "# Los test se pueden agrupar arbitrariamente.\n",
    "@testset \"Identidades trigonométricas\" begin\n",
    "    @testset \"ident. trig. simples $θ\" for θ in (1/2*π, π, 2/3*π)\n",
    "        @test sin(-θ) ≈ -sin(θ)\n",
    "        @test cos(-θ) ≈ cos(θ)\n",
    "        @test sin(2θ) ≈ 2*sin(θ)*cos(θ)\n",
    "        @test cos(2θ) ≈ cos(θ)^2 - sin(θ)^2\n",
    "    end\n",
    "    \n",
    "    @testset \"ident. trig. suma $θ, $ϕ\" for θ in (1/2*π, π, 2/3*π), ϕ in (1/2*π, π, 2/3*π)\n",
    "        @test sin(θ+ϕ) ≈ sin(θ)*cos(ϕ)+cos(θ)*sin(ϕ)\n",
    "        @test cos(θ+ϕ) ≈ cos(θ)*cos(ϕ)-sin(θ)*sin(ϕ)\n",
    "        @test tan(θ+ϕ) ≈ (tan(θ)+tan(ϕ))/(1-tan(θ)*tan(ϕ))\n",
    "    end\n",
    "    \n",
    "    @testset \"ident. trig. resta $θ, $ϕ\" for θ in (1/2*π, π, 2/3*π), ϕ in (1/2*π, π, 2/3*π)\n",
    "        @test sin(θ-ϕ) ≈ sin(θ)*cos(ϕ)-cos(θ)*sin(ϕ)\n",
    "        @test cos(θ-ϕ) ≈ cos(θ)*cos(ϕ)+sin(θ)*sin(ϕ)\n",
    "        @test tan(θ-ϕ) ≈ (tan(θ)-tan(ϕ))/(1+tan(θ)*tan(ϕ))\n",
    "    end\n",
    "end;"
   ]
  },
  {
   "cell_type": "code",
   "execution_count": null,
   "metadata": {},
   "outputs": [],
   "source": [
    "# Introducimos fallos y errores.\n",
    "@testset \"Identidades trigonométricas\" begin\n",
    "    @testset \"ident. trig. simples $θ\" for θ in (1/2*π, π, 2/3*π)\n",
    "        @test sin(-θ) ≈ -sin(θ)\n",
    "        @test cos(-θ) ≈ cos(θ)+() # Error.\n",
    "        @test sin(2θ) ≈ 2*sin(θ)*cos(θ)\n",
    "        @test cos(2θ) ≈ cos(θ)^2 - sin(θ)^2\n",
    "    end\n",
    "    \n",
    "    @testset \"ident. trig. suma $θ, $ϕ\" for θ in (1/2*π, π, 2/3*π), ϕ in (1/2*π, π, 2/3*π)\n",
    "        @test sin(θ+ϕ) ≈ sin(θ)*cos(ϕ)+cos(θ)*sin(ϕ)\n",
    "        @test cos(θ+ϕ) ≈ cos(θ)*cos(ϕ)-sin(θ)*sin(ϕ)\n",
    "        @test tan(θ+ϕ) == (tan(θ)+tan(ϕ))/(1-tan(θ)*tan(ϕ)) # Debe fallar.\n",
    "    end\n",
    "    \n",
    "    @testset \"ident. trig. resta $θ, $ϕ\" for θ in (1/2*π, π, 2/3*π), ϕ in (1/2*π, π, 2/3*π)\n",
    "        @test sin(θ-ϕ) ≈ sin(θ)*cos(ϕ)-cos(θ)*sin(ϕ)\n",
    "        @test cos(θ-ϕ) ≈ cos(θ)*cos(ϕ)+sin(θ)*sin(ϕ)\n",
    "        @test tan(θ-ϕ) ≈ (tan(θ)-tan(ϕ))/(1+tan(θ)*tan(ϕ))\n",
    "    end\n",
    "end;"
   ]
  },
  {
   "cell_type": "markdown",
   "metadata": {},
   "source": [
    "#### Test de un paquete"
   ]
  },
  {
   "cell_type": "markdown",
   "metadata": {},
   "source": [
    "Test de un paquete\n",
    "\n",
    "Todos los paquetes deben tener dentro de su directorio un archivo `ruta-pquete/test/runtests.jl`. \n",
    "El archivo `runtests.jl` debe comenzar con:\n",
    "\n",
    "```julia\n",
    "using NobrePaquete\n",
    "using Test\n",
    "```\n",
    "\n",
    "Los test de un paute en particular se ejecutan con la instrucción:\n",
    "\n",
    "```julia\n",
    "Pkg.test(\"NombrePaquete\")\n",
    "```\n",
    "\n",
    "Por ejemplo:"
   ]
  },
  {
   "cell_type": "code",
   "execution_count": null,
   "metadata": {},
   "outputs": [],
   "source": [
    "using Pkg\n",
    "Pkg.test(\"Juno\")"
   ]
  },
  {
   "cell_type": "markdown",
   "metadata": {},
   "source": [
    "Para ejecutar las pruebas de todos los paquetes instalados (no `Base`):\n",
    "```julia\n",
    "Pkg.test() #Se tarda.\n",
    "```\n",
    "\n",
    "Para ejecutar las pruebas de `Base` se usa:\n",
    "\n",
    "```julia\n",
    "Base.runtests() #Se tarda bastante.\n",
    "```\n",
    "Existen más macros en el paquete __Test__. Más información el la [documentación](https://docs.julialang.org/en/v1/stdlib/Test/#Testing-Base-Julia)."
   ]
  },
  {
   "cell_type": "markdown",
   "metadata": {},
   "source": [
    "#### Desarrollo basado en pruebas"
   ]
  },
  {
   "cell_type": "markdown",
   "metadata": {},
   "source": [
    "Se crea primero la prueba y el desarrollo del programa termina cuando este sea capaz de superarla.\n",
    "\n",
    "Supongamos que se desea implementar un orden total para los complejos. Por ejemplo el órden lexicográfico vertical."
   ]
  },
  {
   "cell_type": "code",
   "execution_count": null,
   "metadata": {},
   "outputs": [],
   "source": [
    "function AplicarTest() # La función no es necesaria.\n",
    "\n",
    "# Test para el orden lexicográfico vertical en los complejos.\n",
    "@testset \"Orden lexi. vertical\" begin\n",
    "    lista=(-1+im, 1+im, 1-im, -1-im, 3.0+2.0im, -5.0-4.0im, 0.0+0.0im)\n",
    "    \n",
    "    #Test <.\n",
    "    @testset \"<\" begin\n",
    "        @testset \"antireflexiva, ($var, $var) ∉ <\" for var in lista\n",
    "            @test (var < var) == false\n",
    "        end\n",
    "        \n",
    "        @testset \"(a,b) ∈ <\" begin\n",
    "            @test -1+im < 0+im\n",
    "            @test 0+im < 0+2im\n",
    "            @test 3.0+2.0im < 4.0-5.0im\n",
    "            @test 3.0+2.0im < 3.0+5.0im\n",
    "        end\n",
    "        \n",
    "        @testset \"(a,b) ∉ <\" begin\n",
    "            @test (0+im < -1+im) == false\n",
    "            @test (0+2im < 0+im) == false\n",
    "            @test (4.0-5.0im < 3.0+2.0im) == false\n",
    "            @test (3.0+5.0im < 3.0+2.0im) == false\n",
    "        end\n",
    "    end\n",
    "    \n",
    "    #Test >.\n",
    "    @testset \">\" begin\n",
    "        @testset \"antireflexiva, ($var, $var) ∉ >\" for var in lista\n",
    "            @test (var > var) == false\n",
    "        end\n",
    "        \n",
    "        @testset \"(a,b) ∈ >\" begin\n",
    "            @test 0+im > -1+im\n",
    "            @test 0+2im > 0+im\n",
    "            @test 4.0-5.0im > 3.0+2.0im\n",
    "            @test 3.0+5.0im > 3.0+2.0im\n",
    "        end\n",
    "        \n",
    "        @testset \"(a,b) ∉ >\" begin\n",
    "            @test (-1+im > 0+im) == false\n",
    "            @test (0+im > 0+2im) == false\n",
    "            @test (3.0+2.0im > 4.0-5.0im) == false\n",
    "            @test (3.0+2.0im > 3.0+5.0im) == false\n",
    "        end\n",
    "    end\n",
    "    \n",
    "    #Test ≤.\n",
    "    @testset \"≤\" begin\n",
    "        @testset \"reflexiva, ($var, $var) ∈ ≤\" for var in lista\n",
    "            @test (var <= var)\n",
    "        end\n",
    "        \n",
    "        @testset \"(a,b) ∈ ≤\" begin\n",
    "            @test -1+im <= 0+im\n",
    "            @test 0+im <= 0+2im\n",
    "            @test 3.0+2.0im <= 4.0-5.0im\n",
    "            @test 3.0+2.0im <= 3.0+5.0im\n",
    "        end\n",
    "        \n",
    "        @testset \"(a,b) ∉ ≤\" begin\n",
    "            @test (0+im <= -1+im) == false\n",
    "            @test (0+2im <= 0+im) == false\n",
    "            @test (4.0-5.0im <= 3.0+2.0im) == false\n",
    "            @test (3.0+5.0im <= 3.0+2.0im) == false\n",
    "        end\n",
    "    end\n",
    "    \n",
    "    #Test ≥.\n",
    "    @testset \"≥\" begin\n",
    "        @testset \"reflexiva, ($var, $var) ∈ ≥\" for var in lista\n",
    "            @test (var >= var)\n",
    "        end\n",
    "        \n",
    "        @testset \"(a,b) ∈ ≥\" begin\n",
    "            @test 0+im >= -1+im\n",
    "            @test 0+2im >= 0+im\n",
    "            @test 4.0-5.0im >= 3.0+2.0im\n",
    "            @test 3.0+5.0im >= 3.0+2.0im\n",
    "        end\n",
    "        \n",
    "        @testset \"(a,b) ∉ ≥\" begin\n",
    "            @test (-1+im >= 0+im) == false\n",
    "            @test (0+im >= 0+2im) == false\n",
    "            @test (3.0+2.0im >= 4.0-5.0im) == false\n",
    "            @test (3.0+2.0im >= 3.0+5.0im) == false\n",
    "        end\n",
    "    end\n",
    "end\n",
    "    \n",
    "end;"
   ]
  },
  {
   "cell_type": "code",
   "execution_count": null,
   "metadata": {},
   "outputs": [],
   "source": [
    "import Base.< # Se importan los operadores."
   ]
  },
  {
   "cell_type": "code",
   "execution_count": null,
   "metadata": {},
   "outputs": [],
   "source": [
    "# Primera versión.\n",
    "function <(x::Complex, y::Complex)::Bool\n",
    "    re_x, re_y = real(x), real(y)\n",
    "    relacionado = re_x < re_y\n",
    "    return relacionado\n",
    "end;"
   ]
  },
  {
   "cell_type": "code",
   "execution_count": null,
   "metadata": {},
   "outputs": [],
   "source": [
    "AplicarTest(); # Primera prueba."
   ]
  },
  {
   "cell_type": "code",
   "execution_count": null,
   "metadata": {},
   "outputs": [],
   "source": [
    "# Segunda versión.\n",
    "function <(x::Complex, y::Complex)::Bool\n",
    "    re_x, re_y, im_x, im_y = real(x), real(y), imag(x), imag(y)\n",
    "    relacionado = re_x < re_y\n",
    "    \n",
    "    if re_x == re_y\n",
    "        relacionado = im_x < im_y\n",
    "    end\n",
    "    return relacionado\n",
    "end"
   ]
  },
  {
   "cell_type": "code",
   "execution_count": null,
   "metadata": {},
   "outputs": [],
   "source": [
    "AplicarTest(); # Segunda prueba."
   ]
  },
  {
   "cell_type": "markdown",
   "metadata": {},
   "source": [
    "No es necesario sobrecargar los operadores `>`, `<=` y `>=`.\n",
    "\n",
    "Es decir en este caso en particular la siguiente versión es innecesaria.\n",
    "\n",
    "```julia\n",
    "import Base: <, >, <=, >=\n",
    "\n",
    "# Tercera versión.\n",
    "function <(x::Complex, y::Complex)::Bool\n",
    "    re_x, re_y, im_x, im_y = real(x), real(y), imag(x), imag(y)\n",
    "    relacionado = re_x < re_y\n",
    "    \n",
    "    if re_x == re_y\n",
    "        relacionado = im_x < im_y\n",
    "    end\n",
    "    return relacionado\n",
    "end\n",
    "\n",
    "function >(x::Complex, y::Complex)::Bool\n",
    "    y < x\n",
    "end\n",
    "\n",
    "function <=(x::Complex, y::Complex)::Bool\n",
    "    y==x || x < y\n",
    "end\n",
    "\n",
    "function >=(x::Complex, y::Complex)::Bool\n",
    "    y <= x\n",
    "end;\n",
    "```\n",
    "Sólo basta con sobrecargar `<`, para que los demás funcionen correctamente en los complejos."
   ]
  },
  {
   "cell_type": "markdown",
   "metadata": {},
   "source": [
    "#### Diseño de pruebas unitarias"
   ]
  },
  {
   "cell_type": "markdown",
   "metadata": {},
   "source": [
    "##### Particionado del conjunto de parámetros (clases de equivalencia)"
   ]
  },
  {
   "cell_type": "markdown",
   "metadata": {},
   "source": [
    "Supongamos que se desea crear una función que obtenga los ceros de $P(x)=ax^2+bx+c\\in\\mathbb Z [x]$."
   ]
  },
  {
   "cell_type": "code",
   "execution_count": null,
   "metadata": {},
   "outputs": [],
   "source": [
    "function CerosPol(a::Int, b::Int, c::Int)\n",
    "    Δ = Complex(b^2-4*a*c)\n",
    "    return ((-b+√Δ)/(2*a), (-b-√Δ)/(2*a))\n",
    "end;"
   ]
  },
  {
   "cell_type": "markdown",
   "metadata": {},
   "source": [
    "Por cada coeficiente tenemos $2^{64}$ (para el caso de `Int64`) posibles valores. Esto hace que las pruebas exhaustivas no sen prácticas.\n",
    "\n",
    "Una manera de simplificar el proceso es encontrar una relación de equivalencia, que nos permita tener un número menor de valores a verificar.\n",
    "\n",
    "Una forma de reducir significativamente la comprobación de `CerosPol`, es establecer la siguiente relación de equivalencia:\n",
    "\n",
    "$(a,b,c)\\sim(a',b',c')$ si se cumple uno de las siguientes casos:\n",
    "\n",
    "- $Δ(a,b,c)=Δ(a',b',c')=0$\n",
    "- $Δ(a,b,c)>0$ y $Δ(a',b',c')>0$\n",
    "- $Δ(a,b,c)<0$ y $Δ(a',b',c')<0$"
   ]
  },
  {
   "cell_type": "code",
   "execution_count": null,
   "metadata": {},
   "outputs": [],
   "source": [
    "@testset \"ceros pol.\" begin\n",
    "    @testset \"Δ = 0.\" begin\n",
    "        x=CerosPol(1,2,1)\n",
    "        @test x[1] ≈ -1.0\n",
    "        @test x[2] ≈ -1.0\n",
    "    end\n",
    "    \n",
    "    @testset \"Δ > 0.\" begin\n",
    "        x=CerosPol(1,2,-1)\n",
    "        @test x[1] ≈ -1.0+√2.0\n",
    "        @test x[2] ≈ -1.0-√2.0\n",
    "    end\n",
    "    \n",
    "    @testset \"Δ < 0.\" begin\n",
    "        x=CerosPol(1,0,1)\n",
    "        @test x[1] ≈ 1.0im\n",
    "        @test x[2] ≈ -1.0im\n",
    "    end\n",
    "end;"
   ]
  },
  {
   "cell_type": "markdown",
   "metadata": {},
   "source": [
    "Para el algoritmo que convierte un `Float64` a su notación binaria, los $2^{64}$ casos posibles (aproximadamente), podemos representarlos mediante la siguiente partición:\n",
    "\n",
    "Debido a la simetría, sólo voy a considerar los reales no negativos.\n",
    "\n",
    "- Cero.\n",
    "- Números subnormales distintos de cero $\\left(0,2^{-1022}\\right)$.\n",
    "- Números normalizados $\\left[2^{-1022},\\infty\\right)$.\n",
    "- Inf\n",
    "- NaN"
   ]
  },
  {
   "cell_type": "code",
   "execution_count": null,
   "metadata": {},
   "outputs": [],
   "source": [
    "\"\"\"\n",
    "Cambia la base de un entero decimal a entero binario.\n",
    "\"\"\"\n",
    "function EntABin(x::Int)\n",
    "    bin_ent=[] #Almacena los dígitos binarios.\n",
    "    xaux=x\n",
    "    dr=(xaux,0) #división entera y resto inicial.\n",
    "    while xaux > 1\n",
    "        dr=divrem(xaux,2) #división entera y resto.\n",
    "        push!(bin_ent, Int(dr[2]))\n",
    "        xaux=dr[1]\n",
    "    end\n",
    "    push!(bin_ent, Int(dr[1]))\n",
    "    reverse(bin_ent)\n",
    "end\n",
    "\n",
    "\"\"\"\n",
    "Cambia la base de la mantisa decimal a la mantisa binario.\n",
    "El valor no se redondea al más cercano, sino al menor más cercano.\n",
    "\"\"\"\n",
    "function MantBin(x::Float64, n::Int)\n",
    "    bin_mant=[]\n",
    "    #Sólo necesitamos la mantisa.\n",
    "    xaux=BigFloat(string(x))%big\"1.0\" #Se trabaja con Big, para evitar errores de redondeo en los cálculos.\n",
    "    for i in 1:n\n",
    "        xaux*=big\"2.0\"\n",
    "        dr=divrem(xaux, big\"1.0\")\n",
    "        push!(bin_mant, Int(dr[1])) #Se añade la parte entera convertida a entero (0 o 1).\n",
    "        xaux=dr[2] #Sólo nos quedamos con la parte fraccionaria, para repetir el proceso.\n",
    "    end\n",
    "    return bin_mant\n",
    "end\n",
    "\n",
    "\"\"\"\n",
    "Construye los 11 dígitos del exponente de un Float64 en binario.\n",
    "Se le pasa el exponente como un entero decimal.\n",
    "Para convertir usa la función EntABin definida al principio del notebook.\n",
    "Los dígitos faltantes se rellenan con ceros.\n",
    "Devuelve un arreglo con los 11 elementos.\n",
    "\"\"\"\n",
    "function ExpFloat64ABin(x::Int)\n",
    "    bin_exp=EntABin(x+1023)\n",
    "    N=11-length(bin_exp)\n",
    "    if N>0\n",
    "        bin_exp = reverse(bin_exp)\n",
    "        for i in 1:N\n",
    "            push!(bin_exp, Int(0))\n",
    "        end\n",
    "        bin_exp = reverse(bin_exp)\n",
    "    end\n",
    "    return bin_exp\n",
    "end\n",
    "\n",
    "\"\"\"\n",
    "Encuentra la n, para la cual x están en [2^n, 2^{n+1}).\n",
    "Si x está normalizado, entonces -1022<=n<=1023.\n",
    "Si x es subnormal, n=-1023, si es inf o NaN, n=1024.\n",
    "Se devuelve un arreglo con los 11 dígitos en binario para n. También se devuelve n.\n",
    "\"\"\"\n",
    "function ObtenerExpBin(x::Float64)\n",
    "    E_min, E_max = -1022, 1023\n",
    "    a, b = E_min, E_max\n",
    "    \n",
    "    #Se atienden los casos extremos.\n",
    "    if x<2.0^E_min\n",
    "        return [ExpFloat64ABin(E_min - 1), E_min - 1] #11 ceros para los números subnormales.\n",
    "    elseif x==2.0^E_min \n",
    "        return [ExpFloat64ABin(E_min), E_min] #Si es el menor número normalizado representable.\n",
    "    elseif Inf>x>=2.0^E_max\n",
    "        return [ExpFloat64ABin(E_max), E_max] #Arreglo del exponente mas grande antes de Inf.\n",
    "    elseif isinf(x) || isnan(x)\n",
    "        return [ExpFloat64ABin(E_max+1), E_max+1] #Inf y NaN tienen el mismo exponente, 11 unos.\n",
    "    end\n",
    "    \n",
    "    #Este algoritmo busca la n, de manera similar\n",
    "    #al método de bisección para hallar ceros de funciones. \n",
    "    while b != a+1\n",
    "        c=(a+b)÷2\n",
    "        exp_c = 2.0^c\n",
    "        if exp_c == x\n",
    "            return [ExpFloat64ABin(c), c]\n",
    "        end\n",
    "        2.0^a < x < exp_c ? b=c : a=c\n",
    "    end\n",
    "    return [ExpFloat64ABin(a), a]\n",
    "end\n",
    "\n",
    "\"\"\"\n",
    "Convierte un Float64 «x» a binario según la norma IEE 750 (la mantisa no se redondea al más cercano).\n",
    "Para obtener la mantisa, se utiliza la función MantBin definida al principio del notebook.\n",
    "Devuelve una cadena «s», con la representación binaria de «x».\n",
    "\"\"\"\n",
    "function Float64Abin(x::Float64)\n",
    "    bin=zeros(Int8, 64) #Se rellena de ceros, para Inf y NaN.\n",
    "    E_nin, E_max = -1022, 1023\n",
    "    mant = []\n",
    "    \n",
    "    #Añadimos el signo.\n",
    "    if signbit(x)\n",
    "        bin[1]=1\n",
    "    end\n",
    "    \n",
    "    #Los casos especiales Inf y NaN.\n",
    "    if isinf(x)\n",
    "        bin[2:12].=1\n",
    "        return join(string.(bin))\n",
    "    elseif isnan(x)\n",
    "        bin[2:13].=1\n",
    "        return join(string.(bin))\n",
    "    end\n",
    "    \n",
    "    #Encontramos los 11 dígitos del exponente.\n",
    "    expo = ObtenerExpBin(abs(x))\n",
    "    \n",
    "    #Si el número es subnormal, hay que sumarle uno al exponente.\n",
    "    if expo[2]==-1023\n",
    "       expo[2]+=1 \n",
    "    end\n",
    "    \n",
    "    #Se obtiene el cociente x/2^n, -1022<=n<=1023.\n",
    "    fac = abs(BigFloat(string(x))/big\"2.0\"^(expo[2]))\n",
    "    \n",
    "    #Se obtiene la mantisa con 52 dígitos.\n",
    "    mant = MantBin(Float64(fac), 52)\n",
    "    \n",
    "    #Construimos la cadena con la notación en binario.\n",
    "    return join(string.([bin[1]; expo[1]; mant]))\n",
    "end;"
   ]
  },
  {
   "cell_type": "code",
   "execution_count": null,
   "metadata": {},
   "outputs": [],
   "source": [
    "@testset \"Clase de equiv. Float64Abin\" begin\n",
    "    @testset \"Cero.\" begin\n",
    "        x=0.0\n",
    "        @test Float64Abin(x)==bitstring(x)\n",
    "        @test Float64Abin(-x)==bitstring(-x)\n",
    "    end\n",
    "    \n",
    "    @testset \"Núm. subn. no cero, $x\" for x in  (2.1729247260797e-311, 1.1125369292536007e-308)\n",
    "            @test Float64Abin(x)==bitstring(x)\n",
    "            @test Float64Abin(-x)==bitstring(-x)\n",
    "    end\n",
    "    \n",
    "    @testset \"Núm. norm., $x\" for x in (1.0, 2.0, 10.45)\n",
    "        @test Float64Abin(x)==bitstring(x)\n",
    "        @test Float64Abin(-x)==bitstring(-x)\n",
    "    end\n",
    "    \n",
    "    @testset \"Inf\" begin\n",
    "        x=Inf\n",
    "        @test Float64Abin(x)==bitstring(x)\n",
    "        @test Float64Abin(-x)==bitstring(-x)\n",
    "    end\n",
    "    \n",
    "    @testset \"NaN\" begin\n",
    "        x=NaN\n",
    "        @test Float64Abin(x)==bitstring(x)\n",
    "        @test Float64Abin(-x)==bitstring(-x)\n",
    "    end\n",
    "end;"
   ]
  },
  {
   "cell_type": "markdown",
   "metadata": {},
   "source": [
    "##### Parámetro en los extremos de las clases de equivalencia"
   ]
  },
  {
   "cell_type": "markdown",
   "metadata": {},
   "source": [
    "Este método coprueba dos valores (pueden ser más) en cada extremo (si aplica) de las clases de equivalencia.\n",
    "\n",
    "Para el algoritmo que convierte un `Float64` en su notación binaria, podemos comprobar los extremos de las siguientes clases:\n",
    "\n",
    "- Números subnormales distintos de cero $\\left(0,2^{-1022}\\right)$.\n",
    "  - Extremo inferior.\n",
    "    - $±2^{-1074}=±5.0\\cdot 10^{-324}$\n",
    "    - $±2^{-1073}=±1.0\\cdot 10^{-323}$\n",
    "  - Extremo superior.\n",
    "    - $±2^{-1022}-2^{-1073}=±2.2250738585072004\\cdot 10^{-308}$\n",
    "    - $±2^{-1022}-2^{-1074}=±2.225073858507201\\cdot 10^{-308}$\n",
    "- Números normalizados $\\left[2^{-1022},\\infty\\right)$.\n",
    "  - Extremo inferior.\n",
    "    - $±2^{-1022}=±2.2250738585072014\\cdot 10^{-308}$\n",
    "    - $±2^{-1022}+2^{-1074}=±2.225073858507202\\cdot 10^{-308}$\n",
    "  - Extremo superior.\n",
    "    - $±2^{1024}-2^{972}=±1.7976931348623155e308\\cdot 10^{308}$\n",
    "    - $±2^{1024}-2^{971}=±1.7976931348623157e308\\cdot 10^{308}$"
   ]
  },
  {
   "cell_type": "code",
   "execution_count": null,
   "metadata": {
    "scrolled": true
   },
   "outputs": [],
   "source": [
    "@testset \"Extrem. clase de equiv. Float64Abin\" begin    \n",
    "    @testset \"Extrem. núm. subn. no cero\" begin\n",
    "        @testset \"Extrem. infe. subn., $x\" for x in (5.0e-324, 1.0e-323)\n",
    "            @test Float64Abin(x)==bitstring(x)\n",
    "            @test Float64Abin(-x)==bitstring(-x)\n",
    "        end\n",
    "        @testset \"Extrem. supe. subn., $x\" for x in (2.2250738585072004e-308, 2.225073858507201e-308)\n",
    "            @test Float64Abin(x)==bitstring(x)\n",
    "            @test Float64Abin(-x)==bitstring(-x)\n",
    "        end\n",
    "    end\n",
    "    \n",
    "    @testset \"Extrem. núm. norm.\" begin\n",
    "        @testset \"Extrem. infe. norm., $x\" for x in (2.2250738585072014e-308, 2.225073858507202e-308)\n",
    "            @test Float64Abin(x)==bitstring(x)\n",
    "            @test Float64Abin(-x)==bitstring(-x)\n",
    "        end\n",
    "        @testset \"Extrem. supe. norm., $x\" for x in (1.7976931348623155e308, 1.7976931348623157e308)\n",
    "            @test Float64Abin(x)==bitstring(x)\n",
    "            @test Float64Abin(-x)==bitstring(-x)\n",
    "        end\n",
    "    end\n",
    "end;"
   ]
  },
  {
   "cell_type": "markdown",
   "metadata": {},
   "source": [
    "### Pruebas específicas de comportamiento"
   ]
  },
  {
   "cell_type": "markdown",
   "metadata": {},
   "source": [
    "Las pruebas unitarias son muy importantes, pero no siempre bastan para detectar los errores semánticos. En ocasiones es indispensable crear pruebas que verifiquen que el comportamiento de la implementación se asemeje al teórico.\n",
    "\n",
    "Por ejemplo el siguiente código tiene un error que sería muy difícil detectar con pruebas unitarias."
   ]
  },
  {
   "cell_type": "code",
   "execution_count": null,
   "metadata": {},
   "outputs": [],
   "source": [
    "def RK4(f,a,b,N,x_0,v_0):\n",
    "    #Calculamos por RK4.\n",
    "    h = (b-a)/N\n",
    "    lista_t=arange(a,b,h)\n",
    "    lista_x = []\n",
    "    lista_v = []\n",
    "    r = array([x_0,v_0],float)#Condiciones iniciales.\n",
    "    for t in lista_t:\n",
    "        k1=h*f(r,t)\n",
    "        k2=h*f(r+0.5*k1,t+0.5*h)\n",
    "        k3=h*f(r+0.5*k2,t+0.5*h)\n",
    "        k4=h*f(r+k3,t+h)\n",
    "        r+=(k1+2*k2+2*k3+k4)/float(6)\n",
    "        lista_x.append(r[0])\n",
    "        lista_v.append(r[1])\n",
    "    return [lista_t, lista_x, lista_v]"
   ]
  },
  {
   "cell_type": "markdown",
   "metadata": {},
   "source": [
    "Para ver si `RK4` funciona como se espera (error glogal $O(h^4)$), vamos ha verificar su comportamiento para el caso particular del siguiente sistema:\n",
    "\n",
    "$$\n",
    "\\left\\{\n",
    "\\begin{array}{ll}\n",
    "      \\frac{dx}{dt} = v\\\\\n",
    "      \\frac{dv}{dt} = =-4\\pi^2x \n",
    "\\end{array} \n",
    "\\right.\n",
    "$$\n",
    "\n",
    "Ha sido una elección arbitraria."
   ]
  },
  {
   "cell_type": "code",
   "execution_count": null,
   "metadata": {},
   "outputs": [],
   "source": [
    "from pylab import *\n",
    "from numpy import*\n",
    "import sys\n",
    "\n",
    "def f(r,t):\n",
    "    #Función a integrar.\n",
    "    x=r[0]\n",
    "    v=r[1]\n",
    "    fx=v\n",
    "    fv=-4*pi*pi*x\n",
    "    return array([fx,fv],float)\n",
    "\n",
    "def Euler(f,a,b,N,x_0,v_0):\n",
    "    #Calculamos por Euler.\n",
    "    h = (b-a)/N\n",
    "    lista_t=arange(a,b,h)\n",
    "    lista_x = []\n",
    "    lista_v = []\n",
    "    r = array([x_0,v_0],float)#Condiciones iniciales.\n",
    "    for t in lista_t:\n",
    "        lista_x.append(r[0])\n",
    "        lista_v.append(r[1])\n",
    "        r+=h*f(r,t+h)\n",
    "    return [lista_t, lista_x, lista_v]\n",
    "\n",
    "def convMetod(f, fmetd, a, b, Nlist,x0,v0, Nref=1000, fmetodref=RK4):\n",
    "#Se resuelve con fmetd, la ecuación diferencial con los parámetros\n",
    "#f, x0, v0, a y b, para cada N en Nlist. Y se comparan con el resultado\n",
    "#obtnido por fmetodref con los mismos parámetros de entrada \n",
    "#f, x0, v0, a y b, pero en este caso se usa N=Nref. Luego se devuelve\n",
    "#una N-ada con las normas infinito de las diferencias (las comparaciones)\n",
    "#para cada N en Nlist. Para que esto funcione bien es necesario que\n",
    "#las N en Nlist sean divisores de Nref.\n",
    "    err=[]#Almacena la lista de las normas infinito de las diferencias entre las soluciones.\n",
    "    for N in Nlist:\n",
    "        if(Nref%N):#Esto es para asegurarnos de comparar las x para un mismo t.\n",
    "            sys.exit('%i no divide a %i' %(N, Nref))\n",
    "        fac=Nref//N #Es el factor de escala para poder conectar las x con un mismo t.\n",
    "        errN=[]#Almacena las diferencias de las x obtenidas por los dos métodos para un mismo t.\n",
    "        x=fmetd(f,a,b,N,x0,v0)[1]\n",
    "        xref=fmetodref(f,a,b,Nref,x0,v0)[1]\n",
    "        for i in range(len(x)):\n",
    "            errN.append(abs(x[i]-xref[i*fac]))\n",
    "        err.append(max(errN))#Añadimos la norma infinito para cada N.\n",
    "    return err"
   ]
  },
  {
   "cell_type": "code",
   "execution_count": null,
   "metadata": {},
   "outputs": [],
   "source": [
    "Nl=[100, 200, 250, 400, 500, 1000, 2000, 2500, 5000, 10000]\n",
    "\n",
    "errEuler=convMetod(f, Euler, 0, 1, Nl, 1,0, 100000, Euler)\n",
    "errRK4=convMetod(f, RK4, 0, 1, Nl, 1,0, 100000, RK4)"
   ]
  },
  {
   "cell_type": "code",
   "execution_count": null,
   "metadata": {},
   "outputs": [],
   "source": [
    "plot(Nl, errEuler,label='Euler')\n",
    "plot(Nl, errRK4,label='RK4')\n",
    "xlabel('N')\n",
    "ylabel('error(N)')\n",
    "title('Comparación de la velocidad de convergencia.')\n",
    "legend(loc='best')\n",
    "grid()\n",
    "show()"
   ]
  },
  {
   "cell_type": "code",
   "execution_count": null,
   "metadata": {},
   "outputs": [],
   "source": [
    "plot(Nl, errEuler,label='Euler')\n",
    "plot(Nl, errRK4,label='RK4')\n",
    "xlabel('N')\n",
    "ylabel('error(N)')\n",
    "xscale('log')\n",
    "yscale('log')\n",
    "title('Comparación de la velocidad de convergencia.')\n",
    "legend(loc='best')\n",
    "grid()\n",
    "show()"
   ]
  },
  {
   "cell_type": "code",
   "execution_count": null,
   "metadata": {},
   "outputs": [],
   "source": [
    "from sklearn.linear_model import LinearRegression\n",
    "from sklearn.metrics import mean_squared_error, r2_score\n",
    "\n",
    "#Cambiemos a escala logarítmica para convertir el polinomio en una recta.\n",
    "#También se necesita que convirtamos las listas en arreglos de dos dimensiones.\n",
    "Nlr=array(log(Nl)).reshape(-1, 1) \n",
    "errRK4r=array(log(errRK4)).reshape(-1, 1)\n",
    "regmodRK4 = LinearRegression()\n",
    "\n",
    "regmodRK4.fit(Nlr, errRK4r)\n",
    "errRK4pred = regmodRK4.predict(Nlr)\n",
    "rmseRK4 = mean_squared_error(errRK4r, errRK4pred)\n",
    "r2RK4 = r2_score(errRK4r, errRK4pred)\n",
    "\n",
    "\n",
    "#Creamos la gráfica.\n",
    "plot(Nlr, errRK4pred, color='tab:green', label='Regresión RK4')\n",
    "scatter(Nlr, errRK4r, color='black', s=10,label='Máximo error en RK4')\n",
    "\n",
    "xlabel('log(N)')\n",
    "ylabel('log(error(N))')\n",
    "title('Recta de regresión\\nerror(N)=m*log(N)+b')\n",
    "legend(loc='best')\n",
    "grid()\n",
    "show()\n",
    "\n",
    "print(\"Parámetros del ajuste lineal para el error global en RK4.\")\n",
    "print('m = %f, b = %f' %(regmodRK4.coef_[0][0], regmodRK4.intercept_[0]))\n",
    "print('Raíz del error cuadrático medio: ', rmseRK4)\n",
    "print('R^2: ', r2RK4)"
   ]
  },
  {
   "cell_type": "markdown",
   "metadata": {},
   "source": [
    "Lo anterior nos advierte de que debe haber un error en la implementación.\n",
    "\n",
    "Revisando el código se verifica que los elementos para cada las listas `lista_x` y `lista_v` están desplazadas respecto a la lista `lista_t`, ya que `lista_x[0]` y `lista_x[0]` corresponde a `t=a+h` en lugar de a `t=a`. Lo mismo ocurre para los demás elementos. En otras palabras, la órbita no empieza en el punto inicial $r_0=(x_0,v_0)$, sino en $r_1=f(r_0)$.\n",
    "\n",
    "Esta sería una posible corrección al problema."
   ]
  },
  {
   "cell_type": "code",
   "execution_count": null,
   "metadata": {},
   "outputs": [],
   "source": [
    "def RK4(f,a,b,N,x_0,v_0):\n",
    "    #Calculamos por RK4.\n",
    "    h = (b-a)/N\n",
    "    lista_t=arange(a,b,h)\n",
    "    lista_x = []\n",
    "    lista_v = []\n",
    "    r = array([x_0,v_0],float)#Condiciones iniciales.\n",
    "    for t in lista_t:\n",
    "        lista_x.append(r[0]) #Se agregan los valores previamente calculados.\n",
    "        lista_v.append(r[1])\n",
    "        k1=h*f(r,t)\n",
    "        k2=h*f(r+0.5*k1,t+0.5*h)\n",
    "        k3=h*f(r+0.5*k2,t+0.5*h)\n",
    "        k4=h*f(r+k3,t+h)\n",
    "        r+=(k1+2*k2+2*k3+k4)/float(6)\n",
    "    return [lista_t, lista_x, lista_v]"
   ]
  },
  {
   "cell_type": "code",
   "execution_count": null,
   "metadata": {},
   "outputs": [],
   "source": [
    "Nl=[100, 200, 250, 400, 500, 1000, 2000, 2500, 5000, 10000]\n",
    "\n",
    "errEuler=convMetod(f, Euler, 0, 1, Nl, 1,0, 100000, Euler)\n",
    "errRK4=convMetod(f, RK4, 0, 1, Nl, 1,0, 100000, RK4)"
   ]
  },
  {
   "cell_type": "code",
   "execution_count": null,
   "metadata": {},
   "outputs": [],
   "source": [
    "plot(Nl, errEuler,label='Euler')\n",
    "plot(Nl, errRK4,label='RK4')\n",
    "xlabel('N')\n",
    "ylabel('error(N)')\n",
    "title('Comparación de la velocidad de convergencia.')\n",
    "legend(loc='best')\n",
    "grid()\n",
    "show()"
   ]
  },
  {
   "cell_type": "code",
   "execution_count": null,
   "metadata": {},
   "outputs": [],
   "source": [
    "plot(Nl, errEuler,label='Euler')\n",
    "plot(Nl, errRK4,label='RK4')\n",
    "xlabel('N')\n",
    "ylabel('error(N)')\n",
    "xscale('log')\n",
    "yscale('log')\n",
    "title('Comparación de la velocidad de convergencia.')\n",
    "legend(loc='best')\n",
    "grid()\n",
    "show()"
   ]
  },
  {
   "cell_type": "code",
   "execution_count": null,
   "metadata": {},
   "outputs": [],
   "source": [
    "#Cambiemos a escala logarítmica para convertir el polinomio en una recta.\n",
    "#También se necesita que convirtamos las listas en arreglos de dos dimensiones.\n",
    "Nlr=array(log(Nl)).reshape(-1, 1) \n",
    "errRK4r=array(log(errRK4)).reshape(-1, 1)\n",
    "regmodRK4 = LinearRegression()\n",
    "\n",
    "regmodRK4.fit(Nlr, errRK4r)\n",
    "errRK4pred = regmodRK4.predict(Nlr)\n",
    "rmseRK4 = mean_squared_error(errRK4r, errRK4pred)\n",
    "r2RK4 = r2_score(errRK4r, errRK4pred)\n",
    "\n",
    "\n",
    "#Creamos la gráfica.\n",
    "plot(Nlr, errRK4pred, color='tab:green', label='Regresión RK4')\n",
    "scatter(Nlr, errRK4r, color='black', s=10,label='Máximo error en RK4')\n",
    "\n",
    "xlabel('log(N)')\n",
    "ylabel('log(error(N))')\n",
    "title('Recta de regresión\\nerror(N)=m*log(N)+b')\n",
    "legend(loc='best')\n",
    "grid()\n",
    "show()\n",
    "\n",
    "print(\"Parámetros del ajuste lineal para el error global en RK4.\")\n",
    "print('m = %f, b = %f' %(regmodRK4.coef_[0][0], regmodRK4.intercept_[0]))\n",
    "print('Raíz del error cuadrático medio: ', rmseRK4)\n",
    "print('R^2: ', r2RK4)"
   ]
  },
  {
   "cell_type": "markdown",
   "metadata": {},
   "source": [
    "Verifiquemos también hasta que punto los errores aritméticos se hacen notar."
   ]
  },
  {
   "cell_type": "code",
   "execution_count": null,
   "metadata": {},
   "outputs": [],
   "source": [
    "Nl=[100, 200, 250, 400, 500, 1000, 2000, 2500, 5000, 10000, 50000, 100000]\n",
    "errRK4=convMetod(f, RK4, 0, 1, Nl, 1,0, 200000, RK4)"
   ]
  },
  {
   "cell_type": "code",
   "execution_count": null,
   "metadata": {},
   "outputs": [],
   "source": [
    "plot(Nl, errRK4,label='RK4')\n",
    "scatter(Nl, errRK4, color='black', s=10,label='Máximo error en RK4')\n",
    "xlabel('N')\n",
    "ylabel('error(N)')\n",
    "xscale('log')\n",
    "yscale('log')\n",
    "title('Comparación de la velocidad de convergencia.')\n",
    "legend(loc='best')\n",
    "grid()\n",
    "show()"
   ]
  },
  {
   "cell_type": "markdown",
   "metadata": {},
   "source": [
    "La prueba `convMetod` se puede usar para comparar métodos de integración. Por ejemplo, se que detectar cual método es más efectivo para integrar un sistema concreto. Además sirve para verificar cual métodos se ve más afectado por los errores de redondeo."
   ]
  },
  {
   "cell_type": "markdown",
   "metadata": {},
   "source": [
    "## Depuración"
   ]
  },
  {
   "cell_type": "markdown",
   "metadata": {},
   "source": [
    "Supongamos que esta función se está comportando de forma no deseada:"
   ]
  },
  {
   "cell_type": "code",
   "execution_count": null,
   "metadata": {},
   "outputs": [],
   "source": [
    "function f(x, y = 2)\n",
    "    z = 3\n",
    "    x + y + z\n",
    "end;"
   ]
  },
  {
   "cell_type": "markdown",
   "metadata": {},
   "source": [
    "Intuitivamente los programadores usamos las funciones diseñadas para imprimir en pantalla como medio de depuración."
   ]
  },
  {
   "cell_type": "code",
   "execution_count": null,
   "metadata": {},
   "outputs": [],
   "source": [
    "function f(x, y = 2)\n",
    "    z = 3\n",
    "    println(\"x=$x, y=$y, z=$z\")\n",
    "    x + y + z\n",
    "end\n",
    "f(1)"
   ]
  },
  {
   "cell_type": "markdown",
   "metadata": {},
   "source": [
    "Una mejora es usar las macros [Logging](https://docs.julialang.org/en/v1/stdlib/Logging/), pero lo mejor es emplear un paquete especializado.\n",
    "\n",
    "Existen [varios paquetes](https://julialang.org/blog/2019/03/debuggers) para depurar código en Julia. \n",
    "\n",
    "De todos los paquetes, destacamos los siguientes:\n",
    "\n",
    "- [JuliaInterpreter.jl](https://juliadebug.github.io/JuliaInterpreter.jl/latest/)\n",
    "  - Se usa para ejecutar código sin compilarlo previamente.\n",
    "  - Implementa opciones para depurar.\n",
    "  - [Juno.jl](http://docs.junolab.org/latest/)  y [Debugger.jl](https://github.com/JuliaDebug/Debugger.jl) utilizan parte de la implementación de JuliaInterpreter.jl para depurar.\n",
    "- [Debugger.jl](https://github.com/JuliaDebug/Debugger.jl) es un paquete específico para la depuración.\n",
    "  - Hay que instalarlo `import Pkg; Pkg.add(\"Debugger\")`.\n",
    "  - Se debe usar en __REPL__, por lo que no sirve en __Jupyter__.\n",
    "  - Se puede usar desde __atom__, aunque no es necesario.\n",
    "- [Juno.jl](http://docs.junolab.org/latest/) es el __IDE__ de __Julia__ para __Atom__.\n",
    "  - Incluye un depurador bastante bueno.\n",
    "  - Esta es la opción preferida.\n",
    "  \n",
    "El uso de `Debugger.jl` y de `Juno.jl` se mostrará en directo."
   ]
  },
  {
   "cell_type": "code",
   "execution_count": null,
   "metadata": {},
   "outputs": [],
   "source": []
  }
 ],
 "metadata": {
  "kernelspec": {
   "display_name": "Julia 1.5.2",
   "language": "julia",
   "name": "julia-1.5"
  },
  "language_info": {
   "file_extension": ".jl",
   "mimetype": "application/julia",
   "name": "julia",
   "version": "1.5.2"
  }
 },
 "nbformat": 4,
 "nbformat_minor": 4
}
