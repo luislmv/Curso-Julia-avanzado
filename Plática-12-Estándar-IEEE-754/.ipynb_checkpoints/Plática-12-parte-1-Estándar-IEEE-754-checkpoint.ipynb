{
 "cells": [
  {
   "cell_type": "markdown",
   "metadata": {},
   "source": [
    "# Tópicos avanzados de programación con Julia"
   ]
  },
  {
   "cell_type": "markdown",
   "metadata": {},
   "source": [
    "## _IEEE 754_"
   ]
  },
  {
   "cell_type": "markdown",
   "metadata": {},
   "source": [
    " "
   ]
  },
  {
   "cell_type": "markdown",
   "metadata": {},
   "source": [
    "### Temario para cubrir el objetivo 2"
   ]
  },
  {
   "cell_type": "markdown",
   "metadata": {},
   "source": [
    "__Tratamiento de errores mediante la depuración, el testing y buenas prácticas de programación.__\n",
    "- Representación de los reales en un equipo de cómputo.\n",
    "  - Punto Fijo.\n",
    "  - Punto Flotante (Notación científica).\n",
    "  \n",
    "- Representación de reales en el estándar IEEE 754.\n",
    "  - Valores extremos normalizados.\n",
    "  - Precisión, Epsilon de la máquina y upl.\n",
    "  - Número de representantes en $\\left[2^n, 2^{n+1}\\right)$, error aboluto y relativo.\n",
    "  - Números subnormales.\n",
    "  - Ejemplo de algunas representaciones `Float64` en IEEE 754.\n",
    "  - Conversión de binarios a `Float64`.\n",
    "  - Conversión de `Float64` a binario."
   ]
  },
  {
   "cell_type": "markdown",
   "metadata": {},
   "source": [
    "## Representación de los reales en un equipo de cómputo"
   ]
  },
  {
   "cell_type": "markdown",
   "metadata": {},
   "source": [
    "Los equipos de cómputo no trabajan con reales, sino con un conjunto finito que se puede representar como: \n",
    "\n",
    "$$\\mathbb F=\\overline{\\mathbb R}/\\sim\\cup \\left\\{NaN\\right\\}$$\n",
    "\n",
    "Donde $x\\sim y$ si tienen la misma representación binaria (excepto el cero que tiene dos representaciones binarias) después de redondear.\n",
    "\n",
    "La representación binaria tiene una cantidad finita de guarismos para almacenar la información. \n",
    "\n",
    "Por ejemplo, `Float64` cuenta con 64 guarismos que pueden tomar los valores 0 o 1.\n",
    "\n",
    "Es por eso que $\\mathbb F$ no sólo es discreto, sino finito.\n",
    "\n",
    "Muchos errores semánticos consisten en suponer que los cálculos se realizan en $\\mathbb R$, y no en $\\mathbb F$.\n",
    "\n",
    "Por ejemplo $0.0\\sim 1.0\\cdot 10^{-324}$, ya que:"
   ]
  },
  {
   "cell_type": "code",
   "execution_count": null,
   "metadata": {},
   "outputs": [],
   "source": [
    "println(bitstring(0.0))\n",
    "println(bitstring(1.0e-324))\n",
    "0.0 == 1.0e-324"
   ]
  },
  {
   "cell_type": "markdown",
   "metadata": {},
   "source": [
    "$0.3\\sim 0.30000000000000001$"
   ]
  },
  {
   "cell_type": "code",
   "execution_count": null,
   "metadata": {
    "scrolled": true
   },
   "outputs": [],
   "source": [
    "println(bitstring(0.3))\n",
    "println(bitstring(0.30000000000000001))\n",
    "0.3 == 0.30000000000000001"
   ]
  },
  {
   "cell_type": "markdown",
   "metadata": {},
   "source": [
    "La única exepciòn a la regla es que $0.0\\sim -0.0$"
   ]
  },
  {
   "cell_type": "code",
   "execution_count": null,
   "metadata": {},
   "outputs": [],
   "source": [
    "println(bitstring(0.0))\n",
    "println(bitstring(-0.0))\n",
    "0.0 == -0.0"
   ]
  },
  {
   "cell_type": "markdown",
   "metadata": {},
   "source": [
    "Es importante tener en cuenta que $\\mathbb F$ no es un campo. Es más, ni siquiera es un semigrupo respecto a la suma y el producto:"
   ]
  },
  {
   "cell_type": "code",
   "execution_count": null,
   "metadata": {},
   "outputs": [],
   "source": [
    "x, y, z = 1e307, 17e307, 1e307\n",
    "w1=(x+y)-z\n",
    "w2=x+(y-z)\n",
    "println(w1,\"\\n\",w2)"
   ]
  },
  {
   "cell_type": "markdown",
   "metadata": {},
   "source": [
    "### Punto Fijo"
   ]
  },
  {
   "cell_type": "markdown",
   "metadata": {},
   "source": [
    "Al representar un número en punto fijo, estamos utilizando al punto como separador de la parte entera y la fraccionaria.\n",
    "\n",
    "Por ejemplo en base 10\n",
    "\n",
    "Num. Punto Fijo | signo | Parte entera | Parte fraccionaria\n",
    ":-- | :-- | :-- | :--\n",
    "$12.875$ | $+$ |$12$ | $875$\n",
    "$-0.750$ | $-$ | $0$ | $750$\n",
    "\n",
    "Los mismo números, pero en base 2\n",
    "\n",
    "Num. Punto Fijo | signo | Parte entera | Parte fraccionaria\n",
    ":-- | :-- | :-- | :--\n",
    "$1100.111_2$ | $+$ | $1100_2$ | $111_2$\n",
    "$-0.110_2$ | $-$ | $0_2$ | $110_2$\n",
    "\n",
    "El signo se representa com $1$ si es positivo y con $0$ si no lo es. La tabla anterior quedaráia:\n",
    "\n",
    "Num. Punto Fijo | signo | Parte entera | Parte fraccionaria\n",
    ":-- | :-- | :-- | :--\n",
    "$1100.111_2$ | $0$ | $1100_2$ | $111_2$\n",
    "$-0.110_2$ | $1$ | $0_2$ | $110_2$\n",
    "\n",
    "Para representar un punto fijo, se asigna un digito para el signo, $n$ dígitos para la parte entera y $m$ dígitos para la parte fraccioncociente de conjuntos latexaria. Si algún dígino no se utiliza, entonces se rellena con ceros.\n",
    "\n",
    "Por ejemplo, supongamos que en el ejemplo anterior, se tine un dígito para el signo, 4 para la parte entera y 4 para la fraccionaria, entonces la tabla quedaría:\n",
    "\n",
    "Num. Punto FijoNum | signo | Parte entera | Parte fraccionaria\n",
    ":-- | :-- | :-- | :--\n",
    "$011001110$ | $0$ | $1100$ | $1110$\n",
    "$100001100$ | $1$ | $0000$ | $1100$\n",
    "\n",
    "En este tipo de representación el error absoluto que se comete por redondeo (al más cercano) está acotado por $2^{-m-1}$. El error relativo varía según aumenta o disminuye el valor absoluto del número. Esto es una consecuencia de que entre dos potencias consecutivas de la base hay más representantes mientras mayor es el esponente.\n",
    "\n",
    "Debido a lo anterior, la cantidad de memoria necesaria aumenta a medida que necesitamos trabajar con potencias de dos, que tengan exponentes más grandes (en valor absoluto)."
   ]
  },
  {
   "cell_type": "code",
   "execution_count": null,
   "metadata": {},
   "outputs": [],
   "source": [
    "\"\"\"\n",
    "Cambia la base de un entero decimal a entero binario.\n",
    "\"\"\"\n",
    "function EntABin(x::Int)\n",
    "    bin_ent=[] #Almacena el los digitos binarios.\n",
    "    xaux=x\n",
    "    dr=(xaux,0) #división entera y resto inicial.\n",
    "    while xaux > 1\n",
    "        dr=divrem(xaux,2) #división entera y resto.\n",
    "        push!(bin_ent, Int(dr[2]))\n",
    "        xaux=dr[1]\n",
    "    end\n",
    "    push!(bin_ent, Int(dr[1]))\n",
    "    reverse(bin_ent)\n",
    "end\n",
    "\n",
    "\"\"\"\n",
    "Cambia la base de la mantisa decimal a la mantisa binario.\n",
    "El valor no se redondea al más cercano, sino al menor más cercano.\n",
    "\"\"\"\n",
    "function MantBin(x::Float64, n::Int)\n",
    "    bin_mant=[]\n",
    "    #Sólo necesitamos la mantisa.\n",
    "    xaux=BigFloat(string(x))%big\"1.0\" #Se tabaja con Big, para evitar errores de redondeo en los cálculos.\n",
    "    for i in 1:n\n",
    "        xaux*=big\"2.0\"\n",
    "        dr=divrem(xaux, big\"1.0\")\n",
    "        push!(bin_mant, Int(dr[1])) #Se añade la parte entera convertida a entero (0 o 1).\n",
    "        xaux=dr[2] #Sólo nos quedamos con la parte fraccionaria, para repetir el proceso.\n",
    "    end\n",
    "    return bin_mant\n",
    "end\n",
    "\n",
    "\"\"\"\n",
    "Convierte un Float64 a binario de punto fijo.\n",
    "n_e es el número de dígitos para la parte entera incluyendo el signo.\n",
    "n_m es el número de díginos para la mantisa.\n",
    "El valor no se redondea al más cercano, sino al menor más cercano.\n",
    "\"\"\"\n",
    "function PuntoFijoBin(x::Float64, n_e::Int, n_m::Int)\n",
    "    xaux=BigFloat(string(x))\n",
    "    bin_ent, bin_mant = [], []\n",
    "    \n",
    "    #se obntiene la parte entera, sin signo y sin completar los ceros.\n",
    "    parte_ent = xaux ÷ big\"1.0\"\n",
    "    bin_ent=EntABin(Int(abs(parte_ent)))\n",
    "    n_be = length(bin_ent)\n",
    "    \n",
    "    # n_be debe ser menor a n_e porque falta el signo.\n",
    "    if n_be >= n_e\n",
    "        println(\"La parte entera es demasicado grande.\")\n",
    "        return\n",
    "    end\n",
    "    \n",
    "    #Completamos los ceros faltantes\n",
    "    while n_be < n_e-1\n",
    "        pushfirst!(bin_ent, 0)\n",
    "        n_be = length(bin_ent)\n",
    "    end\n",
    "    \n",
    "    #Añadimos el signo.\n",
    "    if string(x)[1]=='-'\n",
    "        pushfirst!(bin_ent, 1)\n",
    "    else\n",
    "        pushfirst!(bin_ent, 0)\n",
    "    end\n",
    "    \n",
    "    #Obtenemos la mantisa.\n",
    "    bin_mant=MantBin(abs(x), n_m)\n",
    "    \n",
    "    return [bin_ent, bin_mant]\n",
    "end\n",
    "\n",
    "\"\"\"\n",
    "Imprime el número binario obtenido por PuntoFijoBin.\n",
    "El signo se dibuja en azul, la pare entera en verde y la mantisa en rojo.\n",
    "\"\"\"\n",
    "function ImprimirPF(x::Float64, n_e::Int, n_m::Int)\n",
    "    bin=PuntoFijoBin(x, n_e, n_m)\n",
    "    parte_ent=join(string.(bin[1]))\n",
    "    parte_frac=join(string.(bin[2]))\n",
    "    printstyled(parte_ent[1]; color = :blue)\n",
    "    printstyled(parte_ent[2:end]; color = :green)\n",
    "    printstyled(parte_frac,\"\\n\"; color = :red)\n",
    "end"
   ]
  },
  {
   "cell_type": "code",
   "execution_count": null,
   "metadata": {},
   "outputs": [],
   "source": [
    "PuntoFijoBin(12.875,5,4)"
   ]
  },
  {
   "cell_type": "code",
   "execution_count": null,
   "metadata": {},
   "outputs": [],
   "source": [
    "PuntoFijoBin(-0.750,5,4)"
   ]
  },
  {
   "cell_type": "code",
   "execution_count": null,
   "metadata": {},
   "outputs": [],
   "source": [
    "ImprimirPF(12.875,5,4)\n",
    "ImprimirPF(-0.750,5,4)"
   ]
  },
  {
   "cell_type": "markdown",
   "metadata": {},
   "source": [
    "### Punto Flotante (Notación científica)"
   ]
  },
  {
   "cell_type": "markdown",
   "metadata": {},
   "source": [
    "Dada una base $B$, todo número real están contenido entre dos potencias consecutivas de esa base. La representación en punto flotante, expresa al real en términos de la pontencia menor.\n",
    "\n",
    "Si $x\\in \\left[B^n, B^{n+1}\\right)$, $n\\in \\mathbb Z$ entonces $x=x_0\\cdot B^n$, donde $x_0 \\in \\left[1, B \\right)$ y $x_0$ tiene una parte entera y una parte fraccionaria.\n",
    "\n",
    "Por ejemplo en base 10\n",
    "\n",
    "Num. Punto Fijo | Num. Punto Flot. | signo | Exponente | Parte entera | Parte fraccionaria\n",
    ":-- | :-- | :-- | :-- | :-- | :--\n",
    "$12.875$ | $1.2875\\cdot 10^1$ | $+$ | $1$ | $1$ | $2875$\n",
    "$-0.750$ | $-7.5\\cdot 10^{-1}$ | $-$ | $-1$ | $7$ | $5$\n",
    "\n",
    "Los mismo números, pero en base 2\n",
    "\n",
    "Num. Punto Fijo | &nbsp;&nbsp;&nbsp;&nbsp;Num. Punto Flot. | signo | Exponente | Parte entera | Parte fraccionaria\n",
    ":-- | :-- | :-- | :-- | :-- | :--\n",
    "$1100.111_2$ | $1.100111_2\\cdot 10^{11_2}_2$ | $+$ | $11_2$ | $1_2$ | $100111_2$\n",
    "$-0.11_2$ | $1.1_2\\cdot 10^{-1_2}_2$ | $-$ | $-1_2$ | $1_2$ | $1_2$\n",
    "\n",
    "Si cumple que $x_0 \\in \\left[1, B \\right)$ y $x_0$, entonces el número está normalizado. En caso contrario se dice que es subnormal.\n",
    "\n",
    "Por ejemplo si $x_0$ es mayor a $B$:\n",
    "\n",
    "&nbsp;&nbsp;Normalizado | &nbsp;&nbsp;&nbsp;&nbsp;&nbsp;&nbsp;&nbsp;&nbsp;&nbsp;Subnormal\n",
    ":--|:--\n",
    "$1.2875\\cdot 10^1$ | $1287.5\\cdot 10^{-2}$\n",
    "$1.1_2\\cdot 10^{-1_2}_2$ | $1100_2\\cdot 10^{-100_2}_2$\n",
    "\n",
    "Si $x_0$ es menor a uno:\n",
    "    \n",
    "&nbsp;&nbsp;Normalizado | &nbsp;&nbsp;&nbsp;&nbsp;&nbsp;&nbsp;&nbsp;&nbsp;&nbsp;Subnormal\n",
    ":-- | :--\n",
    "$1.2875\\cdot 10^1$ | $0.12875\\cdot 10^2$\n",
    "$1.1_2\\cdot 10^{-1_2}_2$ | $0.0011_2\\cdot 10^{10_2}_2$\n",
    "\n",
    "En el estándar __IEEE 754__, este último tipo de números subnormales están permitidos. En la siguiente sección se hablará más de ellos.\n",
    "\n",
    "En este tipo de representación el error absoluto que se comete por redondeo varía según con el exponente, mientras que el error relativo permanece constante para los números normalizados. En la siguiente sección se hablará más de esto. Esto es una consecuencia de que hay la misma cantidad de representantes para cada intervalo $\\left[B^n, B^{n+1}\\right)$ independientemente del valor de $n$.\n",
    "\n",
    "Debido a lo anterior, la cantidad de memoria necesaria permanece constante sin importar el orden de magnitud de $x$."
   ]
  },
  {
   "cell_type": "markdown",
   "metadata": {},
   "source": [
    "## Representación de reales en el estándar IEEE 754"
   ]
  },
  {
   "cell_type": "markdown",
   "metadata": {},
   "source": [
    "El punto floatante de precisión simple «`Float32`» se representa de la siguiente manera:\n",
    "\n",
    "<img src=\"img/32.svg\" width=\"100%\"/>\n",
    "\n",
    "Mientras que el punto floatante de doble procisión «`Float64`» se representa como:\n",
    "<img src=\"img/64.svg\" width=\"100%\"/>\n",
    "\n",
    "Como la parte entera de todo número binario y normalizado es uno, entonces este se omite (bit escondido)."
   ]
  },
  {
   "cell_type": "markdown",
   "metadata": {},
   "source": [
    "### Valores extremos normalizados"
   ]
  },
  {
   "cell_type": "markdown",
   "metadata": {},
   "source": [
    "La siguiente tabla muestra cuales son los exponentes más pequeñas y mas grandes que se pueden representar en precisión simple y doble. También se muestra el menor número normalizado y el número finito más grande.\n",
    "\n",
    "<img src=\"img/t1.png\" width=\"80%\"/>"
   ]
  },
  {
   "cell_type": "markdown",
   "metadata": {},
   "source": [
    "### Precisión, Epsilon de la máquina y upl"
   ]
  },
  {
   "cell_type": "markdown",
   "metadata": {},
   "source": [
    "La siguiente table muestar la precisión (se cuenta el bit escondido) y la epsión de la máquina para varias representaciones:\n",
    "\n",
    "<img src=\"img/e2.png\" width=\"60%\"/>\n",
    "\n",
    "- La presisión es el número de cifras con significado.\n",
    "  - Toda la mantisa y el bit oculto.\n",
    "- La epsión es el número más pequeño (positivo) que puede representar la mantisa, independientemente del orden de magnitud.\n",
    "- Si $x\\in\\left[2^n, 2^{n+1}\\right)$, la $upl(x)=\\epsilon\\cdot 2^{n}$, $E_{min}\\leq n\\leq E_{max}$ (unit in the last place) que en __Julia__ es `eps(x)`.\n",
    "  - $upl(x)=upl(2^n)$ es el número más pequeño que puede representar la mantiza en el intervalo $\\left(2^n, 2^{n+1}\\right)$.\n",
    "  - La __upl__ es la distancia entre dos representantes consecutivos en $\\mathbb F$ en cada intervalo $\\left[2^n, 2^{n+1}\\right)$.\n",
    "  - Permanece constante para cada $\\left[2^n, 2^{n+1}\\right)$.\n",
    "  - Los valores extremos para __upl__ son $\\epsilon\\cdot 2^{E_{min}}$ y $\\epsilon\\cdot 2^{E_{max}}$ respectivamente.\n",
    "  - $\\epsilon=upl(1)$.\n",
    "\n",
    "<img src=\"img/e1.png\" width=\"80%\"/>"
   ]
  },
  {
   "cell_type": "markdown",
   "metadata": {},
   "source": [
    "### Número de representantes en $\\left[2^n, 2^{n+1}\\right)$, error aboluto y relativo"
   ]
  },
  {
   "cell_type": "markdown",
   "metadata": {},
   "source": [
    "- Hay $2^{p-1}$ elementos de  $\\mathbb F$ en el intervalo $\\left[2^n, 2^{n+1}\\right)$.\n",
    "  - También hay $2^{p-1}$ elementos en el intervalo $\\left[2^{E_{max}}, \\infty\\right)$\n",
    "- El error absoluto $err(x_{a})$ que se comente al redondear $x_{t}$ (al representar en $\\mathbb F$) por $x_{a}$ está aconado por $upl(x_t)$\n",
    "  - Para cualquier tipo de redondeo (hay varios modos) $err(x_{a}) < upl(x_t)$\n",
    "  - Si se ha redondeado al más cercano ($x\\geq0.5$ por exceso y $x<0.5$ por defecto) entoces $err(x_{a}) \\leq 0.5\\cdot upl(x_t)$\n",
    "- El error relativo $err_r(x_{a})<\\epsilon$ en todos los modos de redondeo y $err_r(x_{a})\\leq 0.5\\cdot\\epsilon$ si se ha redondeado al más cercano."
   ]
  },
  {
   "cell_type": "markdown",
   "metadata": {},
   "source": [
    "### Números subnormales"
   ]
  },
  {
   "cell_type": "markdown",
   "metadata": {},
   "source": [
    "- Los valores subnormales $x$ son aquellos que $0\\leq|x|<N_{min}$.\n",
    "  - Todos los digitos del exponente son ceros.\n",
    "  - Estos valores sacrifican dígitos de la mantisa para disminuir disminuir obtener potencias menores a $2^{E_{min}}$.\n",
    "  - Hay $2^{p-1}$ valores subnormales en $\\left[0.0, 2^{E_{min}}\\right)$ y en $\\left(-2^{E_{min}}, -0.0\\right]$.\n",
    "  - El error absoluto es el mismo que para el primer intervalo normal $\\left[2^{E_{min}}, 2^{E_{min}+1}\\right)$.\n",
    "  - El error relativo se hace mayor, mientras más pequeño es $|x|$."
   ]
  },
  {
   "cell_type": "markdown",
   "metadata": {},
   "source": [
    "### Ejemplo de algunas representaciones `Float64` en IEEE 754"
   ]
  },
  {
   "cell_type": "code",
   "execution_count": null,
   "metadata": {},
   "outputs": [],
   "source": [
    "\"\"\"\n",
    "Imprime el número binario obtenido por bitstring.\n",
    "El signo se dibuja en azul, el exponente en verde y la mantisa en rojo.\n",
    "\"\"\"\n",
    "function ColorBitstring(x::Float64)\n",
    "    bin = bitstring(x)\n",
    "    printstyled(bin[1]; color = :blue)\n",
    "    printstyled(bin[2:12]; color = :green)\n",
    "    printstyled(bin[13:end],\"\\n\"; color = :red)\n",
    "end"
   ]
  },
  {
   "cell_type": "code",
   "execution_count": null,
   "metadata": {},
   "outputs": [],
   "source": [
    "# «N_min» es el más pequeño (valor absoluto) que conserva el error relativo.\n",
    "x = 2.2250738585072014e-308\n",
    "println(\"x = ±\", x)\n",
    "println(\"upl(x) = \", eps(x))\n",
    "ColorBitstring(x)\n",
    "ColorBitstring(-x)"
   ]
  },
  {
   "cell_type": "code",
   "execution_count": null,
   "metadata": {},
   "outputs": [],
   "source": [
    "#Puedo crear números más pequeños, pero sacrificando precisión.\n",
    "#Esto son los valores subnormales.\n",
    "x = 1.1125369292536007e-308\n",
    "println(\"x = ±\", x)\n",
    "println(\"upl(x) = \", eps(x))\n",
    "ColorBitstring(x)\n",
    "ColorBitstring(-x)"
   ]
  },
  {
   "cell_type": "code",
   "execution_count": null,
   "metadata": {},
   "outputs": [],
   "source": [
    "#Es el número más pequño (valor absoluto no cero) que puedo escribir, pero no sin cifras decimales.\n",
    "#Es el subnormal más pequeño no nulo.\n",
    "x = 5.0e-324\n",
    "println(\"x = ±\", x)\n",
    "println(\"upl(x) = \", eps(x))\n",
    "ColorBitstring(x)\n",
    "ColorBitstring(-x)"
   ]
  },
  {
   "cell_type": "code",
   "execution_count": null,
   "metadata": {},
   "outputs": [],
   "source": [
    "#El cero tiene dos representaciones.\n",
    "#El cero se considera un número subnormal.\n",
    "x = 0.0\n",
    "println(\"x = ±\", x)\n",
    "println(\"upl(x) = \", eps(x))\n",
    "ColorBitstring(x)\n",
    "ColorBitstring(-x)"
   ]
  },
  {
   "cell_type": "code",
   "execution_count": null,
   "metadata": {},
   "outputs": [],
   "source": [
    "#Volvemos a N_min.\n",
    "x = 2.2250738585072014e-308\n",
    "eps(x)\n",
    "println(\"x = ±\", x)\n",
    "println(\"upl(x) = \", eps(x))\n",
    "ColorBitstring(x)\n",
    "ColorBitstring(-x)"
   ]
  },
  {
   "cell_type": "code",
   "execution_count": null,
   "metadata": {},
   "outputs": [],
   "source": [
    "x = 4.450147717014403e-308\n",
    "println(\"x = ±\", x)\n",
    "println(\"upl(x) = \", eps(x))\n",
    "ColorBitstring(x)\n",
    "ColorBitstring(-x)"
   ]
  },
  {
   "cell_type": "code",
   "execution_count": null,
   "metadata": {},
   "outputs": [],
   "source": [
    "x=8.900295434028806e-308\n",
    "println(\"x = ±\",x)\n",
    "println(\"upl(x) = \", eps(x))\n",
    "ColorBitstring(x)\n",
    "ColorBitstring(-x)"
   ]
  },
  {
   "cell_type": "code",
   "execution_count": null,
   "metadata": {},
   "outputs": [],
   "source": [
    "x=1.0\n",
    "println(\"x = ±\",x)\n",
    "println(\"upl(x) = \", eps(x))\n",
    "ColorBitstring(x)\n",
    "ColorBitstring(-x)"
   ]
  },
  {
   "cell_type": "code",
   "execution_count": null,
   "metadata": {},
   "outputs": [],
   "source": [
    "x=2.0\n",
    "println(\"x = ±\",x)\n",
    "println(\"upl(x) = \", eps(x))\n",
    "ColorBitstring(x)\n",
    "ColorBitstring(-x)"
   ]
  },
  {
   "cell_type": "code",
   "execution_count": null,
   "metadata": {},
   "outputs": [],
   "source": [
    "x=4.0\n",
    "println(\"x = ±\",x)\n",
    "println(\"upl(x) = \", eps(x))\n",
    "ColorBitstring(x)\n",
    "ColorBitstring(-x)"
   ]
  },
  {
   "cell_type": "code",
   "execution_count": null,
   "metadata": {},
   "outputs": [],
   "source": [
    "x=8.0\n",
    "println(\"x = ±\",x)\n",
    "println(\"upl(x) = \", eps(x))\n",
    "ColorBitstring(x)\n",
    "ColorBitstring(-x)"
   ]
  },
  {
   "cell_type": "code",
   "execution_count": null,
   "metadata": {},
   "outputs": [],
   "source": [
    "x=16.0\n",
    "println(\"x = ±\",x)\n",
    "println(\"upl(x) = \", eps(x))\n",
    "ColorBitstring(x)\n",
    "ColorBitstring(-x)"
   ]
  },
  {
   "cell_type": "code",
   "execution_count": null,
   "metadata": {},
   "outputs": [],
   "source": [
    "#Esta es la myor potencia que se puede representar (2^1023)\n",
    "x = 8.98846567431158e+307\n",
    "println(\"x = ±\", x)\n",
    "println(\"upl(x) = \", eps(x))\n",
    "ColorBitstring(x)\n",
    "ColorBitstring(-x)"
   ]
  },
  {
   "cell_type": "code",
   "execution_count": null,
   "metadata": {
    "scrolled": true
   },
   "outputs": [],
   "source": [
    "println(\"Este es el máximo antes de Inf\\n\")\n",
    "x = 1.7976931348623157e+308\n",
    "println(\"x = ±\",x)\n",
    "println(\"upl(x) = \", eps(x))\n",
    "ColorBitstring(x)\n",
    "ColorBitstring(-x)\n",
    "\n",
    "println(\"\\nA partir de aquí es Inf\\n\")\n",
    "x = 8.98846567431158e+307*2\n",
    "println(\"x = ±\", x)\n",
    "println(\"upl(x) = \", eps(x))\n",
    "ColorBitstring(x)\n",
    "ColorBitstring(-x)\n",
    "\n",
    "x = Inf\n",
    "println(\"x = ±\", x)\n",
    "println(\"upl(x) = \",  eps(x))\n",
    "ColorBitstring(x)\n",
    "ColorBitstring(-x)"
   ]
  },
  {
   "cell_type": "code",
   "execution_count": null,
   "metadata": {
    "scrolled": false
   },
   "outputs": [],
   "source": [
    "x = NaN\n",
    "println(\"x = ±\", x)\n",
    "println(\"upl(x) = \",  eps(x))\n",
    "ColorBitstring(x)\n",
    "ColorBitstring(-x)"
   ]
  },
  {
   "cell_type": "markdown",
   "metadata": {},
   "source": [
    "### Conversión de binarios a `Float64`"
   ]
  },
  {
   "cell_type": "markdown",
   "metadata": {},
   "source": [
    "Dado una cadaena `s` con el número binario correspondiente a un `Float64`:\n",
    "\n",
    "1. Separar las el dígito del signo, los del exponente y la mantisa.\n",
    "  - signo `s[1]`, expoenente `s[2:12]`, mantisa `s[13:end]`.\n",
    "- Se establece el signo `(-1)^s[1]`.\n",
    "- Se calcula la potencia `2^exp`, $N_{min}\\leq exp \\leq N_{max}$.\n",
    "  - El exponente `s[2:12]` se convierte a entero decimal `exp0`.\n",
    "  - El exponente comiensa en $-1023$, por tanto `exp=exp0-1023`.\n",
    "  - Se calcula la pontencia de `poten=2^exp`.\n",
    "- Evaluar casos particulares (`NaN`, número subnormal)\n",
    "  - Si el exponente es `1024` y la mantisa `s[13:end]` contiene al menos a un `1`, entonces se retorna `NaN`.\n",
    "  - Si el número es `±O.O` (`exp=-1203` y en `s[13:end]` sólo hay ceros) se establece la `mant=0.0`.\n",
    "  - Si el número es subnormal distinto de cero (`exp=-1203` y en `s[13:end]` hay al menos un `1`).\n",
    "    - La mantisa se desplaza de derecha a izquierda hasta eliminar todos los ceros y al primer `1` (de izquierda a derecha).`s[15+ceros:end]`\n",
    "    - El recorrido de la mantisa se refleja en `poten*=2^(-ceros)` y la mantisa es ahora `s[14+ceros:end]`, donde `ceros` es el número de ceros hasta el primer `1`.\n",
    "    - Se calcula la mantisa `mant` como la suma de los `0.5^s[i]` en `s[14+ceros:end]`.\n",
    "    - finalmente le sumamos `1` a `mant`.\n",
    "- Si el número está normalizado (el exponente es mayor a `-1023`) se calcula la mantisa igual que para los números subnormales, pero con todos los elementes de `s[13:end]`.\n",
    "- Se multiplican la potencia, la mantisa y el signo.\n",
    "\n",
    "Los cálculos se hacen con `BigFloat` para no introducir errores de redondeo en el proceso.\n",
    "Finalmente el resultdo se convierte a `Float64`."
   ]
  },
  {
   "cell_type": "code",
   "execution_count": null,
   "metadata": {},
   "outputs": [],
   "source": [
    "\"\"\"\n",
    "Hace lo opuesto a bitstring.\n",
    "Se usa para comprobar el algoritmo de conversión.\n",
    "\"\"\"\n",
    "function BinFloat(s::String)\n",
    "    reinterpret(Float64, parse(Int, s, base=2))\n",
    "end\n",
    "\n",
    "\"\"\"\n",
    "Cuante en número de ceros haste el primer 1 en el array x.\n",
    "Sólo se debe llamar, si se sabe que contiene un uno.\n",
    "Se usa para saber el desplazameiento en los números subnormales.\n",
    "\"\"\"\n",
    "function CerosMant(x::Array)\n",
    "    cont=0\n",
    "    for i in x\n",
    "        if i == 1\n",
    "            break\n",
    "        end\n",
    "        cont+=1\n",
    "    end\n",
    "    return cont\n",
    "end\n",
    "\n",
    "\"\"\"\n",
    "Convierte el exponente de binario a entero en base 10.\n",
    "x es un arreglo con 11 elementos. \n",
    "El valor devuelto es un etero.\n",
    "\"\"\"\n",
    "function ExpBinAFloat64(x::Array)\n",
    "    exp=-1023\n",
    "    n=length(x)\n",
    "    for i in 1:n\n",
    "        exp+=x[i]*2^(n-i)\n",
    "    end\n",
    "    return exp\n",
    "end\n",
    "\n",
    "\"\"\"\n",
    "Convierte la mantisa de binario a entero en base 10.\n",
    "x es un arreglo con 52 elementos. \n",
    "El valor devuelto es un BigFloat.\n",
    "No se añade el uno de la parte entera para los números normalizados.\n",
    "\"\"\"\n",
    "function MantBinAFloat64(x::Array)\n",
    "    mant=BigFloat(\"0.0\")\n",
    "    n=length(x)\n",
    "    for i in 1:n\n",
    "        mant+=x[i]*BigFloat(\"0.5\")^i\n",
    "    end\n",
    "    return mant\n",
    "end\n",
    "\n",
    "\"\"\"\n",
    "Convierte la cadena «s» de binario a un Float64.\n",
    "\"\"\"\n",
    "function Float64ABin(s::String)\n",
    "    x=[parse(Int, i) for i in s] #Convierte el string a array de enteros.\n",
    "    xe=x[2:12] #Esponente.\n",
    "    xm=x[13:end] #Mantisa.\n",
    "    \n",
    "    signo=big\"-1.0\"^x[1]\n",
    "    exp=ExpBinAFloat64(xe)\n",
    "    poten=big\"2.0\"^BigFloat(string(exp))\n",
    "    \n",
    "    if exp == 1024 && CerosMant(xm) != 52\n",
    "        return NaN\n",
    "    end\n",
    "    \n",
    "    if exp == -1023 #Números subnormales\n",
    "        ceros=CerosMant(xm)\n",
    "        if ceros==52 #Si es el 0.0\n",
    "            mant=big\"0.0\"\n",
    "        else #Si no es 0.0.\n",
    "            poten*=big\"2.0\"^BigFloat(string(-ceros)) #Se recorre la mantisa a la izquierda.\n",
    "            xm=xm[ceros+2:end] #La mantisa es más pequeña.\n",
    "            mant=MantBinAFloat64(xm)+big\"1.0\"\n",
    "        end\n",
    "    else #Números normalizados\n",
    "        mant=MantBinAFloat64(xm)+big\"1.0\"\n",
    "    end\n",
    "    return Float64(signo*poten*mant) #Float64.\n",
    "end"
   ]
  },
  {
   "cell_type": "code",
   "execution_count": null,
   "metadata": {},
   "outputs": [],
   "source": [
    "x = 2.2250738585072014e-308\n",
    "s=bitstring(x)\n",
    "ColorBitstring(x)\n",
    "Float64ABin(s)"
   ]
  },
  {
   "cell_type": "code",
   "execution_count": null,
   "metadata": {},
   "outputs": [],
   "source": [
    "x = -2.2250738585072014e-308\n",
    "s=bitstring(x)\n",
    "ColorBitstring(x)\n",
    "Float64ABin(s)"
   ]
  },
  {
   "cell_type": "code",
   "execution_count": null,
   "metadata": {},
   "outputs": [],
   "source": [
    "x = 10.45\n",
    "s=bitstring(x)\n",
    "ColorBitstring(x)\n",
    "Float64ABin(s)"
   ]
  },
  {
   "cell_type": "code",
   "execution_count": null,
   "metadata": {},
   "outputs": [],
   "source": [
    "x = -0.0\n",
    "s=bitstring(x)\n",
    "ColorBitstring(x)\n",
    "Float64ABin(s)"
   ]
  },
  {
   "cell_type": "code",
   "execution_count": null,
   "metadata": {},
   "outputs": [],
   "source": [
    "x = 1.1125369292536007e-308\n",
    "s=bitstring(x)\n",
    "ColorBitstring(x)\n",
    "Float64ABin(s)"
   ]
  },
  {
   "cell_type": "code",
   "execution_count": null,
   "metadata": {},
   "outputs": [],
   "source": [
    "x = -5.0e-324\n",
    "s=bitstring(x)\n",
    "ColorBitstring(x)\n",
    "Float64ABin(s)"
   ]
  },
  {
   "cell_type": "code",
   "execution_count": null,
   "metadata": {},
   "outputs": [],
   "source": [
    "x = 2.1729247260797e-311\n",
    "s=bitstring(x)\n",
    "ColorBitstring(x)\n",
    "Float64ABin(s)"
   ]
  },
  {
   "cell_type": "code",
   "execution_count": null,
   "metadata": {},
   "outputs": [],
   "source": [
    "x = Inf\n",
    "s=bitstring(x)\n",
    "ColorBitstring(x)\n",
    "Float64ABin(s)"
   ]
  },
  {
   "cell_type": "code",
   "execution_count": null,
   "metadata": {
    "scrolled": false
   },
   "outputs": [],
   "source": [
    "x = NaN\n",
    "s=bitstring(x)\n",
    "ColorBitstring(x)\n",
    "Float64ABin(s)"
   ]
  },
  {
   "cell_type": "markdown",
   "metadata": {},
   "source": [
    "### Conversión de `Float64` a binario"
   ]
  },
  {
   "cell_type": "markdown",
   "metadata": {},
   "source": [
    "Dado un `Float64` `x`, establecemos la cadana `s` con su represenación binaria en IEE 754.\n",
    "\n",
    "1. Si el signo es negativo se asigna `s[1]=1`, de lo contrario se asigna `0`.\n",
    "- Si es `Inf` (`NaN`), `s[2:12].=1` (`s[2:12].=1`) y los restantes se rellenan con ceros.\n",
    "- Obtenemos los `11` dígitos del exponente `s[2:12]`.\n",
    "  - Se detecta cual es la `n`, para la cual `x` están en `[2^n, 2^{n+1})`.\n",
    "    - Los casos extremos son (subnormales, `Inf`, `NaN`, `E_min` y `E_max`) \n",
    "    - Para el resto, se busca `n` de manera similar al método de bisección para hallar ceros de funciones.\n",
    "  - Una vez se conoce `n` se convierte `n+1023` a binario. \n",
    "  - De ser necesario se añaden ceros para obtener los 11 dígitos.\n",
    "  - Se almacena todo en `s[2:12]`.\n",
    "  - El valor `n`, se conserva. Si `x` es subnormal, es necesario hacer `n+=1`.\n",
    "- Se obtiene la mantisa binaria del cociente x/2^n, -1022<=n<=1023, con 52 dígitos.\n",
    "  - El algoritmo es el mismo que para el punto fijo.\n",
    "  - Con el resultado se establece `s[13:end]`.\n",
    "- Con todos lo anterior ya se tiene `s`.\n",
    "\n",
    "Los cálculos que puedan verse afectados por el redondeo, se usa BigFloat."
   ]
  },
  {
   "cell_type": "code",
   "execution_count": 129,
   "metadata": {},
   "outputs": [
    {
     "data": {
      "text/plain": [
       "Float64Abin"
      ]
     },
     "execution_count": 129,
     "metadata": {},
     "output_type": "execute_result"
    }
   ],
   "source": [
    "\"\"\"\n",
    "Costruye los 11 dígitos del exponente de un Float64 en binario.\n",
    "Se le pasa el exponente como un entero decimal.\n",
    "Para convertir usa la función EntABin definida al principio del notebook.\n",
    "Los dígitos faltantes se rellenan con ceros.\n",
    "Devuelve un arreglo con los 11 elementos.\n",
    "\"\"\"\n",
    "function ExpFloat64ABin(x::Int)\n",
    "    bin_exp=EntABin(x+1023)\n",
    "    N=11-length(bin_exp)\n",
    "    if N>0\n",
    "        bin_exp = reverse(bin_exp)\n",
    "        for i in 1:N\n",
    "            push!(bin_exp, Int(0))\n",
    "        end\n",
    "        bin_exp = reverse(bin_exp)\n",
    "    end\n",
    "    return bin_exp\n",
    "end\n",
    "\n",
    "\"\"\"\n",
    "Encuentra la n, para la cual x están en [2^n, 2^{n+1}).\n",
    "Si x está normalizado, entoces -1022<=n<=1023.\n",
    "Si x es subnormal, n=-1023, si es inf o NaN, n=1024.\n",
    "Se devuelve un arreglo con los 11 digigos en binario para n. También se devuelve n.\n",
    "\"\"\"\n",
    "function ObtenerExpBin(x::Float64)\n",
    "    E_min, E_max = -1022, 1023\n",
    "    a, b = E_min, E_max\n",
    "    \n",
    "    #Se atienden los casos extremos.\n",
    "    if x<2.0^E_min\n",
    "        return [ExpFloat64ABin(E_min - 1), E_min - 1] #11 ceros para los números subnormales.\n",
    "    elseif x==2.0^E_min \n",
    "        return [ExpFloat64ABin(E_min), E_min] #Si es el menor número normalizado representable.\n",
    "    elseif Inf>x>=2.0^E_max\n",
    "        return [ExpFloat64ABin(E_max), E_max] #Arreglo del exponente mas grande antes de Inf.\n",
    "    elseif isinf(x) || isnan(x)\n",
    "        return [ExpFloat64ABin(E_max+1), E_max+1] #Inf y NaN tienen el mismo exponente, 11 unos.\n",
    "    end\n",
    "    \n",
    "    #Este algoritmo busca la n, de manera similar\n",
    "    #al método de bisección para hallar ceros de funciones. \n",
    "    while b != a+1\n",
    "        c=(a+b)÷2\n",
    "        exp_c = 2.0^c\n",
    "        if exp_c == x\n",
    "            return [ExpFloat64ABin(c), c]\n",
    "        end\n",
    "        2.0^a < x < exp_c ? b=c : a=c\n",
    "    end\n",
    "    return [ExpFloat64ABin(a), a]\n",
    "end\n",
    "\n",
    "\"\"\"\n",
    "Convierte un Float64 «x» a binario según la norma IEE 750 (la mantisa no se redondea al más cercano).\n",
    "Para obtener la mantisa, se utiliza la función MantBin definida al principio del notebook.\n",
    "Devuelve una cadena «s», con la representación binaria de «x».\n",
    "\"\"\"\n",
    "function Float64Abin(x::Float64)\n",
    "    bin=zeros(Int8, 64) #Se rellena de ceros, para Inf y NaN.\n",
    "    E_nin, E_max = -1022, 1023\n",
    "    mant = []\n",
    "    \n",
    "    #Añadimos el signo.\n",
    "    if signbit(x)\n",
    "        bin[1]=1\n",
    "    end\n",
    "    \n",
    "    #Los casos especiales Inf y NaN.\n",
    "    if isinf(x)\n",
    "        bin[2:12].=1\n",
    "        return join(string.(bin))\n",
    "    elseif isnan(x)\n",
    "        bin[2:13].=1\n",
    "        return join(string.(bin))\n",
    "    end\n",
    "    \n",
    "    #Encontramos los 11 dígitos del exponente.\n",
    "    expo = ObtenerExpBin(abs(x))\n",
    "    \n",
    "    #Si el número es subnormal, hay que suparle uno al exponente.\n",
    "    if expo[2]==-1023\n",
    "       expo[2]+=1 \n",
    "    end\n",
    "    \n",
    "    #Se obtiene el cociente x/2^n, -1022<=n<=1023.\n",
    "    fac = abs(BigFloat(string(x))/big\"2.0\"^(expo[2]))\n",
    "    \n",
    "    #Se obtiene la mantisa con 52 díginos.\n",
    "    mant = MantBin(Float64(fac), 52)\n",
    "    \n",
    "    #Contruimos la cadena con la notación en binario.\n",
    "    return join(string.([bin[1]; expo[1]; mant]))\n",
    "end"
   ]
  },
  {
   "cell_type": "code",
   "execution_count": 130,
   "metadata": {},
   "outputs": [
    {
     "name": "stdout",
     "output_type": "stream",
     "text": [
      "\u001b[34m0\u001b[39m\u001b[32m00000000001\u001b[39m\u001b[31m0000000000000000000000000000000000000000000000000000\u001b[39m\n",
      "0000000000010000000000000000000000000000000000000000000000000000\n"
     ]
    },
    {
     "data": {
      "text/plain": [
       "true"
      ]
     },
     "execution_count": 130,
     "metadata": {},
     "output_type": "execute_result"
    }
   ],
   "source": [
    "x = 2.2250738585072014e-308\n",
    "ColorBitstring(x)\n",
    "s=Float64Abin(x)\n",
    "println(s)\n",
    "bitstring(x)==s"
   ]
  },
  {
   "cell_type": "code",
   "execution_count": 131,
   "metadata": {},
   "outputs": [
    {
     "name": "stdout",
     "output_type": "stream",
     "text": [
      "\u001b[34m1\u001b[39m\u001b[32m00000000001\u001b[39m\u001b[31m0000000000000000000000000000000000000000000000000000\u001b[39m\n",
      "1000000000010000000000000000000000000000000000000000000000000000\n"
     ]
    },
    {
     "data": {
      "text/plain": [
       "true"
      ]
     },
     "execution_count": 131,
     "metadata": {},
     "output_type": "execute_result"
    }
   ],
   "source": [
    "x = -2.2250738585072014e-308\n",
    "ColorBitstring(x)\n",
    "s=Float64Abin(x)\n",
    "println(s)\n",
    "bitstring(x)==s"
   ]
  },
  {
   "cell_type": "code",
   "execution_count": 132,
   "metadata": {},
   "outputs": [
    {
     "name": "stdout",
     "output_type": "stream",
     "text": [
      "\u001b[34m0\u001b[39m\u001b[32m10000000010\u001b[39m\u001b[31m0100111001100110011001100110011001100110011001100110\u001b[39m\n",
      "0100000000100100111001100110011001100110011001100110011001100110\n"
     ]
    },
    {
     "data": {
      "text/plain": [
       "true"
      ]
     },
     "execution_count": 132,
     "metadata": {},
     "output_type": "execute_result"
    }
   ],
   "source": [
    "x = 10.45\n",
    "ColorBitstring(x)\n",
    "s=Float64Abin(x)\n",
    "println(s)\n",
    "bitstring(x)==s"
   ]
  },
  {
   "cell_type": "code",
   "execution_count": 133,
   "metadata": {},
   "outputs": [
    {
     "name": "stdout",
     "output_type": "stream",
     "text": [
      "\u001b[34m1\u001b[39m\u001b[32m00000000000\u001b[39m\u001b[31m0000000000000000000000000000000000000000000000000000\u001b[39m\n",
      "1000000000000000000000000000000000000000000000000000000000000000\n"
     ]
    },
    {
     "data": {
      "text/plain": [
       "true"
      ]
     },
     "execution_count": 133,
     "metadata": {},
     "output_type": "execute_result"
    }
   ],
   "source": [
    "x = -0.0\n",
    "ColorBitstring(x)\n",
    "s=Float64Abin(x)\n",
    "println(s)\n",
    "bitstring(x)==s"
   ]
  },
  {
   "cell_type": "code",
   "execution_count": 134,
   "metadata": {},
   "outputs": [
    {
     "name": "stdout",
     "output_type": "stream",
     "text": [
      "\u001b[34m1\u001b[39m\u001b[32m00000000000\u001b[39m\u001b[31m0000000000000000000000000000000000000000000000000000\u001b[39m\n",
      "1000000000000000000000000000000000000000000000000000000000000000\n"
     ]
    },
    {
     "data": {
      "text/plain": [
       "true"
      ]
     },
     "execution_count": 134,
     "metadata": {},
     "output_type": "execute_result"
    }
   ],
   "source": [
    "ColorBitstring(x)\n",
    "s=Float64Abin(x)\n",
    "println(s)\n",
    "bitstring(x)==s"
   ]
  },
  {
   "cell_type": "code",
   "execution_count": 135,
   "metadata": {},
   "outputs": [
    {
     "name": "stdout",
     "output_type": "stream",
     "text": [
      "\u001b[34m1\u001b[39m\u001b[32m00000000000\u001b[39m\u001b[31m0000000000000000000000000000000000000000000000000001\u001b[39m\n",
      "1000000000000000000000000000000000000000000000000000000000000001\n"
     ]
    },
    {
     "data": {
      "text/plain": [
       "true"
      ]
     },
     "execution_count": 135,
     "metadata": {},
     "output_type": "execute_result"
    }
   ],
   "source": [
    "x = -5.0e-324\n",
    "ColorBitstring(x)\n",
    "s=Float64Abin(x)\n",
    "println(s)\n",
    "bitstring(x)==s"
   ]
  },
  {
   "cell_type": "code",
   "execution_count": 136,
   "metadata": {},
   "outputs": [
    {
     "name": "stdout",
     "output_type": "stream",
     "text": [
      "\u001b[34m0\u001b[39m\u001b[32m00000000000\u001b[39m\u001b[31m0000000001000000000000000000001000000000000000000001\u001b[39m\n",
      "0000000000000000000001000000000000000000001000000000000000000001\n"
     ]
    },
    {
     "data": {
      "text/plain": [
       "true"
      ]
     },
     "execution_count": 136,
     "metadata": {},
     "output_type": "execute_result"
    }
   ],
   "source": [
    "x = 2.1729247260797e-311\n",
    "ColorBitstring(x)\n",
    "s=Float64Abin(x)\n",
    "println(s)\n",
    "bitstring(x)==s"
   ]
  },
  {
   "cell_type": "code",
   "execution_count": 137,
   "metadata": {},
   "outputs": [
    {
     "name": "stdout",
     "output_type": "stream",
     "text": [
      "\u001b[34m0\u001b[39m\u001b[32m11111111111\u001b[39m\u001b[31m0000000000000000000000000000000000000000000000000000\u001b[39m\n",
      "0111111111110000000000000000000000000000000000000000000000000000\n"
     ]
    },
    {
     "data": {
      "text/plain": [
       "true"
      ]
     },
     "execution_count": 137,
     "metadata": {},
     "output_type": "execute_result"
    }
   ],
   "source": [
    "x = Inf\n",
    "ColorBitstring(x)\n",
    "s=Float64Abin(x)\n",
    "println(s)\n",
    "bitstring(x)==s"
   ]
  },
  {
   "cell_type": "code",
   "execution_count": 138,
   "metadata": {
    "scrolled": false
   },
   "outputs": [
    {
     "name": "stdout",
     "output_type": "stream",
     "text": [
      "\u001b[34m1\u001b[39m\u001b[32m11111111111\u001b[39m\u001b[31m1000000000000000000000000000000000000000000000000000\u001b[39m\n",
      "1111111111111000000000000000000000000000000000000000000000000000\n"
     ]
    },
    {
     "data": {
      "text/plain": [
       "true"
      ]
     },
     "execution_count": 138,
     "metadata": {},
     "output_type": "execute_result"
    }
   ],
   "source": [
    "x = -NaN\n",
    "ColorBitstring(x)\n",
    "s=Float64Abin(x)\n",
    "println(s)\n",
    "bitstring(x)==s"
   ]
  },
  {
   "cell_type": "markdown",
   "metadata": {},
   "source": [
    "Para más información, les adjunto el libro de Overton."
   ]
  },
  {
   "cell_type": "code",
   "execution_count": null,
   "metadata": {},
   "outputs": [],
   "source": []
  }
 ],
 "metadata": {
  "kernelspec": {
   "display_name": "Julia 1.5.2",
   "language": "julia",
   "name": "julia-1.5"
  },
  "language_info": {
   "file_extension": ".jl",
   "mimetype": "application/julia",
   "name": "julia",
   "version": "1.5.2"
  }
 },
 "nbformat": 4,
 "nbformat_minor": 4
}
