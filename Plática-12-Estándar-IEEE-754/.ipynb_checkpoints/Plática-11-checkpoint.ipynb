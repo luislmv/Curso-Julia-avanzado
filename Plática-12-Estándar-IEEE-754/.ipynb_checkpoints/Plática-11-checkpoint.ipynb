{
 "cells": [
  {
   "cell_type": "markdown",
   "metadata": {},
   "source": [
    "# Tópicos avanzados de programación con Julia"
   ]
  },
  {
   "cell_type": "markdown",
   "metadata": {},
   "source": [
    "## _Lenguajes y Errores_"
   ]
  },
  {
   "cell_type": "markdown",
   "metadata": {},
   "source": [
    " "
   ]
  },
  {
   "cell_type": "markdown",
   "metadata": {},
   "source": [
    "### Temario para cubrir el objetivo 2"
   ]
  },
  {
   "cell_type": "markdown",
   "metadata": {},
   "source": [
    "__Tratamiento de errores mediante la depuración, el testing y buenas prácticas de programación.__\n",
    "- Lenguajes formales, naturales y metalenguajes.\n",
    "  - Lenguajes.\n",
    "  - Lenguajes Naturales.\n",
    "  - Lenguajes formales.\n",
    "  - Metalenguajes.\n",
    "  - Traducción y codificación de un lenguaje formal a otro.\n",
    "  \n",
    "- Tipos de errores en programación.\n",
    "  - Errores de sintaxis.\n",
    "  - Errores en tiempo de ejecución.\n",
    "  - Errores semánticos.\n",
    "    - Errores en el planteamiento del modelo (¡La vacas esféricas,!).\n",
    "    - Errores numéricos derivados de la aproximación del método numérico.\n",
    "    - Errores numéricos de la aritmética finita."
   ]
  },
  {
   "cell_type": "markdown",
   "metadata": {},
   "source": [
    "#### Errores de sintaxis"
   ]
  },
  {
   "cell_type": "markdown",
   "metadata": {},
   "source": [
    "### Lenguajes formales, naturales y metalenguajes"
   ]
  },
  {
   "cell_type": "markdown",
   "metadata": {},
   "source": [
    "#### Lenguajes"
   ]
  },
  {
   "cell_type": "markdown",
   "metadata": {},
   "source": [
    "- Un __símbolo__ es un objeto indivisible.\n",
    "  - «_a_», «_A_» ..., «_z_», «_Z_», «_0_», ..., «_9_», «_,_», «_;_», «_._», «_:_», «𝄞»,..., etc.\n",
    "- Un __alfabeto__ $S$ es un conjunto de __símbolos__ $\\{s_i\\}_{i\\in I}$, que puede ser __finito__ o __infinito__.\n",
    "  - Para fines prácticos será __finito__:\n",
    "    -  $S = \\{s_1 , s_2 , \\dots , s_n\\}$\n",
    "- Una __cadena__ o __palabra__ $x$ es una sucesión __finita__ de __símbolos__, de un __alfabeto__ __finito__.\n",
    " -  La longitud de una cadena $x = x_1 x_2 \\dots x_k$ es el número de símbolos «$k$» que la constituyen. La denotaremos por $l(x)=k$.\n",
    "   - La cadena de longitud cero es la cadena vacía. Esta es una cadena especial y la denotaremos por $e$.\n",
    "- $S^*$ es el conjunto de todas las __cadenas__ sobre un __alfabeto__ $S$.\n",
    "  - $S^n = \\{x\\in S^* | l(x) = n\\}$ es el conjunto de todas las cadenas de longitud $n$.\n",
    "    - Si $|S|=k$ $\\implies$ $|S^n|= k^n$\n",
    "  - $S^*=    \\bigcup S^n$ $\\implies$ $S^*$ es numerable.\n",
    "  - Sea $\\circ\\colon S^*\\times S^*\\to S^*$, $x\\circ y=xy$. A la operación $\\circ$ se le llama __concatenación__, __yuxtaposición__ o producto de cadenas.\n",
    "    - $(S^*, \\circ, e)$ es un semigrupo (semigrupo libre).\n",
    "    - $S^*=\\langle S\\rangle$. El conjunto de todas las palabras $S^*$, es el conjunto finitamente generado por el subconjunto __alfabeto__ $S$ con la operación __concatenación__ $\\circ$.\n",
    "    \n",
    "- $L\\subseteq S^*$ es un __lenguaje__.\n",
    "\n",
    "__Ejemplo de lenguajes__\n",
    "1. El español. Donde $S$ es el alfabeto tradicional, unión el resto de símbolos usados, unión el espacio en blanco y el salto de linea.\n",
    "- En general cualquier idioma, norma, dialecto o jerga es un lenguaje según la definición anterior.\n",
    "- Los grupos libres $(S^*, \\circ, e)$ (cada palabra tiene un inverso).\n",
    "  - La edición de texto (caso particular de una máquina de Turing) puede modelarse como una sucesión de operaciones en el grupo libre generado por todos los caracteres que se pueden escribir. Donde borrar un símbolo es equivalente a concatenarlo con su inverso.\n",
    "- El conjunto «$\\{ 1011, 01, 0011\\}$» es un lenguaje de 3 palabras en $S=\\{0, 1\\}$.\n",
    "- El lenguaje matemático.\n",
    "- La musica (las partituras).\n",
    "- Las fórmulas químicas.\n",
    "- Los pseudocódigos.\n",
    "- UML (en particular los diagramas de actividad o de flujo).\n",
    "- $\\TeX$, $\\LaTeX$ y __HTML__\n",
    "- Los lenguajes de máquina y de programación.\n",
    "\n",
    "Debido a que un lenguaje puede tener una cardinalidad muy grande o incluso infinita, en ocasiones es necesario determinarlo mediante alguna regla de pertenencia (empleando el axioma de esquema de comprensión).\n",
    "- La __sintaxis__ de un lenguaje es el conjunto de reglas que conforman la propiedad de selección. De ese modo podemos saber si una palabra formada con elementos de $S^*$ pertenece o no a $L$.\n",
    "\n",
    "Dado que un lenguaje se crea para comunicar algo, es necesario saber cual es el significado de cada elemento.\n",
    "- La __semántica__ de un lenguaje es el estudio del significado de sus palabras."
   ]
  },
  {
   "cell_type": "markdown",
   "metadata": {},
   "source": [
    "#### Lenguajes Naturales"
   ]
  },
  {
   "cell_type": "markdown",
   "metadata": {},
   "source": [
    "- Son lenguajes que surgen de manera espontánea.\n",
    "- Los dos primeros ejemplos son lenguajes naturales.\n",
    "- La sintaxis está en constante cambio y en ocasiones es confusa.\n",
    "  - Las reglas de pertenencia son poco claras. Es decir, es difícil o imposible determinar todos los elementos de $L\\subseteq S^*$, aunque $S^*$ si esté bien determinado.\n",
    "  - Cuando una palabra que no pertenece al lenguaje, es aceptada por un número significativo de personas, entonces su uso se regulariza y pasa a pertenecer al lenguaje.\n",
    "- La semántica es ambigua. \n",
    "  - Una palabra puede tener distintos significados, dependiendo del contexto o de la región que la utiliza.\n",
    "  - Una palabra puede tener un significado distinto al significado literal (metáforas o lenguaje figurado).\n",
    "  - Dado a que suelen ser muy imprecisos, en ocasiones es necesario aumentar el tamaño de la palabra, para eliminar ambigüedades. Esto los hace bastante extensos para transmitir una idea."
   ]
  },
  {
   "cell_type": "markdown",
   "metadata": {},
   "source": [
    "#### Lenguajes formales"
   ]
  },
  {
   "cell_type": "markdown",
   "metadata": {},
   "source": [
    "- Son lenguajes construidos artificialmente.\n",
    "- Todos los ejemplos del tres en adelante, son lenguajes formales.\n",
    "- Su sintaxis es clara.\n",
    "  - Siempre es posible determinar si una palabra pertenece o no al lenguaje.\n",
    "- La semántica es determinista.\n",
    "  - El significado de las palabras es preciso (o esa es la idea).\n",
    "  - El significado es literal.\n",
    "  - Debido a que no hay ambigüedades (se trata de que no hayan), suelen ser muy densos o crípticos."
   ]
  },
  {
   "cell_type": "markdown",
   "metadata": {},
   "source": [
    "#### Metalenguajes"
   ]
  },
  {
   "cell_type": "markdown",
   "metadata": {},
   "source": [
    "El metalenguaje es un lenguaje que se usa para hablar de otro lenguaje (lenguaje objeto).\n",
    "Se puede ver como una extensión del lenguaje objeto.\n",
    "\n",
    "__Ejemplo:__\n",
    "1. Cadenas compuestas por varios idiomas:\n",
    "\n",
    "  - «Nos vemos mañana, bye»\n",
    "\n",
    "- Cuando usas un idioma para describir otro idioma.\n",
    "  - Se puede usar el mismo idioma para describirse a si mismo. En ese caso el lenguaje objeto coincide con el metalenguaje.\n",
    "  \n",
    "- Un «script» comentado es un metalenguaje.\n",
    "```julia\n",
    "println(\"Hola\") #Imprime la palabra «Hola».\n",
    "```\n",
    "- En las matemáticas, casi siempre se emplea un metalenguaje.\n",
    "Por ejemplo para definir sucesiones convergentes $\\{a_n\\}_{n\\in\\mathbb N}$ en un espacio métrico $(X, d)$:\n",
    "\n",
    "Si existe un $l\\in X$ tal que $\\forall_{\\epsilon>0}\\exists_{N\\in\\mathbb N}$, tal que si $N\\le n$, entonces $d(a_n,l)<\\epsilon$\n",
    "\n",
    "En el lenguaje formal matemático sería:\n",
    "\n",
    "$\\exists_{l\\in X}\\forall_{\\epsilon>0}\\exists_{N\\in\\mathbb N}[\\forall_{n\\ge N}\\implies d(a_n,l)<\\epsilon]$\n",
    "\n",
    "Incluso en ese caso, necesitas de algún otro lenguaje para presentar al espacio métrico, y escribir el nombre de la definición.\n",
    "\n",
    "5. La fórmula del agua es $H_2O$.\n",
    "- Todo este notebook es un metalenguaje que incorpora varios lenguajes objetos."
   ]
  },
  {
   "cell_type": "markdown",
   "metadata": {},
   "source": [
    "#### Traducción y codificación de un lenguaje formal a otro"
   ]
  },
  {
   "cell_type": "markdown",
   "metadata": {},
   "source": [
    "1. Dado dos lenguajes, $L_1$ y $L_2$. Una _traducción_ de $L_1$ a $L_2$ es una función de $f\\colon L_1\\to L_2$.\n",
    "  - Un script o «palabra» de Julia se traduce a una palabra en lenguaje binario.\n",
    "  - Una traducción no necesariamente es biyectiva.\n",
    "    - Un lenguaje puede no abarcar todas las instrucciones posibles en binario.\n",
    "    - Pueden existir dos palabras de $L_1$ que se traduzcan a una misma palabra en $L_2$.\n",
    "\n",
    "__Ejemplo__\n",
    "\n",
    "  `x=\"hola\"; println(x)` y `saludo=\"hola\"; println(saludo)` se traducen de la misma manera a binario.\n",
    "  \n",
    "2. Si $f$ es biyectiva, entonces se le llama función de codificación o simplemente _codificación_.\n",
    "  - A los lenguajes formales que tienen una función de codificación se les llama códigos.\n",
    "    - Si el alfabeto tiene $n$ símbolos entonces  es un código $n-ario$. Por eso al lenguaje que usan los dispositivos digitales se le llama código binario.\n",
    "    - Es posible convertir a un lenguaje formal en un código si trabajamos en el cociente de ese lenguaje con alguna relación de equivalencia.\n",
    "      - En el ejemplo anterior «$x\\sim y$, si son nombres de variables»."
   ]
  },
  {
   "cell_type": "markdown",
   "metadata": {},
   "source": [
    "### Tipos de errores en programación"
   ]
  },
  {
   "cell_type": "markdown",
   "metadata": {},
   "source": [
    "#### Errores de sintaxis"
   ]
  },
  {
   "cell_type": "markdown",
   "metadata": {},
   "source": [
    "1. Al utilizar un símbolo que no pertenezca al alfabeto del lenguaje."
   ]
  },
  {
   "cell_type": "markdown",
   "metadata": {},
   "source": [
    "La palabra «El perr🌝 duerme» es un error de sintaxis en el español, ya que «🌝», no pertenece al alfabeto.\n",
    "\n",
    "Para lenguajes como `Julia`, esto no es un problema, ya que aceptan cualquier caracter unicode. En este caso $|S|\\le2^{32}$, ya que los caracteres unicode ocupan entre uno y cuatro Bytes. Por tanto sólo pueden haber como máximo $2^{32}$ caracteres unicode.\n",
    "\n",
    "Esta palabra pertenece a Julia:"
   ]
  },
  {
   "cell_type": "code",
   "execution_count": null,
   "metadata": {},
   "outputs": [],
   "source": [
    "☕ = \"una tasa de café\"\n",
    "🌝 = \"feliz\"\n",
    "string(\"tomar \", ☕, \" me pone \", 🌝)"
   ]
  },
  {
   "cell_type": "markdown",
   "metadata": {},
   "source": [
    "En lenguajes como `C` (al menos en el estándar _ANSI_ ), no podría emplear los símbolos ☕ o 🌝, para definir variables, ya que estos no están en su alfabeto."
   ]
  },
  {
   "cell_type": "markdown",
   "metadata": {},
   "source": [
    "2. Al utilizar una palabra que no existe en el lenguaje, aunque cada símbolo esté en el alfabeto.\n",
    "\n",
    "  - La palabra «eL perro duerme» no pertenece al español.\n",
    "\n",
    "  - ¿Las palabras «español», y «espannol» pertenece al español?\n",
    "\n",
    "  - Las siguientes palabras no pertenecen a Julia:"
   ]
  },
  {
   "cell_type": "code",
   "execution_count": null,
   "metadata": {},
   "outputs": [],
   "source": [
    "☕ = \"una tasa de café\n",
    "🌝 = \"feliz\"\n",
    "string(\"tomar \", ☕, \" me pone \", 🌝)"
   ]
  },
  {
   "cell_type": "code",
   "execution_count": null,
   "metadata": {},
   "outputs": [],
   "source": [
    "x=1\n",
    "if x<=1\n",
    "    println(\"Es menor a uno\") #Esto no es python 🌝."
   ]
  },
  {
   "cell_type": "markdown",
   "metadata": {},
   "source": [
    "Los errores de sintaxis son reportados por el compilador o el intérprete. En la mayoría de los casos el error está presente en alguna linea anterior a la que indica el intérprete. Muchas veces esto ocurre en la linea inmediata anterior.\n",
    "\n",
    "Los errores de sintaxis se descubren cuando el intérprete o el compilador, traduce el «script» a binario. \n",
    "\n",
    "Los errores de sintaxis disminuyen con la práctica del programador.\n",
    "\n",
    "En la mayoría de los casos se debe a:\n",
    "- La falta de un cierre de «end», «\"» «)», «]», «}»N"
   ]
  },
  {
   "cell_type": "markdown",
   "metadata": {},
   "source": [
    "- Uso de palabras reservadas par nombre de variables:"
   ]
  },
  {
   "cell_type": "code",
   "execution_count": null,
   "metadata": {},
   "outputs": [],
   "source": [
    "if=1"
   ]
  },
  {
   "cell_type": "markdown",
   "metadata": {},
   "source": [
    "- Uso del nombre de una función para nombre de variable:"
   ]
  },
  {
   "cell_type": "code",
   "execution_count": null,
   "metadata": {},
   "outputs": [],
   "source": [
    "cos=2 #Si ya se usó el coseno esto dará error, en caso contrario no."
   ]
  },
  {
   "cell_type": "code",
   "execution_count": null,
   "metadata": {},
   "outputs": [],
   "source": [
    "cos(1) #Si se usó «cos» para nombrar una variable esto dará error."
   ]
  },
  {
   "cell_type": "markdown",
   "metadata": {},
   "source": [
    "- Uso de «=» en lugar de «==» en una comprobación."
   ]
  },
  {
   "cell_type": "code",
   "execution_count": null,
   "metadata": {},
   "outputs": [],
   "source": [
    "x=1\n",
    "if x=1 #Esto es una asignación, no una comprobación.\n",
    "    println(\"Es igual a uno\")\n",
    "end"
   ]
  },
  {
   "cell_type": "markdown",
   "metadata": {},
   "source": [
    "#### Errores en tiempo de ejecución"
   ]
  },
  {
   "cell_type": "markdown",
   "metadata": {},
   "source": [
    "Los errores en tiempo de ejecución se presentan si algo falla mientras se ejecuta el programa. La mayoría de los mensajes de error en tiempo de ejecución indican dónde ocurrió el error y qué funciones se estaban ejecutando."
   ]
  },
  {
   "cell_type": "markdown",
   "metadata": {},
   "source": [
    "Alguno de los errores en tiempo de ejecución más comunes:\n",
    "- Si no se cumplen las condiciones para la entrada de un programa o función."
   ]
  },
  {
   "cell_type": "code",
   "execution_count": null,
   "metadata": {},
   "outputs": [],
   "source": [
    "function CombLineal(x,y)#y no puede ser cero.\n",
    "    a=x÷y\n",
    "    b=x%y\n",
    "    s=string(x,\"=\",a,\"⋅\",y,\"+\",b)\n",
    "    println(s)\n",
    "end"
   ]
  },
  {
   "cell_type": "code",
   "execution_count": null,
   "metadata": {},
   "outputs": [],
   "source": [
    "CombLineal(5,2)#Perfecto."
   ]
  },
  {
   "cell_type": "code",
   "execution_count": null,
   "metadata": {},
   "outputs": [],
   "source": [
    "CombLineal(5,0) #El operador «÷» no admite que el segundo operando sea 0."
   ]
  },
  {
   "cell_type": "code",
   "execution_count": null,
   "metadata": {},
   "outputs": [],
   "source": [
    "0.0/0.0 #En Julia no es un error, pero sin duda da problemas."
   ]
  },
  {
   "cell_type": "code",
   "execution_count": null,
   "metadata": {},
   "outputs": [],
   "source": [
    "1.0/0.0 #Igual que el anterior."
   ]
  },
  {
   "cell_type": "markdown",
   "metadata": {},
   "source": [
    "En Julia, los errores anteriores serían considerados errores semánticos, más que errores en tiempo de ejecución.\n",
    "En otros lenguajes como Python, se consideran errores de ejecución, ya que levantan excepciones."
   ]
  },
  {
   "cell_type": "markdown",
   "metadata": {},
   "source": [
    "- Llamada a una variable que no se ha declarado."
   ]
  },
  {
   "cell_type": "code",
   "execution_count": null,
   "metadata": {},
   "outputs": [],
   "source": [
    "existencia = 10\n",
    "function Venta(vendido::Bool, exist::Int64)\n",
    "   if vendido\n",
    "    local_exist = exist - 1 #Lugar incorrecto par definir variable local.\n",
    "    println(\"Se vendió un producto\")\n",
    "    end\n",
    "    return local_exist\n",
    "end"
   ]
  },
  {
   "cell_type": "code",
   "execution_count": null,
   "metadata": {},
   "outputs": [],
   "source": [
    "existencia = Venta(true, existencia)"
   ]
  },
  {
   "cell_type": "code",
   "execution_count": null,
   "metadata": {},
   "outputs": [],
   "source": [
    "#En este caso local_exist, no está definida.\n",
    "existencia = Venta(false, existencia)"
   ]
  },
  {
   "cell_type": "markdown",
   "metadata": {},
   "source": [
    "- Bucle infinito."
   ]
  },
  {
   "cell_type": "code",
   "execution_count": null,
   "metadata": {},
   "outputs": [],
   "source": [
    "function Contador(a)\n",
    "    i=a\n",
    "    s=string(\"El último es \", i)\n",
    "    while i != 10\n",
    "        i+=1\n",
    "        s=string(\"El último es \", i)\n",
    "    end\n",
    "    println(s)\n",
    "end"
   ]
  },
  {
   "cell_type": "code",
   "execution_count": null,
   "metadata": {},
   "outputs": [],
   "source": [
    "Contador(2)\n",
    "Contador(10)"
   ]
  },
  {
   "cell_type": "code",
   "execution_count": null,
   "metadata": {},
   "outputs": [],
   "source": [
    "Contador(12) #bucle infinito."
   ]
  },
  {
   "cell_type": "markdown",
   "metadata": {},
   "source": [
    "- Recursión infinita."
   ]
  },
  {
   "cell_type": "code",
   "execution_count": null,
   "metadata": {},
   "outputs": [],
   "source": [
    "function factorial(n)\n",
    "    fact=n\n",
    "    if fact == 0 || fact == 1\n",
    "        return 1\n",
    "    end\n",
    "    fact*=factorial(fact-1)\n",
    "end"
   ]
  },
  {
   "cell_type": "code",
   "execution_count": null,
   "metadata": {},
   "outputs": [],
   "source": [
    "factorial(5)"
   ]
  },
  {
   "cell_type": "code",
   "execution_count": null,
   "metadata": {},
   "outputs": [],
   "source": [
    "factorial(0)"
   ]
  },
  {
   "cell_type": "code",
   "execution_count": null,
   "metadata": {},
   "outputs": [],
   "source": [
    "factorial(5.0) #Funciona."
   ]
  },
  {
   "cell_type": "code",
   "execution_count": null,
   "metadata": {},
   "outputs": [],
   "source": [
    "factorial(5.1) #La recursión es infinita."
   ]
  },
  {
   "cell_type": "code",
   "execution_count": null,
   "metadata": {},
   "outputs": [],
   "source": [
    "factorial(-5) #Igualmente."
   ]
  },
  {
   "cell_type": "markdown",
   "metadata": {},
   "source": [
    "- Acceso fuera de los límites de indexación."
   ]
  },
  {
   "cell_type": "code",
   "execution_count": null,
   "metadata": {},
   "outputs": [],
   "source": [
    "arreglo=[1,2,3]"
   ]
  },
  {
   "cell_type": "code",
   "execution_count": null,
   "metadata": {},
   "outputs": [],
   "source": [
    "arreglo[1]"
   ]
  },
  {
   "cell_type": "code",
   "execution_count": null,
   "metadata": {},
   "outputs": [],
   "source": [
    "arreglo[0] #fuera de rango."
   ]
  },
  {
   "cell_type": "code",
   "execution_count": null,
   "metadata": {},
   "outputs": [],
   "source": [
    "arreglo[4] #Igualmente."
   ]
  },
  {
   "cell_type": "markdown",
   "metadata": {},
   "source": [
    "#### Errores Errores semánticos"
   ]
  },
  {
   "cell_type": "markdown",
   "metadata": {},
   "source": [
    "Los errores semánticos ocurren cuando la palabra pertenece al lenguaje, pero tiene un significado distinto al que nosotros creemos que tiene. Dicho de otra forma. Un error semántico es aquel que ocurre sin levantar una excepción, pero provoca un resultado distinto al que nosotros esperamos.\n",
    "\n",
    "Los errores semánticos son los más complejos de identificar y corregir, ya que el intérprete no te indica que existe. La forma de identificarlos es realizar pruebas e identificar si el resultado es el deseado o no.\n",
    "\n",
    "Los errores semánticos pueden ser de naturaleza muy variada. En las secciones siguientes se mostrarán algunos casos particulares de interés para nosotros."
   ]
  },
  {
   "cell_type": "markdown",
   "metadata": {},
   "source": [
    "##### Errores en el planteamiento del modelo (¡La vacas esféricas,!)"
   ]
  },
  {
   "cell_type": "markdown",
   "metadata": {},
   "source": [
    "_Discretización_\n",
    "\n",
    "Al discretizar un sistema dinámico continuo (convertirlo en un sistema de ecuaciones en diferencias), el nuevo sistema dinámico (_discreto_ ) puede comportarse de manera distinta.\n",
    "\n",
    "- La logística.\n",
    "\n",
    "- El siguiente sistema, fue famoso por acuñar el nombre de caos computacional.\n",
    "\n",
    "$$\n",
    "\\left\\{\n",
    "\\begin{array}{ll}\n",
    "    \\frac{dx}{dt} = x-y-x^3\\\\\n",
    "    \\frac{dy}{dt} = x-x^2y\n",
    "\\end{array} \n",
    "\\right.\n",
    "$$\n",
    "\n",
    "¿Que ocurre al integrarlo mediante Euler?"
   ]
  },
  {
   "cell_type": "code",
   "execution_count": null,
   "metadata": {},
   "outputs": [],
   "source": [
    "from pylab import *\n",
    "from numpy import*\n",
    "\n",
    "#Método de Euler para sistemas de dos ecuaciones.\n",
    "#«f» función a integrar en el intervalo temporal [«a», «b»].\n",
    "#«N» número de intervalos en se dividirá [«a», «b»].\n",
    "#«x_0» y «v_0» son las condiciones iniciales.\n",
    "def Euler(f,a,b,N,x_0,v_0):\n",
    "    h = (b-a)/N\n",
    "    lista_t=arange(a,b,h) #Lista con tiempo discreto.\n",
    "    lista_x = []\n",
    "    lista_v = []\n",
    "    r = array([x_0,v_0],float)#Condiciones iniciales.\n",
    "    for t in lista_t:\n",
    "        lista_x.append(r[0]) #Órbita de x.\n",
    "        lista_v.append(r[1]) #Órbita de v.\n",
    "        r+=h*f(r,t+h)\n",
    "    return [lista_t, lista_x, lista_v]\n",
    "    \n",
    "def f(r,t):\n",
    "    x=r[0]\n",
    "    y=r[1]\n",
    "    fx=x-y-x**3\n",
    "    fy=x-x**2*y\n",
    "    return array([fx,fy],float)\n",
    "\n",
    "def graficar(solu):\n",
    "    fig1,(ax1, ax2) = plt.subplots(nrows=1,ncols=2, figsize=(10, 4))\n",
    "    ax1.plot(solu[0], solu[1], label='x')\n",
    "    ax1.plot(solu[0], solu[2], label='y')\n",
    "    ax1.set_xlabel('t')\n",
    "    ax1.set_ylabel('Órbitas de $x$ y $y$')\n",
    "    ax1.set_title('Discretizado por Euler')\n",
    "    ax1.legend()\n",
    "    ax2.plot(solu[1], solu[2])\n",
    "    ax2.set_xlabel('x')\n",
    "    ax2.set_ylabel('y')\n",
    "    ax2.set_title('Espacio de fase')\n",
    "    show()"
   ]
  },
  {
   "cell_type": "markdown",
   "metadata": {},
   "source": [
    "Con $t\\in[0,100]$, $N=3000$ y $(x_0, y_0)=(0.1,0.0)$:"
   ]
  },
  {
   "cell_type": "code",
   "execution_count": null,
   "metadata": {},
   "outputs": [],
   "source": [
    "solu=Euler(f,0,100,3000,0.1,0.0)\n",
    "graficar(solu)"
   ]
  },
  {
   "cell_type": "markdown",
   "metadata": {},
   "source": [
    "Con $t\\in[0,100]$, $N=300$ y $(x_0, y_0)=(0.1,0.0)$:"
   ]
  },
  {
   "cell_type": "code",
   "execution_count": null,
   "metadata": {},
   "outputs": [],
   "source": [
    "solu=Euler(f,0,100,300,0.1,0.0)\n",
    "graficar(solu)"
   ]
  },
  {
   "cell_type": "markdown",
   "metadata": {},
   "source": [
    "Con $t\\in[0,100]$, $N=180$ y $(x_0, y_0)=(0.1,0.0)$:"
   ]
  },
  {
   "cell_type": "code",
   "execution_count": null,
   "metadata": {},
   "outputs": [],
   "source": [
    "solu=Euler(f,0,100,180,0.1,0.0)\n",
    "graficar(solu)"
   ]
  },
  {
   "cell_type": "markdown",
   "metadata": {},
   "source": [
    "##### Errores numéricos"
   ]
  },
  {
   "cell_type": "markdown",
   "metadata": {},
   "source": [
    "Sea $x_{t}$ el valor teórico o verdadero de alguna número y $x_{a}$ el valor aproximado. \n",
    "\n",
    "El error absoluto está definido por:\n",
    "\n",
    "$$err(x_{a})=|x_{t}-x_{a}|$$\n",
    "\n",
    "El error relativo es: \n",
    "$$err_r(x_{a})=\\frac{|x_{t}-x_{a}|}{x_{t}}$$\n",
    "\n",
    "El error porcentual es:\n",
    "$$err_p(x_{a})=err_r(x_{a})(100\\%)$$\n",
    "\n",
    "En la mayoría de los casos los que realmente importan son los errores relativos. En eso se basa el punto flotante (trata de mantener el mismo error relativo).\n",
    "\n",
    "Al ejecutar funciones u operaciones con valores aproximados, sus errores se propagan. Si se ejecutan un número considerable de operaciones con valores aproximados, el resultado puede distar bastante del esperado.\n",
    "\n",
    "Si $z=f(x,y)$ es diferenciable y las variables $x$, $y$ son independientes $\\implies$ $err(z_a)=\\sqrt{f_x^2dx^2+f_y^2dy^2}$, donde $dx=err(x_a)$, $dy=err(y_a)$ y las derivadas se evalúan en $(x_a, y_a)$.\n",
    "\n",
    "Si las variables son dependientes, entonces hay que considerar la covarianza. [Aquí](https://es.wikipedia.org/wiki/Propagaci%C3%B3n_de_errores) se muestra como quedaría la expresión."
   ]
  },
  {
   "cell_type": "markdown",
   "metadata": {},
   "source": [
    "##### Errores numéricos derivados de la aproximación del método numérico"
   ]
  },
  {
   "cell_type": "markdown",
   "metadata": {},
   "source": [
    "En la mayoría de los casos los métodos numéricos son aproximaciones polinomiales (Taylor) de una función (derivada, integral, ...).\n",
    "\n",
    "- En cada paso del método de Newton-Raphson, el cero de $f$ se aproxima mediante los dos primeros términos del desarrollo en serie de Taylor de $f$. El error que se comente en cada paso es $O(h^2)$, donde $h=err(x_a)$ y $x_a$ es la aproximación del cero de $f$ en ese paso. Si el punto inicial está en la cuenca de atracción del sistema dinámico discreto, entonces $h\\to 0$ a medida que recorremos la órbita $\\implies$ $f(x_a)\\to 0$ también.\n",
    "\n",
    "- Lo mismo ocurre con los métodos de integración de funciones y de ecuaciones diferenciales.\n",
    "  - En cada iteración del método de Euler, el error es $O(h^2)$ y el error global (el error propagado al final) es $O(h)$.\n",
    "  - El error local (en cada paso) del método RK4 es $O(h^5)$ y el error global es $O(h^4)$.\n",
    "  - Verlet tiene un error local de $O(h^3)$ y un error global de $O(h^2)$. Sin embargo tiene una propiedad interesante. Conserva la energía del sistema dinámico continuo original. Es por eso que durante mucho tiempo se usó para modelar la mecánica de cuerpos celestes (para que conservaran la órbita)."
   ]
  },
  {
   "cell_type": "markdown",
   "metadata": {},
   "source": [
    "<img src=\"img/c.png\" width=\"60%\"/>\n",
    "<img src=\"img/c-2.png\" width=\"80%\"/>"
   ]
  },
  {
   "cell_type": "markdown",
   "metadata": {},
   "source": [
    "##### Errores numéricos de la aritmética finita"
   ]
  },
  {
   "cell_type": "markdown",
   "metadata": {},
   "source": [
    "Errores numéricos de la aritmética finita\n",
    "\n",
    "Las equipos de cómputo no trabajan con reales, sino en un campo discreto que se puede representar como $\\mathbb R/\\sim$. \n",
    "\n",
    "Donde $x\\sim y$ si tienen la misma representación binaria (excepto el cero que tiene dos representaciones binarias).\n",
    "\n",
    "La representación binaria tiene una cantidad finita de guarismos para almacenar la información. \n",
    "\n",
    "Por ejemplo, `Float64` cuenta con 64 guarismos que pueden tomar los valores 0 o 1.\n",
    "\n",
    "Es por eso que $\\mathbb R/\\sim$ no sólo es discreto, sino finito.\n",
    "\n",
    "El error semántico consiste en suponer que los cálculos se realizan en $\\mathbb R$, y no en el cociente finito $\\mathbb R/\\sim$.\n",
    "\n",
    "Por ejemplo $0.0\\sim 1.0\\cdot 10^{-324}$, ya que:"
   ]
  },
  {
   "cell_type": "code",
   "execution_count": null,
   "metadata": {},
   "outputs": [],
   "source": [
    "println(bitstring(0.0))\n",
    "println(bitstring(1.0e-324))"
   ]
  },
  {
   "cell_type": "markdown",
   "metadata": {},
   "source": [
    "¿Cómo se representan los números`Float64`?"
   ]
  },
  {
   "cell_type": "markdown",
   "metadata": {},
   "source": [
    "<img src=\"img/f.svg\" width=\"100%\"/>\n",
    "\n",
    "Hay una explicación muy buena en [este](https://www.wextensible.com/temas/javascript-number/precision.html) sitio."
   ]
  },
  {
   "cell_type": "code",
   "execution_count": null,
   "metadata": {},
   "outputs": [],
   "source": [
    "eps(2.2250738585072014e-308)\n",
    "println(\"±\",2.2250738585072014e-308)\n",
    "println(\"eps: \", eps(2.2250738585072014e-308))\n",
    "println(bitstring(2.2250738585072014e-308))\n",
    "println(bitstring(-2.2250738585072014e-308))"
   ]
  },
  {
   "cell_type": "code",
   "execution_count": null,
   "metadata": {},
   "outputs": [],
   "source": [
    "println(\"±\",4.450147717014403e-308)\n",
    "println(\"eps: \", eps(4.450147717014403e-308))\n",
    "println(bitstring(4.450147717014403e-308))\n",
    "println(bitstring(-4.450147717014403e-308))"
   ]
  },
  {
   "cell_type": "code",
   "execution_count": null,
   "metadata": {},
   "outputs": [],
   "source": [
    "println(\"±\",1.1125369292536007e-308)\n",
    "println(\"eps: \", eps(1.1125369292536007e-308))\n",
    "println(bitstring(1.1125369292536007e-308))\n",
    "println(bitstring(1.1125369292536007e-308))"
   ]
  },
  {
   "cell_type": "code",
   "execution_count": null,
   "metadata": {},
   "outputs": [],
   "source": [
    "println(\"±\",5.0e-324)\n",
    "println(\"eps: \", eps(5.0e-324))\n",
    "println(bitstring(5.0e-324))\n",
    "println(bitstring(-5.0e-324))"
   ]
  },
  {
   "cell_type": "code",
   "execution_count": null,
   "metadata": {},
   "outputs": [],
   "source": [
    "println(\"±\",0.0)\n",
    "println(\"eps: \", eps(0.0))\n",
    "println(bitstring(0.0))\n",
    "println(bitstring(-0.0))"
   ]
  },
  {
   "cell_type": "code",
   "execution_count": null,
   "metadata": {},
   "outputs": [],
   "source": [
    "println(\"±\",8.98846567431158e+307)\n",
    "println(\"eps: \", eps(8.98846567431158e+307))\n",
    "println(bitstring(8.98846567431158e+307))\n",
    "println(bitstring(-8.98846567431158e+307))"
   ]
  },
  {
   "cell_type": "code",
   "execution_count": null,
   "metadata": {
    "scrolled": true
   },
   "outputs": [],
   "source": [
    "println(\"Este es el máximo antes de Inf\\n\")\n",
    "println(\"±\",1.7976931348623157e+308)\n",
    "println(\"eps: \", eps(1.7976931348623157e+308))\n",
    "println(bitstring(1.7976931348623157e+308))\n",
    "println(bitstring(1.7976931348623157e+308))\n",
    "\n",
    "println(\"\\nA partir de aquí es Inf\\n\")\n",
    "println(\"±\",8.98846567431158e+307*2)\n",
    "println(\"eps: \", eps(8.98846567431158e+307*2))\n",
    "println(bitstring(8.98846567431158e+307*2))\n",
    "println(bitstring(-8.98846567431158e+307*2))\n",
    "\n",
    "println(\"±\",Inf)\n",
    "println(\"eps: \",  eps(Inf))\n",
    "println(bitstring(Inf))\n",
    "println(bitstring(-Inf))"
   ]
  },
  {
   "cell_type": "markdown",
   "metadata": {},
   "source": [
    "Algunos ejemplos donde falla la aritmética es al restar dos números muy cercanos, no importa la magnitud.\n",
    "\n",
    "También al dividir uno grande por uno pequeño y viseversa."
   ]
  },
  {
   "cell_type": "markdown",
   "metadata": {},
   "source": [
    "En ocasiones no es posible mejorar más el resultado aunque el modelo teórico sea más preciso.\n",
    "\n",
    "<img src=\"img/comp.png\" width=\"60%\"/>\n",
    "\n",
    "<img src=\"img/comp-2.png\" width=\"60%\"/>\n",
    "\n",
    "Los errores aritméticos se empiezan a acumular al aumentar el número de pasos.\n",
    "\n",
    "RK4 es el que mejor resiste, pero aún así termina empeorando si disminuimos demasiado h."
   ]
  },
  {
   "cell_type": "code",
   "execution_count": null,
   "metadata": {},
   "outputs": [],
   "source": []
  }
 ],
 "metadata": {
  "kernelspec": {
   "display_name": "Julia 1.5.2",
   "language": "julia",
   "name": "julia-1.5"
  },
  "language_info": {
   "file_extension": ".jl",
   "mimetype": "application/julia",
   "name": "julia",
   "version": "1.5.2"
  }
 },
 "nbformat": 4,
 "nbformat_minor": 4
}
