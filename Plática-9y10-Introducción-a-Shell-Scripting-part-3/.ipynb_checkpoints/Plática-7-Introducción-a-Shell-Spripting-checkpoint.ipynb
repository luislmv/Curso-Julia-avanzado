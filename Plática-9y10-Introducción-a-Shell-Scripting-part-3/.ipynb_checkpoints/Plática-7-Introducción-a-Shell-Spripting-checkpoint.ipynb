{
 "cells": [
  {
   "cell_type": "markdown",
   "metadata": {},
   "source": [
    "# Tópicos avanzados de programación con Julia"
   ]
  },
  {
   "cell_type": "markdown",
   "metadata": {},
   "source": [
    "## _Introducción a Shell Spripting_"
   ]
  },
  {
   "cell_type": "markdown",
   "metadata": {},
   "source": [
    "__Recomendaciones generales y buenas prácticas al crear el entorno de desarrollo.__\n",
    "- Introducción a Shell Spripting.\n",
    "  - Conceptos preliminares.\n",
    "    - Algoritmo, script , programa y proceso.\n",
    "    - Procesos.\n",
    "      - Identificar procesos.\n",
    "        - Comando ps con la sintaxis de BSD.\n",
    "        - Comando ps con la sintaxis estándar de GNU/Linux.\n",
    "        - Otros comandos útiles.\n",
    "        - Obtener información de los procesos creados a partir de un programa.\n",
    "      - Descriptores de archivos y estatus de salida de un proceso.\n",
    "      - Modificar prioridad de un proceso.\n",
    "    - Conectando comandos.\n",
    "      - Estado de salida de los comandos conectados por tuberías.\n",
    "    - Redireccionamiento de los descriptores de archivos.\n",
    "      - Redirigir la salida estándar.\n",
    "      - Redirigir la salida de errores estándar.\n",
    "      - Redirigir ambas salidas.\n",
    "      - Redirigir la entrada estándar\n",
    "    - Ejecución condicional de comandos."
   ]
  },
  {
   "cell_type": "markdown",
   "metadata": {},
   "source": [
    "### Conceptos preliminares"
   ]
  },
  {
   "cell_type": "markdown",
   "metadata": {},
   "source": [
    "#### Algoritmo, script , programa y proceso"
   ]
  },
  {
   "cell_type": "markdown",
   "metadata": {},
   "source": [
    "- __Algoritmo__.\n",
    "  - Es un secuencia ordenada de pasos bien determinados.\n",
    "  - Diagrama de flujo o de actividades (__UML__).\n",
    "    - Es un esquema gráfico de un algoritmo.\n",
    "  - Pseudocódigo.\n",
    "    - Es un una manera de estructurar con palabras un algoritmo.\n",
    "    - Es «independiente» de un lenguaje de programación.\n",
    "- __Script o guión__.\n",
    "  - Es la implementación de un algoritmo en un lenguaje de programación.\n",
    "  - El script puede ser interpretado o usado para generar un binario.\n",
    "  - El script está pensado para ser entendido por los humanos y no por una computadora.\n",
    "- __Programa__.\n",
    "  - Un script que está escrito en algún lenguaje de programación que use un intérprete.\n",
    "    - El intérprete se encarga de traducir el guión a lenguaje de máquina, en tiempo de ejecución.\n",
    "  - Un binario obtenido al compilar un script.\n",
    "    - El compilador se encargó de traducir el guión a lenguaje de máquina, antes de la ejecución.\n",
    "- Los programas se almacenan a la espera de ser ejecutados.\n",
    "- __Proceso o instancia de un programa__.\n",
    "  - Un proceso es una «copia» de un programa en la memoria __RAM__, a la cual se le asignan recursos.\n",
    "    - Se le asigna memoria para almacenar sus variables.\n",
    "    - Hace uso del microprocesador para ejecutar instrucciones.\n",
    "  - Al ejecutar un programa estamos creando un proceso.\n",
    "  - Un programa puede generar uno o más procesos.\n",
    "    - Si el programa es ejecutado varias veces ( _Abrir dos veces Julia_ ). \n",
    "      - Se crea un proceso para cada una de las ejecuciones.\n",
    "    - Un programa puede generar un proceso, que a su vez, es padre de otros procesos. \n",
    "      - Se está usando programación en paralelo o _multiproceso_."
   ]
  },
  {
   "cell_type": "markdown",
   "metadata": {},
   "source": [
    "#### Proceso"
   ]
  },
  {
   "cell_type": "markdown",
   "metadata": {},
   "source": [
    "Los procesos se modelan como subdirectorios de `/proc`."
   ]
  },
  {
   "cell_type": "code",
   "execution_count": null,
   "metadata": {},
   "outputs": [],
   "source": [
    "ls /proc"
   ]
  },
  {
   "cell_type": "markdown",
   "metadata": {},
   "source": [
    "Para poder trabajar con procesos es necesario conocer su PID."
   ]
  },
  {
   "cell_type": "markdown",
   "metadata": {},
   "source": [
    "##### Identificar procesos"
   ]
  },
  {
   "cell_type": "markdown",
   "metadata": {},
   "source": [
    "Para listar la tabla de proceso se utiliza el comando `ps`."
   ]
  },
  {
   "cell_type": "code",
   "execution_count": null,
   "metadata": {},
   "outputs": [],
   "source": [
    "ps #Muestra los procesos lanzados por el usuario actual y en la terminal actual."
   ]
  },
  {
   "cell_type": "markdown",
   "metadata": {},
   "source": [
    "###### Comando ps con la sintaxis de BSD"
   ]
  },
  {
   "cell_type": "code",
   "execution_count": null,
   "metadata": {},
   "outputs": [],
   "source": [
    "#Muestra con más detalle los procesos asociados a una terminal \n",
    "#y que son lanzados por el usuario actual.\n",
    "ps u "
   ]
  },
  {
   "cell_type": "code",
   "execution_count": null,
   "metadata": {
    "scrolled": true
   },
   "outputs": [],
   "source": [
    "ps a #Muestra procesos vinculados a una terminal (tty o pts)."
   ]
  },
  {
   "cell_type": "code",
   "execution_count": null,
   "metadata": {},
   "outputs": [],
   "source": [
    "ps au #Igual que el anterior, pero con más detalle."
   ]
  },
  {
   "cell_type": "code",
   "execution_count": null,
   "metadata": {},
   "outputs": [],
   "source": [
    "ps x #Muestra los procesos lanzados por el usuario actual."
   ]
  },
  {
   "cell_type": "code",
   "execution_count": null,
   "metadata": {},
   "outputs": [],
   "source": [
    "ps ux #Igual que el anterior, pero con más detalle."
   ]
  },
  {
   "cell_type": "code",
   "execution_count": null,
   "metadata": {},
   "outputs": [],
   "source": [
    "#Muestra todos los procesos.\n",
    "#Independientemente del usuario y de la terminal (a la cual estén, o no, asociados).\n",
    "ps ax "
   ]
  },
  {
   "cell_type": "code",
   "execution_count": null,
   "metadata": {},
   "outputs": [],
   "source": [
    "ps aux #Igual que el anterior, pero con más detalle."
   ]
  },
  {
   "cell_type": "code",
   "execution_count": null,
   "metadata": {},
   "outputs": [],
   "source": [
    "#Muestra la relación entre procesos (padres e hijos)\n",
    "#Si se usa sólo f, muestra todos los procesos asociados a una terminal del usuario actual.\n",
    "ps f "
   ]
  },
  {
   "cell_type": "code",
   "execution_count": null,
   "metadata": {},
   "outputs": [],
   "source": [
    "ps faxu #Igual que axu, pero con el detalle de la relación entre procesos."
   ]
  },
  {
   "cell_type": "markdown",
   "metadata": {},
   "source": [
    "###### Comando ps con la sintaxis estándar de GNU/Linux"
   ]
  },
  {
   "cell_type": "code",
   "execution_count": null,
   "metadata": {},
   "outputs": [],
   "source": [
    "ps -e #Es equivalente a ps ax."
   ]
  },
  {
   "cell_type": "code",
   "execution_count": null,
   "metadata": {},
   "outputs": [],
   "source": [
    "ps -ef #Muestra más información que ps -e."
   ]
  },
  {
   "cell_type": "markdown",
   "metadata": {},
   "source": [
    "Para más información ejecutar `man ps`."
   ]
  },
  {
   "cell_type": "markdown",
   "metadata": {},
   "source": [
    "###### Otros comandos útiles"
   ]
  },
  {
   "cell_type": "markdown",
   "metadata": {},
   "source": [
    "Otro comando interesante, que nos muestra la jerarquía (y nada más) de los procesos es `pstree`."
   ]
  },
  {
   "cell_type": "code",
   "execution_count": null,
   "metadata": {},
   "outputs": [],
   "source": [
    "pstree"
   ]
  },
  {
   "cell_type": "markdown",
   "metadata": {},
   "source": [
    "Otra forma de ver e interactuar con los procesos es mediante `top` y `htop`. Estos comandos fueron presentados en la segunda plática."
   ]
  },
  {
   "cell_type": "markdown",
   "metadata": {},
   "source": [
    "###### Obtener información de los procesos creados a partir de un programa"
   ]
  },
  {
   "cell_type": "markdown",
   "metadata": {},
   "source": [
    "Supongamos que hemos lanzado varios procesos con el comando `julia`:"
   ]
  },
  {
   "cell_type": "code",
   "execution_count": null,
   "metadata": {
    "scrolled": true
   },
   "outputs": [],
   "source": [
    "ps -e | grep julia "
   ]
  },
  {
   "cell_type": "code",
   "execution_count": null,
   "metadata": {},
   "outputs": [],
   "source": [
    "ps -ef | grep julia "
   ]
  },
  {
   "cell_type": "code",
   "execution_count": null,
   "metadata": {},
   "outputs": [],
   "source": [
    "ps ax | grep julia"
   ]
  },
  {
   "cell_type": "markdown",
   "metadata": {},
   "source": [
    "Usamos `grep -v grep` para quitar al proceso lanzado por `grep julia`."
   ]
  },
  {
   "cell_type": "code",
   "execution_count": null,
   "metadata": {},
   "outputs": [],
   "source": [
    "ps -ef | grep julia | grep -v grep"
   ]
  },
  {
   "cell_type": "code",
   "execution_count": null,
   "metadata": {},
   "outputs": [],
   "source": [
    "ps ax | grep julia | grep -v grep"
   ]
  },
  {
   "cell_type": "code",
   "execution_count": null,
   "metadata": {},
   "outputs": [],
   "source": [
    "pidof julia #Si sólo queremos el PID de los procesos relacionados con julia."
   ]
  },
  {
   "cell_type": "markdown",
   "metadata": {},
   "source": [
    "##### Descriptores de archivos y estatus de salida de un proceso"
   ]
  },
  {
   "cell_type": "markdown",
   "metadata": {},
   "source": [
    "En sistemas __NIX__ existe la norma __POSIX__ (**P**ortable **O**perating **S**ystem **I**nterface UNI**X** ).\n",
    "\n",
    "__POSIX__ establece ciertos estándares, para que haya compatibilidad entre diferentes sistemas tipo UNIX.\n",
    "\n",
    "Uno de ellos es como se comunican los procesos."
   ]
  },
  {
   "cell_type": "markdown",
   "metadata": {},
   "source": [
    "<img src=\"img/P.svg\" width=\"50%\"/>"
   ]
  },
  {
   "cell_type": "markdown",
   "metadata": {},
   "source": [
    "Antes de manipular los procesos mediante su __PID__, es recomendable ver más de cerca como funcionan.\n",
    "\n",
    "- Los proceso necesitan de canales para comunicarse con otros procesos.\n",
    "- Estos canales se conocen como descriptores de archivos (__file descriptor__ o __fd__).\n",
    "- El __fd__ para introducir datos en un procesos, se conoce como entrada estándar.\n",
    "  - Entrada estándar (__STDIN__ o descriptor de archivo __0__).\n",
    "- El __fd__ para obtener datos de un procesos, se conoce como salida estándar.\n",
    "  - Salida estándar (__STDOUT__ o descriptor de archivo __1__).\n",
    "- El __fd__ para obtener datos sobre un error ocurrido en un procesos, se conoce como salida de error estándar.\n",
    "  - Salida de error estándar (__STDERR__ o descriptor de archivo __2__).\n",
    "- Cada proceso tiene sus propios descriptores de archivo.\n",
    "- Al terminar un proceso, este devuelve un número natural.\n",
    "  - Si el valor devuelto es `0`, entonces el proceso ha terminado sin errores.\n",
    "  - Si el valor es mayor a `0`, entonces ha ocurrido un error.\n",
    "    - El valor devuelto, está relacionado con el tipo de error ocurrido.\n",
    "    - En [esta](https://tldp.org/LDP/abs/html/exitcodes.html) tabla se puede ver la relación entre los tipos de errores y el valor numérico devuelto al finalizar un proceso.\n",
    "  \n",
    "Podemos ver los descriptores de archivo de un proceso concreto. Basta con mostrar los archivos del directorio `/proc/PID/fd`.\n",
    "Donde `PID` es el  identificador del proceso en cuestión.\n",
    "\n",
    "Pueden ver un poco más de información en [este enlace](https://denovatoanovato.net/entrada-salida-y-error-estandar/).\n",
    "\n",
    "_Ejemplos en directo:_\n",
    "- Mostrar directorio `fd` de varios procesos.\n",
    "- Mostrar salida estándar y salida de error estándar de algunos comandos.\n",
    "- Mostrar estado de salida de los comandos anteriores."
   ]
  },
  {
   "cell_type": "markdown",
   "metadata": {},
   "source": [
    "##### Enviar señales a un proceso"
   ]
  },
  {
   "cell_type": "markdown",
   "metadata": {},
   "source": [
    "Existen varios comandos para esto. Uno de los más usados es el comando `kill`.\n",
    "\n",
    "La sintaxis es `kill [señal] [PID]`\n",
    "\n",
    "Para ver la lista de señales que podemos usar:"
   ]
  },
  {
   "cell_type": "code",
   "execution_count": null,
   "metadata": {},
   "outputs": [],
   "source": [
    "#Se puede usar -n (con n uno de los números) o -SEÑAl.\n",
    "#Donde (SAÑAL), es la secuencia de letras después de SIG.\n",
    "kill -l"
   ]
  },
  {
   "cell_type": "markdown",
   "metadata": {},
   "source": [
    "Por defecto `kill` envía la señal `-15` o `-TERM`.\n",
    "En otras palabras, si existe un proceso con el pid `17234`, entonces los siguientes comandos son equivalentes:\n",
    "\n",
    "- `kill 17234`\n",
    "- `kill -15 17234`\n",
    "- `kill -TERM 17234`\n",
    "\n",
    "Si se desea matar todos los procesos instanciados desde un programa. Se puede usar el comando `killall`.\n",
    "\n",
    "La sintaxis es igual que la de `kill`, sólo que se utiliza el nombre del programa que generó el proceso y no el __PID__.\n",
    "\n",
    "Ejemplo:\n",
    "\n",
    "```bash\n",
    "killall -9 julia #Esto mata bruscamente todos los procesos relacionados con Julia.\n",
    "```\n",
    "\n",
    "_Ejemplos en directo:_\n",
    "- Mostrar el uso de `kill`, con las formas equivalentes.\n",
    "- Mostrar estado de salida de los comandos al usar `kill`.\n",
    "- Mostrar estado de salida al presionar `Control+C`.\n",
    "- Mostrar el uso de `killall`.\n",
    "- Mostrar el uso del comando `xkill` en entornos gráficos."
   ]
  },
  {
   "cell_type": "markdown",
   "metadata": {},
   "source": [
    "##### Modificar prioridad de un proceso"
   ]
  },
  {
   "cell_type": "markdown",
   "metadata": {},
   "source": [
    "Los valores que podemos modificar van de -20 a 19. El valor -20 la que tiene mayor prioridad.\n",
    "\n",
    "Existen 100 valores por debajo de -20, que los maneja internamente el sistema.\n",
    "\n",
    "Por defecto, el valor con el que se lanzan los procesos de 0.\n",
    "\n",
    "Para lanzar un proceso con un valor distinto de 0, se utiliza el comando `nice`.\n",
    "\n",
    "La sintaxis es:\n",
    "\n",
    "`nice [-n VALOR] comando`\n",
    "\n",
    "`VALOR` va de -20 a 19. Por defecto es 10.\n",
    "\n",
    "Ejemplo:\n",
    "\n",
    "```bash\n",
    "#Para aumentar la prioridad más allá del valor por defecto \n",
    "#es necesario tener privilegios de administrador.\n",
    "sudo nice -n -20 julia #Inicia Julia con la mayor prioridad.\n",
    "\n",
    "#Para disminuir la prioridad no es necesario ser administrador.\n",
    "nice julia #Inicia Julia con un prioridad de 10, esta es menor 0 (El valor sin usar nice).\n",
    "```\n",
    "Para modificar la prioridad de un proceso que ya se ha lanzado, se utiliza el comando `renice`.\n",
    "\n",
    "La sintaxis es:\n",
    "\n",
    "`renice [-n VALOR] [OPCIONES] PID`\n",
    "\n",
    "Ejemplo:\n",
    "Supongamos que hay un proceso con el PID 104747.\n",
    "\n",
    "```bash\n",
    "#Aumenta la prioridad del proceso 104747 al valor más alto.\n",
    "sudo renice -n -20 104747\n",
    "\n",
    "#Aumenta la prioridad del proceso 104747 y de todos sus hilos al valor más alto.\n",
    "sudo renice -n -20 -g 104747 #-g viene de group.\n",
    "```\n",
    "_Ejemplos en directo:_\n",
    "- Mostrar el uso de `nice`, `renice` y `htop`, para modificar la prioridad por defecto de `julia`."
   ]
  },
  {
   "cell_type": "markdown",
   "metadata": {},
   "source": [
    "#### Conectando comandos"
   ]
  },
  {
   "cell_type": "markdown",
   "metadata": {},
   "source": [
    "Cuando conectamos comandos usando tuberías `|`, estamos enlazando la entrada estándar del proceso asociado al comando a la derecha con la salida estándar del proceso asociado al comando a la izquierda.\n",
    "\n",
    "Esta es una de las formas más comunes de redireccionamiento de los descriptores de archivos de los procesos instanciados al ejecutar comandos."
   ]
  },
  {
   "cell_type": "markdown",
   "metadata": {},
   "source": [
    "##### Estado de salida de los comandos conectados por tuberías"
   ]
  },
  {
   "cell_type": "code",
   "execution_count": null,
   "metadata": {},
   "outputs": [],
   "source": [
    "#Sólo se ve el estado del último comando.\n",
    "cat /tmp/arch1 | wc\n",
    "echo \"El estado de salida es: $?\""
   ]
  },
  {
   "cell_type": "code",
   "execution_count": null,
   "metadata": {},
   "outputs": [],
   "source": [
    "#El arreglo PIPESTATUS, almacena los estados de salida de cada comando.\n",
    "cat /tmp/arch1 | wc\n",
    "echo \"Los estados de salida de cada comando son: ${PIPESTATUS[*]}\""
   ]
  },
  {
   "cell_type": "code",
   "execution_count": null,
   "metadata": {},
   "outputs": [],
   "source": [
    "#Se puede elegir cualquier elemento del arreglo.\n",
    "cat /tmp/arch1 | wc\n",
    "echo \"El estado de salida del primer comando es: ${PIPESTATUS[0]}\""
   ]
  },
  {
   "cell_type": "markdown",
   "metadata": {},
   "source": [
    "#### Redireccionamiento de los descriptores de archivos"
   ]
  },
  {
   "cell_type": "markdown",
   "metadata": {},
   "source": [
    "##### Redirigir la salida estándar"
   ]
  },
  {
   "cell_type": "code",
   "execution_count": null,
   "metadata": {},
   "outputs": [],
   "source": [
    "echo hola > /tmp/arch1"
   ]
  },
  {
   "cell_type": "code",
   "execution_count": null,
   "metadata": {},
   "outputs": [],
   "source": [
    "cat /tmp/arch1"
   ]
  },
  {
   "cell_type": "markdown",
   "metadata": {},
   "source": [
    "Esto es equivalente a:"
   ]
  },
  {
   "cell_type": "code",
   "execution_count": null,
   "metadata": {},
   "outputs": [],
   "source": [
    "echo hola 1> /tmp/arch1"
   ]
  },
  {
   "cell_type": "code",
   "execution_count": null,
   "metadata": {},
   "outputs": [],
   "source": [
    "cat /tmp/arch1"
   ]
  },
  {
   "cell_type": "markdown",
   "metadata": {},
   "source": [
    "Redirigir la salida estándar al final del archivo:"
   ]
  },
  {
   "cell_type": "code",
   "execution_count": null,
   "metadata": {},
   "outputs": [],
   "source": [
    "echo hola >> /tmp/arch1"
   ]
  },
  {
   "cell_type": "code",
   "execution_count": null,
   "metadata": {
    "scrolled": true
   },
   "outputs": [],
   "source": [
    "cat /tmp/arch1"
   ]
  },
  {
   "cell_type": "markdown",
   "metadata": {},
   "source": [
    "Esto es equivalente a:"
   ]
  },
  {
   "cell_type": "code",
   "execution_count": null,
   "metadata": {},
   "outputs": [],
   "source": [
    "echo hola 1>> /tmp/arch1"
   ]
  },
  {
   "cell_type": "code",
   "execution_count": null,
   "metadata": {},
   "outputs": [],
   "source": [
    "cat /tmp/arch1"
   ]
  },
  {
   "cell_type": "code",
   "execution_count": null,
   "metadata": {},
   "outputs": [],
   "source": [
    "echo hola > /dev/null #Enviamos el contenido a la nada."
   ]
  },
  {
   "cell_type": "code",
   "execution_count": null,
   "metadata": {},
   "outputs": [],
   "source": [
    "cat /dev/null #Nada sale de la nada."
   ]
  },
  {
   "cell_type": "markdown",
   "metadata": {},
   "source": [
    "##### Redirigir la salida de errores  estándar"
   ]
  },
  {
   "cell_type": "code",
   "execution_count": null,
   "metadata": {},
   "outputs": [],
   "source": [
    "ls /homes 2> /tmp/arch.log"
   ]
  },
  {
   "cell_type": "code",
   "execution_count": null,
   "metadata": {},
   "outputs": [],
   "source": [
    "cat /tmp/arch.log"
   ]
  },
  {
   "cell_type": "code",
   "execution_count": null,
   "metadata": {},
   "outputs": [],
   "source": [
    "ls /homes /home"
   ]
  },
  {
   "cell_type": "code",
   "execution_count": null,
   "metadata": {},
   "outputs": [],
   "source": [
    "ls /homes /home > /tmp/salida 2> /tmp/salida-err"
   ]
  },
  {
   "cell_type": "code",
   "execution_count": null,
   "metadata": {},
   "outputs": [],
   "source": [
    "cat /tmp/salida"
   ]
  },
  {
   "cell_type": "code",
   "execution_count": null,
   "metadata": {},
   "outputs": [],
   "source": [
    "cat /tmp/salida-err"
   ]
  },
  {
   "cell_type": "markdown",
   "metadata": {},
   "source": [
    "##### Redirigir ambas salidas"
   ]
  },
  {
   "cell_type": "code",
   "execution_count": null,
   "metadata": {},
   "outputs": [],
   "source": [
    "ls /homes /home &> /tmp/salida-y-error"
   ]
  },
  {
   "cell_type": "code",
   "execution_count": null,
   "metadata": {},
   "outputs": [],
   "source": [
    "cat /tmp/salida-y-error"
   ]
  },
  {
   "cell_type": "code",
   "execution_count": null,
   "metadata": {},
   "outputs": [],
   "source": [
    "ls /homes /home > /tmp/salida-y-error-2 2>&1 #De manera equivalente."
   ]
  },
  {
   "cell_type": "code",
   "execution_count": null,
   "metadata": {},
   "outputs": [],
   "source": [
    "cat /tmp/salida-y-error-2"
   ]
  },
  {
   "cell_type": "code",
   "execution_count": null,
   "metadata": {},
   "outputs": [],
   "source": [
    "#El cambio no se ve.\n",
    "ls /homes /home 3>&1 1>&2 2>&3 #Invertir las salidas."
   ]
  },
  {
   "cell_type": "code",
   "execution_count": null,
   "metadata": {},
   "outputs": [],
   "source": [
    "#Redirigimos a archivos, para que se vea el cambio.\n",
    "ls /homes /home >/tmp/salida2 2>/tmp/salida-err2 3>&1 1>&2 2>&3"
   ]
  },
  {
   "cell_type": "code",
   "execution_count": null,
   "metadata": {},
   "outputs": [],
   "source": [
    "cat /tmp/salida2"
   ]
  },
  {
   "cell_type": "code",
   "execution_count": null,
   "metadata": {},
   "outputs": [],
   "source": [
    "cat /tmp/salida-err2"
   ]
  },
  {
   "cell_type": "markdown",
   "metadata": {},
   "source": [
    "##### Redirigir la entrada estándar"
   ]
  },
  {
   "cell_type": "markdown",
   "metadata": {},
   "source": [
    "El comando read lee una cadena de texto introducida por teclado y la almacena en una varuable.\n",
    "\n",
    "Ejemplo:\n",
    "```bash\n",
    "read var\n",
    "echo $var #Muestra la entrada por teclado.\n",
    "```\n",
    "\n",
    "podemos redirigir la entrada de `read` para que lea desde un archivo:\n",
    "\n",
    "```bash\n",
    "read var < /tmp/arch1\n",
    "echo $var #Muestra la entrada desde /tmp/arch1.\n",
    "```"
   ]
  },
  {
   "cell_type": "markdown",
   "metadata": {},
   "source": [
    "En el caso de la entrada `<<` funciona distinto a `>>` en el caso de la salida.\n",
    "```bash\n",
    "#Ejecuta el comando, usando como entrada el texto hasta llegar a etiqueta\n",
    "comando << etiqueta \n",
    "```"
   ]
  },
  {
   "cell_type": "code",
   "execution_count": null,
   "metadata": {},
   "outputs": [],
   "source": [
    "wc << fin\n",
    "dime que paso ayer\n",
    "la la la\n",
    "fin"
   ]
  },
  {
   "cell_type": "code",
   "execution_count": null,
   "metadata": {},
   "outputs": [],
   "source": [
    "cat << fin\n",
    "dime que paso ayer\n",
    "la la la\n",
    "fin"
   ]
  },
  {
   "cell_type": "code",
   "execution_count": null,
   "metadata": {},
   "outputs": [],
   "source": [
    "cat << fin #Esto ejecuta el comando wpd\n",
    "dime que paso ayer\n",
    "la la la $(pwd)\n",
    "fin"
   ]
  },
  {
   "cell_type": "code",
   "execution_count": null,
   "metadata": {},
   "outputs": [],
   "source": [
    "cat << \"fin\" #No lo ejecuta.\n",
    "dime que paso ayer\n",
    "la la la $(pwd)\n",
    "fin"
   ]
  },
  {
   "cell_type": "code",
   "execution_count": null,
   "metadata": {},
   "outputs": [],
   "source": [
    "julia << fin\n",
    "1+1\n",
    "sqrt(2)\n",
    "fin"
   ]
  },
  {
   "cell_type": "code",
   "execution_count": null,
   "metadata": {},
   "outputs": [],
   "source": [
    "julia << fin > /tmp/arch2\n",
    "1+1\n",
    "sqrt(2)\n",
    "fin"
   ]
  },
  {
   "cell_type": "code",
   "execution_count": null,
   "metadata": {},
   "outputs": [],
   "source": [
    "cat /tmp/arch2"
   ]
  },
  {
   "cell_type": "markdown",
   "metadata": {},
   "source": [
    "Usar un mismo archivo para entrada y salida"
   ]
  },
  {
   "cell_type": "code",
   "execution_count": null,
   "metadata": {},
   "outputs": [],
   "source": [
    "cat /tmp/salida"
   ]
  },
  {
   "cell_type": "code",
   "execution_count": null,
   "metadata": {},
   "outputs": [],
   "source": [
    "wc < /tmp/salida >> /tmp/salida"
   ]
  },
  {
   "cell_type": "code",
   "execution_count": null,
   "metadata": {},
   "outputs": [],
   "source": [
    "cat /tmp/salida"
   ]
  },
  {
   "cell_type": "code",
   "execution_count": null,
   "metadata": {},
   "outputs": [],
   "source": [
    "#Si no se pone comando, todo el contenido se va a la nada.\n",
    "#Esto sirve para simular comentarios multilineas.\n",
    "<< comentario\n",
    "sudo  apt update #Esto haría que jupyter se trabe.\n",
    "read var #al igual que esto.\n",
    "comentario\n",
    "\n",
    "echo esto si se ejecuta"
   ]
  },
  {
   "cell_type": "markdown",
   "metadata": {},
   "source": [
    "#### Ejecución condicional de comandos"
   ]
  },
  {
   "cell_type": "code",
   "execution_count": null,
   "metadata": {},
   "outputs": [],
   "source": [
    "#Siempre se ejecuta.\n",
    "ls /homes\n",
    "pwd"
   ]
  },
  {
   "cell_type": "code",
   "execution_count": null,
   "metadata": {},
   "outputs": [],
   "source": [
    "#Es lo mismo pero en una sola linea.\n",
    "ls /homes; pwd"
   ]
  },
  {
   "cell_type": "code",
   "execution_count": null,
   "metadata": {},
   "outputs": [],
   "source": [
    "#Si el primero retorna falso (mayor a 0), el segundo no se ejecuta.\n",
    "#El resultado es falso si uno de los dos es falso.\n",
    "ls /homes && pwd\n",
    "echo $?"
   ]
  },
  {
   "cell_type": "code",
   "execution_count": null,
   "metadata": {},
   "outputs": [],
   "source": [
    "#Ambos se ejecutan, pero el valor devuelto es falso (mayor a 0) sólo si ambos dan error.\n",
    "ls /homes || pwd\n",
    "echo $?"
   ]
  },
  {
   "cell_type": "code",
   "execution_count": null,
   "metadata": {},
   "outputs": [],
   "source": [
    "pwd || ls /homes \n",
    "echo $?"
   ]
  },
  {
   "cell_type": "code",
   "execution_count": null,
   "metadata": {},
   "outputs": [],
   "source": [
    "#En caso de que ambos fallen, el valor devuelto es el retorno del último comando.\n",
    "ls /homes || pwd3\n",
    "echo $?"
   ]
  },
  {
   "cell_type": "code",
   "execution_count": null,
   "metadata": {
    "scrolled": true
   },
   "outputs": [],
   "source": [
    "pwd3 || ls /homes\n",
    "echo $?"
   ]
  },
  {
   "cell_type": "code",
   "execution_count": null,
   "metadata": {},
   "outputs": [],
   "source": []
  }
 ],
 "metadata": {
  "kernelspec": {
   "display_name": "Bash",
   "language": "bash",
   "name": "bash"
  },
  "language_info": {
   "codemirror_mode": "shell",
   "file_extension": ".sh",
   "mimetype": "text/x-sh",
   "name": "bash"
  }
 },
 "nbformat": 4,
 "nbformat_minor": 4
}
