{
 "cells": [
  {
   "cell_type": "markdown",
   "metadata": {},
   "source": [
    "# Tópicos avanzados de programación con Julia"
   ]
  },
  {
   "cell_type": "markdown",
   "metadata": {},
   "source": [
    "## _Introducción a Atom_"
   ]
  },
  {
   "cell_type": "markdown",
   "metadata": {},
   "source": [
    "__Recomendaciones generales y buenas prácticas al crear el entorno de desarrollo.__\n",
    "- Introducción a Atom.\n",
    "  - ¿Qué es Atom?\n",
    "  - ¿Por qué Atom?\n",
    "    - Extensibilidad.\n",
    "    - Flexibilidad.\n",
    "    - IDE oficial de Julia.\n",
    "  - Preferencias.\n",
    "    - Administrar paquetes en Atom.\n",
    "      - Instalación de paquetes y temas para Atom.\n",
    "      - Configuración y actualización de paquetes.\n",
    "      - Paquetes recomendados.\n",
    "  - Tajos útiles para la edición de texto con Atom.\n",
    "    - Posicionamiento del cursor.\n",
    "    - Selección de texto.\n",
    "    - Tópicos importantes para autoestudio.\n",
    "  - Introducción a Juno.\n",
    "    - Evaluación de bloques.\n",
    "    - Evaluación de celdas.\n",
    "    - Evaluación del script."
   ]
  },
  {
   "cell_type": "markdown",
   "metadata": {},
   "source": [
    "### ¿Qué es Atom?"
   ]
  },
  {
   "cell_type": "markdown",
   "metadata": {},
   "source": [
    "<img src=\"img/A.png\" width=\"30%\"/>\n",
    "\n",
    "Editor de textos hackeable para el siglo XXI."
   ]
  },
  {
   "cell_type": "markdown",
   "metadata": {},
   "source": [
    "<img src=\"img/E.png\" width=\"30%\"/>"
   ]
  },
  {
   "cell_type": "markdown",
   "metadata": {},
   "source": [
    "### ¿Por qué Atom?"
   ]
  },
  {
   "cell_type": "markdown",
   "metadata": {},
   "source": [
    "#### Extensibilidad"
   ]
  },
  {
   "cell_type": "markdown",
   "metadata": {},
   "source": [
    "<tr>\n",
    "    <td> <img src=\"img/VSC.png\" width=\"200px\"/> </td>\n",
    "    <td> <img src=\"img/B.svg\" width=\"200px\"/> </td>\n",
    "    <td> <img src=\"img/ST.svg\" width=\"200px\"/> </td>\n",
    "</tr>"
   ]
  },
  {
   "cell_type": "markdown",
   "metadata": {},
   "source": [
    "#### Flexibilidad"
   ]
  },
  {
   "cell_type": "markdown",
   "metadata": {},
   "source": [
    "<img src=\"img/E.svg\" width=\"30%\"/>"
   ]
  },
  {
   "cell_type": "markdown",
   "metadata": {},
   "source": [
    "#### IDE oficial de Julia"
   ]
  },
  {
   "cell_type": "markdown",
   "metadata": {},
   "source": [
    "- Atom es el editor oficial de Julia.\n",
    "- El grupo de desarrollo de Julia creo a Juno.\n",
    "- Juno convierte a Atom en un IDE completo para Julia."
   ]
  },
  {
   "cell_type": "markdown",
   "metadata": {},
   "source": [
    "### Paleta de comandos"
   ]
  },
  {
   "cell_type": "markdown",
   "metadata": {},
   "source": [
    "Desde esta paleta, podemos ejecutar comandos para hacer prácticamente todo en Atom.\n",
    "\n",
    "`Control+shift+P` Abrir la paleta de comandos."
   ]
  },
  {
   "cell_type": "markdown",
   "metadata": {},
   "source": [
    "### Panel de proyecto."
   ]
  },
  {
   "cell_type": "markdown",
   "metadata": {},
   "source": [
    "Desde este panel se manipulan todos los archivo de los proyecto en los que trabajamos.\n",
    "\n",
    "`Control+T` Abre una paleta para buscar archivos dentro del proyecto.\n",
    "\n",
    "`Control+B` Abre una paleta para buscar archivos abiertos dentro en el directorio del proyecto."
   ]
  },
  {
   "cell_type": "markdown",
   "metadata": {},
   "source": [
    "### Preferencias"
   ]
  },
  {
   "cell_type": "markdown",
   "metadata": {},
   "source": [
    "Desde este panel podemos modificar, añadir o eliminar características de Atom.\n",
    "\n",
    "_Primera forma_\n",
    "\n",
    "Abrir la paleta de comandos:\n",
    "\n",
    "`Control+shift+P`\n",
    "\n",
    "Abre settings:\n",
    "\n",
    "`Setting View Core`\n",
    "\n",
    "_Segunda forma_\n",
    "\n",
    "`Control+,`\n",
    "\n",
    "_Tercera forma_\n",
    "\n",
    "Desde el menú __Edit__ > __Preferencias__."
   ]
  },
  {
   "cell_type": "markdown",
   "metadata": {},
   "source": [
    "#### Administrar paquetes en Atom."
   ]
  },
  {
   "cell_type": "markdown",
   "metadata": {},
   "source": [
    "- Todos los paneles que hemos usado son paquetes de __Atom__.\n",
    "- __Atom__ por defecto tiene instalado más de 90 paquetes.\n",
    "- Podemos cambiar, añadir o eliminar características de __Atom__ por medio de paquetes.\n",
    "\n",
    "Todo esto se administra desde el panel de __Preferencias__:\n",
    "\n",
    "`Control+,`"
   ]
  },
  {
   "cell_type": "markdown",
   "metadata": {},
   "source": [
    "##### Instalación de paquetes y temas para Atom"
   ]
  },
  {
   "cell_type": "markdown",
   "metadata": {},
   "source": [
    "Todos los paquetes están disponibles desde [aquí](https://atom.io/packages)\n",
    "\n",
    "Los temas se instalan de igual forma que el resto de paquetes. Sólo hay que presionar el botón __Themes__ que está a la derecha de la linea de entra o __input__.\n",
    "\n",
    "Una vez que se ha instalado un tema, este se puede seleccionar en la pestaña __Themes__ del panel de __Preferencias__.\n",
    "\n",
    "Para más información sobre administrar paquetes desde la linea de comandos:"
   ]
  },
  {
   "cell_type": "code",
   "execution_count": null,
   "metadata": {},
   "outputs": [],
   "source": [
    "apm --help #Para acceder a la ayuda de apm."
   ]
  },
  {
   "cell_type": "code",
   "execution_count": null,
   "metadata": {},
   "outputs": [],
   "source": [
    "# La ayuda nos sugiere que usemos el comando apm help para acceder a la ayuda \n",
    "# de cada parámetro de apm.\n",
    "apm help search #Para acceder a la ayuda del parámetro search de apm."
   ]
  },
  {
   "cell_type": "markdown",
   "metadata": {},
   "source": [
    "###### Configuración y actualización de paquetes"
   ]
  },
  {
   "cell_type": "markdown",
   "metadata": {},
   "source": [
    "- Podemos acceder a los paquetes instalados desde la pestaña __Packages__ del panel de __Preferencias__.\n",
    "- Muchos de los paquete listados presentan una opción para ser configurados.\n",
    "- Desde aquí, se pueden desinstalar o deshabilitar temporalmente todos los paquetes\n",
    "- También se mostrará si hay actualizaciones disponibles.\n",
    "- En la pestaña __Updates__, se muestran todos los paquetes que pueden ser actualizados."
   ]
  },
  {
   "cell_type": "markdown",
   "metadata": {},
   "source": [
    "###### Paquetes recomendados"
   ]
  },
  {
   "cell_type": "markdown",
   "metadata": {},
   "source": [
    "Paquete [file-icons](https://atom.io/packages/file-icons):\n",
    "\n",
    "Añade iconos para archivos y directorios.\n",
    "\n",
    "Paquete [highlight-selected](https://atom.io/packages/highlight-selected):\n",
    "\n",
    "Resalta todas las palabras iguales a la seleccionada.\n",
    "\n",
    "Paquete [minimap](https://atom.io/packages/minimap):\n",
    "\n",
    "Muestra un pequeño mapa del código. Es útil para archivos con muchas líneas.\n",
    "\n",
    "Paquete [minimap-autohider](https://atom.io/packages/minimap-autohider):\n",
    "\n",
    "Oculta el minimapa hasta que lo necesitemos.\n",
    "\n",
    "Paquete [script-runner](https://atom.io/packages/script-runner):\n",
    "\n",
    "Ejecuta todo el script con `Alt+X` y muestra el resultado en un panel. Es util para trabajar con Bash u otro intérprete que no tenga su propio IDE.\n",
    "\n",
    "Paquete [termination](https://atom.io/packages/termination):\n",
    "\n",
    "Añade un panel con una terminal. En un scrtip de __Bash__, se puede ejecutar la linea actual o el código seleccionado con `Alt+R`.\n",
    "\n",
    "Paquete [uber-juno](https://atom.io/packages/uber-juno):\n",
    "\n",
    "Este paquete debe instalar todo lo necesario, para transformar a __Atom__ en un __IDE__ completo para __Julia__.\n",
    "\n",
    "Este paquete debe instalar:\n",
    "\n",
    "- [language-weave](https://atom.io/packages/language-weave)\n",
    "- [language-julia](https://atom.io/packages/language-julia)\n",
    "- [ink](https://atom.io/packages/ink)\n",
    "- [julia-client](https://atom.io/packages/julia-client)\n",
    "\n",
    "Si ocurre algún error, se pueden instalar directamente."
   ]
  },
  {
   "cell_type": "markdown",
   "metadata": {},
   "source": [
    "## Tajos útiles para la edición de texto con Atom"
   ]
  },
  {
   "cell_type": "markdown",
   "metadata": {},
   "source": [
    "### Posicionamiento del cursor"
   ]
  },
  {
   "cell_type": "markdown",
   "metadata": {},
   "source": [
    "`Alt+`&#8592; Mueve el cursor al inicio de la palabra.\n",
    "\n",
    "`Alt+`&#8594; Mueve el cursor al final de la palabra.\n",
    "\n",
    "`Inicio/Home` Mueve el cursor al inicio de la linea actual.\n",
    "\n",
    "`Fin/End` Mueve el cursor al final de la linea actual.\n",
    "\n",
    "`Control+Inicio/Home` Mueve el cursor al inicio del archivo.\n",
    "\n",
    "`Control+Fin/End` Mueve el cursor al final del archivo.\n",
    "\n",
    "`Ctrl+G` Abre un input que nos permite escribir la linea y la columna a la que queremos ir:\n",
    "\n",
    "`10:5` Nos lleva a la linea 10 y la columna 5.\n",
    "\n",
    "`Ctrl+G` Abre un input en el cual podemos movernos por las funciones definidas.\n",
    "\n",
    "`Ctrl+Shift+F2` Crea un marcador en la linea actual.\n",
    "\n",
    "`F2` Para moverse por los marcadores de arriba hacia abajo.\n",
    "\n",
    "`Shift+F2` Para moverse por los marcadores de abajo hacia arriba.\n",
    "\n",
    "`Ctrl+F2` Muestra una lista con todos los marcadores.\n",
    "\n",
    "En mi caso `Ctrl+F2` coincide con la selección de uno de mis escritorios virtuales. Por esa razón, yo lo cambié a `Ctrl-Alt-Shift-f2`. La forma de hacerlo, está en la [documentación](https://flight-manual.atom.io/behind-atom/sections/keymaps-in-depth/).\n",
    "\n",
    "Más información en la [documentación](https://flight-manual.atom.io/using-atom/sections/moving-in-atom/)."
   ]
  },
  {
   "cell_type": "markdown",
   "metadata": {},
   "source": [
    "### Selección de texto"
   ]
  },
  {
   "cell_type": "markdown",
   "metadata": {},
   "source": [
    "La selección de texto funciona de una manera similar al posicionamiento del cursor. La diferencia es que se añade la tecla `Shift/Mayús`. Los detalles en la [documentación](https://flight-manual.atom.io/using-atom/sections/atom-selections/)."
   ]
  },
  {
   "cell_type": "markdown",
   "metadata": {},
   "source": [
    "### Tópicos importantes para autoestudio"
   ]
  },
  {
   "cell_type": "markdown",
   "metadata": {},
   "source": [
    "Es muy recomendable leer la documentación. Para los que están limitados de tiempo, he seleccionado una pequeña lista de algunas secciones muy importantes. Las dos primeras son casi obligatorias.\n",
    "\n",
    "- [Editing and Deleting Text](https://flight-manual.atom.io/using-atom/sections/editing-and-deleting-text/)\n",
    "- [Find and Replace](https://flight-manual.atom.io/using-atom/sections/find-and-replace/)\n",
    "- [Folding](https://flight-manual.atom.io/using-atom/sections/folding/)\n",
    "- [Panes](https://flight-manual.atom.io/using-atom/sections/panes/)\n",
    "- [Grammar](https://flight-manual.atom.io/using-atom/sections/grammar/)"
   ]
  },
  {
   "cell_type": "markdown",
   "metadata": {},
   "source": [
    "### Introducción a Juno"
   ]
  },
  {
   "cell_type": "markdown",
   "metadata": {},
   "source": [
    "#### Evaluación de bloques"
   ]
  },
  {
   "cell_type": "markdown",
   "metadata": {},
   "source": [
    "- Un bloque puede ser una linea o una estructura como un if o una selección.\n",
    "- `Ctrl+Enter` Evalúa el bloque en el que se encuentra el cursor."
   ]
  },
  {
   "cell_type": "markdown",
   "metadata": {},
   "source": [
    "#### Evaluación de celdas"
   ]
  },
  {
   "cell_type": "markdown",
   "metadata": {},
   "source": [
    "- Una celda comienza con `##`, `#---` o con `# %%`\n",
    "- Todo el texto debajo de uno de los tres «comentarios especiales» se considera parte de la celda.\n",
    "- La celda acaba hasta que inicia otra con una de los tres tipos de «comentarios especiales».\n",
    "- `Alt-Enter` evalúa el contenido de la celda.\n",
    "- `Alt-Up` y `Alt-Down`, Mueven el cursor de una celda a otra."
   ]
  },
  {
   "cell_type": "markdown",
   "metadata": {},
   "source": [
    "#### Evaluación del script"
   ]
  },
  {
   "cell_type": "markdown",
   "metadata": {},
   "source": [
    "- En muchos casos se necesita evaluar todo el script.\n",
    "- `Alt-Shift-Enter` evalúa todo como si no existieran las celdas (porque realmente no existen, ya que los delimitadores son sólo comentarios)."
   ]
  },
  {
   "cell_type": "markdown",
   "metadata": {},
   "source": [
    "Para más información ver la [documentación](http://docs.junolab.org/latest/man/basic_usage/)."
   ]
  }
 ],
 "metadata": {
  "kernelspec": {
   "display_name": "Bash",
   "language": "bash",
   "name": "bash"
  },
  "language_info": {
   "codemirror_mode": "shell",
   "file_extension": ".sh",
   "mimetype": "text/x-sh",
   "name": "bash"
  }
 },
 "nbformat": 4,
 "nbformat_minor": 4
}
