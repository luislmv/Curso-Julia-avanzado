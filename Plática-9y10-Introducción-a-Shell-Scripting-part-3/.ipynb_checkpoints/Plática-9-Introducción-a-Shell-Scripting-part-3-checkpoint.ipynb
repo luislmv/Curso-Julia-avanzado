{
 "cells": [
  {
   "cell_type": "markdown",
   "metadata": {},
   "source": [
    "# Tópicos avanzados de programación con Julia"
   ]
  },
  {
   "cell_type": "markdown",
   "metadata": {},
   "source": [
    "## _Introducción a Shell Scripting_"
   ]
  },
  {
   "cell_type": "markdown",
   "metadata": {},
   "source": [
    "__Recomendaciones generales y buenas prácticas al crear el entorno de desarrollo.__\n",
    "- Introducción a Shell Scripting.\n",
    "  - Crear y ejecutar cualquier script desde Jupyter.\n",
    "  - Interacción con el usuario.\n",
    "    - Entrada de datos.\n",
    "    - Salida de datos.\n",
    "  - Comandos externos, internos y palabras claves.\n",
    "  - Arreglos\n",
    "  - Comprobaciones en Bash.\n",
    "    - Comandos `test`,  `[` y `[[`.\n",
    "    - Cadenas.\n",
    "    - Enteros.\n",
    "    - Archivos.\n",
    "    - Concatenando pruebas.\n",
    "  - Estructuras de control de flujo.\n",
    "    - `if`.\n",
    "    - `case`.\n",
    "    - `for`.\n",
    "    - `while`.\n",
    "    - `until`.\n",
    "    - `select` estructura de control y de entrada de datos."
   ]
  },
  {
   "cell_type": "markdown",
   "metadata": {},
   "source": [
    "### Crear y ejecutar cualquier script desde Jupyter"
   ]
  },
  {
   "cell_type": "markdown",
   "metadata": {},
   "source": [
    "Para agilizar el proceso y no estar cambiando de programa. Voy a mostrar la forma en la que se crearán los script desde aquí:\n",
    "Supongamos que queremos crear un script en el directorio `./script` con el siguiente contenido:\n",
    "\n",
    "```bash\n",
    "#!/usr/bin/env bash\n",
    "echo -e \"El directorio actual es:\\n\\n $(pwd)\"\n",
    "```\n",
    "Y además queremos darle permiso de ejecución, para no estar invocando constantemente al intérprete `bash`.\n",
    "\n",
    "Un forma bastante artesanal sería:"
   ]
  },
  {
   "cell_type": "code",
   "execution_count": 1,
   "metadata": {},
   "outputs": [],
   "source": [
    "cd ./script #Nos movemos al subdirectorio «script», para que la ruta sea más corta."
   ]
  },
  {
   "cell_type": "code",
   "execution_count": 2,
   "metadata": {},
   "outputs": [
    {
     "name": "stdout",
     "output_type": "stream",
     "text": [
      "#!/usr/bin/env bash\n",
      "echo -e \"El directorio actual es:\\n\\n $(pwd)\"\n"
     ]
    }
   ],
   "source": [
    "cat << \"fin\" > \"./scp1.sh\" #Creamos el script.\n",
    "#!/usr/bin/env bash\n",
    "echo -e \"El directorio actual es:\\n\\n $(pwd)\"\n",
    "fin\n",
    "\n",
    "chmod -x ./scp1.sh\n",
    "\n",
    "cat ./scp1.sh #Revisamos, el script creado."
   ]
  },
  {
   "cell_type": "markdown",
   "metadata": {},
   "source": [
    "Podemos usar variables y funciones para mejorar la creación de scrips."
   ]
  },
  {
   "cell_type": "code",
   "execution_count": 3,
   "metadata": {},
   "outputs": [],
   "source": [
    "#La función «scp» crea scripts ejecutables para bash en el directorio actual.\n",
    "#El parámetro $1, contiene el nombre del archivo.\n",
    "#Por defecto se añade la extensión «sh» y se le coloca el SheBang.\n",
    "#Finalmente se presenta un informe de las tareas realizadas.\n",
    "scp(){\n",
    "    echo '#!/usr/bin/env bash' > \"./$1.sh\" #Crea el archivo con SheBang.\n",
    "    #cat espera que se añadan las lineas manualmente.\n",
    "    #Obviamente, podemos redirigir la entrada de «scp» que es lo mismo\n",
    "    #que haberlo hecho directamente con cat.\n",
    "    cat >>\"./$1.sh\" #Todas las lineas se agregan después del SheBang.\n",
    "    chmod +x \"./$1.sh\" #Le damos permiso de ejecución.\n",
    "    \n",
    "    #Se crea el informe:   \n",
    "    echo \"Se creó el archivo ejecutable «$1.sh».\"\n",
    "    echo -e \"\\nEl archivo «$1.sh» está contenido en:\\n\\n$(pwd)\\n\"\n",
    "    echo \"El contenido de «$1.sh» es:\"\n",
    "    echo -e \"---------------------------\\n\"\n",
    "    cat \"./$1.sh\"\n",
    "    echo -e \"\\n---------------------------\"\n",
    "    echo \"Fin del contenido de «$1.sh»\"\n",
    "}"
   ]
  },
  {
   "cell_type": "markdown",
   "metadata": {},
   "source": [
    "Ahora todo es mucho más fácil."
   ]
  },
  {
   "cell_type": "code",
   "execution_count": 4,
   "metadata": {},
   "outputs": [
    {
     "name": "stdout",
     "output_type": "stream",
     "text": [
      "Se creó el archivo ejecutable «scp2.sh».\n",
      "\n",
      "El archivo «scp2.sh» está contenido en:\n",
      "\n",
      "/home/luis/Proyecto-julia/Curso/Pláticas/Plática-9-Introducción-a-Shell-Scripting-part-3/script\n",
      "\n",
      "El contenido de «scp2.sh» es:\n",
      "---------------------------\n",
      "\n",
      "#!/usr/bin/env bash\n",
      "echo -e \"El directorio actual es:\\n\\n $(pwd)\"\n",
      "\n",
      "---------------------------\n",
      "Fin del contenido de «scp2.sh»\n"
     ]
    }
   ],
   "source": [
    "scp scp2 << \"fin\"\n",
    "echo -e \"El directorio actual es:\\n\\n $(pwd)\"\n",
    "fin"
   ]
  },
  {
   "cell_type": "code",
   "execution_count": 112,
   "metadata": {},
   "outputs": [],
   "source": [
    "#La función «scp» crea scripts ejecutables para bash en el directorio actual.\n",
    "#El parámetro $1, contiene el nombre del archivo.\n",
    "#Por defecto se añade la extensión «sh» y se le coloca el SheBang.\n",
    "#Con la opción «-i» o «--info» se presenta un informe de las tareas realizadas.\n",
    "scp(){\n",
    "    local informe=false #Para saber si se muestra el informe.\n",
    "    \n",
    "    #Si está la opción de imprimir informe\n",
    "    if [[ $1 = \"-i\" ||  $1 = \"--info\" ]]; then\n",
    "        informe=true #Para indicar que se va a imprimir.\n",
    "        shift #Se elimina el parámetro de tipo opción.\n",
    "    elif [[ $1 =~ ^- ]]; then #Cualquier otra opción será incorrecta.\n",
    "        echo \"Opción «$1» incorrecta.\"\n",
    "        return 1\n",
    "    fi\n",
    "    \n",
    "    #En este punto el nombre del archivo está en $1.\n",
    "    #Si $1 está vacío, se notifica y retornamos un error 1.\n",
    "    if [[ -z \"$1\" ]]; then\n",
    "        echo \"Nombre de archivo vacío.\"\n",
    "        return 1\n",
    "    fi\n",
    "    \n",
    "    echo '#!/usr/bin/env bash' > \"./$1.sh\" #Crea el archivo con SheBang.\n",
    "    #cat espera que se añadan las lineas manualmente.\n",
    "    #Obviamente, podemos redirigir la entrada de «scp» que es lo mismo\n",
    "    #que haberlo hecho directamente con cat.\n",
    "    cat >>\"./$1.sh\" #Todas las lineas se agregan después del SheBang.\n",
    "    chmod +x \"./$1.sh\" #Le damos permiso de ejecución.\n",
    "    \n",
    "    #Si «informe» es verdadero, este se crea:\n",
    "    if $informe; then\n",
    "        echo \"Se creó el archivo ejecutable «$1.sh».\"\n",
    "        echo -e \"\\nEl archivo «$1.sh» está contenido en:\\n\\n$(pwd)\\n\"\n",
    "        echo \"El contenido de «$1.sh» es:\"\n",
    "        echo -e \"---------------------------\\n\"\n",
    "        cat \"./$1.sh\"\n",
    "        echo -e \"\\n---------------------------\"\n",
    "        echo \"Fin del contenido de «$1.sh»\"\n",
    "    fi\n",
    "}"
   ]
  },
  {
   "cell_type": "code",
   "execution_count": 6,
   "metadata": {},
   "outputs": [
    {
     "name": "stdout",
     "output_type": "stream",
     "text": [
      "Se creó el archivo ejecutable «prueba.sh».\n",
      "\n",
      "El archivo «prueba.sh» está contenido en:\n",
      "\n",
      "/home/luis/Proyecto-julia/Curso/Pláticas/Plática-9-Introducción-a-Shell-Scripting-part-3/script\n",
      "\n",
      "El contenido de «prueba.sh» es:\n",
      "---------------------------\n",
      "\n",
      "#!/usr/bin/env bash\n",
      "echo -e \"El directorio actual es:\\n\\n $(pwd)\"\n",
      "\n",
      "---------------------------\n",
      "Fin del contenido de «prueba.sh»\n"
     ]
    }
   ],
   "source": [
    "scp -i prueba << \"fin\"\n",
    "echo -e \"El directorio actual es:\\n\\n $(pwd)\"\n",
    "fin"
   ]
  },
  {
   "cell_type": "code",
   "execution_count": 7,
   "metadata": {},
   "outputs": [
    {
     "name": "stdout",
     "output_type": "stream",
     "text": [
      "Se creó el archivo ejecutable «prueba2.sh».\n",
      "\n",
      "El archivo «prueba2.sh» está contenido en:\n",
      "\n",
      "/home/luis/Proyecto-julia/Curso/Pláticas/Plática-9-Introducción-a-Shell-Scripting-part-3/script\n",
      "\n",
      "El contenido de «prueba2.sh» es:\n",
      "---------------------------\n",
      "\n",
      "#!/usr/bin/env bash\n",
      "echo -e \"El directorio actual es:\\n\\n $(pwd)\"\n",
      "\n",
      "---------------------------\n",
      "Fin del contenido de «prueba2.sh»\n"
     ]
    }
   ],
   "source": [
    "scp --info prueba2 << \"fin\"\n",
    "echo -e \"El directorio actual es:\\n\\n $(pwd)\"\n",
    "fin"
   ]
  },
  {
   "cell_type": "code",
   "execution_count": 8,
   "metadata": {},
   "outputs": [
    {
     "name": "stdout",
     "output_type": "stream",
     "text": [
      "Opción «--ifo» incorrecta.\n"
     ]
    },
    {
     "ename": "",
     "evalue": "1",
     "output_type": "error",
     "traceback": []
    }
   ],
   "source": [
    "scp --ifo prueba3 << \"fin\"\n",
    "echo -e \"El directorio actual es:\\n\\n $(pwd)\"\n",
    "fin"
   ]
  },
  {
   "cell_type": "code",
   "execution_count": 9,
   "metadata": {},
   "outputs": [
    {
     "name": "stdout",
     "output_type": "stream",
     "text": [
      "Nombre de archivo vacío.\n"
     ]
    },
    {
     "ename": "",
     "evalue": "1",
     "output_type": "error",
     "traceback": []
    }
   ],
   "source": [
    "scp -i << \"fin\"\n",
    "echo -e \"El directorio actual es:\\n\\n $(pwd)\"\n",
    "fin"
   ]
  },
  {
   "cell_type": "code",
   "execution_count": 10,
   "metadata": {},
   "outputs": [
    {
     "name": "stdout",
     "output_type": "stream",
     "text": [
      "Nombre de archivo vacío.\n"
     ]
    },
    {
     "ename": "",
     "evalue": "1",
     "output_type": "error",
     "traceback": []
    }
   ],
   "source": [
    "scp << \"fin\"\n",
    "echo -e \"El directorio actual es:\\n\\n $(pwd)\"\n",
    "fin"
   ]
  },
  {
   "cell_type": "markdown",
   "metadata": {},
   "source": [
    "Podemos ejecutar el script creado en otra terminal, sin salir de Jupyter."
   ]
  },
  {
   "cell_type": "code",
   "execution_count": 11,
   "metadata": {},
   "outputs": [],
   "source": [
    "x-terminal-emulator -e './scp2.sh' #Abre una nueva terminal, ejecuta el script y shttp://localhost:8889/notebooks/Pl%C3%A1ticas/Pl%C3%A1tica-9-Introducci%C3%B3n-a-Shell-Scripting-part-3/Pl%C3%A1tica-9-Introducci%C3%B3n-a-Shell-Scripting-part-3.ipynb#e cierra."
   ]
  },
  {
   "cell_type": "code",
   "execution_count": 12,
   "metadata": {},
   "outputs": [],
   "source": [
    "#Abre una nueva terminal, ejecuta el script. Espera a que se cierre manualmente.\n",
    "x-terminal-emulator --noclose -e './scp2.sh'"
   ]
  },
  {
   "cell_type": "code",
   "execution_count": 13,
   "metadata": {},
   "outputs": [],
   "source": [
    "#Podemos crear un alias para no tener que escribir tanto.\n",
    "alias exc=\"x-terminal-emulator --noclose -e\""
   ]
  },
  {
   "cell_type": "code",
   "execution_count": 14,
   "metadata": {},
   "outputs": [],
   "source": [
    "exc ./scp2.sh #Mucho más cómodo."
   ]
  },
  {
   "cell_type": "code",
   "execution_count": 15,
   "metadata": {},
   "outputs": [],
   "source": [
    "unalias exc #Eliminamos el alias, para crear un función más cómoda aún."
   ]
  },
  {
   "cell_type": "code",
   "execution_count": 113,
   "metadata": {},
   "outputs": [],
   "source": [
    "#Hace lo mismo, pero evita tener que colocar la ruta relativa y la extensión.\n",
    "exc(){\n",
    "    x-terminal-emulator --noclose -e \"./$1.sh\"\n",
    "}"
   ]
  },
  {
   "cell_type": "code",
   "execution_count": 17,
   "metadata": {},
   "outputs": [],
   "source": [
    "exc scp2 #Aún más cómodo."
   ]
  },
  {
   "cell_type": "code",
   "execution_count": 18,
   "metadata": {},
   "outputs": [],
   "source": [
    "#Podemos usar una variable, para evitar escribir dos veces el nombre del archivo:\n",
    "n_scp=\"scp3\" #Ahora sólo tenemos que escribir el nombré aquí.\n",
    "\n",
    "scp $n_scp << \"fin\"\n",
    "\n",
    "echo -e \"El directorio actual es:\\n\\n $(pwd)\"\n",
    "\n",
    "fin\n",
    "\n",
    "exc $n_scp"
   ]
  },
  {
   "cell_type": "markdown",
   "metadata": {},
   "source": [
    "### Interacción con el usuario"
   ]
  },
  {
   "cell_type": "markdown",
   "metadata": {},
   "source": [
    "La interacción con el usuario en los scripts, se da mediante la entrada y la salida estándar de los procesos."
   ]
  },
  {
   "cell_type": "markdown",
   "metadata": {},
   "source": [
    "#### Entrada de datos"
   ]
  },
  {
   "cell_type": "markdown",
   "metadata": {},
   "source": [
    "- Para obtener datos almacenados en algún archivo, podemos redirigir la entrada estándar del proceso que lo necesita al archivo en cuestión.\n",
    "- Una manera alternativa, es usar comandos como `cat`, `head`, `tail`, etc.\n",
    "- Los datos obtenidos de ese modo pueden pasarse a otros procesos o almacenarse en variables.\n",
    "- Para obtener información directamente del usuario se usa el comando `read`."
   ]
  },
  {
   "cell_type": "code",
   "execution_count": 19,
   "metadata": {},
   "outputs": [],
   "source": [
    "n_scp=\"scp4\"\n",
    "\n",
    "scp $n_scp << \"fin\"\n",
    "\n",
    "#No da ningún aviso.\n",
    "read nombre #Se lee desde el teclado y se almacena en «nombre»\n",
    "echo \"Su nombre es $nombre.\" #Muestra el contenido.\n",
    "\n",
    "fin\n",
    "\n",
    "exc $n_scp"
   ]
  },
  {
   "cell_type": "code",
   "execution_count": 21,
   "metadata": {},
   "outputs": [],
   "source": [
    "n_scp=\"scp5\"\n",
    "\n",
    "scp $n_scp << \"fin\"\n",
    "\n",
    "echo \"Escriba su nombre: \"\n",
    "read nombre #Se lee desde el teclado y se almacena en «nombre»\n",
    "echo \"Su nombre es $nombre.\" #Muestra el contenido.\n",
    "\n",
    "fin\n",
    "\n",
    "exc $n_scp"
   ]
  },
  {
   "cell_type": "code",
   "execution_count": 22,
   "metadata": {},
   "outputs": [],
   "source": [
    "n_scp=\"scp6\"\n",
    "\n",
    "scp $n_scp << \"fin\"\n",
    "\n",
    "echo -n \"Escriba su nombre: \"\n",
    "read nombre #Se lee desde el teclado y se almacena en «nombre»\n",
    "echo \"Su nombre es $nombre.\" #Muestra el contenido.\n",
    "\n",
    "fin\n",
    "\n",
    "exc $n_scp"
   ]
  },
  {
   "cell_type": "code",
   "execution_count": 23,
   "metadata": {},
   "outputs": [],
   "source": [
    "n_scp=\"scp7\"\n",
    "\n",
    "scp $n_scp << \"fin\"\n",
    "\n",
    "read -p \"Escriba su nombre: \" nombre #Se lee desde el teclado y se almacena en «nombre»\n",
    "echo \"Su nombre es $nombre.\" #Muestra el contenido.\n",
    "\n",
    "fin\n",
    "\n",
    "exc $n_scp"
   ]
  },
  {
   "cell_type": "markdown",
   "metadata": {},
   "source": [
    "#### Salida de datos"
   ]
  },
  {
   "cell_type": "markdown",
   "metadata": {},
   "source": [
    "El comando `echo` es bastante práctico y difundido, pero no es recomendado cuando se necesita dar un mejor formato al texto de salida. Para eso contamos con `printf` (usa una sintaxis similar a la función `printf` del lenguaje `C`). \n",
    "\n",
    "[Aquí](https://ugeek.github.io/blog/post/2019-02-08-no-todo-es-echo-tambien-existe-printf.html) se muestran algunos ejemplos."
   ]
  },
  {
   "cell_type": "markdown",
   "metadata": {},
   "source": [
    "### Comandos externos, internos y palabras claves."
   ]
  },
  {
   "cell_type": "code",
   "execution_count": 24,
   "metadata": {},
   "outputs": [
    {
     "name": "stdout",
     "output_type": "stream",
     "text": [
      "echo es una orden interna del intérprete de ordenes\n"
     ]
    }
   ],
   "source": [
    "type echo #Comando definido dentro de bash."
   ]
  },
  {
   "cell_type": "code",
   "execution_count": 25,
   "metadata": {},
   "outputs": [
    {
     "name": "stdout",
     "output_type": "stream",
     "text": [
      "julia is /usr/local/bin/julia\n"
     ]
    }
   ],
   "source": [
    "type julia #Comando externo a bash."
   ]
  },
  {
   "cell_type": "markdown",
   "metadata": {},
   "source": [
    "Una palabra clave es una definición interna de __bash__. Son componentes básicos de su sintaxis, pero no son programas ( _comandos_ ). Necesitan de comandos para que tengan sentido. En realidad se comportan como operadores."
   ]
  },
  {
   "cell_type": "code",
   "execution_count": 26,
   "metadata": {},
   "outputs": [
    {
     "name": "stdout",
     "output_type": "stream",
     "text": [
      "{ es una palabra clave del intérprete de ordenes\n"
     ]
    }
   ],
   "source": [
    "type { #Palabra clave."
   ]
  },
  {
   "cell_type": "markdown",
   "metadata": {},
   "source": [
    "En [este](https://ubuntu.dokry.com/5924/cual-es-la-diferencia-entre-shell-builtin-y-shell-keyword.html) artículo, se explica bastante bien la diferencia entre los tres tipos de definiciones que usa __bash__."
   ]
  },
  {
   "cell_type": "markdown",
   "metadata": {},
   "source": [
    "### Arreglos"
   ]
  },
  {
   "cell_type": "code",
   "execution_count": 27,
   "metadata": {},
   "outputs": [],
   "source": [
    "# Los elementos de una arreglo se separan con espacios.\n",
    "arreglo=(a b c 1 hola \"nada de nada\")"
   ]
  },
  {
   "cell_type": "code",
   "execution_count": 28,
   "metadata": {},
   "outputs": [
    {
     "name": "stdout",
     "output_type": "stream",
     "text": [
      "a\n"
     ]
    }
   ],
   "source": [
    "echo $arreglo #Solo nos da el primer elemento ¿?"
   ]
  },
  {
   "cell_type": "code",
   "execution_count": 29,
   "metadata": {},
   "outputs": [],
   "source": [
    "var=12 #También es un arreglo, pero de un solo elemento."
   ]
  },
  {
   "cell_type": "code",
   "execution_count": 30,
   "metadata": {},
   "outputs": [
    {
     "name": "stdout",
     "output_type": "stream",
     "text": [
      "a b c 1 hola nada de nada\n",
      "a b c 1 hola nada de nada\n",
      "12\n",
      "12\n"
     ]
    }
   ],
   "source": [
    "# Para ver los elemento del arreglo:\n",
    "echo ${arreglo[@]} #Muestra todos los elementos separados por espacios.\n",
    "echo ${arreglo[*]} #Muestra lo mismo, pero se trata al conjunto como un solo elemento.\n",
    "#La variable también es un arreglo\n",
    "echo ${var[@]}\n",
    "echo ${var[*]}"
   ]
  },
  {
   "cell_type": "code",
   "execution_count": 31,
   "metadata": {},
   "outputs": [
    {
     "name": "stdout",
     "output_type": "stream",
     "text": [
      "a\n",
      "b\n",
      "c\n",
      "1\n",
      "hola\n",
      "nada de nada\n",
      "\n",
      "\n"
     ]
    }
   ],
   "source": [
    "#Podemos seleccionar cada elemento de un arreglo.\n",
    "echo ${arreglo[0]}\n",
    "echo ${arreglo[1]}\n",
    "echo ${arreglo[2]}\n",
    "echo ${arreglo[3]}\n",
    "echo ${arreglo[4]}\n",
    "echo ${arreglo[5]}\n",
    "#Como no existe, está vacío. Igual que todas las variables no declaradas.\n",
    "echo ${arreglo[6]}\n",
    "echo ${var[1]}"
   ]
  },
  {
   "cell_type": "code",
   "execution_count": 32,
   "metadata": {},
   "outputs": [
    {
     "name": "stdout",
     "output_type": "stream",
     "text": [
      "a b CAMBIO 1 hola nada de nada NUEVO\n",
      "Anterior 12 NUEVO\n"
     ]
    }
   ],
   "source": [
    "#Se puede cambiar el valor de cualquier elemento o añadir nuevos:\n",
    "arreglo[6]=NUEVO\n",
    "var[1]=NUEVO\n",
    "arreglo[2]=CAMBIO\n",
    "#También podemos añadir elementos por delante:\n",
    "var=(Anterior ${var[*]}) #Lo redefinimos y listo.\n",
    "#Al redefinirlo de esta manera, puede haber problemas con los espacios.\n",
    "echo ${arreglo[*]}\n",
    "echo ${var[*]}"
   ]
  },
  {
   "cell_type": "code",
   "execution_count": 34,
   "metadata": {},
   "outputs": [
    {
     "name": "stdout",
     "output_type": "stream",
     "text": [
      "23\n",
      "44\n"
     ]
    }
   ],
   "source": [
    "a=23; b=44\n",
    "#Con el signo de «!», miramos dentro de los elementos del array.\n",
    "#Ahora si que tiene sentido lo de almacenar variables en variables.\n",
    "echo ${!arreglo[0]}\n",
    "echo ${!arreglo[1]}"
   ]
  },
  {
   "cell_type": "code",
   "execution_count": 35,
   "metadata": {},
   "outputs": [
    {
     "name": "stdout",
     "output_type": "stream",
     "text": [
      "7\n",
      "7\n",
      "6\n"
     ]
    }
   ],
   "source": [
    "#Para saber cuantos elementos tiene un array:\n",
    "echo ${#arreglo[@]}\n",
    "echo ${#arreglo[*]}\n",
    "echo ${#arreglo[2]} #Esto cuenta los elemento de los elementos (número de caracteres)."
   ]
  },
  {
   "cell_type": "code",
   "execution_count": 36,
   "metadata": {},
   "outputs": [
    {
     "name": "stdout",
     "output_type": "stream",
     "text": [
      "9\n",
      "9\n",
      "9\n",
      "9\n",
      "a b CAMBIO 1 hola nada de nada NUEVO\n"
     ]
    }
   ],
   "source": [
    "#Para copiar un arreglo en otro:\n",
    "arreglo2=(${arreglo[@]})\n",
    "arreglo3=(${arreglo[*]})\n",
    "\n",
    "#Se separó la cadena.\n",
    "echo ${#arreglo2[@]}\n",
    "echo ${#arreglo2[*]}\n",
    "echo ${#arreglo3[@]}\n",
    "echo ${#arreglo3[*]}\n",
    "echo ${arreglo3[*]}\n",
    "\n",
    "arreglo2=(\"${arreglo[@]}\")\n",
    "arreglo3=(\"${arreglo[*]}\")"
   ]
  },
  {
   "cell_type": "code",
   "execution_count": 37,
   "metadata": {},
   "outputs": [
    {
     "name": "stdout",
     "output_type": "stream",
     "text": [
      "7\n",
      "7\n",
      "a b CAMBIO 1 hola nada de nada NUEVO\n"
     ]
    }
   ],
   "source": [
    "#De esta manera se evita el problema.\n",
    "declare -n arreglo4=arreglo\n",
    "echo ${#arreglo4[@]}\n",
    "echo ${#arreglo4[*]}\n",
    "echo ${arreglo4[*]}"
   ]
  },
  {
   "cell_type": "code",
   "execution_count": 40,
   "metadata": {},
   "outputs": [
    {
     "name": "stdout",
     "output_type": "stream",
     "text": [
      "1 hola nada de nada NUEVO\n",
      "\n",
      "hola nada de nada NUEVO\n"
     ]
    }
   ],
   "source": [
    "#Se puede seleccionar sólo una parte.\n",
    "echo ${arreglo4[@]:3:4} #Del cuarto al quinto.\n",
    "echo ${arreglo4[@]:3:} #Del cuarto en adelante.\n",
    "echo ${arreglo4[@]::4} #Del primero al quinto."
   ]
  },
  {
   "cell_type": "code",
   "execution_count": 42,
   "metadata": {},
   "outputs": [
    {
     "name": "stdout",
     "output_type": "stream",
     "text": [
      "1\n",
      "2\n",
      "3\n",
      "4\n",
      "5\n",
      "-------------\n",
      "1\n",
      "3\n",
      "5\n",
      "-------------\n",
      "5\n",
      "3\n",
      "1\n"
     ]
    }
   ],
   "source": [
    "#Crea un rango de valores.\n",
    "seq 1 5\n",
    "echo \"-------------\"\n",
    "seq 1 2 5\n",
    "echo \"-------------\"\n",
    "seq 5 -2 1"
   ]
  },
  {
   "cell_type": "code",
   "execution_count": 43,
   "metadata": {},
   "outputs": [
    {
     "name": "stdout",
     "output_type": "stream",
     "text": [
      "1 2 3 4 5 6 7 8 9 10\n",
      "1\n"
     ]
    }
   ],
   "source": [
    "#Se puede usar para crear arreglos\n",
    "var2=$(seq 1 10) #Todavía no lo es.\n",
    "echo ${var2[*]}\n",
    "echo ${#var2[*]}"
   ]
  },
  {
   "cell_type": "code",
   "execution_count": 44,
   "metadata": {},
   "outputs": [
    {
     "name": "stdout",
     "output_type": "stream",
     "text": [
      "1 2 3 4 5 6 7 8 9 10\n",
      "10\n"
     ]
    }
   ],
   "source": [
    "#Se puede usar para crear arreglos\n",
    "var2=($(seq 1 10)) #Ahora sí.\n",
    "echo ${var2[*]}\n",
    "echo ${#var2[*]}"
   ]
  },
  {
   "cell_type": "markdown",
   "metadata": {},
   "source": [
    "Para más información ve la ayuda de `seq`.\n",
    "\n",
    "También se pueden trabajar con otro tipo de rangos. Los veremos en la estructura `for`.\n",
    "\n",
    "Este fue el ejemplo que mostraba el arreglo que almacena los estados de salida de los procesos unidos por tuberías."
   ]
  },
  {
   "cell_type": "code",
   "execution_count": 45,
   "metadata": {},
   "outputs": [
    {
     "name": "stdout",
     "output_type": "stream",
     "text": [
      "cat: /tmp/arch1: No existe el archivo o el directorio\n",
      "      0       0       0\n",
      "Los estados de salida de cada comando son: 1 0\n"
     ]
    }
   ],
   "source": [
    "#El arreglo PIPESTATUS, almacena los estados de salida de cada comando.\n",
    "cat /tmp/arch1 | wc\n",
    "echo \"Los estados de salida de cada comando son: ${PIPESTATUS[*]}\""
   ]
  },
  {
   "cell_type": "markdown",
   "metadata": {},
   "source": [
    "### Comprobaciones en Bash"
   ]
  },
  {
   "cell_type": "markdown",
   "metadata": {},
   "source": [
    "Antes de presentar las estructuras de control de flujo, es necesario saber como hacer comprobaciones en `Bash`.\n",
    "\n",
    "Básicamente existen tres formas de hacer pruebas."
   ]
  },
  {
   "cell_type": "markdown",
   "metadata": {},
   "source": [
    "#### Comandos `test`,  `[` y `[[`"
   ]
  },
  {
   "cell_type": "markdown",
   "metadata": {},
   "source": [
    "Los comandos `test` y `[` son sinónimos, con la excepción de que el comando `[` requiere un parámetro adicional (es obligatorio colocar «`]`» como último argumento) que no está presente en `test`. Todo lo demás es idéntico."
   ]
  },
  {
   "cell_type": "code",
   "execution_count": 46,
   "metadata": {},
   "outputs": [
    {
     "name": "stdout",
     "output_type": "stream",
     "text": [
      "test es una orden interna del intérprete de ordenes\n",
      "[ es una orden interna del intérprete de ordenes\n"
     ]
    }
   ],
   "source": [
    "type test; type ["
   ]
  },
  {
   "cell_type": "markdown",
   "metadata": {},
   "source": [
    "Ambos comandos están definidos en las normas __POSIX__."
   ]
  },
  {
   "cell_type": "markdown",
   "metadata": {},
   "source": [
    "- `[[` es una palabra reservada. No forma parte del estándar  __POSIX__.\n",
    "- Es más potente, amigable y rápido que `test` o que `[`.\n",
    "- Es original de `ksh`, pero actualmente está soportado en `bash`.\n",
    "\n",
    "[Aquí](https://mywiki.wooledge.org/BashFAQ/031) hay más información."
   ]
  },
  {
   "cell_type": "code",
   "execution_count": 49,
   "metadata": {},
   "outputs": [
    {
     "name": "stdout",
     "output_type": "stream",
     "text": [
      "[[ es una palabra clave del intérprete de ordenes\n"
     ]
    }
   ],
   "source": [
    "type [["
   ]
  },
  {
   "cell_type": "markdown",
   "metadata": {},
   "source": [
    "Los tres funcionan de la misma manera. Realizan alguna comprobación y finalizan sin devolver nada por la salida estándar. Es en el estado de salida, donde se puede saber el resultado de la prueba. Si `$?` es `0` o `1`, la comprobación fue __verdadera__ o __falsa__ respectivamente.\n",
    "\n",
    "__NOTA IMPORTANTE__\n",
    "\n",
    "En todos los casos se tienen que respetar los espacios, entre los corchetes y su contenido, ya que que son comandos y parámetros. Así que se tienen que tratar como tal, ya que el espacio es el separador.\n",
    "\n",
    "Los comandos `true` y `false`, siempre devuelven el estad de salida `0` y `1` respectivamente."
   ]
  },
  {
   "cell_type": "code",
   "execution_count": 50,
   "metadata": {},
   "outputs": [
    {
     "name": "stdout",
     "output_type": "stream",
     "text": [
      "true es una orden interna del intérprete de ordenes\n",
      "false es una orden interna del intérprete de ordenes\n"
     ]
    }
   ],
   "source": [
    "type true; type false"
   ]
  },
  {
   "cell_type": "markdown",
   "metadata": {},
   "source": [
    "__Ejemplo__"
   ]
  },
  {
   "cell_type": "code",
   "execution_count": 48,
   "metadata": {},
   "outputs": [
    {
     "name": "stdout",
     "output_type": "stream",
     "text": [
      "1\n"
     ]
    }
   ],
   "source": [
    "#Comparando cadenas (orden lexicográfico).\n",
    "#Se tiene que escapar «>», de lo contrario estaríamos redireccionando STDOUT.\n",
    "test \"Hola\" \\> \"Holb\"\n",
    "echo $?"
   ]
  },
  {
   "cell_type": "code",
   "execution_count": 51,
   "metadata": {},
   "outputs": [],
   "source": [
    "test \"Hola\" > \"Holb\" #Crea un archivo vacío llamado Holb en el directorio actual."
   ]
  },
  {
   "cell_type": "code",
   "execution_count": 52,
   "metadata": {},
   "outputs": [
    {
     "name": "stdout",
     "output_type": "stream",
     "text": [
      "Holb        prueba.sh  scp2.sh  scp4.sh  scp6.sh\n",
      "prueba2.sh  scp1.sh    scp3.sh  scp5.sh  scp7.sh\n"
     ]
    }
   ],
   "source": [
    "ls; rm Holb #Mostramos y seguidamente lo borramos."
   ]
  },
  {
   "cell_type": "code",
   "execution_count": 53,
   "metadata": {},
   "outputs": [
    {
     "name": "stdout",
     "output_type": "stream",
     "text": [
      "1\n"
     ]
    }
   ],
   "source": [
    "[ \"Hola\" \\> \"Holb\" ]\n",
    "echo $?"
   ]
  },
  {
   "cell_type": "code",
   "execution_count": 54,
   "metadata": {},
   "outputs": [
    {
     "name": "stdout",
     "output_type": "stream",
     "text": [
      "1\n"
     ]
    }
   ],
   "source": [
    "[[ \"Hola\" > \"Holb\" ]] #Como [[ no es un comando, no es necesario escapar «>».\n",
    "echo $?"
   ]
  },
  {
   "cell_type": "code",
   "execution_count": 55,
   "metadata": {},
   "outputs": [
    {
     "name": "stdout",
     "output_type": "stream",
     "text": [
      "0\n"
     ]
    }
   ],
   "source": [
    "#Se tiene que escapar «<», de lo contrario estaríamos redireccionado STDIN.\n",
    "test \"Hola\" \\< \"Holb\"\n",
    "echo $?"
   ]
  },
  {
   "cell_type": "code",
   "execution_count": 56,
   "metadata": {},
   "outputs": [
    {
     "name": "stdout",
     "output_type": "stream",
     "text": [
      "bash: Holb: No existe el archivo o el directorio\n",
      "1\n"
     ]
    }
   ],
   "source": [
    "test \"Hola\" < \"Holb\" #Redirecciona la entrada al archivo Holb, que ya borre.\n",
    "#Si no lo hubiera borrado, el test se hubiera ejecutado correctamente, ya que\n",
    "#al estar vacío el archivo, sólo se ejecuta test \"Hola\".\n",
    "#El test hubiera devuelto 0, que es el valor esperado de la comparación correcta.\n",
    "echo $?"
   ]
  },
  {
   "cell_type": "code",
   "execution_count": 57,
   "metadata": {},
   "outputs": [
    {
     "name": "stdout",
     "output_type": "stream",
     "text": [
      "0\n"
     ]
    }
   ],
   "source": [
    "#Volvamos a crear el archivo para comprobarlo:\n",
    "echo > Holb\n",
    "test \"Hola\" < \"Holb\"\n",
    "echo $?\n",
    "rm Holb"
   ]
  },
  {
   "cell_type": "code",
   "execution_count": 58,
   "metadata": {},
   "outputs": [
    {
     "name": "stdout",
     "output_type": "stream",
     "text": [
      "0\n"
     ]
    }
   ],
   "source": [
    "#Lo anterior equivale a:\n",
    "test \"Hola\"\n",
    "echo $?"
   ]
  },
  {
   "cell_type": "code",
   "execution_count": 59,
   "metadata": {},
   "outputs": [
    {
     "name": "stdout",
     "output_type": "stream",
     "text": [
      "0\n"
     ]
    }
   ],
   "source": [
    "[ \"Hola\" \\< \"Holb\" ] \n",
    "echo $?"
   ]
  },
  {
   "cell_type": "code",
   "execution_count": 60,
   "metadata": {},
   "outputs": [
    {
     "name": "stdout",
     "output_type": "stream",
     "text": [
      "0\n"
     ]
    }
   ],
   "source": [
    "[[ \"Hola\" < \"Holb\" ]]\n",
    "echo $?"
   ]
  },
  {
   "cell_type": "code",
   "execution_count": 61,
   "metadata": {},
   "outputs": [
    {
     "name": "stdout",
     "output_type": "stream",
     "text": [
      "0\n",
      "1\n"
     ]
    }
   ],
   "source": [
    "true #Siempre verdadero.\n",
    "echo $?\n",
    "false #Siempre falso.\n",
    "echo $?"
   ]
  },
  {
   "cell_type": "markdown",
   "metadata": {},
   "source": [
    "#### Cadenas"
   ]
  },
  {
   "cell_type": "markdown",
   "metadata": {},
   "source": [
    "`test` o `[` | `[[` | Comprobación\n",
    ":-- | :-- | :--\n",
    "`\\>` | `>` | Mayor que... (orden lexicográfico).\n",
    "`\\<` | `<` | Menor que... (orden lexicográfico).\n",
    "`=` o `==` | `=` o `==` | Igual a...\n",
    "`!=` | `!=` | Distinto de...\n",
    "`-z` | `-z` | La cadena está vacía.\n",
    "`-n` | `-n` | La cadena no está vacía.\n",
    "No se puede | `=~` | La cadena a la izquierda de `=~`, cumple con alguna expresión regular a la derecha de `=~`."
   ]
  },
  {
   "cell_type": "markdown",
   "metadata": {},
   "source": [
    "Ejemplo con `[`:"
   ]
  },
  {
   "cell_type": "code",
   "execution_count": 62,
   "metadata": {},
   "outputs": [
    {
     "name": "stdout",
     "output_type": "stream",
     "text": [
      "var1=aa; var2=11; var3=aa; var4=\"\"\n",
      "-------------\n",
      "[ \"$var1\" = \"$var2\" ]:  1\n",
      "-------------\n",
      "[ \"$var1\" == \"$var2\" ]: 1\n",
      "-------------\n",
      "[ \"$var1\" == \"$var3\" ]: 0\n",
      "-------------\n",
      "[ \"$var1\" != \"$var2\" ]: 0\n",
      "-------------\n",
      "[ \"$var1\" != \"$var3\" ]: 1\n",
      "-------------\n",
      "[ -z \"$var2\" ]: 1\n",
      "-------------\n",
      "[ -z \"$var4\" ]: 0\n",
      "-------------\n",
      "[ -z \"$var5\" ]: 0\n",
      "-------------\n",
      "[ -n \"$var2\" ]: 0\n",
      "-------------\n",
      "[ -n \"$var4\" ]: 1\n",
      "-------------\n",
      "[ -n \"$var5\" ]: 1\n"
     ]
    }
   ],
   "source": [
    "var1=aa; var2=\" \"; var3=aa; var4=\"\"\n",
    "\n",
    "echo 'var1=aa; var2=11; var3=aa; var4=\"\"'\n",
    "echo \"-------------\"\n",
    "\n",
    "[ \"$var1\" = \"$var2\" ]\n",
    "echo '[ \"$var1\" = \"$var2\" ]: ' $?\n",
    "echo \"-------------\"\n",
    "[[ $var1 == $var2 ]]\n",
    "echo '[ \"$var1\" == \"$var2\" ]: '$?\n",
    "echo \"-------------\"\n",
    "[ $var1 == $var3 ]\n",
    "echo '[ \"$var1\" == \"$var3\" ]: '$?\n",
    "echo \"-------------\"\n",
    "[[ \"$var1\" != \"$var2\" ]]\n",
    "echo '[ \"$var1\" != \"$var2\" ]: '$?\n",
    "echo \"-------------\"\n",
    "[ \"$var1\" != \"$var3\" ]\n",
    "echo '[ \"$var1\" != \"$var3\" ]: '$?\n",
    "echo \"-------------\"\n",
    "[ -z \"$var2\" ] #Espacio no es vacío.\n",
    "echo '[ -z \"$var2\" ]: '$?\n",
    "echo \"-------------\"\n",
    "[ -z \"$var4\" ]\n",
    "echo '[ -z \"$var4\" ]: '$?\n",
    "echo \"-------------\"\n",
    "[ -z \"$var5\" ] #var5, no fue definida. Esto equivale a estar vacía.\n",
    "echo '[ -z \"$var5\" ]: '$?\n",
    "echo \"-------------\"\n",
    "[ -n \"$var2\" ]\n",
    "echo '[ -n \"$var2\" ]: '$?\n",
    "echo \"-------------\"\n",
    "[ -n \"$var4\" ]\n",
    "echo '[ -n \"$var4\" ]: '$?\n",
    "echo \"-------------\"\n",
    "[[ -n \"$var5\" ]]\n",
    "echo '[ -n \"$var5\" ]: '$?"
   ]
  },
  {
   "cell_type": "markdown",
   "metadata": {},
   "source": [
    "Ejemplo con `[[`:"
   ]
  },
  {
   "cell_type": "code",
   "execution_count": 63,
   "metadata": {},
   "outputs": [
    {
     "name": "stdout",
     "output_type": "stream",
     "text": [
      "var1=aa; var2=11; var3=aa; var4=\"\"\n",
      "-------------\n",
      "[[ $var1 = $var2 ]]:  1\n",
      "-------------\n",
      "[[ $var1 == $var2 ]]: 1\n",
      "-------------\n",
      "[[ $var1 == $var3 ]]: 0\n",
      "-------------\n",
      "[[ $var1 != $var2 ]]: 0\n",
      "-------------\n",
      "[[ $var1 != $var3 ]]: 1\n",
      "-------------\n",
      "[[ -z $var2 ]]: 1\n",
      "-------------\n",
      "[[ -z $var4 ]]: 0\n",
      "-------------\n",
      "[[ -z $var5 ]]: 0\n",
      "-------------\n",
      "[[ -n $var2 ]]: 0\n",
      "-------------\n",
      "[[ -n $var4 ]]: 1\n",
      "-------------\n",
      "[[ -n $var5 ]]: 1\n"
     ]
    }
   ],
   "source": [
    "var1=aa; var2=\" \"; var3=aa; var4=\"\"\n",
    "\n",
    "echo 'var1=aa; var2=11; var3=aa; var4=\"\"'\n",
    "echo \"-------------\"\n",
    "\n",
    "[[ $var1 = $var2 ]]\n",
    "echo '[[ $var1 = $var2 ]]: ' $?\n",
    "echo \"-------------\"\n",
    "[[ $var1 == $var2 ]]\n",
    "echo '[[ $var1 == $var2 ]]: '$?\n",
    "echo \"-------------\"\n",
    "[[ $var1 == $var3 ]]\n",
    "echo '[[ $var1 == $var3 ]]: '$?\n",
    "echo \"-------------\"\n",
    "[[ $var1 != $var2 ]]\n",
    "echo '[[ $var1 != $var2 ]]: '$?\n",
    "echo \"-------------\"\n",
    "[[ $var1 != $var3 ]]\n",
    "echo '[[ $var1 != $var3 ]]: '$?\n",
    "echo \"-------------\"\n",
    "[[ -z $var2 ]] #Espacio no es vacío.\n",
    "echo '[[ -z $var2 ]]: '$?\n",
    "echo \"-------------\"\n",
    "[[ -z $var4 ]]\n",
    "echo '[[ -z $var4 ]]: '$?\n",
    "echo \"-------------\"\n",
    "[[ -z $var5 ]] #var5, no fue definida. Esto equivale a estar vacía.\n",
    "echo '[[ -z $var5 ]]: '$?\n",
    "echo \"-------------\"\n",
    "[[ -n $var2 ]]\n",
    "echo '[[ -n $var2 ]]: '$?\n",
    "echo \"-------------\"\n",
    "[[ -n $var4 ]]\n",
    "echo '[[ -n $var4 ]]: '$?\n",
    "echo \"-------------\"\n",
    "[[ -n $var5 ]]\n",
    "echo '[[ -n $var5 ]]: '$?"
   ]
  },
  {
   "cell_type": "code",
   "execution_count": 64,
   "metadata": {},
   "outputs": [
    {
     "name": "stdout",
     "output_type": "stream",
     "text": [
      "var=abc\n",
      "-------------\n",
      "[[ $var =~ a ]]: 0\n",
      "-------------\n",
      "[[ $var =~ b ]]: 0\n",
      "-------------\n",
      "[[ $var =~ c ]]: 0\n",
      "-------------\n",
      "[[ $var =~ d ]]: 1\n",
      "-------------\n",
      "[[ $var =~ ^a ]]: 0\n",
      "-------------\n",
      "[[ $var =~ ^b ]]: 1\n",
      "-------------\n",
      "[[ $var =~ ^c ]]: 1\n",
      "-------------\n",
      "[[ $var =~ a$ ]]: 1\n",
      "-------------\n",
      "[[ $var =~ b$ ]]: 1\n",
      "-------------\n",
      "[[ $var =~ c$ ]]: 0\n",
      "-------------\n",
      "[[ $var =~ ab ]]: 0\n",
      "-------------\n",
      "[[ $var =~ ac ]]: 1\n",
      "-------------\n",
      "[[ $var =~ a.c ]]: 0\n"
     ]
    }
   ],
   "source": [
    "var=abc\n",
    "echo 'var=abc'\n",
    "echo \"-------------\"\n",
    "[[ $var =~ a ]]\n",
    "echo '[[ $var =~ a ]]: '$?\n",
    "echo \"-------------\"\n",
    "[[ $var =~ b ]]\n",
    "echo '[[ $var =~ b ]]: '$?\n",
    "echo \"-------------\"\n",
    "[[ $var =~ c ]]\n",
    "echo '[[ $var =~ c ]]: '$?\n",
    "echo \"-------------\"\n",
    "[[ $var =~ d ]]\n",
    "echo '[[ $var =~ d ]]: '$?\n",
    "echo \"-------------\"\n",
    "[[ $var =~ ^a ]]\n",
    "echo '[[ $var =~ ^a ]]: '$?\n",
    "echo \"-------------\"\n",
    "[[ $var =~ ^b ]]\n",
    "echo '[[ $var =~ ^b ]]: '$?\n",
    "echo \"-------------\"\n",
    "[[ $var =~ ^c ]]\n",
    "echo '[[ $var =~ ^c ]]: '$?\n",
    "echo \"-------------\"\n",
    "[[ $var =~ a$ ]]\n",
    "echo '[[ $var =~ a$ ]]: '$?\n",
    "echo \"-------------\"\n",
    "[[ $var =~ b$ ]]\n",
    "echo '[[ $var =~ b$ ]]: '$?\n",
    "echo \"-------------\"\n",
    "[[ $var =~ c$ ]]\n",
    "echo '[[ $var =~ c$ ]]: '$?\n",
    "echo \"-------------\"\n",
    "[[ $var =~ ab ]]\n",
    "echo '[[ $var =~ ab ]]: '$?\n",
    "echo \"-------------\"\n",
    "[[ $var =~ ac ]]\n",
    "echo '[[ $var =~ ac ]]: '$?\n",
    "echo \"-------------\"\n",
    "[[ $var =~ a.c ]]\n",
    "echo '[[ $var =~ a.c ]]: '$?"
   ]
  },
  {
   "cell_type": "code",
   "execution_count": 65,
   "metadata": {},
   "outputs": [
    {
     "name": "stdout",
     "output_type": "stream",
     "text": [
      "0\n"
     ]
    }
   ],
   "source": [
    "#Esto lo usamos para saber si una ruta estaba en la variable de entorno PATH.\n",
    "[[ $PATH =~ /bin ]]\n",
    "echo $?"
   ]
  },
  {
   "cell_type": "markdown",
   "metadata": {},
   "source": [
    "Para saber más de expresiones regulares, pueden consultar [este tutorial](https://blog.desdelinux.net/con-el-terminal-uso-de-expresiones-regulares/#Entrando_en_materia) o [este otro](https://www.adictosaltrabajo.com/2015/01/29/regexsam/)."
   ]
  },
  {
   "cell_type": "markdown",
   "metadata": {},
   "source": [
    "#### Enteros"
   ]
  },
  {
   "cell_type": "markdown",
   "metadata": {},
   "source": [
    "`test` o `[` | `[[` | Comprobación\n",
    ":-- | :-- | :--\n",
    "`-lt` | `-lt` | Menor que... (orden en los enteros).\n",
    "`-le` | `-le` | Menor o igual a... (orden lexicográfico).\n",
    "`-eq` | `-eq` | Igual a...\n",
    "`-ge` | `-ge` | Mayor o igual a...\n",
    "`-gt` | `-gt` | Mayor que...\n",
    "`-ne` | `-ne` | Desigual a..."
   ]
  },
  {
   "cell_type": "code",
   "execution_count": 66,
   "metadata": {},
   "outputs": [
    {
     "name": "stdout",
     "output_type": "stream",
     "text": [
      "var1=1; var2=2; var3=3\n",
      "-------------\n",
      "[ $var1 -lt $var2 ]: 0\n",
      "-------------\n",
      "[ $var2 -lt $var1 ]: 1\n",
      "-------------\n",
      "[ $var2 -lt $var2 ]: 1\n",
      "-------------\n",
      "[ $var1 -gt $var2 ]: 1\n",
      "-------------\n",
      "[ $var2 -gt $var1 ]: 0\n",
      "-------------\n",
      "[ $var2 -gt $var2 ]: 1\n",
      "-------------\n",
      "[ $var1 -le $var2 ]: 0\n",
      "-------------\n",
      "[ $var2 -le $var1 ]: 1\n",
      "-------------\n",
      "[ $var2 -le $var2 ]: 0\n",
      "-------------\n",
      "[ $var1 -ge $var2 ]: 1\n",
      "-------------\n",
      "[ $var2 -ge $var1 ]: 0\n",
      "-------------\n",
      "[ $var2 -ge $var2 ]: 0\n"
     ]
    }
   ],
   "source": [
    "var1=1; var2=2; var3=3\n",
    "echo 'var1=1; var2=2; var3=3'\n",
    "echo \"-------------\"\n",
    "[ $var1 -lt $var2 ]\n",
    "echo '[ $var1 -lt $var2 ]: '$?\n",
    "echo \"-------------\"\n",
    "[ $var2 -lt $var1 ]\n",
    "echo '[ $var2 -lt $var1 ]: '$?\n",
    "echo \"-------------\"\n",
    "[ $var2 -lt $var2 ]\n",
    "echo '[ $var2 -lt $var2 ]: '$?\n",
    "echo \"-------------\"\n",
    "[ $var1 -gt $var2 ]\n",
    "echo '[ $var1 -gt $var2 ]: '$?\n",
    "echo \"-------------\"\n",
    "[ $var2 -gt $var1 ]\n",
    "echo '[ $var2 -gt $var1 ]: '$?\n",
    "echo \"-------------\"\n",
    "[ $var2 -gt $var2 ]\n",
    "echo '[ $var2 -gt $var2 ]: '$?\n",
    "echo \"-------------\"\n",
    "[ $var1 -le $var2 ]\n",
    "echo '[ $var1 -le $var2 ]: '$?\n",
    "echo \"-------------\"\n",
    "[ $var2 -le $var1 ]\n",
    "echo '[ $var2 -le $var1 ]: '$?\n",
    "echo \"-------------\"\n",
    "[ $var2 -le $var2 ]\n",
    "echo '[ $var2 -le $var2 ]: '$?\n",
    "echo \"-------------\"\n",
    "[ $var1 -ge $var2 ]\n",
    "echo '[ $var1 -ge $var2 ]: '$?\n",
    "echo \"-------------\"\n",
    "[ $var2 -ge $var1 ]\n",
    "echo '[ $var2 -ge $var1 ]: '$?\n",
    "echo \"-------------\"\n",
    "[ $var2 -ge $var2 ]\n",
    "echo '[ $var2 -ge $var2 ]: '$?"
   ]
  },
  {
   "cell_type": "markdown",
   "metadata": {},
   "source": [
    "__NOTA IMPORTANTE__\n",
    "\n",
    "No se deben usar los operadores destinados a trabajar con cadenas, para comprobaciones numéricas.\n",
    "\n",
    "En algunos casos, los enteros se pueden tratar como cadenas:"
   ]
  },
  {
   "cell_type": "code",
   "execution_count": 67,
   "metadata": {},
   "outputs": [
    {
     "name": "stdout",
     "output_type": "stream",
     "text": [
      "[ 14 \\> 12 ]: 0\n",
      "[ 14 \\< 12 ]: 1\n",
      "[ 14 = 12 ]: 1\n",
      "[ 14 = 12 ]: 0\n",
      "[ 14 != 12 ]: 0\n"
     ]
    }
   ],
   "source": [
    "[ 14 \\> 12 ]\n",
    "echo '[ 14 \\> 12 ]: '$?\n",
    "[ 14 \\< 12 ]\n",
    "echo '[ 14 \\< 12 ]: '$?\n",
    "[ 14 = 12 ]\n",
    "echo '[ 14 = 12 ]: '$?\n",
    "[ 12 = 12 ]\n",
    "echo '[ 14 = 12 ]: '$?\n",
    "[ 14 != 12 ]\n",
    "echo '[ 14 != 12 ]: '$?"
   ]
  },
  {
   "cell_type": "code",
   "execution_count": 68,
   "metadata": {},
   "outputs": [
    {
     "name": "stdout",
     "output_type": "stream",
     "text": [
      "[[ 14 > 12 ]]: 0\n",
      "[[ 14 < 12 ]]: 1\n",
      "[[ 14 = 12 ]]: 1\n",
      "[[ 12 = 12 ]]: 0\n",
      "[[ 14 != 12 ]]: 0\n"
     ]
    }
   ],
   "source": [
    "[[ 14 > 12 ]]\n",
    "echo '[[ 14 > 12 ]]: '$?\n",
    "[[ 14 < 12 ]]\n",
    "echo '[[ 14 < 12 ]]: '$?\n",
    "[[ 14 = 12 ]]\n",
    "echo '[[ 14 = 12 ]]: '$?\n",
    "[[ 12 = 12 ]]\n",
    "echo '[[ 12 = 12 ]]: '$?\n",
    "[[ 14 != 12 ]]\n",
    "echo '[[ 14 != 12 ]]: '$?"
   ]
  },
  {
   "cell_type": "markdown",
   "metadata": {},
   "source": [
    "En otros no:"
   ]
  },
  {
   "cell_type": "code",
   "execution_count": 69,
   "metadata": {},
   "outputs": [
    {
     "name": "stdout",
     "output_type": "stream",
     "text": [
      "[ 11 = 012 ]: 1\n",
      "[[ 12 = 012 ]]: 1\n",
      "[ 11 = 012 ]: 0\n",
      "[[ 12 = 012 ]]: 1\n",
      "[[ 012 = 0012 ]]: 0\n"
     ]
    }
   ],
   "source": [
    "[ 12 = 012 ]\n",
    "echo '[ 11 = 012 ]: '$? #Las cadenas no son iguales.\n",
    "[[ 12 = 012 ]]\n",
    "echo '[[ 12 = 012 ]]: '$?\n",
    "[ 12 -eq 012 ]\n",
    "echo '[ 11 = 012 ]: '$? #No distingue entre enteros octales y enteros decimales.\n",
    "[[ 12 -eq 012 ]]\n",
    "echo '[[ 12 = 012 ]]: '$? #Un entero octal es distinto de un entero decimal.\n",
    "echo '[[ 012 = 0012 ]]: '$? #Estos dos octales son iguales, pero como cadenas no."
   ]
  },
  {
   "cell_type": "markdown",
   "metadata": {},
   "source": [
    "Supongamos que quiero estar seguro de que el conjunto de permisos de mi directorio personal es el correcto (0775)."
   ]
  },
  {
   "cell_type": "code",
   "execution_count": 70,
   "metadata": {},
   "outputs": [
    {
     "name": "stdout",
     "output_type": "stream",
     "text": [
      "1\n",
      "1\n"
     ]
    }
   ],
   "source": [
    "#No funciona.\n",
    "[ $(stat -c \"%a\" ~) = 0755 ]\n",
    "echo $?\n",
    "[[ $(stat -c \"%a\" ~) = 0755 ]]\n",
    "echo $?"
   ]
  },
  {
   "cell_type": "code",
   "execution_count": 71,
   "metadata": {},
   "outputs": [
    {
     "name": "stdout",
     "output_type": "stream",
     "text": [
      "0\n",
      "1\n"
     ]
    }
   ],
   "source": [
    "[ $(stat -c \"%a\" ~) -eq 0755 ] #Funciona, pero no debería.\n",
    "echo $?\n",
    "[[ $(stat -c \"%a\" ~) -eq 0755 ]] #No funciona, porque stat, me lo da en enteros.\n",
    "echo $?"
   ]
  },
  {
   "cell_type": "markdown",
   "metadata": {},
   "source": [
    "Pero con números negativos no funciona el orden lexicográfico."
   ]
  },
  {
   "cell_type": "code",
   "execution_count": 72,
   "metadata": {},
   "outputs": [
    {
     "name": "stdout",
     "output_type": "stream",
     "text": [
      "0\n",
      "1\n",
      "1\n"
     ]
    }
   ],
   "source": [
    "[ -4 -lt -3 ]\n",
    "echo $?\n",
    "[ -4 \\< -3 ]\n",
    "echo $?\n",
    "[[ -4 < -3 ]]\n",
    "echo $?"
   ]
  },
  {
   "cell_type": "markdown",
   "metadata": {},
   "source": [
    "#### Archivos"
   ]
  },
  {
   "cell_type": "markdown",
   "metadata": {},
   "source": [
    "`test`, `[` y `[[` | Comprobación\n",
    ":-- | :--\n",
    "`-e`| Existe el archivo (no importa el tipo).\n",
    "`-d`| Existe y es un directorio.\n",
    "`-f`| Existe y es un archivo regular.\n",
    "`-h` o `-L` | Existe y es un enlace simbólico.\n",
    "`-ef` | El manual dice que es para comprobar si comparten el mismo inodo. Lo cierto es que da 0, si están enlazados (ya sea un enlace duro o simbólico).\n",
    "`-s` | El archivo existe y no está vacío.\n",
    "\n",
    "Hay muchas más comprobaciones, relacionadas con antigüedad, permisos, etc. Para más información consultar el manual."
   ]
  },
  {
   "cell_type": "code",
   "execution_count": 73,
   "metadata": {},
   "outputs": [],
   "source": [
    "x-terminal-emulator --noclose -e 'man test' #Para ver el manual."
   ]
  },
  {
   "cell_type": "markdown",
   "metadata": {},
   "source": [
    "Creamos algunos archivos en `/tmp`."
   ]
  },
  {
   "cell_type": "code",
   "execution_count": 74,
   "metadata": {
    "scrolled": false
   },
   "outputs": [
    {
     "name": "stdout",
     "output_type": "stream",
     "text": [
      "/tmp/dir1\n",
      "├── [1709640    5]  arch1\n",
      "├── [1709640    5]  arch1-hl\n",
      "├── [1736862   15]  arch1-sl -> /tmp/dir1/arch1\n",
      "├── [1709647    0]  arch2\n",
      "└── [1709576 4.0K]  dir2\n",
      "\n",
      "1 directory, 4 files\n"
     ]
    }
   ],
   "source": [
    "mkdir -p /tmp/dir1/dir2\n",
    "echo \"Hola\" > /tmp/dir1/arch1\n",
    "touch /tmp/dir1/arch2\n",
    "ln -s /tmp/dir1/arch1 /tmp/dir1/arch1-sl\n",
    "ln /tmp/dir1/arch1 /tmp/dir1/arch1-hl\n",
    "tree --inodes -h /tmp/dir1"
   ]
  },
  {
   "cell_type": "code",
   "execution_count": 75,
   "metadata": {},
   "outputs": [
    {
     "name": "stdout",
     "output_type": "stream",
     "text": [
      "[ -e /tmp/dir1/arch1 ]: 0\n",
      "[ -f /tmp/dir1/arch1 ]: 0\n",
      "[ -d /tmp/dir1/arch1 ]: 1\n",
      "[ -L /tmp/dir1/arch1 ]: 1\n",
      "[ -h /tmp/dir1/arch1 ]: 1\n",
      "[ -s /tmp/dir1/arch1 ]: 0\n"
     ]
    }
   ],
   "source": [
    "#Esto funciona tanto con [ como con [[.\n",
    "#Probaré sólo con [.\n",
    "\n",
    "[ -e /tmp/dir1/arch1 ]\n",
    "echo '[ -e /tmp/dir1/arch1 ]: '$?\n",
    "[ -f /tmp/dir1/arch1 ] #Es un archivo regular.\n",
    "echo '[ -f /tmp/dir1/arch1 ]: '$?\n",
    "[ -d /tmp/dir1/arch1 ]\n",
    "echo '[ -d /tmp/dir1/arch1 ]: '$?\n",
    "[ -L /tmp/dir1/arch1 ]\n",
    "echo '[ -L /tmp/dir1/arch1 ]: '$?\n",
    "[ -h /tmp/dir1/arch1 ]\n",
    "echo '[ -h /tmp/dir1/arch1 ]: '$?\n",
    "[ -s /tmp/dir1/arch1 ] #No está vacío.\n",
    "echo '[ -s /tmp/dir1/arch1 ]: '$?"
   ]
  },
  {
   "cell_type": "code",
   "execution_count": 76,
   "metadata": {},
   "outputs": [
    {
     "name": "stdout",
     "output_type": "stream",
     "text": [
      "[ -s /tmp/dir1/arch2 ]: 1\n"
     ]
    }
   ],
   "source": [
    "[ -s /tmp/dir1/arch2 ] #No tiene contenido.\n",
    "echo '[ -s /tmp/dir1/arch2 ]: '$?"
   ]
  },
  {
   "cell_type": "code",
   "execution_count": 77,
   "metadata": {},
   "outputs": [
    {
     "name": "stdout",
     "output_type": "stream",
     "text": [
      "[ -e /tmp/dir1 ]: 0\n",
      "[ -f /tmp/dir1]: 1\n",
      "[ -d /tmp/dir11 ]: 0\n",
      "[ -L /tmp/dir1/arch1 ]: 1\n",
      "[ -h /tmp/dir1 ]: 1\n",
      "[ -s /tmp/dir1 ]: 0\n"
     ]
    }
   ],
   "source": [
    "[ -e /tmp/dir1 ]\n",
    "echo '[ -e /tmp/dir1 ]: '$?\n",
    "[ -f /tmp/dir1 ]\n",
    "echo '[ -f /tmp/dir1]: '$?\n",
    "[ -d /tmp/dir1 ] #Es un directorio.\n",
    "echo '[ -d /tmp/dir11 ]: '$?\n",
    "[ -L /tmp/dir1 ]\n",
    "echo '[ -L /tmp/dir1/arch1 ]: '$?\n",
    "[ -h /tmp/dir1 ]\n",
    "echo '[ -h /tmp/dir1 ]: '$?\n",
    "[ -s /tmp/dir1/arch1 ] #No está vacío.\n",
    "echo '[ -s /tmp/dir1 ]: '$?"
   ]
  },
  {
   "cell_type": "code",
   "execution_count": 78,
   "metadata": {},
   "outputs": [
    {
     "name": "stdout",
     "output_type": "stream",
     "text": [
      "[ -s /tmp/dir1/dir2 ]: 1\n"
     ]
    }
   ],
   "source": [
    "#Los directorios nunca están vacíos, ya que siempre contienen a «.» y a «..».\n",
    "[ -s /tmp/dir1/arch2 ] \n",
    "echo '[ -s /tmp/dir1/dir2 ]: '$?"
   ]
  },
  {
   "cell_type": "code",
   "execution_count": 79,
   "metadata": {},
   "outputs": [
    {
     "name": "stdout",
     "output_type": "stream",
     "text": [
      "[ -e /tmp/dir1/arch1-sl ]: 0\n",
      "[ -f /tmp/dir1/arch1-sl ]: 0\n",
      "[ -d /tmp/dir1/arch1-sl ]: 1\n",
      "[ -L /tmp/dir1/arch1-sl ]: 0\n",
      "[ -h /tmp/dir1/arch1-sl ]: 0\n",
      "[ -s /tmp/dir1/arch1-sl ]: 0\n"
     ]
    }
   ],
   "source": [
    "[ -e /tmp/dir1/arch1-sl ]\n",
    "echo '[ -e /tmp/dir1/arch1-sl ]: '$?\n",
    "[ -f /tmp/dir1/arch1-sl ] #Es un archivo regular.\n",
    "echo '[ -f /tmp/dir1/arch1-sl ]: '$?\n",
    "[ -d /tmp/dir1/arch1-sl ]\n",
    "echo '[ -d /tmp/dir1/arch1-sl ]: '$?\n",
    "[ -L /tmp/dir1/arch1-sl ] #Es un enlace simbólico.\n",
    "echo '[ -L /tmp/dir1/arch1-sl ]: '$?\n",
    "[ -h /tmp/dir1/arch1-sl ] #Es un enlace simbólico.\n",
    "echo '[ -h /tmp/dir1/arch1-sl ]: '$?\n",
    "[ -s /tmp/dir1/arch1-sl ] #No están vacíos, ya que contienen la referencia al original.\n",
    "echo '[ -s /tmp/dir1/arch1-sl ]: '$?"
   ]
  },
  {
   "cell_type": "code",
   "execution_count": 80,
   "metadata": {},
   "outputs": [
    {
     "name": "stdout",
     "output_type": "stream",
     "text": [
      "[ -e /tmp/dir1/arch3 ]: 1\n"
     ]
    }
   ],
   "source": [
    "[ -e /tmp/dir1/arch3 ] #No creamos ningún arch3.\n",
    "echo '[ -e /tmp/dir1/arch3 ]: '$?"
   ]
  },
  {
   "cell_type": "code",
   "execution_count": 81,
   "metadata": {},
   "outputs": [
    {
     "name": "stdout",
     "output_type": "stream",
     "text": [
      "[ /tmp/dir1/arch1 -ef /tmp/dir1/arch1-sl ]: 0\n",
      "[ /tmp/dir1/arch1 -ef /tmp/dir1/aarch1-hl ]: 0\n",
      "[[ /tmp/dir1/arch1 -ef /tmp/dir1/arch1-sl ]]: 0\n",
      "[[ /tmp/dir1/arch1 -ef /tmp/dir1/aarch1-hl ]]: 0\n"
     ]
    }
   ],
   "source": [
    "#Están enlazados.\n",
    "[ /tmp/dir1/arch1 -ef /tmp/dir1/arch1-sl ] #No son enlaces duros.\n",
    "echo '[ /tmp/dir1/arch1 -ef /tmp/dir1/arch1-sl ]: '$?\n",
    "[ /tmp/dir1/arch1 -ef /tmp/dir1/arch1-hl ] #No son enlaces duros.\n",
    "echo '[ /tmp/dir1/arch1 -ef /tmp/dir1/aarch1-hl ]: '$?\n",
    "[[ /tmp/dir1/arch1 -ef /tmp/dir1/arch1-sl ]]\n",
    "echo '[[ /tmp/dir1/arch1 -ef /tmp/dir1/arch1-sl ]]: '$?\n",
    "[[ /tmp/dir1/arch1 -ef /tmp/dir1/arch1-hl ]]\n",
    "echo '[[ /tmp/dir1/arch1 -ef /tmp/dir1/aarch1-hl ]]: '$?"
   ]
  },
  {
   "cell_type": "markdown",
   "metadata": {},
   "source": [
    "#### Concatenando pruebas."
   ]
  },
  {
   "cell_type": "markdown",
   "metadata": {},
   "source": [
    "Para `test` existen los operadores `-a` (__and__) y `-o` (__or__) que ya casi están en desuso. Además se pueden agrupar expresiones con `\\(` y `\\)`."
   ]
  },
  {
   "cell_type": "code",
   "execution_count": 82,
   "metadata": {},
   "outputs": [
    {
     "name": "stdout",
     "output_type": "stream",
     "text": [
      "0\n"
     ]
    }
   ],
   "source": [
    "#1 < 2 o 2 < 1.\n",
    "[ \\( 1 -lt 2 \\) -o \\( 2 -lt 1 \\) ]\n",
    "echo $?"
   ]
  },
  {
   "cell_type": "code",
   "execution_count": 83,
   "metadata": {},
   "outputs": [
    {
     "name": "stdout",
     "output_type": "stream",
     "text": [
      "1\n"
     ]
    }
   ],
   "source": [
    "#1 < 2 y 2 < 1.\n",
    "[ \\( 1 -lt 2 \\) -a \\( 2 -lt 1 \\) ]\n",
    "echo $?"
   ]
  },
  {
   "cell_type": "markdown",
   "metadata": {},
   "source": [
    "Esta forma ya casi no se usa. En su lugar se suele hacer lo mismo de esta manera:"
   ]
  },
  {
   "cell_type": "code",
   "execution_count": 84,
   "metadata": {},
   "outputs": [
    {
     "name": "stdout",
     "output_type": "stream",
     "text": [
      "0\n",
      "1\n"
     ]
    }
   ],
   "source": [
    "#1 < 2 o 2 < 1.\n",
    "[ 1 -lt 2 ] || [ 2 -lt 1 ]\n",
    "echo $?\n",
    "\n",
    "#1 < 2 y 2 < 1.\n",
    "[ 1 -lt 2 ] && [ 2 -lt 1 ]\n",
    "echo $?"
   ]
  },
  {
   "cell_type": "markdown",
   "metadata": {},
   "source": [
    "También es posible agruparlos:"
   ]
  },
  {
   "cell_type": "code",
   "execution_count": 85,
   "metadata": {},
   "outputs": [
    {
     "name": "stdout",
     "output_type": "stream",
     "text": [
      "0\n"
     ]
    }
   ],
   "source": [
    "#(1 < 2 y 2 < 1) o 1 = 1.\n",
    "{ [ 1 -lt 2 ] && [ 2 -lt 1 ]; } || [ 1 -eq 1 ] #Es necesario el «;» antes del cierre «}».\n",
    "echo $?"
   ]
  },
  {
   "cell_type": "code",
   "execution_count": 86,
   "metadata": {},
   "outputs": [
    {
     "name": "stdout",
     "output_type": "stream",
     "text": [
      "1\n"
     ]
    }
   ],
   "source": [
    "#1 < 2 y (2 < 1 o 1 = -1).\n",
    "[ 1 -lt 2 ] && { [ 2 -lt 1 ] || [ 1 -eq -1 ]; }\n",
    "echo $?"
   ]
  },
  {
   "cell_type": "markdown",
   "metadata": {},
   "source": [
    "Con `[[`, todo es más cómodo y natural."
   ]
  },
  {
   "cell_type": "code",
   "execution_count": 87,
   "metadata": {},
   "outputs": [
    {
     "name": "stdout",
     "output_type": "stream",
     "text": [
      "0\n",
      "1\n",
      "0\n",
      "1\n"
     ]
    }
   ],
   "source": [
    "#1 < 2 o 2 < 1.\n",
    "[[ 1 -lt 2 || 2 -lt 1 ]]\n",
    "echo $?\n",
    "\n",
    "#1 < 2 y 2 < 1.\n",
    "[[ 1 -lt 2 &&  2 -lt 1 ]]\n",
    "echo $?\n",
    "\n",
    "#(1 < 2 y 2 < 1) o 1 = 1.\n",
    "[[ ( 1 -lt 2 && 2 -lt 1 ) || 1 -eq 1 ]]\n",
    "echo $?\n",
    "\n",
    "#1 < 2 y (2 < 1 o 1 = -1).\n",
    "[[ 1 -lt 2 && ( 2 -lt 1 || 1 -eq -1 ) ]]\n",
    "echo $?"
   ]
  },
  {
   "cell_type": "markdown",
   "metadata": {},
   "source": [
    "De ese modo se pueden combinar todo tipo de comprobaciones."
   ]
  },
  {
   "cell_type": "markdown",
   "metadata": {},
   "source": [
    "Para finalizar, con `!` se puede negar el test:"
   ]
  },
  {
   "cell_type": "code",
   "execution_count": 88,
   "metadata": {},
   "outputs": [
    {
     "name": "stdout",
     "output_type": "stream",
     "text": [
      "0\n",
      "-----------------\n",
      "1\n",
      "-----------------\n",
      "1\n",
      "-----------------\n",
      "1\n"
     ]
    }
   ],
   "source": [
    "[ 1 -lt 2 ]\n",
    "echo $?\n",
    "echo \"-----------------\"\n",
    "test ! 1 -lt 2\n",
    "echo $?\n",
    "echo \"-----------------\"\n",
    "[ ! 1 -lt 2 ]\n",
    "echo $?\n",
    "echo \"-----------------\"\n",
    "[[ ! 1 -lt 2 ]]\n",
    "echo $?"
   ]
  },
  {
   "cell_type": "markdown",
   "metadata": {},
   "source": [
    "### Estructuras de control de flujo."
   ]
  },
  {
   "cell_type": "markdown",
   "metadata": {},
   "source": [
    "#### `if`"
   ]
  },
  {
   "cell_type": "markdown",
   "metadata": {},
   "source": [
    "### Estructuras de control de flujo.\n",
    "\n",
    "La estructura `if` funciona de manera similar a que en el resto de lenguajes.\n",
    "\n",
    "```bash\n",
    "if condición-1; then\n",
    "    #Contenido si se cumple la con condición-1.\n",
    "elif condición-2; then\n",
    "    #Contenido si se cumple la con condición-2.\n",
    "    .\n",
    "    .\n",
    "    .\n",
    "elif condición-n; then\n",
    "    #Contenido si se cumple la con condición-n.  \n",
    "else\n",
    "    #Contenido si no se cumple ninguna de las anteriores.\n",
    "fi\n",
    "```\n",
    "`then` se puede colocar en la siguiente linea:\n",
    "\n",
    "```bash\n",
    "if condición-1\n",
    "then\n",
    "    #Contenido si se cumple la con condición-1.\n",
    "elif condición-2\n",
    "then\n",
    "    #Contenido si se cumple la con condición-2.\n",
    "    .\n",
    "    .\n",
    "    .\n",
    "elif condición-n\n",
    "then\n",
    "    #Contenido si se cumple la con condición-n.  \n",
    "else\n",
    "    #Contenido si no se cumple ninguna de las anteriores.\n",
    "fi\n",
    "```\n",
    "Los bloques `elif` y `else` son opcionales y se pueden usar tantos `elif` como sea necesario."
   ]
  },
  {
   "cell_type": "markdown",
   "metadata": {},
   "source": [
    "Ejemplo:"
   ]
  },
  {
   "cell_type": "code",
   "execution_count": 89,
   "metadata": {},
   "outputs": [
    {
     "name": "stdout",
     "output_type": "stream",
     "text": [
      "hola\n"
     ]
    }
   ],
   "source": [
    "#Se usa el estado de salida de la condición, para determinar el flujo.\n",
    "if true; then\n",
    "    echo hola\n",
    "fi\n",
    "\n",
    "if false; then\n",
    "    echo nada de hola\n",
    "fi"
   ]
  },
  {
   "cell_type": "code",
   "execution_count": 90,
   "metadata": {},
   "outputs": [
    {
     "name": "stdout",
     "output_type": "stream",
     "text": [
      "hola\n"
     ]
    },
    {
     "ename": "",
     "evalue": "1",
     "output_type": "error",
     "traceback": []
    }
   ],
   "source": [
    "#En casos sencillos, se puede usar la evaluación condicional.\n",
    "#Es totalmente equivalente.\n",
    "true && echo hola\n",
    "false && echo nada de hola"
   ]
  },
  {
   "cell_type": "code",
   "execution_count": 91,
   "metadata": {},
   "outputs": [
    {
     "name": "stdout",
     "output_type": "stream",
     "text": [
      "hola\n"
     ]
    }
   ],
   "source": [
    "var=\"Saludo\"\n",
    "\n",
    "if [[ $var = \"Saludo\" ]] ; then\n",
    "    echo hola\n",
    "else\n",
    "    echo nada de hola\n",
    "fi"
   ]
  },
  {
   "cell_type": "code",
   "execution_count": 92,
   "metadata": {},
   "outputs": [
    {
     "name": "stdout",
     "output_type": "stream",
     "text": [
      "nada de hola\n"
     ]
    }
   ],
   "source": [
    "var=\"No saludo aludo\"\n",
    "\n",
    "if [[ $var = \"Saludo\" ]] ; then\n",
    "    echo hola\n",
    "else\n",
    "    echo nada de hola\n",
    "fi"
   ]
  },
  {
   "cell_type": "code",
   "execution_count": 93,
   "metadata": {},
   "outputs": [
    {
     "name": "stdout",
     "output_type": "stream",
     "text": [
      "hola\n"
     ]
    }
   ],
   "source": [
    "#De igual manera:\n",
    "var=\"Saludo\"\n",
    "[[ $var = \"Saludo\" ]] && echo hola || echo nada de hola"
   ]
  },
  {
   "cell_type": "code",
   "execution_count": 94,
   "metadata": {},
   "outputs": [
    {
     "name": "stdout",
     "output_type": "stream",
     "text": [
      "nada de hola\n"
     ]
    }
   ],
   "source": [
    "var=\"No saludo aludo\"\n",
    "[[ $var = \"Saludo\" ]] && echo hola || echo nada de hola"
   ]
  },
  {
   "cell_type": "code",
   "execution_count": 95,
   "metadata": {},
   "outputs": [
    {
     "name": "stdout",
     "output_type": "stream",
     "text": [
      "es 1\n",
      "-----------------\n",
      "es 2\n",
      "-----------------\n",
      "ni 1, ni 2\n"
     ]
    }
   ],
   "source": [
    "var=\"1\"\n",
    "\n",
    "if [[ $var = \"1\" ]] ; then\n",
    "    echo \"es 1\"\n",
    "elif [[ $var = \"2\" ]] ; then\n",
    "    echo \"es 2\"\n",
    "else\n",
    "    echo \"ni 1, ni 2\"\n",
    "fi\n",
    "\n",
    "echo \"-----------------\"\n",
    "\n",
    "var=\"2\"\n",
    "\n",
    "if [[ $var = \"1\" ]] ; then\n",
    "    echo \"es 1\"\n",
    "elif [[ $var = \"2\" ]] ; then\n",
    "    echo \"es 2\"\n",
    "else\n",
    "    echo \"ni 1, ni 2\"\n",
    "fi\n",
    "\n",
    "echo \"-----------------\"\n",
    "\n",
    "var=\"33\"\n",
    "\n",
    "if [[ $var = \"1\" ]] ; then\n",
    "    echo \"es 1\"\n",
    "elif [[ $var = \"2\" ]] ; then\n",
    "    echo \"es 2\"\n",
    "else\n",
    "    echo \"ni 1, ni 2\"\n",
    "fi"
   ]
  },
  {
   "cell_type": "code",
   "execution_count": 96,
   "metadata": {},
   "outputs": [
    {
     "name": "stdout",
     "output_type": "stream",
     "text": [
      "es 1\n",
      "-----------------\n",
      "es 3 ]\n",
      "-----------------\n",
      "ni 1, ni 2\n"
     ]
    }
   ],
   "source": [
    "#De igual forma:\n",
    "var=\"1\"\n",
    "[[ $var = \"1\" ]] && echo \"es 1\" || { [[ $var = \"2\" ]] && echo \"es 3\" ]; } || echo \"ni 1, ni 2\"\n",
    "echo \"-----------------\"\n",
    "var=\"2\"\n",
    "[[ $var = \"1\" ]] && echo \"es 1\" || { [[ $var = \"2\" ]] && echo \"es 3\" ]; } || echo \"ni 1, ni 2\"\n",
    "echo \"-----------------\"\n",
    "var=\"33\"\n",
    "[[ $var = \"1\" ]] && echo \"es 1\" || { [[ $var = \"2\" ]] && echo \"es 3\" ]; } || echo \"ni 1, ni 2\""
   ]
  },
  {
   "cell_type": "code",
   "execution_count": 97,
   "metadata": {},
   "outputs": [
    {
     "name": "stdout",
     "output_type": "stream",
     "text": [
      "No se puede escribir en /root\n"
     ]
    }
   ],
   "source": [
    "if mkdir /root/dir1 2>/dev/null; then\n",
    "    echo \"Sé se puede escribir en /root\"\n",
    "else\n",
    "    echo \"No se puede escribir en /root\"\n",
    "fi"
   ]
  },
  {
   "cell_type": "code",
   "execution_count": 98,
   "metadata": {},
   "outputs": [
    {
     "name": "stdout",
     "output_type": "stream",
     "text": [
      "Sé se puede escribir en /tmp/dir1/dir3\n"
     ]
    }
   ],
   "source": [
    "if mkdir /tmp/dir1/dir3 2>/dev/null; then\n",
    "    echo \"Sé se puede escribir en /tmp/dir1/dir3\"\n",
    "else\n",
    "    echo \"No se puede escribir en /tmp/dir1/dir3\"\n",
    "fi"
   ]
  },
  {
   "cell_type": "code",
   "execution_count": 99,
   "metadata": {},
   "outputs": [
    {
     "name": "stdout",
     "output_type": "stream",
     "text": [
      "Se creó el archivo ejecutable «scp1.sh».\n",
      "\n",
      "El archivo «scp1.sh» está contenido en:\n",
      "\n",
      "/home/luis/Proyecto-julia/Curso/Pláticas/Plática-9-Introducción-a-Shell-Scripting-part-3/script\n",
      "\n",
      "El contenido de «scp1.sh» es:\n",
      "---------------------------\n",
      "\n",
      "#!/usr/bin/env bash\n",
      "\n",
      "if [[ $(id -u) != 0 ]]; then\n",
      "   echo \"El archivo necesita permiso de root.\"\n",
      "   exit\n",
      "fi\n",
      "\n",
      "echo \"No se muestra\"\n",
      "\n",
      "\n",
      "---------------------------\n",
      "Fin del contenido de «scp1.sh»\n"
     ]
    }
   ],
   "source": [
    "n_scp=\"scp1\"\n",
    "\n",
    "scp -i $n_scp << \"fin\"\n",
    "\n",
    "if [[ $(id -u) != 0 ]]; then\n",
    "   echo \"El archivo necesita permiso de root.\"\n",
    "   exit\n",
    "fi\n",
    "\n",
    "echo \"No se muestra\"\n",
    "\n",
    "fin\n",
    "\n",
    "exc $n_scp"
   ]
  },
  {
   "cell_type": "code",
   "execution_count": 100,
   "metadata": {},
   "outputs": [],
   "source": [
    "exc2(){\n",
    "    x-terminal-emulator --noclose -e \"sudo ./$1.sh\"\n",
    "}\n",
    "\n",
    "n_scp=\"scp1\"\n",
    "\n",
    "scp $n_scp << \"fin\"\n",
    "\n",
    "if [[ $(id -u) != 0 ]]; then\n",
    "   echo \"El archivo necesita permiso de root.\"\n",
    "   exit\n",
    "fi\n",
    "\n",
    "echo \"Se muestra sólo si es root.\"\n",
    "\n",
    "fin\n",
    "\n",
    "exc2 $n_scp"
   ]
  },
  {
   "cell_type": "markdown",
   "metadata": {},
   "source": [
    "Este fue el código que se usó para modificar la variable __PATH__:"
   ]
  },
  {
   "cell_type": "code",
   "execution_count": null,
   "metadata": {},
   "outputs": [],
   "source": [
    "#Modificado manualmente por el administrador\n",
    "#Añade la ruta hacia julia.\n",
    "if [[ ! $PATH =~ \"/opt/julia/julia-1.5.2/bin\" ]]; then\n",
    "    PATH+=\":/opt/julia/julia-1.5.2/bin\"\n",
    "fi"
   ]
  },
  {
   "cell_type": "markdown",
   "metadata": {},
   "source": [
    "#### `case`"
   ]
  },
  {
   "cell_type": "markdown",
   "metadata": {},
   "source": [
    "La estructura general de case es la siguiente.\n",
    "\n",
    "```bash\n",
    "case $var in\n",
    "    varor1)\n",
    "    #caso 1.\n",
    "    ;;\n",
    "    varor2 | valor 3)\n",
    "    #caso 2.\n",
    "    ;;\n",
    "    «patron»)\n",
    "    #caso 3.\n",
    "    ;;\n",
    "    varor4)\n",
    "    #caso 4. Este caso no es excluyente, debido al «&».\n",
    "    ;;&\n",
    "    *)\n",
    "    #En cualquier otro caso.\n",
    "    ;; \n",
    "esac\n",
    "```\n",
    "Al llegar a un `;;`, se sale de la estructura, a menos que esté acompañado de un `&`. En ese caso continúa al siguiente bloque."
   ]
  },
  {
   "cell_type": "markdown",
   "metadata": {},
   "source": [
    "Supongamos que queremos comprobar la variable `numero`:\n",
    "\n",
    "```bash\n",
    "case $numero in\n",
    "    1)\n",
    "    echo \"es 1\"\n",
    "    ;;\n",
    "    2 | 3)\n",
    "    echo \"es 2 o 3\"\n",
    "    ;;\n",
    "    1*) #Esto es una regularidad.\n",
    "    echo \"comienza con 1\"\n",
    "    ;;& #Esto provoca que siga hacia abajo.\n",
    "    *5) #Esto es una regularidad.\n",
    "     echo \"termina con 5\"\n",
    "    ;;& #Esto provoca que siga hacia abajo.\n",
    "    *)\n",
    "    echo \"Ni es 1, ni es 2, ni es 3.\"\n",
    "    ;; \n",
    "esac\n",
    "```\n",
    "La almacenaré en una función, para evaluarla varias veces."
   ]
  },
  {
   "cell_type": "code",
   "execution_count": 102,
   "metadata": {},
   "outputs": [
    {
     "name": "stdout",
     "output_type": "stream",
     "text": [
      "El número 1:\n",
      "es 1\n",
      "----------\n",
      "El número 2:\n",
      "es 2 o 3\n",
      "----------\n",
      "El número 3:\n",
      "es 2 o 3\n",
      "----------\n",
      "El número 4:\n",
      "Ni es 1, ni es 2, ni es 3.\n",
      "----------\n",
      "El número 10:\n",
      "comienza con 1\n",
      "Ni es 1, ni es 2, ni es 3.\n",
      "----------\n",
      "El número 15:\n",
      "comienza con 1\n",
      "termina con 5\n",
      "Ni es 1, ni es 2, ni es 3.\n"
     ]
    }
   ],
   "source": [
    "mi_case(){\n",
    "numero=$1 #Esto no es necesario, su puede poner directamente $1 en el case.\n",
    "    echo \"El número $numero:\"\n",
    "    case $numero in\n",
    "        1)\n",
    "        echo \"es 1\"\n",
    "        ;;\n",
    "        2 | 3)\n",
    "        echo \"es 2 o 3\"\n",
    "        ;;\n",
    "        1*) #Esto es una regularidad.\n",
    "        echo \"comienza con 1\"\n",
    "        ;;& #Esto provoca que siga hacia abajo.\n",
    "        *5) #Esto es una regularidad.\n",
    "        echo \"termina con 5\"\n",
    "        ;;& #Esto provoca que siga hacia abajo.\n",
    "        *)\n",
    "        echo \"Ni es 1, ni es 2, ni es 3.\"\n",
    "        ;; \n",
    "    esac\n",
    "}\n",
    "\n",
    "mi_case 1\n",
    "echo \"----------\"\n",
    "mi_case 2\n",
    "echo \"----------\"\n",
    "mi_case 3\n",
    "echo \"----------\"\n",
    "mi_case 4\n",
    "echo \"----------\"\n",
    "mi_case 10\n",
    "echo \"----------\"\n",
    "mi_case 15"
   ]
  },
  {
   "cell_type": "code",
   "execution_count": 105,
   "metadata": {},
   "outputs": [
    {
     "name": "stdout",
     "output_type": "stream",
     "text": [
      "La info:\n",
      "No hay parámetros.\n",
      "----------\n",
      "La info:\n",
      "No hay parámetros.\n",
      "----------\n",
      "La ayuda es:\n",
      "No hay parámetros.\n",
      "----------\n",
      "La ayuda es:\n",
      "No hay parámetros.\n",
      "----------\n",
      "Opción no válida\n",
      "----------\n",
      "La info:\n",
      "Los parámetros son:\n",
      "Hola nada\n"
     ]
    }
   ],
   "source": [
    "fun(){\n",
    "    local info=false\n",
    "    local ayuda=false\n",
    "    local error=false\n",
    "    \n",
    "    case $1 in\n",
    "        -i | --info)\n",
    "        info=true\n",
    "        shift #Se elimina el parámetro de tipo opción.\n",
    "        ;;\n",
    "        -h | --help)\n",
    "        ayuda=true\n",
    "        shift\n",
    "        ;;\n",
    "        -*)\n",
    "        error=true\n",
    "        ;;\n",
    "        *)\n",
    "        ;; \n",
    "    esac\n",
    "   \n",
    "    if $error; then\n",
    "        echo \"Opción no válida\" >&2\n",
    "        return 1\n",
    "    fi\n",
    "    \n",
    "    if $ayuda; then\n",
    "       echo \"La ayuda es:\"\n",
    "   fi\n",
    "   \n",
    "    if $info; then\n",
    "        echo \"La info:\"\n",
    "    fi\n",
    "    \n",
    "    if [[ -z $1 ]]; then\n",
    "        echo \"No hay parámetros.\"\n",
    "    else\n",
    "        echo -e \"Los parámetros son:\\n$@\"\n",
    "    fi\n",
    "}\n",
    "\n",
    "fun -i\n",
    "echo \"----------\"\n",
    "fun --info\n",
    "echo \"----------\"\n",
    "fun -h\n",
    "echo \"----------\"\n",
    "fun --help\n",
    "echo \"----------\"\n",
    "fun --hep\n",
    "echo \"----------\"\n",
    "fun -i Hola nada"
   ]
  },
  {
   "cell_type": "markdown",
   "metadata": {},
   "source": [
    "#### `for`"
   ]
  },
  {
   "cell_type": "markdown",
   "metadata": {},
   "source": [
    "```bash\n",
    "for var in «elemento iterable»; do\n",
    "    #Por cada elemento del «elemento iterable»\n",
    "    #var=«elemento»\n",
    "done\n",
    "```"
   ]
  },
  {
   "cell_type": "code",
   "execution_count": null,
   "metadata": {},
   "outputs": [],
   "source": [
    "for var in uno dos tres; do\n",
    "    echo $var\n",
    "done"
   ]
  },
  {
   "cell_type": "code",
   "execution_count": null,
   "metadata": {},
   "outputs": [],
   "source": [
    "for var in \"uno dos tres\"; do\n",
    "    echo $var #Es un solo elemento.\n",
    "done"
   ]
  },
  {
   "cell_type": "code",
   "execution_count": null,
   "metadata": {},
   "outputs": [],
   "source": [
    "for var in {1..6}; do #Este es la otra forma de crear rangos.\n",
    "    echo $var\n",
    "done"
   ]
  },
  {
   "cell_type": "code",
   "execution_count": null,
   "metadata": {},
   "outputs": [],
   "source": [
    "for var in $(seq 10 -2 1); do\n",
    "    echo $var\n",
    "done"
   ]
  },
  {
   "cell_type": "code",
   "execution_count": null,
   "metadata": {},
   "outputs": [],
   "source": [
    "#Se puede usar cualquier comando.\n",
    "for var in $(ls /tmp/dir1); do\n",
    "    echo $var\n",
    "done"
   ]
  },
  {
   "cell_type": "code",
   "execution_count": 43,
   "metadata": {},
   "outputs": [],
   "source": [
    "for var in ${arreglo[*]}; do\n",
    "    echo $var\n",
    "done"
   ]
  },
  {
   "cell_type": "code",
   "execution_count": null,
   "metadata": {},
   "outputs": [],
   "source": [
    "for var in ${arreglo[@]}; do\n",
    "    echo $var\n",
    "done"
   ]
  },
  {
   "cell_type": "code",
   "execution_count": null,
   "metadata": {
    "scrolled": true
   },
   "outputs": [],
   "source": [
    "#Ahora se nota la diferencia entre «*» y «@»\n",
    "for var in \"${arreglo[*]}\"; do\n",
    "    echo $var\n",
    "done\n",
    "echo \"-------------\"\n",
    "for var in \"${arreglo[@]}\"; do\n",
    "    echo $var\n",
    "done"
   ]
  },
  {
   "cell_type": "markdown",
   "metadata": {},
   "source": [
    "Puedo salir de un bucle con `break`:"
   ]
  },
  {
   "cell_type": "code",
   "execution_count": null,
   "metadata": {},
   "outputs": [],
   "source": [
    "break --help"
   ]
  },
  {
   "cell_type": "markdown",
   "metadata": {},
   "source": [
    "Saltarme pasos con `continue`:"
   ]
  },
  {
   "cell_type": "code",
   "execution_count": null,
   "metadata": {},
   "outputs": [],
   "source": [
    "continue --help"
   ]
  },
  {
   "cell_type": "markdown",
   "metadata": {},
   "source": [
    "#### `while`"
   ]
  },
  {
   "cell_type": "markdown",
   "metadata": {},
   "source": [
    "```bash\n",
    "while «condición»; do\n",
    "    #Repite mientras se cumpla la condición.\n",
    "done\n",
    "```"
   ]
  },
  {
   "cell_type": "code",
   "execution_count": null,
   "metadata": {},
   "outputs": [],
   "source": [
    "declare -i entero=0\n",
    "\n",
    "while [[ entero -lt 10 ]]; do\n",
    "    echo $entero\n",
    "    entero+=1\n",
    "done"
   ]
  },
  {
   "cell_type": "code",
   "execution_count": null,
   "metadata": {},
   "outputs": [],
   "source": [
    "while ls -R /tmp; do #Se detiene cuando da error (Permiso denegado).\n",
    "    echo $entero\n",
    "    entero+=1\n",
    "done"
   ]
  },
  {
   "cell_type": "code",
   "execution_count": null,
   "metadata": {},
   "outputs": [],
   "source": [
    "n_scp=\"scp4\"\n",
    "\n",
    "scp $n_scp << \"fin\"\n",
    "\n",
    "declare -i entero=0\n",
    "\n",
    "while true; do\n",
    "    echo $entero\n",
    "    entero+=1\n",
    "    sleep 1 #Se detiene por 1 segundo. \n",
    "done\n",
    "\n",
    "fin\n",
    "\n",
    "exc $n_scp"
   ]
  },
  {
   "cell_type": "code",
   "execution_count": null,
   "metadata": {},
   "outputs": [],
   "source": [
    "n_scp=\"scp5\"\n",
    "\n",
    "scp $n_scp << \"fin\"\n",
    "\n",
    "declare -i entero=0\n",
    "\n",
    "while true; do\n",
    "    echo $entero\n",
    "    entero+=1\n",
    "    sleep 1 #Se detiene por 1 segundo.\n",
    "    \n",
    "    if [[ $entero -eq 5 ]]; then\n",
    "        break\n",
    "    fi\n",
    "done\n",
    "\n",
    "fin\n",
    "\n",
    "exc $n_scp"
   ]
  },
  {
   "cell_type": "code",
   "execution_count": null,
   "metadata": {},
   "outputs": [],
   "source": [
    "n_scp=\"scp5\"\n",
    "\n",
    "scp $n_scp << \"fin\"\n",
    "\n",
    "declare -i entero=0\n",
    "\n",
    "while true; do\n",
    "\n",
    "    entero+=1\n",
    "    if [[ $entero -eq 2 ]]; then\n",
    "        continue\n",
    "    fi\n",
    "    \n",
    "    echo $entero\n",
    "    sleep 1 #Se detiene por 1 segundo.\n",
    "    \n",
    "    if [[ $entero -eq 5 ]]; then\n",
    "        break\n",
    "    fi\n",
    "done\n",
    "\n",
    "fin\n",
    "\n",
    "exc $n_scp"
   ]
  },
  {
   "cell_type": "code",
   "execution_count": null,
   "metadata": {},
   "outputs": [],
   "source": [
    "fun(){\n",
    "    local info=false\n",
    "    local ayuda=false\n",
    "    local error=false\n",
    "    \n",
    "    while [[ -n $1 ]]; do #Recorro todas las opciones.\n",
    "        case $1 in\n",
    "            -i | --info)\n",
    "            echo \"El informe es:\"\n",
    "            shift #Se elimina el parámetro de tipo opción.\n",
    "            ;;\n",
    "            -h | --help)\n",
    "            ayuda=true\n",
    "            shift\n",
    "            ;;\n",
    "            -*)\n",
    "            error=true\n",
    "            break #Sale del ciclo.\n",
    "            ;;\n",
    "            *)\n",
    "            break #Sale del ciclo.\n",
    "            ;; \n",
    "        esac\n",
    "    done\n",
    "   \n",
    "    if $error; then\n",
    "        echo \"Opción no válida\" >&2\n",
    "        return 1\n",
    "    fi\n",
    "    \n",
    "    if $ayuda; then\n",
    "       echo \"La ayuda es:\"\n",
    "   fi\n",
    "   \n",
    "    if $info; then\n",
    "        echo \"La ayuda es:\"\n",
    "    fi\n",
    "    \n",
    "    if [[ -z $1 ]]; then\n",
    "        echo \"No hay parámetros.\"\n",
    "    else\n",
    "        echo -e \"Los parámetros son:\\n$@\"\n",
    "    fi\n",
    "}\n",
    "\n",
    "fun -i\n",
    "echo \"----------\"\n",
    "fun --info\n",
    "echo \"----------\"\n",
    "fun -h\n",
    "echo \"----------\"\n",
    "fun --help\n",
    "echo \"----------\"\n",
    "fun --hep\n",
    "echo \"----------\"\n",
    "fun -i Hola nada"
   ]
  },
  {
   "cell_type": "code",
   "execution_count": null,
   "metadata": {},
   "outputs": [],
   "source": [
    "fun -i -h Hola nada\n",
    "echo \"----------\"\n",
    "fun Hola nada"
   ]
  },
  {
   "cell_type": "markdown",
   "metadata": {},
   "source": [
    "#### `until`"
   ]
  },
  {
   "cell_type": "markdown",
   "metadata": {},
   "source": [
    "Funciona igual que `while`, pero con la condición negada:"
   ]
  },
  {
   "cell_type": "code",
   "execution_count": null,
   "metadata": {},
   "outputs": [],
   "source": [
    "declare -i entero=0\n",
    "\n",
    "while [[ entero -lt 10 ]]; do\n",
    "    echo $entero\n",
    "    entero+=1\n",
    "done"
   ]
  },
  {
   "cell_type": "code",
   "execution_count": null,
   "metadata": {},
   "outputs": [],
   "source": [
    "entero=0\n",
    "until [[ ! entero -lt 10 ]]; do\n",
    "    echo $entero\n",
    "    entero+=1\n",
    "done"
   ]
  },
  {
   "cell_type": "code",
   "execution_count": null,
   "metadata": {},
   "outputs": [],
   "source": [
    "entero=0\n",
    "\n",
    "until [[ entero -ge 10 ]]; do\n",
    "    echo $entero\n",
    "    entero+=1\n",
    "done"
   ]
  },
  {
   "cell_type": "markdown",
   "metadata": {},
   "source": [
    "#### `select` estructura de control y de entrada de datos"
   ]
  },
  {
   "cell_type": "markdown",
   "metadata": {},
   "source": [
    "Supongamos que deseemos crear un menú de opciones. Se debe escoger un opción correcta del menú para continuar con la ejecución del script. De no ser correcta se muelve a pedir que se elija una opción.\n",
    "\n",
    "Podemos combinar todo lo anterior para resolver el problema. Una posible solución sería:"
   ]
  },
  {
   "cell_type": "code",
   "execution_count": 32,
   "metadata": {},
   "outputs": [],
   "source": [
    "n_scp=\"for_read_echo\"\n",
    "\n",
    "scp $n_scp << \"fin\"\n",
    "\n",
    "lista=\"Opción1 Opción2 Opción3\" #Lista de opciones:\n",
    "indices=1 #Lista de índices.\n",
    "\n",
    "#Se muestra la lista de opciones:\n",
    "echo \"De la siguiente lista:\"\n",
    "declare -i i=1 #Iterador para la lista de índices.\n",
    "for var in $lista; do\n",
    "    echo \"$i) $var: \" #Mostramos la opción.\n",
    "    i+=1\n",
    "    indices+=\" $i\" #Añadimos el siguiente índice\n",
    "done\n",
    "\n",
    "#Se almacena el valor y se verifica que corresponda a una de las opciones.\n",
    "#En caso contrario repetimos\n",
    "while true; do\n",
    "    read -p \"Elija una opción: \" opcion #Almacenamos la respuesta.\n",
    "    \n",
    "    if [[ $indices =~ $opcion ]]; then #Si el índice está en la lista de índices.\n",
    "        echo \"Elegiste la opción $opcion.\"\n",
    "        break #En la mayoría de los casos, debemos salir al elegir una opción correcta.\n",
    "    else\n",
    "        echo \"Opción no válida.\" #Informamos del error y repetimos.\n",
    "    fi\n",
    "done\n",
    "\n",
    "fin\n",
    "\n",
    "exc $n_scp"
   ]
  },
  {
   "cell_type": "markdown",
   "metadata": {},
   "source": [
    "La solución anterior es efectiva y esa bien construida. No obstante contamos con una estructura de control de flujo (mezclada con una estructura de entrada de datos) que nos podría simplificar el diseño de los menus."
   ]
  },
  {
   "cell_type": "markdown",
   "metadata": {},
   "source": [
    "```bash\n",
    "lista=\"Opción1 Opción2 .... OpciónN\"\n",
    "select var in $lista; do\n",
    "\n",
    "    #Acción a realizar al elegir una opción $var de la lista.\n",
    "    \n",
    "done\n",
    "```"
   ]
  },
  {
   "cell_type": "code",
   "execution_count": 3,
   "metadata": {},
   "outputs": [],
   "source": [
    "#Este sería un menú bastante simple.\n",
    "#El menú muestra poca información y no se detiene nunca.\n",
    "n_scp=\"select1\"\n",
    "\n",
    "scp $n_scp << \"fin\"\n",
    "\n",
    "lista=\"Opción1 Opción2 Opción3\"\n",
    "select i in $lista; do\n",
    "\n",
    "    echo \"Elegiste la opción $i.\"\n",
    "    \n",
    "done\n",
    "\n",
    "fin\n",
    "\n",
    "exc $n_scp"
   ]
  },
  {
   "cell_type": "markdown",
   "metadata": {},
   "source": [
    "Para cambiár el prompt por defecto de `selecet`  «`#?`», podemos usar la variable `PS3`."
   ]
  },
  {
   "cell_type": "code",
   "execution_count": 14,
   "metadata": {
    "collapsed": true
   },
   "outputs": [
    {
     "name": "stdout",
     "output_type": "stream",
     "text": [
      "BASH=/bin/bash\n",
      "BASHOPTS=checkwinsize:cmdhist:complete_fullquote:expand_aliases:extglob:extquote:force_fignore:globasciiranges:histappend:interactive_comments:progcomp:promptvars:sourcepath\n",
      "BASH_ALIASES=()\n",
      "BASH_ARGC=([0]=\"0\")\n",
      "BASH_ARGV=()\n",
      "BASH_CMDS=()\n",
      "BASH_COMPLETION_VERSINFO=([0]=\"2\" [1]=\"10\")\n",
      "BASH_LINENO=()\n",
      "BASH_REMATCH=()\n",
      "BASH_SOURCE=()\n",
      "BASH_VERSINFO=([0]=\"5\" [1]=\"0\" [2]=\"17\" [3]=\"1\" [4]=\"release\" [5]=\"x86_64-pc-linux-gnu\")\n",
      "BASH_VERSION='5.0.17(1)-release'\n",
      "COLUMNS=80\n",
      "CONDA_DEFAULT_ENV=base\n",
      "CONDA_EXE=/opt/anaconda3/bin/conda\n",
      "CONDA_PREFIX=/opt/anaconda3\n",
      "CONDA_PROMPT_MODIFIER='(base) '\n",
      "CONDA_PYTHON_EXE=/opt/anaconda3/bin/python\n",
      "CONDA_ROOT=/opt/anaconda3\n",
      "CONDA_SHLVL=1\n",
      "DBUS_SESSION_BUS_ADDRESS=unix:path=/run/user/1000/bus\n",
      "DEFAULTS_PATH=/usr/share/gconf//usr/share/xsessions/plasma.default.path\n",
      "DESKTOP_SESSION=/usr/share/xsessions/plasma\n",
      "DIRSTACK=()\n",
      "DISPLAY=:0\n",
      "EUID=1000\n",
      "GPG_AGENT_INFO=/run/user/1000/gnupg/S.gpg-agent:0:1\n",
      "GROUPS=()\n",
      "GTK2_RC_FILES=/etc/gtk-2.0/gtkrc:/home/luis/.gtkrc-2.0:/home/luis/.config/gtkrc-2.0\n",
      "GTK_RC_FILES=/etc/gtk/gtkrc:/home/luis/.gtkrc:/home/luis/.config/gtkrc\n",
      "HISTCONTROL=ignoreboth\n",
      "HISTFILE=/home/luis/.bash_history\n",
      "HISTFILESIZE=2000\n",
      "HISTSIZE=1000\n",
      "HOME=/home/luis\n",
      "HOSTNAME=luis-Nlap\n",
      "HOSTTYPE=x86_64\n",
      "IFS=$' \\t\\n'\n",
      "JPY_PARENT_PID=53789\n",
      "KDE_APPLICATIONS_AS_SCOPE=1\n",
      "KDE_FULL_SESSION=true\n",
      "KDE_SESSION_UID=1000\n",
      "KDE_SESSION_VERSION=5\n",
      "KERNEL_LAUNCH_TIMEOUT=40\n",
      "LANG=es_MX.UTF-8\n",
      "LANGUAGE=es_MX:es\n",
      "LESSCLOSE='/usr/bin/lesspipe %s %s'\n",
      "LESSOPEN='| /usr/bin/lesspipe %s'\n",
      "LINES=24\n",
      "LOGNAME=luis\n",
      "LS_COLORS=\n",
      "MACHTYPE=x86_64-pc-linux-gnu\n",
      "MAILCHECK=60\n",
      "MANDATORY_PATH=/usr/share/gconf//usr/share/xsessions/plasma.mandatory.path\n",
      "MATHEMATICA_HOME=/usr/local/Wolfram/Mathematica/12.1\n",
      "MOZ_USE_XINPUT2=1\n",
      "OPTERR=1\n",
      "OPTIND=1\n",
      "OSTYPE=linux-gnu\n",
      "PAGER=cat\n",
      "PATH=/opt/anaconda3/bin:/opt/anaconda3/condabin:/home/luis/bin:/home/luis/.local/bin:/usr/local/sbin:/usr/local/bin:/usr/sbin:/usr/bin:/sbin:/bin:/usr/games:/usr/local/games:/snap/bin:/home/luis/.dotnet/tools\n",
      "PIPESTATUS=([0]=\"0\")\n",
      "PPID=64079\n",
      "PROMPT_COMMAND=\n",
      "PS1='[PEXP\\[\\]ECT_PROMPT>'\n",
      "PS2='[PEXP\\[\\]ECT_PROMPT+'\n",
      "PS4='+ '\n",
      "PWD=/home/luis/Proyecto-julia/Curso/Pláticas/Plática-9-Introducción-a-Shell-Scripting-part-3\n",
      "QT_ACCESSIBILITY=1\n",
      "QT_AUTO_SCREEN_SCALE_FACTOR=0\n",
      "QT_EXCLUDE_GENERIC_BEARER=1\n",
      "SESSION_MANAGER=local/luis-Nlap:@/tmp/.ICE-unix/2546,unix/luis-Nlap:/tmp/.ICE-unix/2546\n",
      "SHELL=/bin/bash\n",
      "SHELLOPTS=braceexpand:emacs:hashall:histexpand:history:interactive-comments:monitor\n",
      "SHLVL=1\n",
      "SSH_AGENT_PID=2444\n",
      "SSH_AUTH_SOCK=/tmp/ssh-NZDjXAODl5hC/agent.2384\n",
      "TERM=dumb\n",
      "UID=1000\n",
      "USER=luis\n",
      "XAUTHORITY=/home/luis/.Xauthority\n",
      "XCURSOR_SIZE=24\n",
      "XCURSOR_THEME=breeze_cursors\n",
      "XDG_CONFIG_DIRS=/etc/xdg/xdg-/usr/share/xsessions/plasma:/etc/xdg\n",
      "XDG_CURRENT_DESKTOP=KDE\n",
      "XDG_DATA_DIRS=/usr/share//usr/share/xsessions/plasma:/home/luis/.local/share/flatpak/exports/share:/var/lib/flatpak/exports/share:/usr/local/share:/usr/share:/var/lib/snapd/desktop\n",
      "XDG_RUNTIME_DIR=/run/user/1000\n",
      "XDG_SEAT=seat0\n",
      "XDG_SEAT_PATH=/org/freedesktop/DisplayManager/Seat0\n",
      "XDG_SESSION_CLASS=user\n",
      "XDG_SESSION_DESKTOP=KDE\n",
      "XDG_SESSION_ID=1\n",
      "XDG_SESSION_PATH=/org/freedesktop/DisplayManager/Session0\n",
      "XDG_SESSION_TYPE=x11\n",
      "XDG_VTNR=1\n",
      "_=0\n",
      "_CE_CONDA=\n",
      "_CE_M=\n",
      "__git_printf_supports_v=yes\n",
      "_backup_glob='@(#*#|*@(~|.@(bak|orig|rej|swp|dpkg*|rpm@(orig|new|save))))'\n",
      "_xspecs=([lokalize]=\"!*.po\" [acroread]=\"!*.[pf]df\" [lbzcat]=\"!*.?(t)bz?(2)\" [mpg321]=\"!*.mp3\" [bzcat]=\"!*.?(t)bz?(2)\" [oocalc]=\"!*.@(sxc|stc|xls?([bmx])|xlw|xlt?([mx])|[ct]sv|?(f)ods|ots)\" [tex]=\"!*.@(?(la)tex|texi|dtx|ins|ltx|dbj)\" [unlzma]=\"!*.@(tlz|lzma)\" [sxemacs]=\"*.@([ao]|so|so.!(conf|*/*)|[rs]pm|gif|jp?(e)g|mp3|mp?(e)g|avi|asf|ogg|class)\" [aviplay]=\"!*.@(avi|asf|wmv)\" [lbunzip2]=\"!*.?(t)bz?(2)\" [dragon]=\"!*@(.@(mp?(e)g|MP?(E)G|wm[av]|WM[AV]|avi|AVI|asf|vob|VOB|bin|dat|divx|DIVX|vcd|ps|pes|fli|flv|FLV|fxm|FXM|viv|rm|ram|yuv|mov|MOV|qt|QT|web[am]|WEB[AM]|mp[234]|MP[234]|m?(p)4[av]|M?(P)4[AV]|mkv|MKV|og[agmvx]|OG[AGMVX]|t[ps]|T[PS]|m2t?(s)|M2T?(S)|mts|MTS|wav|WAV|flac|FLAC|asx|ASX|mng|MNG|srt|m[eo]d|M[EO]D|s[3t]m|S[3T]M|it|IT|xm|XM|iso|ISO)|+([0-9]).@(vdr|VDR))?(.@(crdownload|part))\" [freeamp]=\"!*.@(mp3|og[ag]|pls|m3u)\" [rgvim]=\"*.@([ao]|so|so.!(conf|*/*)|[rs]pm|gif|jp?(e)g|mp3|mp?(e)g|avi|asf|ogg|class)\" [ooimpress]=\"!*.@(sxi|sti|pps?(x)|ppt?([mx])|pot?([mx])|?(f)odp|otp)\" [gqmpeg]=\"!*.@(mp3|og[ag]|pls|m3u)\" [texi2html]=\"!*.texi*\" [hbpp]=\"!*.@([Pp][Rr][Gg]|[Cc][Ll][Pp])\" [lowriter]=\"!*.@(sxw|stw|sxg|sgl|doc?([mx])|dot?([mx])|rtf|txt|htm|html|?(f)odt|ott|odm|pdf)\" [qiv]=\"!*.@(gif|jp?(e)g|tif?(f)|png|p[bgp]m|bmp|x[bp]m|rle|rgb|pcx|fits|pm|svg)\" [xanim]=\"!*.@(mpg|mpeg|avi|mov|qt)\" [ps2pdfwr]=\"!*.@(?(e)ps|pdf)\" [harbour]=\"!*.@([Pp][Rr][Gg]|[Cc][Ll][Pp])\" [jadetex]=\"!*.@(?(la)tex|texi|dtx|ins|ltx|dbj)\" [lodraw]=\"!*.@(sxd|std|sda|sdd|?(f)odg|otg)\" [dvitype]=\"!*.dvi\" [lobase]=\"!*.odb\" [rpm2cpio]=\"!*.[rs]pm\" [xine]=\"!*@(.@(mp?(e)g|MP?(E)G|wm[av]|WM[AV]|avi|AVI|asf|vob|VOB|bin|dat|divx|DIVX|vcd|ps|pes|fli|flv|FLV|fxm|FXM|viv|rm|ram|yuv|mov|MOV|qt|QT|web[am]|WEB[AM]|mp[234]|MP[234]|m?(p)4[av]|M?(P)4[AV]|mkv|MKV|og[agmvx]|OG[AGMVX]|t[ps]|T[PS]|m2t?(s)|M2T?(S)|mts|MTS|wav|WAV|flac|FLAC|asx|ASX|mng|MNG|srt|m[eo]d|M[EO]D|s[3t]m|S[3T]M|it|IT|xm|XM)|+([0-9]).@(vdr|VDR))?(.@(crdownload|part))\" [lualatex]=\"!*.@(?(la)tex|texi|dtx|ins|ltx|dbj)\" [localc]=\"!*.@(sxc|stc|xls?([bmx])|xlw|xlt?([mx])|[ct]sv|?(f)ods|ots)\" [hbrun]=\"!*.[Hh][Rr][Bb]\" [amaya]=\"!*.@(?([xX]|[sS])[hH][tT][mM]?([lL]))\" [gv]=\"!*.@(@(?(e)ps|?(E)PS|pdf|PDF)?(.gz|.GZ|.bz2|.BZ2|.Z))\" [unpigz]=\"!*.@(Z|[gGdz]z|t[ag]z)\" [mozilla]=\"!*.@(?([xX]|[sS])[hH][tT][mM]?([lL]))\" [epdfview]=\"!*.pdf\" [dvips]=\"!*.dvi\" [pdfunite]=\"!*.pdf\" [ps2pdf14]=\"!*.@(?(e)ps|pdf)\" [kid3]=\"!*.@(mp[234c]|og[ag]|@(fl|a)ac|m4[abp]|spx|tta|w?(a)v|wma|aif?(f)|asf|ape)\" [vi]=\"*.@([ao]|so|so.!(conf|*/*)|[rs]pm|gif|jp?(e)g|mp3|mp?(e)g|avi|asf|ogg|class)\" [ps2pdf]=\"!*.@(?(e)ps|pdf)\" [gpdf]=\"!*.[pf]df\" [lilypond]=\"!*.ly\" [texi2dvi]=\"!*.@(?(la)tex|texi|dtx|ins|ltx|dbj)\" [modplug123]=\"!*.@(669|abc|am[fs]|d[bs]m|dmf|far|it|mdl|m[eo]d|mid?(i)|mt[2m]|oct|okt?(a)|p[st]m|s[3t]m|ult|umx|wav|xm)\" [znew]=\"*.Z\" [ps2pdf13]=\"!*.@(?(e)ps|pdf)\" [ps2pdf12]=\"!*.@(?(e)ps|pdf)\" [kwrite]=\"*.@([ao]|so|so.!(conf|*/*)|[rs]pm|gif|jp?(e)g|mp3|mp?(e)g|avi|asf|ogg|class)\" [latex]=\"!*.@(?(la)tex|texi|dtx|ins|ltx|dbj)\" [kate]=\"*.@([ao]|so|so.!(conf|*/*)|[rs]pm|gif|jp?(e)g|mp3|mp?(e)g|avi|asf|ogg|class)\" [pbzcat]=\"!*.?(t)bz?(2)\" [poedit]=\"!*.po\" [view]=\"*.@([ao]|so|so.!(conf|*/*)|[rs]pm|gif|jp?(e)g|mp3|mp?(e)g|avi|asf|ogg|class)\" [kid3-qt]=\"!*.@(mp[234c]|og[ag]|@(fl|a)ac|m4[abp]|spx|tta|w?(a)v|wma|aif?(f)|asf|ape)\" [luatex]=\"!*.@(?(la)tex|texi|dtx|ins|ltx|dbj)\" [bunzip2]=\"!*.?(t)bz?(2)\" [dvipdfm]=\"!*.dvi\" [kbabel]=\"!*.po\" [ly2dvi]=\"!*.ly\" [oodraw]=\"!*.@(sxd|std|sda|sdd|?(f)odg|otg)\" [bzme]=\"!*.@(zip|z|gz|tgz)\" [rgview]=\"*.@([ao]|so|so.!(conf|*/*)|[rs]pm|gif|jp?(e)g|mp3|mp?(e)g|avi|asf|ogg|class)\" [pdftex]=\"!*.@(?(la)tex|texi|dtx|ins|ltx|dbj)\" [xemacs]=\"*.@([ao]|so|so.!(conf|*/*)|[rs]pm|gif|jp?(e)g|mp3|mp?(e)g|avi|asf|ogg|class)\" [zathura]=\"!*.@(cb[rz7t]|djv?(u)|?(e)ps|pdf)\" [unxz]=\"!*.@(?(t)xz|tlz|lzma)\" [rvim]=\"*.@([ao]|so|so.!(conf|*/*)|[rs]pm|gif|jp?(e)g|mp3|mp?(e)g|avi|asf|ogg|class)\" [madplay]=\"!*.mp3\" [xetex]=\"!*.@(?(la)tex|texi|dtx|ins|ltx|dbj)\" [gvim]=\"*.@([ao]|so|so.!(conf|*/*)|[rs]pm|gif|jp?(e)g|mp3|mp?(e)g|avi|asf|ogg|class)\" [kaffeine]=\"!*@(.@(mp?(e)g|MP?(E)G|wm[av]|WM[AV]|avi|AVI|asf|vob|VOB|bin|dat|divx|DIVX|vcd|ps|pes|fli|flv|FLV|fxm|FXM|viv|rm|ram|yuv|mov|MOV|qt|QT|web[am]|WEB[AM]|mp[234]|MP[234]|m?(p)4[av]|M?(P)4[AV]|mkv|MKV|og[agmvx]|OG[AGMVX]|t[ps]|T[PS]|m2t?(s)|M2T?(S)|mts|MTS|wav|WAV|flac|FLAC|asx|ASX|mng|MNG|srt|m[eo]d|M[EO]D|s[3t]m|S[3T]M|it|IT|xm|XM|iso|ISO)|+([0-9]).@(vdr|VDR))?(.@(crdownload|part))\" [dviselect]=\"!*.dvi\" [kpdf]=\"!*.@(?(e)ps|pdf)\" [bibtex]=\"!*.aux\" [realplay]=\"!*.@(rm?(j)|ra?(m)|smi?(l))\" [mpg123]=\"!*.mp3\" [netscape]=\"!*.@(?([xX]|[sS])[hH][tT][mM]?([lL]))\" [lzegrep]=\"!*.@(tlz|lzma)\" [gview]=\"*.@([ao]|so|so.!(conf|*/*)|[rs]pm|gif|jp?(e)g|mp3|mp?(e)g|avi|asf|ogg|class)\" [kdvi]=\"!*.@(dvi|DVI)?(.@(gz|Z|bz2))\" [xv]=\"!*.@(gif|jp?(e)g?(2)|j2[ck]|jp[2f]|tif?(f)|png|p[bgp]m|bmp|x[bp]m|rle|rgb|pcx|fits|pm|?(e)ps)\" [lzfgrep]=\"!*.@(tlz|lzma)\" [playmidi]=\"!*.@(mid?(i)|cmf)\" [lzless]=\"!*.@(tlz|lzma)\" [elinks]=\"!*.@(?([xX]|[sS])[hH][tT][mM]?([lL]))\" [timidity]=\"!*.@(mid?(i)|rmi|rcp|[gr]36|g18|mod|xm|it|x3m|s[3t]m|kar)\" [xdvi]=\"!*.@(dvi|DVI)?(.@(gz|Z|bz2))\" [xfig]=\"!*.fig\" [xpdf]=\"!*.@(pdf|fdf)?(.@(gz|GZ|bz2|BZ2|Z))\" [lomath]=\"!*.@(sxm|smf|mml|odf)\" [lzcat]=\"!*.@(tlz|lzma)\" [compress]=\"*.Z\" [pdfjadetex]=\"!*.@(?(la)tex|texi|dtx|ins|ltx|dbj)\" [kghostview]=\"!*.@(@(?(e)ps|?(E)PS|pdf|PDF)?(.gz|.GZ|.bz2|.BZ2|.Z))\" [zcat]=\"!*.@(Z|[gGd]z|t[ag]z)\" [pbunzip2]=\"!*.?(t)bz?(2)\" [oobase]=\"!*.odb\" [cdiff]=\"!*.@(dif?(f)|?(d)patch)?(.@([gx]z|bz2|lzma))\" [gtranslator]=\"!*.po\" [lynx]=\"!*.@(?([xX]|[sS])[hH][tT][mM]?([lL]))\" [emacs]=\"*.@([ao]|so|so.!(conf|*/*)|[rs]pm|gif|jp?(e)g|mp3|mp?(e)g|avi|asf|ogg|class)\" [zipinfo]=\"!*.@(zip|[egjswx]ar|exe|pk3|wsz|zargo|xpi|s[tx][cdiw]|sx[gm]|o[dt][tspgfc]|od[bm]|oxt|epub|apk|aab|ipa|do[ct][xm]|p[op]t[mx]|xl[st][xm]|pyz|whl)\" [xelatex]=\"!*.@(?(la)tex|texi|dtx|ins|ltx|dbj)\" [uncompress]=\"!*.Z\" [xzcat]=\"!*.@(?(t)xz|tlz|lzma)\" [unzip]=\"!*.@(zip|[egjswx]ar|exe|pk3|wsz|zargo|xpi|s[tx][cdiw]|sx[gm]|o[dt][tspgfc]|od[bm]|oxt|epub|apk|aab|ipa|do[ct][xm]|p[op]t[mx]|xl[st][xm]|pyz|whl)\" [rview]=\"*.@([ao]|so|so.!(conf|*/*)|[rs]pm|gif|jp?(e)g|mp3|mp?(e)g|avi|asf|ogg|class)\" [ogg123]=\"!*.@(og[ag]|m3u|flac|spx)\" [lrunzip]=\"!*.lrz\" [lzgrep]=\"!*.@(tlz|lzma)\" [slitex]=\"!*.@(?(la)tex|texi|dtx|ins|ltx|dbj)\" [vim]=\"*.@([ao]|so|so.!(conf|*/*)|[rs]pm|gif|jp?(e)g|mp3|mp?(e)g|avi|asf|ogg|class)\" [ggv]=\"!*.@(@(?(e)ps|?(E)PS|pdf|PDF)?(.gz|.GZ|.bz2|.BZ2|.Z))\" [ee]=\"!*.@(gif|jp?(e)g|miff|tif?(f)|pn[gm]|p[bgp]m|bmp|xpm|ico|xwd|tga|pcx)\" [oomath]=\"!*.@(sxm|smf|mml|odf)\" [aaxine]=\"!*@(.@(mp?(e)g|MP?(E)G|wm[av]|WM[AV]|avi|AVI|asf|vob|VOB|bin|dat|divx|DIVX|vcd|ps|pes|fli|flv|FLV|fxm|FXM|viv|rm|ram|yuv|mov|MOV|qt|QT|web[am]|WEB[AM]|mp[234]|MP[234]|m?(p)4[av]|M?(P)4[AV]|mkv|MKV|og[agmvx]|OG[AGMVX]|t[ps]|T[PS]|m2t?(s)|M2T?(S)|mts|MTS|wav|WAV|flac|FLAC|asx|ASX|mng|MNG|srt|m[eo]d|M[EO]D|s[3t]m|S[3T]M|it|IT|xm|XM)|+([0-9]).@(vdr|VDR))?(.@(crdownload|part))\" [dvipdfmx]=\"!*.dvi\" [advi]=\"!*.dvi\" [gunzip]=\"!*.@(Z|[gGd]z|t[ag]z)\" [makeinfo]=\"!*.texi*\" [gharbour]=\"!*.@([Pp][Rr][Gg]|[Cc][Ll][Pp])\" [okular]=\"!*.@(okular|@(?(e|x)ps|?(E|X)PS|[pf]df|[PF]DF|dvi|DVI|cb[rz]|CB[RZ]|djv?(u)|DJV?(U)|dvi|DVI|gif|jp?(e)g|miff|tif?(f)|pn[gm]|p[bgp]m|bmp|xpm|ico|xwd|tga|pcx|GIF|JP?(E)G|MIFF|TIF?(F)|PN[GM]|P[BGP]M|BMP|XPM|ICO|XWD|TGA|PCX|epub|EPUB|odt|ODT|fb?(2)|FB?(2)|mobi|MOBI|g3|G3|chm|CHM)?(.?(gz|GZ|bz2|BZ2|xz|XZ)))\" [galeon]=\"!*.@(?([xX]|[sS])[hH][tT][mM]?([lL]))\" [pdflatex]=\"!*.@(?(la)tex|texi|dtx|ins|ltx|dbj)\" [lzmore]=\"!*.@(tlz|lzma)\" [portecle]=\"!@(*.@(ks|jks|jceks|p12|pfx|bks|ubr|gkr|cer|crt|cert|p7b|pkipath|pem|p10|csr|crl)|cacerts)\" [oowriter]=\"!*.@(sxw|stw|sxg|sgl|doc?([mx])|dot?([mx])|rtf|txt|htm|html|?(f)odt|ott|odm|pdf)\" [loimpress]=\"!*.@(sxi|sti|pps?(x)|ppt?([mx])|pot?([mx])|?(f)odp|otp)\" [epiphany]=\"!*.@(?([xX]|[sS])[hH][tT][mM]?([lL]))\" [modplugplay]=\"!*.@(669|abc|am[fs]|d[bs]m|dmf|far|it|mdl|m[eo]d|mid?(i)|mt[2m]|oct|okt?(a)|p[st]m|s[3t]m|ult|umx|wav|xm)\" [dvipdf]=\"!*.dvi\" [dillo]=\"!*.@(?([xX]|[sS])[hH][tT][mM]?([lL]))\" [fbxine]=\"!*@(.@(mp?(e)g|MP?(E)G|wm[av]|WM[AV]|avi|AVI|asf|vob|VOB|bin|dat|divx|DIVX|vcd|ps|pes|fli|flv|FLV|fxm|FXM|viv|rm|ram|yuv|mov|MOV|qt|QT|web[am]|WEB[AM]|mp[234]|MP[234]|m?(p)4[av]|M?(P)4[AV]|mkv|MKV|og[agmvx]|OG[AGMVX]|t[ps]|T[PS]|m2t?(s)|M2T?(S)|mts|MTS|wav|WAV|flac|FLAC|asx|ASX|mng|MNG|srt|m[eo]d|M[EO]D|s[3t]m|S[3T]M|it|IT|xm|XM)|+([0-9]).@(vdr|VDR))?(.@(crdownload|part))\" )\n"
     ]
    },
    {
     "name": "stdout",
     "output_type": "stream",
     "text": [
      "n_scp=select\n",
      "__expand_tilde_by_ref () \n",
      "{ \n",
      "    if [[ ${!1} == \\~* ]]; then\n",
      "        eval $1=$(printf ~%q \"${!1#\\~}\");\n",
      "    fi\n",
      "}\n",
      "__get_cword_at_cursor_by_ref () \n",
      "{ \n",
      "    local cword words=();\n",
      "    __reassemble_comp_words_by_ref \"$1\" words cword;\n",
      "    local i cur index=$COMP_POINT lead=${COMP_LINE:0:$COMP_POINT};\n",
      "    if [[ $index -gt 0 && ( -n $lead && -n ${lead//[[:space:]]} ) ]]; then\n",
      "        cur=$COMP_LINE;\n",
      "        for ((i = 0; i <= cword; ++i ))\n",
      "        do\n",
      "            while [[ ${#cur} -ge ${#words[i]} && \"${cur:0:${#words[i]}}\" != \"${words[i]}\" ]]; do\n",
      "                cur=\"${cur:1}\";\n",
      "                [[ $index -gt 0 ]] && ((index--));\n",
      "            done;\n",
      "            if [[ $i -lt $cword ]]; then\n",
      "                local old_size=${#cur};\n",
      "                cur=\"${cur#\"${words[i]}\"}\";\n",
      "                local new_size=${#cur};\n",
      "                (( index -= old_size - new_size ));\n",
      "            fi;\n",
      "        done;\n",
      "        [[ -n $cur && ! -n ${cur//[[:space:]]} ]] && cur=;\n",
      "        [[ $index -lt 0 ]] && index=0;\n",
      "    fi;\n",
      "    local \"$2\" \"$3\" \"$4\" && _upvars -a${#words[@]} $2 \"${words[@]}\" -v $3 \"$cword\" -v $4 \"${cur:0:$index}\"\n",
      "}\n",
      "__git_eread () \n",
      "{ \n",
      "    test -r \"$1\" && IFS='\n",
      "' read \"$2\" < \"$1\"\n",
      "}\n",
      "__git_ps1 () \n",
      "{ \n",
      "    local exit=$?;\n",
      "    local pcmode=no;\n",
      "    local detached=no;\n",
      "    local ps1pc_start='\\u@\\h:\\w ';\n",
      "    local ps1pc_end='\\$ ';\n",
      "    local printf_format=' (%s)';\n",
      "    case \"$#\" in \n",
      "        2 | 3)\n",
      "            pcmode=yes;\n",
      "            ps1pc_start=\"$1\";\n",
      "            ps1pc_end=\"$2\";\n",
      "            printf_format=\"${3:-$printf_format}\";\n",
      "            PS1=\"$ps1pc_start$ps1pc_end\"\n",
      "        ;;\n",
      "        0 | 1)\n",
      "            printf_format=\"${1:-$printf_format}\"\n",
      "        ;;\n",
      "        *)\n",
      "            return $exit\n",
      "        ;;\n",
      "    esac;\n",
      "    local ps1_expanded=yes;\n",
      "    [ -z \"${ZSH_VERSION-}\" ] || [[ -o PROMPT_SUBST ]] || ps1_expanded=no;\n",
      "    [ -z \"${BASH_VERSION-}\" ] || shopt -q promptvars || ps1_expanded=no;\n",
      "    local repo_info rev_parse_exit_code;\n",
      "    repo_info=\"$(git rev-parse --git-dir --is-inside-git-dir \t\t--is-bare-repository --is-inside-work-tree \t\t--short HEAD 2>/dev/null)\";\n",
      "    rev_parse_exit_code=\"$?\";\n",
      "    if [ -z \"$repo_info\" ]; then\n",
      "        return $exit;\n",
      "    fi;\n",
      "    local short_sha=\"\";\n",
      "    if [ \"$rev_parse_exit_code\" = \"0\" ]; then\n",
      "        short_sha=\"${repo_info##*\n",
      "}\";\n",
      "        repo_info=\"${repo_info%\n",
      "*}\";\n",
      "    fi;\n",
      "    local inside_worktree=\"${repo_info##*\n",
      "}\";\n",
      "    repo_info=\"${repo_info%\n",
      "*}\";\n",
      "    local bare_repo=\"${repo_info##*\n",
      "}\";\n",
      "    repo_info=\"${repo_info%\n",
      "*}\";\n",
      "    local inside_gitdir=\"${repo_info##*\n",
      "}\";\n",
      "    local g=\"${repo_info%\n",
      "*}\";\n",
      "    if [ \"true\" = \"$inside_worktree\" ] && [ -n \"${GIT_PS1_HIDE_IF_PWD_IGNORED-}\" ] && [ \"$(git config --bool bash.hideIfPwdIgnored)\" != \"false\" ] && git check-ignore -q .; then\n",
      "        return $exit;\n",
      "    fi;\n",
      "    local r=\"\";\n",
      "    local b=\"\";\n",
      "    local step=\"\";\n",
      "    local total=\"\";\n",
      "    if [ -d \"$g/rebase-merge\" ]; then\n",
      "        __git_eread \"$g/rebase-merge/head-name\" b;\n",
      "        __git_eread \"$g/rebase-merge/msgnum\" step;\n",
      "        __git_eread \"$g/rebase-merge/end\" total;\n",
      "        if [ -f \"$g/rebase-merge/interactive\" ]; then\n",
      "            r=\"|REBASE-i\";\n",
      "        else\n",
      "            r=\"|REBASE-m\";\n",
      "        fi;\n",
      "    else\n",
      "        if [ -d \"$g/rebase-apply\" ]; then\n",
      "            __git_eread \"$g/rebase-apply/next\" step;\n",
      "            __git_eread \"$g/rebase-apply/last\" total;\n",
      "            if [ -f \"$g/rebase-apply/rebasing\" ]; then\n",
      "                __git_eread \"$g/rebase-apply/head-name\" b;\n",
      "                r=\"|REBASE\";\n",
      "            else\n",
      "                if [ -f \"$g/rebase-apply/applying\" ]; then\n",
      "                    r=\"|AM\";\n",
      "                else\n",
      "                    r=\"|AM/REBASE\";\n",
      "                fi;\n",
      "            fi;\n",
      "        else\n",
      "            if [ -f \"$g/MERGE_HEAD\" ]; then\n",
      "                r=\"|MERGING\";\n",
      "            else\n",
      "                if __git_sequencer_status; then\n",
      "                    :;\n",
      "                else\n",
      "                    if [ -f \"$g/BISECT_LOG\" ]; then\n",
      "                        r=\"|BISECTING\";\n",
      "                    fi;\n",
      "                fi;\n",
      "            fi;\n",
      "        fi;\n",
      "        if [ -n \"$b\" ]; then\n",
      "            :;\n",
      "        else\n",
      "            if [ -h \"$g/HEAD\" ]; then\n",
      "                b=\"$(git symbolic-ref HEAD 2>/dev/null)\";\n",
      "            else\n",
      "                local head=\"\";\n",
      "                if ! __git_eread \"$g/HEAD\" head; then\n",
      "                    return $exit;\n",
      "                fi;\n",
      "                b=\"${head#ref: }\";\n",
      "                if [ \"$head\" = \"$b\" ]; then\n",
      "                    detached=yes;\n",
      "                    b=\"$(\n",
      "\t\t\t\tcase \"${GIT_PS1_DESCRIBE_STYLE-}\" in\n",
      "\t\t\t\t(contains)\n",
      "\t\t\t\t\tgit describe --contains HEAD ;;\n",
      "\t\t\t\t(branch)\n",
      "\t\t\t\t\tgit describe --contains --all HEAD ;;\n",
      "\t\t\t\t(tag)\n",
      "\t\t\t\t\tgit describe --tags HEAD ;;\n",
      "\t\t\t\t(describe)\n",
      "\t\t\t\t\tgit describe HEAD ;;\n",
      "\t\t\t\t(* | default)\n",
      "\t\t\t\t\tgit describe --tags --exact-match HEAD ;;\n",
      "\t\t\t\tesac 2>/dev/null)\" || b=\"$short_sha...\";\n",
      "                    b=\"($b)\";\n",
      "                fi;\n",
      "            fi;\n",
      "        fi;\n",
      "    fi;\n",
      "    if [ -n \"$step\" ] && [ -n \"$total\" ]; then\n",
      "        r=\"$r $step/$total\";\n",
      "    fi;\n",
      "    local w=\"\";\n",
      "    local i=\"\";\n",
      "    local s=\"\";\n",
      "    local u=\"\";\n",
      "    local c=\"\";\n",
      "    local p=\"\";\n",
      "    if [ \"true\" = \"$inside_gitdir\" ]; then\n",
      "        if [ \"true\" = \"$bare_repo\" ]; then\n",
      "            c=\"BARE:\";\n",
      "        else\n",
      "            b=\"GIT_DIR!\";\n",
      "        fi;\n",
      "    else\n",
      "        if [ \"true\" = \"$inside_worktree\" ]; then\n",
      "            if [ -n \"${GIT_PS1_SHOWDIRTYSTATE-}\" ] && [ \"$(git config --bool bash.showDirtyState)\" != \"false\" ]; then\n",
      "                git diff --no-ext-diff --quiet || w=\"*\";\n",
      "                git diff --no-ext-diff --cached --quiet || i=\"+\";\n",
      "                if [ -z \"$short_sha\" ] && [ -z \"$i\" ]; then\n",
      "                    i=\"#\";\n",
      "                fi;\n",
      "            fi;\n",
      "            if [ -n \"${GIT_PS1_SHOWSTASHSTATE-}\" ] && git rev-parse --verify --quiet refs/stash > /dev/null; then\n",
      "                s=\"$\";\n",
      "            fi;\n",
      "            if [ -n \"${GIT_PS1_SHOWUNTRACKEDFILES-}\" ] && [ \"$(git config --bool bash.showUntrackedFiles)\" != \"false\" ] && git ls-files --others --exclude-standard --directory --no-empty-directory --error-unmatch -- ':/*' > /dev/null 2> /dev/null; then\n",
      "                u=\"%${ZSH_VERSION+%}\";\n",
      "            fi;\n",
      "            if [ -n \"${GIT_PS1_SHOWUPSTREAM-}\" ]; then\n",
      "                __git_ps1_show_upstream;\n",
      "            fi;\n",
      "        fi;\n",
      "    fi;\n",
      "    local z=\"${GIT_PS1_STATESEPARATOR-\" \"}\";\n",
      "    if [ $pcmode = yes ] && [ -n \"${GIT_PS1_SHOWCOLORHINTS-}\" ]; then\n",
      "        __git_ps1_colorize_gitstring;\n",
      "    fi;\n",
      "    b=${b##refs/heads/};\n",
      "    if [ $pcmode = yes ] && [ $ps1_expanded = yes ]; then\n",
      "        __git_ps1_branch_name=$b;\n",
      "        b=\"\\${__git_ps1_branch_name}\";\n",
      "    fi;\n",
      "    local f=\"$w$i$s$u\";\n",
      "    local gitstring=\"$c$b${f:+$z$f}$r$p\";\n",
      "    if [ $pcmode = yes ]; then\n",
      "        if [ \"${__git_printf_supports_v-}\" != yes ]; then\n",
      "            gitstring=$(printf -- \"$printf_format\" \"$gitstring\");\n",
      "        else\n",
      "            printf -v gitstring -- \"$printf_format\" \"$gitstring\";\n",
      "        fi;\n",
      "        PS1=\"$ps1pc_start$gitstring$ps1pc_end\";\n",
      "    else\n",
      "        printf -- \"$printf_format\" \"$gitstring\";\n",
      "    fi;\n",
      "    return $exit\n",
      "}\n",
      "__git_ps1_colorize_gitstring () \n",
      "{ \n",
      "    if [[ -n ${ZSH_VERSION-} ]]; then\n",
      "        local c_red='%F{red}';\n",
      "        local c_green='%F{green}';\n",
      "        local c_lblue='%F{blue}';\n",
      "        local c_clear='%f';\n",
      "    else\n",
      "        local c_red='\\[\\e[31m\\]';\n",
      "        local c_green='\\[\\e[32m\\]';\n",
      "        local c_lblue='\\[\\e[1;34m\\]';\n",
      "        local c_clear='\\[\\e[0m\\]';\n",
      "    fi;\n",
      "    local bad_color=$c_red;\n",
      "    local ok_color=$c_green;\n",
      "    local flags_color=\"$c_lblue\";\n",
      "    local branch_color=\"\";\n",
      "    if [ $detached = no ]; then\n",
      "        branch_color=\"$ok_color\";\n",
      "    else\n",
      "        branch_color=\"$bad_color\";\n",
      "    fi;\n",
      "    c=\"$branch_color$c\";\n",
      "    z=\"$c_clear$z\";\n",
      "    if [ \"$w\" = \"*\" ]; then\n",
      "        w=\"$bad_color$w\";\n",
      "    fi;\n",
      "    if [ -n \"$i\" ]; then\n",
      "        i=\"$ok_color$i\";\n",
      "    fi;\n",
      "    if [ -n \"$s\" ]; then\n",
      "        s=\"$flags_color$s\";\n",
      "    fi;\n",
      "    if [ -n \"$u\" ]; then\n",
      "        u=\"$bad_color$u\";\n",
      "    fi;\n",
      "    r=\"$c_clear$r\"\n",
      "}\n",
      "__git_ps1_show_upstream () \n",
      "{ \n",
      "    local key value;\n",
      "    local svn_remote svn_url_pattern count n;\n",
      "    local upstream=git legacy=\"\" verbose=\"\" name=\"\";\n",
      "    svn_remote=();\n",
      "    local output=\"$(git config -z --get-regexp '^(svn-remote\\..*\\.url|bash\\.showupstream)$' 2>/dev/null | tr '\\0\\n' '\\n ')\";\n",
      "    while read -r key value; do\n"
     ]
    },
    {
     "name": "stdout",
     "output_type": "stream",
     "text": [
      "        case \"$key\" in \n",
      "            bash.showupstream)\n",
      "                GIT_PS1_SHOWUPSTREAM=\"$value\";\n",
      "                if [[ -z \"${GIT_PS1_SHOWUPSTREAM}\" ]]; then\n",
      "                    p=\"\";\n",
      "                    return;\n",
      "                fi\n",
      "            ;;\n",
      "            svn-remote.*.url)\n",
      "                svn_remote[$((${#svn_remote[@]} + 1))]=\"$value\";\n",
      "                svn_url_pattern=\"$svn_url_pattern\\\\|$value\";\n",
      "                upstream=svn+git\n",
      "            ;;\n",
      "        esac;\n",
      "    done <<< \"$output\";\n",
      "    for option in ${GIT_PS1_SHOWUPSTREAM};\n",
      "    do\n",
      "        case \"$option\" in \n",
      "            git | svn)\n",
      "                upstream=\"$option\"\n",
      "            ;;\n",
      "            verbose)\n",
      "                verbose=1\n",
      "            ;;\n",
      "            legacy)\n",
      "                legacy=1\n",
      "            ;;\n",
      "            name)\n",
      "                name=1\n",
      "            ;;\n",
      "        esac;\n",
      "    done;\n",
      "    case \"$upstream\" in \n",
      "        git)\n",
      "            upstream=\"@{upstream}\"\n",
      "        ;;\n",
      "        svn*)\n",
      "            local -a svn_upstream;\n",
      "            svn_upstream=($(git log --first-parent -1 \t\t\t\t\t--grep=\"^git-svn-id: \\(${svn_url_pattern#??}\\)\" 2>/dev/null));\n",
      "            if [[ 0 -ne ${#svn_upstream[@]} ]]; then\n",
      "                svn_upstream=${svn_upstream[${#svn_upstream[@]} - 2]};\n",
      "                svn_upstream=${svn_upstream%@*};\n",
      "                local n_stop=\"${#svn_remote[@]}\";\n",
      "                for ((n=1; n <= n_stop; n++))\n",
      "                do\n",
      "                    svn_upstream=${svn_upstream#${svn_remote[$n]}};\n",
      "                done;\n",
      "                if [[ -z \"$svn_upstream\" ]]; then\n",
      "                    upstream=${GIT_SVN_ID:-git-svn};\n",
      "                else\n",
      "                    upstream=${svn_upstream#/};\n",
      "                fi;\n",
      "            else\n",
      "                if [[ \"svn+git\" = \"$upstream\" ]]; then\n",
      "                    upstream=\"@{upstream}\";\n",
      "                fi;\n",
      "            fi\n",
      "        ;;\n",
      "    esac;\n",
      "    if [[ -z \"$legacy\" ]]; then\n",
      "        count=\"$(git rev-list --count --left-right \t\t\t\t\"$upstream\"...HEAD 2>/dev/null)\";\n",
      "    else\n",
      "        local commits;\n",
      "        if commits=\"$(git rev-list --left-right \"$upstream\"...HEAD 2>/dev/null)\"; then\n",
      "            local commit behind=0 ahead=0;\n",
      "            for commit in $commits;\n",
      "            do\n",
      "                case \"$commit\" in \n",
      "                    \"<\"*)\n",
      "                        ((behind++))\n",
      "                    ;;\n",
      "                    *)\n",
      "                        ((ahead++))\n",
      "                    ;;\n",
      "                esac;\n",
      "            done;\n",
      "            count=\"$behind\t$ahead\";\n",
      "        else\n",
      "            count=\"\";\n",
      "        fi;\n",
      "    fi;\n",
      "    if [[ -z \"$verbose\" ]]; then\n",
      "        case \"$count\" in \n",
      "            \"\")\n",
      "                p=\"\"\n",
      "            ;;\n",
      "            \"0\t0\")\n",
      "                p=\"=\"\n",
      "            ;;\n",
      "            \"0\t\"*)\n",
      "                p=\">\"\n",
      "            ;;\n",
      "            *\"\t0\")\n",
      "                p=\"<\"\n",
      "            ;;\n",
      "            *)\n",
      "                p=\"<>\"\n",
      "            ;;\n",
      "        esac;\n",
      "    else\n",
      "        case \"$count\" in \n",
      "            \"\")\n",
      "                p=\"\"\n",
      "            ;;\n",
      "            \"0\t0\")\n",
      "                p=\" u=\"\n",
      "            ;;\n",
      "            \"0\t\"*)\n",
      "                p=\" u+${count#0\t}\"\n",
      "            ;;\n",
      "            *\"\t0\")\n",
      "                p=\" u-${count%\t0}\"\n",
      "            ;;\n",
      "            *)\n",
      "                p=\" u+${count#*\t}-${count%\t*}\"\n",
      "            ;;\n",
      "        esac;\n",
      "        if [[ -n \"$count\" && -n \"$name\" ]]; then\n",
      "            __git_ps1_upstream_name=$(git rev-parse \t\t\t\t--abbrev-ref \"$upstream\" 2>/dev/null);\n",
      "            if [ $pcmode = yes ] && [ $ps1_expanded = yes ]; then\n",
      "                p=\"$p \\${__git_ps1_upstream_name}\";\n",
      "            else\n",
      "                p=\"$p ${__git_ps1_upstream_name}\";\n",
      "                unset __git_ps1_upstream_name;\n",
      "            fi;\n",
      "        fi;\n",
      "    fi\n",
      "}\n",
      "__git_sequencer_status () \n",
      "{ \n",
      "    local todo;\n",
      "    if test -f \"$g/CHERRY_PICK_HEAD\"; then\n",
      "        r=\"|CHERRY-PICKING\";\n",
      "        return 0;\n",
      "    else\n",
      "        if test -f \"$g/REVERT_HEAD\"; then\n",
      "            r=\"|REVERTING\";\n",
      "            return 0;\n",
      "        else\n",
      "            if __git_eread \"$g/sequencer/todo\" todo; then\n",
      "                case \"$todo\" in \n",
      "                    p[\\ \\\t] | pick[\\ \\\t]*)\n",
      "                        r=\"|CHERRY-PICKING\";\n",
      "                        return 0\n",
      "                    ;;\n",
      "                    revert[\\ \\\t]*)\n",
      "                        r=\"|REVERTING\";\n",
      "                        return 0\n",
      "                    ;;\n",
      "                esac;\n",
      "            fi;\n",
      "        fi;\n",
      "    fi;\n",
      "    return 1\n",
      "}\n",
      "__load_completion () \n",
      "{ \n",
      "    local -a dirs=(${BASH_COMPLETION_USER_DIR:-${XDG_DATA_HOME:-$HOME/.local/share}/bash-completion}/completions);\n",
      "    local OIFS=$IFS IFS=: dir cmd=\"${1##*/}\" compfile;\n",
      "    [[ -n $cmd ]] || return 1;\n",
      "    for dir in ${XDG_DATA_DIRS:-/usr/local/share:/usr/share};\n",
      "    do\n",
      "        dirs+=($dir/bash-completion/completions);\n",
      "    done;\n",
      "    IFS=$OIFS;\n",
      "    if [[ $BASH_SOURCE == */* ]]; then\n",
      "        dirs+=(\"${BASH_SOURCE%/*}/completions\");\n",
      "    else\n",
      "        dirs+=(./completions);\n",
      "    fi;\n",
      "    for dir in \"${dirs[@]}\";\n",
      "    do\n",
      "        [[ -d \"$dir\" ]] || continue;\n",
      "        for compfile in \"$cmd\" \"$cmd.bash\" \"_$cmd\";\n",
      "        do\n",
      "            compfile=\"$dir/$compfile\";\n",
      "            [[ -f \"$compfile\" ]] && . \"$compfile\" &> /dev/null && return 0;\n",
      "        done;\n",
      "    done;\n",
      "    [[ -n \"${_xspecs[$cmd]}\" ]] && complete -F _filedir_xspec \"$cmd\" && return 0;\n",
      "    return 1\n",
      "}\n",
      "__ltrim_colon_completions () \n",
      "{ \n",
      "    if [[ \"$1\" == *:* && \"$COMP_WORDBREAKS\" == *:* ]]; then\n",
      "        local colon_word=${1%\"${1##*:}\"};\n",
      "        local i=${#COMPREPLY[*]};\n",
      "        while [[ $((--i)) -ge 0 ]]; do\n",
      "            COMPREPLY[$i]=${COMPREPLY[$i]#\"$colon_word\"};\n",
      "        done;\n",
      "    fi\n",
      "}\n",
      "__parse_options () \n",
      "{ \n",
      "    local option option2 i IFS=' \t\n",
      ",/|';\n",
      "    option=;\n",
      "    local -a array=($1);\n",
      "    for i in \"${array[@]}\";\n",
      "    do\n",
      "        case \"$i\" in \n",
      "            ---*)\n",
      "                break\n",
      "            ;;\n",
      "            --?*)\n",
      "                option=$i;\n",
      "                break\n",
      "            ;;\n",
      "            -?*)\n",
      "                [[ -n $option ]] || option=$i\n",
      "            ;;\n",
      "            *)\n",
      "                break\n",
      "            ;;\n",
      "        esac;\n",
      "    done;\n",
      "    [[ -n $option ]] || return 0;\n",
      "    IFS=' \t\n",
      "';\n",
      "    if [[ $option =~ (\\[((no|dont)-?)\\]). ]]; then\n",
      "        option2=${option/\"${BASH_REMATCH[1]}\"/};\n",
      "        option2=${option2%%[<{().[]*};\n",
      "        printf '%s\\n' \"${option2/=*/=}\";\n",
      "        option=${option/\"${BASH_REMATCH[1]}\"/\"${BASH_REMATCH[2]}\"};\n",
      "    fi;\n",
      "    option=${option%%[<{().[]*};\n",
      "    printf '%s\\n' \"${option/=*/=}\"\n",
      "}\n",
      "__reassemble_comp_words_by_ref () \n",
      "{ \n",
      "    local exclude i j line ref;\n",
      "    if [[ -n $1 ]]; then\n",
      "        exclude=\"${1//[^$COMP_WORDBREAKS]}\";\n",
      "    fi;\n",
      "    printf -v \"$3\" %s \"$COMP_CWORD\";\n",
      "    if [[ -n $exclude ]]; then\n",
      "        line=$COMP_LINE;\n",
      "        for ((i=0, j=0; i < ${#COMP_WORDS[@]}; i++, j++))\n",
      "        do\n",
      "            while [[ $i -gt 0 && ${COMP_WORDS[$i]} == +([$exclude]) ]]; do\n",
      "                [[ $line != [[:blank:]]* ]] && (( j >= 2 )) && ((j--));\n",
      "                ref=\"$2[$j]\";\n",
      "                printf -v \"$ref\" %s \"${!ref}${COMP_WORDS[i]}\";\n",
      "                [[ $i == $COMP_CWORD ]] && printf -v \"$3\" %s \"$j\";\n",
      "                line=${line#*\"${COMP_WORDS[$i]}\"};\n",
      "                [[ $line == [[:blank:]]* ]] && ((j++));\n",
      "                (( $i < ${#COMP_WORDS[@]} - 1)) && ((i++)) || break 2;\n",
      "            done;\n",
      "            ref=\"$2[$j]\";\n",
      "            printf -v \"$ref\" %s \"${!ref}${COMP_WORDS[i]}\";\n",
      "            line=${line#*\"${COMP_WORDS[i]}\"};\n",
      "            [[ $i == $COMP_CWORD ]] && printf -v \"$3\" %s \"$j\";\n",
      "        done;\n",
      "        [[ $i == $COMP_CWORD ]] && printf -v \"$3\" %s \"$j\";\n",
      "    else\n",
      "        for i in \"${!COMP_WORDS[@]}\";\n",
      "        do\n",
      "            printf -v \"$2[i]\" %s \"${COMP_WORDS[i]}\";\n",
      "        done;\n",
      "    fi\n",
      "}\n",
      "_allowed_groups () \n",
      "{ \n",
      "    if _complete_as_root; then\n",
      "        local IFS='\n",
      "';\n",
      "        COMPREPLY=($(compgen -g -- \"$1\"));\n",
      "    else\n",
      "        local IFS='\n",
      " ';\n",
      "        COMPREPLY=($(compgen -W             \"$(id -Gn 2>/dev/null || groups 2>/dev/null)\" -- \"$1\"));\n",
      "    fi\n",
      "}\n",
      "_allowed_users () \n",
      "{ \n",
      "    if _complete_as_root; then\n",
      "        local IFS='\n",
      "';\n",
      "        COMPREPLY=($(compgen -u -- \"${1:-$cur}\"));\n",
      "    else\n",
      "        local IFS='\n",
      " ';\n",
      "        COMPREPLY=($(compgen -W             \"$(id -un 2>/dev/null || whoami 2>/dev/null)\" -- \"${1:-$cur}\"));\n",
      "    fi\n",
      "}\n",
      "_available_interfaces () \n",
      "{ \n",
      "    local PATH=$PATH:/sbin;\n",
      "    COMPREPLY=($({\n",
      "        if [[ ${1:-} == -w ]]; then\n",
      "            iwconfig\n"
     ]
    },
    {
     "name": "stdout",
     "output_type": "stream",
     "text": [
      "        elif [[ ${1:-} == -a ]]; then\n",
      "            ifconfig || ip link show up\n",
      "        else\n",
      "            ifconfig -a || ip link show\n",
      "        fi\n",
      "    } 2>/dev/null | awk         '/^[^ \\t]/ { if ($1 ~ /^[0-9]+:/) { print $2 } else { print $1 } }'));\n",
      "    COMPREPLY=($(compgen -W '${COMPREPLY[@]/%[[:punct:]]/}' -- \"$cur\"))\n",
      "}\n",
      "_cd () \n",
      "{ \n",
      "    local cur prev words cword;\n",
      "    _init_completion || return;\n",
      "    local IFS='\n",
      "' i j k;\n",
      "    compopt -o filenames;\n",
      "    if [[ -z \"${CDPATH:-}\" || \"$cur\" == ?(.)?(.)/* ]]; then\n",
      "        _filedir -d;\n",
      "        return;\n",
      "    fi;\n",
      "    local -r mark_dirs=$(_rl_enabled mark-directories && echo y);\n",
      "    local -r mark_symdirs=$(_rl_enabled mark-symlinked-directories && echo y);\n",
      "    for i in ${CDPATH//:/'\n",
      "'};\n",
      "    do\n",
      "        k=\"${#COMPREPLY[@]}\";\n",
      "        for j in $(compgen -d -- $i/$cur);\n",
      "        do\n",
      "            if [[ ( -n $mark_symdirs && -h $j || -n $mark_dirs && ! -h $j ) && ! -d ${j#$i/} ]]; then\n",
      "                j+=\"/\";\n",
      "            fi;\n",
      "            COMPREPLY[k++]=${j#$i/};\n",
      "        done;\n",
      "    done;\n",
      "    _filedir -d;\n",
      "    if [[ ${#COMPREPLY[@]} -eq 1 ]]; then\n",
      "        i=${COMPREPLY[0]};\n",
      "        if [[ \"$i\" == \"$cur\" && $i != \"*/\" ]]; then\n",
      "            COMPREPLY[0]=\"${i}/\";\n",
      "        fi;\n",
      "    fi;\n",
      "    return\n",
      "}\n",
      "_cd_devices () \n",
      "{ \n",
      "    COMPREPLY+=($(compgen -f -d -X \"!*/?([amrs])cd*\" -- \"${cur:-/dev/}\"))\n",
      "}\n",
      "_command () \n",
      "{ \n",
      "    local offset i;\n",
      "    offset=1;\n",
      "    for ((i=1; i <= COMP_CWORD; i++ ))\n",
      "    do\n",
      "        if [[ \"${COMP_WORDS[i]}\" != -* ]]; then\n",
      "            offset=$i;\n",
      "            break;\n",
      "        fi;\n",
      "    done;\n",
      "    _command_offset $offset\n",
      "}\n",
      "_command_offset () \n",
      "{ \n",
      "    local word_offset=$1 i j;\n",
      "    for ((i=0; i < $word_offset; i++ ))\n",
      "    do\n",
      "        for ((j=0; j <= ${#COMP_LINE}; j++ ))\n",
      "        do\n",
      "            [[ \"$COMP_LINE\" == \"${COMP_WORDS[i]}\"* ]] && break;\n",
      "            COMP_LINE=${COMP_LINE:1};\n",
      "            ((COMP_POINT--));\n",
      "        done;\n",
      "        COMP_LINE=${COMP_LINE#\"${COMP_WORDS[i]}\"};\n",
      "        ((COMP_POINT-=${#COMP_WORDS[i]}));\n",
      "    done;\n",
      "    for ((i=0; i <= COMP_CWORD - $word_offset; i++ ))\n",
      "    do\n",
      "        COMP_WORDS[i]=${COMP_WORDS[i+$word_offset]};\n",
      "    done;\n",
      "    for ((i; i <= COMP_CWORD; i++ ))\n",
      "    do\n",
      "        unset 'COMP_WORDS[i]';\n",
      "    done;\n",
      "    ((COMP_CWORD -= $word_offset));\n",
      "    COMPREPLY=();\n",
      "    local cur;\n",
      "    _get_comp_words_by_ref cur;\n",
      "    if [[ $COMP_CWORD -eq 0 ]]; then\n",
      "        local IFS='\n",
      "';\n",
      "        compopt -o filenames;\n",
      "        COMPREPLY=($(compgen -d -c -- \"$cur\"));\n",
      "    else\n",
      "        local cmd=${COMP_WORDS[0]} compcmd=${COMP_WORDS[0]};\n",
      "        local cspec=$(complete -p $cmd 2>/dev/null);\n",
      "        if [[ ! -n $cspec && $cmd == */* ]]; then\n",
      "            cspec=$(complete -p ${cmd##*/} 2>/dev/null);\n",
      "            [[ -n $cspec ]] && compcmd=${cmd##*/};\n",
      "        fi;\n",
      "        if [[ ! -n $cspec ]]; then\n",
      "            compcmd=${cmd##*/};\n",
      "            _completion_loader $compcmd;\n",
      "            cspec=$(complete -p $compcmd 2>/dev/null);\n",
      "        fi;\n",
      "        if [[ -n $cspec ]]; then\n",
      "            if [[ ${cspec#* -F } != $cspec ]]; then\n",
      "                local func=${cspec#*-F };\n",
      "                func=${func%% *};\n",
      "                if [[ ${#COMP_WORDS[@]} -ge 2 ]]; then\n",
      "                    $func $cmd \"${COMP_WORDS[${#COMP_WORDS[@]}-1]}\" \"${COMP_WORDS[${#COMP_WORDS[@]}-2]}\";\n",
      "                else\n",
      "                    $func $cmd \"${COMP_WORDS[${#COMP_WORDS[@]}-1]}\";\n",
      "                fi;\n",
      "                local opt;\n",
      "                while [[ $cspec == *\" -o \"* ]]; do\n",
      "                    cspec=${cspec#*-o };\n",
      "                    opt=${cspec%% *};\n",
      "                    compopt -o $opt;\n",
      "                    cspec=${cspec#$opt};\n",
      "                done;\n",
      "            else\n",
      "                cspec=${cspec#complete};\n",
      "                cspec=${cspec%%$compcmd};\n",
      "                COMPREPLY=($(eval compgen \"$cspec\" -- '$cur'));\n",
      "            fi;\n",
      "        else\n",
      "            if [[ ${#COMPREPLY[@]} -eq 0 ]]; then\n",
      "                _minimal;\n",
      "            fi;\n",
      "        fi;\n",
      "    fi\n",
      "}\n",
      "_complete_as_root () \n",
      "{ \n",
      "    [[ $EUID -eq 0 || -n ${root_command:-} ]]\n",
      "}\n",
      "_completion_loader () \n",
      "{ \n",
      "    local cmd=\"${1:-_EmptycmD_}\";\n",
      "    __load_completion \"$cmd\" && return 124;\n",
      "    complete -F _minimal -- \"$cmd\" && return 124\n",
      "}\n",
      "_configured_interfaces () \n",
      "{ \n",
      "    if [[ -f /etc/debian_version ]]; then\n",
      "        COMPREPLY=($(compgen -W \"$(command sed -ne 's|^iface \\([^ ]\\{1,\\}\\).*$|\\1|p'            /etc/network/interfaces /etc/network/interfaces.d/* 2>/dev/null)\"             -- \"$cur\"));\n",
      "    else\n",
      "        if [[ -f /etc/SuSE-release ]]; then\n",
      "            COMPREPLY=($(compgen -W \"$(printf '%s\\n'             /etc/sysconfig/network/ifcfg-* |             command sed -ne 's|.*ifcfg-\\([^*].*\\)$|\\1|p')\" -- \"$cur\"));\n",
      "        else\n",
      "            if [[ -f /etc/pld-release ]]; then\n",
      "                COMPREPLY=($(compgen -W \"$(command ls -B             /etc/sysconfig/interfaces |             command sed -ne 's|.*ifcfg-\\([^*].*\\)$|\\1|p')\" -- \"$cur\"));\n",
      "            else\n",
      "                COMPREPLY=($(compgen -W \"$(printf '%s\\n'             /etc/sysconfig/network-scripts/ifcfg-* |             command sed -ne 's|.*ifcfg-\\([^*].*\\)$|\\1|p')\" -- \"$cur\"));\n",
      "            fi;\n",
      "        fi;\n",
      "    fi\n",
      "}\n",
      "_count_args () \n",
      "{ \n",
      "    local i cword words;\n",
      "    __reassemble_comp_words_by_ref \"$1\" words cword;\n",
      "    args=1;\n",
      "    for ((i=1; i < cword; i++ ))\n",
      "    do\n",
      "        if [[ ${words[i]} != -* && ${words[i-1]} != $2 || ${words[i]} == $3 ]]; then\n",
      "            (( args++ ));\n",
      "        fi;\n",
      "    done\n",
      "}\n",
      "_dkms () \n",
      "{ \n",
      "    local cur prev command module i;\n",
      "    COMPREPLY=();\n",
      "    cur=${COMP_WORDS[COMP_CWORD]};\n",
      "    if [[ $COMP_CWORD -eq 1 ]]; then\n",
      "        COMPREPLY=($( compgen -W \"add autoinstall remove build install uninstall \t\t\tmatch mkdriverdisk mktarball ldtarball mkrpm mkdeb mkdsc mkkmp \t\t\tstatus\" -- $cur ));\n",
      "    else\n",
      "        prev=${COMP_WORDS[COMP_CWORD-1]};\n",
      "        command=${COMP_WORDS[1]};\n",
      "        case $prev in \n",
      "            -m)\n",
      "                if [ \"$command\" = 'add' ]; then\n",
      "                    _filename_parts '.*-.*' 1;\n",
      "                else\n",
      "                    _subdirectories /var/lib/dkms;\n",
      "                fi;\n",
      "                return 0\n",
      "            ;;\n",
      "            -v)\n",
      "                for ((i=1; i < COMP_CWORD; i++ ))\n",
      "                do\n",
      "                    if [[ \"${COMP_WORDS[i]}\" == -m ]]; then\n",
      "                        module=${COMP_WORDS[i+1]};\n",
      "                        break;\n",
      "                    fi;\n",
      "                done;\n",
      "                if [ -n \"$module\" ]; then\n",
      "                    if [ \"$command\" = 'add' ]; then\n",
      "                        _filename_parts \"$module-.*\" 2;\n",
      "                    else\n",
      "                        _subdirectories /var/lib/dkms/$module;\n",
      "                    fi;\n",
      "                    return 0;\n",
      "                fi\n",
      "            ;;\n",
      "            -k)\n",
      "                _kernels;\n",
      "                return 0\n",
      "            ;;\n",
      "            -@\\(c | -spec | -archive | -config\\))\n",
      "                _filedir;\n",
      "                return 0\n",
      "            ;;\n",
      "            --kernelsourcedir)\n",
      "                _filedir -d;\n",
      "                return 0\n",
      "            ;;\n",
      "        esac;\n",
      "        if [[ \"$cur\" == -* ]]; then\n",
      "            case $command in \n",
      "                add)\n",
      "                    options='-c --rpm_safe_upgrade'\n",
      "                ;;\n",
      "                remove)\n",
      "                    options='--rpm_safe_upgrade'\n",
      "                ;;\n",
      "                build)\n",
      "                    options='--config'\n",
      "                ;;\n",
      "                mkdriverdisk)\n",
      "                    options='-d --distro -r --release --size'\n",
      "                ;;\n",
      "                ldtarball)\n",
      "                    options='--archive --force'\n",
      "                ;;\n",
      "                mktarball)\n",
      "                    options='--source-only --binaries-only'\n",
      "                ;;\n",
      "                mkrpm)\n",
      "                    options='--source-only'\n",
      "                ;;\n",
      "                mkkmp)\n",
      "                    options='--spec'\n",
      "                ;;\n",
      "                match)\n",
      "                    options='--templatekernel'\n",
      "                ;;\n",
      "            esac;\n",
      "            options=\"$options -m -v -k -a --arch -q --quiet -V \t\t\t\t--version --all --no-prepare-kernel \t\t\t\t--no-clean-kernel --kernelsourcedir \t\t\t\t--directive\";\n",
      "            COMPREPLY=($( compgen -W \"$options\" -- $cur ));\n",
      "        fi;\n",
      "    fi\n",
      "}\n",
      "_dvd_devices () \n",
      "{ \n",
      "    COMPREPLY+=($(compgen -f -d -X \"!*/?(r)dvd*\" -- \"${cur:-/dev/}\"))\n",
      "}\n",
      "_expand () \n",
      "{ \n",
      "    if [[ \"$cur\" == \\~*/* ]]; then\n"
     ]
    },
    {
     "name": "stdout",
     "output_type": "stream",
     "text": [
      "        __expand_tilde_by_ref cur;\n",
      "    else\n",
      "        if [[ \"$cur\" == \\~* ]]; then\n",
      "            _tilde \"$cur\" || eval COMPREPLY[0]=$(printf ~%q \"${COMPREPLY[0]#\\~}\");\n",
      "            return ${#COMPREPLY[@]};\n",
      "        fi;\n",
      "    fi\n",
      "}\n",
      "_filedir () \n",
      "{ \n",
      "    local IFS='\n",
      "';\n",
      "    _tilde \"$cur\" || return;\n",
      "    local -a toks;\n",
      "    local reset;\n",
      "    if [[ \"$1\" == -d ]]; then\n",
      "        reset=$(shopt -po noglob);\n",
      "        set -o noglob;\n",
      "        toks=($(compgen -d -- \"$cur\"));\n",
      "        IFS=' ';\n",
      "        $reset;\n",
      "        IFS='\n",
      "';\n",
      "    else\n",
      "        local quoted;\n",
      "        _quote_readline_by_ref \"$cur\" quoted;\n",
      "        local xspec=${1:+\"!*.@($1|${1^^})\"} plusdirs=();\n",
      "        local opts=(-f -X \"$xspec\");\n",
      "        [[ -n $xspec ]] && plusdirs=(-o plusdirs);\n",
      "        [[ -n ${COMP_FILEDIR_FALLBACK-} ]] || opts+=(\"${plusdirs[@]}\");\n",
      "        reset=$(shopt -po noglob);\n",
      "        set -o noglob;\n",
      "        toks+=($(compgen \"${opts[@]}\" -- $quoted));\n",
      "        IFS=' ';\n",
      "        $reset;\n",
      "        IFS='\n",
      "';\n",
      "        [[ -n ${COMP_FILEDIR_FALLBACK:-} && -n \"$1\" && ${#toks[@]} -lt 1 ]] && { \n",
      "            reset=$(shopt -po noglob);\n",
      "            set -o noglob;\n",
      "            toks+=($(compgen -f \"${plusdirs[@]}\" -- $quoted));\n",
      "            IFS=' ';\n",
      "            $reset;\n",
      "            IFS='\n",
      "'\n",
      "        };\n",
      "    fi;\n",
      "    if [[ ${#toks[@]} -ne 0 ]]; then\n",
      "        compopt -o filenames 2> /dev/null;\n",
      "        COMPREPLY+=(\"${toks[@]}\");\n",
      "    fi\n",
      "}\n",
      "_filedir_xspec () \n",
      "{ \n",
      "    local cur prev words cword;\n",
      "    _init_completion || return;\n",
      "    _tilde \"$cur\" || return;\n",
      "    local IFS='\n",
      "' xspec=${_xspecs[${1##*/}]} tmp;\n",
      "    local -a toks;\n",
      "    toks=($(\n",
      "        compgen -d -- \"$(quote_readline \"$cur\")\" | {\n",
      "        while read -r tmp; do\n",
      "            printf '%s\\n' $tmp\n",
      "        done\n",
      "        }\n",
      "        ));\n",
      "    eval xspec=\"${xspec}\";\n",
      "    local matchop=!;\n",
      "    if [[ $xspec == !* ]]; then\n",
      "        xspec=${xspec#!};\n",
      "        matchop=@;\n",
      "    fi;\n",
      "    xspec=\"$matchop($xspec|${xspec^^})\";\n",
      "    toks+=($(\n",
      "        eval compgen -f -X \"'!$xspec'\" -- \"\\$(quote_readline \"\\$cur\")\" | {\n",
      "        while read -r tmp; do\n",
      "            [[ -n $tmp ]] && printf '%s\\n' $tmp\n",
      "        done\n",
      "        }\n",
      "        ));\n",
      "    [[ -n ${COMP_FILEDIR_FALLBACK:-} && ${#toks[@]} -lt 1 ]] && { \n",
      "        local reset=$(shopt -po noglob);\n",
      "        set -o noglob;\n",
      "        toks+=($(compgen -f -- \"$(quote_readline \"$cur\")\"));\n",
      "        IFS=' ';\n",
      "        $reset;\n",
      "        IFS='\n",
      "'\n",
      "    };\n",
      "    if [[ ${#toks[@]} -ne 0 ]]; then\n",
      "        compopt -o filenames;\n",
      "        COMPREPLY=(\"${toks[@]}\");\n",
      "    fi\n",
      "}\n",
      "_filename_parts () \n",
      "{ \n",
      "    COMPREPLY=($( command ls -F /usr/src/ 2>/dev/null | grep -E '^'$1'/$' \t\t| sed -r -e 's/^([^-]+)-(.+)\\/$/\\'$2'/' | grep \"^$cur\" ))\n",
      "}\n",
      "_fstypes () \n",
      "{ \n",
      "    local fss;\n",
      "    if [[ -e /proc/filesystems ]]; then\n",
      "        fss=\"$(cut -d'\t' -f2 /proc/filesystems)\n",
      "             $(awk '! /\\*/ { print $NF }' /etc/filesystems 2>/dev/null)\";\n",
      "    else\n",
      "        fss=\"$(awk '/^[ \\t]*[^#]/ { print $3 }' /etc/fstab 2>/dev/null)\n",
      "             $(awk '/^[ \\t]*[^#]/ { print $3 }' /etc/mnttab 2>/dev/null)\n",
      "             $(awk '/^[ \\t]*[^#]/ { print $4 }' /etc/vfstab 2>/dev/null)\n",
      "             $(awk '{ print $1 }' /etc/dfs/fstypes 2>/dev/null)\n",
      "             $([[ -d /etc/fs ]] && command ls /etc/fs)\";\n",
      "    fi;\n",
      "    [[ -n $fss ]] && COMPREPLY+=($(compgen -W \"$fss\" -- \"$cur\"))\n",
      "}\n",
      "_get_comp_words_by_ref () \n",
      "{ \n",
      "    local exclude flag i OPTIND=1;\n",
      "    local cur cword words=();\n",
      "    local upargs=() upvars=() vcur vcword vprev vwords;\n",
      "    while getopts \"c:i:n:p:w:\" flag \"$@\"; do\n",
      "        case $flag in \n",
      "            c)\n",
      "                vcur=$OPTARG\n",
      "            ;;\n",
      "            i)\n",
      "                vcword=$OPTARG\n",
      "            ;;\n",
      "            n)\n",
      "                exclude=$OPTARG\n",
      "            ;;\n",
      "            p)\n",
      "                vprev=$OPTARG\n",
      "            ;;\n",
      "            w)\n",
      "                vwords=$OPTARG\n",
      "            ;;\n",
      "        esac;\n",
      "    done;\n",
      "    while [[ $# -ge $OPTIND ]]; do\n",
      "        case ${!OPTIND} in \n",
      "            cur)\n",
      "                vcur=cur\n",
      "            ;;\n",
      "            prev)\n",
      "                vprev=prev\n",
      "            ;;\n",
      "            cword)\n",
      "                vcword=cword\n",
      "            ;;\n",
      "            words)\n",
      "                vwords=words\n",
      "            ;;\n",
      "            *)\n",
      "                echo \"bash_completion: $FUNCNAME: \\`${!OPTIND}':\" \"unknown argument\" 1>&2;\n",
      "                return 1\n",
      "            ;;\n",
      "        esac;\n",
      "        (( OPTIND += 1 ));\n",
      "    done;\n",
      "    __get_cword_at_cursor_by_ref \"$exclude\" words cword cur;\n",
      "    [[ -n $vcur ]] && { \n",
      "        upvars+=(\"$vcur\");\n",
      "        upargs+=(-v $vcur \"$cur\")\n",
      "    };\n",
      "    [[ -n $vcword ]] && { \n",
      "        upvars+=(\"$vcword\");\n",
      "        upargs+=(-v $vcword \"$cword\")\n",
      "    };\n",
      "    [[ -n $vprev && $cword -ge 1 ]] && { \n",
      "        upvars+=(\"$vprev\");\n",
      "        upargs+=(-v $vprev \"${words[cword - 1]}\")\n",
      "    };\n",
      "    [[ -n $vwords ]] && { \n",
      "        upvars+=(\"$vwords\");\n",
      "        upargs+=(-a${#words[@]} $vwords \"${words[@]}\")\n",
      "    };\n",
      "    (( ${#upvars[@]} )) && local \"${upvars[@]}\" && _upvars \"${upargs[@]}\"\n",
      "}\n",
      "_get_cword () \n",
      "{ \n",
      "    local LC_CTYPE=C;\n",
      "    local cword words;\n",
      "    __reassemble_comp_words_by_ref \"$1\" words cword;\n",
      "    if [[ -n ${2//[^0-9]/} ]]; then\n",
      "        printf \"%s\" \"${words[cword-$2]}\";\n",
      "    else\n",
      "        if [[ \"${#words[cword]}\" -eq 0 || \"$COMP_POINT\" == \"${#COMP_LINE}\" ]]; then\n",
      "            printf \"%s\" \"${words[cword]}\";\n",
      "        else\n",
      "            local i;\n",
      "            local cur=\"$COMP_LINE\";\n",
      "            local index=\"$COMP_POINT\";\n",
      "            for ((i = 0; i <= cword; ++i ))\n",
      "            do\n",
      "                while [[ \"${#cur}\" -ge ${#words[i]} && \"${cur:0:${#words[i]}}\" != \"${words[i]}\" ]]; do\n",
      "                    cur=\"${cur:1}\";\n",
      "                    [[ $index -gt 0 ]] && ((index--));\n",
      "                done;\n",
      "                if [[ \"$i\" -lt \"$cword\" ]]; then\n",
      "                    local old_size=\"${#cur}\";\n",
      "                    cur=\"${cur#${words[i]}}\";\n",
      "                    local new_size=\"${#cur}\";\n",
      "                    (( index -= old_size - new_size ));\n",
      "                fi;\n",
      "            done;\n",
      "            if [[ \"${words[cword]:0:${#cur}}\" != \"$cur\" ]]; then\n",
      "                printf \"%s\" \"${words[cword]}\";\n",
      "            else\n",
      "                printf \"%s\" \"${cur:0:$index}\";\n",
      "            fi;\n",
      "        fi;\n",
      "    fi\n",
      "}\n",
      "_get_first_arg () \n",
      "{ \n",
      "    local i;\n",
      "    arg=;\n",
      "    for ((i=1; i < COMP_CWORD; i++ ))\n",
      "    do\n",
      "        if [[ \"${COMP_WORDS[i]}\" != -* ]]; then\n",
      "            arg=${COMP_WORDS[i]};\n",
      "            break;\n",
      "        fi;\n",
      "    done\n",
      "}\n",
      "_get_pword () \n",
      "{ \n",
      "    if [[ $COMP_CWORD -ge 1 ]]; then\n",
      "        _get_cword \"${@:-}\" 1;\n",
      "    fi\n",
      "}\n",
      "_gids () \n",
      "{ \n",
      "    if type getent &> /dev/null; then\n",
      "        COMPREPLY=($(compgen -W '$(getent group | cut -d: -f3)' -- \"$cur\"));\n",
      "    else\n",
      "        if type perl &> /dev/null; then\n",
      "            COMPREPLY=($(compgen -W '$(perl -e '\"'\"'while (($gid) = (getgrent)[2]) { print $gid . \"\\n\" }'\"'\"')' -- \"$cur\"));\n",
      "        else\n",
      "            COMPREPLY=($(compgen -W '$(cut -d: -f3 /etc/group)' -- \"$cur\"));\n",
      "        fi;\n",
      "    fi\n",
      "}\n",
      "_have () \n",
      "{ \n",
      "    PATH=$PATH:/usr/sbin:/sbin:/usr/local/sbin type $1 &> /dev/null\n",
      "}\n",
      "_included_ssh_config_files () \n",
      "{ \n",
      "    [[ $# -lt 1 ]] && echo \"bash_completion: $FUNCNAME: missing mandatory argument CONFIG\" 1>&2;\n",
      "    local configfile i f;\n",
      "    configfile=$1;\n",
      "    local included=($(command sed -ne 's/^[[:blank:]]*[Ii][Nn][Cc][Ll][Uu][Dd][Ee][[:blank:]]\\{1,\\}\\([^#%]*\\)\\(#.*\\)\\{0,1\\}$/\\1/p' \"${configfile}\"));\n",
      "    for i in \"${included[@]}\";\n",
      "    do\n",
      "        if ! [[ \"$i\" =~ ^\\~.*|^\\/.* ]]; then\n",
      "            if [[ \"$configfile\" =~ ^\\/etc\\/ssh.* ]]; then\n",
      "                i=\"/etc/ssh/$i\";\n",
      "            else\n",
      "                i=\"$HOME/.ssh/$i\";\n",
      "            fi;\n",
      "        fi;\n",
      "        __expand_tilde_by_ref i;\n",
      "        for f in ${i};\n",
      "        do\n",
      "            if [ -r $f ]; then\n",
      "                config+=(\"$f\");\n",
      "                _included_ssh_config_files $f;\n",
      "            fi;\n",
      "        done;\n",
      "    done\n",
      "}\n",
      "_init_completion () \n",
      "{ \n",
      "    local exclude=\"\" flag outx errx inx OPTIND=1;\n",
      "    while getopts \"n:e:o:i:s\" flag \"$@\"; do\n",
      "        case $flag in \n",
      "            n)\n",
      "                exclude+=$OPTARG\n",
      "            ;;\n",
      "            e)\n",
      "                errx=$OPTARG\n",
      "            ;;\n",
      "            o)\n",
      "                outx=$OPTARG\n",
      "            ;;\n",
      "            i)\n",
      "                inx=$OPTARG\n",
      "            ;;\n",
      "            s)\n",
      "                split=false;\n",
      "                exclude+==\n",
      "            ;;\n",
      "        esac;\n",
      "    done;\n",
      "    COMPREPLY=();\n",
      "    local redir=\"@(?([0-9])<|?([0-9&])>?(>)|>&)\";\n"
     ]
    },
    {
     "name": "stdout",
     "output_type": "stream",
     "text": [
      "    _get_comp_words_by_ref -n \"$exclude<>&\" cur prev words cword;\n",
      "    _variables && return 1;\n",
      "    if [[ $cur == $redir* || $prev == $redir ]]; then\n",
      "        local xspec;\n",
      "        case $cur in \n",
      "            2'>'*)\n",
      "                xspec=$errx\n",
      "            ;;\n",
      "            *'>'*)\n",
      "                xspec=$outx\n",
      "            ;;\n",
      "            *'<'*)\n",
      "                xspec=$inx\n",
      "            ;;\n",
      "            *)\n",
      "                case $prev in \n",
      "                    2'>'*)\n",
      "                        xspec=$errx\n",
      "                    ;;\n",
      "                    *'>'*)\n",
      "                        xspec=$outx\n",
      "                    ;;\n",
      "                    *'<'*)\n",
      "                        xspec=$inx\n",
      "                    ;;\n",
      "                esac\n",
      "            ;;\n",
      "        esac;\n",
      "        cur=\"${cur##$redir}\";\n",
      "        _filedir $xspec;\n",
      "        return 1;\n",
      "    fi;\n",
      "    local i skip;\n",
      "    for ((i=1; i < ${#words[@]}; 1))\n",
      "    do\n",
      "        if [[ ${words[i]} == $redir* ]]; then\n",
      "            [[ ${words[i]} == $redir ]] && skip=2 || skip=1;\n",
      "            words=(\"${words[@]:0:i}\" \"${words[@]:i+skip}\");\n",
      "            [[ $i -le $cword ]] && (( cword -= skip ));\n",
      "        else\n",
      "            (( i++ ));\n",
      "        fi;\n",
      "    done;\n",
      "    [[ $cword -le 0 ]] && return 1;\n",
      "    prev=${words[cword-1]};\n",
      "    [[ -n ${split-} ]] && _split_longopt && split=true;\n",
      "    return 0\n",
      "}\n",
      "_installed_modules () \n",
      "{ \n",
      "    COMPREPLY=($(compgen -W \"$(PATH=\"$PATH:/sbin\" lsmod |         awk '{if (NR != 1) print $1}')\" -- \"$1\"))\n",
      "}\n",
      "_ip_addresses () \n",
      "{ \n",
      "    local n;\n",
      "    case $1 in \n",
      "        -a)\n",
      "            n='6\\?'\n",
      "        ;;\n",
      "        -6)\n",
      "            n='6'\n",
      "        ;;\n",
      "    esac;\n",
      "    local PATH=$PATH:/sbin;\n",
      "    local addrs=$({ LC_ALL=C ifconfig -a || ip addr show; } 2>/dev/null |\n",
      "        command sed -e 's/[[:space:]]addr:/ /' -ne             \"s|.*inet${n}[[:space:]]\\{1,\\}\\([^[:space:]/]*\\).*|\\1|p\");\n",
      "    COMPREPLY+=($(compgen -W \"$addrs\" -- \"$cur\"))\n",
      "}\n",
      "_kernel_versions () \n",
      "{ \n",
      "    COMPREPLY=($(compgen -W '$(command ls /lib/modules)' -- \"$cur\"))\n",
      "}\n",
      "_kernels () \n",
      "{ \n",
      "    COMPREPLY=($( cd /lib/modules && compgen -d -- \"$cur\" ))\n",
      "}\n",
      "_known_hosts () \n",
      "{ \n",
      "    local cur prev words cword;\n",
      "    _init_completion -n : || return;\n",
      "    local options;\n",
      "    [[ \"$1\" == -a || \"$2\" == -a ]] && options=-a;\n",
      "    [[ \"$1\" == -c || \"$2\" == -c ]] && options+=\" -c\";\n",
      "    _known_hosts_real $options -- \"$cur\"\n",
      "}\n",
      "_known_hosts_real () \n",
      "{ \n",
      "    local configfile flag prefix OIFS=$IFS;\n",
      "    local cur user suffix aliases i host ipv4 ipv6;\n",
      "    local -a kh tmpkh khd config;\n",
      "    local OPTIND=1;\n",
      "    while getopts \"ac46F:p:\" flag \"$@\"; do\n",
      "        case $flag in \n",
      "            a)\n",
      "                aliases='yes'\n",
      "            ;;\n",
      "            c)\n",
      "                suffix=':'\n",
      "            ;;\n",
      "            F)\n",
      "                configfile=$OPTARG\n",
      "            ;;\n",
      "            p)\n",
      "                prefix=$OPTARG\n",
      "            ;;\n",
      "            4)\n",
      "                ipv4=1\n",
      "            ;;\n",
      "            6)\n",
      "                ipv6=1\n",
      "            ;;\n",
      "        esac;\n",
      "    done;\n",
      "    [[ $# -lt $OPTIND ]] && echo \"bash_completion: $FUNCNAME: missing mandatory argument CWORD\" 1>&2;\n",
      "    cur=${!OPTIND};\n",
      "    (( OPTIND += 1 ));\n",
      "    [[ $# -ge $OPTIND ]] && echo \"bash_completion: $FUNCNAME($*): unprocessed arguments:\" $(while [[ $# -ge $OPTIND ]]; do printf '%s\\n' ${!OPTIND}; shift; done) 1>&2;\n",
      "    [[ $cur == *@* ]] && user=${cur%@*}@ && cur=${cur#*@};\n",
      "    kh=();\n",
      "    if [[ -n $configfile ]]; then\n",
      "        [[ -r $configfile ]] && config+=(\"$configfile\");\n",
      "    else\n",
      "        for i in /etc/ssh/ssh_config ~/.ssh/config ~/.ssh2/config;\n",
      "        do\n",
      "            [[ -r $i ]] && config+=(\"$i\");\n",
      "        done;\n",
      "    fi;\n",
      "    for i in \"${config[@]}\";\n",
      "    do\n",
      "        _included_ssh_config_files \"$i\";\n",
      "    done;\n",
      "    if [[ ${#config[@]} -gt 0 ]]; then\n",
      "        local IFS='\n",
      "' j;\n",
      "        tmpkh=($(awk 'sub(\"^[ \\t]*([Gg][Ll][Oo][Bb][Aa][Ll]|[Uu][Ss][Ee][Rr])[Kk][Nn][Oo][Ww][Nn][Hh][Oo][Ss][Tt][Ss][Ff][Ii][Ll][Ee][ \\t]+\", \"\") { print $0 }' \"${config[@]}\" | sort -u));\n",
      "        IFS=$OIFS;\n",
      "        for i in \"${tmpkh[@]}\";\n",
      "        do\n",
      "            while [[ $i =~ ^([^\\\"]*)\\\"([^\\\"]*)\\\"(.*)$ ]]; do\n",
      "                i=${BASH_REMATCH[1]}${BASH_REMATCH[3]};\n",
      "                j=${BASH_REMATCH[2]};\n",
      "                __expand_tilde_by_ref j;\n",
      "                [[ -r $j ]] && kh+=(\"$j\");\n",
      "            done;\n",
      "            for j in $i;\n",
      "            do\n",
      "                __expand_tilde_by_ref j;\n",
      "                [[ -r $j ]] && kh+=(\"$j\");\n",
      "            done;\n",
      "        done;\n",
      "    fi;\n",
      "    if [[ -z $configfile ]]; then\n",
      "        for i in /etc/ssh/ssh_known_hosts /etc/ssh/ssh_known_hosts2 /etc/known_hosts /etc/known_hosts2 ~/.ssh/known_hosts ~/.ssh/known_hosts2;\n",
      "        do\n",
      "            [[ -r $i ]] && kh+=(\"$i\");\n",
      "        done;\n",
      "        for i in /etc/ssh2/knownhosts ~/.ssh2/hostkeys;\n",
      "        do\n",
      "            [[ -d $i ]] && khd+=(\"$i\"/*pub);\n",
      "        done;\n",
      "    fi;\n",
      "    if [[ ${#kh[@]} -gt 0 || ${#khd[@]} -gt 0 ]]; then\n",
      "        if [[ ${#kh[@]} -gt 0 ]]; then\n",
      "            for i in \"${kh[@]}\";\n",
      "            do\n",
      "                while read -ra tmpkh; do\n",
      "                    set -- \"${tmpkh[@]}\";\n",
      "                    [[ $1 == [\\|\\#]* ]] && continue;\n",
      "                    [[ $1 == @* ]] && shift;\n",
      "                    local IFS=,;\n",
      "                    for host in $1;\n",
      "                    do\n",
      "                        [[ $host == *[*?]* ]] && continue;\n",
      "                        host=\"${host#[}\";\n",
      "                        host=\"${host%]?(:+([0-9]))}\";\n",
      "                        COMPREPLY+=($host);\n",
      "                    done;\n",
      "                    IFS=$OIFS;\n",
      "                done < \"$i\";\n",
      "            done;\n",
      "            COMPREPLY=($(compgen -W '${COMPREPLY[@]}' -- \"$cur\"));\n",
      "        fi;\n",
      "        if [[ ${#khd[@]} -gt 0 ]]; then\n",
      "            for i in \"${khd[@]}\";\n",
      "            do\n",
      "                if [[ \"$i\" == *key_22_$cur*.pub && -r \"$i\" ]]; then\n",
      "                    host=${i/#*key_22_/};\n",
      "                    host=${host/%.pub/};\n",
      "                    COMPREPLY+=($host);\n",
      "                fi;\n",
      "            done;\n",
      "        fi;\n",
      "        for ((i=0; i < ${#COMPREPLY[@]}; i++ ))\n",
      "        do\n",
      "            COMPREPLY[i]=$prefix$user${COMPREPLY[i]}$suffix;\n",
      "        done;\n",
      "    fi;\n",
      "    if [[ ${#config[@]} -gt 0 && -n \"$aliases\" ]]; then\n",
      "        local hosts=$(command sed -ne 's/^[[:blank:]]*[Hh][Oo][Ss][Tt][[:blank:]]\\{1,\\}\\([^#*?%]*\\)\\(#.*\\)\\{0,1\\}$/\\1/p' \"${config[@]}\");\n",
      "        COMPREPLY+=($(compgen -P \"$prefix$user\"             -S \"$suffix\" -W \"$hosts\" -- \"$cur\"));\n",
      "    fi;\n",
      "    if [[ -n ${COMP_KNOWN_HOSTS_WITH_AVAHI:-} ]] && type avahi-browse &> /dev/null; then\n",
      "        COMPREPLY+=($(compgen -P \"$prefix$user\" -S \"$suffix\" -W             \"$(avahi-browse -cpr _workstation._tcp 2>/dev/null |                awk -F';' '/^=/ { print $7 }' | sort -u)\" -- \"$cur\"));\n",
      "    fi;\n",
      "    COMPREPLY+=($(compgen -W         \"$(ruptime 2>/dev/null | awk '!/^ruptime:/ { print $1 }')\"         -- \"$cur\"));\n",
      "    if [[ -n ${COMP_KNOWN_HOSTS_WITH_HOSTFILE-1} ]]; then\n",
      "        COMPREPLY+=($(compgen -A hostname -P \"$prefix$user\" -S \"$suffix\" -- \"$cur\"));\n",
      "    fi;\n",
      "    if [[ -n $ipv4 ]]; then\n",
      "        COMPREPLY=(\"${COMPREPLY[@]/*:*$suffix/}\");\n",
      "    fi;\n",
      "    if [[ -n $ipv6 ]]; then\n",
      "        COMPREPLY=(\"${COMPREPLY[@]/+([0-9]).+([0-9]).+([0-9]).+([0-9])$suffix/}\");\n",
      "    fi;\n",
      "    if [[ -n $ipv4 || -n $ipv6 ]]; then\n",
      "        for i in \"${!COMPREPLY[@]}\";\n",
      "        do\n",
      "            [[ -n ${COMPREPLY[i]} ]] || unset -v COMPREPLY[i];\n",
      "        done;\n",
      "    fi;\n",
      "    __ltrim_colon_completions \"$prefix$user$cur\"\n",
      "}\n",
      "_longopt () \n",
      "{ \n",
      "    local cur prev words cword split;\n",
      "    _init_completion -s || return;\n",
      "    case \"${prev,,}\" in \n",
      "        --help | --usage | --version)\n",
      "            return\n",
      "        ;;\n",
      "        --!(no-*)dir*)\n",
      "            _filedir -d;\n",
      "            return\n",
      "        ;;\n",
      "        --!(no-*)@(file|path)*)\n",
      "            _filedir;\n",
      "            return\n",
      "        ;;\n",
      "        --+([-a-z0-9_]))\n",
      "            local argtype=$(LC_ALL=C $1 --help 2>&1 | command sed -ne                 \"s|.*$prev\\[\\{0,1\\}=[<[]\\{0,1\\}\\([-A-Za-z0-9_]\\{1,\\}\\).*|\\1|p\");\n",
      "            case ${argtype,,} in \n",
      "                *dir*)\n",
      "                    _filedir -d;\n",
      "                    return\n",
      "                ;;\n",
      "                *file* | *path*)\n",
      "                    _filedir;\n",
      "                    return\n",
      "                ;;\n",
      "            esac\n",
      "        ;;\n",
      "    esac;\n",
      "    $split && return;\n",
      "    if [[ \"$cur\" == -* ]]; then\n",
      "        COMPREPLY=($(compgen -W \"$(LC_ALL=C $1 --help 2>&1 |             while read -r line; do                 [[ $line =~ --[-A-Za-z0-9]+=? ]] &&                     printf '%s\\n' ${BASH_REMATCH[0]}\n"
     ]
    },
    {
     "name": "stdout",
     "output_type": "stream",
     "text": [
      "            done)\" -- \"$cur\"));\n",
      "        [[ $COMPREPLY == *= ]] && compopt -o nospace;\n",
      "    else\n",
      "        if [[ \"$1\" == *@(rmdir|chroot) ]]; then\n",
      "            _filedir -d;\n",
      "        else\n",
      "            [[ \"$1\" == *mkdir ]] && compopt -o nospace;\n",
      "            _filedir;\n",
      "        fi;\n",
      "    fi\n",
      "}\n",
      "_mac_addresses () \n",
      "{ \n",
      "    local re='\\([A-Fa-f0-9]\\{2\\}:\\)\\{5\\}[A-Fa-f0-9]\\{2\\}';\n",
      "    local PATH=\"$PATH:/sbin:/usr/sbin\";\n",
      "    COMPREPLY+=($(        { LC_ALL=C ifconfig -a || ip link show; } 2>/dev/null | command sed -ne         \"s/.*[[:space:]]HWaddr[[:space:]]\\{1,\\}\\($re\\)[[:space:]].*/\\1/p\" -ne         \"s/.*[[:space:]]HWaddr[[:space:]]\\{1,\\}\\($re\\)[[:space:]]*$/\\1/p\" -ne         \"s|.*[[:space:]]\\(link/\\)\\{0,1\\}ether[[:space:]]\\{1,\\}\\($re\\)[[:space:]].*|\\2|p\" -ne         \"s|.*[[:space:]]\\(link/\\)\\{0,1\\}ether[[:space:]]\\{1,\\}\\($re\\)[[:space:]]*$|\\2|p\"\n",
      "        ));\n",
      "    COMPREPLY+=($({ arp -an || ip neigh show; } 2>/dev/null | command sed -ne         \"s/.*[[:space:]]\\($re\\)[[:space:]].*/\\1/p\" -ne         \"s/.*[[:space:]]\\($re\\)[[:space:]]*$/\\1/p\"));\n",
      "    COMPREPLY+=($(command sed -ne         \"s/^[[:space:]]*\\($re\\)[[:space:]].*/\\1/p\" /etc/ethers 2>/dev/null));\n",
      "    COMPREPLY=($(compgen -W '${COMPREPLY[@]}' -- \"$cur\"));\n",
      "    __ltrim_colon_completions \"$cur\"\n",
      "}\n",
      "_minimal () \n",
      "{ \n",
      "    local cur prev words cword split;\n",
      "    _init_completion -s || return;\n",
      "    $split && return;\n",
      "    _filedir\n",
      "}\n",
      "_modules () \n",
      "{ \n",
      "    local modpath;\n",
      "    modpath=/lib/modules/$1;\n",
      "    COMPREPLY=($(compgen -W \"$(command ls -RL $modpath 2>/dev/null |         command sed -ne 's/^\\(.*\\)\\.k\\{0,1\\}o\\(\\.[gx]z\\)\\{0,1\\}$/\\1/p')\" -- \"$cur\"))\n",
      "}\n",
      "_ncpus () \n",
      "{ \n",
      "    local var=NPROCESSORS_ONLN;\n",
      "    [[ $OSTYPE == *linux* ]] && var=_$var;\n",
      "    local n=$(getconf $var 2>/dev/null);\n",
      "    printf %s ${n:-1}\n",
      "}\n",
      "_parse_help () \n",
      "{ \n",
      "    eval local cmd=$(quote \"$1\");\n",
      "    local line;\n",
      "    { \n",
      "        case $cmd in \n",
      "            -)\n",
      "                cat\n",
      "            ;;\n",
      "            *)\n",
      "                LC_ALL=C \"$(dequote \"$cmd\")\" ${2:---help} 2>&1\n",
      "            ;;\n",
      "        esac\n",
      "    } | while read -r line; do\n",
      "        [[ $line == *([[:blank:]])-* ]] || continue;\n",
      "        while [[ $line =~ ((^|[^-])-[A-Za-z0-9?][[:space:]]+)\\[?[A-Z0-9]+([,_-]+[A-Z0-9]+)?(\\.\\.+)?\\]? ]]; do\n",
      "            line=${line/\"${BASH_REMATCH[0]}\"/\"${BASH_REMATCH[1]}\"};\n",
      "        done;\n",
      "        __parse_options \"${line// or /, }\";\n",
      "    done\n",
      "}\n",
      "_parse_usage () \n",
      "{ \n",
      "    eval local cmd=$(quote \"$1\");\n",
      "    local line match option i char;\n",
      "    { \n",
      "        case $cmd in \n",
      "            -)\n",
      "                cat\n",
      "            ;;\n",
      "            *)\n",
      "                LC_ALL=C \"$(dequote \"$cmd\")\" ${2:---usage} 2>&1\n",
      "            ;;\n",
      "        esac\n",
      "    } | while read -r line; do\n",
      "        while [[ $line =~ \\[[[:space:]]*(-[^]]+)[[:space:]]*\\] ]]; do\n",
      "            match=${BASH_REMATCH[0]};\n",
      "            option=${BASH_REMATCH[1]};\n",
      "            case $option in \n",
      "                -?(\\[)+([a-zA-Z0-9?]))\n",
      "                    for ((i=1; i < ${#option}; i++ ))\n",
      "                    do\n",
      "                        char=${option:i:1};\n",
      "                        [[ $char != '[' ]] && printf '%s\\n' -$char;\n",
      "                    done\n",
      "                ;;\n",
      "                *)\n",
      "                    __parse_options \"$option\"\n",
      "                ;;\n",
      "            esac;\n",
      "            line=${line#*\"$match\"};\n",
      "        done;\n",
      "    done\n",
      "}\n",
      "_pci_ids () \n",
      "{ \n",
      "    COMPREPLY+=($(compgen -W         \"$(PATH=\"$PATH:/sbin\" lspci -n | awk '{print $3}')\" -- \"$cur\"))\n",
      "}\n",
      "_pgids () \n",
      "{ \n",
      "    COMPREPLY=($(compgen -W '$(command ps axo pgid=)' -- \"$cur\"))\n",
      "}\n",
      "_pids () \n",
      "{ \n",
      "    COMPREPLY=($(compgen -W '$(command ps axo pid=)' -- \"$cur\"))\n",
      "}\n",
      "_pnames () \n",
      "{ \n",
      "    local -a procs;\n",
      "    if [[ \"$1\" == -s ]]; then\n",
      "        procs=($(command ps axo comm | command sed -e 1d));\n",
      "    else\n",
      "        local line i=-1 OIFS=$IFS;\n",
      "        IFS='\n",
      "';\n",
      "        local -a psout=($(command ps axo command=));\n",
      "        IFS=$OIFS;\n",
      "        for line in \"${psout[@]}\";\n",
      "        do\n",
      "            if [[ $i -eq -1 ]]; then\n",
      "                if [[ $line =~ ^(.*[[:space:]])COMMAND([[:space:]]|$) ]]; then\n",
      "                    i=${#BASH_REMATCH[1]};\n",
      "                else\n",
      "                    break;\n",
      "                fi;\n",
      "            else\n",
      "                line=${line:$i};\n",
      "                line=${line%% *};\n",
      "                procs+=($line);\n",
      "            fi;\n",
      "        done;\n",
      "        if [[ $i -eq -1 ]]; then\n",
      "            for line in \"${psout[@]}\";\n",
      "            do\n",
      "                if [[ $line =~ ^[[(](.+)[])]$ ]]; then\n",
      "                    procs+=(${BASH_REMATCH[1]});\n",
      "                else\n",
      "                    line=${line%% *};\n",
      "                    line=${line##@(*/|-)};\n",
      "                    procs+=($line);\n",
      "                fi;\n",
      "            done;\n",
      "        fi;\n",
      "    fi;\n",
      "    COMPREPLY=($(compgen -X \"<defunct>\" -W '${procs[@]}' -- \"$cur\" ))\n",
      "}\n",
      "_quote_readline_by_ref () \n",
      "{ \n",
      "    if [ -z \"$1\" ]; then\n",
      "        printf -v $2 %s \"$1\";\n",
      "    else\n",
      "        if [[ $1 == \\'* ]]; then\n",
      "            printf -v $2 %s \"${1:1}\";\n",
      "        else\n",
      "            if [[ $1 == \\~* ]]; then\n",
      "                printf -v $2 \\~%q \"${1:1}\";\n",
      "            else\n",
      "                printf -v $2 %q \"$1\";\n",
      "            fi;\n",
      "        fi;\n",
      "    fi;\n",
      "    [[ ${!2} == \\$* ]] && eval $2=${!2}\n",
      "}\n",
      "_realcommand () \n",
      "{ \n",
      "    type -P \"$1\" > /dev/null && { \n",
      "        if type -p realpath > /dev/null; then\n",
      "            realpath \"$(type -P \"$1\")\";\n",
      "        else\n",
      "            if type -p greadlink > /dev/null; then\n",
      "                greadlink -f \"$(type -P \"$1\")\";\n",
      "            else\n",
      "                if type -p readlink > /dev/null; then\n",
      "                    readlink -f \"$(type -P \"$1\")\";\n",
      "                else\n",
      "                    type -P \"$1\";\n",
      "                fi;\n",
      "            fi;\n",
      "        fi\n",
      "    }\n",
      "}\n",
      "_rl_enabled () \n",
      "{ \n",
      "    [[ \"$(bind -v)\" == *$1+([[:space:]])on* ]]\n",
      "}\n",
      "_root_command () \n",
      "{ \n",
      "    local PATH=$PATH:/sbin:/usr/sbin:/usr/local/sbin;\n",
      "    local root_command=$1;\n",
      "    _command\n",
      "}\n",
      "_service () \n",
      "{ \n",
      "    local cur prev words cword;\n",
      "    _init_completion || return;\n",
      "    [[ $cword -gt 2 ]] && return;\n",
      "    if [[ $cword -eq 1 && $prev == ?(*/)service ]]; then\n",
      "        _services;\n",
      "        [[ -e /etc/mandrake-release ]] && _xinetd_services;\n",
      "    else\n",
      "        local sysvdirs;\n",
      "        _sysvdirs;\n",
      "        COMPREPLY=($(compgen -W '`command sed -e \"y/|/ /\" \\\n",
      "            -ne \"s/^.*\\(U\\|msg_u\\)sage.*{\\(.*\\)}.*$/\\2/p\" \\\n",
      "            ${sysvdirs[0]}/${prev##*/} 2>/dev/null` start stop' -- \"$cur\"));\n",
      "    fi\n",
      "}\n",
      "_services () \n",
      "{ \n",
      "    local sysvdirs;\n",
      "    _sysvdirs;\n",
      "    local IFS=' \t\n",
      "' reset=$(shopt -p nullglob);\n",
      "    shopt -s nullglob;\n",
      "    COMPREPLY=($(printf '%s\\n' ${sysvdirs[0]}/!($_backup_glob|functions|README)));\n",
      "    $reset;\n",
      "    COMPREPLY+=($({ systemctl list-units --full --all ||                      systemctl list-unit-files; } 2>/dev/null |         awk '$1 ~ /\\.service$/ { sub(\"\\\\.service$\", \"\", $1); print $1 }'));\n",
      "    if [[ -x /sbin/upstart-udev-bridge ]]; then\n",
      "        COMPREPLY+=($(initctl list 2>/dev/null | cut -d' ' -f1));\n",
      "    fi;\n",
      "    COMPREPLY=($(compgen -W '${COMPREPLY[@]#${sysvdirs[0]}/}' -- \"$cur\"))\n",
      "}\n",
      "_shells () \n",
      "{ \n",
      "    local shell rest;\n",
      "    while read -r shell rest; do\n",
      "        [[ $shell == /* && $shell == \"$cur\"* ]] && COMPREPLY+=($shell);\n",
      "    done 2> /dev/null < /etc/shells\n",
      "}\n",
      "_signals () \n",
      "{ \n",
      "    local -a sigs=($(compgen -P \"$1\" -A signal \"SIG${cur#$1}\"));\n",
      "    COMPREPLY+=(\"${sigs[@]/#${1}SIG/${1}}\")\n",
      "}\n",
      "_split_longopt () \n",
      "{ \n",
      "    if [[ \"$cur\" == --?*=* ]]; then\n",
      "        prev=\"${cur%%?(\\\\)=*}\";\n",
      "        cur=\"${cur#*=}\";\n",
      "        return 0;\n",
      "    fi;\n",
      "    return 1\n",
      "}\n",
      "_subdirectories () \n",
      "{ \n",
      "    COMPREPLY=($( cd $1 && compgen -d -- \"$cur\" ))\n",
      "}\n",
      "_sysvdirs () \n",
      "{ \n",
      "    sysvdirs=();\n",
      "    [[ -d /etc/rc.d/init.d ]] && sysvdirs+=(/etc/rc.d/init.d);\n",
      "    [[ -d /etc/init.d ]] && sysvdirs+=(/etc/init.d);\n",
      "    [[ -f /etc/slackware-version ]] && sysvdirs=(/etc/rc.d);\n",
      "    return 0\n",
      "}\n",
      "_terms () \n",
      "{ \n",
      "    COMPREPLY+=($(compgen -W \"$({         command sed -ne 's/^\\([^[:space:]#|]\\{2,\\}\\)|.*/\\1/p' /etc/termcap;\n",
      "        { toe -a || toe; } | awk '{ print $1 }';\n",
      "        find /{etc,lib,usr/lib,usr/share}/terminfo/? -type f -maxdepth 1             | awk -F/ '{ print $NF }';\n",
      "    } 2>/dev/null)\" -- \"$cur\"))\n",
      "}\n",
      "_tilde () \n",
      "{ \n",
      "    local result=0;\n",
      "    if [[ $1 == \\~* && $1 != */* ]]; then\n",
      "        COMPREPLY=($(compgen -P '~' -u -- \"${1#\\~}\"));\n",
      "        result=${#COMPREPLY[@]};\n",
      "        [[ $result -gt 0 ]] && compopt -o filenames 2> /dev/null;\n",
      "    fi;\n",
      "    return $result\n",
      "}\n",
      "_uids () \n"
     ]
    },
    {
     "name": "stdout",
     "output_type": "stream",
     "text": [
      "{ \n",
      "    if type getent &> /dev/null; then\n",
      "        COMPREPLY=($(compgen -W '$(getent passwd | cut -d: -f3)' -- \"$cur\"));\n",
      "    else\n",
      "        if type perl &> /dev/null; then\n",
      "            COMPREPLY=($(compgen -W '$(perl -e '\"'\"'while (($uid) = (getpwent)[2]) { print $uid . \"\\n\" }'\"'\"')' -- \"$cur\"));\n",
      "        else\n",
      "            COMPREPLY=($(compgen -W '$(cut -d: -f3 /etc/passwd)' -- \"$cur\"));\n",
      "        fi;\n",
      "    fi\n",
      "}\n",
      "_upvar () \n",
      "{ \n",
      "    echo \"bash_completion: $FUNCNAME: deprecated function,\" \"use _upvars instead\" 1>&2;\n",
      "    if unset -v \"$1\"; then\n",
      "        if (( $# == 2 )); then\n",
      "            eval $1=\\\"\\$2\\\";\n",
      "        else\n",
      "            eval $1=\\(\\\"\\${@:2}\\\"\\);\n",
      "        fi;\n",
      "    fi\n",
      "}\n",
      "_upvars () \n",
      "{ \n",
      "    if ! (( $# )); then\n",
      "        echo \"bash_completion: $FUNCNAME: usage: $FUNCNAME\" \"[-v varname value] | [-aN varname [value ...]] ...\" 1>&2;\n",
      "        return 2;\n",
      "    fi;\n",
      "    while (( $# )); do\n",
      "        case $1 in \n",
      "            -a*)\n",
      "                [[ -n ${1#-a} ]] || { \n",
      "                    echo \"bash_completion: $FUNCNAME:\" \"\\`$1': missing number specifier\" 1>&2;\n",
      "                    return 1\n",
      "                };\n",
      "                printf %d \"${1#-a}\" &> /dev/null || { \n",
      "                    echo bash_completion: \"$FUNCNAME: \\`$1': invalid number specifier\" 1>&2;\n",
      "                    return 1\n",
      "                };\n",
      "                [[ -n \"$2\" ]] && unset -v \"$2\" && eval $2=\\(\\\"\\${@:3:${1#-a}}\\\"\\) && shift $((${1#-a} + 2)) || { \n",
      "                    echo bash_completion: \"$FUNCNAME: \\`$1${2+ }$2': missing argument(s)\" 1>&2;\n",
      "                    return 1\n",
      "                }\n",
      "            ;;\n",
      "            -v)\n",
      "                [[ -n \"$2\" ]] && unset -v \"$2\" && eval $2=\\\"\\$3\\\" && shift 3 || { \n",
      "                    echo \"bash_completion: $FUNCNAME: $1:\" \"missing argument(s)\" 1>&2;\n",
      "                    return 1\n",
      "                }\n",
      "            ;;\n",
      "            *)\n",
      "                echo \"bash_completion: $FUNCNAME: $1: invalid option\" 1>&2;\n",
      "                return 1\n",
      "            ;;\n",
      "        esac;\n",
      "    done\n",
      "}\n",
      "_usb_ids () \n",
      "{ \n",
      "    COMPREPLY+=($(compgen -W         \"$(PATH=\"$PATH:/sbin\" lsusb | awk '{print $6}')\" -- \"$cur\"))\n",
      "}\n",
      "_user_at_host () \n",
      "{ \n",
      "    local cur prev words cword;\n",
      "    _init_completion -n : || return;\n",
      "    if [[ $cur == *@* ]]; then\n",
      "        _known_hosts_real \"$cur\";\n",
      "    else\n",
      "        COMPREPLY=($(compgen -u -S @ -- \"$cur\"));\n",
      "        compopt -o nospace;\n",
      "    fi\n",
      "}\n",
      "_usergroup () \n",
      "{ \n",
      "    if [[ $cur == *\\\\\\\\* || $cur == *:*:* ]]; then\n",
      "        return;\n",
      "    else\n",
      "        if [[ $cur == *\\\\:* ]]; then\n",
      "            local prefix;\n",
      "            prefix=${cur%%*([^:])};\n",
      "            prefix=${prefix//\\\\};\n",
      "            local mycur=\"${cur#*[:]}\";\n",
      "            if [[ $1 == -u ]]; then\n",
      "                _allowed_groups \"$mycur\";\n",
      "            else\n",
      "                local IFS='\n",
      "';\n",
      "                COMPREPLY=($(compgen -g -- \"$mycur\"));\n",
      "            fi;\n",
      "            COMPREPLY=($(compgen -P \"$prefix\" -W \"${COMPREPLY[@]}\"));\n",
      "        else\n",
      "            if [[ $cur == *:* ]]; then\n",
      "                local mycur=\"${cur#*:}\";\n",
      "                if [[ $1 == -u ]]; then\n",
      "                    _allowed_groups \"$mycur\";\n",
      "                else\n",
      "                    local IFS='\n",
      "';\n",
      "                    COMPREPLY=($(compgen -g -- \"$mycur\"));\n",
      "                fi;\n",
      "            else\n",
      "                if [[ $1 == -u ]]; then\n",
      "                    _allowed_users \"$cur\";\n",
      "                else\n",
      "                    local IFS='\n",
      "';\n",
      "                    COMPREPLY=($(compgen -u -- \"$cur\"));\n",
      "                fi;\n",
      "            fi;\n",
      "        fi;\n",
      "    fi\n",
      "}\n",
      "_userland () \n",
      "{ \n",
      "    local userland=$(uname -s);\n",
      "    [[ $userland == @(Linux|GNU/*) ]] && userland=GNU;\n",
      "    [[ $userland == $1 ]]\n",
      "}\n",
      "_variables () \n",
      "{ \n",
      "    if [[ $cur =~ ^(\\$(\\{[!#]?)?)([A-Za-z0-9_]*)$ ]]; then\n",
      "        if [[ $cur == \\${* ]]; then\n",
      "            local arrs vars;\n",
      "            vars=($(compgen -A variable -P ${BASH_REMATCH[1]} -S '}' -- ${BASH_REMATCH[3]})) && arrs=($(compgen -A arrayvar -P ${BASH_REMATCH[1]} -S '[' -- ${BASH_REMATCH[3]}));\n",
      "            if [[ ${#vars[@]} -eq 1 && -n $arrs ]]; then\n",
      "                compopt -o nospace;\n",
      "                COMPREPLY+=(${arrs[*]});\n",
      "            else\n",
      "                COMPREPLY+=(${vars[*]});\n",
      "            fi;\n",
      "        else\n",
      "            COMPREPLY+=($(compgen -A variable -P '$' -- \"${BASH_REMATCH[3]}\"));\n",
      "        fi;\n",
      "        return 0;\n",
      "    else\n",
      "        if [[ $cur =~ ^(\\$\\{[#!]?)([A-Za-z0-9_]*)\\[([^]]*)$ ]]; then\n",
      "            local IFS='\n",
      "';\n",
      "            COMPREPLY+=($(compgen -W '$(printf %s\\\\n \"${!'${BASH_REMATCH[2]}'[@]}\")'             -P \"${BASH_REMATCH[1]}${BASH_REMATCH[2]}[\" -S ']}' -- \"${BASH_REMATCH[3]}\"));\n",
      "            if [[ ${BASH_REMATCH[3]} == [@*] ]]; then\n",
      "                COMPREPLY+=(\"${BASH_REMATCH[1]}${BASH_REMATCH[2]}[${BASH_REMATCH[3]}]}\");\n",
      "            fi;\n",
      "            __ltrim_colon_completions \"$cur\";\n",
      "            return 0;\n",
      "        else\n",
      "            if [[ $cur =~ ^\\$\\{[#!]?[A-Za-z0-9_]*\\[.*\\]$ ]]; then\n",
      "                COMPREPLY+=(\"$cur}\");\n",
      "                __ltrim_colon_completions \"$cur\";\n",
      "                return 0;\n",
      "            else\n",
      "                case $prev in \n",
      "                    TZ)\n",
      "                        cur=/usr/share/zoneinfo/$cur;\n",
      "                        _filedir;\n",
      "                        for i in \"${!COMPREPLY[@]}\";\n",
      "                        do\n",
      "                            if [[ ${COMPREPLY[i]} == *.tab ]]; then\n",
      "                                unset 'COMPREPLY[i]';\n",
      "                                continue;\n",
      "                            else\n",
      "                                if [[ -d ${COMPREPLY[i]} ]]; then\n",
      "                                    COMPREPLY[i]+=/;\n",
      "                                    compopt -o nospace;\n",
      "                                fi;\n",
      "                            fi;\n",
      "                            COMPREPLY[i]=${COMPREPLY[i]#/usr/share/zoneinfo/};\n",
      "                        done;\n",
      "                        return 0\n",
      "                    ;;\n",
      "                    TERM)\n",
      "                        _terms;\n",
      "                        return 0\n",
      "                    ;;\n",
      "                    LANG | LC_*)\n",
      "                        COMPREPLY=($(compgen -W '$(locale -a 2>/dev/null)'                     -- \"$cur\" ));\n",
      "                        return 0\n",
      "                    ;;\n",
      "                esac;\n",
      "            fi;\n",
      "        fi;\n",
      "    fi;\n",
      "    return 1\n",
      "}\n",
      "_xfunc () \n",
      "{ \n",
      "    set -- \"$@\";\n",
      "    local srcfile=$1;\n",
      "    shift;\n",
      "    declare -F $1 &> /dev/null || { \n",
      "        __load_completion \"$srcfile\"\n",
      "    };\n",
      "    \"$@\"\n",
      "}\n",
      "_xinetd_services () \n",
      "{ \n",
      "    local xinetddir=/etc/xinetd.d;\n",
      "    if [[ -d $xinetddir ]]; then\n",
      "        local IFS=' \t\n",
      "' reset=$(shopt -p nullglob);\n",
      "        shopt -s nullglob;\n",
      "        local -a svcs=($(printf '%s\\n' $xinetddir/!($_backup_glob)));\n",
      "        $reset;\n",
      "        COMPREPLY+=($(compgen -W '${svcs[@]#$xinetddir/}' -- \"$cur\"));\n",
      "    fi\n",
      "}\n",
      "command_not_found_handle () \n",
      "{ \n",
      "    if [ -x /usr/lib/command-not-found ]; then\n",
      "        /usr/lib/command-not-found -- \"$1\";\n",
      "        return $?;\n",
      "    else\n",
      "        if [ -x /usr/share/command-not-found/command-not-found ]; then\n",
      "            /usr/share/command-not-found/command-not-found -- \"$1\";\n",
      "            return $?;\n",
      "        else\n",
      "            printf \"%s: command not found\\n\" \"$1\" 1>&2;\n",
      "            return 127;\n",
      "        fi;\n",
      "    fi\n",
      "}\n",
      "dequote () \n",
      "{ \n",
      "    eval printf %s \"$1\" 2> /dev/null\n",
      "}\n",
      "display () \n",
      "{ \n",
      "    TMPFILE=$(mktemp ${TMPDIR-/tmp}/bash_kernel.XXXXXXXXXX);\n",
      "    cat > $TMPFILE;\n",
      "    echo \"bash_kernel: saved image data to: $TMPFILE\" 1>&2\n",
      "}\n",
      "exc () \n",
      "{ \n",
      "    x-terminal-emulator --noclose -e \"./$1.sh\"\n",
      "}\n",
      "quote () \n",
      "{ \n",
      "    local quoted=${1//\\'/\\'\\\\\\'\\'};\n",
      "    printf \"'%s'\" \"$quoted\"\n",
      "}\n",
      "quote_readline () \n",
      "{ \n",
      "    local quoted;\n",
      "    _quote_readline_by_ref \"$1\" ret;\n",
      "    printf %s \"$ret\"\n",
      "}\n",
      "scp () \n",
      "{ \n",
      "    local informe=false;\n",
      "    if [[ $1 = \"-i\" || $1 = \"--info\" ]]; then\n",
      "        informe=true;\n",
      "        shift;\n",
      "    else\n",
      "        if [[ $1 =~ ^- ]]; then\n",
      "            echo \"Opción «$1» incorrecta.\";\n",
      "            return 1;\n",
      "        fi;\n",
      "    fi;\n",
      "    if [[ -z \"$1\" ]]; then\n",
      "        echo \"Nombre de archivo vacío.\";\n",
      "        return 1;\n",
      "    fi;\n",
      "    echo '#!/usr/bin/env bash' > \"./$1.sh\";\n",
      "    cat >> \"./$1.sh\";\n",
      "    chmod +x \"./$1.sh\";\n",
      "    if $informe; then\n",
      "        echo \"Se creó el archivo ejecutable «$1.sh».\";\n",
      "        echo -e \"\\nEl archivo «$1.sh» está contenido en:\\n\\n$(pwd)\\n\";\n",
      "        echo \"El contenido de «$1.sh» es:\";\n",
      "        echo -e \"---------------------------\\n\";\n"
     ]
    },
    {
     "name": "stdout",
     "output_type": "stream",
     "text": [
      "        cat \"./$1.sh\";\n",
      "        echo -e \"\\n---------------------------\";\n",
      "        echo \"Fin del contenido de «$1.sh»\";\n",
      "    fi\n",
      "}\n"
     ]
    }
   ],
   "source": [
    "set #Muestra todos las variables y carcterísticas declaradas actualmente."
   ]
  },
  {
   "cell_type": "code",
   "execution_count": 17,
   "metadata": {
    "collapsed": true
   },
   "outputs": [
    {
     "name": "stdout",
     "output_type": "stream",
     "text": [
      "n_scp=select\n",
      "DEFAULTS_PATH=/usr/share/gconf//usr/share/xsessions/plasma.default.path\n",
      "MANDATORY_PATH=/usr/share/gconf//usr/share/xsessions/plasma.mandatory.path\n",
      "PATH=/opt/anaconda3/bin:/opt/anaconda3/condabin:/home/luis/bin:/home/luis/.local/bin:/usr/local/sbin:/usr/local/bin:/usr/sbin:/usr/bin:/sbin:/bin:/usr/games:/usr/local/games:/snap/bin:/home/luis/.dotnet/tools\n",
      "XDG_SEAT_PATH=/org/freedesktop/DisplayManager/Seat0\n",
      "XDG_SESSION_PATH=/org/freedesktop/DisplayManager/Session0\n",
      "    local PATH=$PATH:/sbin;\n",
      "    if [[ -z \"${CDPATH:-}\" || \"$cur\" == ?(.)?(.)/* ]]; then\n",
      "    for i in ${CDPATH//:/'\n",
      "    PATH=$PATH:/usr/sbin:/sbin:/usr/local/sbin type $1 &> /dev/null\n",
      "    COMPREPLY=($(compgen -W \"$(PATH=\"$PATH:/sbin\" lsmod |         awk '{if (NR != 1) print $1}')\" -- \"$1\"))\n",
      "    local PATH=$PATH:/sbin;\n",
      "    local PATH=\"$PATH:/sbin:/usr/sbin\";\n",
      "    COMPREPLY+=($(compgen -W         \"$(PATH=\"$PATH:/sbin\" lspci -n | awk '{print $3}')\" -- \"$cur\"))\n",
      "    local PATH=$PATH:/sbin:/usr/sbin:/usr/local/sbin;\n",
      "    COMPREPLY+=($(compgen -W         \"$(PATH=\"$PATH:/sbin\" lsusb | awk '{print $6}')\" -- \"$cur\"))\n"
     ]
    }
   ],
   "source": [
    "#Por ejemplo:\n",
    "set | grep n_scp\n",
    "set | grep PATH"
   ]
  },
  {
   "cell_type": "code",
   "execution_count": 19,
   "metadata": {
    "collapsed": true
   },
   "outputs": [
    {
     "name": "stdout",
     "output_type": "stream",
     "text": [
      "GROUPS=()\n",
      "PS1='[PEXP\\[\\]ECT_PROMPT>'\n",
      "PS2='[PEXP\\[\\]ECT_PROMPT+'\n",
      "PS4='+ '\n",
      "_xspecs=([lokalize]=\"!*.po\" [acroread]=\"!*.[pf]df\" [lbzcat]=\"!*.?(t)bz?(2)\" [mpg321]=\"!*.mp3\" [bzcat]=\"!*.?(t)bz?(2)\" [oocalc]=\"!*.@(sxc|stc|xls?([bmx])|xlw|xlt?([mx])|[ct]sv|?(f)ods|ots)\" [tex]=\"!*.@(?(la)tex|texi|dtx|ins|ltx|dbj)\" [unlzma]=\"!*.@(tlz|lzma)\" [sxemacs]=\"*.@([ao]|so|so.!(conf|*/*)|[rs]pm|gif|jp?(e)g|mp3|mp?(e)g|avi|asf|ogg|class)\" [aviplay]=\"!*.@(avi|asf|wmv)\" [lbunzip2]=\"!*.?(t)bz?(2)\" [dragon]=\"!*@(.@(mp?(e)g|MP?(E)G|wm[av]|WM[AV]|avi|AVI|asf|vob|VOB|bin|dat|divx|DIVX|vcd|ps|pes|fli|flv|FLV|fxm|FXM|viv|rm|ram|yuv|mov|MOV|qt|QT|web[am]|WEB[AM]|mp[234]|MP[234]|m?(p)4[av]|M?(P)4[AV]|mkv|MKV|og[agmvx]|OG[AGMVX]|t[ps]|T[PS]|m2t?(s)|M2T?(S)|mts|MTS|wav|WAV|flac|FLAC|asx|ASX|mng|MNG|srt|m[eo]d|M[EO]D|s[3t]m|S[3T]M|it|IT|xm|XM|iso|ISO)|+([0-9]).@(vdr|VDR))?(.@(crdownload|part))\" [freeamp]=\"!*.@(mp3|og[ag]|pls|m3u)\" [rgvim]=\"*.@([ao]|so|so.!(conf|*/*)|[rs]pm|gif|jp?(e)g|mp3|mp?(e)g|avi|asf|ogg|class)\" [ooimpress]=\"!*.@(sxi|sti|pps?(x)|ppt?([mx])|pot?([mx])|?(f)odp|otp)\" [gqmpeg]=\"!*.@(mp3|og[ag]|pls|m3u)\" [texi2html]=\"!*.texi*\" [hbpp]=\"!*.@([Pp][Rr][Gg]|[Cc][Ll][Pp])\" [lowriter]=\"!*.@(sxw|stw|sxg|sgl|doc?([mx])|dot?([mx])|rtf|txt|htm|html|?(f)odt|ott|odm|pdf)\" [qiv]=\"!*.@(gif|jp?(e)g|tif?(f)|png|p[bgp]m|bmp|x[bp]m|rle|rgb|pcx|fits|pm|svg)\" [xanim]=\"!*.@(mpg|mpeg|avi|mov|qt)\" [ps2pdfwr]=\"!*.@(?(e)ps|pdf)\" [harbour]=\"!*.@([Pp][Rr][Gg]|[Cc][Ll][Pp])\" [jadetex]=\"!*.@(?(la)tex|texi|dtx|ins|ltx|dbj)\" [lodraw]=\"!*.@(sxd|std|sda|sdd|?(f)odg|otg)\" [dvitype]=\"!*.dvi\" [lobase]=\"!*.odb\" [rpm2cpio]=\"!*.[rs]pm\" [xine]=\"!*@(.@(mp?(e)g|MP?(E)G|wm[av]|WM[AV]|avi|AVI|asf|vob|VOB|bin|dat|divx|DIVX|vcd|ps|pes|fli|flv|FLV|fxm|FXM|viv|rm|ram|yuv|mov|MOV|qt|QT|web[am]|WEB[AM]|mp[234]|MP[234]|m?(p)4[av]|M?(P)4[AV]|mkv|MKV|og[agmvx]|OG[AGMVX]|t[ps]|T[PS]|m2t?(s)|M2T?(S)|mts|MTS|wav|WAV|flac|FLAC|asx|ASX|mng|MNG|srt|m[eo]d|M[EO]D|s[3t]m|S[3T]M|it|IT|xm|XM)|+([0-9]).@(vdr|VDR))?(.@(crdownload|part))\" [lualatex]=\"!*.@(?(la)tex|texi|dtx|ins|ltx|dbj)\" [localc]=\"!*.@(sxc|stc|xls?([bmx])|xlw|xlt?([mx])|[ct]sv|?(f)ods|ots)\" [hbrun]=\"!*.[Hh][Rr][Bb]\" [amaya]=\"!*.@(?([xX]|[sS])[hH][tT][mM]?([lL]))\" [gv]=\"!*.@(@(?(e)ps|?(E)PS|pdf|PDF)?(.gz|.GZ|.bz2|.BZ2|.Z))\" [unpigz]=\"!*.@(Z|[gGdz]z|t[ag]z)\" [mozilla]=\"!*.@(?([xX]|[sS])[hH][tT][mM]?([lL]))\" [epdfview]=\"!*.pdf\" [dvips]=\"!*.dvi\" [pdfunite]=\"!*.pdf\" [ps2pdf14]=\"!*.@(?(e)ps|pdf)\" [kid3]=\"!*.@(mp[234c]|og[ag]|@(fl|a)ac|m4[abp]|spx|tta|w?(a)v|wma|aif?(f)|asf|ape)\" [vi]=\"*.@([ao]|so|so.!(conf|*/*)|[rs]pm|gif|jp?(e)g|mp3|mp?(e)g|avi|asf|ogg|class)\" [ps2pdf]=\"!*.@(?(e)ps|pdf)\" [gpdf]=\"!*.[pf]df\" [lilypond]=\"!*.ly\" [texi2dvi]=\"!*.@(?(la)tex|texi|dtx|ins|ltx|dbj)\" [modplug123]=\"!*.@(669|abc|am[fs]|d[bs]m|dmf|far|it|mdl|m[eo]d|mid?(i)|mt[2m]|oct|okt?(a)|p[st]m|s[3t]m|ult|umx|wav|xm)\" [znew]=\"*.Z\" [ps2pdf13]=\"!*.@(?(e)ps|pdf)\" [ps2pdf12]=\"!*.@(?(e)ps|pdf)\" [kwrite]=\"*.@([ao]|so|so.!(conf|*/*)|[rs]pm|gif|jp?(e)g|mp3|mp?(e)g|avi|asf|ogg|class)\" [latex]=\"!*.@(?(la)tex|texi|dtx|ins|ltx|dbj)\" [kate]=\"*.@([ao]|so|so.!(conf|*/*)|[rs]pm|gif|jp?(e)g|mp3|mp?(e)g|avi|asf|ogg|class)\" [pbzcat]=\"!*.?(t)bz?(2)\" [poedit]=\"!*.po\" [view]=\"*.@([ao]|so|so.!(conf|*/*)|[rs]pm|gif|jp?(e)g|mp3|mp?(e)g|avi|asf|ogg|class)\" [kid3-qt]=\"!*.@(mp[234c]|og[ag]|@(fl|a)ac|m4[abp]|spx|tta|w?(a)v|wma|aif?(f)|asf|ape)\" [luatex]=\"!*.@(?(la)tex|texi|dtx|ins|ltx|dbj)\" [bunzip2]=\"!*.?(t)bz?(2)\" [dvipdfm]=\"!*.dvi\" [kbabel]=\"!*.po\" [ly2dvi]=\"!*.ly\" [oodraw]=\"!*.@(sxd|std|sda|sdd|?(f)odg|otg)\" [bzme]=\"!*.@(zip|z|gz|tgz)\" [rgview]=\"*.@([ao]|so|so.!(conf|*/*)|[rs]pm|gif|jp?(e)g|mp3|mp?(e)g|avi|asf|ogg|class)\" [pdftex]=\"!*.@(?(la)tex|texi|dtx|ins|ltx|dbj)\" [xemacs]=\"*.@([ao]|so|so.!(conf|*/*)|[rs]pm|gif|jp?(e)g|mp3|mp?(e)g|avi|asf|ogg|class)\" [zathura]=\"!*.@(cb[rz7t]|djv?(u)|?(e)ps|pdf)\" [unxz]=\"!*.@(?(t)xz|tlz|lzma)\" [rvim]=\"*.@([ao]|so|so.!(conf|*/*)|[rs]pm|gif|jp?(e)g|mp3|mp?(e)g|avi|asf|ogg|class)\" [madplay]=\"!*.mp3\" [xetex]=\"!*.@(?(la)tex|texi|dtx|ins|ltx|dbj)\" [gvim]=\"*.@([ao]|so|so.!(conf|*/*)|[rs]pm|gif|jp?(e)g|mp3|mp?(e)g|avi|asf|ogg|class)\" [kaffeine]=\"!*@(.@(mp?(e)g|MP?(E)G|wm[av]|WM[AV]|avi|AVI|asf|vob|VOB|bin|dat|divx|DIVX|vcd|ps|pes|fli|flv|FLV|fxm|FXM|viv|rm|ram|yuv|mov|MOV|qt|QT|web[am]|WEB[AM]|mp[234]|MP[234]|m?(p)4[av]|M?(P)4[AV]|mkv|MKV|og[agmvx]|OG[AGMVX]|t[ps]|T[PS]|m2t?(s)|M2T?(S)|mts|MTS|wav|WAV|flac|FLAC|asx|ASX|mng|MNG|srt|m[eo]d|M[EO]D|s[3t]m|S[3T]M|it|IT|xm|XM|iso|ISO)|+([0-9]).@(vdr|VDR))?(.@(crdownload|part))\" [dviselect]=\"!*.dvi\" [kpdf]=\"!*.@(?(e)ps|pdf)\" [bibtex]=\"!*.aux\" [realplay]=\"!*.@(rm?(j)|ra?(m)|smi?(l))\" [mpg123]=\"!*.mp3\" [netscape]=\"!*.@(?([xX]|[sS])[hH][tT][mM]?([lL]))\" [lzegrep]=\"!*.@(tlz|lzma)\" [gview]=\"*.@([ao]|so|so.!(conf|*/*)|[rs]pm|gif|jp?(e)g|mp3|mp?(e)g|avi|asf|ogg|class)\" [kdvi]=\"!*.@(dvi|DVI)?(.@(gz|Z|bz2))\" [xv]=\"!*.@(gif|jp?(e)g?(2)|j2[ck]|jp[2f]|tif?(f)|png|p[bgp]m|bmp|x[bp]m|rle|rgb|pcx|fits|pm|?(e)ps)\" [lzfgrep]=\"!*.@(tlz|lzma)\" [playmidi]=\"!*.@(mid?(i)|cmf)\" [lzless]=\"!*.@(tlz|lzma)\" [elinks]=\"!*.@(?([xX]|[sS])[hH][tT][mM]?([lL]))\" [timidity]=\"!*.@(mid?(i)|rmi|rcp|[gr]36|g18|mod|xm|it|x3m|s[3t]m|kar)\" [xdvi]=\"!*.@(dvi|DVI)?(.@(gz|Z|bz2))\" [xfig]=\"!*.fig\" [xpdf]=\"!*.@(pdf|fdf)?(.@(gz|GZ|bz2|BZ2|Z))\" [lomath]=\"!*.@(sxm|smf|mml|odf)\" [lzcat]=\"!*.@(tlz|lzma)\" [compress]=\"*.Z\" [pdfjadetex]=\"!*.@(?(la)tex|texi|dtx|ins|ltx|dbj)\" [kghostview]=\"!*.@(@(?(e)ps|?(E)PS|pdf|PDF)?(.gz|.GZ|.bz2|.BZ2|.Z))\" [zcat]=\"!*.@(Z|[gGd]z|t[ag]z)\" [pbunzip2]=\"!*.?(t)bz?(2)\" [oobase]=\"!*.odb\" [cdiff]=\"!*.@(dif?(f)|?(d)patch)?(.@([gx]z|bz2|lzma))\" [gtranslator]=\"!*.po\" [lynx]=\"!*.@(?([xX]|[sS])[hH][tT][mM]?([lL]))\" [emacs]=\"*.@([ao]|so|so.!(conf|*/*)|[rs]pm|gif|jp?(e)g|mp3|mp?(e)g|avi|asf|ogg|class)\" [zipinfo]=\"!*.@(zip|[egjswx]ar|exe|pk3|wsz|zargo|xpi|s[tx][cdiw]|sx[gm]|o[dt][tspgfc]|od[bm]|oxt|epub|apk|aab|ipa|do[ct][xm]|p[op]t[mx]|xl[st][xm]|pyz|whl)\" [xelatex]=\"!*.@(?(la)tex|texi|dtx|ins|ltx|dbj)\" [uncompress]=\"!*.Z\" [xzcat]=\"!*.@(?(t)xz|tlz|lzma)\" [unzip]=\"!*.@(zip|[egjswx]ar|exe|pk3|wsz|zargo|xpi|s[tx][cdiw]|sx[gm]|o[dt][tspgfc]|od[bm]|oxt|epub|apk|aab|ipa|do[ct][xm]|p[op]t[mx]|xl[st][xm]|pyz|whl)\" [rview]=\"*.@([ao]|so|so.!(conf|*/*)|[rs]pm|gif|jp?(e)g|mp3|mp?(e)g|avi|asf|ogg|class)\" [ogg123]=\"!*.@(og[ag]|m3u|flac|spx)\" [lrunzip]=\"!*.lrz\" [lzgrep]=\"!*.@(tlz|lzma)\" [slitex]=\"!*.@(?(la)tex|texi|dtx|ins|ltx|dbj)\" [vim]=\"*.@([ao]|so|so.!(conf|*/*)|[rs]pm|gif|jp?(e)g|mp3|mp?(e)g|avi|asf|ogg|class)\" [ggv]=\"!*.@(@(?(e)ps|?(E)PS|pdf|PDF)?(.gz|.GZ|.bz2|.BZ2|.Z))\" [ee]=\"!*.@(gif|jp?(e)g|miff|tif?(f)|pn[gm]|p[bgp]m|bmp|xpm|ico|xwd|tga|pcx)\" [oomath]=\"!*.@(sxm|smf|mml|odf)\" [aaxine]=\"!*@(.@(mp?(e)g|MP?(E)G|wm[av]|WM[AV]|avi|AVI|asf|vob|VOB|bin|dat|divx|DIVX|vcd|ps|pes|fli|flv|FLV|fxm|FXM|viv|rm|ram|yuv|mov|MOV|qt|QT|web[am]|WEB[AM]|mp[234]|MP[234]|m?(p)4[av]|M?(P)4[AV]|mkv|MKV|og[agmvx]|OG[AGMVX]|t[ps]|T[PS]|m2t?(s)|M2T?(S)|mts|MTS|wav|WAV|flac|FLAC|asx|ASX|mng|MNG|srt|m[eo]d|M[EO]D|s[3t]m|S[3T]M|it|IT|xm|XM)|+([0-9]).@(vdr|VDR))?(.@(crdownload|part))\" [dvipdfmx]=\"!*.dvi\" [advi]=\"!*.dvi\" [gunzip]=\"!*.@(Z|[gGd]z|t[ag]z)\" [makeinfo]=\"!*.texi*\" [gharbour]=\"!*.@([Pp][Rr][Gg]|[Cc][Ll][Pp])\" [okular]=\"!*.@(okular|@(?(e|x)ps|?(E|X)PS|[pf]df|[PF]DF|dvi|DVI|cb[rz]|CB[RZ]|djv?(u)|DJV?(U)|dvi|DVI|gif|jp?(e)g|miff|tif?(f)|pn[gm]|p[bgp]m|bmp|xpm|ico|xwd|tga|pcx|GIF|JP?(E)G|MIFF|TIF?(F)|PN[GM]|P[BGP]M|BMP|XPM|ICO|XWD|TGA|PCX|epub|EPUB|odt|ODT|fb?(2)|FB?(2)|mobi|MOBI|g3|G3|chm|CHM)?(.?(gz|GZ|bz2|BZ2|xz|XZ)))\" [galeon]=\"!*.@(?([xX]|[sS])[hH][tT][mM]?([lL]))\" [pdflatex]=\"!*.@(?(la)tex|texi|dtx|ins|ltx|dbj)\" [lzmore]=\"!*.@(tlz|lzma)\" [portecle]=\"!@(*.@(ks|jks|jceks|p12|pfx|bks|ubr|gkr|cer|crt|cert|p7b|pkipath|pem|p10|csr|crl)|cacerts)\" [oowriter]=\"!*.@(sxw|stw|sxg|sgl|doc?([mx])|dot?([mx])|rtf|txt|htm|html|?(f)odt|ott|odm|pdf)\" [loimpress]=\"!*.@(sxi|sti|pps?(x)|ppt?([mx])|pot?([mx])|?(f)odp|otp)\" [epiphany]=\"!*.@(?([xX]|[sS])[hH][tT][mM]?([lL]))\" [modplugplay]=\"!*.@(669|abc|am[fs]|d[bs]m|dmf|far|it|mdl|m[eo]d|mid?(i)|mt[2m]|oct|okt?(a)|p[st]m|s[3t]m|ult|umx|wav|xm)\" [dvipdf]=\"!*.dvi\" [dillo]=\"!*.@(?([xX]|[sS])[hH][tT][mM]?([lL]))\" [fbxine]=\"!*@(.@(mp?(e)g|MP?(E)G|wm[av]|WM[AV]|avi|AVI|asf|vob|VOB|bin|dat|divx|DIVX|vcd|ps|pes|fli|flv|FLV|fxm|FXM|viv|rm|ram|yuv|mov|MOV|qt|QT|web[am]|WEB[AM]|mp[234]|MP[234]|m?(p)4[av]|M?(P)4[AV]|mkv|MKV|og[agmvx]|OG[AGMVX]|t[ps]|T[PS]|m2t?(s)|M2T?(S)|mts|MTS|wav|WAV|flac|FLAC|asx|ASX|mng|MNG|srt|m[eo]d|M[EO]D|s[3t]m|S[3T]M|it|IT|xm|XM)|+([0-9]).@(vdr|VDR))?(.@(crdownload|part))\" )\n"
     ]
    },
    {
     "name": "stdout",
     "output_type": "stream",
     "text": [
      "            PS1=\"$ps1pc_start$ps1pc_end\"\n",
      "    if [ \"true\" = \"$inside_worktree\" ] && [ -n \"${GIT_PS1_HIDE_IF_PWD_IGNORED-}\" ] && [ \"$(git config --bool bash.hideIfPwdIgnored)\" != \"false\" ] && git check-ignore -q .; then\n",
      "\t\t\t\tcase \"${GIT_PS1_DESCRIBE_STYLE-}\" in\n",
      "            if [ -n \"${GIT_PS1_SHOWDIRTYSTATE-}\" ] && [ \"$(git config --bool bash.showDirtyState)\" != \"false\" ]; then\n",
      "            if [ -n \"${GIT_PS1_SHOWSTASHSTATE-}\" ] && git rev-parse --verify --quiet refs/stash > /dev/null; then\n",
      "            if [ -n \"${GIT_PS1_SHOWUNTRACKEDFILES-}\" ] && [ \"$(git config --bool bash.showUntrackedFiles)\" != \"false\" ] && git ls-files --others --exclude-standard --directory --no-empty-directory --error-unmatch -- ':/*' > /dev/null 2> /dev/null; then\n",
      "            if [ -n \"${GIT_PS1_SHOWUPSTREAM-}\" ]; then\n",
      "    local z=\"${GIT_PS1_STATESEPARATOR-\" \"}\";\n",
      "    if [ $pcmode = yes ] && [ -n \"${GIT_PS1_SHOWCOLORHINTS-}\" ]; then\n",
      "        PS1=\"$ps1pc_start$gitstring$ps1pc_end\";\n",
      "                GIT_PS1_SHOWUPSTREAM=\"$value\";\n",
      "                if [[ -z \"${GIT_PS1_SHOWUPSTREAM}\" ]]; then\n",
      "    for option in ${GIT_PS1_SHOWUPSTREAM};\n"
     ]
    }
   ],
   "source": [
    "set | grep PS #Muestra las variables que conforman los distintos prompt. "
   ]
  },
  {
   "cell_type": "code",
   "execution_count": 21,
   "metadata": {},
   "outputs": [],
   "source": [
    "#Este menú es más informativo, pero sigue sin detenerse.\n",
    "n_scp=\"select2\"\n",
    "\n",
    "scp $n_scp << \"fin\"\n",
    "\n",
    "lista=\"Opción1 Opción2 Opción3\"\n",
    "PS3=\"Elija una opción: \" #Se cambia «#?» por «Elija una opción: » \n",
    "echo \"De la siguiente lista:\" #Un comentario previo a la presentación de la lista:\n",
    "select i in $lista; do\n",
    "\n",
    "    echo \"Elegiste la opción $i.\"\n",
    "    \n",
    "done\n",
    "\n",
    "fin\n",
    "\n",
    "exc $n_scp"
   ]
  },
  {
   "cell_type": "code",
   "execution_count": 25,
   "metadata": {},
   "outputs": [],
   "source": [
    "#Ahora sí, es totalmente funcional.\n",
    "n_scp=\"select3\"\n",
    "\n",
    "scp $n_scp << \"fin\"\n",
    "\n",
    "lista=\"Opción1 Opción2 Opción3\"\n",
    "PS3=\"Elija una opción: \" #Se cambia «#?» por «Elija una opción: » \n",
    "echo \"De la siguiente lista:\" #Un comentario previo a la presentación de la lista:\n",
    "select i in $lista; do\n",
    "    \n",
    "#Si se elige una opción no listada, i=\"\".\n",
    "    if [[ -z $i ]]; then  #Revisamos si «i» no está vacía.\n",
    "        echo \"Opción no válida.\" #Informamos del error y repetimos.\n",
    "    else\n",
    "        echo \"Elegiste la opción $i.\"\n",
    "        break #En la mayoría de los casos debemos salir de select, al elegir una opción.\n",
    "    fi\n",
    "done\n",
    "\n",
    "fin\n",
    "\n",
    "exc $n_scp"
   ]
  },
  {
   "cell_type": "markdown",
   "metadata": {},
   "source": [
    "Crear un menú para elegir el paquete a instalar.\n",
    "\n",
    "El primer paso es obtener la lista de candidatos.\n",
    "\n",
    "Supongamos que queremos buscar el paquete para instalar `julia` en el directorio de __descargas__ y en directorio actual."
   ]
  },
  {
   "cell_type": "code",
   "execution_count": 107,
   "metadata": {},
   "outputs": [
    {
     "name": "stdout",
     "output_type": "stream",
     "text": [
      "/home/luis/Descargas/julia-1.5.2\n",
      "-linux-x86_64.tar.gz\n",
      "/home/luis/Descargas/julia-1.5.2-linux-x86_64.tar.gz\n",
      "/home/luis/Descargas/julia-1.5.0-linux-x86_64.tar.gz\n",
      "./julia-1.5.2-linux-x86_64.tar.gz\n"
     ]
    }
   ],
   "source": [
    "#Lista de los posibles paquetes a instalar.\n",
    "paquete=\"julia*.tar.gz\" #Patron para buscar julia.\n",
    "#Establecemos los directorios de búsqueda.\n",
    "dir_instaladores=\"$(xdg-user-dir DOWNLOAD)\" #directorio Descargas y el directorio actual.\n",
    "lista_paquetes=($(find $dir_instaladores . -maxdepth 1 -iname \"$paquete\"))\n",
    "\n",
    "#Podemos recorrer la el arreglo para ver si funcionó.\n",
    "for opcion in ${lista_paquetes[*]}; do\n",
    "    echo $opcion\n",
    "done\n",
    "#Tiene problemas con los espacios."
   ]
  },
  {
   "cell_type": "markdown",
   "metadata": {},
   "source": [
    "Para evitar que se use el espacio como delimitador, se puede modificar la variable de entorno `IFS`."
   ]
  },
  {
   "cell_type": "code",
   "execution_count": 109,
   "metadata": {
    "scrolled": true
   },
   "outputs": [
    {
     "name": "stdout",
     "output_type": "stream",
     "text": [
      "/home/luis/Descargas/julia-1.5.2   -linux-x86_64.tar.gz\n",
      "/home/luis/Descargas/julia-1.5.2-linux-x86_64.tar.gz\n",
      "/home/luis/Descargas/julia-1.5.0-linux-x86_64.tar.gz\n",
      "./julia-1.5.2-linux-x86_64.tar.gz\n"
     ]
    }
   ],
   "source": [
    "#Lista de los posibles paquetes a instalar.\n",
    "paquete=\"julia*.tar.gz\" #Patron para buscar julia.\n",
    "#Establecemos los directorios de búsqueda.\n",
    "#IFS=$' '\n",
    "dir_instaladores=\"$(xdg-user-dir DOWNLOAD)\" #directorio «Descargas».\n",
    "IFS=$'\\n' #Cambiamos el valor de «' '» a «'\\n'»\n",
    "\n",
    "#Buscamos en «Descargas» y en el directorio actual.\n",
    "lista_paquetes=($(find $dir_instaladores . -maxdepth 1 -iname \"$paquete\"))\n",
    "\n",
    "#Podemos recorrer la el arreglo para ver si funcionó.\n",
    "for opcion in ${lista_paquetes[*]}; do\n",
    "    echo $opcion\n",
    "done\n",
    "IFS=$' ' #Regresamos al valor original"
   ]
  },
  {
   "cell_type": "code",
   "execution_count": 110,
   "metadata": {},
   "outputs": [
    {
     "name": "stdout",
     "output_type": "stream",
     "text": [
      "/home/luis/Descargas/julia-1.5.2 -linux-x86_64.tar.gz\n"
     ]
    }
   ],
   "source": [
    "echo ${lista_paquetes[0]} #Elegimos el primero."
   ]
  },
  {
   "cell_type": "markdown",
   "metadata": {},
   "source": [
    "Ya podemos construir el menú:"
   ]
  },
  {
   "cell_type": "code",
   "execution_count": 119,
   "metadata": {
    "scrolled": true
   },
   "outputs": [],
   "source": [
    "n_scp=\"nenu_julia\"\n",
    "\n",
    "scp $n_scp << \"fin\"\n",
    "\n",
    "#Se crea el arreglo con la opciones.\n",
    "paquete=\"julia*.tar.gz\"\n",
    "dir_instaladores=\"$(xdg-user-dir DOWNLOAD)\" #directorio «Descargas».\n",
    "IFS=$'\\n'\n",
    "\n",
    "#Buscamos en «Descargas» y en el directorio actual.\n",
    "lista_paquetes=($(find $dir_instaladores . -maxdepth 1 -iname \"$paquete\"))\n",
    "\n",
    "PS3=\"Elija una opción: \" #Se cambia «#?» por «Elija una opción: » \n",
    "echo \"De la siguiente lista:\"\n",
    "select i in ${lista_paquetes[*]}; do\n",
    "    \n",
    "#Si se elige una opción no listada, i=\"\".\n",
    "    if [[ -z $i ]]; then  #Revisamos si i no está vacía.\n",
    "        echo \"Opción no válida.\" #Informamos del error y repetimos.\n",
    "    else\n",
    "        echo -e \"Se instlará el paquete:\\n$i.\"\n",
    "        break #En la mayoría de los casos debemos salir de select, al elegir una opción.\n",
    "    fi\n",
    "done\n",
    "IFS=$' ' #Regresamos al valor original\n",
    "\n",
    "fin\n",
    "\n",
    "exc $n_scp"
   ]
  },
  {
   "cell_type": "markdown",
   "metadata": {},
   "source": [
    "Si el script anterior se ejecuta como superusuario, puede tener el siguiente problema."
   ]
  },
  {
   "cell_type": "code",
   "execution_count": 165,
   "metadata": {},
   "outputs": [],
   "source": [
    "#Devuelve el directorio de descargas de root.\n",
    "n_scp=\"select3\"\n",
    "\n",
    "scp $n_scp << \"fin\"\n",
    "\n",
    "sudo xdg-user-dir DOWNLOAD\n",
    "\n",
    "fin\n",
    "\n",
    "exc $n_scp"
   ]
  },
  {
   "cell_type": "markdown",
   "metadata": {},
   "source": [
    "Dentro de un proceso lanzado por un script con `sudo`, podemos usar la variable `SUDO_USER` para saber cual usuario inició el proceso.\n",
    "\n",
    "Con el comando `runuser`, se pueden lanzar procesos como si fueramos otro usuario. Este comando no pide contraseña, ya que es obligatorio ser `root` para ejecutarlo.\n",
    "\n",
    "```bash\n",
    "echo $SUDO_USER #Usuario que lanzó el proceso como root.\n",
    "whoami #Usuario actual «root».\n",
    "#Devuelve el directorio «Descargas» del usuario que lanzó el proceso con «sudo».\n",
    "runuser -s /bin/bash $SUDO_USER -c \"xdg-user-dir DOWNLOAD\"\n",
    "```"
   ]
  },
  {
   "cell_type": "code",
   "execution_count": 1,
   "metadata": {},
   "outputs": [
    {
     "name": "stdout",
     "output_type": "stream",
     "text": [
      "/home/luis\n"
     ]
    }
   ],
   "source": [
    "xdg-user-dir"
   ]
  },
  {
   "cell_type": "code",
   "execution_count": 5,
   "metadata": {},
   "outputs": [
    {
     "name": "stdout",
     "output_type": "stream",
     "text": [
      "1\n",
      "2\n"
     ]
    }
   ],
   "source": [
    "julia <<< \"a=1; println(a); println(2)\"apt-get "
   ]
  },
  {
   "cell_type": "code",
   "execution_count": 7,
   "metadata": {},
   "outputs": [
    {
     "name": "stdout",
     "output_type": "stream",
     "text": [
      "ls: no se puede acceder a '/homes': No existe el archivo o el directorio\n",
      "problemas\n"
     ]
    }
   ],
   "source": [
    "ls /homes\n",
    "if [[ $? != 0 ]]; then\n",
    "    echo problemas\n",
    "fi"
   ]
  },
  {
   "cell_type": "code",
   "execution_count": 10,
   "metadata": {},
   "outputs": [
    {
     "name": "stdout",
     "output_type": "stream",
     "text": [
      "problemas\n"
     ]
    }
   ],
   "source": [
    "loco=true\n",
    "if $loco; then\n",
    "    echo problemas\n",
    "fi"
   ]
  },
  {
   "cell_type": "code",
   "execution_count": null,
   "metadata": {},
   "outputs": [],
   "source": []
  }
 ],
 "metadata": {
  "kernelspec": {
   "display_name": "Bash",
   "language": "bash",
   "name": "bash"
  },
  "language_info": {
   "codemirror_mode": "shell",
   "file_extension": ".sh",
   "mimetype": "text/x-sh",
   "name": "bash"
  }
 },
 "nbformat": 4,
 "nbformat_minor": 4
}
