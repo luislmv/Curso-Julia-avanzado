{
 "cells": [
  {
   "cell_type": "markdown",
   "metadata": {},
   "source": [
    "# Tópicos avanzados de programación con Julia"
   ]
  },
  {
   "cell_type": "markdown",
   "metadata": {},
   "source": [
    "## _Introducción a Shell Scripting_"
   ]
  },
  {
   "cell_type": "markdown",
   "metadata": {},
   "source": [
    "__Recomendaciones generales y buenas prácticas al crear el entorno de desarrollo.__\n",
    "- Introducción a Shell Scripting.\n",
    "  - Crear y ejecutar cualquier script desde Jupyter.\n",
    "  - Interacción con el usuario.\n",
    "    - Entrada de datos.\n",
    "    - Salida de datos.\n",
    "  - Comandos externos, internos y palabras claves.\n",
    "  - Arreglos\n",
    "  - Comprobaciones en Bash.\n",
    "    - Comandos `test`,  `[` y `[[`.\n",
    "    - Cadenas.\n",
    "    - Enteros.\n",
    "    - Archivos.\n",
    "    - Concatenando pruebas.\n",
    "  - Estructuras de control de flujo.\n",
    "    - `if`.\n",
    "    - `case`.\n",
    "    - `for`.\n",
    "    - `while`.\n",
    "    - `until`.\n",
    "    - `select` estructura de control y de entrada de datos.\n",
    "  - Diálogos interactivos desde la linea de comando.\n",
    "- Miniproyecto (Instalador para el taller)."
   ]
  },
  {
   "cell_type": "markdown",
   "metadata": {},
   "source": [
    "### Crear y ejecutar cualquier script desde Jupyter"
   ]
  },
  {
   "cell_type": "markdown",
   "metadata": {},
   "source": [
    "Para agilizar el proceso y no estar cambiando de programa. Voy a mostrar la forma en la que se crearán los script desde aquí:\n",
    "Supongamos que queremos crear un script en el directorio `./script` con el siguiente contenido:\n",
    "\n",
    "```bash\n",
    "#!/usr/bin/env bash\n",
    "echo -e \"El directorio actual es:\\n\\n $(pwd)\"\n",
    "```\n",
    "Y además queremos darle permiso de ejecución, para no estar invocando constantemente al intérprete `bash`.\n",
    "\n",
    "Un forma bastante artesanal sería:"
   ]
  },
  {
   "cell_type": "code",
   "execution_count": null,
   "metadata": {},
   "outputs": [],
   "source": [
    "cd ./script #Nos movemos al subdirectorio «script», para que la ruta sea más corta."
   ]
  },
  {
   "cell_type": "code",
   "execution_count": null,
   "metadata": {},
   "outputs": [],
   "source": [
    "cat << \"fin\" > \"./scp1.sh\" #Creamos el script.\n",
    "#!/usr/bin/env bash\n",
    "echo -e \"El directorio actual es:\\n\\n $(pwd)\"\n",
    "fin\n",
    "\n",
    "chmod -x ./scp1.sh\n",
    "\n",
    "cat ./scp1.sh #Revisamos, el script creado."
   ]
  },
  {
   "cell_type": "markdown",
   "metadata": {},
   "source": [
    "Podemos usar variables y funciones para mejorar la creación de scrips."
   ]
  },
  {
   "cell_type": "code",
   "execution_count": null,
   "metadata": {},
   "outputs": [],
   "source": [
    "#La función «scp» crea scripts ejecutables para bash en el directorio actual.\n",
    "#El parámetro $1, contiene el nombre del archivo.\n",
    "#Por defecto se añade la extensión «sh» y se le coloca el SheBang.\n",
    "#Finalmente se presenta un informe de las tareas realizadas.\n",
    "scp(){\n",
    "    echo '#!/usr/bin/env bash' > \"./$1.sh\" #Crea el archivo con SheBang.\n",
    "    #cat espera que se añadan las lineas manualmente.\n",
    "    #Obviamente, podemos redirigir la entrada de «scp» que es lo mismo\n",
    "    #que haberlo hecho directamente con cat.\n",
    "    cat >>\"./$1.sh\" #Todas las lineas se agregan después del SheBang.\n",
    "    chmod +x \"./$1.sh\" #Le damos permiso de ejecución.\n",
    "    \n",
    "    #Se crea el informe:   \n",
    "    echo \"Se creó el archivo ejecutable «$1.sh».\"\n",
    "    echo -e \"\\nEl archivo «$1.sh» está contenido en:\\n\\n$(pwd)\\n\"\n",
    "    echo \"El contenido de «$1.sh» es:\"\n",
    "    echo -e \"---------------------------\\n\"\n",
    "    cat \"./$1.sh\"\n",
    "    echo -e \"\\n---------------------------\"\n",
    "    echo \"Fin del contenido de «$1.sh»\"\n",
    "}"
   ]
  },
  {
   "cell_type": "markdown",
   "metadata": {},
   "source": [
    "Ahora todo es mucho más fácil."
   ]
  },
  {
   "cell_type": "code",
   "execution_count": null,
   "metadata": {},
   "outputs": [],
   "source": [
    "scp scp2 << \"fin\"\n",
    "echo -e \"El directorio actual es:\\n\\n $(pwd)\"\n",
    "fin"
   ]
  },
  {
   "cell_type": "code",
   "execution_count": null,
   "metadata": {},
   "outputs": [],
   "source": [
    "#La función «scp» crea scripts ejecutables para bash en el directorio actual.\n",
    "#El parámetro $1, contiene el nombre del archivo.\n",
    "#Por defecto se añade la extensión «sh» y se le coloca el SheBang.\n",
    "#Con la opción «-i» o «--info» se presenta un informe de las tareas realizadas.\n",
    "scp(){\n",
    "    local informe=false #Para saber si se muestra el informe.\n",
    "    \n",
    "    #Si está la opción de imprimir informe\n",
    "    if [[ $1 = \"-i\" ||  $1 = \"--info\" ]]; then\n",
    "        informe=true #Para indicar que se va a imprimir.\n",
    "        shift #Se elimina el parámetro de tipo opción.\n",
    "    elif [[ $1 =~ ^- ]]; then #Cualquier otra opción será incorrecta.\n",
    "        echo \"Opción «$1» incorrecta.\"\n",
    "        return 1\n",
    "    fi\n",
    "    \n",
    "    #En este punto el nombre del archivo está en $1.\n",
    "    #Si $1 está vacío, se notifica y retornamos un error 1.\n",
    "    if [[ -z \"$1\" ]]; then\n",
    "        echo \"Nombre de archivo vacío.\"\n",
    "        return 1\n",
    "    fi\n",
    "    \n",
    "    echo '#!/usr/bin/env bash' > \"./$1.sh\" #Crea el archivo con SheBang.\n",
    "    #cat espera que se añadan las lineas manualmente.\n",
    "    #Obviamente, podemos redirigir la entrada de «scp» que es lo mismo\n",
    "    #que haberlo hecho directamente con cat.\n",
    "    cat >>\"./$1.sh\" #Todas las lineas se agregan después del SheBang.\n",
    "    chmod +x \"./$1.sh\" #Le damos permiso de ejecución.\n",
    "    \n",
    "    #Si «informe» es verdadero, este se crea:\n",
    "    if $informe; then\n",
    "        echo \"Se creó el archivo ejecutable «$1.sh».\"\n",
    "        echo -e \"\\nEl archivo «$1.sh» está contenido en:\\n\\n$(pwd)\\n\"\n",
    "        echo \"El contenido de «$1.sh» es:\"\n",
    "        echo -e \"---------------------------\\n\"\n",
    "        cat \"./$1.sh\"\n",
    "        echo -e \"\\n---------------------------\"\n",
    "        echo \"Fin del contenido de «$1.sh»\"\n",
    "    fi\n",
    "}"
   ]
  },
  {
   "cell_type": "code",
   "execution_count": null,
   "metadata": {},
   "outputs": [],
   "source": [
    "scp -i prueba << \"fin\"\n",
    "echo -e \"El directorio actual es:\\n\\n $(pwd)\"\n",
    "fin"
   ]
  },
  {
   "cell_type": "code",
   "execution_count": null,
   "metadata": {},
   "outputs": [],
   "source": [
    "scp --info prueba2 << \"fin\"\n",
    "echo -e \"El directorio actual es:\\n\\n $(pwd)\"\n",
    "fin"
   ]
  },
  {
   "cell_type": "code",
   "execution_count": null,
   "metadata": {},
   "outputs": [],
   "source": [
    "scp --ifo prueba3 << \"fin\"\n",
    "echo -e \"El directorio actual es:\\n\\n $(pwd)\"\n",
    "fin"
   ]
  },
  {
   "cell_type": "code",
   "execution_count": null,
   "metadata": {},
   "outputs": [],
   "source": [
    "scp -i << \"fin\"\n",
    "echo -e \"El directorio actual es:\\n\\n $(pwd)\"\n",
    "fin"
   ]
  },
  {
   "cell_type": "code",
   "execution_count": null,
   "metadata": {},
   "outputs": [],
   "source": [
    "scp << \"fin\"\n",
    "echo -e \"El directorio actual es:\\n\\n $(pwd)\"\n",
    "fin"
   ]
  },
  {
   "cell_type": "markdown",
   "metadata": {},
   "source": [
    "Podemos ejecutar el script creado en otra terminal, sin salir de Jupyter."
   ]
  },
  {
   "cell_type": "code",
   "execution_count": null,
   "metadata": {},
   "outputs": [],
   "source": [
    "x-terminal-emulator -e './scp2.sh' #Abre una nueva terminal, ejecuta el script y shttp://localhost:8889/notebooks/Pl%C3%A1ticas/Pl%C3%A1tica-9-Introducci%C3%B3n-a-Shell-Scripting-part-3/Pl%C3%A1tica-9-Introducci%C3%B3n-a-Shell-Scripting-part-3.ipynb#e cierra."
   ]
  },
  {
   "cell_type": "code",
   "execution_count": null,
   "metadata": {},
   "outputs": [],
   "source": [
    "#Abre una nueva terminal, ejecuta el script. Espera a que se cierre manualmente.\n",
    "x-terminal-emulator --noclose -e './scp2.sh'"
   ]
  },
  {
   "cell_type": "code",
   "execution_count": null,
   "metadata": {},
   "outputs": [],
   "source": [
    "#Podemos crear un alias para no tener que escribir tanto.\n",
    "alias exc=\"x-terminal-emulator --noclose -e\""
   ]
  },
  {
   "cell_type": "code",
   "execution_count": null,
   "metadata": {},
   "outputs": [],
   "source": [
    "exc ./scp2.sh #Mucho más cómodo."
   ]
  },
  {
   "cell_type": "code",
   "execution_count": null,
   "metadata": {},
   "outputs": [],
   "source": [
    "unalias exc #Eliminamos el alias, para crear un función más cómoda aún."
   ]
  },
  {
   "cell_type": "code",
   "execution_count": null,
   "metadata": {},
   "outputs": [],
   "source": [
    "#Hace lo mismo, pero evita tener que colocar la ruta relativa y la extensión.\n",
    "exc(){\n",
    "    x-terminal-emulator --noclose -e \"./$1.sh\"\n",
    "}"
   ]
  },
  {
   "cell_type": "code",
   "execution_count": null,
   "metadata": {},
   "outputs": [],
   "source": [
    "exc scp2 #Aún más cómodo."
   ]
  },
  {
   "cell_type": "code",
   "execution_count": null,
   "metadata": {},
   "outputs": [],
   "source": [
    "#Podemos usar una variable, para evitar escribir dos veces el nombre del archivo:\n",
    "n_scp=\"scp3\" #Ahora sólo tenemos que escribir el nombré aquí.\n",
    "\n",
    "scp $n_scp << \"fin\"\n",
    "\n",
    "echo -e \"El directorio actual es:\\n\\n $(pwd)\"\n",
    "\n",
    "fin\n",
    "\n",
    "exc $n_scp"
   ]
  },
  {
   "cell_type": "markdown",
   "metadata": {},
   "source": [
    "### Interacción con el usuario"
   ]
  },
  {
   "cell_type": "markdown",
   "metadata": {},
   "source": [
    "La interacción con el usuario en los scripts, se da mediante la entrada y la salida estándar de los procesos."
   ]
  },
  {
   "cell_type": "markdown",
   "metadata": {},
   "source": [
    "#### Entrada de datos"
   ]
  },
  {
   "cell_type": "markdown",
   "metadata": {},
   "source": [
    "- Para obtener datos almacenados en algún archivo, podemos redirigir la entrada estándar del proceso que lo necesita al archivo en cuestión.\n",
    "- Una manera alternativa, es usar comandos como `cat`, `head`, `tail`, etc.\n",
    "- Los datos obtenidos de ese modo pueden pasarse a otros procesos o almacenarse en variables.\n",
    "- Para obtener información directamente del usuario se usa el comando `read`."
   ]
  },
  {
   "cell_type": "code",
   "execution_count": null,
   "metadata": {},
   "outputs": [],
   "source": [
    "n_scp=\"scp4\"\n",
    "\n",
    "scp $n_scp << \"fin\"\n",
    "\n",
    "#No da ningún aviso.\n",
    "read nombre #Se lee desde el teclado y se almacena en «nombre»\n",
    "echo \"Su nombre es $nombre.\" #Muestra el contenido.\n",
    "\n",
    "fin\n",
    "\n",
    "exc $n_scp"
   ]
  },
  {
   "cell_type": "code",
   "execution_count": null,
   "metadata": {},
   "outputs": [],
   "source": [
    "n_scp=\"scp5\"\n",
    "\n",
    "scp $n_scp << \"fin\"\n",
    "\n",
    "echo \"Escriba su nombre: \"\n",
    "read nombre #Se lee desde el teclado y se almacena en «nombre»\n",
    "echo \"Su nombre es $nombre.\" #Muestra el contenido.\n",
    "\n",
    "fin\n",
    "\n",
    "exc $n_scp"
   ]
  },
  {
   "cell_type": "code",
   "execution_count": null,
   "metadata": {},
   "outputs": [],
   "source": [
    "n_scp=\"scp6\"\n",
    "\n",
    "scp $n_scp << \"fin\"\n",
    "\n",
    "echo -n \"Escriba su nombre: \"\n",
    "read nombre #Se lee desde el teclado y se almacena en «nombre»\n",
    "echo \"Su nombre es $nombre.\" #Muestra el contenido.\n",
    "\n",
    "fin\n",
    "\n",
    "exc $n_scp"
   ]
  },
  {
   "cell_type": "code",
   "execution_count": null,
   "metadata": {},
   "outputs": [],
   "source": [
    "n_scp=\"scp7\"\n",
    "\n",
    "scp $n_scp << \"fin\"\n",
    "\n",
    "read -p \"Escriba su nombre: \" nombre #Se lee desde el teclado y se almacena en «nombre»\n",
    "echo \"Su nombre es $nombre.\" #Muestra el contenido.\n",
    "\n",
    "fin\n",
    "\n",
    "exc $n_scp"
   ]
  },
  {
   "cell_type": "markdown",
   "metadata": {},
   "source": [
    "#### Salida de datos"
   ]
  },
  {
   "cell_type": "markdown",
   "metadata": {},
   "source": [
    "El comando `echo` es bastante práctico y difundido, pero no es recomendado cuando se necesita dar un mejor formato al texto de salida. Para eso contamos con `printf` (usa una sintaxis similar a la función `printf` del lenguaje `C`). \n",
    "\n",
    "[Aquí](https://ugeek.github.io/blog/post/2019-02-08-no-todo-es-echo-tambien-existe-printf.html) se muestran algunos ejemplos."
   ]
  },
  {
   "cell_type": "markdown",
   "metadata": {},
   "source": [
    "### Comandos externos, internos y palabras claves."
   ]
  },
  {
   "cell_type": "code",
   "execution_count": null,
   "metadata": {},
   "outputs": [],
   "source": [
    "type echo #Comando definido dentro de bash."
   ]
  },
  {
   "cell_type": "code",
   "execution_count": null,
   "metadata": {},
   "outputs": [],
   "source": [
    "type julia #Comando externo a bash."
   ]
  },
  {
   "cell_type": "markdown",
   "metadata": {},
   "source": [
    "Una palabra clave es una definición interna de __bash__. Son componentes básicos de su sintaxis, pero no son programas ( _comandos_ ). Necesitan de comandos para que tengan sentido. En realidad se comportan como operadores."
   ]
  },
  {
   "cell_type": "code",
   "execution_count": null,
   "metadata": {},
   "outputs": [],
   "source": [
    "type { #Palabra clave."
   ]
  },
  {
   "cell_type": "markdown",
   "metadata": {},
   "source": [
    "En [este](https://ubuntu.dokry.com/5924/cual-es-la-diferencia-entre-shell-builtin-y-shell-keyword.html) artículo, se explica bastante bien la diferencia entre los tres tipos de definiciones que usa __bash__."
   ]
  },
  {
   "cell_type": "markdown",
   "metadata": {},
   "source": [
    "### Arreglos"
   ]
  },
  {
   "cell_type": "code",
   "execution_count": null,
   "metadata": {},
   "outputs": [],
   "source": [
    "# Los elementos de una arreglo se separan con espacios.\n",
    "arreglo=(a b c 1 hola \"nada de nada\")"
   ]
  },
  {
   "cell_type": "code",
   "execution_count": null,
   "metadata": {},
   "outputs": [],
   "source": [
    "echo $arreglo #Solo nos da el primer elemento ¿?"
   ]
  },
  {
   "cell_type": "code",
   "execution_count": null,
   "metadata": {},
   "outputs": [],
   "source": [
    "var=12 #También es un arreglo, pero de un solo elemento."
   ]
  },
  {
   "cell_type": "code",
   "execution_count": null,
   "metadata": {},
   "outputs": [],
   "source": [
    "# Para ver los elemento del arreglo:\n",
    "echo ${arreglo[@]} #Muestra todos los elementos separados por espacios.\n",
    "echo ${arreglo[*]} #Muestra lo mismo, pero se trata al conjunto como un solo elemento.\n",
    "#La variable también es un arreglo\n",
    "echo ${var[@]}\n",
    "echo ${var[*]}"
   ]
  },
  {
   "cell_type": "code",
   "execution_count": null,
   "metadata": {},
   "outputs": [],
   "source": [
    "#Podemos seleccionar cada elemento de un arreglo.\n",
    "echo ${arreglo[0]}\n",
    "echo ${arreglo[1]}\n",
    "echo ${arreglo[2]}\n",
    "echo ${arreglo[3]}\n",
    "echo ${arreglo[4]}\n",
    "echo ${arreglo[5]}\n",
    "#Como no existe, está vacío. Igual que todas las variables no declaradas.\n",
    "echo ${arreglo[6]}\n",
    "echo ${var[1]}"
   ]
  },
  {
   "cell_type": "code",
   "execution_count": null,
   "metadata": {},
   "outputs": [],
   "source": [
    "#Se puede cambiar el valor de cualquier elemento o añadir nuevos:\n",
    "arreglo[6]=NUEVO\n",
    "var[1]=NUEVO\n",
    "arreglo[2]=CAMBIO\n",
    "#También podemos añadir elementos por delante:\n",
    "var=(Anterior ${var[*]}) #Lo redefinimos y listo.\n",
    "#Al redefinirlo de esta manera, puede haber problemas con los espacios.\n",
    "echo ${arreglo[*]}\n",
    "echo ${var[*]}"
   ]
  },
  {
   "cell_type": "code",
   "execution_count": null,
   "metadata": {},
   "outputs": [],
   "source": [
    "a=23; b=44\n",
    "#Con el signo de «!», miramos dentro de los elementos del array.\n",
    "#Ahora si que tiene sentido lo de almacenar variables en variables.\n",
    "echo ${!arreglo[0]}\n",
    "echo ${!arreglo[1]}"
   ]
  },
  {
   "cell_type": "code",
   "execution_count": null,
   "metadata": {},
   "outputs": [],
   "source": [
    "#Para saber cuantos elementos tiene un array:\n",
    "echo ${#arreglo[@]}\n",
    "echo ${#arreglo[*]}\n",
    "echo ${#arreglo[2]} #Esto cuenta los elemento de los elementos (número de caracteres)."
   ]
  },
  {
   "cell_type": "code",
   "execution_count": null,
   "metadata": {},
   "outputs": [],
   "source": [
    "#Para copiar un arreglo en otro:\n",
    "arreglo2=(${arreglo[@]})\n",
    "arreglo3=(${arreglo[*]})\n",
    "\n",
    "#Se separó la cadena.\n",
    "echo ${#arreglo2[@]}\n",
    "echo ${#arreglo2[*]}\n",
    "echo ${#arreglo3[@]}\n",
    "echo ${#arreglo3[*]}\n",
    "echo ${arreglo3[*]}\n",
    "\n",
    "arreglo2=(\"${arreglo[@]}\")\n",
    "arreglo3=(\"${arreglo[*]}\")"
   ]
  },
  {
   "cell_type": "code",
   "execution_count": null,
   "metadata": {},
   "outputs": [],
   "source": [
    "#De esta manera se evita el problema.\n",
    "declare -n arreglo4=arreglo\n",
    "echo ${#arreglo4[@]}\n",
    "echo ${#arreglo4[*]}\n",
    "echo ${arreglo4[*]}"
   ]
  },
  {
   "cell_type": "code",
   "execution_count": null,
   "metadata": {},
   "outputs": [],
   "source": [
    "arreglo5=(1 2 3 4 5 6 7 8 9) #Muestra todo.\n",
    "#Se puede seleccionar sólo una parte.\n",
    "echo ${arreglo5[@]:3:2} #Toma dos elementos a partir del cuarto.\n",
    "\n",
    "echo ${arreglo5[@]:3} #Del cuarto en adelante.\n",
    "echo ${arreglo5[@]::4} #Toma cuatro elementos a partir del primero."
   ]
  },
  {
   "cell_type": "code",
   "execution_count": null,
   "metadata": {},
   "outputs": [],
   "source": [
    "#Crea un rango de valores.\n",
    "seq 1 5\n",
    "echo \"-------------\"\n",
    "seq 1 2 5\n",
    "echo \"-------------\"\n",
    "seq 5 -2 1"
   ]
  },
  {
   "cell_type": "code",
   "execution_count": null,
   "metadata": {},
   "outputs": [],
   "source": [
    "#Se puede usar para crear arreglos\n",
    "var2=$(seq 1 10) #Todavía no lo es.\n",
    "echo ${var2[*]}\n",
    "echo ${#var2[*]}"
   ]
  },
  {
   "cell_type": "code",
   "execution_count": null,
   "metadata": {},
   "outputs": [],
   "source": [
    "#Se puede usar para crear arreglos\n",
    "var2=($(seq 1 10)) #Ahora sí.\n",
    "echo ${var2[*]}\n",
    "echo ${#var2[*]}"
   ]
  },
  {
   "cell_type": "markdown",
   "metadata": {},
   "source": [
    "Para más información ve la ayuda de `seq`.\n",
    "\n",
    "También se pueden trabajar con otro tipo de rangos. Los veremos en la estructura `for`.\n",
    "\n",
    "Este fue el ejemplo que mostraba el arreglo que almacena los estados de salida de los procesos unidos por tuberías."
   ]
  },
  {
   "cell_type": "code",
   "execution_count": null,
   "metadata": {},
   "outputs": [],
   "source": [
    "#El arreglo PIPESTATUS, almacena los estados de salida de cada comando.\n",
    "cat /tmp/arch1 | wc\n",
    "echo \"Los estados de salida de cada comando son: ${PIPESTATUS[*]}\""
   ]
  },
  {
   "cell_type": "markdown",
   "metadata": {},
   "source": [
    "### Comprobaciones en Bash"
   ]
  },
  {
   "cell_type": "markdown",
   "metadata": {},
   "source": [
    "Antes de presentar las estructuras de control de flujo, es necesario saber como hacer comprobaciones en `Bash`.\n",
    "\n",
    "Básicamente existen tres formas de hacer pruebas."
   ]
  },
  {
   "cell_type": "markdown",
   "metadata": {},
   "source": [
    "#### Comandos `test`,  `[` y `[[`"
   ]
  },
  {
   "cell_type": "markdown",
   "metadata": {},
   "source": [
    "Los comandos `test` y `[` son sinónimos, con la excepción de que el comando `[` requiere un parámetro adicional (es obligatorio colocar «`]`» como último argumento) que no está presente en `test`. Todo lo demás es idéntico."
   ]
  },
  {
   "cell_type": "code",
   "execution_count": null,
   "metadata": {},
   "outputs": [],
   "source": [
    "type test; type ["
   ]
  },
  {
   "cell_type": "markdown",
   "metadata": {},
   "source": [
    "Ambos comandos están definidos en las normas __POSIX__."
   ]
  },
  {
   "cell_type": "markdown",
   "metadata": {},
   "source": [
    "- `[[` es una palabra reservada. No forma parte del estándar  __POSIX__.\n",
    "- Es más potente, amigable y rápido que `test` o que `[`.\n",
    "- Es original de `ksh`, pero actualmente está soportado en `bash`.\n",
    "\n",
    "[Aquí](https://mywiki.wooledge.org/BashFAQ/031) hay más información."
   ]
  },
  {
   "cell_type": "code",
   "execution_count": null,
   "metadata": {},
   "outputs": [],
   "source": [
    "type [["
   ]
  },
  {
   "cell_type": "markdown",
   "metadata": {},
   "source": [
    "Los tres funcionan de la misma manera. Realizan alguna comprobación y finalizan sin devolver nada por la salida estándar. Es en el estado de salida, donde se puede saber el resultado de la prueba. Si `$?` es `0` o `1`, la comprobación fue __verdadera__ o __falsa__ respectivamente.\n",
    "\n",
    "__NOTA IMPORTANTE__\n",
    "\n",
    "En todos los casos se tienen que respetar los espacios, entre los corchetes y su contenido, ya que que son comandos y parámetros. Así que se tienen que tratar como tal, ya que el espacio es el separador.\n",
    "\n",
    "Los comandos `true` y `false`, siempre devuelven el estad de salida `0` y `1` respectivamente."
   ]
  },
  {
   "cell_type": "code",
   "execution_count": null,
   "metadata": {},
   "outputs": [],
   "source": [
    "type true; type false"
   ]
  },
  {
   "cell_type": "markdown",
   "metadata": {},
   "source": [
    "__Ejemplo__"
   ]
  },
  {
   "cell_type": "code",
   "execution_count": null,
   "metadata": {},
   "outputs": [],
   "source": [
    "#Comparando cadenas (orden lexicográfico).\n",
    "#Se tiene que escapar «>», de lo contrario estaríamos redireccionando STDOUT.\n",
    "test \"Hola\" \\> \"Holb\"\n",
    "echo $?"
   ]
  },
  {
   "cell_type": "code",
   "execution_count": null,
   "metadata": {},
   "outputs": [],
   "source": [
    "test \"Hola\" > \"Holb\" #Crea un archivo vacío llamado Holb en el directorio actual."
   ]
  },
  {
   "cell_type": "code",
   "execution_count": null,
   "metadata": {},
   "outputs": [],
   "source": [
    "ls; rm Holb #Mostramos y seguidamente lo borramos."
   ]
  },
  {
   "cell_type": "code",
   "execution_count": null,
   "metadata": {},
   "outputs": [],
   "source": [
    "[ \"Hola\" \\> \"Holb\" ]\n",
    "echo $?"
   ]
  },
  {
   "cell_type": "code",
   "execution_count": null,
   "metadata": {},
   "outputs": [],
   "source": [
    "[[ \"Hola\" > \"Holb\" ]] #Como [[ no es un comando, no es necesario escapar «>».\n",
    "echo $?"
   ]
  },
  {
   "cell_type": "code",
   "execution_count": null,
   "metadata": {},
   "outputs": [],
   "source": [
    "#Se tiene que escapar «<», de lo contrario estaríamos redireccionado STDIN.\n",
    "test \"Hola\" \\< \"Holb\"\n",
    "echo $?"
   ]
  },
  {
   "cell_type": "code",
   "execution_count": null,
   "metadata": {},
   "outputs": [],
   "source": [
    "test \"Hola\" < \"Holb\" #Redirecciona la entrada al archivo Holb, que ya borre.\n",
    "#Si no lo hubiera borrado, el test se hubiera ejecutado correctamente, ya que\n",
    "#al estar vacío el archivo, sólo se ejecuta test \"Hola\".\n",
    "#El test hubiera devuelto 0, que es el valor esperado de la comparación correcta.\n",
    "echo $?"
   ]
  },
  {
   "cell_type": "code",
   "execution_count": null,
   "metadata": {},
   "outputs": [],
   "source": [
    "#Volvamos a crear el archivo para comprobarlo:\n",
    "echo > Holb\n",
    "test \"Hola\" < \"Holb\"\n",
    "echo $?\n",
    "rm Holb"
   ]
  },
  {
   "cell_type": "code",
   "execution_count": null,
   "metadata": {},
   "outputs": [],
   "source": [
    "#Lo anterior equivale a:\n",
    "test \"Hola\"\n",
    "echo $?"
   ]
  },
  {
   "cell_type": "code",
   "execution_count": null,
   "metadata": {},
   "outputs": [],
   "source": [
    "[ \"Hola\" \\< \"Holb\" ] \n",
    "echo $?"
   ]
  },
  {
   "cell_type": "code",
   "execution_count": null,
   "metadata": {},
   "outputs": [],
   "source": [
    "[[ \"Hola\" < \"Holb\" ]]\n",
    "echo $?"
   ]
  },
  {
   "cell_type": "code",
   "execution_count": null,
   "metadata": {},
   "outputs": [],
   "source": [
    "true #Siempre verdadero.\n",
    "echo $?\n",
    "false #Siempre falso.\n",
    "echo $?"
   ]
  },
  {
   "cell_type": "markdown",
   "metadata": {},
   "source": [
    "#### Cadenas"
   ]
  },
  {
   "cell_type": "markdown",
   "metadata": {},
   "source": [
    "`test` o `[` | `[[` | Comprobación\n",
    ":-- | :-- | :--\n",
    "`\\>` | `>` | Mayor que... (orden lexicográfico).\n",
    "`\\<` | `<` | Menor que... (orden lexicográfico).\n",
    "`=` o `==` | `=` o `==` | Igual a...\n",
    "`!=` | `!=` | Distinto de...\n",
    "`-z` | `-z` | La cadena está vacía.\n",
    "`-n` | `-n` | La cadena no está vacía.\n",
    "No se puede | `=~` | La cadena a la izquierda de `=~`, cumple con alguna expresión regular a la derecha de `=~`."
   ]
  },
  {
   "cell_type": "markdown",
   "metadata": {},
   "source": [
    "Ejemplo con `[`:"
   ]
  },
  {
   "cell_type": "code",
   "execution_count": null,
   "metadata": {},
   "outputs": [],
   "source": [
    "var1=aa; var2=\" \"; var3=aa; var4=\"\"\n",
    "\n",
    "echo 'var1=aa; var2=11; var3=aa; var4=\"\"'\n",
    "echo \"-------------\"\n",
    "\n",
    "[ \"$var1\" = \"$var2\" ]\n",
    "echo '[ \"$var1\" = \"$var2\" ]: ' $?\n",
    "echo \"-------------\"\n",
    "[[ $var1 == $var2 ]]\n",
    "echo '[ \"$var1\" == \"$var2\" ]: '$?\n",
    "echo \"-------------\"\n",
    "[ $var1 == $var3 ]\n",
    "echo '[ \"$var1\" == \"$var3\" ]: '$?\n",
    "echo \"-------------\"\n",
    "[[ \"$var1\" != \"$var2\" ]]\n",
    "echo '[ \"$var1\" != \"$var2\" ]: '$?\n",
    "echo \"-------------\"\n",
    "[ \"$var1\" != \"$var3\" ]\n",
    "echo '[ \"$var1\" != \"$var3\" ]: '$?\n",
    "echo \"-------------\"\n",
    "[ -z \"$var2\" ] #Espacio no es vacío.\n",
    "echo '[ -z \"$var2\" ]: '$?\n",
    "echo \"-------------\"\n",
    "[ -z \"$var4\" ]\n",
    "echo '[ -z \"$var4\" ]: '$?\n",
    "echo \"-------------\"\n",
    "[ -z \"$var5\" ] #var5, no fue definida. Esto equivale a estar vacía.\n",
    "echo '[ -z \"$var5\" ]: '$?\n",
    "echo \"-------------\"\n",
    "[ -n \"$var2\" ]\n",
    "echo '[ -n \"$var2\" ]: '$?\n",
    "echo \"-------------\"\n",
    "[ -n \"$var4\" ]\n",
    "echo '[ -n \"$var4\" ]: '$?\n",
    "echo \"-------------\"\n",
    "[[ -n \"$var5\" ]]\n",
    "echo '[ -n \"$var5\" ]: '$?"
   ]
  },
  {
   "cell_type": "markdown",
   "metadata": {},
   "source": [
    "Ejemplo con `[[`:"
   ]
  },
  {
   "cell_type": "code",
   "execution_count": null,
   "metadata": {},
   "outputs": [],
   "source": [
    "var1=aa; var2=\" \"; var3=aa; var4=\"\"\n",
    "\n",
    "echo 'var1=aa; var2=11; var3=aa; var4=\"\"'\n",
    "echo \"-------------\"\n",
    "\n",
    "[[ $var1 = $var2 ]]\n",
    "echo '[[ $var1 = $var2 ]]: ' $?\n",
    "echo \"-------------\"\n",
    "[[ $var1 == $var2 ]]\n",
    "echo '[[ $var1 == $var2 ]]: '$?\n",
    "echo \"-------------\"\n",
    "[[ $var1 == $var3 ]]\n",
    "echo '[[ $var1 == $var3 ]]: '$?\n",
    "echo \"-------------\"\n",
    "[[ $var1 != $var2 ]]\n",
    "echo '[[ $var1 != $var2 ]]: '$?\n",
    "echo \"-------------\"\n",
    "[[ $var1 != $var3 ]]\n",
    "echo '[[ $var1 != $var3 ]]: '$?\n",
    "echo \"-------------\"\n",
    "[[ -z $var2 ]] #Espacio no es vacío.\n",
    "echo '[[ -z $var2 ]]: '$?\n",
    "echo \"-------------\"\n",
    "[[ -z $var4 ]]\n",
    "echo '[[ -z $var4 ]]: '$?\n",
    "echo \"-------------\"\n",
    "[[ -z $var5 ]] #var5, no fue definida. Esto equivale a estar vacía.\n",
    "echo '[[ -z $var5 ]]: '$?\n",
    "echo \"-------------\"\n",
    "[[ -n $var2 ]]\n",
    "echo '[[ -n $var2 ]]: '$?\n",
    "echo \"-------------\"\n",
    "[[ -n $var4 ]]\n",
    "echo '[[ -n $var4 ]]: '$?\n",
    "echo \"-------------\"\n",
    "[[ -n $var5 ]]\n",
    "echo '[[ -n $var5 ]]: '$?"
   ]
  },
  {
   "cell_type": "code",
   "execution_count": null,
   "metadata": {},
   "outputs": [],
   "source": [
    "var=abc\n",
    "echo 'var=abc'\n",
    "echo \"-------------\"\n",
    "[[ $var =~ a ]]\n",
    "echo '[[ $var =~ a ]]: '$?\n",
    "echo \"-------------\"\n",
    "[[ $var =~ b ]]\n",
    "echo '[[ $var =~ b ]]: '$?\n",
    "echo \"-------------\"\n",
    "[[ $var =~ c ]]\n",
    "echo '[[ $var =~ c ]]: '$?\n",
    "echo \"-------------\"\n",
    "[[ $var =~ d ]]\n",
    "echo '[[ $var =~ d ]]: '$?\n",
    "echo \"-------------\"\n",
    "[[ $var =~ ^a ]]\n",
    "echo '[[ $var =~ ^a ]]: '$?\n",
    "echo \"-------------\"\n",
    "[[ $var =~ ^b ]]\n",
    "echo '[[ $var =~ ^b ]]: '$?\n",
    "echo \"-------------\"\n",
    "[[ $var =~ ^c ]]\n",
    "echo '[[ $var =~ ^c ]]: '$?\n",
    "echo \"-------------\"\n",
    "[[ $var =~ a$ ]]\n",
    "echo '[[ $var =~ a$ ]]: '$?\n",
    "echo \"-------------\"\n",
    "[[ $var =~ b$ ]]\n",
    "echo '[[ $var =~ b$ ]]: '$?\n",
    "echo \"-------------\"\n",
    "[[ $var =~ c$ ]]\n",
    "echo '[[ $var =~ c$ ]]: '$?\n",
    "echo \"-------------\"\n",
    "[[ $var =~ ab ]]\n",
    "echo '[[ $var =~ ab ]]: '$?\n",
    "echo \"-------------\"\n",
    "[[ $var =~ ac ]]\n",
    "echo '[[ $var =~ ac ]]: '$?\n",
    "echo \"-------------\"\n",
    "[[ $var =~ a.c ]]\n",
    "echo '[[ $var =~ a.c ]]: '$?"
   ]
  },
  {
   "cell_type": "code",
   "execution_count": null,
   "metadata": {},
   "outputs": [],
   "source": [
    "#Esto lo usamos para saber si una ruta estaba en la variable de entorno PATH.\n",
    "[[ $PATH =~ /bin ]]\n",
    "echo $?"
   ]
  },
  {
   "cell_type": "markdown",
   "metadata": {},
   "source": [
    "Para saber más de expresiones regulares, pueden consultar [este tutorial](https://blog.desdelinux.net/con-el-terminal-uso-de-expresiones-regulares/#Entrando_en_materia) o [este otro](https://www.adictosaltrabajo.com/2015/01/29/regexsam/)."
   ]
  },
  {
   "cell_type": "markdown",
   "metadata": {},
   "source": [
    "#### Enteros"
   ]
  },
  {
   "cell_type": "markdown",
   "metadata": {},
   "source": [
    "`test` o `[` | `[[` | Comprobación\n",
    ":-- | :-- | :--\n",
    "`-lt` | `-lt` | Menor que... (orden en los enteros).\n",
    "`-le` | `-le` | Menor o igual a... (orden lexicográfico).\n",
    "`-eq` | `-eq` | Igual a...\n",
    "`-ge` | `-ge` | Mayor o igual a...\n",
    "`-gt` | `-gt` | Mayor que...\n",
    "`-ne` | `-ne` | Desigual a..."
   ]
  },
  {
   "cell_type": "code",
   "execution_count": null,
   "metadata": {},
   "outputs": [],
   "source": [
    "var1=1; var2=2; var3=3\n",
    "echo 'var1=1; var2=2; var3=3'\n",
    "echo \"-------------\"\n",
    "[ $var1 -lt $var2 ]\n",
    "echo '[ $var1 -lt $var2 ]: '$?\n",
    "echo \"-------------\"\n",
    "[ $var2 -lt $var1 ]\n",
    "echo '[ $var2 -lt $var1 ]: '$?\n",
    "echo \"-------------\"\n",
    "[ $var2 -lt $var2 ]\n",
    "echo '[ $var2 -lt $var2 ]: '$?\n",
    "echo \"-------------\"\n",
    "[ $var1 -gt $var2 ]\n",
    "echo '[ $var1 -gt $var2 ]: '$?\n",
    "echo \"-------------\"\n",
    "[ $var2 -gt $var1 ]\n",
    "echo '[ $var2 -gt $var1 ]: '$?\n",
    "echo \"-------------\"\n",
    "[ $var2 -gt $var2 ]\n",
    "echo '[ $var2 -gt $var2 ]: '$?\n",
    "echo \"-------------\"\n",
    "[ $var1 -le $var2 ]\n",
    "echo '[ $var1 -le $var2 ]: '$?\n",
    "echo \"-------------\"\n",
    "[ $var2 -le $var1 ]\n",
    "echo '[ $var2 -le $var1 ]: '$?\n",
    "echo \"-------------\"\n",
    "[ $var2 -le $var2 ]\n",
    "echo '[ $var2 -le $var2 ]: '$?\n",
    "echo \"-------------\"\n",
    "[ $var1 -ge $var2 ]\n",
    "echo '[ $var1 -ge $var2 ]: '$?\n",
    "echo \"-------------\"\n",
    "[ $var2 -ge $var1 ]\n",
    "echo '[ $var2 -ge $var1 ]: '$?\n",
    "echo \"-------------\"\n",
    "[ $var2 -ge $var2 ]\n",
    "echo '[ $var2 -ge $var2 ]: '$?"
   ]
  },
  {
   "cell_type": "markdown",
   "metadata": {},
   "source": [
    "__NOTA IMPORTANTE__\n",
    "\n",
    "No se deben usar los operadores destinados a trabajar con cadenas, para comprobaciones numéricas.\n",
    "\n",
    "En algunos casos, los enteros se pueden tratar como cadenas:"
   ]
  },
  {
   "cell_type": "code",
   "execution_count": null,
   "metadata": {},
   "outputs": [],
   "source": [
    "[ 14 \\> 12 ]\n",
    "echo '[ 14 \\> 12 ]: '$?\n",
    "[ 14 \\< 12 ]\n",
    "echo '[ 14 \\< 12 ]: '$?\n",
    "[ 14 = 12 ]\n",
    "echo '[ 14 = 12 ]: '$?\n",
    "[ 12 = 12 ]\n",
    "echo '[ 14 = 12 ]: '$?\n",
    "[ 14 != 12 ]\n",
    "echo '[ 14 != 12 ]: '$?"
   ]
  },
  {
   "cell_type": "code",
   "execution_count": null,
   "metadata": {},
   "outputs": [],
   "source": [
    "[[ 14 > 12 ]]\n",
    "echo '[[ 14 > 12 ]]: '$?\n",
    "[[ 14 < 12 ]]\n",
    "echo '[[ 14 < 12 ]]: '$?\n",
    "[[ 14 = 12 ]]\n",
    "echo '[[ 14 = 12 ]]: '$?\n",
    "[[ 12 = 12 ]]\n",
    "echo '[[ 12 = 12 ]]: '$?\n",
    "[[ 14 != 12 ]]\n",
    "echo '[[ 14 != 12 ]]: '$?"
   ]
  },
  {
   "cell_type": "markdown",
   "metadata": {},
   "source": [
    "En otros no:"
   ]
  },
  {
   "cell_type": "code",
   "execution_count": null,
   "metadata": {},
   "outputs": [],
   "source": [
    "[ 12 = 012 ]\n",
    "echo '[ 11 = 012 ]: '$? #Las cadenas no son iguales.\n",
    "[[ 12 = 012 ]]\n",
    "echo '[[ 12 = 012 ]]: '$?\n",
    "[ 12 -eq 012 ]\n",
    "echo '[ 11 = 012 ]: '$? #No distingue entre enteros octales y enteros decimales.\n",
    "[[ 12 -eq 012 ]]\n",
    "echo '[[ 12 = 012 ]]: '$? #Un entero octal es distinto de un entero decimal.\n",
    "echo '[[ 012 = 0012 ]]: '$? #Estos dos octales son iguales, pero como cadenas no."
   ]
  },
  {
   "cell_type": "markdown",
   "metadata": {},
   "source": [
    "Supongamos que quiero estar seguro de que el conjunto de permisos de mi directorio personal es el correcto (0775)."
   ]
  },
  {
   "cell_type": "code",
   "execution_count": null,
   "metadata": {},
   "outputs": [],
   "source": [
    "#No funciona.\n",
    "[ $(stat -c \"%a\" ~) = 0755 ]\n",
    "echo $?\n",
    "[[ $(stat -c \"%a\" ~) = 0755 ]]\n",
    "echo $?"
   ]
  },
  {
   "cell_type": "code",
   "execution_count": null,
   "metadata": {},
   "outputs": [],
   "source": [
    "[ $(stat -c \"%a\" ~) -eq 0755 ] #Funciona, pero no debería.\n",
    "echo $?\n",
    "[[ $(stat -c \"%a\" ~) -eq 0755 ]] #No funciona, porque stat, me lo da en enteros.\n",
    "echo $?"
   ]
  },
  {
   "cell_type": "markdown",
   "metadata": {},
   "source": [
    "Pero con números negativos no funciona el orden lexicográfico."
   ]
  },
  {
   "cell_type": "code",
   "execution_count": null,
   "metadata": {},
   "outputs": [],
   "source": [
    "[ -4 -lt -3 ]\n",
    "echo $?\n",
    "[ -4 \\< -3 ]\n",
    "echo $?\n",
    "[[ -4 < -3 ]]\n",
    "echo $?"
   ]
  },
  {
   "cell_type": "markdown",
   "metadata": {},
   "source": [
    "#### Archivos"
   ]
  },
  {
   "cell_type": "markdown",
   "metadata": {},
   "source": [
    "`test`, `[` y `[[` | Comprobación\n",
    ":-- | :--\n",
    "`-e`| Existe el archivo (no importa el tipo).\n",
    "`-d`| Existe y es un directorio.\n",
    "`-f`| Existe y es un archivo regular.\n",
    "`-h` o `-L` | Existe y es un enlace simbólico.\n",
    "`-ef` | El manual dice que es para comprobar si comparten el mismo inodo. Lo cierto es que da 0, si están enlazados (ya sea un enlace duro o simbólico).\n",
    "`-s` | El archivo existe y no está vacío.\n",
    "\n",
    "Hay muchas más comprobaciones, relacionadas con antigüedad, permisos, etc. Para más información consultar el manual."
   ]
  },
  {
   "cell_type": "code",
   "execution_count": null,
   "metadata": {},
   "outputs": [],
   "source": [
    "x-terminal-emulator --noclose -e 'man test' #Para ver el manual."
   ]
  },
  {
   "cell_type": "markdown",
   "metadata": {},
   "source": [
    "Creamos algunos archivos en `/tmp`."
   ]
  },
  {
   "cell_type": "code",
   "execution_count": null,
   "metadata": {
    "scrolled": false
   },
   "outputs": [],
   "source": [
    "mkdir -p /tmp/dir1/dir2\n",
    "echo \"Hola\" > /tmp/dir1/arch1\n",
    "touch /tmp/dir1/arch2\n",
    "ln -s /tmp/dir1/arch1 /tmp/dir1/arch1-sl\n",
    "ln /tmp/dir1/arch1 /tmp/dir1/arch1-hl\n",
    "tree --inodes -h /tmp/dir1"
   ]
  },
  {
   "cell_type": "code",
   "execution_count": null,
   "metadata": {},
   "outputs": [],
   "source": [
    "#Esto funciona tanto con [ como con [[.\n",
    "#Probaré sólo con [.\n",
    "\n",
    "[ -e /tmp/dir1/arch1 ]\n",
    "echo '[ -e /tmp/dir1/arch1 ]: '$?\n",
    "[ -f /tmp/dir1/arch1 ] #Es un archivo regular.\n",
    "echo '[ -f /tmp/dir1/arch1 ]: '$?\n",
    "[ -d /tmp/dir1/arch1 ]\n",
    "echo '[ -d /tmp/dir1/arch1 ]: '$?\n",
    "[ -L /tmp/dir1/arch1 ]\n",
    "echo '[ -L /tmp/dir1/arch1 ]: '$?\n",
    "[ -h /tmp/dir1/arch1 ]\n",
    "echo '[ -h /tmp/dir1/arch1 ]: '$?\n",
    "[ -s /tmp/dir1/arch1 ] #No está vacío.\n",
    "echo '[ -s /tmp/dir1/arch1 ]: '$?"
   ]
  },
  {
   "cell_type": "code",
   "execution_count": null,
   "metadata": {},
   "outputs": [],
   "source": [
    "[ -s /tmp/dir1/arch2 ] #No tiene contenido.\n",
    "echo '[ -s /tmp/dir1/arch2 ]: '$?"
   ]
  },
  {
   "cell_type": "code",
   "execution_count": null,
   "metadata": {},
   "outputs": [],
   "source": [
    "[ -e /tmp/dir1 ]\n",
    "echo '[ -e /tmp/dir1 ]: '$?\n",
    "[ -f /tmp/dir1 ]\n",
    "echo '[ -f /tmp/dir1]: '$?\n",
    "[ -d /tmp/dir1 ] #Es un directorio.\n",
    "echo '[ -d /tmp/dir11 ]: '$?\n",
    "[ -L /tmp/dir1 ]\n",
    "echo '[ -L /tmp/dir1/arch1 ]: '$?\n",
    "[ -h /tmp/dir1 ]\n",
    "echo '[ -h /tmp/dir1 ]: '$?\n",
    "[ -s /tmp/dir1/arch1 ] #No está vacío.\n",
    "echo '[ -s /tmp/dir1 ]: '$?"
   ]
  },
  {
   "cell_type": "code",
   "execution_count": null,
   "metadata": {},
   "outputs": [],
   "source": [
    "#Los directorios nunca están vacíos, ya que siempre contienen a «.» y a «..».\n",
    "[ -s /tmp/dir1/arch2 ] \n",
    "echo '[ -s /tmp/dir1/dir2 ]: '$?"
   ]
  },
  {
   "cell_type": "code",
   "execution_count": null,
   "metadata": {},
   "outputs": [],
   "source": [
    "[ -e /tmp/dir1/arch1-sl ]\n",
    "echo '[ -e /tmp/dir1/arch1-sl ]: '$?\n",
    "[ -f /tmp/dir1/arch1-sl ] #Es un archivo regular.\n",
    "echo '[ -f /tmp/dir1/arch1-sl ]: '$?\n",
    "[ -d /tmp/dir1/arch1-sl ]\n",
    "echo '[ -d /tmp/dir1/arch1-sl ]: '$?\n",
    "[ -L /tmp/dir1/arch1-sl ] #Es un enlace simbólico.\n",
    "echo '[ -L /tmp/dir1/arch1-sl ]: '$?\n",
    "[ -h /tmp/dir1/arch1-sl ] #Es un enlace simbólico.\n",
    "echo '[ -h /tmp/dir1/arch1-sl ]: '$?\n",
    "[ -s /tmp/dir1/arch1-sl ] #No están vacíos, ya que contienen la referencia al original.\n",
    "echo '[ -s /tmp/dir1/arch1-sl ]: '$?"
   ]
  },
  {
   "cell_type": "code",
   "execution_count": null,
   "metadata": {},
   "outputs": [],
   "source": [
    "[ -e /tmp/dir1/arch3 ] #No creamos ningún arch3.\n",
    "echo '[ -e /tmp/dir1/arch3 ]: '$?"
   ]
  },
  {
   "cell_type": "code",
   "execution_count": null,
   "metadata": {},
   "outputs": [],
   "source": [
    "#Están enlazados.\n",
    "[ /tmp/dir1/arch1 -ef /tmp/dir1/arch1-sl ] #No son enlaces duros.\n",
    "echo '[ /tmp/dir1/arch1 -ef /tmp/dir1/arch1-sl ]: '$?\n",
    "[ /tmp/dir1/arch1 -ef /tmp/dir1/arch1-hl ] #No son enlaces duros.\n",
    "echo '[ /tmp/dir1/arch1 -ef /tmp/dir1/aarch1-hl ]: '$?\n",
    "[[ /tmp/dir1/arch1 -ef /tmp/dir1/arch1-sl ]]\n",
    "echo '[[ /tmp/dir1/arch1 -ef /tmp/dir1/arch1-sl ]]: '$?\n",
    "[[ /tmp/dir1/arch1 -ef /tmp/dir1/arch1-hl ]]\n",
    "echo '[[ /tmp/dir1/arch1 -ef /tmp/dir1/aarch1-hl ]]: '$?"
   ]
  },
  {
   "cell_type": "markdown",
   "metadata": {},
   "source": [
    "#### Concatenando pruebas."
   ]
  },
  {
   "cell_type": "markdown",
   "metadata": {},
   "source": [
    "Para `test` existen los operadores `-a` (__and__) y `-o` (__or__) que ya casi están en desuso. Además se pueden agrupar expresiones con `\\(` y `\\)`."
   ]
  },
  {
   "cell_type": "code",
   "execution_count": null,
   "metadata": {},
   "outputs": [],
   "source": [
    "#1 < 2 o 2 < 1.\n",
    "[ \\( 1 -lt 2 \\) -o \\( 2 -lt 1 \\) ]\n",
    "echo $?"
   ]
  },
  {
   "cell_type": "code",
   "execution_count": null,
   "metadata": {},
   "outputs": [],
   "source": [
    "#1 < 2 y 2 < 1.\n",
    "[ \\( 1 -lt 2 \\) -a \\( 2 -lt 1 \\) ]\n",
    "echo $?"
   ]
  },
  {
   "cell_type": "markdown",
   "metadata": {},
   "source": [
    "Esta forma ya casi no se usa. En su lugar se suele hacer lo mismo de esta manera:"
   ]
  },
  {
   "cell_type": "code",
   "execution_count": null,
   "metadata": {},
   "outputs": [],
   "source": [
    "#1 < 2 o 2 < 1.\n",
    "[ 1 -lt 2 ] || [ 2 -lt 1 ]\n",
    "echo $?\n",
    "\n",
    "#1 < 2 y 2 < 1.\n",
    "[ 1 -lt 2 ] && [ 2 -lt 1 ]\n",
    "echo $?"
   ]
  },
  {
   "cell_type": "markdown",
   "metadata": {},
   "source": [
    "También es posible agruparlos:"
   ]
  },
  {
   "cell_type": "code",
   "execution_count": null,
   "metadata": {},
   "outputs": [],
   "source": [
    "#(1 < 2 y 2 < 1) o 1 = 1.\n",
    "{ [ 1 -lt 2 ] && [ 2 -lt 1 ]; } || [ 1 -eq 1 ] #Es necesario el «;» antes del cierre «}».\n",
    "echo $?"
   ]
  },
  {
   "cell_type": "code",
   "execution_count": null,
   "metadata": {},
   "outputs": [],
   "source": [
    "#1 < 2 y (2 < 1 o 1 = -1).\n",
    "[ 1 -lt 2 ] && { [ 2 -lt 1 ] || [ 1 -eq -1 ]; }\n",
    "echo $?"
   ]
  },
  {
   "cell_type": "markdown",
   "metadata": {},
   "source": [
    "Con `[[`, todo es más cómodo y natural."
   ]
  },
  {
   "cell_type": "code",
   "execution_count": null,
   "metadata": {},
   "outputs": [],
   "source": [
    "#1 < 2 o 2 < 1.\n",
    "[[ 1 -lt 2 || 2 -lt 1 ]]\n",
    "echo $?\n",
    "\n",
    "#1 < 2 y 2 < 1.\n",
    "[[ 1 -lt 2 &&  2 -lt 1 ]]\n",
    "echo $?\n",
    "\n",
    "#(1 < 2 y 2 < 1) o 1 = 1.\n",
    "[[ ( 1 -lt 2 && 2 -lt 1 ) || 1 -eq 1 ]]\n",
    "echo $?\n",
    "\n",
    "#1 < 2 y (2 < 1 o 1 = -1).\n",
    "[[ 1 -lt 2 && ( 2 -lt 1 || 1 -eq -1 ) ]]\n",
    "echo $?"
   ]
  },
  {
   "cell_type": "markdown",
   "metadata": {},
   "source": [
    "De ese modo se pueden combinar todo tipo de comprobaciones."
   ]
  },
  {
   "cell_type": "markdown",
   "metadata": {},
   "source": [
    "Para finalizar, con `!` se puede negar el test:"
   ]
  },
  {
   "cell_type": "code",
   "execution_count": null,
   "metadata": {},
   "outputs": [],
   "source": [
    "[ 1 -lt 2 ]\n",
    "echo $?\n",
    "echo \"-----------------\"\n",
    "test ! 1 -lt 2\n",
    "echo $?\n",
    "echo \"-----------------\"\n",
    "[ ! 1 -lt 2 ]\n",
    "echo $?\n",
    "echo \"-----------------\"\n",
    "[[ ! 1 -lt 2 ]]\n",
    "echo $?"
   ]
  },
  {
   "cell_type": "markdown",
   "metadata": {},
   "source": [
    "### Estructuras de control de flujo."
   ]
  },
  {
   "cell_type": "markdown",
   "metadata": {},
   "source": [
    "#### `if`"
   ]
  },
  {
   "cell_type": "markdown",
   "metadata": {},
   "source": [
    "### Estructuras de control de flujo.\n",
    "\n",
    "La estructura `if` funciona de manera similar a que en el resto de lenguajes.\n",
    "\n",
    "```bash\n",
    "if condición-1; then\n",
    "    #Contenido si se cumple la con condición-1.\n",
    "elif condición-2; then\n",
    "    #Contenido si se cumple la con condición-2.\n",
    "    .\n",
    "    .\n",
    "    .\n",
    "elif condición-n; then\n",
    "    #Contenido si se cumple la con condición-n.  \n",
    "else\n",
    "    #Contenido si no se cumple ninguna de las anteriores.\n",
    "fi\n",
    "```\n",
    "`then` se puede colocar en la siguiente linea:\n",
    "\n",
    "```bash\n",
    "if condición-1\n",
    "then\n",
    "    #Contenido si se cumple la con condición-1.\n",
    "elif condición-2\n",
    "then\n",
    "    #Contenido si se cumple la con condición-2.\n",
    "    .\n",
    "    .\n",
    "    .\n",
    "elif condición-n\n",
    "then\n",
    "    #Contenido si se cumple la con condición-n.  \n",
    "else\n",
    "    #Contenido si no se cumple ninguna de las anteriores.\n",
    "fi\n",
    "```\n",
    "Los bloques `elif` y `else` son opcionales y se pueden usar tantos `elif` como sea necesario."
   ]
  },
  {
   "cell_type": "markdown",
   "metadata": {},
   "source": [
    "Ejemplo:"
   ]
  },
  {
   "cell_type": "code",
   "execution_count": null,
   "metadata": {},
   "outputs": [],
   "source": [
    "#Se usa el estado de salida de la condición, para determinar el flujo.\n",
    "if true; then\n",
    "    echo hola\n",
    "fi\n",
    "\n",
    "if false; then\n",
    "    echo nada de hola\n",
    "fi"
   ]
  },
  {
   "cell_type": "code",
   "execution_count": null,
   "metadata": {},
   "outputs": [],
   "source": [
    "#En casos sencillos, se puede usar la evaluación condicional.\n",
    "#Es totalmente equivalente.\n",
    "true && echo hola\n",
    "false && echo nada de hola"
   ]
  },
  {
   "cell_type": "code",
   "execution_count": null,
   "metadata": {},
   "outputs": [],
   "source": [
    "var=\"Saludo\"\n",
    "\n",
    "if [[ $var = \"Saludo\" ]] ; then\n",
    "    echo hola\n",
    "else\n",
    "    echo nada de hola\n",
    "fi"
   ]
  },
  {
   "cell_type": "code",
   "execution_count": null,
   "metadata": {},
   "outputs": [],
   "source": [
    "var=\"No saludo aludo\"\n",
    "\n",
    "if [[ $var = \"Saludo\" ]] ; then\n",
    "    echo hola\n",
    "else\n",
    "    echo nada de hola\n",
    "fi"
   ]
  },
  {
   "cell_type": "code",
   "execution_count": null,
   "metadata": {},
   "outputs": [],
   "source": [
    "#De igual manera:\n",
    "var=\"Saludo\"\n",
    "[[ $var = \"Saludo\" ]] && echo hola || echo nada de hola"
   ]
  },
  {
   "cell_type": "code",
   "execution_count": null,
   "metadata": {},
   "outputs": [],
   "source": [
    "var=\"No saludo aludo\"\n",
    "[[ $var = \"Saludo\" ]] && echo hola || echo nada de hola"
   ]
  },
  {
   "cell_type": "code",
   "execution_count": null,
   "metadata": {},
   "outputs": [],
   "source": [
    "var=\"1\"\n",
    "\n",
    "if [[ $var = \"1\" ]] ; then\n",
    "    echo \"es 1\"\n",
    "elif [[ $var = \"2\" ]] ; then\n",
    "    echo \"es 2\"\n",
    "else\n",
    "    echo \"ni 1, ni 2\"\n",
    "fi\n",
    "\n",
    "echo \"-----------------\"\n",
    "\n",
    "var=\"2\"\n",
    "\n",
    "if [[ $var = \"1\" ]] ; then\n",
    "    echo \"es 1\"\n",
    "elif [[ $var = \"2\" ]] ; then\n",
    "    echo \"es 2\"\n",
    "else\n",
    "    echo \"ni 1, ni 2\"\n",
    "fi\n",
    "\n",
    "echo \"-----------------\"\n",
    "\n",
    "var=\"33\"\n",
    "\n",
    "if [[ $var = \"1\" ]] ; then\n",
    "    echo \"es 1\"\n",
    "elif [[ $var = \"2\" ]] ; then\n",
    "    echo \"es 2\"\n",
    "else\n",
    "    echo \"ni 1, ni 2\"\n",
    "fi"
   ]
  },
  {
   "cell_type": "code",
   "execution_count": null,
   "metadata": {},
   "outputs": [],
   "source": [
    "#De igual forma:\n",
    "var=\"1\"\n",
    "[[ $var = \"1\" ]] && echo \"es 1\" || { [[ $var = \"2\" ]] && echo \"es 3\" ]; } || echo \"ni 1, ni 2\"\n",
    "echo \"-----------------\"\n",
    "var=\"2\"\n",
    "[[ $var = \"1\" ]] && echo \"es 1\" || { [[ $var = \"2\" ]] && echo \"es 3\" ]; } || echo \"ni 1, ni 2\"\n",
    "echo \"-----------------\"\n",
    "var=\"33\"\n",
    "[[ $var = \"1\" ]] && echo \"es 1\" || { [[ $var = \"2\" ]] && echo \"es 3\" ]; } || echo \"ni 1, ni 2\""
   ]
  },
  {
   "cell_type": "code",
   "execution_count": null,
   "metadata": {},
   "outputs": [],
   "source": [
    "if mkdir /root/dir1 2>/dev/null; then\n",
    "    echo \"Sé se puede escribir en /root\"\n",
    "else\n",
    "    echo \"No se puede escribir en /root\"\n",
    "fi"
   ]
  },
  {
   "cell_type": "code",
   "execution_count": null,
   "metadata": {},
   "outputs": [],
   "source": [
    "if mkdir /tmp/dir1/dir3 2>/dev/null; then\n",
    "    echo \"Sé se puede escribir en /tmp/dir1/dir3\"\n",
    "else\n",
    "    echo \"No se puede escribir en /tmp/dir1/dir3\"\n",
    "fi"
   ]
  },
  {
   "cell_type": "code",
   "execution_count": null,
   "metadata": {},
   "outputs": [],
   "source": [
    "n_scp=\"scp1\"\n",
    "\n",
    "scp -i $n_scp << \"fin\"\n",
    "\n",
    "if [[ $(id -u) != 0 ]]; then\n",
    "   echo \"El archivo necesita permiso de root.\"\n",
    "   exit\n",
    "fi\n",
    "\n",
    "echo \"No se muestra\"\n",
    "\n",
    "fin\n",
    "\n",
    "exc $n_scp"
   ]
  },
  {
   "cell_type": "code",
   "execution_count": null,
   "metadata": {},
   "outputs": [],
   "source": [
    "exc2(){\n",
    "    x-terminal-emulator --noclose -e \"sudo ./$1.sh\"\n",
    "}\n",
    "\n",
    "n_scp=\"scp1\"\n",
    "\n",
    "scp $n_scp << \"fin\"\n",
    "\n",
    "if [[ $(id -u) != 0 ]]; then\n",
    "   echo \"El archivo necesita permiso de root.\"\n",
    "   exit\n",
    "fi\n",
    "\n",
    "echo \"Se muestra sólo si es root.\"\n",
    "\n",
    "fin\n",
    "\n",
    "exc2 $n_scp"
   ]
  },
  {
   "cell_type": "markdown",
   "metadata": {},
   "source": [
    "Este fue el código que se usó para modificar la variable __PATH__:"
   ]
  },
  {
   "cell_type": "code",
   "execution_count": null,
   "metadata": {},
   "outputs": [],
   "source": [
    "#Modificado manualmente por el administrador\n",
    "#Añade la ruta hacia julia.\n",
    "if [[ ! $PATH =~ \"/opt/julia/julia-1.5.2/bin\" ]]; then\n",
    "    PATH+=\":/opt/julia/julia-1.5.2/bin\"\n",
    "fi"
   ]
  },
  {
   "cell_type": "markdown",
   "metadata": {},
   "source": [
    "#### `case`"
   ]
  },
  {
   "cell_type": "markdown",
   "metadata": {},
   "source": [
    "La estructura general de case es la siguiente.\n",
    "\n",
    "```bash\n",
    "case $var in\n",
    "    varor1)\n",
    "    #caso 1.\n",
    "    ;;\n",
    "    varor2 | valor 3)\n",
    "    #caso 2.\n",
    "    ;;\n",
    "    «patron»)\n",
    "    #caso 3.\n",
    "    ;;\n",
    "    varor4)\n",
    "    #caso 4. Este caso no es excluyente, debido al «&».\n",
    "    ;;&\n",
    "    *)\n",
    "    #En cualquier otro caso.\n",
    "    ;; \n",
    "esac\n",
    "```\n",
    "Al llegar a un `;;`, se sale de la estructura, a menos que esté acompañado de un `&`. En ese caso continúa al siguiente bloque."
   ]
  },
  {
   "cell_type": "markdown",
   "metadata": {},
   "source": [
    "Supongamos que queremos comprobar la variable `numero`:\n",
    "\n",
    "```bash\n",
    "case $numero in\n",
    "    1)\n",
    "    echo \"es 1\"\n",
    "    ;;\n",
    "    2 | 3)\n",
    "    echo \"es 2 o 3\"\n",
    "    ;;\n",
    "    1*) #Esto es una regularidad.\n",
    "    echo \"comienza con 1\"\n",
    "    ;;& #Esto provoca que siga hacia abajo.\n",
    "    *5) #Esto es una regularidad.\n",
    "     echo \"termina con 5\"\n",
    "    ;;& #Esto provoca que siga hacia abajo.\n",
    "    *)\n",
    "    echo \"Ni es 1, ni es 2, ni es 3.\"\n",
    "    ;; \n",
    "esac\n",
    "```\n",
    "La almacenaré en una función, para evaluarla varias veces."
   ]
  },
  {
   "cell_type": "code",
   "execution_count": null,
   "metadata": {},
   "outputs": [],
   "source": [
    "mi_case(){\n",
    "numero=$1 #Esto no es necesario, su puede poner directamente $1 en el case.\n",
    "    echo \"El número $numero:\"\n",
    "    case $numero in\n",
    "        1)\n",
    "        echo \"es 1\"\n",
    "        ;;\n",
    "        2 | 3)\n",
    "        echo \"es 2 o 3\"\n",
    "        ;;\n",
    "        1*) #Esto es una regularidad.\n",
    "        echo \"comienza con 1\"\n",
    "        ;;& #Esto provoca que siga hacia abajo.\n",
    "        *5) #Esto es una regularidad.\n",
    "        echo \"termina con 5\"\n",
    "        ;;& #Esto provoca que siga hacia abajo.\n",
    "        *)\n",
    "        echo \"Ni es 1, ni es 2, ni es 3.\"\n",
    "        ;; \n",
    "    esac\n",
    "}\n",
    "\n",
    "mi_case 1\n",
    "echo \"----------\"\n",
    "mi_case 2\n",
    "echo \"----------\"\n",
    "mi_case 3\n",
    "echo \"----------\"\n",
    "mi_case 4\n",
    "echo \"----------\"\n",
    "mi_case 10\n",
    "echo \"----------\"\n",
    "mi_case 15"
   ]
  },
  {
   "cell_type": "code",
   "execution_count": null,
   "metadata": {},
   "outputs": [],
   "source": [
    "fun(){\n",
    "    local info=false\n",
    "    local ayuda=false\n",
    "    local error=false\n",
    "    \n",
    "    case $1 in\n",
    "        -i | --info)\n",
    "        info=true\n",
    "        shift #Se elimina el parámetro de tipo opción.\n",
    "        ;;\n",
    "        -h | --help)\n",
    "        ayuda=true\n",
    "        shift\n",
    "        ;;\n",
    "        -*)\n",
    "        error=true\n",
    "        ;;\n",
    "        *)\n",
    "        ;; \n",
    "    esac\n",
    "   \n",
    "    if $error; then\n",
    "        echo \"Opción no válida\" >&2\n",
    "        return 1\n",
    "    fi\n",
    "    \n",
    "    if $ayuda; then\n",
    "       echo \"La ayuda es:\"\n",
    "   fi\n",
    "   \n",
    "    if $info; then\n",
    "        echo \"La info:\"\n",
    "    fi\n",
    "    \n",
    "    if [[ -z $1 ]]; then\n",
    "        echo \"No hay parámetros.\"\n",
    "    else\n",
    "        echo -e \"Los parámetros son:\\n$@\"\n",
    "    fi\n",
    "}\n",
    "\n",
    "fun -i\n",
    "echo \"----------\"\n",
    "fun --info\n",
    "echo \"----------\"\n",
    "fun -h\n",
    "echo \"----------\"\n",
    "fun --help\n",
    "echo \"----------\"\n",
    "fun --hep\n",
    "echo \"----------\"\n",
    "fun -i Hola nada"
   ]
  },
  {
   "cell_type": "markdown",
   "metadata": {},
   "source": [
    "#### `for`"
   ]
  },
  {
   "cell_type": "markdown",
   "metadata": {},
   "source": [
    "```bash\n",
    "for var in «elemento iterable»; do\n",
    "    #Por cada elemento del «elemento iterable»\n",
    "    #var=«elemento»\n",
    "done\n",
    "```"
   ]
  },
  {
   "cell_type": "code",
   "execution_count": null,
   "metadata": {},
   "outputs": [],
   "source": [
    "for var in uno dos tres; do\n",
    "    echo $var\n",
    "done"
   ]
  },
  {
   "cell_type": "code",
   "execution_count": null,
   "metadata": {},
   "outputs": [],
   "source": [
    "#Es equivalente.\n",
    "for var in \"uno\" \"dos\" \"tres\"; do\n",
    "    echo $var\n",
    "done"
   ]
  },
  {
   "cell_type": "code",
   "execution_count": null,
   "metadata": {},
   "outputs": [],
   "source": [
    "for var in \"uno dos tres\"; do\n",
    "    echo $var #Es un solo elemento.\n",
    "done"
   ]
  },
  {
   "cell_type": "code",
   "execution_count": null,
   "metadata": {},
   "outputs": [],
   "source": [
    "for var in {1..6}; do #Este es la otra forma de crear rangos.\n",
    "    echo $var\n",
    "done"
   ]
  },
  {
   "cell_type": "code",
   "execution_count": null,
   "metadata": {},
   "outputs": [],
   "source": [
    "for ((var=1; var<=6; var++)); do #Esto se parece a «C».\n",
    "    echo $var\n",
    "done"
   ]
  },
  {
   "cell_type": "code",
   "execution_count": null,
   "metadata": {},
   "outputs": [],
   "source": [
    "for var in $(seq 10 -2 1); do\n",
    "    echo $var\n",
    "done"
   ]
  },
  {
   "cell_type": "code",
   "execution_count": null,
   "metadata": {},
   "outputs": [],
   "source": [
    "#Se puede usar cualquier comando.\n",
    "for var in $(ls /tmp/dir1); do\n",
    "    echo $var\n",
    "done"
   ]
  },
  {
   "cell_type": "code",
   "execution_count": null,
   "metadata": {},
   "outputs": [],
   "source": [
    "for var in ${arreglo[*]}; do\n",
    "    echo $var\n",
    "done"
   ]
  },
  {
   "cell_type": "code",
   "execution_count": null,
   "metadata": {},
   "outputs": [],
   "source": [
    "for var in ${arreglo[@]}; do\n",
    "    echo $var\n",
    "done"
   ]
  },
  {
   "cell_type": "code",
   "execution_count": null,
   "metadata": {
    "scrolled": true
   },
   "outputs": [],
   "source": [
    "#Ahora se nota la diferencia entre «*» y «@»\n",
    "for var in \"${arreglo[*]}\"; do\n",
    "    echo $var\n",
    "done\n",
    "echo \"-------------\"\n",
    "for var in \"${arreglo[@]}\"; do\n",
    "    echo $var\n",
    "done"
   ]
  },
  {
   "cell_type": "markdown",
   "metadata": {},
   "source": [
    "Puedo salir de un bucle con `break`:"
   ]
  },
  {
   "cell_type": "code",
   "execution_count": null,
   "metadata": {},
   "outputs": [],
   "source": [
    "break --help"
   ]
  },
  {
   "cell_type": "markdown",
   "metadata": {},
   "source": [
    "Saltarme pasos con `continue`:"
   ]
  },
  {
   "cell_type": "code",
   "execution_count": null,
   "metadata": {},
   "outputs": [],
   "source": [
    "continue --help"
   ]
  },
  {
   "cell_type": "code",
   "execution_count": null,
   "metadata": {},
   "outputs": [],
   "source": [
    "for i in 1 2 3 4 5; do\n",
    "    echo -e \"\\n\"\n",
    "    for j in 1 2 3 4 5; do\n",
    "        echo -n \" ($i, $j)\"\n",
    "    done\n",
    "done"
   ]
  },
  {
   "cell_type": "code",
   "execution_count": null,
   "metadata": {},
   "outputs": [],
   "source": [
    "for i in 1 2 3 4 5; do\n",
    "    echo -e \"\\n\"\n",
    "    for j in 1 2 3 4 5; do\n",
    "        if [[ $j = $i ]]; then\n",
    "            break\n",
    "        fi\n",
    "        echo -n \" ($i, $j)\"\n",
    "    done\n",
    "done"
   ]
  },
  {
   "cell_type": "code",
   "execution_count": null,
   "metadata": {},
   "outputs": [],
   "source": [
    "for i in 1 2 3 4 5; do\n",
    "    echo -e \"\\n\"\n",
    "    for j in 1 2 3 4 5; do\n",
    "        if [[ $j = $i ]]; then\n",
    "            break 2\n",
    "        fi\n",
    "        echo -n \" ($i, $j)\"\n",
    "    done\n",
    "done"
   ]
  },
  {
   "cell_type": "code",
   "execution_count": null,
   "metadata": {},
   "outputs": [],
   "source": [
    "for i in 1 2 3 4 5; do\n",
    "    echo -e \"\\n\"\n",
    "    for j in 1 2 3 4 5; do\n",
    "        if [[ $j = 3 ]]; then\n",
    "            break 2\n",
    "        fi\n",
    "        echo -n \" ($i, $j)\"\n",
    "    done\n",
    "done"
   ]
  },
  {
   "cell_type": "code",
   "execution_count": null,
   "metadata": {},
   "outputs": [],
   "source": [
    "for i in 1 2 3 4 5; do\n",
    "    echo -e \"\\n\"\n",
    "    for j in 1 2 3 4 5; do\n",
    "        if [[ $j = $i ]]; then\n",
    "            continue\n",
    "        fi\n",
    "        echo -n \" ($i, $j)\"\n",
    "    done\n",
    "done"
   ]
  },
  {
   "cell_type": "code",
   "execution_count": null,
   "metadata": {},
   "outputs": [],
   "source": [
    "for i in 1 2 3 4 5; do\n",
    "    echo -e \"\\n\"\n",
    "    for j in 1 2 3 4 5; do\n",
    "        if [[ $j = $i ]]; then\n",
    "            continue 2 #En este caso coincide con break.\n",
    "        fi\n",
    "        echo -n \" ($i, $j)\"\n",
    "    done\n",
    "done"
   ]
  },
  {
   "cell_type": "code",
   "execution_count": null,
   "metadata": {},
   "outputs": [],
   "source": [
    "for i in 1 2 3 4 5; do\n",
    "    echo -e \"\\n\"\n",
    "    for j in 1 2 3 4 5; do\n",
    "        if [[ $j = 3 ]]; then\n",
    "            continue 2 #En este caso coincide con break.\n",
    "        fi\n",
    "        echo -n \" ($i, $j)\"\n",
    "    done\n",
    "done\n",
    "\n",
    "echo -e \"\\n----------\"\n",
    "\n",
    "for i in 1 2 3 4 5; do\n",
    "    echo -e \"\\n\"\n",
    "    for j in 1 2 3 4 5; do\n",
    "        if [[ $j = 3 ]]; then\n",
    "            break\n",
    "        fi\n",
    "        echo -n \" ($i, $j)\"\n",
    "    done\n",
    "done"
   ]
  },
  {
   "cell_type": "code",
   "execution_count": null,
   "metadata": {},
   "outputs": [],
   "source": [
    "for i in 1 2 3 4 5; do\n",
    "    echo -e \"\\n\"\n",
    "    for j in 1 2 3 4 5; do\n",
    "        if [[ $j = $i ]]; then\n",
    "            continue 2 #Ya no coinciden.\n",
    "        fi\n",
    "        echo -n \" ($i, $j)\"\n",
    "    done\n",
    "    echo -e \"\\nfin de la fila $i\"\n",
    "done\n",
    "\n",
    "echo -e \"\\n----------\"\n",
    "\n",
    "for i in 1 2 3 4 5; do\n",
    "    echo -e \"\\n\"\n",
    "    for j in 1 2 3 4 5; do\n",
    "        if [[ $j = $i ]]; then\n",
    "            break\n",
    "        fi\n",
    "        echo -n \" ($i, $j)\"\n",
    "    done\n",
    "    echo -e \"\\nfin de la fila $i\"\n",
    "done"
   ]
  },
  {
   "cell_type": "markdown",
   "metadata": {},
   "source": [
    "#### `while`"
   ]
  },
  {
   "cell_type": "markdown",
   "metadata": {},
   "source": [
    "```bash\n",
    "while «condición»; do\n",
    "    #Repite mientras se cumpla la condición.\n",
    "done\n",
    "```"
   ]
  },
  {
   "cell_type": "code",
   "execution_count": null,
   "metadata": {},
   "outputs": [],
   "source": [
    "declare -i entero=0\n",
    "\n",
    "while [[ entero -lt 10 ]]; do\n",
    "    echo $entero\n",
    "    entero+=1\n",
    "done"
   ]
  },
  {
   "cell_type": "code",
   "execution_count": null,
   "metadata": {},
   "outputs": [],
   "source": [
    "while ls -R /tmp; do #Se detiene cuando da error (Permiso denegado).\n",
    "    echo $entero\n",
    "    entero+=1\n",
    "done"
   ]
  },
  {
   "cell_type": "code",
   "execution_count": null,
   "metadata": {},
   "outputs": [],
   "source": [
    "n_scp=\"scp4\"\n",
    "\n",
    "scp $n_scp << \"fin\"\n",
    "\n",
    "declare -i entero=0\n",
    "\n",
    "while true; do\n",
    "    echo $entero\n",
    "    entero+=1\n",
    "    sleep 1 #Se detiene por 1 segundo. \n",
    "done\n",
    "\n",
    "fin\n",
    "\n",
    "exc $n_scp"
   ]
  },
  {
   "cell_type": "code",
   "execution_count": null,
   "metadata": {},
   "outputs": [],
   "source": [
    "n_scp=\"scp5\"\n",
    "\n",
    "scp $n_scp << \"fin\"\n",
    "\n",
    "declare -i entero=0\n",
    "\n",
    "while true; do\n",
    "    echo $entero\n",
    "    entero+=1\n",
    "    sleep 1 #Se detiene por 1 segundo.\n",
    "    \n",
    "    if [[ $entero -eq 5 ]]; then\n",
    "        break\n",
    "    fi\n",
    "done\n",
    "\n",
    "fin\n",
    "\n",
    "exc $n_scp"
   ]
  },
  {
   "cell_type": "code",
   "execution_count": null,
   "metadata": {},
   "outputs": [],
   "source": [
    "n_scp=\"scp5\"\n",
    "\n",
    "scp $n_scp << \"fin\"\n",
    "\n",
    "declare -i entero=0\n",
    "\n",
    "while true; do\n",
    "\n",
    "    entero+=1\n",
    "    if [[ $entero -eq 4 ]]; then\n",
    "        continue\n",
    "    fi\n",
    "    \n",
    "    echo $entero\n",
    "    sleep 1 #Se detiene por 1 segundo.\n",
    "    \n",
    "    if [[ $entero -eq 8 ]]; then\n",
    "        break\n",
    "    fi\n",
    "done\n",
    "\n",
    "fin\n",
    "\n",
    "exc $n_scp"
   ]
  },
  {
   "cell_type": "code",
   "execution_count": null,
   "metadata": {},
   "outputs": [],
   "source": [
    "fun(){\n",
    "    local info=false\n",
    "    local ayuda=false\n",
    "    local error=false\n",
    "    \n",
    "    while [[ -n $1 ]]; do #Recorro todas las opciones.\n",
    "        case $1 in\n",
    "            -i | --info)\n",
    "            info=true\n",
    "            shift #Se elimina el parámetro de tipo opción.\n",
    "            ;;\n",
    "            -h | --help)\n",
    "            ayuda=true\n",
    "            shift\n",
    "            ;;\n",
    "            -*)\n",
    "            error=true\n",
    "            break #Sale del ciclo.\n",
    "            ;;\n",
    "            *)\n",
    "            break #Sale del ciclo.\n",
    "            ;; \n",
    "        esac\n",
    "    done\n",
    "   \n",
    "    if $error; then\n",
    "        echo \"Opción no válida\" >&2\n",
    "        return 1\n",
    "    fi\n",
    "    \n",
    "    if $ayuda; then\n",
    "       echo \"La ayuda es:\"\n",
    "   fi\n",
    "   \n",
    "    if $info; then\n",
    "        echo \"El informe es:\"\n",
    "    fi\n",
    "    \n",
    "    if [[ -z $1 ]]; then\n",
    "        echo \"No hay parámetros.\"\n",
    "    else\n",
    "        echo -e \"Los parámetros son:\\n$@\"\n",
    "    fi\n",
    "}\n",
    "\n",
    "fun -i\n",
    "echo \"----------\"\n",
    "fun --info\n",
    "echo \"----------\"\n",
    "fun -h\n",
    "echo \"----------\"\n",
    "fun --help\n",
    "echo \"----------\"\n",
    "fun --hep\n",
    "echo \"----------\"\n",
    "fun -i Hola nada"
   ]
  },
  {
   "cell_type": "code",
   "execution_count": null,
   "metadata": {},
   "outputs": [],
   "source": [
    "fun -i -h Hola nada\n",
    "echo \"----------\"\n",
    "fun Hola nada"
   ]
  },
  {
   "cell_type": "markdown",
   "metadata": {},
   "source": [
    "#### `until`"
   ]
  },
  {
   "cell_type": "markdown",
   "metadata": {},
   "source": [
    "Funciona igual que `while`, pero con la condición negada:"
   ]
  },
  {
   "cell_type": "code",
   "execution_count": null,
   "metadata": {},
   "outputs": [],
   "source": [
    "declare -i entero=0\n",
    "\n",
    "while [[ entero -lt 10 ]]; do\n",
    "    echo $entero\n",
    "    entero+=1\n",
    "done"
   ]
  },
  {
   "cell_type": "code",
   "execution_count": null,
   "metadata": {},
   "outputs": [],
   "source": [
    "entero=0\n",
    "until [[ ! entero -lt 10 ]]; do\n",
    "    echo $entero\n",
    "    entero+=1\n",
    "done"
   ]
  },
  {
   "cell_type": "code",
   "execution_count": null,
   "metadata": {},
   "outputs": [],
   "source": [
    "entero=0\n",
    "\n",
    "until [[ entero -ge 10 ]]; do\n",
    "    echo $entero\n",
    "    entero+=1\n",
    "done"
   ]
  },
  {
   "cell_type": "markdown",
   "metadata": {},
   "source": [
    "#### `select` estructura de control y de entrada de datos"
   ]
  },
  {
   "cell_type": "markdown",
   "metadata": {},
   "source": [
    "Supongamos que deseemos crear un menú de opciones. Se debe escoger una opción del menú para continuar con la ejecución del script. De no ser correcta se vuelve a pedir que se elija una opción.\n",
    "\n",
    "Podemos combinar todo lo anterior para resolver el problema. Una posible solución sería:"
   ]
  },
  {
   "cell_type": "code",
   "execution_count": null,
   "metadata": {},
   "outputs": [],
   "source": [
    "n_scp=\"for_read_echo\"\n",
    "\n",
    "scp $n_scp << \"fin\"\n",
    "\n",
    "lista=\"Opción1 Opción2 Opción3\" #Lista de opciones:\n",
    "indices=1 #Lista de índices.\n",
    "\n",
    "#Se muestra la lista de opciones:\n",
    "echo \"De la siguiente lista:\"\n",
    "declare -i i=1 #Iterador para la lista de índices.\n",
    "for var in $lista; do\n",
    "    echo \"$i) $var: \" #Mostramos la opción.\n",
    "    i+=1\n",
    "    indices+=\" $i\" #Añadimos el siguiente índice\n",
    "done\n",
    "\n",
    "#Se almacena el valor y se verifica que corresponda a una de las opciones.\n",
    "#En caso contrario repetimos:\n",
    "while true; do\n",
    "    read -p \"Elija una opción: \" opcion #Almacenamos la respuesta.\n",
    "    \n",
    "    if [[ $indices =~ $opcion ]]; then #Si el índice está en la lista de índices.\n",
    "        echo \"Elegiste la opción $opcion.\"\n",
    "        break #En la mayoría de los casos, debemos salir al elegir una opción correcta.\n",
    "    else\n",
    "        echo \"Opción no válida.\" #Informamos del error y repetimos.\n",
    "    fi\n",
    "done\n",
    "\n",
    "fin\n",
    "\n",
    "exc $n_scp"
   ]
  },
  {
   "cell_type": "markdown",
   "metadata": {},
   "source": [
    "La solución anterior es efectiva y esta bien construida. No obstante, contamos con una estructura de control de flujo (mezclada con una estructura de entrada de datos) que nos podría simplificar el diseño de los menús."
   ]
  },
  {
   "cell_type": "markdown",
   "metadata": {},
   "source": [
    "```bash\n",
    "lista=\"Opción1 Opción2 .... OpciónN\"\n",
    "select var in $lista; do\n",
    "\n",
    "    #Acción a realizar al elegir una opción $var de la lista.\n",
    "    \n",
    "done\n",
    "```"
   ]
  },
  {
   "cell_type": "code",
   "execution_count": null,
   "metadata": {},
   "outputs": [],
   "source": [
    "#Este sería un menú bastante simple.\n",
    "#El menú muestra poca información y no se detiene nunca.\n",
    "n_scp=\"select1\"\n",
    "\n",
    "scp $n_scp << \"fin\"\n",
    "\n",
    "lista=\"Opción1 Opción2 Opción3\"\n",
    "\n",
    "select i in $lista; do\n",
    "    echo \"Elegiste la opción $i.\"\n",
    "done\n",
    "\n",
    "fin\n",
    "\n",
    "exc $n_scp"
   ]
  },
  {
   "cell_type": "markdown",
   "metadata": {},
   "source": [
    "Para cambiar el prompt por defecto de `selecet`  «`#?`», podemos usar la variable `PS3`."
   ]
  },
  {
   "cell_type": "code",
   "execution_count": null,
   "metadata": {},
   "outputs": [],
   "source": [
    "set #Muestra todos las variables y características declaradas actualmente."
   ]
  },
  {
   "cell_type": "code",
   "execution_count": null,
   "metadata": {},
   "outputs": [],
   "source": [
    "#Por ejemplo:\n",
    "set | grep n_scp\n",
    "set | grep PATH"
   ]
  },
  {
   "cell_type": "code",
   "execution_count": null,
   "metadata": {},
   "outputs": [],
   "source": [
    "set | grep PS #Muestra las variables que conforman los distintos prompt. "
   ]
  },
  {
   "cell_type": "code",
   "execution_count": null,
   "metadata": {},
   "outputs": [],
   "source": [
    "#Este menú es más informativo, pero sigue sin detenerse.\n",
    "n_scp=\"select2\"\n",
    "\n",
    "scp $n_scp << \"fin\"\n",
    "\n",
    "lista=\"Opción1 Opción2 Opción3\"\n",
    "\n",
    "PS3=\"Elija una opción: \" #Se cambia «#?» por «Elija una opción: » \n",
    "echo \"De la siguiente lista:\" #Un comentario previo a la presentación de la lista:\n",
    "\n",
    "select i in $lista; do\n",
    "    echo \"Elegiste la opción $i.\"\n",
    "done\n",
    "\n",
    "fin\n",
    "\n",
    "exc $n_scp"
   ]
  },
  {
   "cell_type": "code",
   "execution_count": null,
   "metadata": {},
   "outputs": [],
   "source": [
    "#Ahora sí, es totalmente funcional.\n",
    "n_scp=\"select3\"\n",
    "\n",
    "scp $n_scp << \"fin\"\n",
    "\n",
    "lista=\"Opción1 Opción2 Opción3\"\n",
    "\n",
    "PS3=\"Elija una opción: \" #Se cambia «#?» por «Elija una opción: » \n",
    "echo \"De la siguiente lista:\" #Un comentario previo a la presentación de la lista:\n",
    "\n",
    "select i in $lista; do\n",
    "#Si se elige una opción no listada, i=\"\".\n",
    "    if [[ -z $i ]]; then  #Revisamos si «i» no está vacía.\n",
    "        echo \"Opción no válida.\" #Informamos del error y repetimos.\n",
    "    else\n",
    "        echo \"Elegiste la opción $i.\"\n",
    "        break #En la mayoría de los casos debemos salir de select, al elegir una opción.\n",
    "    fi\n",
    "done\n",
    "\n",
    "fin\n",
    "\n",
    "exc $n_scp"
   ]
  },
  {
   "cell_type": "markdown",
   "metadata": {},
   "source": [
    "Crear un menú para elegir el paquete a instalar.\n",
    "\n",
    "El primer paso es obtener la lista de candidatos.\n",
    "\n",
    "Supongamos que queremos buscar el paquete para instalar `julia` en el directorio de __descargas__ y en directorio actual."
   ]
  },
  {
   "cell_type": "code",
   "execution_count": null,
   "metadata": {},
   "outputs": [],
   "source": [
    "#Lista de los posibles paquetes a instalar.\n",
    "paquete=\"julia*.tar.gz\" #Patrón para buscar julia.\n",
    "#Establecemos los directorios de búsqueda.\n",
    "dir_instaladores=\"$(xdg-user-dir DOWNLOAD)\" #directorio Descargas y el directorio actual.\n",
    "lista_paquetes=($(find $dir_instaladores . -maxdepth 1 -iname \"$paquete\"))\n",
    "\n",
    "#Podemos recorrer el arreglo para ver si funcionó.\n",
    "for opcion in ${lista_paquetes[*]}; do\n",
    "    echo $opcion\n",
    "done\n",
    "#Tiene problemas con los espacios."
   ]
  },
  {
   "cell_type": "markdown",
   "metadata": {},
   "source": [
    "Para evitar que se use el espacio como delimitador, se puede modificar la variable de entorno `IFS`."
   ]
  },
  {
   "cell_type": "code",
   "execution_count": null,
   "metadata": {
    "scrolled": true
   },
   "outputs": [],
   "source": [
    "#Lista de los posibles paquetes a instalar.\n",
    "paquete=\"julia*.tar.gz\" #Patrón para buscar julia.\n",
    "#Establecemos los directorios de búsqueda.\n",
    "#IFS=$' '\n",
    "dir_instaladores=\"$(xdg-user-dir DOWNLOAD)\" #directorio «Descargas».\n",
    "IFS=$'\\n' #Cambiamos el valor de «' '» a «'\\n'»\n",
    "\n",
    "#Buscamos en «Descargas» y en el directorio actual.\n",
    "lista_paquetes=($(find $dir_instaladores . -maxdepth 1 -iname \"$paquete\"))\n",
    "\n",
    "#Podemos recorrer la el arreglo para ver si funcionó.\n",
    "for opcion in ${lista_paquetes[*]}; do\n",
    "    echo $opcion\n",
    "done\n",
    "IFS=$' ' #Regresamos al valor original"
   ]
  },
  {
   "cell_type": "code",
   "execution_count": null,
   "metadata": {},
   "outputs": [],
   "source": [
    "echo ${lista_paquetes[0]} #Elegimos el primero."
   ]
  },
  {
   "cell_type": "markdown",
   "metadata": {},
   "source": [
    "Ya podemos construir el menú:"
   ]
  },
  {
   "cell_type": "code",
   "execution_count": null,
   "metadata": {
    "scrolled": true
   },
   "outputs": [],
   "source": [
    "n_scp=\"nenu_julia\"\n",
    "\n",
    "scp $n_scp << \"fin\"\n",
    "\n",
    "#Se crea el arreglo con la opciones.\n",
    "paquete=\"julia*.tar.gz\"\n",
    "dir_instaladores=\"$(xdg-user-dir DOWNLOAD)\" #directorio «Descargas».\n",
    "IFS=$'\\n'\n",
    "\n",
    "#Buscamos en «Descargas» y en el directorio actual.\n",
    "lista_paquetes=($(find $dir_instaladores . -maxdepth 1 -iname \"$paquete\"))\n",
    "\n",
    "PS3=\"Elija una opción: \" #Se cambia «#?» por «Elija una opción: » \n",
    "echo \"De la siguiente lista:\"\n",
    "select i in ${lista_paquetes[*]}; do\n",
    "    \n",
    "#Si se elige una opción no listada, i=\"\".\n",
    "    if [[ -z $i ]]; then  #Revisamos si i no está vacía.\n",
    "        echo \"Opción no válida.\" #Informamos del error y repetimos.\n",
    "    else\n",
    "        echo -e \"Se instlará el paquete:\\n$i.\"\n",
    "        break #En la mayoría de los casos debemos salir de select, al elegir una opción.\n",
    "    fi\n",
    "done\n",
    "IFS=$' ' #Regresamos al valor original\n",
    "\n",
    "fin\n",
    "\n",
    "exc $n_scp"
   ]
  },
  {
   "cell_type": "markdown",
   "metadata": {},
   "source": [
    "Si el script anterior se ejecuta como superusuario, puede tener el siguiente problema."
   ]
  },
  {
   "cell_type": "code",
   "execution_count": null,
   "metadata": {},
   "outputs": [],
   "source": [
    "#Devuelve el directorio de descargas de root.\n",
    "n_scp=\"select3\"\n",
    "\n",
    "scp $n_scp << \"fin\"\n",
    "\n",
    "sudo xdg-user-dir DOWNLOAD\n",
    "\n",
    "fin\n",
    "\n",
    "exc $n_scp"
   ]
  },
  {
   "cell_type": "markdown",
   "metadata": {},
   "source": [
    "Dentro de un proceso lanzado por un script con `sudo`, podemos usar la variable `SUDO_USER` para saber cual usuario inició el proceso.\n",
    "\n",
    "Con el comando `runuser`, se pueden lanzar procesos como si fuéramos otro usuario. Este comando no pide contraseña, ya que es obligatorio ser `root` para ejecutarlo.\n",
    "\n",
    "```bash\n",
    "echo $SUDO_USER #Usuario que lanzó el proceso como root.\n",
    "whoami #Usuario actual «root».\n",
    "#Devuelve el directorio «Descargas» del usuario que lanzó el proceso con «sudo».\n",
    "runuser -s /bin/bash $SUDO_USER -c \"xdg-user-dir DOWNLOAD\"\n",
    "```"
   ]
  },
  {
   "cell_type": "markdown",
   "metadata": {},
   "source": [
    "### Diálogos interactivos desde la linea de comando."
   ]
  },
  {
   "cell_type": "markdown",
   "metadata": {},
   "source": [
    "Se pueden crear diálogos similares a una interfaz gráfica.\n",
    "\n",
    "Los siguientes comandos se usan para este propósito:\n",
    "\n",
    "- `whiptail`\n",
    "  - Está instalado por defecto en Debian y derivadas.\n",
    "  - Por esa razón, muchos paquetes lo usan en Ubuntu.\n",
    "  - [Aquí](https://www.raulprietofernandez.net/blog/shells/como-crear-cuadros-de-dialogo-en-tus-scripts-de-gnu-linux) se puede ver un tutorial básico.\n",
    "  - [Este](https://sio2sio2.github.io/doc-linux/03.scripts/06.misc/05.whiptail.html) Es uno más avanzado. Debe leerse después del anterior.\n",
    "  - El diálogo `--infobox` no funciona con la terminal `xterm`. Yo personalmente la cambio a `linux` (`TERM=linux`). Esto lo expliqué el la primera plática.\n",
    "  - El diálogo `--inputbox` necesita conmutar la salida estándar con la salida de error estándar (`3>&1 1>&2 2>&3`). De lo contrario no funciona.\n",
    "- `Dialog`\n",
    "  - Es más atractivo, pero no está instalado por defecto.\n",
    "  - Lo desarrolla Red Hat.\n",
    "  - [Esta](https://aplicacionesysistemas.com/dialog-crear-menus-tus-scripts/) es una introducción."
   ]
  },
  {
   "cell_type": "markdown",
   "metadata": {},
   "source": [
    "### Miniproyecto (Instalador para el taller)"
   ]
  },
  {
   "cell_type": "markdown",
   "metadata": {},
   "source": [
    "- Presentación en directo.\n",
    "- Se entrega en un directorio adjunto al notebook."
   ]
  },
  {
   "cell_type": "code",
   "execution_count": null,
   "metadata": {},
   "outputs": [],
   "source": []
  }
 ],
 "metadata": {
  "kernelspec": {
   "display_name": "Bash",
   "language": "bash",
   "name": "bash"
  },
  "language_info": {
   "codemirror_mode": "shell",
   "file_extension": ".sh",
   "mimetype": "text/x-sh",
   "name": "bash"
  }
 },
 "nbformat": 4,
 "nbformat_minor": 4
}
