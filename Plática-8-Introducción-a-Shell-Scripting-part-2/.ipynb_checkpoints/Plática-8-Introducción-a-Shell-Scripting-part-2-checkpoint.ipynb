{
 "cells": [
  {
   "cell_type": "markdown",
   "metadata": {},
   "source": [
    "# Tópicos avanzados de programación con Julia"
   ]
  },
  {
   "cell_type": "markdown",
   "metadata": {},
   "source": [
    "## _Introducción a Shell Scripting_"
   ]
  },
  {
   "cell_type": "markdown",
   "metadata": {},
   "source": [
    "__Recomendaciones generales y buenas prácticas al crear el entorno de desarrollo.__\n",
    "- Introducción a Shell Scripting.\n",
    "  - ¿Qué es un script de Bash, y cual es su utilidad?\n",
    "  - Ejecución de scripts I.\n",
    "    - Ejecución de scripts sin permiso de ejecución.\n",
    "    - Ejecución de scripts con permiso de ejecución.\n",
    "      - Ejecución de scripts sin SheBang.\n",
    "      - Ejecución de scripts con SheBang.\n",
    "  - Variables I.\n",
    "    - Crear y leer variables.\n",
    "      - Cadenas.\n",
    "      - Enteros.\n",
    "    - Variables de entorno.\n",
    "    - Parámetros de entrada.\n",
    "    - Estado de salida.\n",
    "  - Alias y Funciones.\n",
    "    - Alias.\n",
    "    - Funciones.\n",
    "      - Parámetros de entrada.\n",
    "      - Estado de salida.\n",
    "      - Retorno de valores.\n",
    "  - Variables II.\n",
    "    - Ámbito de las variables.\n",
    "      - Variables globales y locales.\n",
    "      - Ámbito de las variables en funciones.\n",
    "    - Forzar tipado.\n",
    "    - Comandos en variables\n",
    "      - Almacenar el comando.\n",
    "      - Almacenar la salida de un comando.\n",
    "    - Almacenar la salida de una función.\n",
    "    - Almacenar la salida de un script.\n",
    "    - Almacenar el nombre de una variable en otra.\n",
    "  - Ejecución de scripts II.\n",
    "- Guardar las definiciones de forma permanente.\n"
   ]
  },
  {
   "cell_type": "markdown",
   "metadata": {},
   "source": [
    "### ¿Qué es un script de Bash, y cual es su utilidad?"
   ]
  },
  {
   "cell_type": "markdown",
   "metadata": {},
   "source": [
    "- Es un archivo regular que contiene una secuencia de comandos (programas instalados localmente o en dispositivos remotos).\n",
    "- Los comandos en un script son procesados por lotes (de forma automática y ordenada).\n",
    "- Cada comando ejecutado en un script, crea un proceso independiente al del propio script, y al de los otros comandos.\n",
    "- En un script de Bash, se puede usar cualquier programa (instalado o que pueda instalarse) que tenga una interfaz para la linea de comandos.\n",
    "- Se puede colocar código de cualquier lenguaje de programación. Posteriormente ese código puede ser interpretado o compilado.  En este último caso el ejecutable obtenido puede usarse dentro del script. En otras palabras en un script de bash se puede usar casi todo dentro del sistema local o remoto.\n",
    "- La principal utilidad es automatizar el trabajo de los usuarios."
   ]
  },
  {
   "cell_type": "markdown",
   "metadata": {},
   "source": [
    "### Ejecución de scripts I"
   ]
  },
  {
   "cell_type": "markdown",
   "metadata": {},
   "source": [
    "#### Ejecución de scripts sin permiso de ejecución"
   ]
  },
  {
   "cell_type": "markdown",
   "metadata": {},
   "source": [
    "Los script pueden ejecutarse con o sin permiso de ejecución. El permiso puede omitirse, si ejecutamos el intérprete y le pasamos como parámetro al script."
   ]
  },
  {
   "cell_type": "code",
   "execution_count": null,
   "metadata": {},
   "outputs": [],
   "source": [
    "ls -l ./script #Para ver los permisos."
   ]
  },
  {
   "cell_type": "code",
   "execution_count": null,
   "metadata": {},
   "outputs": [],
   "source": [
    "cat ./script/hola.py"
   ]
  },
  {
   "cell_type": "code",
   "execution_count": null,
   "metadata": {
    "scrolled": false
   },
   "outputs": [],
   "source": [
    "python ./script/hola.py"
   ]
  },
  {
   "cell_type": "code",
   "execution_count": null,
   "metadata": {},
   "outputs": [],
   "source": [
    "cat ./script/hola.jl"
   ]
  },
  {
   "cell_type": "code",
   "execution_count": null,
   "metadata": {},
   "outputs": [],
   "source": [
    "julia ./script/hola.jl"
   ]
  },
  {
   "cell_type": "code",
   "execution_count": null,
   "metadata": {},
   "outputs": [],
   "source": [
    "cat ./script/hola.sh"
   ]
  },
  {
   "cell_type": "code",
   "execution_count": null,
   "metadata": {},
   "outputs": [],
   "source": [
    "bash ./script/hola.sh"
   ]
  },
  {
   "cell_type": "code",
   "execution_count": null,
   "metadata": {},
   "outputs": [],
   "source": [
    "sh ./script/hola.sh"
   ]
  },
  {
   "cell_type": "code",
   "execution_count": null,
   "metadata": {},
   "outputs": [],
   "source": [
    "ls -l /bin | grep sh #Para ver el interprete sh."
   ]
  },
  {
   "cell_type": "markdown",
   "metadata": {},
   "source": [
    "Vemos que sh es un enlace simbólico a [dash](https://es.wikipedia.org/wiki/Debian_Almquist_Shell)."
   ]
  },
  {
   "cell_type": "code",
   "execution_count": null,
   "metadata": {},
   "outputs": [],
   "source": [
    "#Si no tenemos permiso y no ejecutamos el intérprete:\n",
    "./script/hola.py\n",
    "./script/hola.jl\n",
    "./script/hola.sh"
   ]
  },
  {
   "cell_type": "markdown",
   "metadata": {},
   "source": [
    "#### Ejecución de scripts con permiso de ejecución"
   ]
  },
  {
   "cell_type": "code",
   "execution_count": null,
   "metadata": {},
   "outputs": [],
   "source": [
    "chmod +x ./script/hola2.py ./script/hola2.jl ./script/hola2.sh ./script/hola.txt\n",
    "chmod +x ./script/hola3.py ./script/hola3.jl ./script/hola3.sh ./script/hola4.sh\n",
    "chmod +x ./script/hola4.py ./script/hola4.jl ./script/hola5.sh ./script/hola6.sh"
   ]
  },
  {
   "cell_type": "code",
   "execution_count": null,
   "metadata": {},
   "outputs": [],
   "source": [
    "ls -l ./script #Para ver los permisos."
   ]
  },
  {
   "cell_type": "code",
   "execution_count": null,
   "metadata": {},
   "outputs": [],
   "source": [
    "#Para ver el contenido de los archivos:\n",
    "cat ./script/hola2.py\n",
    "echo \"-------\"\n",
    "cat ./script/hola2.jl\n",
    "echo \"-------\"\n",
    "cat ./script/hola2.sh\n",
    "echo \"-------\"\n",
    "cat ./script/hola.txt"
   ]
  },
  {
   "cell_type": "markdown",
   "metadata": {},
   "source": [
    "##### Ejecución de scripts sin SheBang"
   ]
  },
  {
   "cell_type": "code",
   "execution_count": null,
   "metadata": {},
   "outputs": [],
   "source": [
    "./script/hola2.sh"
   ]
  },
  {
   "cell_type": "code",
   "execution_count": null,
   "metadata": {
    "scrolled": false
   },
   "outputs": [],
   "source": [
    "./script/hola2.py"
   ]
  },
  {
   "cell_type": "code",
   "execution_count": null,
   "metadata": {},
   "outputs": [],
   "source": [
    "./script/hola2.jl"
   ]
  },
  {
   "cell_type": "code",
   "execution_count": null,
   "metadata": {},
   "outputs": [],
   "source": [
    "./script/hola.txt"
   ]
  },
  {
   "cell_type": "markdown",
   "metadata": {},
   "source": [
    "##### Ejecución de scripts con SheBang"
   ]
  },
  {
   "cell_type": "markdown",
   "metadata": {},
   "source": [
    "En el SheBang se especifica la ruta hacia el intérprete que deseamos usar:"
   ]
  },
  {
   "cell_type": "code",
   "execution_count": null,
   "metadata": {},
   "outputs": [],
   "source": [
    "#Para ver el contenido de los archivos:\n",
    "cat ./script/hola3.py\n",
    "echo \"-------\"\n",
    "cat ./script/hola3.jl\n",
    "echo \"-------\"\n",
    "cat ./script/hola3.sh\n",
    "echo \"-------\"\n",
    "cat ./script/hola4.sh"
   ]
  },
  {
   "cell_type": "code",
   "execution_count": null,
   "metadata": {
    "scrolled": true
   },
   "outputs": [],
   "source": [
    "#Ya podemos ejecutar sin especificar los intérpretes:\n",
    "./script/hola3.py\n",
    "echo \"-------\"\n",
    "./script/hola3.jl\n",
    "echo \"-------\"\n",
    "./script/hola3.sh\n",
    "echo \"-------\"\n",
    "./script/hola4.sh"
   ]
  },
  {
   "cell_type": "code",
   "execution_count": null,
   "metadata": {},
   "outputs": [],
   "source": [
    "#Aunque tenga SheBang, se puede forzar el uso de otro intérprete.\n",
    "bash ./script/hola3.py\n",
    "echo \"-------\"\n",
    "bash ./script/hola4.sh\n",
    "echo \"-------\"\n",
    "/bin/bash ./script/hola4.sh"
   ]
  },
  {
   "cell_type": "markdown",
   "metadata": {},
   "source": [
    "La manera más cómoda es usar al comando `env` para que busque la ubicación del intérprete.\n",
    "\n",
    "Sólo hay que conocer la ruta hacia `env` que suele ser casi siempre `/usr/bin/env`. Luego sólo hay que escribir el comando que inicia al intérprete:\n",
    "\n",
    "```bash\n",
    "/usr/bin/env [interprete]\n",
    "```"
   ]
  },
  {
   "cell_type": "code",
   "execution_count": null,
   "metadata": {},
   "outputs": [],
   "source": [
    "#Para ver el contenido de los archivos:\n",
    "cat ./script/hola4.py\n",
    "echo \"-------\"\n",
    "cat ./script/hola4.jl\n",
    "echo \"-------\"\n",
    "cat ./script/hola5.sh\n",
    "echo \"-------\"\n",
    "cat ./script/hola6.sh"
   ]
  },
  {
   "cell_type": "code",
   "execution_count": null,
   "metadata": {},
   "outputs": [],
   "source": [
    "#env busca por nosotros la ubicación del intérprete:\n",
    "./script/hola4.py\n",
    "echo \"-------\"\n",
    "./script/hola4.jl\n",
    "echo \"-------\"\n",
    "./script/hola5.sh\n",
    "echo \"-------\"\n",
    "./script/hola6.sh"
   ]
  },
  {
   "cell_type": "markdown",
   "metadata": {},
   "source": [
    "### Variables I"
   ]
  },
  {
   "cell_type": "markdown",
   "metadata": {},
   "source": [
    "- Bash es un intérprete con tipado débil.\n",
    "- Las variable se toman como enteros o cadenas, según sea el contexto.\n",
    "- Lar reglas para el nombre de variables es similar a las de los lenguajes de programación."
   ]
  },
  {
   "cell_type": "markdown",
   "metadata": {},
   "source": [
    "#### Crear y leer variables"
   ]
  },
  {
   "cell_type": "code",
   "execution_count": null,
   "metadata": {},
   "outputs": [],
   "source": [
    "var=1\n",
    "Var=hola\n",
    "VAR=\"HOLA\"\n",
    "\n",
    "echo \"$var, texto intermedio $Var, $VAR\""
   ]
  },
  {
   "cell_type": "code",
   "execution_count": null,
   "metadata": {},
   "outputs": [],
   "source": [
    "#No puede haber espacio entre el nombre de la variable y el valor asignado.\n",
    "var2=\"Sin problemas\""
   ]
  },
  {
   "cell_type": "code",
   "execution_count": null,
   "metadata": {},
   "outputs": [],
   "source": [
    "echo $var2"
   ]
  },
  {
   "cell_type": "code",
   "execution_count": null,
   "metadata": {},
   "outputs": [],
   "source": [
    "var3= \"Con problemas\" #Trata de ejecutar el comando «Con problemas».\n",
    "echo $?"
   ]
  },
  {
   "cell_type": "code",
   "execution_count": null,
   "metadata": {},
   "outputs": [],
   "source": [
    "echo $var3 #Var3 nunca se creó y aún así no da errar al leer su contenido.\n",
    "echo $?"
   ]
  },
  {
   "cell_type": "code",
   "execution_count": null,
   "metadata": {},
   "outputs": [],
   "source": [
    "var4 =\"Con problemas\" #Trata de ejecutar el comando «var4».\n",
    "echo $?"
   ]
  },
  {
   "cell_type": "code",
   "execution_count": null,
   "metadata": {},
   "outputs": [],
   "source": [
    "echo $var4 #Var4 nunca se creó y aún así no da errar al leer su contenido.\n",
    "echo $?"
   ]
  },
  {
   "cell_type": "code",
   "execution_count": null,
   "metadata": {},
   "outputs": [],
   "source": [
    "var5=Con problemas #Trata de ejecutar el comando «problemas».\n",
    "echo $?"
   ]
  },
  {
   "cell_type": "code",
   "execution_count": null,
   "metadata": {},
   "outputs": [],
   "source": [
    "echo $var5 #Var5 nunca se creó y aún así no da errar al leer su contenido.\n",
    "echo $?"
   ]
  },
  {
   "cell_type": "code",
   "execution_count": null,
   "metadata": {},
   "outputs": [],
   "source": [
    "#Una solución alternativa al uso de comillas, es escapar el espacio con «\\».\n",
    "var5=Sin\\ problemas\n",
    "echo $?"
   ]
  },
  {
   "cell_type": "code",
   "execution_count": null,
   "metadata": {},
   "outputs": [],
   "source": [
    "echo $var5 #Var5 nunca se creó y aún así no da errar al leer su contenido."
   ]
  },
  {
   "cell_type": "code",
   "execution_count": null,
   "metadata": {},
   "outputs": [],
   "source": [
    "echo $var6 #Var6 nunca se creó y aún así no da errar al leer su contenido.\n",
    "echo $?"
   ]
  },
  {
   "cell_type": "markdown",
   "metadata": {},
   "source": [
    "###### Cadenas"
   ]
  },
  {
   "cell_type": "code",
   "execution_count": null,
   "metadata": {},
   "outputs": [],
   "source": [
    "var_1=archivo\n",
    "echo En el $var_1 12\n",
    "echo \"En el $var_1 12\" #Esta forma es más recomendable."
   ]
  },
  {
   "cell_type": "code",
   "execution_count": null,
   "metadata": {},
   "outputs": [],
   "source": [
    "#Si yo quiero que imprima arhivo12 en lugar de archivo 12.\n",
    "echo \"En el $var_112\" #Da error porque interpreta que es la variable var_112"
   ]
  },
  {
   "cell_type": "code",
   "execution_count": null,
   "metadata": {},
   "outputs": [],
   "source": [
    "#Si yo quiero que imprima arhivo12 en lugar de archivo 12.\n",
    "echo \"En el ${var_1}12\" #Las llaves permiten delimitar la variable del texto."
   ]
  },
  {
   "cell_type": "code",
   "execution_count": null,
   "metadata": {},
   "outputs": [],
   "source": [
    "#Si quiero que se interprete de manera literal:\n",
    "echo 'En el ${var_1}12' #Esto es lo que sucedería en un lenguaje de programación.."
   ]
  },
  {
   "cell_type": "code",
   "execution_count": null,
   "metadata": {},
   "outputs": [],
   "source": [
    "#Combinando ambas comillas:\n",
    "echo \"Con \"'$var_1'\" se obtiene el valor $var_1, almacenado en var_1.\""
   ]
  },
  {
   "cell_type": "code",
   "execution_count": null,
   "metadata": {},
   "outputs": [],
   "source": [
    "#Ejemplo de como concatenar cadenas.\n",
    "var10=\"La cadena\"\n",
    "var11=\", más y más.\"\n",
    "var10+=\" continúa\"\n",
    "var12=\"$var10$var11\"\n",
    "\n",
    "echo \"$var12\""
   ]
  },
  {
   "cell_type": "code",
   "execution_count": null,
   "metadata": {},
   "outputs": [],
   "source": [
    "#Ejemplo de uso práctico.\n",
    "var1='#!/usr/bin/env julia\\n'\n",
    "var1+=\"for i in [1, 4, 0]\\n\"\n",
    "var1+=\"\\tprintln(i)\\n\"\n",
    "var1+=\"end\"\n",
    "echo \"$var1\" #No respeta la tabulación, ni el salto de linea."
   ]
  },
  {
   "cell_type": "code",
   "execution_count": null,
   "metadata": {},
   "outputs": [],
   "source": [
    "echo -e \"$var1\" #Con -e sí los respeta."
   ]
  },
  {
   "cell_type": "code",
   "execution_count": null,
   "metadata": {},
   "outputs": [],
   "source": [
    "#Con esta información, puede crear un script para Julia.\n",
    "echo -e \"$var1\" > ./script/for.jl\n",
    "chmod +x ./script/for.jl"
   ]
  },
  {
   "cell_type": "code",
   "execution_count": null,
   "metadata": {},
   "outputs": [],
   "source": [
    "./script/for.jl"
   ]
  },
  {
   "cell_type": "code",
   "execution_count": null,
   "metadata": {},
   "outputs": [],
   "source": [
    "#De manera equivalente.\n",
    "cat << \"fin\" > ./script/for2.jl\n",
    "#!/usr/bin/env julia\n",
    "for i in [1, 4, 0]\n",
    "    println(i)\n",
    "end\n",
    "fin\n",
    "\n",
    "chmod +x ./script/for2.jl"
   ]
  },
  {
   "cell_type": "code",
   "execution_count": null,
   "metadata": {},
   "outputs": [],
   "source": [
    "./script/for2.jl"
   ]
  },
  {
   "cell_type": "markdown",
   "metadata": {},
   "source": [
    "###### Enteros"
   ]
  },
  {
   "cell_type": "code",
   "execution_count": null,
   "metadata": {},
   "outputs": [],
   "source": [
    "#Trabajando con «enteros».\n",
    "var=1\n",
    "var+=1\n",
    "echo $var #¿1+1=11? La trata como cadena."
   ]
  },
  {
   "cell_type": "code",
   "execution_count": null,
   "metadata": {},
   "outputs": [],
   "source": [
    "#Una manera de hacer entender a Bash que son enteros es usar «let».\n",
    "var=1\n",
    "let var+=3\n",
    "let var++\n",
    "echo $var #¿1+1=11? Los trata como cadenas."
   ]
  },
  {
   "cell_type": "code",
   "execution_count": null,
   "metadata": {},
   "outputs": [],
   "source": [
    "var+=1 #Si dejamos de usar let.\n",
    "echo $var #¿5+1=51? Nuevamente la trata como cadena."
   ]
  },
  {
   "cell_type": "code",
   "execution_count": null,
   "metadata": {},
   "outputs": [],
   "source": [
    "#Veamos todas las operaciones que se pueden hacer con números enteros.\n",
    "var1=17\n",
    "var2=3\n",
    "\n",
    "# No es necesario usar $ dentro de let para acceder al valor de las variables.\n",
    "let var=var1+var2\n",
    "echo \"suma: $var\"\n",
    "let var=var1-var2\n",
    "echo \"resta: $var\"\n",
    "let var=var1*var2\n",
    "echo \"multiplicación: $var\"\n",
    "let var=var1/var2\n",
    "echo \"división entera:  $var\"\n",
    "let var=var1%var2\n",
    "echo \"Módulo (resto de la división entera):  $var\"\n",
    "let var=(1+1)*3\n",
    "echo \"Agrupando operaciones (1+1)*3 = $var\"\n",
    "let var=1+1*3\n",
    "echo \"Agrupando operaciones 1+1*3 = $var\"\n",
    "\n",
    "let var1++ #Aumenta en 1.\n",
    "echo \"$var1\"\n",
    "let var2+=5 #Aumenta en 5.\n",
    "echo \"$var2\"\n",
    "let var2*=5 #Equivale a var2 = var2 * 5.\n",
    "echo \"$var2\"\n",
    "let var2/=3 #Equivale a var2 = var2 / 3.\n",
    "echo \"$var2\"\n",
    "let var2%=2 #Equivale a var2 = var2 % 2.\n",
    "echo \"$var2\""
   ]
  },
  {
   "cell_type": "code",
   "execution_count": null,
   "metadata": {},
   "outputs": [],
   "source": [
    "#Se puede usar el doble paréntesis en lugar de let.\n",
    "var1=17\n",
    "var2=3\n",
    "\n",
    "((var=var1+var2))\n",
    "echo \"suma: $var\"\n",
    "((var=var1-var2))\n",
    "echo \"resta: $var\"\n",
    "((var=var1*var2))\n",
    "echo \"multiplicación: $var\"\n",
    "((var=var1/var2))\n",
    "echo \"división entera:  $var\"\n",
    "((var=var1%var2))\n",
    "echo \"Módulo (resto de la división entera):  $var\"\n",
    "((var=(1+1)*3))\n",
    "echo \"Agrupando operaciones (1+1)*3 = $var\"\n",
    "\n",
    "((var1++)) #Aumenta en 1.\n",
    "echo \"$var1\"\n",
    "((var2+=5)) #Aumenta en 5.\n",
    "echo \"$var2\"\n",
    "((var2*=5)) #Equivale a var2 = var2 * 5.\n",
    "echo \"$var2\"\n",
    "((var2/=3)) #Equivale a var2 = var2 / 3.\n",
    "echo \"$var2\"\n",
    "((var2%=2)) #Equivale a var2 = var2 % 2.\n",
    "echo \"$var2\""
   ]
  },
  {
   "cell_type": "code",
   "execution_count": null,
   "metadata": {},
   "outputs": [],
   "source": [
    "#Alternativamente:\n",
    "var1=17\n",
    "var2=3\n",
    "\n",
    "var=$((var1+var2))\n",
    "echo \"suma: $var\"\n",
    "var=$((var1-var2))\n",
    "echo \"resta: $var\"\n",
    "var=$((var1*var2))\n",
    "echo \"multiplicación: $var\"\n",
    "var=$((var1/var2))\n",
    "echo \"división entera:  $var\"\n",
    "var=$((var1%var2))\n",
    "echo \"Módulo (resto de la división entera):  $var\"\n",
    "var=$(((1+1)*3))\n",
    "echo \"Agrupando operaciones (1+1)*3 = $var\"\n",
    "var=$((1+1*3))\n",
    "echo \"Agrupando operaciones 1+1*3 = $var\""
   ]
  },
  {
   "cell_type": "code",
   "execution_count": null,
   "metadata": {},
   "outputs": [],
   "source": [
    "#De esta manera también se puede mostrar sin almacenar en una variable:\n",
    "echo \"suma: $((17+3))\"\n",
    "echo \"resta: $((17-3))\"\n",
    "echo \"multiplicación: $((17*3))\"\n",
    "echo \"división entera:  $((17/3))\"\n",
    "echo \"Módulo (resto de la división entera):  $((17%3))\"\n",
    "echo \"Agrupando operaciones (1+1)*3 = $(((1+1)*3))\"\n",
    "echo \"Agrupando operaciones 1+1*3 = $((1+1*3))\""
   ]
  },
  {
   "cell_type": "markdown",
   "metadata": {},
   "source": [
    "Más adelante mostraré una forma alternativa usando `declare`."
   ]
  },
  {
   "cell_type": "markdown",
   "metadata": {},
   "source": [
    "#### Variables de entorno"
   ]
  },
  {
   "cell_type": "code",
   "execution_count": null,
   "metadata": {},
   "outputs": [],
   "source": [
    "env #Muestra las variables del sistema con los valores que estamos usando actualmente."
   ]
  },
  {
   "cell_type": "code",
   "execution_count": null,
   "metadata": {},
   "outputs": [],
   "source": [
    "printenv #Hace lo mismo que env."
   ]
  },
  {
   "cell_type": "code",
   "execution_count": null,
   "metadata": {},
   "outputs": [],
   "source": [
    "#Una variable de entorno interesante de la que no he hablado es RANDOM:\n",
    "echo $RANDOM"
   ]
  },
  {
   "cell_type": "code",
   "execution_count": null,
   "metadata": {},
   "outputs": [],
   "source": [
    "echo $((RANDOM % 11)) # Para mostrar valores aleatorios del 0 al 10."
   ]
  },
  {
   "cell_type": "code",
   "execution_count": null,
   "metadata": {},
   "outputs": [],
   "source": [
    "echo $((RANDOM % 10 + 1)) # Para mostrar valores aleatorios del 1 al 10."
   ]
  },
  {
   "cell_type": "code",
   "execution_count": null,
   "metadata": {},
   "outputs": [],
   "source": [
    "#Con env, podemos lanzar procesos con alguna variable de entorno modificada.\n",
    "#Es un ambiente aislado que no afecta al principal.\n",
    "env PATH=/usr/local/bin/ ./script/for.jl"
   ]
  },
  {
   "cell_type": "code",
   "execution_count": null,
   "metadata": {},
   "outputs": [],
   "source": [
    "#No encuentra los comandos ps y cut.\n",
    "env PATH=/usr/local/bin/ ./script/hola3.sh"
   ]
  },
  {
   "cell_type": "code",
   "execution_count": null,
   "metadata": {},
   "outputs": [],
   "source": [
    "#Ahora sí.\n",
    "env PATH=/usr/local/bin/:/bin/:/usr/bin/ ./script/hola3.sh"
   ]
  },
  {
   "cell_type": "code",
   "execution_count": null,
   "metadata": {},
   "outputs": [],
   "source": [
    "echo $PATH"
   ]
  },
  {
   "cell_type": "markdown",
   "metadata": {},
   "source": [
    "#### Parámetros de entrada"
   ]
  },
  {
   "cell_type": "markdown",
   "metadata": {},
   "source": [
    "Además de las variables de entorno, existen otras variables del sistema. Estas variables nos permiten interactuar con el proceso que asociado a la ejecución del script."
   ]
  },
  {
   "cell_type": "markdown",
   "metadata": {},
   "source": [
    "- `$0` contiene el nombre del script.\n",
    "- `$1 – $9` almacena el valor de los primeros nueve parámetros que se pasan a un script.\n",
    "- `${n}` si se necesita pasar más de 9 parámetros, se puede usar llaves. \n",
    "  - Por ejemplo `${14}` es el parámetro 14.\n",
    "- `$#` el número de argumentos que se pasan a al script.\n",
    "- `$@` el valor de todos los parámetros que se han pasado al script. Estos están en una cadena separada por espacios.\n",
    "- `$*` igual que `$@`, con la diferencia de que no es una cadena, sino un arreglo.\n",
    "- `$?` la salida del último proceso que se ha ejecutado.\n",
    "- `$$` el ID del proceso del script."
   ]
  },
  {
   "cell_type": "code",
   "execution_count": null,
   "metadata": {},
   "outputs": [],
   "source": [
    "cat ./script/param.sh"
   ]
  },
  {
   "cell_type": "code",
   "execution_count": null,
   "metadata": {},
   "outputs": [],
   "source": [
    "bash ./script/param.sh"
   ]
  },
  {
   "cell_type": "code",
   "execution_count": null,
   "metadata": {},
   "outputs": [],
   "source": [
    "#Para introducir parámetros con espacios, es necesario usar comillas (dobles o simples).\n",
    "bash ./script/param.sh uno /home \"Perro grande\" 15"
   ]
  },
  {
   "cell_type": "code",
   "execution_count": null,
   "metadata": {},
   "outputs": [],
   "source": [
    "cat ./script/suma.sh #Aquí si es obligatorio poner los tres símbolos de $."
   ]
  },
  {
   "cell_type": "code",
   "execution_count": null,
   "metadata": {},
   "outputs": [],
   "source": [
    "bash ./script/suma.sh #Como no hay números para sumar, el operador + genera un error.\n",
    "echo $?"
   ]
  },
  {
   "cell_type": "code",
   "execution_count": null,
   "metadata": {},
   "outputs": [],
   "source": [
    "bash ./script/suma.sh 3 4 #Ahora si funciona.\n",
    "echo $?"
   ]
  },
  {
   "cell_type": "markdown",
   "metadata": {},
   "source": [
    "#### Estado de salida"
   ]
  },
  {
   "cell_type": "markdown",
   "metadata": {},
   "source": [
    "El estado de salida del script, es el estado de salida del último comando ejecutado."
   ]
  },
  {
   "cell_type": "code",
   "execution_count": null,
   "metadata": {},
   "outputs": [],
   "source": [
    "cat ./script/error1.sh"
   ]
  },
  {
   "cell_type": "code",
   "execution_count": null,
   "metadata": {},
   "outputs": [],
   "source": [
    "bash ./script/error1.sh\n",
    "echo $?"
   ]
  },
  {
   "cell_type": "code",
   "execution_count": null,
   "metadata": {},
   "outputs": [],
   "source": [
    "cat ./script/error2.sh"
   ]
  },
  {
   "cell_type": "code",
   "execution_count": null,
   "metadata": {},
   "outputs": [],
   "source": [
    "bash ./script/error2.sh\n",
    "echo $?"
   ]
  },
  {
   "cell_type": "markdown",
   "metadata": {},
   "source": [
    "Con `exit [n]` se finaliza el script y con el estado `n`. Por defecto devuelve `0`."
   ]
  },
  {
   "cell_type": "code",
   "execution_count": null,
   "metadata": {},
   "outputs": [],
   "source": [
    "cat ./script/error3.sh"
   ]
  },
  {
   "cell_type": "code",
   "execution_count": null,
   "metadata": {},
   "outputs": [],
   "source": [
    "bash ./script/error3.sh\n",
    "echo $?"
   ]
  },
  {
   "cell_type": "code",
   "execution_count": null,
   "metadata": {},
   "outputs": [],
   "source": [
    "cat ./script/error4.sh"
   ]
  },
  {
   "cell_type": "code",
   "execution_count": null,
   "metadata": {},
   "outputs": [],
   "source": [
    "bash ./script/error4.sh\n",
    "echo $?"
   ]
  },
  {
   "cell_type": "markdown",
   "metadata": {},
   "source": [
    "### Alias y Funciones"
   ]
  },
  {
   "cell_type": "markdown",
   "metadata": {},
   "source": [
    "#### Alias"
   ]
  },
  {
   "cell_type": "markdown",
   "metadata": {},
   "source": [
    "- Alias se usa para renombrar comandos.\n",
    "- También para renombrar comandos con opciones seleccionadas."
   ]
  },
  {
   "cell_type": "code",
   "execution_count": null,
   "metadata": {},
   "outputs": [],
   "source": [
    "alias #Me da todos los alias que tengo definido actualmente en el sistema."
   ]
  },
  {
   "cell_type": "code",
   "execution_count": null,
   "metadata": {},
   "outputs": [],
   "source": [
    "type grep #Da información del comando."
   ]
  },
  {
   "cell_type": "code",
   "execution_count": null,
   "metadata": {},
   "outputs": [],
   "source": [
    "type echo"
   ]
  },
  {
   "cell_type": "code",
   "execution_count": null,
   "metadata": {},
   "outputs": [],
   "source": [
    "alias ls='ls -alh'"
   ]
  },
  {
   "cell_type": "code",
   "execution_count": null,
   "metadata": {},
   "outputs": [],
   "source": [
    "ls"
   ]
  },
  {
   "cell_type": "code",
   "execution_count": null,
   "metadata": {},
   "outputs": [],
   "source": [
    "alias miecho='echo -e'"
   ]
  },
  {
   "cell_type": "code",
   "execution_count": null,
   "metadata": {},
   "outputs": [],
   "source": [
    "echo \"hola\\nloco\""
   ]
  },
  {
   "cell_type": "code",
   "execution_count": null,
   "metadata": {},
   "outputs": [],
   "source": [
    "miecho \"hola\\nloco\""
   ]
  },
  {
   "cell_type": "code",
   "execution_count": null,
   "metadata": {},
   "outputs": [],
   "source": [
    "alias #Para ver los cambios."
   ]
  },
  {
   "cell_type": "code",
   "execution_count": null,
   "metadata": {},
   "outputs": [],
   "source": [
    "type ls"
   ]
  },
  {
   "cell_type": "markdown",
   "metadata": {},
   "source": [
    "#### Funciones"
   ]
  },
  {
   "cell_type": "markdown",
   "metadata": {},
   "source": [
    "Las funciones tienen una estructura similar a la de un script.\n",
    "```bash\n",
    "nombre_función(){\n",
    "    #Lo mismo que podemos hacer en un script\n",
    "}\n",
    "```\n",
    "O también:\n",
    "```bash\n",
    "nombre_función()\n",
    "{\n",
    "    #Lo mismo que podemos hacer en un script\n",
    "}\n",
    "```\n",
    "Esto también es correcto:\n",
    "```bash\n",
    "nombre_función(){#Lo mismo que podemos hacer en un script}\n",
    "```"
   ]
  },
  {
   "cell_type": "code",
   "execution_count": null,
   "metadata": {},
   "outputs": [],
   "source": [
    "#Una función puede hacer los mismo que un alias:\n",
    "miecho2(){\n",
    "    echo -e \"$@\"\n",
    "}"
   ]
  },
  {
   "cell_type": "code",
   "execution_count": null,
   "metadata": {},
   "outputs": [],
   "source": [
    "echo Escribo muchos parámetros \"\\nY algo más\""
   ]
  },
  {
   "cell_type": "code",
   "execution_count": null,
   "metadata": {},
   "outputs": [],
   "source": [
    "echo -e Escribo muchos parámetros \"\\nY algo más\""
   ]
  },
  {
   "cell_type": "code",
   "execution_count": null,
   "metadata": {},
   "outputs": [],
   "source": [
    "miecho Escribo muchos parámetros \"\\nY algo más\""
   ]
  },
  {
   "cell_type": "code",
   "execution_count": null,
   "metadata": {},
   "outputs": [],
   "source": [
    "miecho2 Escribo muchos parámetros \"\\nY algo más\""
   ]
  },
  {
   "cell_type": "code",
   "execution_count": null,
   "metadata": {},
   "outputs": [],
   "source": [
    "type echo\n",
    "type miecho\n",
    "type miecho2"
   ]
  },
  {
   "cell_type": "markdown",
   "metadata": {},
   "source": [
    "##### Parámetros de entrada"
   ]
  },
  {
   "cell_type": "markdown",
   "metadata": {},
   "source": [
    "- `$1 – $9` almacena el valor de los primeros nueve parámetros que se pasan a una función.\n",
    "- `${n}` si se necesita pasar más de 9 parámetros, se puede usar llaves. \n",
    "  - Por ejemplo `${14}` es el parámetro 14.\n",
    "- `$#` el número de argumentos que se pasan a la función.\n",
    "- `$@` el valor de todos los parámetros que se han pasado a la funcion. Estos están en una cadena separada por espacios.\n",
    "- `$*` igual que `$@`, con la diferencia de que no es una cadena, sino un arreglo.\n",
    "- `$?` la salida del último proceso que se ha ejecutado."
   ]
  },
  {
   "cell_type": "code",
   "execution_count": null,
   "metadata": {},
   "outputs": [],
   "source": [
    "fun(){\n",
    "    echo \"Número de parámetros: $#.\"\n",
    "    echo \"El valor del parámetro 1 es: $1.\"\n",
    "    echo \"El valor del parámetro 2 es: $2.\"\n",
    "    echo \"Cadena con todos los parámetros: $@.\"\n",
    "    echo \"Arreglo con todos los parámetros: $*.\"\n",
    "}"
   ]
  },
  {
   "cell_type": "code",
   "execution_count": null,
   "metadata": {},
   "outputs": [],
   "source": [
    "fun 2 4 hola"
   ]
  },
  {
   "cell_type": "markdown",
   "metadata": {},
   "source": [
    "##### Estado de salida"
   ]
  },
  {
   "cell_type": "markdown",
   "metadata": {},
   "source": [
    "- El estado de salida es el del último comando ejecutado.\n",
    "- Si se ejecuta `exit`, sale de la función y del script.\n",
    "- Se debe usar `return`, si se desea salir de la función, pero permanecer en el script.\n",
    "- La forma de usar `return` es idéntica a `exit`.\n",
    "- `return` no está pensado para devolver valores desde la función, sino para enviar el estado de salida (igual que exit)."
   ]
  },
  {
   "cell_type": "code",
   "execution_count": null,
   "metadata": {},
   "outputs": [],
   "source": [
    "fun2(){\n",
    "    echo \"Número de parámetros: $#.\"\n",
    "    echo \"El valor del parámetro 1 es: $1.\"\n",
    "    echo \"El valor del parámetro 2 es: $2.\"\n",
    "    return 1 \n",
    "    echo \"Cadena con todos los parámetros: $@.\"\n",
    "    echo \"Arreglo con todos los parámetros: $*.\"\n",
    "}"
   ]
  },
  {
   "cell_type": "code",
   "execution_count": null,
   "metadata": {},
   "outputs": [],
   "source": [
    "fun hola mundo\n",
    "echo $?"
   ]
  },
  {
   "cell_type": "code",
   "execution_count": null,
   "metadata": {},
   "outputs": [],
   "source": [
    "fun2 hola mundo\n",
    "echo $?"
   ]
  },
  {
   "cell_type": "markdown",
   "metadata": {},
   "source": [
    "##### Retorno de valores"
   ]
  },
  {
   "cell_type": "markdown",
   "metadata": {},
   "source": [
    "- Para devolver valores desde una función a la salida estándar, se usa `echo`.\n",
    "- También es posible modificar variables globales. En general, esta opción no es muy recomendable."
   ]
  },
  {
   "cell_type": "code",
   "execution_count": null,
   "metadata": {},
   "outputs": [],
   "source": [
    "suma(){\n",
    "    echo $(($1+$2))\n",
    "}\n",
    "\n",
    "suma 3 6"
   ]
  },
  {
   "cell_type": "code",
   "execution_count": null,
   "metadata": {},
   "outputs": [],
   "source": [
    "var=\"\"\n",
    "suma2(){\n",
    "    var=$(($1+$2))\n",
    "}\n",
    "\n",
    "suma2 3 6 #Guarda la suma en var, pero no imprime nada."
   ]
  },
  {
   "cell_type": "code",
   "execution_count": null,
   "metadata": {},
   "outputs": [],
   "source": [
    "echo $var"
   ]
  },
  {
   "cell_type": "code",
   "execution_count": null,
   "metadata": {},
   "outputs": [],
   "source": [
    "var=\"\"\n",
    "suma2 #En caso de error no se asigna dada a var."
   ]
  },
  {
   "cell_type": "code",
   "execution_count": null,
   "metadata": {},
   "outputs": [],
   "source": [
    "echo $var"
   ]
  },
  {
   "cell_type": "markdown",
   "metadata": {},
   "source": [
    "### Variables II"
   ]
  },
  {
   "cell_type": "markdown",
   "metadata": {},
   "source": [
    "#### Ámbito de las variables"
   ]
  },
  {
   "cell_type": "markdown",
   "metadata": {},
   "source": [
    "##### Variables globales y locales."
   ]
  },
  {
   "cell_type": "markdown",
   "metadata": {},
   "source": [
    "- Por defecto las variables que creamos son locales.\n",
    "- Si abrimos otro proceso hijo, este no conocerá el valor de la variable definida."
   ]
  },
  {
   "cell_type": "code",
   "execution_count": null,
   "metadata": {},
   "outputs": [],
   "source": [
    "var=12"
   ]
  },
  {
   "cell_type": "code",
   "execution_count": null,
   "metadata": {},
   "outputs": [],
   "source": [
    "x-terminal-emulator #Creamos un proceso hijo y probamos."
   ]
  },
  {
   "cell_type": "code",
   "execution_count": null,
   "metadata": {},
   "outputs": [],
   "source": [
    "#export hace que la variable sea visible en los procesos hijos (la hace global).\n",
    "export var #Hacemos que var sea global.\n",
    "x-terminal-emulator #Creamos un proceso hijo y probamos."
   ]
  },
  {
   "cell_type": "code",
   "execution_count": null,
   "metadata": {},
   "outputs": [],
   "source": [
    "#Para eliminar una variable se usa:\n",
    "unset var\n",
    "echo $var #Ya no está.\n",
    "#La variable seguirá visible en los hijos previos a la eliminación.\n",
    "#Sólo que ya no se cargará en los futuros hijos."
   ]
  },
  {
   "cell_type": "code",
   "execution_count": null,
   "metadata": {},
   "outputs": [],
   "source": [
    "x-terminal-emulator #Creamos un proceso hijo y probamos."
   ]
  },
  {
   "cell_type": "markdown",
   "metadata": {},
   "source": [
    "##### Ámbito de las variables en funciones"
   ]
  },
  {
   "cell_type": "code",
   "execution_count": null,
   "metadata": {},
   "outputs": [],
   "source": [
    "var=\"\"\n",
    "fun(){\n",
    "    var=1\n",
    "    var2=2\n",
    "}\n",
    "\n",
    "#Por defecto el ámbito de las variables en la función es el mismo que afuera.\n",
    "#Esto es lo opuesto a lo que sucede en la mayoría de los lenguajes de programación.\n",
    "fun\n",
    "echo $var $var2"
   ]
  },
  {
   "cell_type": "code",
   "execution_count": null,
   "metadata": {},
   "outputs": [],
   "source": [
    "unset var var2\n",
    "echo $var $var2 #Las eliminamos."
   ]
  },
  {
   "cell_type": "code",
   "execution_count": null,
   "metadata": {},
   "outputs": [],
   "source": [
    "#Hay que forzar a que las variables sean locales con «local».\n",
    "var=0\n",
    "fun(){\n",
    "    local var=1\n",
    "    local var2=2\n",
    "    echo ·$var y $var2 desde la función.\n",
    "}\n",
    "\n",
    "#Por defecto el ámbito de las variables en la función es el mismo que afuera.\n",
    "#Esto es lo opuesto a lo que sucede en la mayoría de los lenguajes de programación.\n",
    "fun\n",
    "echo $var y $var2 desde afuera #Ahora sí. Además var2 no existe afuera."
   ]
  },
  {
   "cell_type": "markdown",
   "metadata": {},
   "source": [
    "##### Forzar tipado"
   ]
  },
  {
   "cell_type": "markdown",
   "metadata": {},
   "source": [
    "Con `declare` se puede forzar a que las variables sean de tipo entero."
   ]
  },
  {
   "cell_type": "code",
   "execution_count": null,
   "metadata": {},
   "outputs": [],
   "source": [
    "declare -i entero1=10\n",
    "declare -i entero2=4\n",
    "declare -i entero3\n",
    "entero1+=3\n",
    "entero3=$entero1*$entero2\n",
    "echo $entero1\n",
    "echo $entero3"
   ]
  },
  {
   "cell_type": "code",
   "execution_count": null,
   "metadata": {},
   "outputs": [],
   "source": [
    "#Si intentamos darle un valor no entero:\n",
    "entero1=Hola\n",
    "echo $entero1 #Le asigna 0."
   ]
  },
  {
   "cell_type": "code",
   "execution_count": null,
   "metadata": {},
   "outputs": [],
   "source": [
    "unset var var2\n",
    "echo $var $var2 #Las eliminamos."
   ]
  },
  {
   "cell_type": "code",
   "execution_count": null,
   "metadata": {},
   "outputs": [],
   "source": [
    "#Por defecto «declare» es local.\n",
    "declare -i var=0\n",
    "fun(){\n",
    "    declare -i var=1\n",
    "    declare -i var2=2\n",
    "    echo ·$var y $var2 desde la función.\n",
    "}\n",
    "\n",
    "fun\n",
    "echo $var y $var2 desde afuera"
   ]
  },
  {
   "cell_type": "code",
   "execution_count": null,
   "metadata": {},
   "outputs": [],
   "source": [
    "fun(){\n",
    "    declare -gi var=13 #Con -g deja de ser local.\n",
    "}\n",
    "\n",
    "fun\n",
    "echo $var"
   ]
  },
  {
   "cell_type": "markdown",
   "metadata": {},
   "source": [
    "#### Comandos en variables"
   ]
  },
  {
   "cell_type": "markdown",
   "metadata": {},
   "source": [
    "##### Almacenar el comando."
   ]
  },
  {
   "cell_type": "code",
   "execution_count": null,
   "metadata": {},
   "outputs": [],
   "source": [
    "comando=\"ls -l ./script\" #Se almacena el comando.\n",
    "echo $comando"
   ]
  },
  {
   "cell_type": "code",
   "execution_count": null,
   "metadata": {},
   "outputs": [],
   "source": [
    "eval $comando #Se evalúa el comando almacenado."
   ]
  },
  {
   "cell_type": "markdown",
   "metadata": {},
   "source": [
    "##### Almacenar la salida de un comando"
   ]
  },
  {
   "cell_type": "code",
   "execution_count": null,
   "metadata": {},
   "outputs": [],
   "source": [
    "comando=$(ls -l ./script) #Se ejecuta y se almacena la salida.\n",
    "echo $comando #Se sustituyen los salto de linea por espacios."
   ]
  },
  {
   "cell_type": "code",
   "execution_count": null,
   "metadata": {},
   "outputs": [],
   "source": [
    "#Con las comillas inclinadas, se obtiene el mismo resultado:\n",
    "comando2=`ls -l ./script` #Se ejecuta y se almacena la salida.\n",
    "echo $comando2 #Se sustituyen los salto de linea por espacios."
   ]
  },
  {
   "cell_type": "code",
   "execution_count": null,
   "metadata": {},
   "outputs": [],
   "source": [
    "# Si se usan comillas, se respetan los caracteres especiales guardados.\n",
    "echo \"$comando2\"\n",
    "echo -e \"\\n---------\\n\"\n",
    "echo \"$comando2\""
   ]
  },
  {
   "cell_type": "markdown",
   "metadata": {},
   "source": [
    "#### Almacenar la salida de una función"
   ]
  },
  {
   "cell_type": "code",
   "execution_count": null,
   "metadata": {},
   "outputs": [],
   "source": [
    "#Las funciones se usan de manera similar a los comandos.\n",
    "suma(){\n",
    "    declare -i var1=$1\n",
    "    declare -i var2=$2\n",
    "    declare -i suma=$1+$2\n",
    "    echo \"$suma\"\n",
    "}\n",
    "var=$(suma 5 -6) #De esta forma se almacenamos en una variable, la salida de la función."
   ]
  },
  {
   "cell_type": "code",
   "execution_count": null,
   "metadata": {},
   "outputs": [],
   "source": [
    "echo $var #Leemos el resultado."
   ]
  },
  {
   "cell_type": "code",
   "execution_count": null,
   "metadata": {},
   "outputs": [],
   "source": [
    "#De manera equivalente:\n",
    "var=`suma 32 3`\n",
    "echo $var"
   ]
  },
  {
   "cell_type": "code",
   "execution_count": null,
   "metadata": {},
   "outputs": [],
   "source": [
    "# Una función no inicia un nuevo proceso cuando se ejecuta.\n",
    "fun(){\n",
    "    echo $0\n",
    "    echo $$\n",
    "}\n",
    "\n",
    "fun"
   ]
  },
  {
   "cell_type": "code",
   "execution_count": null,
   "metadata": {},
   "outputs": [],
   "source": [
    "#Sería equivalente a:\n",
    "echo $0\n",
    "echo $$"
   ]
  },
  {
   "cell_type": "code",
   "execution_count": null,
   "metadata": {},
   "outputs": [],
   "source": [
    "# Ni siquiera al ejecutar la función en un subshell.\n",
    "#Lo que se ejecuta en el subshell son los comandos que contiene.\n",
    "var=$(fun)\n",
    "echo $var\n",
    "echo -e \"\\n---------\\n\"\n",
    "echo \"$var\""
   ]
  },
  {
   "cell_type": "code",
   "execution_count": null,
   "metadata": {},
   "outputs": [],
   "source": [
    "#Lo anterior es equivalente a:\n",
    "var1=$(echo $0;echo $$)\n",
    "echo \"$var1\""
   ]
  },
  {
   "cell_type": "code",
   "execution_count": null,
   "metadata": {},
   "outputs": [],
   "source": [
    "#Una definición alternativa para controlar mejor la salida estándar con un sólo echo.\n",
    "fun(){\n",
    "    local salida=\"\"\n",
    "    salida=\"$0\\n\"\n",
    "    salida+=\"$$\"\n",
    "    echo -e \"$salida\"\n",
    "}\n",
    "fun\n",
    "\n",
    "#También podemos almacenarla en var.\n",
    "echo -e \"\\n---------\\n\"\n",
    "var=$(fun)\n",
    "echo \"$var\""
   ]
  },
  {
   "cell_type": "code",
   "execution_count": null,
   "metadata": {},
   "outputs": [],
   "source": [
    "# Existe una forma para retornar la salida de una función, que no usa variables globales, ni la salida estándar.\n",
    "fun (){\n",
    "    #Crea una variable local que conecta con otra que se pasa como parámetros (el cuarto).\n",
    "    local -n salida=$4 #Se debe comprobar antes, que existe el cuarto parámetro o dará error.\n",
    "    salida=\"Los parámetros son: $@\" #Escribimos en la variable salida que está conectada al cuarto parámetro.\n",
    "}\n",
    "\n",
    "fun 2 3 var #error.\n",
    "echo -e \"\\n---------\\n\"\n",
    "fun 2 3 4 7 var1 #error.\n",
    "echo -e \"\\n---------\\n\"\n",
    "fun 2 3 4 var2 #funciona.\n",
    "echo $var2"
   ]
  },
  {
   "cell_type": "code",
   "execution_count": null,
   "metadata": {},
   "outputs": [],
   "source": [
    "#Una forma más general, es usar el primer argumento o el último para pasar la variable.\n",
    "#Para el primero basta con usar $1, sin importar cuantos se agreguen después.\n",
    "#En caso de que se desee usar el último, la cosa se complica un poquito:\n",
    "fun (){\n",
    "    #Se debe comprobar antes que se ha pasado un nombre de variable como parámetro. \n",
    "    #De lo contrario habrá un error.\n",
    "    local -n salida=${!#} #El significado de ${!#} se explica más abajo.\n",
    "    salida=\"Los parámetros son: $@\"\n",
    "}"
   ]
  },
  {
   "cell_type": "code",
   "execution_count": null,
   "metadata": {
    "scrolled": false
   },
   "outputs": [],
   "source": [
    "#Da error por no pasarle la variable de salida. \n",
    "#Hay que comprobar antes de crear la variable «salida».\n",
    "fun \n",
    "echo -e \"\\n---------\\n\"\n",
    "fun var1\n",
    "echo $var1\n",
    "echo -e \"\\n---------\\n\"\n",
    "fun 2 3 4 var2\n",
    "echo $var2\n",
    "echo -e \"\\n---------\\n\"\n",
    "fun 2 3 4 56 7 9 var3\n",
    "echo $var3"
   ]
  },
  {
   "cell_type": "markdown",
   "metadata": {},
   "source": [
    "#### Almacenar la salida de un script"
   ]
  },
  {
   "cell_type": "code",
   "execution_count": null,
   "metadata": {},
   "outputs": [],
   "source": [
    "cat ./script/script2.sh\n",
    "chmod +x ./script/script2.sh"
   ]
  },
  {
   "cell_type": "code",
   "execution_count": null,
   "metadata": {},
   "outputs": [],
   "source": [
    "var=$(./script/script2.sh)#Se ejecuta en otro proceso y envía la salida al actual."
   ]
  },
  {
   "cell_type": "code",
   "execution_count": null,
   "metadata": {},
   "outputs": [],
   "source": [
    "echo \"$var\""
   ]
  },
  {
   "cell_type": "code",
   "execution_count": null,
   "metadata": {},
   "outputs": [],
   "source": [
    "echo $$ #Nuestro proceso."
   ]
  },
  {
   "cell_type": "markdown",
   "metadata": {},
   "source": [
    "#### Almacenar el nombre de una variable en otra"
   ]
  },
  {
   "cell_type": "code",
   "execution_count": null,
   "metadata": {},
   "outputs": [],
   "source": [
    "var1=10 #Guardamos el valor 10\n",
    "var2=var1 #Almacenamos el nombre de otra variable."
   ]
  },
  {
   "cell_type": "code",
   "execution_count": null,
   "metadata": {},
   "outputs": [],
   "source": [
    "echo $var2"
   ]
  },
  {
   "cell_type": "code",
   "execution_count": null,
   "metadata": {},
   "outputs": [],
   "source": [
    "echo ${!var2} #Accedemos al valor de var1, por medio del nombre guardado en var2."
   ]
  },
  {
   "cell_type": "code",
   "execution_count": null,
   "metadata": {},
   "outputs": [],
   "source": [
    "eval ${var2}=11 #Se reescribe el valor de var1, desde el nombre en var2."
   ]
  },
  {
   "cell_type": "code",
   "execution_count": null,
   "metadata": {},
   "outputs": [],
   "source": [
    "echo $var1"
   ]
  },
  {
   "cell_type": "code",
   "execution_count": null,
   "metadata": {},
   "outputs": [],
   "source": [
    "#Este ejemplo es parecido a uno de arriba.\n",
    "fun (){\n",
    "    echo \"Hay $# parámetros\"\n",
    "    #Se toma el nombre almacenado en la variable #, como el nombre del último parámetro..\n",
    "    echo \"El último parámetro es: ${!#}\"\n",
    "}\n",
    "fun 4 1 hola"
   ]
  },
  {
   "cell_type": "markdown",
   "metadata": {},
   "source": [
    "### Ejecución de scripts II"
   ]
  },
  {
   "cell_type": "markdown",
   "metadata": {},
   "source": [
    "Cuando se ejecuta un script desde otro de esta forma:"
   ]
  },
  {
   "cell_type": "code",
   "execution_count": null,
   "metadata": {},
   "outputs": [],
   "source": [
    "cat ./script/script1.sh"
   ]
  },
  {
   "cell_type": "code",
   "execution_count": null,
   "metadata": {},
   "outputs": [],
   "source": [
    "cat ./script/script2.sh"
   ]
  },
  {
   "cell_type": "code",
   "execution_count": null,
   "metadata": {},
   "outputs": [],
   "source": [
    "bash ./script/script1.sh #Se ejecutan en procesos separados."
   ]
  },
  {
   "cell_type": "markdown",
   "metadata": {},
   "source": [
    "Si usamos `source` o `.`."
   ]
  },
  {
   "cell_type": "code",
   "execution_count": null,
   "metadata": {},
   "outputs": [],
   "source": [
    "cat ./script/script3.sh"
   ]
  },
  {
   "cell_type": "code",
   "execution_count": null,
   "metadata": {
    "scrolled": true
   },
   "outputs": [],
   "source": [
    "bash ./script/script3.sh #De esta forma se ejecuta todo en el mismo proceso."
   ]
  },
  {
   "cell_type": "markdown",
   "metadata": {},
   "source": [
    "Lo anterior es equivalente a que se hubiera escrito todo en un mismo script:\n",
    "```bash\n",
    "var1=2\n",
    "var1=34\n",
    "echo \"var1 = $var1 en script2.sh.\"\n",
    "echo \"El PID de script2.sh es: $$.\"\n",
    "echo \"var1 = $var1 en script3.sh\"\n",
    "echo \"El PID de script3.sh es: $$.\"\n",
    "```\n",
    "\n",
    "Esta técnica se usa para dividir un script en varias partes. Y de esa forma organizar mejor el código. Además al dividir los scripts en varios, se facilita la reutilización de código.."
   ]
  },
  {
   "cell_type": "code",
   "execution_count": null,
   "metadata": {},
   "outputs": [],
   "source": [
    "#Otro ejemplo.\n",
    "var1=12\n",
    "echo \"var1 = $var1 desde la terminal.\"\n",
    "echo \"El PID de Bash en la terminal es: $$.\"\n",
    "echo \"---------------\"\n",
    "bash ./script/script2.sh #Ejecutado usando el intérprete.\n",
    "echo \"---------------\"\n",
    "echo \"var1 = $var1 desde la terminal.\"\n",
    "echo \"El PID de Bash en la terminal es: $$.\"\n",
    "echo \"---------------\"\n",
    "./script/script2.sh #Ejecutamos directamente el script.\n",
    "echo \"---------------\"\n",
    "echo \"var1 = $var1 desde la terminal.\"\n",
    "echo \"El PID de Bash en la terminal es: $$.\"\n",
    "echo \"---------------\"\n",
    "source ./script/script2.sh #Usando source.\n",
    "echo \"---------------\"\n",
    "echo \"var1 = $var1 desde la terminal.\"\n",
    "echo \"El PID de Bash en la terminal es: $$.\""
   ]
  },
  {
   "cell_type": "code",
   "execution_count": null,
   "metadata": {},
   "outputs": [],
   "source": [
    "type source; type #No son alias."
   ]
  },
  {
   "cell_type": "markdown",
   "metadata": {},
   "source": [
    "Los comandos `source` y `.`, son independientes entre sí. En otras palabras, `source` no es un alias de `.`, ni viceversa. \n",
    "\n",
    "Estos comandos son considerados sinónimos, es decir, son comandos distintos (tienen distintas implementaciones) que hacen exactamente lo mismo.\n",
    "\n",
    "Al parecer `.` pertenece al estándar [POSIX](https://pubs.opengroup.org/onlinepubs/9699919799/utilities/V3_chap02.html#dot). Esto lo hace más portable (que es más probable que esté soportado en todos los sistemas operativos o __shells__ que usan el estándar __POSIX__) que `source`."
   ]
  },
  {
   "cell_type": "markdown",
   "metadata": {},
   "source": [
    "### Guardar las definiciones de forma permanente"
   ]
  },
  {
   "cell_type": "markdown",
   "metadata": {},
   "source": [
    "Las definiciones de variables, alias y funciones se pierden cuando se cierra el proceso Bash en donde fueron creadas.\n",
    "Para conservar las definiciones, es necesario escribirlas en uno de los archivos de configuración de bash.\n",
    "\n",
    "Tipo de archivo | Archivos de configuración de shell (login) | Archivos de configuración shell (interactivos «no login»)\n",
    ":-- | :-- | :--\n",
    "Global | `/etc/profile` y ficheros en `/etc/profile.d` | `/etc/bashrc` o `/etc/bash.bashrc`\n",
    "Usuario | `~/.bash_login`, `~/.profile`, o `~/.bash_profile` | `~/.bashrc`\n",
    "\n",
    "Los archivos de configuración se llaman unos a otros.\n",
    "\n",
    "El orden de prioridad se puede ver en el siguiente esquema:\n",
    "\n",
    "<img src=\"img/AC.png\" width=\"30%\"/>\n",
    "\n",
    "- Si existen los directorios `/etc/profile.d`, estos son llamados directamente por `/etc/profile`.\n",
    "- Los archivos de __configuración de login__, sólo se ejecutan al inicio de sesión. Si se desea que los valores almacenados en las variables, permanezcan en los proceso subsecuente, es necesario usar `export`.\n",
    "- Los archivos de __configuración interactivos__, se ejecutan siempre que se inicia un nuevo proceso `bash` (Al abrir una nueva terminal o si lanzamos directamente el intérprete `bash`). Las variables definidas no necesitan ser __globales__ (no es necesario usar `export`), ya que estas se leen siempre que se inicia un subproceso `bash`​.\n",
    "- En algunas distribuciones como __Debian__ y derivadas, existe un archivo llamado `/etc/environment`. No es un script de bash, por tanto, hay que escribir la ruta explícitamente (No se puede leer variables o ejecutar comandos). Este archivo forma parte del módulo [pam_env](http://manpages.ubuntu.com/manpages/bionic/en/man8/pam_env.8.html) de [linux-PAM](https://es.linux-console.net/?p=141). Eestá diseñado para almacenar variables de entorno como __PATH__. El archivo se lee al inicio de sesión. Aunque no se recomienda modificarlo manualmente, es posible modificar las variables de entorno desde ahí (__PATH__).  Es preferible modificar las variables de entorno desde los scripts antes citados."
   ]
  },
  {
   "cell_type": "markdown",
   "metadata": {},
   "source": [
    "Es posible exportar la definición de un función, mediante `export -f [nombre_fun]`.\n",
    "Esto es necesario si se quiere almacenar la definición en un archivo de __login__."
   ]
  },
  {
   "cell_type": "code",
   "execution_count": null,
   "metadata": {
    "scrolled": true
   },
   "outputs": [],
   "source": [
    "export -f fun\n",
    "x-terminal-emulator"
   ]
  },
  {
   "cell_type": "code",
   "execution_count": null,
   "metadata": {},
   "outputs": [],
   "source": [
    "unset -f fun #Eliminamos la definición.\n",
    "x-terminal-emulator"
   ]
  },
  {
   "cell_type": "markdown",
   "metadata": {},
   "source": [
    "Los alias no se pueden exportar, así que hay que almacenarlos en los archivos __interactivos__.\n",
    "\n",
    "Para eliminar la definición de un alias en del proceso __bash__ actual, se usa `unalias`."
   ]
  },
  {
   "cell_type": "code",
   "execution_count": null,
   "metadata": {
    "scrolled": true
   },
   "outputs": [],
   "source": [
    "miecho \"u\\nn\"\n",
    "unalias miecho\n",
    "echo -e \"\\n---------\\n\"\n",
    "miecho \"u\\nn\""
   ]
  }
 ],
 "metadata": {
  "kernelspec": {
   "display_name": "Bash",
   "language": "bash",
   "name": "bash"
  },
  "language_info": {
   "codemirror_mode": "shell",
   "file_extension": ".sh",
   "mimetype": "text/x-sh",
   "name": "bash"
  }
 },
 "nbformat": 4,
 "nbformat_minor": 4
}
