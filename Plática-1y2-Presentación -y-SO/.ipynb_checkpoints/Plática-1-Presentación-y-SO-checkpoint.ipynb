{
 "cells": [
  {
   "cell_type": "markdown",
   "metadata": {},
   "source": [
    "# Tópicos avanzados de programación con Julia"
   ]
  },
  {
   "cell_type": "markdown",
   "metadata": {},
   "source": [
    "## _Presentación y Sistemas Operativos_\n",
    "\n"
   ]
  },
  {
   "cell_type": "markdown",
   "metadata": {},
   "source": [
    " "
   ]
  },
  {
   "cell_type": "markdown",
   "metadata": {},
   "source": [
    "## Presentación del taller"
   ]
  },
  {
   "cell_type": "markdown",
   "metadata": {},
   "source": [
    "### Objetivo General"
   ]
  },
  {
   "cell_type": "markdown",
   "metadata": {},
   "source": [
    "Crear una base sólida sobre la cual construir algoritmos robustos y eficientes para la librería de sistemas dinámicos en Julia."
   ]
  },
  {
   "cell_type": "markdown",
   "metadata": {},
   "source": [
    "### Objetivos Específicos"
   ]
  },
  {
   "cell_type": "markdown",
   "metadata": {},
   "source": [
    "1. Recomendaciones generales y buenas prácticas al crear el entorno de desarrollo.\n",
    "2. Tratamiento de errores mediante la depuración y buenas prácticas de programación.\n",
    "3. Mejora del rendimiento del código mediante la perfilación y el análisis de la complejidad del mismo.\n",
    "4. Mejora del rendimiento del código mediante la programación en paralelo."
   ]
  },
  {
   "cell_type": "markdown",
   "metadata": {},
   "source": [
    "### Temario para cubrir el objetivo 1"
   ]
  },
  {
   "cell_type": "markdown",
   "metadata": {},
   "source": [
    "__Recomendaciones generales y buenas prácticas al crear el entorno de desarrollo.__\n",
    "- Sistemas operativos.\n",
    "  - Definición, estructura y funciones de un sistema operativo.\n",
    "  - Sistemas de archivo.\n",
    "    - Sistema de archivos en Windows.\n",
    "    - Sistema virtual de archivos (VFS) en sistemas Nix.\n",
    "    - Estructura del VFS en GNU/Linux.\n",
    "  - El entorno de desarrollo en Windows.\n",
    "  - Arquitectura de sistemas operativos GNU/Linux.\n",
    "  - Particiones, formatos y recomendaciones para la instalación de Ubuntu.\n",
    "  - Intérprete de linea de comandos (CLI).\n",
    "    - Comandos.\n",
    "    - Intérpretes de comandos.\n",
    "      - El intérprete de comandos BASH.\n",
    "      - El prompt por defecto de BASH.\n",
    "      - Otros intérpretes.\n",
    "    - Terminales y pseudo terminales.\n",
    "    - Estructura de los comandos.\n",
    "    - Ejemplos de comandos.\n",
    "  - Administración básica de sistemas GNU/Linux.\n",
    "- Introducción a la automatización de tareas con BASH Scripting.\n",
    "- Mini proyecto de BASH Scripting (Instalador para el taller TAPJ).\n",
    "\n",
    "    "
   ]
  },
  {
   "cell_type": "markdown",
   "metadata": {},
   "source": [
    "## Sistemas Operativos"
   ]
  },
  {
   "cell_type": "markdown",
   "metadata": {},
   "source": [
    "### ¿Qué es un sistema operativo?"
   ]
  },
  {
   "cell_type": "markdown",
   "metadata": {},
   "source": [
    "- Programa o conjunto de programas que gestionan los recursos de hardware de un ordenador.\n",
    "- Intermediario entre la máquina y el humano."
   ]
  },
  {
   "cell_type": "markdown",
   "metadata": {},
   "source": [
    "### Estructura básica de un sistema operativo"
   ]
  },
  {
   "cell_type": "markdown",
   "metadata": {},
   "source": [
    "<img src=\"img/SO.svg\" width=\"50%\"/>"
   ]
  },
  {
   "cell_type": "markdown",
   "metadata": {},
   "source": [
    "### Funciones de un sistema operativo"
   ]
  },
  {
   "cell_type": "markdown",
   "metadata": {},
   "source": [
    "<img src=\"img/SO3.svg\" width=\"50%\"/>"
   ]
  },
  {
   "cell_type": "markdown",
   "metadata": {},
   "source": [
    "### Sistemas de archivo"
   ]
  },
  {
   "cell_type": "markdown",
   "metadata": {},
   "source": [
    "#### Sistema de archivos en Windows"
   ]
  },
  {
   "cell_type": "markdown",
   "metadata": {},
   "source": [
    "<img src=\"img/wfs.png\" width=\"30%\"/>"
   ]
  },
  {
   "cell_type": "markdown",
   "metadata": {},
   "source": [
    "En este artículo cuentan por qué Windows usa el caracter \\ para separar los directorios padres de los directorios hijos.\n",
    "Pueden ver el artículo [aquí](https://www.muycomputer.com/2014/02/10/por-que-se-usa-la-barra-invertida-en-windows/)."
   ]
  },
  {
   "cell_type": "markdown",
   "metadata": {},
   "source": [
    "#### Sistema virtual de archivos (VFS) en sistemas Nix"
   ]
  },
  {
   "cell_type": "markdown",
   "metadata": {},
   "source": [
    "<img src=\"img/vfs.png\" width=\"70%\"/>"
   ]
  },
  {
   "cell_type": "markdown",
   "metadata": {},
   "source": [
    "#### Estructura del VFS en GNU/Linux"
   ]
  },
  {
   "cell_type": "markdown",
   "metadata": {},
   "source": [
    "- Se denomina Sistema Virtual de Archivos, porque prácticamente todo se simula como un archivo o un directorio.\n",
    "  - Los archivos reales almacenados en el disco.\n",
    "  - Memorias usb, Teclado, Mause, Procesos en ejecución, etc.\n",
    "- Sólo algunos dispositivos como las interfaces de red, no se consideran archivos del VFS.\n",
    "- El sistema virtual de archivos tiene una estructura jerárquica absoluta. Todos los directorios dentro del VFS descienden del directorio raíz / (No confundir con el directorio /root, que es el equivalente a la carpeta \"/home\" del usuario root). "
   ]
  },
  {
   "cell_type": "markdown",
   "metadata": {},
   "source": [
    "Directorios | Descripción\n",
    ":-- | :--\n",
    "/|Directorio raíz principal del sistema de archivos virtual.\n",
    "/boot|Contiene una imagen del kernel, e información de arranque del sistema operativo.\n",
    "/dev|Dispositivos reconocidos por el sistema.\n",
    "/home|Directorios de los “usuarios comunes”.\n",
    "/media|Puntos de montajes para medios extraíbles.\n",
    "/root|Directorio home del superusuario.\n",
    "/etc|Directorio de archivos de configuración.\n",
    "/bin - /sbin|Binarios ejecutables.\n",
    "/opt|Contiene los programas que no se proporcionan en los repositorios oficiales del sistema.\n",
    "/proc|Directorio que contiene los procesos en ejecución.\n",
    "/tmp|Archivos temporales.\n",
    "\n",
    "Pueden ver una descripción más detallada del VFS [aquí](https://es.wikipedia.org/wiki/Filesystem_Hierarchy_Standard#Especificando_los_directorios_definidos_por_FHS)."
   ]
  },
  {
   "cell_type": "markdown",
   "metadata": {},
   "source": [
    "Podemos distinguir algunos directorios especiales del VFS:\n",
    "\n",
    "Directorios | Representación | Descripción\n",
    ":-- | :-- | :--\n",
    "Directorio actual | __.__ | El símbolo (punto) representa al directorio actual en el que estamos ubicados (nosotros o algún proceso cualquiera).\n",
    "Directorio padre del directorio actual | __..__ | En general, podemos referirnos al padre de este (al padre del padre del directorio actual), si es que existe, como __../..__ y así sucesivamente (__../../..__ $\\cdots$) hasta llegar al directorio __/__.\n",
    "Directorio personal | __~__ | .Directorio personal del usuario actual.\n",
    "\n",
    "La ruta a un directorio o archivo concreto, puede ser dada de manera absoluta (desde el directorio /) o relativa al directorio actual.\n",
    "\n",
    "__Ejemplo:__\n",
    "\n",
    "Supongamos que estamos en nuestro directorio personal (En mi caso en __/home/luis__) y queremos abrir un archivo de texto:\n",
    "\n",
    "a) Supongamos que se trata de un archivo llamado __curso__ que está ubicado en el directorio de descargas (en mi caso __/home/luis/Descargas__)\n",
    "Podemos acceder a él de tres formas:\n",
    "  1. __/home/luis/Descargas/curso__ (ruta absoluta).\n",
    "  2. __./Descargas/curso__ (ruta relativa al directorio actual, la cual es válida para cualquier directorio).\n",
    "  3. __~/Descargas/curso__ (ruta relativa al directorio personal, no es necesario estar ubicado en __/home/luis__ para usar este método).\n",
    "  \n",
    "b) Llamado __bash.bashrc__ y ubicado en el directorio __/etc__.\n",
    "  1. __/etc/bash.bashrc__ (ruta absoluta).\n",
    "  2. __../../etc/bash.bashrc__ (ruta relativa al directorio actual, el cual suponemos que está dos niveles debajo del directorio __/__).\n",
    "  3. __~/../../etc/bash.bashrc__ (ruta relativa al directorio personal, no es necesario estar ubicado en __/home/luis__ para usar este método).\n",
    "\n",
    "\n"
   ]
  },
  {
   "cell_type": "markdown",
   "metadata": {},
   "source": [
    "### El entorno de desarrollo en Windows."
   ]
  },
  {
   "cell_type": "markdown",
   "metadata": {},
   "source": [
    "Descargar [Julia](https://julialang.org/downloads/), [Anaconda](https://www.anaconda.com/products/individual)/[Miniconda](https://docs.conda.io/en/latest/miniconda.html) y [Atom](https://atom.io/)\n"
   ]
  },
  {
   "cell_type": "markdown",
   "metadata": {},
   "source": [
    "Instalar todo es completamente intuitivo. Sólo hay que seguir los pasos y continuar."
   ]
  },
  {
   "cell_type": "markdown",
   "metadata": {},
   "source": [
    "Abrir Julia en algún terminal de Windows (PowerShell o cmd) y ejecutar las instrucciones:\n",
    "```\n",
    "using Pkg\n",
    "Pkg.add(\"IJulia\")\n",
    "```\n",
    "Con esto ya Jupyter debería de reconocer el kernel de Julia.\n",
    "Sólo falta configurar la variable de entorno PATH de Windows e instalar Juno en Atom para que este también conecte con Julia (explicación en directo).\n",
    "\n",
    "__(Opcional)__\n",
    "Finalmente se instala el subsistema de Linux para Windows (explicación en directo)\n",
    "\n",
    "Este subsistema permite instalar una distribución completa en Windows (De momento no hay soporte oficial para los entorno gráfico). Esto permite una gran [interoperatividad](https://docs.microsoft.com/es-es/windows/wsl/interop) entre ambos sistemas.\n",
    "\n",
    "Este subsistema ha causado mucha controversia. Incluso algunos predicen una [posible convergencia](https://www.muycomputer.com/2020/09/28/windows-y-linux-convergencia/) entre Windows y Linux. Personalmente yo comparte más la opinión del autor de [este artículo](https://www.muylinux.com/2020/09/28/linux-windows-convergencia-escritorio/).\n",
    "\n",
    "__(Opcional)__\n",
    "Puedes crear una live usb que almacene los programas instalados y guarde la información personal con [YUMI](https://www.pendrivelinux.com/yumi-multiboot-usb-creator/).\n",
    "También admite instalar más de una distribución en la misma memoria usb.\n",
    "\n",
    "__(Opcional)__\n",
    "Se puede probar casi cualquier distribución en [este sitio](https://distrotest.net/)."
   ]
  },
  {
   "cell_type": "markdown",
   "metadata": {},
   "source": [
    "### Arquitectura de sistemas operativos GNU/Linux"
   ]
  },
  {
   "cell_type": "markdown",
   "metadata": {},
   "source": [
    "<img src=\"img/SO2.svg\" width=\"50%\"/>"
   ]
  },
  {
   "cell_type": "markdown",
   "metadata": {},
   "source": [
    "### Particiones, formatos y recomendaciones para la instalación de Ubuntu."
   ]
  },
  {
   "cell_type": "markdown",
   "metadata": {},
   "source": [
    "Particiones:\n",
    "\n",
    "Tabla de particiones | Programa para gestión de particiones | Características\n",
    ":-- | :-- | :-- \n",
    "__mbr__ (Master Boot Record). | __fdisk__ | Era la tabla de particiones compatible con el programa __BIOS__ (Basic Input-Output System). Sólo soporta $4$ particiones primarias y un tamaño máximo de $2$ TB por disco. Una de las particiones primarias pueden hacerse extendida, para alojar en su interior a todas las particiones lógicas que se necesiten.\n",
    "__gpt__ (GUID Partition Table). | __gdisk__ | Es el remplazo de __mbr__ y llegó junto a __UEFI__ (Unified Extensible Firmware Interface). Soporta 128 particiones primarias y $9.4$ ZB = $10^9$ TB por disco.\n",
    "\n",
    "- Una comparativa más completa entre las tablas de particiones puede verse [aquí](https://www.muycomputer.com/2020/02/05/gpt-mejor-que-mbr-linux-windows/).\n",
    "En el artículo anterior, se puede encontrar una referencia a una comparativa similar entre [__BIOS__ y __UEFI__](https://www.muycomputer.com/2018/07/06/bios-y-uefi-guia/).\n",
    "- Además de los programas anteriores, el programa __parted__ puede trabajar con ambas tablas. En sistemas operativos que cuentan con escritorios, es común el uso de __GParted__ y de __KDE Partition Manager__.\n",
    "- En la práctica suelo configurar las particiones desde el programa de instalación. Generalmente uso __KDE Partition Manager__, para trabajar con las memorias usb o los discos externos.\n",
    "\n",
    "Para ver toda la información relativa a los discos y sus particiones, se puede usar el comando __parted__.\n",
    "\n",
    "Los discos y sus particiones en el __VFS__, son modelados como archivos del directorio __/dev__. La forma en que son representados depende del controlador que usa el sistema para detectarlos.\n",
    "    \n",
    "Representación en __/dev__ | Descripción | Ejemplo\n",
    ":-- | :-- | :-- \n",
    "__hdXY__ | Esta notación es usada para discos antiguos __IDE HDD__ (Integrated Device Electronic Hard Disc Drive) también conocidos como __ATA__ (Advanced Technology Attachment) o __PATA__ (Parallel Advanced Technology Attachment) $X \\in \\{a, b, c, ...\\}$ representa a una unidad de disco completa. $Y \\in \\{1, 2, 3, ...\\}$ representa a cada partición sobre el disco.| Supongamos que en mi equipo tengo conectados dos discos duros __IDE__. En el primero, tengo dos particiones y en el segundo tengo una. En este caso el sistema operativos detectaría los siguientes dispositivos __hda__, __hda1__, __hda2__, __hdb__ y __hdb1__.\n",
    "__sdXY__ | Esta notación es usada para discos __SCSI__ (Small Computer System), __SAS__ (Interface Serial Attached SCSI) y __SATA__ (Serial Advanced Technology Attachment). También es usado para las __memorias USB__. $X \\in \\{a, b, c, ...\\}$ representa a una unidad de disco completa. $Y \\in \\{1, 2, 3, ...\\}$ representa a cada partición sobre el disco. | Supongamos que en mi equipo tengo conectados un disco duro __SATA__ con dos particiones, una unidad de estados sólido (__SATA__) y una __memoria USB__. En este caso el sistema operativos detectaría los siguientes dispositivos __sda__, __sda1__, __sda2__, __sdb__, __sdb1__, __sdc__ y __sdc1__.\n",
    "__nvmeXn1pY__ | Se usa esta notación para representar discos __SSD__  que usan el controlador [__NVMe__](https://es.wikipedia.org/wiki/NVM_Express) (Non-Volatile Memory Express) que se conectan por el bus __PCIe__ (Peripheral Component Interconnect Express). $X \\in \\{0, 1, 2, ...\\}$ representa a una unidad de disco completa. $Y \\in \\{1, 2, 3, ...\\}$ representa a cada partición sobre el disco.. | Supongamos que en mi equipo tengo conectado 4 unidades de estado sólido por __PCIe__. El segundo y el tercero tienen 2 y 3 particiones respectivamente. En ese caso, el sistema detectaría los dispositivos __nvme0__, __nvme0n1__, __nvme0n1p1__, __nvme1__, __nvme1n1__, __nvme1n1p1__, __nvme1n1p2__, __nvme2__, __nvme2n1__, __nvme2n1p1__, __nvme2n1p2__, __nvme2n1p3__, __nvme3__, __nvme3n1__, __nvme3n1p1__.\n",
    "    \n",
    "Más información sobre las ventajas de __NVMe__ [aquí](https://www.pcworld.com/article/2899351/everything-you-need-to-know-about-nvme.html).\n",
    "\n",
    "En __/dev__ se colocan los dispositivos detectados por el sistema. Para que esto ocurra tiene que existir un controlador (que forma parte del kernel o añadido por el usuario) que sea capaz de reconocerlo. Desde __/dev__ no se puede acceder a la información de un dispositivos de almacenamiento. Hay que crear una ruta especial al contenido. Esto se conoce como crear un punto de montaje en el __VFS__ para el dispositivo o más simplemente « _montar el disco_ ». Para crear un punto de montaje se usa el comando __mount__. El directorio diseñado para crear los puntos de montajes es __/media__, o __/media/nombre-deusuario__ (En mi caso __/media/luis__). Esto no es obligatorio, pero es lo acostumbrado. No todos los puntos de montaje se colocan en __/media__. Por ejemplo la partición que contiene al sistema operativos se monta en __/__.\n",
    "\n",
    "El sistema operativo puede estar repartido en varias particiones. En ese caso, cada partición tiene un punto de montaje distinto del directorio __/__.\n",
    "\n",
    "Basado en lo anterior, podemos encontrar dos grupos de directorios:\n",
    "\n",
    "- Los que componen la parte más esencial del sistema y no pueden ser separados.\n",
    "  - __/bin__, __/sbin__, __/lib__, __/dev__, __/etc__.\n",
    "- Los que se pueden instalar en particiones y discos distintos.\n",
    "  - __/home__, __/opt__, __/tmp__, __/var__, __/boot__, __/media__, ...\n",
    "  \n",
    "Recomiendo la siguiente configuración de particiones para la instalación de un sistema operativo GNU/Linux.\n",
    "\n",
    "Punto de montaje | Motivo para crear el punto de montaje | Tamaño de la partición\n",
    ":-- | :-- | :--\n",
    "__/__ | Es obligatorio, ya que es la partición principal del sistema operativo. Aquí se colocan los directorios que no se van a separar. | __10 GB - 100 GB__. Si se separa __/tmp__ y __/opt__, __30 GB__ pueden ser suficientes. \n",
    "__/opt__ | Por seguridad. Aquí se instalan aplicaciones por nuestra cuenta. Alguna podría contener malware.  | __100 MB - 20 GB__. Yo suelo darle más de __10 GB__.\n",
    "__/tmp__ | Por seguridad. Este directorio es accesible por cualquier aplicación. Al aislarlo, podríamos impedir un ataque al resto del sistema. | __100 MB - 20 GB__. Yo suelo darle más de __10 GB__.\n",
    "__swap__ | Esta partición no se monta. Es usada en combinación con la memoria ram, para el mismo propósito que esta. Los motivos para tener esta partición pueden ser variados. Falta de memora ram. Por mantener compatibilidad con programas que la usan, aunque haya memoria suficiente. Si se desea habilitar la hibernación. | Si se tiene mucha ram y no se desea hibernar (__2 GB__). Si se tiene poca ram, lo recomendable sería que la suma de la ram y el __swap__ esté cerca de los __16 GB__. Si se desea habilitar la hibernación, como mínimo la __swap__ debe ser del mismo tamaño que la ram. Esto es porque todo el contenido de la memoria será volcado sobre la __swap__, para que esté disponible en el siguiente arranque. Siempre es recomendable tener un mínimo de __500 MB__ de __swap__ o «virtualizarla» si se dispone de una gran cantidad de ram con [__zRam__](https://es.wikipedia.org/wiki/Zram). También se puede usar __zRam__ para mejorar el rendimiento en equipos con poca ram, evitando el uso de __swap__.\n",
    "__/home__ | Por seguridad de los datos personales. Se puede reinstalar el sistema operativo y conservar toda la información personal, así como los archivos de configuración de los usuarios. | El tamaño total de la unidad de almacenamiento o de la partición. Debe ser mayor a __200 MB__.\n",
    "__/media/Datos__ | __(Opcional)__ Se pueden montar particiones o discos completospara almacenamiento de datos. El nombre que se desea dar a este medio as arbitrario. Yo escogí __Datos__ por dar un ejemplo. En general sería __/media/nombre-disco__ o __/media/nombre-usuario/nombre-disco__. | El tamaño total de la unidad de almacenamiento o de la partición.\n",
    "\n",
    "\n"
   ]
  },
  {
   "cell_type": "markdown",
   "metadata": {},
   "source": [
    "Formatos o sistemas de archivos:\n",
    "- __Ext2__: Sistema de archivos por defecto para Linux.\n",
    "- __Ext3__: agregó al ext2:\n",
    "  - Journaling y consistencia de los datos.\n",
    "  - Compatibilidad hacia atrás (montaje como ext2).\n",
    "- __Ext4__: actualización del ext3 con:\n",
    "  - Mejor uso de CPU.\n",
    "  - Mejor rendimiento en operaciones de R/W.\n",
    "  - Compatibilidad hacia atrás.\n",
    " \n",
    "Otros filesystems\n",
    "\n",
    "- __JFS__ – Journaling FileSystem.\n",
    "  - IBM, transaccional, usado en servidores de alto rendimiento.\n",
    "- __ReiserFS__:\n",
    "  - Journalink, ideal para archivos pequeños (~4KiB).\n",
    "  - (cache de webserver, archivos de imagen, etc).\n",
    "- __BRTFS__ (b-tree FS, Butter-FS, Better-FS).\n",
    "  - Oracle, snapshots, alta integridad, CoW (copy-on-write).\n",
    "  - Multidispositivo, compresión, etc.\n"
   ]
  },
  {
   "cell_type": "markdown",
   "metadata": {},
   "source": [
    "Un ejemplo de como podría quedar la tabla de particiones durante la instalación:\n",
    "<img src=\"img/particion-1.png\" width=\"70%\"/>\n",
    "<img src=\"img/particion-2.png\" width=\"70%\"/>\n",
    "Las recomendaciones para el particionado durante la instalación, lo vamos va ver en directo."
   ]
  },
  {
   "cell_type": "markdown",
   "metadata": {},
   "source": [
    "### Intérprete de linea de comandos (CLI)"
   ]
  },
  {
   "cell_type": "markdown",
   "metadata": {},
   "source": [
    "<img src=\"img/CLI.svg\" width=\"40%\"/>"
   ]
  },
  {
   "cell_type": "markdown",
   "metadata": {},
   "source": [
    "Para ejecutar bash en una celda sin instalar el kernel:"
   ]
  },
  {
   "cell_type": "code",
   "execution_count": null,
   "metadata": {},
   "outputs": [],
   "source": [
    "%%bash\n",
    "echo $USER"
   ]
  },
  {
   "cell_type": "markdown",
   "metadata": {},
   "source": [
    "También se puede linea por linea:"
   ]
  },
  {
   "cell_type": "code",
   "execution_count": null,
   "metadata": {},
   "outputs": [],
   "source": [
    "!echo $USER"
   ]
  },
  {
   "cell_type": "code",
   "execution_count": null,
   "metadata": {},
   "outputs": [],
   "source": [
    "echo $USER"
   ]
  },
  {
   "cell_type": "markdown",
   "metadata": {},
   "source": [
    "Para instalar el kernel de bash:"
   ]
  },
  {
   "cell_type": "code",
   "execution_count": null,
   "metadata": {},
   "outputs": [],
   "source": [
    "%%bash\n",
    "pip install bash_kernel\n",
    "python -m bash_kernel.install"
   ]
  },
  {
   "cell_type": "markdown",
   "metadata": {},
   "source": [
    "#### Comandos"
   ]
  },
  {
   "cell_type": "markdown",
   "metadata": {},
   "source": [
    "Los comandos, en su mayor parte, no son realmente más que pequeños programas incorporados en el sistema operativo. Técnicamente, lo único que diferencia los comandos de los programas (o de los scripts) es que los comandos siempre están en carpetas muy concretas (__/bin__, __/usr/bin__, y en el caso de haber iniciado sesión como superusuario, __/sbin__), así que no es necesario especificar dónde se encuentran, ya que esos directorios están incluidos en la variable global __PATH__ del sistema.\n",
    "\n",
    "Los directorios anteriores son parte del sistema y no deben modificarse manualmente.\n",
    "Para añadir comandos por nuestra cuenta (spripts o compilados por nosotros), el lugar correcto para colocarlos es __/usr/local/bin__, que también está incluido en la variable de entorno __PATH__.\n",
    "\n",
    "Un __script__ (en este contexto nos referimos a un __script__ escrito para un __shell__ como __Bash__), no es más que un conjunto de comandos colocados en un archivo de texto, de manera que pueda ser interpretado secuencialmente por un intérprete. No es exactamente un programa (o __script__ escrito en un lenguaje de programación) como __C__, __Python__ o __Julia__, pero funciona de manera muy similar. Se necesita una sintaxis correcta para que pueda ser procesado en bloque, sin levantar una excepción.\n",
    "\n",
    "Para saber donde se encuentra un comando (por ejemplo __ls__) se puede ejecutar:"
   ]
  },
  {
   "cell_type": "code",
   "execution_count": null,
   "metadata": {},
   "outputs": [],
   "source": [
    "which ls"
   ]
  },
  {
   "cell_type": "code",
   "execution_count": null,
   "metadata": {},
   "outputs": [],
   "source": [
    "whereis ls"
   ]
  },
  {
   "cell_type": "code",
   "execution_count": null,
   "metadata": {},
   "outputs": [],
   "source": [
    "which python"
   ]
  },
  {
   "cell_type": "markdown",
   "metadata": {},
   "source": [
    "#### Intérpretes de comandos"
   ]
  },
  {
   "cell_type": "markdown",
   "metadata": {},
   "source": [
    "Es un conjunto de programas que proveen una interfaz de usuario que nos permiten acceder a los recursos del sistema mediante comandos.\n",
    "El concepto de Command-Line Interface (CLI), es más que el intérprete. Se necesita de las terminales para completar la interfaz.\n",
    "- Terminales o pseudo terminales (El programa con el que interactuamos. La capa más externa).\n",
    "- Terminal (El programa que dibuja en pantalla)."
   ]
  },
  {
   "cell_type": "markdown",
   "metadata": {},
   "source": [
    "##### El intérprete de comandos BASH"
   ]
  },
  {
   "cell_type": "markdown",
   "metadata": {},
   "source": [
    "Por defecto las distribuciones GNU/Linux usan a GNU Bash o simplemente Bash (Bourne-again shell) como intérprete de linea de comandos."
   ]
  },
  {
   "cell_type": "markdown",
   "metadata": {},
   "source": [
    "En la variable entorno __SHELL__ se almacena el interprete de linea de comandos por defecto para el usuario actual."
   ]
  },
  {
   "cell_type": "code",
   "execution_count": null,
   "metadata": {},
   "outputs": [],
   "source": [
    "echo $SHELL"
   ]
  },
  {
   "cell_type": "markdown",
   "metadata": {},
   "source": [
    "Muestra la shell que estamos usando en estos momentos."
   ]
  },
  {
   "cell_type": "code",
   "execution_count": null,
   "metadata": {},
   "outputs": [],
   "source": [
    "echo $0"
   ]
  },
  {
   "cell_type": "markdown",
   "metadata": {},
   "source": [
    "Podemos ver el listado de las shells que tenemos disponibles en el sistema."
   ]
  },
  {
   "cell_type": "code",
   "execution_count": null,
   "metadata": {},
   "outputs": [],
   "source": [
    "cat /etc/shells"
   ]
  },
  {
   "cell_type": "markdown",
   "metadata": {},
   "source": [
    "##### El prompt por defecto de BASH"
   ]
  },
  {
   "cell_type": "markdown",
   "metadata": {},
   "source": [
    "<img src=\"img/prompt.png\" width=\"60%\"/>"
   ]
  },
  {
   "cell_type": "markdown",
   "metadata": {},
   "source": [
    "##### Otros intérpretes"
   ]
  },
  {
   "cell_type": "markdown",
   "metadata": {},
   "source": [
    "Existe una gran cantidad de shells. Podemos ver un listado bastante completo [aquí](https://es.wikipedia.org/wiki/Shell_de_Unix).\n",
    "\n",
    "Hacemos especial mención a [ZSH](https://es.wikipedia.org/wiki/Zsh) que es una de las mejores alternativas a Bash, por ser más configurable y emular a Bash cuando es necesario."
   ]
  },
  {
   "cell_type": "markdown",
   "metadata": {},
   "source": [
    "#### Terminales y pseudo terminales"
   ]
  },
  {
   "cell_type": "markdown",
   "metadata": {},
   "source": [
    "Tenemos (\"La caja\" donde se ejecutan los comandos) dos tipo:\n",
    "- Nativas o __tty__. __/dev/ttyN__ , N natural.\n",
    "  - Se usan cuando no estamos en un entorno gráfico.\n",
    "  - Aunque hay muchas tty, sólo nos podemos conectar directamente con las tty del 1 al 6. \n",
    "- Emuladores de terminal o pseudo terminales __pts__.\n",
    "  - Se usan para conectarnos remotamente o en ambientes gráficos. __/dev/pts/N__.\n",
    "  - Se usan mediante programas como gnome-terminal o konsole."
   ]
  },
  {
   "cell_type": "code",
   "execution_count": null,
   "metadata": {},
   "outputs": [],
   "source": [
    "ls /dev | grep tty*"
   ]
  },
  {
   "cell_type": "markdown",
   "metadata": {},
   "source": [
    "Podemos ver la terminal que estamos usando."
   ]
  },
  {
   "cell_type": "code",
   "execution_count": null,
   "metadata": {},
   "outputs": [],
   "source": [
    "tty"
   ]
  },
  {
   "cell_type": "markdown",
   "metadata": {},
   "source": [
    "Para cambiar de tty, se usa la combinación de teclas __Ctrl + Alt + FN__, con __FN__ desde __F1__ a __F6__.\n",
    "\n",
    "También se puede hacer esto desde la linea de comandos con __chvt N__.\n",
    "\n",
    "__sudo chvt 3__ cambia a __tty3__ ( _Recuerden que sudo no funciona en jupyter_ )."
   ]
  },
  {
   "cell_type": "markdown",
   "metadata": {},
   "source": [
    "Para ver todas las terminales en uso, se puede usar:"
   ]
  },
  {
   "cell_type": "code",
   "execution_count": null,
   "metadata": {},
   "outputs": [],
   "source": [
    "who"
   ]
  },
  {
   "cell_type": "markdown",
   "metadata": {
    "scrolled": true
   },
   "source": [
    "O también podemos ver las __pts__ en uso, mirando directamente en el directorio __/dev/pts__:"
   ]
  },
  {
   "cell_type": "code",
   "execution_count": null,
   "metadata": {},
   "outputs": [],
   "source": [
    "ls /dev/pts"
   ]
  },
  {
   "cell_type": "markdown",
   "metadata": {},
   "source": [
    "Terminales (Los programas que pintan dentro de \"la caja\").\n",
    "\n",
    "La terminal que estamos usando actualmente, se puede ver y cambiar, leyendo y modificando la variable de ambiente __TERM__."
   ]
  },
  {
   "cell_type": "code",
   "execution_count": null,
   "metadata": {},
   "outputs": [],
   "source": [
    "echo $TERM"
   ]
  },
  {
   "cell_type": "markdown",
   "metadata": {},
   "source": [
    "Podemos ver el listado completo de todas las terminales en el sistema en los siguientes directorios:"
   ]
  },
  {
   "cell_type": "code",
   "execution_count": null,
   "metadata": {},
   "outputs": [],
   "source": [
    "ls /lib/terminfo/*"
   ]
  },
  {
   "cell_type": "markdown",
   "metadata": {},
   "source": [
    "Cada una de estas terminales tienen distintas características:\n",
    "- Distinta profundidad de color, el número de columnas, etc.\n",
    "- Algunas sólo dibujan en blanco y negro.\n",
    "- Opciones especiales para los ambientes gráficos, etc.\n",
    "\n",
    "Como veremos más adelante algunas terminales no funcionan bien en siertos casos y es necesario cambiarlas."
   ]
  },
  {
   "cell_type": "markdown",
   "metadata": {},
   "source": [
    "#### Estructura de los comando"
   ]
  },
  {
   "cell_type": "markdown",
   "metadata": {},
   "source": [
    "<img src=\"img/est-com.png\" width=\"60%\"/>"
   ]
  },
  {
   "cell_type": "markdown",
   "metadata": {},
   "source": [
    "Hay comandos que tienen opciones con parámetros, además de los parámetros generales.\n",
    "En este caso el parámetros debe ir inmediatamente después de la opción.\n",
    "\n",
    "__Ejemplo:__\n",
    "```\n",
    "TERM=linux\n",
    "\n",
    "whiptail --title \"Ejemplo de comando\" --infobox \"Estoy usando la terminal $(tty) junto a la terminal $TERM\" 8 70\n",
    "```"
   ]
  },
  {
   "cell_type": "markdown",
   "metadata": {},
   "source": [
    "Para conocer que acciones realiza un comando, así como sus opciones, se ejecuta el comando seguido de la opción -__-help__ o el comando __man__ con el nombre del comando como parámetro."
   ]
  },
  {
   "cell_type": "code",
   "execution_count": null,
   "metadata": {},
   "outputs": [],
   "source": [
    "ls --help"
   ]
  },
  {
   "cell_type": "code",
   "execution_count": null,
   "metadata": {},
   "outputs": [],
   "source": [
    "man ls"
   ]
  },
  {
   "cell_type": "markdown",
   "metadata": {},
   "source": [
    "#### Ejemplos de comandos"
   ]
  },
  {
   "cell_type": "markdown",
   "metadata": {},
   "source": [
    "Ejecutar comandos con privilegios elevados.\n",
    "```\n",
    "sudo\n",
    "```\n",
    "Solo funciona para el comando o el script que se pase como argumento.\n",
    "```\n",
    "sudo -i\n",
    "```\n",
    "Todo lo que se ejecute después será con privilegios elevados. Para regresar al estado anterior:\n",
    "```\n",
    "exit\n",
    "```"
   ]
  },
  {
   "cell_type": "code",
   "execution_count": null,
   "metadata": {},
   "outputs": [],
   "source": [
    "whoami #Usuario actual."
   ]
  },
  {
   "cell_type": "code",
   "execution_count": null,
   "metadata": {},
   "outputs": [],
   "source": [
    "pwd #directorio actual."
   ]
  },
  {
   "cell_type": "code",
   "execution_count": null,
   "metadata": {},
   "outputs": [],
   "source": [
    "echo $$ #pid del proceso actual."
   ]
  },
  {
   "cell_type": "code",
   "execution_count": null,
   "metadata": {},
   "outputs": [],
   "source": [
    "#Esto es para guardar en una variable el directorio actual.\n",
    "dir_inicial=$(pwd)"
   ]
  },
  {
   "cell_type": "code",
   "execution_count": null,
   "metadata": {},
   "outputs": [],
   "source": [
    "echo \"Hola talleristas\" #mostrar texto."
   ]
  },
  {
   "cell_type": "markdown",
   "metadata": {},
   "source": [
    "En este caso las comillas, no son de uso obligatorio, pero sí recomendable, ya que en ciertos casos puede dar problemas."
   ]
  },
  {
   "cell_type": "code",
   "execution_count": null,
   "metadata": {},
   "outputs": [],
   "source": [
    "echo Hola talleristas"
   ]
  },
  {
   "cell_type": "code",
   "execution_count": null,
   "metadata": {
    "scrolled": false
   },
   "outputs": [],
   "source": [
    "echo $HOSTNAME #equipo actual."
   ]
  },
  {
   "cell_type": "code",
   "execution_count": null,
   "metadata": {},
   "outputs": [],
   "source": [
    "echo $USER #usuario que inicio sesión en la tty actual."
   ]
  },
  {
   "cell_type": "markdown",
   "metadata": {},
   "source": [
    "Desplazarse dentro del VFS."
   ]
  },
  {
   "cell_type": "code",
   "execution_count": null,
   "metadata": {},
   "outputs": [],
   "source": [
    "cd #cd sin parámetros, nos mueva hacia la carpeta personal del usuario actual."
   ]
  },
  {
   "cell_type": "code",
   "execution_count": null,
   "metadata": {},
   "outputs": [],
   "source": [
    "cd /usr/local\n",
    "pwd"
   ]
  },
  {
   "cell_type": "code",
   "execution_count": null,
   "metadata": {},
   "outputs": [],
   "source": [
    "cd .\n",
    "pwd"
   ]
  },
  {
   "cell_type": "code",
   "execution_count": null,
   "metadata": {},
   "outputs": [],
   "source": [
    "cd ./bin\n",
    "pwd"
   ]
  },
  {
   "cell_type": "code",
   "execution_count": null,
   "metadata": {},
   "outputs": [],
   "source": [
    "cd .. #directorio padre.\n",
    "pwd"
   ]
  },
  {
   "cell_type": "code",
   "execution_count": null,
   "metadata": {},
   "outputs": [],
   "source": [
    " cd ..\n",
    " pwd"
   ]
  },
  {
   "cell_type": "code",
   "execution_count": null,
   "metadata": {},
   "outputs": [],
   "source": [
    " cd ..\n",
    " pwd"
   ]
  },
  {
   "cell_type": "code",
   "execution_count": null,
   "metadata": {},
   "outputs": [],
   "source": [
    "cd /usr/local/bin\n",
    "pwd"
   ]
  },
  {
   "cell_type": "code",
   "execution_count": null,
   "metadata": {},
   "outputs": [],
   "source": [
    " cd ../../..\n",
    " pwd"
   ]
  },
  {
   "cell_type": "code",
   "execution_count": null,
   "metadata": {},
   "outputs": [],
   "source": [
    "cd /usr/local/bin\n",
    "pwd"
   ]
  },
  {
   "cell_type": "code",
   "execution_count": null,
   "metadata": {},
   "outputs": [],
   "source": [
    " cd ../../lib\n",
    " pwd"
   ]
  },
  {
   "cell_type": "code",
   "execution_count": null,
   "metadata": {},
   "outputs": [],
   "source": [
    "cd - #directorio anterior al actual."
   ]
  },
  {
   "cell_type": "code",
   "execution_count": null,
   "metadata": {},
   "outputs": [],
   "source": [
    "ls #mostrar contenido del directorio actual."
   ]
  },
  {
   "cell_type": "markdown",
   "metadata": {},
   "source": [
    "Para mostrar el contenido de un directorio específico, hay que pasarlo como parámetro."
   ]
  },
  {
   "cell_type": "code",
   "execution_count": null,
   "metadata": {},
   "outputs": [],
   "source": [
    "ls /usr/local"
   ]
  },
  {
   "cell_type": "code",
   "execution_count": null,
   "metadata": {},
   "outputs": [],
   "source": [
    "ls -a /usr/local/bin #muestra todo (también los ocultos)."
   ]
  },
  {
   "cell_type": "code",
   "execution_count": null,
   "metadata": {},
   "outputs": [],
   "source": [
    "ls -l /usr/local/bin #con info. adicional."
   ]
  },
  {
   "cell_type": "code",
   "execution_count": null,
   "metadata": {},
   "outputs": [],
   "source": [
    "ls -l -h /usr/local/bin #con tamaños en unidades fáciles de entender."
   ]
  },
  {
   "cell_type": "markdown",
   "metadata": {},
   "source": [
    "sudo apt install tree"
   ]
  },
  {
   "cell_type": "code",
   "execution_count": null,
   "metadata": {},
   "outputs": [],
   "source": [
    "pwd\n",
    "tree #directorios con estructura de árbol."
   ]
  },
  {
   "cell_type": "code",
   "execution_count": null,
   "metadata": {},
   "outputs": [],
   "source": [
    "history #historial de comandos."
   ]
  },
  {
   "cell_type": "code",
   "execution_count": null,
   "metadata": {},
   "outputs": [],
   "source": [
    "!1998 #ejecuta el comando número 1998 del historial."
   ]
  },
  {
   "cell_type": "code",
   "execution_count": null,
   "metadata": {},
   "outputs": [],
   "source": [
    "!1998\n",
    "!! #ejecuta el comando anterior."
   ]
  },
  {
   "cell_type": "code",
   "execution_count": null,
   "metadata": {},
   "outputs": [],
   "source": [
    "du -h ~ #lista todos los archivos y directorios contenidos en ~ con sus tamaños."
   ]
  },
  {
   "cell_type": "code",
   "execution_count": null,
   "metadata": {},
   "outputs": [],
   "source": [
    "du -hs ~ #suma los tamaños de todo el contenido."
   ]
  },
  {
   "cell_type": "markdown",
   "metadata": {},
   "source": [
    "```\n",
    "sudo parted -l #tabla de particiones de los discos.\n",
    "```"
   ]
  },
  {
   "cell_type": "code",
   "execution_count": null,
   "metadata": {},
   "outputs": [],
   "source": [
    "df -h #información de los puntos de montaje."
   ]
  },
  {
   "cell_type": "markdown",
   "metadata": {},
   "source": [
    "```\n",
    "sudo apt install dfc\n",
    "dfc #igual que df, pero más estético.\n",
    "```"
   ]
  },
  {
   "cell_type": "code",
   "execution_count": null,
   "metadata": {},
   "outputs": [],
   "source": [
    "free -h #información de la ram."
   ]
  },
  {
   "cell_type": "code",
   "execution_count": null,
   "metadata": {},
   "outputs": [],
   "source": [
    "vmstat -s -S M #información más extendida sobre la ram."
   ]
  },
  {
   "cell_type": "code",
   "execution_count": null,
   "metadata": {},
   "outputs": [],
   "source": [
    "cat /proc/meminfo #archivo con los datos de la ram."
   ]
  },
  {
   "cell_type": "markdown",
   "metadata": {},
   "source": [
    "```\n",
    "top #monitor del sistema.\n",
    "```"
   ]
  },
  {
   "cell_type": "markdown",
   "metadata": {},
   "source": [
    "```\n",
    "sudo apt install htop\n",
    "htop #monitor del sistema interactivo.\n",
    "```\n",
    "```\n",
    "sudo apt install glances\n",
    "glances #todo el sistema en una pantalla.\n",
    "```\n"
   ]
  },
  {
   "cell_type": "markdown",
   "metadata": {},
   "source": [
    "Dentro de un entorno de escritorio (como GNOME, Plasma 5 o Xfce), xdg-open simplemente pasa los argumentos a la aplicación de apertura de archivos de ese entorno de escritorio (por ejemplo, gvfs-open, kde-open5 o exo-open)"
   ]
  },
  {
   "cell_type": "code",
   "execution_count": null,
   "metadata": {},
   "outputs": [],
   "source": [
    "cd \"$dir_inicial\"\n",
    "xdg-open img/vfs.png #abre con la app predeterminada para imágenes."
   ]
  },
  {
   "cell_type": "code",
   "execution_count": null,
   "metadata": {},
   "outputs": [],
   "source": [
    "xdg-open https://julialang.org/ #abre con la app predeterminada para la web."
   ]
  },
  {
   "cell_type": "code",
   "execution_count": null,
   "metadata": {},
   "outputs": [],
   "source": [
    "xdg-open / #abre con la app predeterminada para navegar por el VFS."
   ]
  },
  {
   "cell_type": "code",
   "execution_count": null,
   "metadata": {},
   "outputs": [],
   "source": [
    "kde-open5 / #el anterior conecta con este."
   ]
  },
  {
   "cell_type": "code",
   "execution_count": null,
   "metadata": {},
   "outputs": [],
   "source": [
    "xdg-user-dir #directorio del usuario actual."
   ]
  },
  {
   "cell_type": "code",
   "execution_count": null,
   "metadata": {},
   "outputs": [],
   "source": [
    "echo ~ #igual que el anterior."
   ]
  },
  {
   "cell_type": "code",
   "execution_count": null,
   "metadata": {},
   "outputs": [],
   "source": [
    "#directorios predeterminadnos para el usuario actual.\n",
    "xdg-user-dir DESKTOP\n",
    "xdg-user-dir DOWNLOAD\n",
    "xdg-user-dir TEMPLATES\n",
    "xdg-user-dir PUBLICSHARE\n",
    "xdg-user-dir DOCUMENTS\n",
    "xdg-user-dir MUSIC\n",
    "xdg-user-dir PICTURES\n",
    "xdg-user-dir VIDEOS"
   ]
  },
  {
   "cell_type": "code",
   "execution_count": null,
   "metadata": {},
   "outputs": [],
   "source": []
  }
 ],
 "metadata": {
  "kernelspec": {
   "display_name": "Bash",
   "language": "bash",
   "name": "bash"
  },
  "language_info": {
   "codemirror_mode": "shell",
   "file_extension": ".sh",
   "mimetype": "text/x-sh",
   "name": "bash"
  }
 },
 "nbformat": 4,
 "nbformat_minor": 4
}
