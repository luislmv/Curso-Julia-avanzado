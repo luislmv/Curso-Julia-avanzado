{
 "cells": [
  {
   "cell_type": "markdown",
   "metadata": {},
   "source": [
    "# Tópicos avanzados de programación con Julia"
   ]
  },
  {
   "cell_type": "markdown",
   "metadata": {},
   "source": [
    "## _Sistemas Operativos (Continuación)_"
   ]
  },
  {
   "cell_type": "markdown",
   "metadata": {},
   "source": [
    " "
   ]
  },
  {
   "cell_type": "markdown",
   "metadata": {},
   "source": [
    "### Temario para cubrir el objetivo 1"
   ]
  },
  {
   "cell_type": "markdown",
   "metadata": {},
   "source": [
    "__Recomendaciones generales y buenas prácticas al crear el entorno de desarrollo.__\n",
    "- Sistemas operativo.\n",
    "  - Administración básica de sistemas GNU/Linux.\n",
    "    - Gestión de aplicaciones \n",
    "      - Tipo de instalaciones.\n",
    "      - Ejemplo de instalación desde el código fuente (Maxima).\n",
    "      - Ejemplo de instalación desde un binario.\n",
    "      - Ejemplo de instalación desde un shell scrip (Anaconda)\n",
    "      - Instalación desde paquetes .deb\n",
    "        - Conceptos básicos.\n",
    "        - Tabla comparativa entre las distintas interfaces de APT.\n",
    "        - Instalar y desinstalar paquetes .deb.\n",
    "      - Gestión de repositorios.\n",
    "        - Añadir repositorios.\n",
    "        - Eliminar repositorios.\n",
    "        - Instalar desde repositorios (Atom).\n",
    "      - Instalación de aplicaciones portables (Julia).\n",
    "        - Modificar la variable de entorno PATH.\n",
    "        - Modificar la variable de entorno PATH permanentemente.\n",
    "        - Crear lanzadores para Julia, Anaconda y Jupyter.\n",
    "      - Apartado especial (inodos, enlaces duros y enlaces simbólicos).\n",
    "        - Definiciones y ejemplos.\n",
    "        - Enlaces simbólicos como alternativa a modificar la variable PATH.\n",
    "    - Ejemplos de como se pueden ejecutar cálculos desde Bash con Maxima, Python y Julia.\n",
    "      "
   ]
  },
  {
   "cell_type": "markdown",
   "metadata": {},
   "source": [
    "### Administración básica de sistemas GNU/Linux (Continuación)"
   ]
  },
  {
   "cell_type": "markdown",
   "metadata": {},
   "source": [
    "Continuamos con la gestión de aplicaciones en GNU/LInux."
   ]
  },
  {
   "cell_type": "markdown",
   "metadata": {},
   "source": [
    "#### Gestión de aplicaciones "
   ]
  },
  {
   "cell_type": "markdown",
   "metadata": {},
   "source": [
    "##### Tipo de instalaciones"
   ]
  },
  {
   "cell_type": "markdown",
   "metadata": {},
   "source": [
    "- Aplicaciones portable compiladas o interpretadas.\n",
    "  - Se pueden usar sin instalación.\n",
    "  - Se puede instalar si se desea.\n",
    "    - Se copia a un subdirectorio de __/opt__.\n",
    "    - Se añade a la variable de entorno __PATH__ (en un archivo de configuración de bash).\n",
    "    - Se crea un lanzador.\n",
    "- Obtener el código, compilar e instalar __.tar.gz__.\n",
    "- Instalar desde un binario __.bin__, __.run__\n",
    "  - Estos son parecidos a los .exe de windows.\n",
    "  - No se puede saber que hacen para instalarse.\n",
    "  - Generalmente no ofrecen un desintalador.\n",
    "  - No se recomienda este tipo de instalaciones.\n",
    "  - Usarla sólo si es imprenscindible y si el proveedor es confiable.\n",
    "- Instalar desde un shell script __.sh__.\n",
    "  - Contiene todos los comandos para que la aplicación quede instalada.\n",
    "  - Nosotros podemos crear nuestros propios scripts de bash.\n",
    "- Instalar localmente desde un paquete __.deb__.\n",
    "- Instalar dede un repositorio (oficial o de terceros) un paquete __.deb__.\n",
    "- Instalar paquetes autocontenidos __AppImage__, __Snap__, __Flatpak__ o __Docker__"
   ]
  },
  {
   "cell_type": "markdown",
   "metadata": {},
   "source": [
    "##### Ejemplo de instalación desde el código fuente (Maxima)"
   ]
  },
  {
   "cell_type": "markdown",
   "metadata": {},
   "source": [
    "```bash\n",
    "sudo apt install gcl #instalar el intérprete de lisp del proyecto GNU.\n",
    "sudo apt install build-essential #instalar los compiladores gcc, g++ y make.\n",
    "tar -xzf maxima-5.44.0.tar.gz #desempaquetar y descomprimir.\n",
    "./configure #se comprueban las dependencias y se crea el archivo Makefile desde Makefile.in\n",
    "make #Se compila el proyecto con las reglas establecidas en Makefile.\n",
    "make check #Esto es opcional. Se ejecutan ciertos test, para verificas que máxima funciona bien.\n",
    "sudo make install #Se instala el paquete compilado (similar a apt).\n",
    "```\n",
    "Nota\n",
    "El comando `make` es de más alto nivel que `gcc` o `g++`, además funciona con más lenguajes de programación. Su utilidad es mayor en proyectos grandes.\n",
    "\n",
    "Ejemplo:\n",
    "\n",
    "Para compilar con `gcc`, un proyecto escrito en c (`programa.c`).\n",
    "```c\n",
    "#include <stdio.h>\n",
    "\n",
    "int main (void)\n",
    "{\n",
    "  printf (\"Hola mundo\\n\");\n",
    "  return 0;\n",
    "}\n",
    "```\n",
    "Con `gcc` (o `cc`):\n",
    "```bash\n",
    "gcc programa.c -o programa\n",
    "```\n",
    "Con make, sólo hay que ejecutar:\n",
    "\n",
    "```bash\n",
    "make programa\n",
    "```"
   ]
  },
  {
   "cell_type": "markdown",
   "metadata": {},
   "source": [
    "##### Ejemplo de instalación desde un binario"
   ]
  },
  {
   "cell_type": "markdown",
   "metadata": {},
   "source": [
    "```bash\n",
    "sudo ./Tracker-5.1.5-linux-64bit-instaB444ller.run\n",
    "sudo ./qt-unified-linux-x64-3.2.3-online.run\n",
    "```"
   ]
  },
  {
   "cell_type": "markdown",
   "metadata": {},
   "source": [
    "##### Ejemplo de instalación desde un shell scrip (Anaconda)"
   ]
  },
  {
   "cell_type": "markdown",
   "metadata": {},
   "source": [
    "```bash\n",
    "sudo ./Anaconda3-2020.07-Linux-x86_64.sh #con permisos de ejecución.\n",
    "sudo bash Anaconda3-2020.07-Linux-x86_64.sh #no necesita permisos de ejecución.\n",
    "```\n",
    "- `-b` (Batch mede).\n",
    "  - No modifica el __PATH__ en `~/.bashrc`. \n",
    "  - Acepta todo.\n",
    "  - Eto elimina la interacción.\n",
    "- `-p` (prefix/path) \n",
    "  - Para especificar el directorio de instalación.\n",
    "  - lo recomendable es que sea en /opt.\n",
    "- `-u` (update).\n",
    "  - Actualiza si ya está instalado o instala.\n",
    "  - Si ya está instalado y no se pone -u, da error.\n",
    "  \n",
    "```bash\n",
    "#Esto hace que todo se instale sin interacción y en el directorio especificado.\n",
    "sudo bash Anaconda3-2020.07-Linux-x86_64.sh -ubp /opt/anaconda3/\n",
    "sudo bash Anaconda3-2020.07-Linux-x86_64.sh -u -b -p /opt/anaconda3/\n",
    "```"
   ]
  },
  {
   "cell_type": "markdown",
   "metadata": {},
   "source": [
    "##### Instalación desde paquetes .deb"
   ]
  },
  {
   "cell_type": "markdown",
   "metadata": {},
   "source": [
    "###### Conceptos básicos."
   ]
  },
  {
   "cell_type": "markdown",
   "metadata": {},
   "source": [
    "__Paquete__\n",
    "\n",
    "Un paquete de software es un conjunto de archivos y directorios, que contiene los programas previamente compilados. Incluye sus archivos de configuración. Además, contiene __scripts__ que se ejecutan antes y después de la instalación.\n",
    "Este paquete se instala mediante herramientas propias de la distribución.\n",
    "Para Debian y derivadas (como Ubuntu) los paquetes se distinguen por  la extensión __.deb__.\n",
    "\n",
    "__Gestor de paquetes__\n",
    "\n",
    "El gestor de paquetes es una aplicación de la distribución que nos permite instalar los paquete. Vendría siendo algo parecido a un «intérprete del programa paquete». Esta analogía se debe, a que en el paquete se incluyen las instrucciones para ser instalado y el gestor de paquetes las interpreta y ejecuta. \n",
    "\n",
    "Algunas de las acciones que realiza el gestor de paquetes pueden ser:\n",
    "\n",
    "Extraer el contenido y copiarlo en los directorios correspondientes. Comprobar el cumplimiento de dependencias. Ejecutar los scripts de pre instalación y pos instalación, entre otros.\n",
    "En Debian y derivadas el gestor de paquetes es dpkg.\n",
    "\n",
    "__Dependencias__\n",
    "\n",
    "Una dependencia de software es un conjunto de paquetes necesarios para que otro paquete pueda ser instalado. \n",
    "Para poder instalar una aplicación se necesita contar con todas las aplicaciones y bibliotecas que ésta aplicación utiliza para ejecutarse. Esto se conoce como «cumplimiento de dependencias».\n",
    "\n",
    "__Gestor de dependencias__\n",
    "\n",
    "Un gestor de dependencias es un software que verifica todas las dependencias de una aplicación y las instala automáticamente para que esta aplicación pueda instalarse y utilizarse.\n",
    "En Debian y derivadas e gestor de dependencias es [__APT__](https://es.wikipedia.org/wiki/Advanced_Packaging_Tool).\n",
    "\n",
    "Las interfaces de __APT__ para la linea de comandos: \n",
    "- apt (la más nueva).\n",
    "- apt-get (la primera).\n",
    "- aptitude (una alternativa más potente que apt-get).\n",
    "  - Desde la salida de apt, muchos la han dejado de usar.\n",
    "\n",
    "También existen interfáces gráficas como Synaptic, Ubuntu software y Gnome Software.\n",
    "\n",
    "__Repositorio__\n",
    "\n",
    "Un repositorio es un servidor que ofrece paquetes para ser descargados. Los gestores de dependencias se conectan a estos servidores cuando necesitan obtener una aplicación o alguna dependencia.\n",
    "\n",
    "Los repositorios pueden ser oficiales o de terceros.\n",
    "\n",
    "Para poder usar un repositorio, primero hay que añadirlo en un archivo dentro de un directorio concreto. También se necesita colocar la llave pública [__GPG__](https://es.wikipedia.org/wiki/GNU_Privacy_Guard), para establecer una conexión cifrada entre el servidor y el cliente."
   ]
  },
  {
   "cell_type": "markdown",
   "metadata": {},
   "source": [
    "###### Tabla comparativa entre las distintas interfaces de APT."
   ]
  },
  {
   "cell_type": "markdown",
   "metadata": {},
   "source": [
    "Función|apt-get|aptitude|apt\n",
    ":--|:--|:--|:--\n",
    "Instalar paquete|`apt-get install app`|`aptitude install app`|`apt install app`\n",
    "Desinstalar un paquete|`apt-get remove app`|`aptitude remove app`|`apt remove app`\n",
    "Eliminar un paquete y su configuración|`apt-get purge app`|`aptitude purge app`|`apt purge app`\n",
    "Actualizar el repositorio|`apt-get update`|`aptitude update`|`apt upate`\n",
    "Actualizar paquetes (sin eliminar ni reinstalar)|`apt-get upgrade`|`aptitude safe upgrade`|`apt upgrade` (*)\n",
    "Actualizar paquetes (eliminando y reinstalando si es necesario)|`apt-get dist-upgrade`|`aptitude full-upgrade`|`apt full-upgrade`\n",
    "Eliminar dependencias innecesarias|`apt-get autoremove`|`aptitude autoremove`|`apt autoremove`\n",
    "Buscar paquetes|`apt-cache search app`|`aptitude search app`|`apt search app`\n",
    "Mostrar info de un paquete|`apt-cache show app`|`aptitude show app`|`apt show app`\n",
    "Mostrar estado y candidato de instalación|`apt-cache policy app`|`aptitude policy app`|`apt policy app`\n",
    "Mostrar las prioridades de pinning y las propiedades de distribución de cada paquete fuente|`apt-cache policy`|`aptitude policy`|`apt policy`\n",
    "Edición de repositorios fuente|–|–|`apt edit-sources`\n",
    "Listar paquetes por criterio|`dpkg –get-selections > lista.txt`|`dpkg –get-selections > lista.txt`|`apt list`\n",
    "\n",
    "__(*) Corresponde a apt-get upgrade --install new-pkgs__"
   ]
  },
  {
   "cell_type": "markdown",
   "metadata": {},
   "source": [
    "###### Instalar y desinstalar paquetes .deb."
   ]
  },
  {
   "cell_type": "markdown",
   "metadata": {},
   "source": [
    "```bash\n",
    "sudo apt install python jupyter #instala los dos paquetes desde repositorios.\n",
    "sudo apt install atom-amd64.deb #instala Atom desde un paquete local.\n",
    "sudo apt purge python jupyter #desinstala y elimina todos sus archivos de configuración.\n",
    "```"
   ]
  },
  {
   "cell_type": "markdown",
   "metadata": {},
   "source": [
    "#####  Gestión de repositorios"
   ]
  },
  {
   "cell_type": "markdown",
   "metadata": {},
   "source": [
    "###### Añadir repositorios"
   ]
  },
  {
   "cell_type": "markdown",
   "metadata": {},
   "source": [
    "Para añadir un repositorio, hay que realizar los siguientes pasos.\n",
    "\n",
    "- Obtener y añadir la llave pública __GPG__.\n",
    "  - Se añade mediante el comando `apt-key`.\n",
    "  - Las claves se guardan en el archivo `/etc/apt/trusted.gpg` o en el directorio `/etc/apt/trusted.gpg.d/` en archivos independientes con extensión `.gpg`\n",
    "- Agregar el repositorio.\n",
    "  - Se puede agregar una linea con los datos del repositorio en `/etc/apt/sources.list`.\n",
    "  - Crear un archivo en `/etc/apt/sources.list.d/` con extensión `.list` que contenga los datos del repositorio."
   ]
  },
  {
   "cell_type": "markdown",
   "metadata": {},
   "source": [
    "__Primera forma__\n",
    "\n",
    "El comando (script escrito en python por Canonical) `add-apt-repository` Añade el repositorio e intenta agregar la llave __GPG__ de forma automática. Si el repositorio está en https://launchpad.net/, entonces `add-apt-repository` funciona perfectamente y además ofrece una forma sencilla de añadir el repositorio. \n",
    "\n",
    "Si el repositorio no está en https://launchpad.net/, lo añadirá, pero seguramente no podrá obtener la llave __GPG__.\n",
    "\n",
    "_Ejemplo_\n",
    "\n",
    "Añadir el repositorio estable y actualizado para libreoffice\n",
    "ubicado en http://ppa.launchpad.net/libreoffice/ppa/ubuntu\n",
    "\n",
    "Con este sencillo comando se añade el repositorio:\n",
    "```bash\n",
    "sudo add-apt-repository ppa:libreoffice/ppa\n",
    "```\n",
    "\n",
    "Al ejecutar esto (y teclear `Enter` cuando se solicite), estaremos haciendo varias cosas:\n",
    "- Se obtiene la llave publica y se guarda automáticamente.\n",
    "- Se crea el archivo `/etc/apt/sources.list.d/libreoffice-ubuntu-ppa-focal.list`\n",
    "- Se añaden en dicho archivo, las siguientes lineas:\n",
    "```bash\n",
    "deb http://ppa.launchpad.net/libreoffice/ppa/ubuntu focal main\n",
    "# deb-src http://ppa.launchpad.net/libreoffice/ppa/ubuntu focal main\n",
    "```\n",
    "__Segunda forma__\n",
    "\n",
    "Añadir el repositorio de Atom ubicado en https://packagecloud.io/AtomEditor/atom\n",
    "```bash\n",
    "#Se obtiene la llave GPG con wget y se añade con apt-key en archivo /etc/apt/trusted.gpg.\n",
    "wget -qO - https://packagecloud.io/AtomEditor/atom/gpgkey | sudo apt-key add\n",
    "\n",
    "#Se crea un archivo .list y se escribe la linea deb [arch=amd64] https://packagecloud.io/AtomEditor/atom/any/ any main\n",
    "sudo bash -c 'echo \"deb [arch=amd64] https://packagecloud.io/AtomEditor/atom/any/ any main\" > /etc/apt/sources.list.d/atom.list'\n",
    "```\n",
    "_Explicación:_\n",
    "```bash\n",
    "#Se descarga el archivo gpgkey de https://packagecloud.io/AtomEditor/atom.\n",
    "wget https://packagecloud.io/AtomEditor/atom/gpgkey\n",
    "\n",
    "#No imprime notificaciones en la salida estándar.\n",
    "wget -q https://packagecloud.io/AtomEditor/atom/gpgkey\n",
    "#Con -O arch1 descarga gpgkey y lo guarda como arch1.\n",
    "wget -O arch1 https://packagecloud.io/AtomEditor/atom/gpgkey\n",
    "\n",
    "#Con -O - descarga el contenido de gpgkey y lo envía a la salida estándar. Similar a como hace cat. Con este método no se guarda ningún archivo en disco.\n",
    "wget -O - https://packagecloud.io/AtomEditor/atom/gpgkey\n",
    "```\n",
    "Se puede reunir todo lo anterior en una sola linea:\n",
    "```bash\n",
    "#No muestra notificaciones e imprime en pantalla el contenido de gpgkey\n",
    "wget -qO - https://packagecloud.io/AtomEditor/atom/gpgkey\n",
    "```\n",
    "Con la linea anterior, se obtiene la llave y se imprime en pantalla sin ninguna notificación adicional. Ahora hay que redireccionar la salida a la entrada del comando `sudo apt-key add` mediante una tubería.\n",
    "```bash\n",
    "wget -qO - https://packagecloud.io/AtomEditor/atom/gpgkey | sudo apt-key add\n",
    "```\n",
    "```bash\n",
    "#Ejecuta la cadena string con bash.\n",
    "sudo bash -c string\n",
    "\n",
    "#Ejecuta con bash echo \"deb [arch=amd64] https://packagecloud.io/AtomEditor/atom/any/ any main\" > /etc/apt/sources.list.d/atom.list'\n",
    "sudo bash -c 'echo \"deb [arch=amd64] https://packagecloud.io/AtomEditor/atom/any/ any main\" > /etc/apt/sources.list.d/atom.list'\n",
    "```\n",
    "Al ejecutar la cadena, `echo` añade la linea `\"deb [arch=amd64] https://packagecloud.io/AtomEditor/atom/any/ any main\"` en el archivo `/etc/apt/sources.list.d/atom.list`\n",
    "\n",
    "Si el archivo no existe, entonces lo crea. Si existe, elimina el contenido anterior.\n",
    "\n",
    "Otra forma de hacer lo anterior sería:\n",
    "```bash\n",
    "wget -qO - https://packagecloud.io/AtomEditor/atom/gpgkey | sudo apt-key add\n",
    "sudo add-apt-repository \"deb [arch=amd64] https://packagecloud.io/AtomEditor/atom/any/ any main\"\n",
    "```"
   ]
  },
  {
   "cell_type": "markdown",
   "metadata": {},
   "source": [
    "###### Eliminar repositorios"
   ]
  },
  {
   "cell_type": "markdown",
   "metadata": {},
   "source": [
    "Generalmente si se desea eliminar un repositorio, es porque tampoco se desean los paquetes que contiene. En ese caso, se recomiendo desinstalarlos primero, antes de eliminar el repositorio. Luego se puede volver a instalar (si se desea) la versión que está en los repositorios oficiales.\n",
    "\n",
    "Una forma de hacerlo es borrar el contenido del archivo `.list` dentro del directorio `/etc/apt/sources.list.d/` o simplemente eliminar el archivo.\n",
    "\n",
    "__IMPORTANTE__\n",
    "\n",
    "Nunca se debe eliminar el archivo `/etc/apt/sources.list`. Solo los archivos dentro de `/etc/apt/sources.list.d/`.\n",
    "\n",
    "Si el repositorio se guardó en `/etc/apt/sources.list`, es suficiente con comentar o borrar la linea que corresponde al repositorio.\n",
    "\n",
    "Este método de comentar, borrar la linea o eliminar un archivo `.list`, no elimina la llave GPG.\n",
    "\n",
    "Otra forma de eliminar un repositorio es usando el comando \n",
    "```bash\n",
    "sudo add-apt-repository --remove\n",
    "```\n",
    "Esto borra el contenido del archivo `.list`, pero no al propio archivo. Esto va dejando archivos vacíos en el directorio `/etc/apt/sources.list.d/`. Lo cual puede ser un desventaja. \n",
    "Por otra parte, este comando además de eliminar el repositorio, también desinstala sus paquetes y los cambia (si existen) por los que están en los repositorios oficiales.\n",
    "\n",
    "Ejemplos\n",
    "```bash\n",
    "sudo add-apt-repository --remove \"deb [arch=amd64] https://packagecloud.io/AtomEditor/atom/any/ any main\"\n",
    "\n",
    "sudo add-apt-repository --remove  ppa:libreoffice/ppa\n",
    "```\n",
    "Este método tampoco borra la llave GPG.\n",
    "\n",
    "Para borrar la llave, se puede hacer los siguiente:\n",
    "\n",
    "```bash\n",
    "#Muetra una lista de las llaves y su identificador.\n",
    "apt-key list\n",
    "\n",
    "Se copia el id de la clave y ejecuta\n",
    "\n",
    "#El identificador para atom es 0A0F AB86 0D48 5603 32EF  B581 B754 42BB DE9E 3B09\n",
    "sudo apt-key del 0A0F AB86 0D48 5603 32EF  B581 B754 42BB DE9E 3B09\n",
    "\n",
    "#El identificador para libreoffice es 36E8 1C92 67FD 1383 FCC4  4909 83FB A175 1378 B444\n",
    "sudo apt-key del 36E8 1C92 67FD 1383 FCC4  4909 83FB A175 1378 B444\n",
    "\n",
    "#Si ejecutamos nuevamente apt-key list, ya no están.\n",
    "apt-key list\n",
    "```"
   ]
  },
  {
   "cell_type": "markdown",
   "metadata": {},
   "source": [
    "###### Instalar desde repositorios (Atom)"
   ]
  },
  {
   "cell_type": "markdown",
   "metadata": {},
   "source": [
    "```bash\n",
    "sudo apt update #actualizamos los índices de cada repositorio añadido.\n",
    "sudo apt install atom #si no está instalada.\n",
    "sudo apt upgrade #si queremos actualizar todo.\n",
    "sudo apt full-upgrade #si queremos hacer una actualización más radical y arriesgada.\n",
    "```"
   ]
  },
  {
   "cell_type": "markdown",
   "metadata": {},
   "source": [
    "##### Instalación de aplicaciones portables (Julia)"
   ]
  },
  {
   "cell_type": "markdown",
   "metadata": {},
   "source": [
    "```bash\n",
    "#Nos movemos con cd al directorio que contiene julia-1.5.2-linux-x86_64.tar.gz.\n",
    "tar -xzf julia-1.5.2-linux-x86_64.tar.gz\n",
    "\n",
    "#Creo el directorio jula para poder trabajar con varias versiones.\n",
    "sudo mkdir /opt/julia\n",
    "\n",
    "sudo mv ./julia-1.5.2/ /opt/julia/julia-1.5.2 #Muevo todo al directorio /opt/julia\n",
    "```"
   ]
  },
  {
   "cell_type": "markdown",
   "metadata": {},
   "source": [
    "###### Modificar la variable de entorno PATH"
   ]
  },
  {
   "cell_type": "code",
   "execution_count": null,
   "metadata": {},
   "outputs": [],
   "source": [
    "PATHOLD=$PATH #Guardo antes de modificar.\n",
    "echo $PATH #antes de añadir."
   ]
  },
  {
   "cell_type": "code",
   "execution_count": null,
   "metadata": {},
   "outputs": [],
   "source": [
    "PATH+=\":/opt/julia/julia-1.5.2/bin\" #Añade la ruta de julia a la variable $PATH."
   ]
  },
  {
   "cell_type": "code",
   "execution_count": null,
   "metadata": {},
   "outputs": [],
   "source": [
    "echo $PATH #después de añadir."
   ]
  },
  {
   "cell_type": "code",
   "execution_count": null,
   "metadata": {},
   "outputs": [],
   "source": [
    "PATH=$PATHOLD #Recupero el valor inicial.\n",
    "echo $PATH"
   ]
  },
  {
   "cell_type": "code",
   "execution_count": null,
   "metadata": {},
   "outputs": [],
   "source": [
    "#Modificado manualmente por el administrador\n",
    "#Añade la ruta hacia julia.\n",
    "if [[ ! $PATH =~ \"/opt/julia/julia-1.5.2/bin\" ]]; then\n",
    "    PATH+=\":/opt/julia/julia-1.5.2/bin\"\n",
    "fi"
   ]
  },
  {
   "cell_type": "code",
   "execution_count": null,
   "metadata": {},
   "outputs": [],
   "source": [
    "echo $PATH"
   ]
  },
  {
   "cell_type": "markdown",
   "metadata": {},
   "source": [
    "###### Modificar la variable de entorno PATH permanentemente."
   ]
  },
  {
   "cell_type": "markdown",
   "metadata": {},
   "source": [
    "Existen dos archivos que se ejecutan cada vez que se abre un proceso de shell.\n",
    "\n",
    "- /etc/bash.bashrc\n",
    "  - Archivo de configuración para todos los usuarios.\n",
    "  - Se necesita privilegios de root para editarlo.\n",
    "- ~/.bashrc\n",
    "  - Archivo de configuración local para el usuario actual.\n",
    "  - El usuario es dueño y puede modificarlo.\n",
    "  \n",
    "Para que julia esté habilitado basta añadir el siguiente código al final de uno de los dos archivos:\n",
    "\n",
    "```bash\n",
    "#Modificado manualmente por el administrador\n",
    "#Añade la ruta hacia julia.\n",
    "if [[ ! $PATH =~ \"/opt/julia/julia-1.5.2/bin\" ]]; then\n",
    "    PATH+=\":/opt/julia/julia-1.5.2/bin\"\n",
    "fi\n",
    "```\n",
    "\n",
    "Análogamente se puede hacer lo mismo con Anaconda y Jupyter.\n",
    "\n",
    "```bash\n",
    "#Modificado manualmente por el administrador\n",
    "#Añade la ruta hacia Anaconda y Jupyter.\n",
    "if [[ ! $PATH =~ \"/opt/anaconda3/bin/\" ]]; then\n",
    "    PATH+=\":/opt/anaconda3/bin/\"\n",
    "fi\n",
    "```"
   ]
  },
  {
   "cell_type": "markdown",
   "metadata": {},
   "source": [
    "###### Crear lanzadores para Julia, Anaconda y Jupyter"
   ]
  },
  {
   "cell_type": "markdown",
   "metadata": {},
   "source": [
    "Crear lanzadores para Julia, Anaconda y Jupyter\n",
    "Se crea un archivo con extensión `.desktop`. Por ejemplo `Julia.desktop` y se copia en el interior los siguientes campos.\n",
    "\n",
    "```bash\n",
    "[Desktop Entry]\n",
    "Name=Julia\n",
    "Icon=/opt/julia/julia-1.5.2/share/doc/julia/html/en/assets/logo-dark.svg\n",
    "Exec=/opt/julia/julia-1.5.2/bin/julia\n",
    "Terminal=true\n",
    "Type=Application\n",
    "Categories=Development\n",
    "```\n",
    "Si se desea que esté en el menú de aplicaciones se puede copiar a los siguientes archivos:\n",
    "\n",
    "- `/usr/share/applications`\n",
    "  - Para todos los usuarios.\n",
    "- `~/.local/share/applications`\n",
    "  - Solo para el usuario actual.\n",
    "- `/etc/xdg/autostart`\n",
    "  - Durante el inicio de sesión.\n",
    "  \n",
    "Análogamente para Anaconda y Jupyter:\n",
    "\n",
    "En `Anaconda.desktop`\n",
    "\n",
    "```bash\n",
    "[Desktop Entry]\n",
    "Name=Anaconda\n",
    "Icon=/opt/anaconda3/lib/python3.8/site-packages/navigator_updater/static/images/anaconda-logo.svg\n",
    "Exec=/opt/anaconda3/bin/anaconda-navigator\n",
    "Terminal=false\n",
    "Type=Application\n",
    "Categories=Development\n",
    "```\n",
    "En `Jupyter.desktop`\n",
    "\n",
    "```bash\n",
    "[Desktop Entry]\n",
    "Name=Jupyter\n",
    "Icon=/opt/anaconda3/lib/python3.8/site-packages/anaconda_navigator/static/images/jupyter-icon-1024x1024.png\n",
    "Exec=/opt/anaconda3/bin/jupyter-notebook\n",
    "Terminal=false\n",
    "Type=Application\n",
    "Categories=Development\n",
    "```\n",
    "Podemos ver una tabla con las categorías principales [aquí](https://specifications.freedesktop.org/menu-spec/latest/apa.html).\n",
    "\n",
    "Para más información ver la documentación de [__freedesktop__](https://specifications.freedesktop.org/desktop-entry-spec/desktop-entry-spec-latest.html#recognized-keys)."
   ]
  },
  {
   "cell_type": "markdown",
   "metadata": {},
   "source": [
    "##### Apartado especial (inodos, enlaces duros y enlaces simbólicos)"
   ]
  },
  {
   "cell_type": "markdown",
   "metadata": {},
   "source": [
    "###### Definiciones y ejemplos"
   ]
  },
  {
   "cell_type": "markdown",
   "metadata": {},
   "source": [
    "_Inodos_\n",
    "- Un inodo es un tipo de estructura de datos de C.\n",
    "  - Cada inodo tiene asociado un número entero único (es su identificador).\n",
    "  - Cada archivo del __VFS__ tiene asociado un único inodo.\n",
    "  - Un inodo contiene información (los metadatos) de un único archivo (el asociado).\n",
    "  \n",
    "La información que almacena el inodo es:\n",
    "\n",
    "- El identificador universal de la partición (__uuid__).\n",
    "- El número de inodo (su propio identificador).\n",
    "- La tamaño del archivo en bytes y el número de bloques que ocupa.\n",
    "- El identificador (__uid__) del usuario dueño.\n",
    "- El identificador (__gid__) del grupo al que pertenece.\n",
    "- Los permisos (__r__, __w__ y __x__) del archivo para (__u__, __g__ y __o__).\n",
    "- Las marcas de tiempo con las fechas de última modificación (__mtime__), acceso (__atime__) y de alteración del propio inodo (__ctime__).\n",
    "- El número de __enlaces duros__, esto es, el número de nombres (entradas de directorio) asociados con este inodo. \n",
    "- La estructura de punteros, para direccionar hacia los bloques de datos (que es el contenido) del archivo."
   ]
  },
  {
   "cell_type": "code",
   "execution_count": null,
   "metadata": {},
   "outputs": [],
   "source": [
    "stat / #Muestra información contenida en el inodo del directorio /."
   ]
  },
  {
   "cell_type": "markdown",
   "metadata": {},
   "source": [
    "_Enlace duro_\n",
    "\n",
    "- Un enlace duro es una asociación entre una etiqueta (el nombre del fichero) dentro de un directorio y un número de inodo.\n",
    "- En GNU/Linux, es posible asociar más de una etiqueta a un mismo inodo. Por tanto pueden haber varios accesos a un mismo archivo.\n",
    "  - El acceso puede estar en el mismo directorio (con otra etiqueta) o en otro directorio __de la misma partición__.\n",
    "  - En caso de que esté en otro directorio, la etiqueta que se use es irrelevante. En otras palabras, un mismo archivo puede tener distintos nombres en directorios diferentes.\n",
    "- Mediante el comando `ln`  más enlaces duros, usando a uno ya existente como referencia.\n",
    "- No se pueden crear manualmente enlaces duros a directorios. Esto se hace para evitar contradicciones (el directorio padre puede ser hijo del directorio hijo). El sistema crea automáticamente algunos enlaces duros entre directorios (los directorios `.` y `..` se crean automáticamente dentro de cada directorio).\n",
    "- El enlace duro creado a partir de otro, es independiente del «original», es decir, no es más importante el «original» que el nuevo.\n",
    "- Los cambios realizados desde un enlace duro afecta al contenido, por lo que el resultado será visible desde cualquier otro enlace duro.\n",
    "- Si se elimina uno de los enlaces duros, la información no es liberada, hasta que el último enlace duro haya sido eliminado.\n",
    "\n",
    "Un archivo de tipo directorio es una lista de enlaces duros. En otras palabras, es una tabla que contiene a los números enteros que representan a los inodos junto a sus etiquetas.\n",
    "\n",
    "_Enlace simbólico_\n",
    "\n",
    "- Un enlace simbólico, conecta a un archivo con otro, mediante su etiqueta (nombre dentro de algún directorio).\n",
    "- En este caso si existe diferencia entre uno y otro.\n",
    "- Si el original cambia de nombre, es movido o eliminado, el enlace simbólico »queda roto», ya que este desconoce el inodo y por tanto no puede acceder a la información del archivo original.\n",
    "- Desde un enlace simbólico se puede modificar la información del original.\n",
    "- A un enlace simbólico, se le pueden asignar un propietario, un grupo y permisos distintos a los del archivo original.\n",
    "- Se pueden crear enlaces simbólicos con `ln -s`. Si son directorios, no es necesaria la opción -s, ya que en este caso sólo se pueden creare enlaces simbólicos.\n",
    "- Se pueden crear enlaces simbólicos a archivos presentes en otra partición e incluso a archivos en equipos remotos.\n",
    "- Los enlaces simbólicos, se pueden usar para conectar una aplicación instalada en un directorio que no está en la variable PATH, con otro que sí lo esté. "
   ]
  },
  {
   "cell_type": "code",
   "execution_count": null,
   "metadata": {},
   "outputs": [],
   "source": [
    "ls -liha / #Con la opción -i, se añade el número de inodo."
   ]
  },
  {
   "cell_type": "code",
   "execution_count": null,
   "metadata": {},
   "outputs": [],
   "source": [
    "ls -lhia /tmp"
   ]
  },
  {
   "cell_type": "code",
   "execution_count": null,
   "metadata": {},
   "outputs": [],
   "source": [
    "mkdir /tmp/dir1 #Se crea /tmp/dir1\n",
    "tree /tmp/dir1\n",
    "echo -e \"\\n---------\\n\"\n",
    "echo -e \"enlace duro de /tmp/dir1  y /tmp dentro de /tmp/dir1\\n.\"\n",
    "ls -ilhaR /tmp/dir1"
   ]
  },
  {
   "cell_type": "code",
   "execution_count": null,
   "metadata": {},
   "outputs": [],
   "source": [
    "# Los inodos de /tmp y de /tmp/dir\n",
    "echo -e \"\\nenlace duro de /tmp dentro de /.\"\n",
    "ls -i / | grep tmp\n",
    "echo -e \"\\nenlace duro de /tmp/dir1 dentro de /tmp.\"\n",
    "ls -i /tmp | grep dir1"
   ]
  },
  {
   "cell_type": "code",
   "execution_count": null,
   "metadata": {},
   "outputs": [],
   "source": [
    "#Se crean dos subdirectorios.\n",
    "mkdir /tmp/dir1/dir2 /tmp/dir1/dir3\n",
    "\n",
    "tree /tmp/dir1\n",
    "echo -e \"\\n---------\\n\"\n",
    "ls -ilhaR /tmp/dir1"
   ]
  },
  {
   "cell_type": "code",
   "execution_count": null,
   "metadata": {},
   "outputs": [],
   "source": [
    "#Se crea un archivo con contenido dentro de /tmp/dir1/dir2/.\n",
    "echo \"contenido inicial archivo 1\" > /tmp/dir1/dir2/arc1\n",
    "tree /tmp/dir1\n",
    "ls -ilhaR /tmp/dir1"
   ]
  },
  {
   "cell_type": "code",
   "execution_count": null,
   "metadata": {},
   "outputs": [],
   "source": [
    "#Se crea enlace duro en el mismo directorio con otro nombre.\n",
    "ln /tmp/dir1/dir2/arc1 /tmp/dir1/dir2/arc1-hl1\n",
    "#Se crea enlace duro en otro directorio con el mismo nombre que el «original».\n",
    "ln /tmp/dir1/dir2/arc1 /tmp/dir1/dir3/arc1\n",
    "#Se crea enlace simbólico en otro directorio con un nombre distinto al original.\n",
    "ln -s /tmp/dir1/dir2/arc1 /tmp/dir1/dir3/arc1-sl\n",
    "\n",
    "tree /tmp/dir1\n",
    "echo -e \"\\n---------\\n\"\n",
    "ls -ilhaR /tmp/dir1"
   ]
  },
  {
   "cell_type": "code",
   "execution_count": null,
   "metadata": {},
   "outputs": [],
   "source": [
    "#Cambiamos los permisos del enlace duro.\n",
    "chmod +x /tmp/dir1/dir2/arc1-hl1\n",
    "ls -ilhaR /tmp/dir1"
   ]
  },
  {
   "cell_type": "code",
   "execution_count": null,
   "metadata": {},
   "outputs": [],
   "source": [
    "#Para buscar todos los enlaces duros.\n",
    "find /tmp/dir1 -samefile \"/tmp/dir1/dir2/arc1\""
   ]
  },
  {
   "cell_type": "code",
   "execution_count": null,
   "metadata": {},
   "outputs": [],
   "source": [
    "#Para buscar todos los enlaces (duros o simbólicos).\n",
    "find -L /tmp/dir1 -samefile \"/tmp/dir1/dir2/arc1\""
   ]
  },
  {
   "cell_type": "code",
   "execution_count": null,
   "metadata": {},
   "outputs": [],
   "source": [
    "#Modificamos el archivo original desde los enlaces creados.\n",
    "echo \"añadido desde /tmp/dir1/dir2/arc1-hl1\" >> /tmp/dir1/dir2/arc1-hl1\n",
    "echo \"añadido desde /tmp/dir1/dir3/arc1-sl\" >> /tmp/dir1/dir3/arc1-sl\n",
    "echo \"añadido desde /tmp/dir1/dir3/arc1\" >> /tmp/dir1/dir3/arc1\n",
    "cat /tmp/dir1/dir2/arc1\n",
    "cat /tmp/dir1/dir2/arc1-hl1\n",
    "cat /tmp/dir1/dir3/arc1-sl\n",
    "cat /tmp/dir1/dir3/arc1"
   ]
  },
  {
   "cell_type": "code",
   "execution_count": null,
   "metadata": {},
   "outputs": [],
   "source": [
    "#¿Que pasa si borramos el original?\n",
    "rm /tmp/dir1/dir2/arc1\n",
    "cat /tmp/dir1/dir2/arc1\n",
    "cat /tmp/dir1/dir2/arc1-hl1\n",
    "cat /tmp/dir1/dir3/arc1-sl\n",
    "cat /tmp/dir1/dir3/arc1"
   ]
  },
  {
   "cell_type": "code",
   "execution_count": null,
   "metadata": {},
   "outputs": [],
   "source": [
    "ls -ilhaR /tmp/dir1"
   ]
  },
  {
   "cell_type": "markdown",
   "metadata": {},
   "source": [
    "###### Enlaces simbólicos como alternativa a modificar la variable PATH"
   ]
  },
  {
   "cell_type": "markdown",
   "metadata": {},
   "source": [
    "```bash\n",
    "#Habilitar Julia para todos los usuarios.\n",
    "sudo ln -s /opt/julia/julia-1.5.2/bin/julia /usr/local/bin/julia\n",
    "\n",
    "#Para Anaconda y Jupyter para todos los usuarios.\n",
    "sudo ln -s /opt/anaconda3/bin/anaconda-navigator /usr/local/bin/condanav\n",
    "sudo ln -s /opt/anaconda3/bin/conda /usr/local/bin/conda\n",
    "sudo ln -s /opt/anaconda3/bin/jupyter-notebook /usr/local/bin/jnote\n",
    "\n",
    "#Igual que los anteriores, pero sólo para el usuario actual.\n",
    "ln -s /opt/julia/julia-1.5.2/bin/julia ~/.local/bin/julia\n",
    "sudo ln -s /opt/anaconda3/bin/anaconda-navigator ~/.local/bin/condanav\n",
    "sudo ln -s /opt/anaconda3/bin/conda ~/.local/bin/conda\n",
    "sudo ln -s /opt/anaconda3/bin/jupyter-notebook ~/.local/bin/jnote\n",
    "\n",
    "#Eliminar los enlaces para todos los usuarios.\n",
    "sudo rm /usr/local/bin/julia\n",
    "sudo rm /usr/local/bin/condanav\n",
    "sudo rm /usr/local/bin/conda\n",
    "sudo rm /usr/local/bin/jnote\n",
    "\n",
    "#Eliminar los enlaces para el usuario actual.\n",
    "rm ~/.local/bin/julia\n",
    "rm ~/.local/bin/condanav\n",
    "rm ~/.local/bin/conda\n",
    "rm ~/.local/bin/jnote\n",
    "```"
   ]
  },
  {
   "cell_type": "markdown",
   "metadata": {},
   "source": [
    "#### Ejemplos de como se pueden ejecutar cálculos desde Bash con Maxima, Python y Julia"
   ]
  },
  {
   "cell_type": "code",
   "execution_count": null,
   "metadata": {},
   "outputs": [],
   "source": [
    "echo \"a+a;\" | maxima -q --very-quiet"
   ]
  },
  {
   "cell_type": "code",
   "execution_count": null,
   "metadata": {},
   "outputs": [],
   "source": [
    "echo \"print(1+1)\" | python"
   ]
  },
  {
   "cell_type": "code",
   "execution_count": null,
   "metadata": {},
   "outputs": [],
   "source": [
    "echo \"println(1+1)\" | julia"
   ]
  },
  {
   "cell_type": "code",
   "execution_count": null,
   "metadata": {},
   "outputs": [],
   "source": []
  }
 ],
 "metadata": {
  "kernelspec": {
   "display_name": "Bash",
   "language": "bash",
   "name": "bash"
  },
  "language_info": {
   "codemirror_mode": "shell",
   "file_extension": ".sh",
   "mimetype": "text/x-sh",
   "name": "bash"
  }
 },
 "nbformat": 4,
 "nbformat_minor": 4
}
