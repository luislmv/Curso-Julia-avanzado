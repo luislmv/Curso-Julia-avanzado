{
 "cells": [
  {
   "cell_type": "markdown",
   "metadata": {},
   "source": [
    "# Tópicos avanzados de programación con Julia"
   ]
  },
  {
   "cell_type": "markdown",
   "metadata": {},
   "source": [
    "## _Sistemas Operativos (Continuación)_\n",
    "\n"
   ]
  },
  {
   "cell_type": "markdown",
   "metadata": {},
   "source": [
    " "
   ]
  },
  {
   "cell_type": "markdown",
   "metadata": {},
   "source": [
    "### Temario para cubrir el objetivo 1"
   ]
  },
  {
   "cell_type": "markdown",
   "metadata": {},
   "source": [
    "__Recomendaciones generales y buenas prácticas al crear el entorno de desarrollo.__\n",
    "- Sistemas operativos.\n",
    "  - Administración básica de sistemas GNU/Linux.\n",
    "    - Manipulación de archivos y directorios\n",
    "      - Creación de archivos y directorios desde la linea de comandos.\n",
    "      - Eliminación de archivos y directorios desde la linea de comandos.\n",
    "      - Operaciones con archivos y directorios (copiar, mover y renombrar) desde la linea de comandos.\n",
    "    - Usuarios, grupos y permisos.\n",
    "      - Cuantas de usuario.\n",
    "      - Grupos.\n",
    "      - Manipulando  usuarios y grupos.\n",
    "        - Agregar usuarios nuevos\n",
    "        - Modificar y eliminar usuarios.\n",
    "        - Añadir y eliminar usuarios de un grupo.\n",
    "        - Modificar y eliminar un grupo.\n",
    "      - Permisos.\n",
    "        - Cambiar el usuario y el grupo  al que pertenece un archivo.\n",
    "        - Cambiar los permisos de los archivos.\n",
    "      "
   ]
  },
  {
   "cell_type": "markdown",
   "metadata": {},
   "source": [
    "### Administración básica de sistemas GNU/Linux"
   ]
  },
  {
   "cell_type": "markdown",
   "metadata": {},
   "source": [
    "En esta sección, vamos a estudiar algunas de las tareas administrativas que podrían ser necesarias durante el proceso de desarrollo de la librería."
   ]
  },
  {
   "cell_type": "markdown",
   "metadata": {},
   "source": [
    "#### Manipulación de archivos y directorios"
   ]
  },
  {
   "cell_type": "markdown",
   "metadata": {},
   "source": [
    "##### Creación de archivos y directorios desde la linea de comandos"
   ]
  },
  {
   "cell_type": "code",
   "execution_count": null,
   "metadata": {},
   "outputs": [],
   "source": [
    "touch /tmp/arch1 #crea archivo vacío."
   ]
  },
  {
   "cell_type": "code",
   "execution_count": null,
   "metadata": {},
   "outputs": [],
   "source": [
    "ls /tmp #para ver el archivo nuevo."
   ]
  },
  {
   "cell_type": "code",
   "execution_count": null,
   "metadata": {},
   "outputs": [],
   "source": [
    "cat arch1 #par ver el contenido del archivo nuevo."
   ]
  },
  {
   "cell_type": "code",
   "execution_count": null,
   "metadata": {},
   "outputs": [],
   "source": [
    "cd /tmp \n",
    "echo \"Contenido del archivo documento arch1\" > arch1 #añadimos info. al archivo.\n",
    "cat arch1"
   ]
  },
  {
   "cell_type": "code",
   "execution_count": null,
   "metadata": {},
   "outputs": [],
   "source": [
    "echo \"Nuevo contenido del archivo documento arch1\" > arch1\n",
    "cat arch1"
   ]
  },
  {
   "cell_type": "code",
   "execution_count": null,
   "metadata": {},
   "outputs": [],
   "source": [
    "echo \"Contenido del archivo documento arch1\" > arch1\n",
    "cat arch1"
   ]
  },
  {
   "cell_type": "code",
   "execution_count": null,
   "metadata": {},
   "outputs": [],
   "source": [
    "echo \"Nuevo contenido del archivo documento arch1\" >> arch1 #añade sin borrar.\n",
    "cat arch1"
   ]
  },
  {
   "cell_type": "code",
   "execution_count": null,
   "metadata": {},
   "outputs": [],
   "source": [
    "echo \"Se crea y se añade este contenido a arch2\" > arch2\n",
    "echo \"agregamos otra linea a arch2\" >> arch2\n",
    "ls arch*\n",
    "cat arch2"
   ]
  },
  {
   "cell_type": "markdown",
   "metadata": {},
   "source": [
    "cat > arch3\n",
    "\n",
    "Escribimos los siguiente (Presionamos __Enter__ para separar las lineas):\n",
    "\n",
    "1\n",
    "\n",
    "2\n",
    "\n",
    "3\n",
    "\n",
    "4\n",
    "\n",
    "Para salir:\n",
    "\n",
    "__Ctrl+d__"
   ]
  },
  {
   "cell_type": "code",
   "execution_count": null,
   "metadata": {},
   "outputs": [],
   "source": [
    "cat arch3"
   ]
  },
  {
   "cell_type": "code",
   "execution_count": null,
   "metadata": {},
   "outputs": [],
   "source": [
    "#añade la info después de esta linea a arch4.\n",
    "cat << final > /tmp/arch4\n",
    "primera linea arch4\n",
    "segunda linea $USER arch4\n",
    "   .\n",
    "   .  \n",
    "   .\n",
    "última linea de arch4\n",
    "final\n",
    "\n",
    "#al llegar aquí envía todo lo anterior a arch4."
   ]
  },
  {
   "cell_type": "code",
   "execution_count": null,
   "metadata": {},
   "outputs": [],
   "source": [
    "ls arch*\n",
    "cat arch4"
   ]
  },
  {
   "cell_type": "code",
   "execution_count": null,
   "metadata": {},
   "outputs": [],
   "source": [
    "cat arch1 > arch4 #copia el contenido de arch1 a arch4"
   ]
  },
  {
   "cell_type": "code",
   "execution_count": null,
   "metadata": {},
   "outputs": [],
   "source": [
    "cat arch4"
   ]
  },
  {
   "cell_type": "code",
   "execution_count": null,
   "metadata": {},
   "outputs": [],
   "source": [
    "#copia el contenido de arch1 y arch2 a arch3 sin borrar.\n",
    "cat arch1 arch2 >> arch3 \n",
    "cat arch3"
   ]
  },
  {
   "cell_type": "markdown",
   "metadata": {},
   "source": [
    "sudo apt install libtext-lorem-perl"
   ]
  },
  {
   "cell_type": "code",
   "execution_count": null,
   "metadata": {},
   "outputs": [],
   "source": [
    "lorem -p40 > arch5 #crea arch5 con 40 párrafos. \n",
    "cat arch5"
   ]
  },
  {
   "cell_type": "code",
   "execution_count": null,
   "metadata": {},
   "outputs": [],
   "source": [
    "head arch5 #las primeras 10 lineas."
   ]
  },
  {
   "cell_type": "code",
   "execution_count": null,
   "metadata": {},
   "outputs": [],
   "source": [
    "head -n3 arch5 #las primeras 3."
   ]
  },
  {
   "cell_type": "code",
   "execution_count": null,
   "metadata": {},
   "outputs": [],
   "source": [
    "tail arch5 #las últimas 10."
   ]
  },
  {
   "cell_type": "code",
   "execution_count": null,
   "metadata": {},
   "outputs": [],
   "source": [
    "tail -n3 arch5 #las últimas 3."
   ]
  },
  {
   "cell_type": "markdown",
   "metadata": {},
   "source": [
    "```\n",
    "more arch5 #muestra archivos largos paginados.\n",
    "\n",
    "less arch5 #igual, pero interactivo.\n",
    "```"
   ]
  },
  {
   "cell_type": "code",
   "execution_count": null,
   "metadata": {},
   "outputs": [],
   "source": [
    "wc arch5 #muestra número de lineas, de palabras y de caracteres de un archivo."
   ]
  },
  {
   "cell_type": "code",
   "execution_count": null,
   "metadata": {},
   "outputs": [],
   "source": [
    "cat arch5 | grep nemo #filtramos por nemo."
   ]
  },
  {
   "cell_type": "code",
   "execution_count": null,
   "metadata": {},
   "outputs": [],
   "source": [
    "grep nemo arch5 #igual que el anterior."
   ]
  },
  {
   "cell_type": "code",
   "execution_count": null,
   "metadata": {},
   "outputs": [],
   "source": [
    "grep -c nemo arch5 #número de lineas."
   ]
  },
  {
   "cell_type": "code",
   "execution_count": null,
   "metadata": {},
   "outputs": [],
   "source": [
    "grep nemo arch5 | grep -v et #filtra por nemo ignora las lineas que contengan et."
   ]
  },
  {
   "cell_type": "code",
   "execution_count": null,
   "metadata": {},
   "outputs": [],
   "source": [
    "grep nemo arch5 | grep -vc et #cuenta las lineas de la salida anterior."
   ]
  },
  {
   "cell_type": "code",
   "execution_count": null,
   "metadata": {},
   "outputs": [],
   "source": [
    "ps fax #lista de procesos."
   ]
  },
  {
   "cell_type": "code",
   "execution_count": null,
   "metadata": {},
   "outputs": [],
   "source": [
    "ps fax | grep #firefox filtramos con firefox."
   ]
  },
  {
   "cell_type": "code",
   "execution_count": null,
   "metadata": {},
   "outputs": [],
   "source": [
    "ps fax | grep firefox | grep -v grep #elimina de la lista el proceso de filtrado grep."
   ]
  },
  {
   "cell_type": "markdown",
   "metadata": {},
   "source": [
    "```\n",
    "nano arch5 #para editar archivos de manera interactiva.\n",
    "```\n",
    "También son muy comunes vi y vim."
   ]
  },
  {
   "cell_type": "markdown",
   "metadata": {},
   "source": [
    "##### Creación de archivos y directorios desde la linea de comandos"
   ]
  },
  {
   "cell_type": "code",
   "execution_count": null,
   "metadata": {},
   "outputs": [],
   "source": [
    "mkdir dir1 #crea a dir1\n",
    "tree /tmp/dir1"
   ]
  },
  {
   "cell_type": "code",
   "execution_count": null,
   "metadata": {},
   "outputs": [],
   "source": [
    "cd dir1\n",
    "mkdir dir2 #crea a dir2 dentro de dir1.\n",
    "tree /tmp/dir1"
   ]
  },
  {
   "cell_type": "code",
   "execution_count": null,
   "metadata": {},
   "outputs": [],
   "source": [
    "mkdir dir3/dir4 #falla porque no existe dir3."
   ]
  },
  {
   "cell_type": "code",
   "execution_count": null,
   "metadata": {},
   "outputs": [],
   "source": [
    "mkdir -p dir3/dir4 #ahora sí funciona.\n",
    "tree /tmp/dir1"
   ]
  },
  {
   "cell_type": "markdown",
   "metadata": {},
   "source": [
    "##### Eliminación de archivos y directorios desde la linea de comandos"
   ]
  },
  {
   "cell_type": "code",
   "execution_count": null,
   "metadata": {},
   "outputs": [],
   "source": [
    "rmdir /tmp/dir1 #falla porque no está vacío."
   ]
  },
  {
   "cell_type": "code",
   "execution_count": null,
   "metadata": {},
   "outputs": [],
   "source": [
    "rm /tmp/dir1 #falla porque es un directorio."
   ]
  },
  {
   "cell_type": "code",
   "execution_count": null,
   "metadata": {},
   "outputs": [],
   "source": [
    "rm -r /tmp/dir1 #ahora si funciona.\n",
    "tree /tmp/dir1"
   ]
  },
  {
   "cell_type": "markdown",
   "metadata": {},
   "source": [
    "##### Operaciones con archivos y directorios (copiar, mover y renombrar) desde la linea de comandos"
   ]
  },
  {
   "cell_type": "code",
   "execution_count": null,
   "metadata": {},
   "outputs": [],
   "source": [
    "#creamos todo de nuevo.\n",
    "cd /tmp\n",
    "mkdir -p /tmp/dir1/dir2 /tmp/dir1/dir3/dir4\n",
    "lorem -p10 > /tmp/dir1/dir2/arch1\n",
    "tree /tmp/dir1"
   ]
  },
  {
   "cell_type": "code",
   "execution_count": null,
   "metadata": {},
   "outputs": [],
   "source": [
    "cp /tmp/dir1/dir2/arch1 /tmp/dir1/dir3/dir4/arch1 #copia arch1 en dir4.\n",
    "tree /tmp/dir1"
   ]
  },
  {
   "cell_type": "code",
   "execution_count": null,
   "metadata": {
    "scrolled": true
   },
   "outputs": [],
   "source": [
    "cd ./dir1/dir2 #nos movemos a dir2\n",
    "cp arch1 ../dir3/dir4/arch1-copia #copiamos arch1 a dir4 con otro nombre.\n",
    "tree /tmp/dir1"
   ]
  },
  {
   "cell_type": "code",
   "execution_count": null,
   "metadata": {},
   "outputs": [],
   "source": [
    "cp /tmp/dir1/dir3 /tmp/dir1/dir2 #falla al intentar copiar dir3 en dir2.\n",
    "tree /tmp/dir1"
   ]
  },
  {
   "cell_type": "code",
   "execution_count": null,
   "metadata": {},
   "outputs": [],
   "source": [
    "cp -r /tmp/dir1/dir3 /tmp/dir1/dir2 #ahora sí funciona.\n",
    "tree /tmp/dir1"
   ]
  },
  {
   "cell_type": "code",
   "execution_count": null,
   "metadata": {},
   "outputs": [],
   "source": [
    "rm -r /tmp/dir1/dir2/dir3 #elimina a dir3 de dir2.\n",
    "tree /tmp/dir1"
   ]
  },
  {
   "cell_type": "code",
   "execution_count": null,
   "metadata": {},
   "outputs": [],
   "source": [
    "#mueve a arch1-copia a dir2 con otro nombre.\n",
    "mv /tmp/dir1/dir3/dir4/arch1-copia /tmp/dir1/dir2/arch1-copia2\n",
    "tree /tmp/dir1"
   ]
  },
  {
   "cell_type": "code",
   "execution_count": null,
   "metadata": {},
   "outputs": [],
   "source": [
    "mv /tmp/dir1/dir3 /tmp/dir1/dir2 #mueve dir3 a dir2.\n",
    "tree /tmp/dir1"
   ]
  },
  {
   "cell_type": "code",
   "execution_count": null,
   "metadata": {},
   "outputs": [],
   "source": [
    "#cambia el nombre de arch1 en dir4 a arch4.\n",
    "mv /tmp/dir1/dir2/dir3/dir4/arch1 /tmp/dir1/dir2/dir3/dir4/arch4\n",
    "tree /tmp/dir1"
   ]
  },
  {
   "cell_type": "markdown",
   "metadata": {},
   "source": [
    "#### Usuarios, grupos y permisos"
   ]
  },
  {
   "cell_type": "markdown",
   "metadata": {},
   "source": [
    "##### Cuantas de usuario"
   ]
  },
  {
   "cell_type": "markdown",
   "metadata": {},
   "source": [
    "- Súper Usuario  (root).\n",
    "  - Tiene privilegios elevados permanentemente, para hacerlo TODO (o casi) dentro del sistema.\n",
    "  - Puede gestionar aplicaciones y actualizaciones del sistema.\n",
    "  - Puede gestionar dispositivos.\n",
    "  - Puede gestionar los privilegios de otros usuarios.\n",
    "    \n",
    "  - Por razones de seguridad, esta cuenta está desactivada por defecto en __Ubuntu__.\n",
    "    Su __uid__ = 0.\n",
    "- Usuarios comunes.\n",
    "  - Inician sesión sin privilegios de administrador.\n",
    "  - Administración de sus propios datos en __/home/su-nombre-de-usuario__ (si exite).\n",
    "  - No tienen privilegios para configuraciones globales.\n",
    "  - No pueden gestionar dispositivos (sólo en __/media/su-nombre-de-usuario__).\n",
    "  - No pueden instalar ni actualizar configuraciones.\n",
    "  - No pueden manipular archivos de otros usuarios.\n",
    "    \n",
    "Tipos de usuarios comunes\n",
    "\n",
    "- Usuarios comunes humanos.\n",
    "  - Es el tipo de cuanta destinada para que las personas inicien una sesión dentro del sistema.\n",
    "  - Tienen un directorio personal (__/home/su-nombre-de-usuario__)\n",
    "  - Su __uid__ $\\geq$ 1000.\n",
    "  - Usuarios Administradores. \n",
    "    - Pertenecen a un grupo especial «__sudo__ (__SU__peruser __DO__)» que les permite realizar tareas administrativas.\n",
    "    - Estos usuarios pueden usar el comando sudo (actúa o se hace pasar temporalmente por root) para realizar dichas tareas.\n",
    "    - El primer usuario que se crea al instalar Ubuntu, es el primer usuario común administrador.\n",
    "    \n",
    "  - Usuarios Estándares.\n",
    "    - No pertenecen al grupo root, por tanto no pueden realizar ninguna tarea administrativa.\n",
    "    - Este es el tipo de cuanta que se crean por defecto, después del primer usuario (durante la instalación).\n",
    "    \n",
    "- Usuarios no humanos.\n",
    "  - Los servicios como (sddm, systemd-network, proxy) necesitan tener ciertos privilegios para funcionar. Estos privilegios son distintos de nuestro usuario y del root.\n",
    "  - Su __uid__ $<$ 1000.\n",
    "  "
   ]
  },
  {
   "cell_type": "markdown",
   "metadata": {},
   "source": [
    "##### Grupos"
   ]
  },
  {
   "cell_type": "markdown",
   "metadata": {},
   "source": [
    "Se usan para darle privilegios especiales a un conjunto determinado de usuarios. Cada usuario tiene asociado un grupo primario, que generalmente coincide con su nombre de usuario."
   ]
  },
  {
   "cell_type": "markdown",
   "metadata": {},
   "source": [
    "##### ¿Donde se almacenan los usuarios y grupos?"
   ]
  },
  {
   "cell_type": "markdown",
   "metadata": {},
   "source": [
    "Los datos las cuentas y los grupos se almacenan en cuatro archivos. Cada linea representa a un usuario o a un grupo. Cada linea está separada por campos delimitados por «__:__». \n",
    "\n",
    "- Usuarios\n",
    "  - __/etc/passwd__\n",
    "    - Almacena las cuentas de usuario.\n",
    "  - __/etc/shadow__\n",
    "    -  Almacena los datos para la validación de las cuentas de los usuarios (la contraseña cifrada, etc).\n",
    "- Grupos\n",
    "  - __/etc/group__\n",
    "    - Almacena los grupos y los usuarios miembros.\n",
    "  - __/etc/gshadow__\n",
    "    - Almacena los datos para la validación de los grupos.\n",
    "    \n",
    "La estructura de los archivos es bastante simple y pueden saber más de ella [aquí](https://nebul4ck.wordpress.com/2015/06/10/archivos-de-configuracion-para-usuarios-y-grupos-linux/) y [aquí](https://santi-gf.github.io/usuarios-grupos/)."
   ]
  },
  {
   "cell_type": "markdown",
   "metadata": {},
   "source": [
    "##### Manipulando  usuarios y grupos"
   ]
  },
  {
   "cell_type": "markdown",
   "metadata": {},
   "source": [
    "###### Agregar usuarios nuevos"
   ]
  },
  {
   "cell_type": "markdown",
   "metadata": {},
   "source": [
    "1. Crear la entrada en __/etc/passwd__.\n",
    "2. Crear la entrada en __/etc/shadow__.\n",
    "3. Crear la entrada en __/etc/group__ (para el grupo primario).\n",
    "4. Crear la entrada en __/etc/gshadow__ (para el grupo primario).\n",
    "5. Crear el directorio personal (__/home/nombre-de-usuario__).\n",
    "6. Copiar los archivos personales de configuración (__.bash_logout__,  __.bashrc de__ y __.profile__) desde __/etc/skel__ al directorio personal.\n",
    "7. Cambiar los permisos al directorio personal.\n",
    "8. Cambiar la contraseña cifrada."
   ]
  },
  {
   "cell_type": "code",
   "execution_count": null,
   "metadata": {},
   "outputs": [],
   "source": [
    "sudo adduser pepe #crea el usuario pepe de forma interactiva."
   ]
  },
  {
   "cell_type": "code",
   "execution_count": null,
   "metadata": {},
   "outputs": [],
   "source": [
    "#crea a juan de forma automática, sin contraseña. \n",
    "sudo adduser --disabled-password --gecos \"Juan Delgado\" juan\n",
    "sudo passwd juan #Asigna una contraseña de forma interactiva."
   ]
  },
  {
   "cell_type": "code",
   "execution_count": null,
   "metadata": {},
   "outputs": [],
   "source": [
    "#crea un usuario y su contraseña de forma interactiva.\n",
    "sudo adduser --disabled-password --gecos \"\" --shell \"/bin/sh\" maria\n",
    "echo \"maria:mariap\" | sudo chpasswd\n",
    "sudo passwd -e maria #Se obliga a que el usuario actualice la contraseña al iniciar."
   ]
  },
  {
   "cell_type": "markdown",
   "metadata": {},
   "source": [
    "###### Modificar y eliminar usuarios"
   ]
  },
  {
   "cell_type": "markdown",
   "metadata": {},
   "source": [
    "sudo usermod -s \"/bin/bash\" maria\n",
    "Se cambia el shell por defecto."
   ]
  },
  {
   "cell_type": "markdown",
   "metadata": {},
   "source": [
    "Elimina sólo al usuario y conserva su directorio personal.\n",
    "```\n",
    "sudo deluser maria #elimina al usuario y sus datos.\n",
    "\n",
    "sudo deluser --remove-home maria\n",
    "```\n",
    "Con __--remove-all-files__ se elimina todo lo ue pertenezca al usuario (Esto es más general que __--remove-home__)."
   ]
  },
  {
   "cell_type": "markdown",
   "metadata": {},
   "source": [
    "###### Creación de grupos"
   ]
  },
  {
   "cell_type": "markdown",
   "metadata": {},
   "source": [
    "```\n",
    "sudo addgroup julia-dev #crea al grupo julia-dev.\n",
    "sudo addgroup grup-temp #crea al grupo grup-temp.\n",
    "```"
   ]
  },
  {
   "cell_type": "markdown",
   "metadata": {},
   "source": [
    "###### Añadir y eliminar usuarios de un grupo"
   ]
  },
  {
   "cell_type": "markdown",
   "metadata": {},
   "source": [
    "```\n",
    "sudo gpasswd -a maria sudo #añade a maria al grupo sudo. Esto la hace administradora.\n",
    "sudo gpasswd -d maria sudo #elimina a maria al grupo sudo. Esto la hace estándar.\n",
    "```"
   ]
  },
  {
   "cell_type": "markdown",
   "metadata": {},
   "source": [
    "Añade varios usuarios al grupo grup-temp.\n",
    "```\n",
    "sudo gpasswd -a pepe grup-temp\n",
    "sudo gpasswd -a juan grup-temp\n",
    "sudo gpasswd -a maria grup-temp\n",
    "sudo gpasswd -M pepe,juan,maria julia-dev #añade usuarios en una sola linea.\n",
    "```"
   ]
  },
  {
   "cell_type": "markdown",
   "metadata": {},
   "source": [
    "###### Modificar y eliminar un grupo"
   ]
  },
  {
   "cell_type": "markdown",
   "metadata": {},
   "source": [
    "```\n",
    "sudo groupmod -n grup-temp grup-temp-nuevo #cambia el nombre de grup-temp a grup-temp-nuevo.\n",
    "```"
   ]
  },
  {
   "cell_type": "markdown",
   "metadata": {},
   "source": [
    "```\n",
    "sudo delgroup grup-temp-nuevo #elimina al grupo grup-temp-nuevo.\n",
    "```"
   ]
  },
  {
   "cell_type": "markdown",
   "metadata": {},
   "source": [
    "##### Permisos"
   ]
  },
  {
   "cell_type": "code",
   "execution_count": null,
   "metadata": {},
   "outputs": [],
   "source": [
    "cd /tmp\n",
    "tree ./dir1"
   ]
  },
  {
   "cell_type": "code",
   "execution_count": null,
   "metadata": {},
   "outputs": [],
   "source": [
    "ls -lh /tmp | grep dir1 #para ver los permisos de dir1 y sus archivos.\n",
    "ls -lhR ./dir1"
   ]
  },
  {
   "cell_type": "markdown",
   "metadata": {},
   "source": [
    "<img src=\"img/per1.png\" width=\"40%\"/>"
   ]
  },
  {
   "cell_type": "markdown",
   "metadata": {},
   "source": [
    "###### Cambiar el usuario y el grupo  al que pertenece un archivo"
   ]
  },
  {
   "cell_type": "markdown",
   "metadata": {},
   "source": [
    "#cambiar el usuario y el grupo a pepe y a julia-dev respectivamente.\n",
    "```\n",
    "sudo chown pepe:julia-dev ./dir1/dir2/dir3/dir4/arch4\n",
    "```"
   ]
  },
  {
   "cell_type": "code",
   "execution_count": null,
   "metadata": {},
   "outputs": [],
   "source": [
    "ls -lh /tmp | grep dir1\n",
    "ls -lhR ./dir1"
   ]
  },
  {
   "cell_type": "markdown",
   "metadata": {},
   "source": [
    "```\n",
    "sudo chown -R pepe:julia-dev /tmp/dir1 #cambia (usr y grp) todo el contenido en dir1.\n",
    "```"
   ]
  },
  {
   "cell_type": "code",
   "execution_count": null,
   "metadata": {},
   "outputs": [],
   "source": [
    "ls -lh /tmp | grep dir1\n",
    "ls -lhR ./dir1"
   ]
  },
  {
   "cell_type": "markdown",
   "metadata": {},
   "source": [
    "<img src=\"img/per2.png\" width=\"50%\"/>"
   ]
  },
  {
   "cell_type": "markdown",
   "metadata": {},
   "source": [
    "###### Cambiar los permisos de los archivos"
   ]
  },
  {
   "cell_type": "markdown",
   "metadata": {
    "scrolled": true
   },
   "source": [
    "```\n",
    "#quita permiso de lectura a otros y añade permiso de ejecución al dueño.\n",
    "sudo chmod o-r,u+x ./dir1/dir2/dir3/dir4/arch4 \n",
    "\n",
    "#sólo añade permiso de ejecución al dueño.\n",
    "sudo chmod u+x ./dir1/dir2/arch1\n",
    "```"
   ]
  },
  {
   "cell_type": "code",
   "execution_count": null,
   "metadata": {},
   "outputs": [],
   "source": [
    "cat ./dir1/dir2/dir3/dir4/arch4"
   ]
  },
  {
   "cell_type": "code",
   "execution_count": null,
   "metadata": {},
   "outputs": [],
   "source": [
    "cat ./dir1/dir2/arch1"
   ]
  },
  {
   "cell_type": "markdown",
   "metadata": {},
   "source": [
    "¿Que pasa si le quito el permiso de ejecución a dir1?"
   ]
  },
  {
   "cell_type": "markdown",
   "metadata": {},
   "source": [
    "```\n",
    "sudo chmod u-x ./dir1 #quitamos permiso de ejecución al dueño.\n",
    "```"
   ]
  },
  {
   "cell_type": "code",
   "execution_count": null,
   "metadata": {
    "scrolled": false
   },
   "outputs": [],
   "source": [
    "ls -lh /tmp | grep dir1\n",
    "ls -lhR ./dir1"
   ]
  },
  {
   "cell_type": "code",
   "execution_count": null,
   "metadata": {},
   "outputs": [],
   "source": [
    "ls ./dir1"
   ]
  },
  {
   "cell_type": "markdown",
   "metadata": {},
   "source": [
    "Puedo ver el contenido de dir1, pero no el de dir2."
   ]
  },
  {
   "cell_type": "markdown",
   "metadata": {},
   "source": [
    "<img src=\"img/per3.jpg\" width=\"90%\"/>"
   ]
  },
  {
   "cell_type": "markdown",
   "metadata": {},
   "source": [
    "<img src=\"img/per4.png\" width=\"50%\"/>"
   ]
  },
  {
   "cell_type": "markdown",
   "metadata": {},
   "source": [
    "Podemos darle los permisos que queramos con un sólo número.\n",
    "```\n",
    "sudo chmod 775 ./dir1 \n",
    "```\n",
    "\n",
    "o bien: \n",
    "\n",
    "```\n",
    "sudo chmod 0775 ./dir1\n",
    "```"
   ]
  },
  {
   "cell_type": "code",
   "execution_count": null,
   "metadata": {},
   "outputs": [],
   "source": [
    "ls -lh /tmp | grep dir1\n",
    "ls -lhR ./dir1"
   ]
  },
  {
   "cell_type": "markdown",
   "metadata": {},
   "source": [
    "Dar permisos recursivamente a archivos o a directorios."
   ]
  },
  {
   "cell_type": "markdown",
   "metadata": {},
   "source": [
    "```\n",
    "sudo find ./dir1 -type f -exec chmod 664 {} \\; #a todos los archivos.\n",
    "```"
   ]
  },
  {
   "cell_type": "markdown",
   "metadata": {},
   "source": [
    "```\n",
    "sudo find ./dir1 -type d -exec chmod 775 {} \\; #a todos los directorios.\n",
    "```"
   ]
  },
  {
   "cell_type": "code",
   "execution_count": null,
   "metadata": {
    "scrolled": false
   },
   "outputs": [],
   "source": [
    "ls -lh /tmp | grep dir1\n",
    "ls -lhR ./dir1"
   ]
  },
  {
   "cell_type": "markdown",
   "metadata": {},
   "source": [
    "Pueden obtener [aquí](https://www.hostinger.mx/tutoriales/como-usar-comando-find-locate-en-linux/) más información sobre el uso de find."
   ]
  }
 ],
 "metadata": {
  "kernelspec": {
   "display_name": "Bash",
   "language": "bash",
   "name": "bash"
  },
  "language_info": {
   "codemirror_mode": "shell",
   "file_extension": ".sh",
   "mimetype": "text/x-sh",
   "name": "bash"
  }
 },
 "nbformat": 4,
 "nbformat_minor": 4
}
